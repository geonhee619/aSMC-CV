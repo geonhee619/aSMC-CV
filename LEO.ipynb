{
 "cells": [
  {
   "cell_type": "code",
   "execution_count": 1,
   "id": "4bccae1c-df4c-4572-b9a2-3d6144c727a6",
   "metadata": {},
   "outputs": [
    {
     "name": "stdout",
     "output_type": "stream",
     "text": [
      "Julia Version 1.10.4\n",
      "Commit 48d4fd4843 (2024-06-04 10:41 UTC)\n",
      "Build Info:\n",
      "  Official https://julialang.org/ release\n",
      "Platform Info:\n",
      "  OS: Windows (x86_64-w64-mingw32)\n",
      "  CPU: 24 × 12th Gen Intel(R) Core(TM) i9-12900K\n",
      "  WORD_SIZE: 64\n",
      "  LIBM: libopenlibm\n",
      "  LLVM: libLLVM-15.0.7 (ORCJIT, alderlake)\n",
      "Threads: 12 default, 0 interactive, 6 GC (on 24 virtual cores)\n",
      "Environment:\n",
      "  JULIA_NUM_THREADS = 12\n"
     ]
    }
   ],
   "source": [
    "versioninfo()"
   ]
  },
  {
   "cell_type": "code",
   "execution_count": 2,
   "id": "fb62982b-4699-4b45-9587-98ed53b8a211",
   "metadata": {},
   "outputs": [
    {
     "name": "stderr",
     "output_type": "stream",
     "text": [
      "\u001b[32m\u001b[1m  Activating\u001b[22m\u001b[39m project at `C:\\Users\\o6m1g\\Documents\\GitHub\\SMC-LGO-CV-private`\n"
     ]
    },
    {
     "name": "stdout",
     "output_type": "stream",
     "text": [
      "\u001b[32m\u001b[1mStatus\u001b[22m\u001b[39m `C:\\Users\\o6m1g\\Documents\\GitHub\\SMC-LGO-CV-private\\Project.toml`\n",
      "  \u001b[90m[0bf59076] \u001b[39mAdvancedHMC v0.8.0\n",
      "  \u001b[90m[336ed68f] \u001b[39mCSV v0.10.15\n",
      "  \u001b[90m[a93c6f00] \u001b[39mDataFrames v1.7.0\n",
      "  \u001b[90m[31c24e10] \u001b[39mDistributions v0.25.120\n",
      "  \u001b[90m[4138dd39] \u001b[39mJLD v0.13.5\n",
      "  \u001b[90m[b964fa9f] \u001b[39mLaTeXStrings v1.4.0\n",
      "  \u001b[90m[6fdf6af0] \u001b[39mLogDensityProblems v2.1.2\n",
      "  \u001b[90m[86f7a689] \u001b[39mNamedArrays v0.10.4\n",
      "  \u001b[90m[ce719bf2] \u001b[39mPSIS v0.9.8\n",
      "  \u001b[90m[91a5bcdd] \u001b[39mPlots v1.40.16\n",
      "  \u001b[90m[92933f4c] \u001b[39mProgressMeter v1.10.4\n",
      "  \u001b[90m[f2b01f46] \u001b[39mRoots v2.2.8\n",
      "  \u001b[90m[2913bbd2] \u001b[39mStatsBase v0.34.5\n",
      "  \u001b[90m[4c63d2b9] \u001b[39mStatsFuns v1.5.0\n",
      "  \u001b[90m[f3b207a7] \u001b[39mStatsPlots v0.15.7\n",
      "  \u001b[90m[fce5fe82] \u001b[39mTuring v0.39.4\n",
      "  \u001b[90m[ade2ca70] \u001b[39mDates\n",
      "  \u001b[90m[37e2e46d] \u001b[39mLinearAlgebra\n",
      "  \u001b[90m[9a3f8284] \u001b[39mRandom\n"
     ]
    }
   ],
   "source": [
    "using Pkg\n",
    "Pkg.activate(\".\")\n",
    "Pkg.instantiate()\n",
    "Pkg.status()"
   ]
  },
  {
   "cell_type": "markdown",
   "id": "5e6f922e-4f98-44b9-9fbe-2eadb2b7fbfe",
   "metadata": {},
   "source": [
    "# Packages"
   ]
  },
  {
   "cell_type": "code",
   "execution_count": 3,
   "id": "049349e3-2f33-4690-9ddf-f23e91b58d79",
   "metadata": {},
   "outputs": [],
   "source": [
    "include(\"Init.jl\")"
   ]
  },
  {
   "cell_type": "code",
   "execution_count": null,
   "id": "0f4000f2-c97d-4554-9091-a1bed8b1c3f0",
   "metadata": {},
   "outputs": [],
   "source": [
    "RUN_MCMC = false\n",
    "RUN_aSMC = true;"
   ]
  },
  {
   "cell_type": "code",
   "execution_count": 4,
   "id": "12100237-db4f-4b99-b271-446ff1866626",
   "metadata": {},
   "outputs": [],
   "source": [
    "# Tag by timestamp\n",
    "SESSION = Dates.format(now(), \"yyyy-mm-dd-HH-MM-SS\");"
   ]
  },
  {
   "cell_type": "markdown",
   "id": "d09b4109-c2dc-4683-84f6-287cda7ed25c",
   "metadata": {},
   "source": [
    "# Data"
   ]
  },
  {
   "cell_type": "code",
   "execution_count": 5,
   "id": "511c270c-d64e-4df3-9072-28ffc9a4ffcd",
   "metadata": {},
   "outputs": [
    {
     "data": {
      "text/plain": [
       "generate_data (generic function with 2 methods)"
      ]
     },
     "execution_count": 5,
     "metadata": {},
     "output_type": "execute_result"
    }
   ],
   "source": [
    "# Load data\n",
    "df = CSV.read(joinpath(\"data\", \"yield.csv\"), DataFrame);\n",
    "\n",
    "# Define data structure for the Dynamic Nelson-Siegel (DNS) model\n",
    "mutable struct Data_DNS\n",
    "    y::Matrix{Float64}    # (T,K) matrix of yields (Time steps × maturities)\n",
    "    T::Int64\n",
    "    K::Int64\n",
    "    τ_axis::Vector{Int64} # Vector of maturities in months\n",
    "    X::Matrix{Float64}    # (K,3) matrix [1 S(τ) S(τ)-exp] of factor loadings\n",
    "    dates::Vector         # Corresponding dates for each row\n",
    "    ρ::Float64            # Likelihood power coef on y_T (for Gibbs sampler)\n",
    "end\n",
    "\n",
    "function generate_data(T::Int=size(df,1))\n",
    "    _df = df[1:T,2:end] # exclude first col (date)\n",
    "\n",
    "    # Parse column names to extract τ\n",
    "    τ_axis = [parse(Int64, τ_string) for τ_string in names(df[:,2:end])]\n",
    "    τ_axis = 12τ_axis # in months from years\n",
    "\n",
    "    x(τ) = (λ_t = 0.0609;\n",
    "        _m = τ * λ_t;\n",
    "        _exp = exp(-_m);\n",
    "        _s = (1 - _exp) / _m;\n",
    "        [1, _s, _s - _exp]\n",
    "    )\n",
    "    \n",
    "    global data = Data_DNS(\n",
    "        _df |> Matrix,\n",
    "        size(_df, 1),\n",
    "        size(_df, 2),\n",
    "        τ_axis,\n",
    "        vecvec2mat(x.(τ_axis)),\n",
    "        df.index,\n",
    "        1.\n",
    "    )\n",
    "end"
   ]
  },
  {
   "cell_type": "code",
   "execution_count": 6,
   "id": "b05807c5-9ebf-41e5-9a22-5f23545e631d",
   "metadata": {},
   "outputs": [
    {
     "data": {
      "text/plain": [
       "Data_DNS([0.293 0.905 … 2.49 2.643; 0.286 0.944 … 2.537 2.666; … ; 0.048 0.233 … 1.404 1.662; 0.094 0.312 … 1.516 1.79], 293, 5, [24, 60, 120, 240, 360], [1.0 0.52554392871227 0.2936789349181237; 1.0 0.2665880208221924 0.24070064890648354; … ; 1.0 0.0684181411392243 0.06841769203012686; 1.0 0.0456121145639038 0.04561211426293063], [Date(\"1999-09-01\"), Date(\"1999-10-01\"), Date(\"1999-11-01\"), Date(\"1999-12-01\"), Date(\"2000-01-01\"), Date(\"2000-02-01\"), Date(\"2000-03-01\"), Date(\"2000-04-01\"), Date(\"2000-05-01\"), Date(\"2000-06-01\")  …  Date(\"2023-04-01\"), Date(\"2023-05-01\"), Date(\"2023-06-01\"), Date(\"2023-07-01\"), Date(\"2023-08-01\"), Date(\"2023-09-01\"), Date(\"2023-10-01\"), Date(\"2023-11-01\"), Date(\"2023-12-01\"), Date(\"2024-01-01\")], 1.0)"
      ]
     },
     "execution_count": 6,
     "metadata": {},
     "output_type": "execute_result"
    }
   ],
   "source": [
    "generate_data()"
   ]
  },
  {
   "cell_type": "code",
   "execution_count": 7,
   "id": "ea4b129b-925f-44c8-83f7-ce7f37fa996a",
   "metadata": {},
   "outputs": [],
   "source": [
    "include(\"LEO.jl\")"
   ]
  },
  {
   "cell_type": "markdown",
   "id": "2221ef59-4dfa-4126-83bb-fda104b7e849",
   "metadata": {},
   "source": [
    "# MCMC"
   ]
  },
  {
   "cell_type": "markdown",
   "id": "f99a8bc9-1ac4-4f5d-b913-c3e873607d7a",
   "metadata": {},
   "source": [
    "## Initial draw"
   ]
  },
  {
   "cell_type": "code",
   "execution_count": 9,
   "id": "5f8fa774-2381-4efc-8667-e4979fee1b59",
   "metadata": {},
   "outputs": [
    {
     "name": "stderr",
     "output_type": "stream",
     "text": [
      "\u001b[32mProgress: 100%|█████████████████████████████████████████| Time: 0:03:40\u001b[39m\n"
     ]
    }
   ],
   "source": [
    "Random.seed!(1)\n",
    "if RUN_MCMC\n",
    "    Θ = Params(); chain = Params[]\n",
    "    @showprogress for r in 1:12_000\n",
    "        Θ |> GibbsScan\n",
    "        if (r > 2_000) & (r % 10 == 0)\n",
    "            push!(chain, Θ |> deepcopy)\n",
    "        end\n",
    "    end\n",
    "    _dir = joinpath(\"output_$(SESSION)\", \"DNS\", \"mcmc\")\n",
    "    isdir(_dir) || mkpath(_dir) # Ensure path is present\n",
    "    save(joinpath(_dir, \"chain.jld\"), \"data\", chain)\n",
    "end"
   ]
  },
  {
   "cell_type": "markdown",
   "id": "abf686f1-1074-4c80-adb7-25dde5612651",
   "metadata": {},
   "source": [
    "# LEO"
   ]
  },
  {
   "cell_type": "code",
   "execution_count": 101,
   "id": "0b32e434-b434-4de9-99ec-60106c8b206f",
   "metadata": {},
   "outputs": [
    {
     "data": {
      "text/plain": [
       "293:-1:273"
      ]
     },
     "execution_count": 101,
     "metadata": {},
     "output_type": "execute_result"
    }
   ],
   "source": [
    "leave_ends = size(df, 1):-1:size(df, 1)-20 # namely [293, 292, ..., 273]"
   ]
  },
  {
   "cell_type": "markdown",
   "id": "50ba5fbb-69f2-4c62-8eda-75fda91fd4ff",
   "metadata": {},
   "source": [
    "## Naive"
   ]
  },
  {
   "cell_type": "code",
   "execution_count": 31,
   "id": "ec246017-a54b-496f-acbe-e3297eade3db",
   "metadata": {
    "scrolled": true
   },
   "outputs": [
    {
     "name": "stderr",
     "output_type": "stream",
     "text": [
      "\u001b[32mProgress: 100%|█████████████████████████████████████████| Time: 1:20:01\u001b[39m\n"
     ]
    }
   ],
   "source": [
    "Random.seed!(1)\n",
    "\n",
    "if RUN_MCMC\n",
    "    times = Float64[]\n",
    "    \n",
    "    @showprogress for T in leave_ends\n",
    "        \"\"\"Create data\"\"\"\n",
    "        # exclude last;\n",
    "        # y_t (t=1,...,T-1) for posterior inference,\n",
    "        # y_T for validation\n",
    "        generate_data(T-1)\n",
    "        \n",
    "        \"\"\"MCMC\"\"\"\n",
    "        Θ = Params(); chain = Params[]\n",
    "        time = @elapsed for r in 1:12_000\n",
    "            Θ |> GibbsScan\n",
    "            if (r > 2_000) & (r % 10 == 0)\n",
    "                push!(chain, Θ |> deepcopy)\n",
    "            end\n",
    "        end\n",
    "        push!(times, time)\n",
    "        \n",
    "        _dir = joinpath(\"output_$(SESSION)\", \"DNS\", \"mcmc\")\n",
    "        isdir(_dir) || mkpath(_dir) # Ensure path is present\n",
    "        save(joinpath(_dir, \"chain_leo-$(T).jld\"), \"data\", chain)\n",
    "        save(joinpath(_dir, \"times_naive-leo.jld\"), \"data\", times)\n",
    "        # break\n",
    "    end\n",
    "end"
   ]
  },
  {
   "cell_type": "markdown",
   "id": "dec32cbb-07ff-4cb5-b0e5-1d4cd377901d",
   "metadata": {},
   "source": [
    "## aSMC"
   ]
  },
  {
   "cell_type": "code",
   "execution_count": 112,
   "id": "f9afe972-602e-4809-98f8-86495c85ac0c",
   "metadata": {},
   "outputs": [
    {
     "data": {
      "text/plain": [
       "run_SMC (generic function with 1 method)"
      ]
     },
     "execution_count": 112,
     "metadata": {},
     "output_type": "execute_result"
    }
   ],
   "source": [
    "function run_SMC(chain::Vector{Params}; save_bool::Bool=false)\n",
    "\n",
    "    # Refresh T\n",
    "    generate_data()\n",
    "    \n",
    "    # Define problem dimensions\n",
    "    R = length(chain)\n",
    "    L = 5\n",
    "    H = length(leave_ends)\n",
    "\n",
    "    # Obtain prior draw\n",
    "    Θ_0 = chain\n",
    "    \n",
    "    # Initialize containers\n",
    "    particles = NamedArray(repeat([Θ_0], H, L+1), (leave_ends, 0:L), (:T, :l)) # some may not be updated\n",
    "    ϕ_history = NamedArray(zeros(H, L+1),         (leave_ends, 0:L), (:T, :l))\n",
    "    L_history = NamedArray(repeat([-1], H),       leave_ends,        :T      )\n",
    "    times     = NamedArray(zeros(H),              leave_ends,        :T      )\n",
    "    \n",
    "    # Log weights normalizer\n",
    "    function _normalize(_log_w::Vector{Float64})::Vector{Float64}\n",
    "        _w = exp.(_log_w .- maximum(_log_w))\n",
    "        _w = _w / sum(_w)\n",
    "        _w\n",
    "    end\n",
    "\n",
    "    # Effective sample size\n",
    "    function _ess(_w::Vector{Float64})::Float64\n",
    "        1 / sum(@. exp(2 * log(_w)))\n",
    "    end\n",
    "    \n",
    "    # Log ratio\n",
    "    function log_G(T::Int, l::Int, n::Int)::Float64\n",
    "        _particle = particles[:T => T, :l => l-1][n]\n",
    "        -logpdf(MvNormal(data.X * _particle.β[T,:], _particle.Σ_y), data.y[T,:])\n",
    "    end\n",
    "\n",
    "    for (T_i, T) in enumerate(leave_ends); @info T\n",
    "        \n",
    "        # Set initial values for T_i-th iteration, case-deleting y_T.\n",
    "        # If very first, begin with baseline MCMC\n",
    "        # Otherwise, inherit the previous (T_i - 1)-th iteration\n",
    "        # particles: in particular its latest one.\n",
    "        if T_i == 1\n",
    "            particles[:T => T, :l => 0] = Θ_0\n",
    "        else\n",
    "            particles[:T => T, :l => 0] = particles[:T => leave_ends[T_i - 1], :l => L_history[:T => leave_ends[T_i - 1]]]\n",
    "        end\n",
    "        \n",
    "        # Compute log weights for fully case-deleting y_T\n",
    "        # Target: y_T case-deleted posterior\n",
    "        # Proposals: particles[:T => T, :l => 0][n] (previous iteration)\n",
    "        log_weights_T = [log_G(T, 1, n) for n in 1:R]\n",
    "\n",
    "        # Start from power-coef = 1 (y_T is still there),\n",
    "        # ϕ = 1-ρ = 0 (continuous case-deletion is \"0% complete\")\n",
    "        data.ρ = 1\n",
    "        ϕ_history[:T => T, :l => 0] = 0.\n",
    "        \n",
    "        break_flag = false\n",
    "        time = @elapsed @showprogress for l in 1:L\n",
    "\n",
    "            # Inherit previous case-deletion point (for y_T)\n",
    "            ϕ_0 = ϕ_history[:T => T, :l => l-1] # in [0,1)\n",
    "\n",
    "            # Define (ϕ ↦ ESS) map\n",
    "            function _ϕ2reff(ϕ::Union{Float64, Int64})::Float64\n",
    "                @assert 0 ≤ ϕ ≤ 1\n",
    "                _log_weights = (ϕ - ϕ_0) * log_weights_T\n",
    "                _log_weights = _log_weights .- maximum(_log_weights)\n",
    "                _ESS = _log_weights |> _normalize |> _ess\n",
    "                _ESS - R/2\n",
    "            end\n",
    "            # plot(0:0.01:1, _ϕ2reff) |> display\n",
    "            \n",
    "            # Find next distribution\n",
    "            ϕ_1 = nothing # in (0,1]\n",
    "            if _ϕ2reff(1) > 0 # Case 1: ESS is above threshold\n",
    "                ϕ_1 = 1 # Target posterior where y_T is entirely case-deleted\n",
    "                break_flag = true\n",
    "            else # Case 2: find y_T partial case-deletion point\n",
    "                ϕ_1 = find_zero(_ϕ2reff, (ϕ_history[:T => T, :l => l-1] + 1e-4, 1),\n",
    "                    xtol=0.1, maxiters=10, verbose=false)\n",
    "            end\n",
    "            \n",
    "            @info \"Targeting ϕ=$(ϕ_1)\"\n",
    "            data.T = T # Used in Gibbs sampler: observations will be (y_1, ..., y_T)\n",
    "            data.ρ = 1 - ϕ_1 # Power-coef on y_T likelihood: p(y_T | -)^ρ\n",
    "            \n",
    "            # Compute log weights\n",
    "            _log_weights = (ϕ_1 - ϕ_0) * log_weights_T\n",
    "            _log_weights = _log_weights .- maximum(_log_weights)\n",
    "            \n",
    "            # MCMC kernel\n",
    "            A_0 = wsample(1:R, _log_weights |> _normalize, R)\n",
    "            _begin = particles[:T => T, :l => l-1][A_0] |> deepcopy\n",
    "            _end = Vector{typeof(_begin[1])}(undef, R)\n",
    "            #@showprogress for n in 1:R\n",
    "            p = ProgressMeter.Progress(R); @Threads.threads for n in 1:R\n",
    "                rng = Random.TaskLocalRNG()\n",
    "                Scan = c -> GibbsScan_LEO(c; rng=rng)\n",
    "                _end[n] = _begin[n] |> Scan^5\n",
    "                ProgressMeter.next!(p)\n",
    "                \n",
    "                # Sanity check: cutoff functioning as intended?\n",
    "                @assert size(_end[n].β) == (T, 3)\n",
    "            end\n",
    "            particles[:T => T, :l => l] = _end\n",
    "            ϕ_history[:T => T, :l => l] = ϕ_1\n",
    "            \n",
    "            if break_flag\n",
    "                L_history[:T => T] = l\n",
    "                break\n",
    "            end\n",
    "        end\n",
    "        \n",
    "        times[:T => T] = time\n",
    "    end\n",
    "    \n",
    "    if save_bool\n",
    "        _dir = joinpath(\"output_$(SESSION)\", \"DNS\", \"smc\")\n",
    "        isdir(_dir) || mkpath(_dir) # Ensure path is present\n",
    "        # Save (after un-naming)\n",
    "        # Sizes are: T = time steps, L = distributions\n",
    "        save(joinpath(_dir, \"particles.jld\"), \"data\", particles |> Matrix{Vector{Params}}) # (T, L)\n",
    "        save(joinpath(_dir, \"paths.jld\"), \"data\", ϕ_history |> Matrix{Float64}) # (T, L)\n",
    "        save(joinpath(_dir, \"lengths.jld\"), \"data\", L_history |> Vector{Int64}) # T\n",
    "        save(joinpath(_dir, \"times.jld\"), \"data\", times |> Vector{Float64}) # T\n",
    "    end\n",
    "    \n",
    "    return\n",
    "end"
   ]
  },
  {
   "cell_type": "code",
   "execution_count": 13,
   "id": "95e3d03b-d2da-4ff8-bbe9-520627dcdfa3",
   "metadata": {
    "scrolled": true
   },
   "outputs": [
    {
     "name": "stderr",
     "output_type": "stream",
     "text": [
      "\u001b[36m\u001b[1m[ \u001b[22m\u001b[39m\u001b[36m\u001b[1mInfo: \u001b[22m\u001b[39m293\n",
      "\u001b[36m\u001b[1m[ \u001b[22m\u001b[39m\u001b[36m\u001b[1mInfo: \u001b[22m\u001b[39mTargeting ϕ=0.6248574218749997\n",
      "\u001b[32mProgress: 100%|█████████████████████████████████████████| Time: 0:00:23\u001b[39m\n",
      "\u001b[36m\u001b[1m[ \u001b[22m\u001b[39m\u001b[36m\u001b[1mInfo: \u001b[22m\u001b[39mTargeting ϕ=1\n",
      "\u001b[32mProgress: 100%|█████████████████████████████████████████| Time: 0:00:23\u001b[39m\n",
      "\u001b[36m\u001b[1m[ \u001b[22m\u001b[39m\u001b[36m\u001b[1mInfo: \u001b[22m\u001b[39m292\n",
      "\u001b[36m\u001b[1m[ \u001b[22m\u001b[39m\u001b[36m\u001b[1mInfo: \u001b[22m\u001b[39mTargeting ϕ=0.6313816406249998\n",
      "\u001b[32mProgress: 100%|█████████████████████████████████████████| Time: 0:00:23\u001b[39m\n",
      "\u001b[36m\u001b[1m[ \u001b[22m\u001b[39m\u001b[36m\u001b[1mInfo: \u001b[22m\u001b[39mTargeting ϕ=1\n",
      "\u001b[32mProgress: 100%|█████████████████████████████████████████| Time: 0:00:23\u001b[39m\n",
      "\u001b[36m\u001b[1m[ \u001b[22m\u001b[39m\u001b[36m\u001b[1mInfo: \u001b[22m\u001b[39m291\n",
      "\u001b[36m\u001b[1m[ \u001b[22m\u001b[39m\u001b[36m\u001b[1mInfo: \u001b[22m\u001b[39mTargeting ϕ=0.5433046874999998\n",
      "\u001b[32mProgress: 100%|█████████████████████████████████████████| Time: 0:00:22\u001b[39m\n",
      "\u001b[36m\u001b[1m[ \u001b[22m\u001b[39m\u001b[36m\u001b[1mInfo: \u001b[22m\u001b[39mTargeting ϕ=1\n",
      "\u001b[32mProgress: 100%|█████████████████████████████████████████| Time: 0:00:22\u001b[39m\n",
      "\u001b[36m\u001b[1m[ \u001b[22m\u001b[39m\u001b[36m\u001b[1mInfo: \u001b[22m\u001b[39m290\n",
      "\u001b[36m\u001b[1m[ \u001b[22m\u001b[39m\u001b[36m\u001b[1mInfo: \u001b[22m\u001b[39mTargeting ϕ=0.4400996093749999\n",
      "\u001b[32mProgress: 100%|█████████████████████████████████████████| Time: 0:00:22\u001b[39m\n",
      "\u001b[36m\u001b[1m[ \u001b[22m\u001b[39m\u001b[36m\u001b[1mInfo: \u001b[22m\u001b[39mTargeting ϕ=0.8801943801879881\n",
      "\u001b[32mProgress: 100%|█████████████████████████████████████████| Time: 0:00:22\u001b[39m\n",
      "\u001b[32mProgress:  40%|█████████████████                        |  ETA: 0:01:08\u001b[39m\u001b[36m\u001b[1m[ \u001b[22m\u001b[39m\u001b[36m\u001b[1mInfo: \u001b[22m\u001b[39mTargeting ϕ=1\n",
      "\u001b[32mProgress: 100%|█████████████████████████████████████████| Time: 0:00:22\u001b[39m\n",
      "\u001b[32mProgress: 100%|█████████████████████████████████████████| Time: 0:01:08\u001b[39m\n",
      "\u001b[36m\u001b[1m[ \u001b[22m\u001b[39m\u001b[36m\u001b[1mInfo: \u001b[22m\u001b[39m289\n",
      "\u001b[36m\u001b[1m[ \u001b[22m\u001b[39m\u001b[36m\u001b[1mInfo: \u001b[22m\u001b[39mTargeting ϕ=0.46782753906249985\n",
      "\u001b[32mProgress: 100%|█████████████████████████████████████████| Time: 0:00:22\u001b[39m\n",
      "\u001b[36m\u001b[1m[ \u001b[22m\u001b[39m\u001b[36m\u001b[1mInfo: \u001b[22m\u001b[39mTargeting ϕ=0.9355420352935789\n",
      "\u001b[32mProgress: 100%|█████████████████████████████████████████| Time: 0:00:22\u001b[39m\n",
      "\u001b[32mProgress:  40%|█████████████████                        |  ETA: 0:01:08\u001b[39m\u001b[36m\u001b[1m[ \u001b[22m\u001b[39m\u001b[36m\u001b[1mInfo: \u001b[22m\u001b[39mTargeting ϕ=1\n",
      "\u001b[32mProgress: 100%|█████████████████████████████████████████| Time: 0:00:22\u001b[39m\n",
      "\u001b[32mProgress: 100%|█████████████████████████████████████████| Time: 0:01:07\u001b[39m\n",
      "\u001b[36m\u001b[1m[ \u001b[22m\u001b[39m\u001b[36m\u001b[1mInfo: \u001b[22m\u001b[39m288\n",
      "\u001b[36m\u001b[1m[ \u001b[22m\u001b[39m\u001b[36m\u001b[1mInfo: \u001b[22m\u001b[39mTargeting ϕ=0.8695156249999999\n",
      "\u001b[32mProgress: 100%|█████████████████████████████████████████| Time: 0:00:22\u001b[39m\n",
      "\u001b[36m\u001b[1m[ \u001b[22m\u001b[39m\u001b[36m\u001b[1mInfo: \u001b[22m\u001b[39mTargeting ϕ=1\n",
      "\u001b[32mProgress: 100%|█████████████████████████████████████████| Time: 0:00:22\u001b[39m\n",
      "\u001b[36m\u001b[1m[ \u001b[22m\u001b[39m\u001b[36m\u001b[1mInfo: \u001b[22m\u001b[39m287\n",
      "\u001b[36m\u001b[1m[ \u001b[22m\u001b[39m\u001b[36m\u001b[1mInfo: \u001b[22m\u001b[39mTargeting ϕ=0.6509542968749997\n",
      "\u001b[32mProgress: 100%|█████████████████████████████████████████| Time: 0:00:22\u001b[39m\n",
      "\u001b[36m\u001b[1m[ \u001b[22m\u001b[39m\u001b[36m\u001b[1mInfo: \u001b[22m\u001b[39mTargeting ϕ=1\n",
      "\u001b[32mProgress: 100%|█████████████████████████████████████████| Time: 0:00:22\u001b[39m\n",
      "\u001b[36m\u001b[1m[ \u001b[22m\u001b[39m\u001b[36m\u001b[1mInfo: \u001b[22m\u001b[39m286\n",
      "\u001b[36m\u001b[1m[ \u001b[22m\u001b[39m\u001b[36m\u001b[1mInfo: \u001b[22m\u001b[39mTargeting ϕ=0.8336324218749998\n",
      "\u001b[32mProgress: 100%|█████████████████████████████████████████| Time: 0:00:22\u001b[39m\n",
      "\u001b[36m\u001b[1m[ \u001b[22m\u001b[39m\u001b[36m\u001b[1mInfo: \u001b[22m\u001b[39mTargeting ϕ=1\n",
      "\u001b[32mProgress: 100%|█████████████████████████████████████████| Time: 0:00:22\u001b[39m\n",
      "\u001b[36m\u001b[1m[ \u001b[22m\u001b[39m\u001b[36m\u001b[1mInfo: \u001b[22m\u001b[39m285\n",
      "\u001b[36m\u001b[1m[ \u001b[22m\u001b[39m\u001b[36m\u001b[1mInfo: \u001b[22m\u001b[39mTargeting ϕ=0.7390312499999999\n",
      "\u001b[32mProgress: 100%|█████████████████████████████████████████| Time: 0:00:22\u001b[39m\n",
      "\u001b[36m\u001b[1m[ \u001b[22m\u001b[39m\u001b[36m\u001b[1mInfo: \u001b[22m\u001b[39mTargeting ϕ=1\n",
      "\u001b[32mProgress: 100%|█████████████████████████████████████████| Time: 0:00:22\u001b[39m\n",
      "\u001b[36m\u001b[1m[ \u001b[22m\u001b[39m\u001b[36m\u001b[1mInfo: \u001b[22m\u001b[39m284\n",
      "\u001b[36m\u001b[1m[ \u001b[22m\u001b[39m\u001b[36m\u001b[1mInfo: \u001b[22m\u001b[39mTargeting ϕ=0.5074214843749998\n",
      "\u001b[32mProgress: 100%|█████████████████████████████████████████| Time: 0:00:22\u001b[39m\n",
      "\u001b[36m\u001b[1m[ \u001b[22m\u001b[39m\u001b[36m\u001b[1mInfo: \u001b[22m\u001b[39mTargeting ϕ=1\n",
      "\u001b[32mProgress: 100%|█████████████████████████████████████████| Time: 0:00:21\u001b[39m\n",
      "\u001b[36m\u001b[1m[ \u001b[22m\u001b[39m\u001b[36m\u001b[1mInfo: \u001b[22m\u001b[39m283\n",
      "\u001b[36m\u001b[1m[ \u001b[22m\u001b[39m\u001b[36m\u001b[1mInfo: \u001b[22m\u001b[39mTargeting ϕ=1\n",
      "\u001b[32mProgress: 100%|█████████████████████████████████████████| Time: 0:00:22\u001b[39m\n",
      "\u001b[36m\u001b[1m[ \u001b[22m\u001b[39m\u001b[36m\u001b[1mInfo: \u001b[22m\u001b[39m282\n",
      "\u001b[36m\u001b[1m[ \u001b[22m\u001b[39m\u001b[36m\u001b[1mInfo: \u001b[22m\u001b[39mTargeting ϕ=0.8890882812499998\n",
      "\u001b[32mProgress: 100%|█████████████████████████████████████████| Time: 0:00:22\u001b[39m\n",
      "\u001b[36m\u001b[1m[ \u001b[22m\u001b[39m\u001b[36m\u001b[1mInfo: \u001b[22m\u001b[39mTargeting ϕ=1\n",
      "\u001b[32mProgress: 100%|█████████████████████████████████████████| Time: 0:00:21\u001b[39m\n",
      "\u001b[36m\u001b[1m[ \u001b[22m\u001b[39m\u001b[36m\u001b[1mInfo: \u001b[22m\u001b[39m281\n",
      "\u001b[36m\u001b[1m[ \u001b[22m\u001b[39m\u001b[36m\u001b[1mInfo: \u001b[22m\u001b[39mTargeting ϕ=1\n",
      "\u001b[32mProgress: 100%|█████████████████████████████████████████| Time: 0:00:21\u001b[39m\n",
      "\u001b[36m\u001b[1m[ \u001b[22m\u001b[39m\u001b[36m\u001b[1mInfo: \u001b[22m\u001b[39m280\n",
      "\u001b[36m\u001b[1m[ \u001b[22m\u001b[39m\u001b[36m\u001b[1mInfo: \u001b[22m\u001b[39mTargeting ϕ=0.8597292968749998\n",
      "\u001b[32mProgress: 100%|█████████████████████████████████████████| Time: 0:00:21\u001b[39m\n",
      "\u001b[36m\u001b[1m[ \u001b[22m\u001b[39m\u001b[36m\u001b[1mInfo: \u001b[22m\u001b[39mTargeting ϕ=1\n",
      "\u001b[32mProgress: 100%|█████████████████████████████████████████| Time: 0:00:21\u001b[39m\n",
      "\u001b[36m\u001b[1m[ \u001b[22m\u001b[39m\u001b[36m\u001b[1mInfo: \u001b[22m\u001b[39m279\n",
      "\u001b[36m\u001b[1m[ \u001b[22m\u001b[39m\u001b[36m\u001b[1mInfo: \u001b[22m\u001b[39mTargeting ϕ=0.5498289062499998\n",
      "\u001b[32mProgress: 100%|█████████████████████████████████████████| Time: 0:00:21\u001b[39m\n",
      "\u001b[36m\u001b[1m[ \u001b[22m\u001b[39m\u001b[36m\u001b[1mInfo: \u001b[22m\u001b[39mTargeting ϕ=1\n",
      "\u001b[32mProgress: 100%|█████████████████████████████████████████| Time: 0:00:21\u001b[39m\n",
      "\u001b[36m\u001b[1m[ \u001b[22m\u001b[39m\u001b[36m\u001b[1mInfo: \u001b[22m\u001b[39m278\n",
      "\u001b[36m\u001b[1m[ \u001b[22m\u001b[39m\u001b[36m\u001b[1mInfo: \u001b[22m\u001b[39mTargeting ϕ=0.4352064453124999\n",
      "\u001b[32mProgress: 100%|█████████████████████████████████████████| Time: 0:00:21\u001b[39m\n",
      "\u001b[36m\u001b[1m[ \u001b[22m\u001b[39m\u001b[36m\u001b[1mInfo: \u001b[22m\u001b[39mTargeting ϕ=0.8703118358612058\n",
      "\u001b[32mProgress: 100%|█████████████████████████████████████████| Time: 0:00:21\u001b[39m\n",
      "\u001b[32mProgress:  40%|█████████████████                        |  ETA: 0:01:05\u001b[39m\u001b[36m\u001b[1m[ \u001b[22m\u001b[39m\u001b[36m\u001b[1mInfo: \u001b[22m\u001b[39mTargeting ϕ=1\n",
      "\u001b[32mProgress: 100%|█████████████████████████████████████████| Time: 0:00:21\u001b[39m\n",
      "\u001b[32mProgress: 100%|█████████████████████████████████████████| Time: 0:01:04\u001b[39m\n",
      "\u001b[36m\u001b[1m[ \u001b[22m\u001b[39m\u001b[36m\u001b[1mInfo: \u001b[22m\u001b[39m277\n",
      "\u001b[36m\u001b[1m[ \u001b[22m\u001b[39m\u001b[36m\u001b[1mInfo: \u001b[22m\u001b[39mTargeting ϕ=0.7259828124999999\n",
      "\u001b[32mProgress: 100%|█████████████████████████████████████████| Time: 0:00:21\u001b[39m\n",
      "\u001b[36m\u001b[1m[ \u001b[22m\u001b[39m\u001b[36m\u001b[1mInfo: \u001b[22m\u001b[39mTargeting ϕ=1\n",
      "\u001b[32mProgress: 100%|█████████████████████████████████████████| Time: 0:00:21\u001b[39m\n",
      "\u001b[36m\u001b[1m[ \u001b[22m\u001b[39m\u001b[36m\u001b[1mInfo: \u001b[22m\u001b[39m276\n",
      "\u001b[36m\u001b[1m[ \u001b[22m\u001b[39m\u001b[36m\u001b[1mInfo: \u001b[22m\u001b[39mTargeting ϕ=0.7488175781249998\n",
      "\u001b[32mProgress: 100%|█████████████████████████████████████████| Time: 0:00:21\u001b[39m\n",
      "\u001b[36m\u001b[1m[ \u001b[22m\u001b[39m\u001b[36m\u001b[1mInfo: \u001b[22m\u001b[39mTargeting ϕ=1\n",
      "\u001b[32mProgress: 100%|█████████████████████████████████████████| Time: 0:00:21\u001b[39m\n",
      "\u001b[36m\u001b[1m[ \u001b[22m\u001b[39m\u001b[36m\u001b[1mInfo: \u001b[22m\u001b[39m275\n",
      "\u001b[36m\u001b[1m[ \u001b[22m\u001b[39m\u001b[36m\u001b[1mInfo: \u001b[22m\u001b[39mTargeting ϕ=1\n",
      "\u001b[32mProgress: 100%|█████████████████████████████████████████| Time: 0:00:21\u001b[39m\n",
      "\u001b[36m\u001b[1m[ \u001b[22m\u001b[39m\u001b[36m\u001b[1mInfo: \u001b[22m\u001b[39m274\n",
      "\u001b[36m\u001b[1m[ \u001b[22m\u001b[39m\u001b[36m\u001b[1mInfo: \u001b[22m\u001b[39mTargeting ϕ=0.7977492187499999\n",
      "\u001b[32mProgress: 100%|█████████████████████████████████████████| Time: 0:00:21\u001b[39m\n",
      "\u001b[36m\u001b[1m[ \u001b[22m\u001b[39m\u001b[36m\u001b[1mInfo: \u001b[22m\u001b[39mTargeting ϕ=1\n",
      "\u001b[32mProgress: 100%|█████████████████████████████████████████| Time: 0:00:21\u001b[39m\n",
      "\u001b[36m\u001b[1m[ \u001b[22m\u001b[39m\u001b[36m\u001b[1mInfo: \u001b[22m\u001b[39m273\n",
      "\u001b[36m\u001b[1m[ \u001b[22m\u001b[39m\u001b[36m\u001b[1mInfo: \u001b[22m\u001b[39mTargeting ϕ=0.8075355468749998\n",
      "\u001b[32mProgress: 100%|█████████████████████████████████████████| Time: 0:00:21\u001b[39m\n",
      "\u001b[36m\u001b[1m[ \u001b[22m\u001b[39m\u001b[36m\u001b[1mInfo: \u001b[22m\u001b[39mTargeting ϕ=1\n",
      "\u001b[32mProgress: 100%|█████████████████████████████████████████| Time: 0:00:21\u001b[39m\n"
     ]
    }
   ],
   "source": [
    "Random.seed!(1)\n",
    "RUN_aSMC && run_SMC(load(joinpath(\"output\", \"DNS\", \"mcmc\", \"chain.jld\"))[\"data\"]; save_bool=true)"
   ]
  },
  {
   "cell_type": "code",
   "execution_count": 14,
   "id": "fec6b6f2-7adb-40b1-b97d-64f3441b9e06",
   "metadata": {},
   "outputs": [
    {
     "data": {
      "text/plain": [
       "load_SMC (generic function with 1 method)"
      ]
     },
     "execution_count": 14,
     "metadata": {},
     "output_type": "execute_result"
    }
   ],
   "source": [
    "function load_SMC()\n",
    "    \n",
    "    # Load SMC particles\n",
    "    particles = load(joinpath(\"output\", \"DNS\", \"smc\", \"particles.jld\"))[\"data\"]\n",
    "    L = size(particles, 2)-1\n",
    "    particles = NamedArray(\n",
    "        particles,\n",
    "        (leave_ends, 0:L),\n",
    "        (:T, :l))\n",
    "\n",
    "    # Vector of (1 minus) power coefficients\n",
    "    ϕ_history = NamedArray(\n",
    "        load(joinpath(\"output\", \"DNS\", \"smc\", \"paths.jld\"))[\"data\"],\n",
    "        (leave_ends, 0:L),\n",
    "        (:T, :l))\n",
    "    \n",
    "    # Vector of number if intermediate distributions at each T;\n",
    "    # e.g., 1 ⇒ 1-step,\n",
    "    # 2 ⇒ 1 sub-intermediate excluding eventual target.\n",
    "    L_history = NamedArray(load(joinpath(\"output\", \"DNS\", \"smc\", \"lengths.jld\"))[\"data\"],\n",
    "        leave_ends, :T)\n",
    "    \n",
    "    (; particles, ϕ_history, L_history)\n",
    "end"
   ]
  },
  {
   "cell_type": "markdown",
   "id": "d9350536-0a76-482f-8916-81449658a480",
   "metadata": {},
   "source": [
    "## PSIS"
   ]
  },
  {
   "cell_type": "code",
   "execution_count": 102,
   "id": "fa809128-526b-4956-9186-438892fbb0f3",
   "metadata": {},
   "outputs": [
    {
     "data": {
      "text/plain": [
       "run_PSIS (generic function with 1 method)"
      ]
     },
     "execution_count": 102,
     "metadata": {},
     "output_type": "execute_result"
    }
   ],
   "source": [
    "function run_PSIS(chain::Vector{Params})\n",
    "    \n",
    "    # Define problem dimensions\n",
    "    R = length(chain)\n",
    "\n",
    "    # Obtain unconstrained prior draw\n",
    "    Θ_0 = chain\n",
    "    \n",
    "    # Initialize containers\n",
    "    particles = NamedArray(repeat([Θ_0], length(leave_ends)), leave_ends, :T)\n",
    "    weights_psis = NamedArray(\n",
    "        zeros(length(leave_ends), R),\n",
    "        (leave_ends, 1:R),\n",
    "        (:T, :n)\n",
    "    )\n",
    "    times = NamedArray(zeros(length(leave_ends)), leave_ends, :T)\n",
    "    k̂s = NamedArray(zeros(length(leave_ends)), leave_ends, :T)\n",
    "    \n",
    "    # Log weights normalizer\n",
    "    function _normalize(_log_w::Vector{Float64})::Vector{Float64}\n",
    "        # normalize log weights\n",
    "        _w = exp.(_log_w .- maximum(_log_w))\n",
    "        _w = _w / sum(_w)\n",
    "        _w\n",
    "    end\n",
    "\n",
    "    # ESS computer\n",
    "    function _ess(_w::Vector{Float64})::Float64\n",
    "        1 / sum(@. exp(2 * log(_w)))\n",
    "    end\n",
    "    \n",
    "    # Log ratio\n",
    "    function log_G(T::Int, n::Int)::Float64\n",
    "        _particle = Θ_0[n]\n",
    "        -logpdf(MvNormal(data.X * _particle.β[T,:], _particle.Σ_y), data.y[T,:])\n",
    "    end\n",
    "\n",
    "    for (T_i, T) in enumerate(leave_ends)\n",
    "        @info T\n",
    "        times[:T => T] = @elapsed (\n",
    "            # Compute log weights\n",
    "            _log_weights = _sum([log_G(t, n) for n=1:R, t=T:data.T]; dims=2);\n",
    "            _log_weights = _log_weights .- maximum(_log_weights);\n",
    "            \n",
    "            # PSIS\n",
    "            _psis = psis(_log_weights; warn=false);\n",
    "            weights_psis[:T => T] = _psis.log_weights |> _normalize;\n",
    "            k̂s[:T => T] = _psis.pareto_shape;\n",
    "        )\n",
    "    end\n",
    "    \n",
    "    global weights_psis = weights_psis\n",
    "    global times_psis = times\n",
    "    global k̂s_psis = k̂s\n",
    "end"
   ]
  },
  {
   "cell_type": "code",
   "execution_count": 103,
   "id": "6e00efa0-316c-4561-a1b6-68de16683426",
   "metadata": {
    "scrolled": true
   },
   "outputs": [
    {
     "name": "stderr",
     "output_type": "stream",
     "text": [
      "\u001b[36m\u001b[1m[ \u001b[22m\u001b[39m\u001b[36m\u001b[1mInfo: \u001b[22m\u001b[39m293\n",
      "\u001b[36m\u001b[1m[ \u001b[22m\u001b[39m\u001b[36m\u001b[1mInfo: \u001b[22m\u001b[39m292\n",
      "\u001b[36m\u001b[1m[ \u001b[22m\u001b[39m\u001b[36m\u001b[1mInfo: \u001b[22m\u001b[39m291\n",
      "\u001b[36m\u001b[1m[ \u001b[22m\u001b[39m\u001b[36m\u001b[1mInfo: \u001b[22m\u001b[39m290\n",
      "\u001b[36m\u001b[1m[ \u001b[22m\u001b[39m\u001b[36m\u001b[1mInfo: \u001b[22m\u001b[39m289\n",
      "\u001b[36m\u001b[1m[ \u001b[22m\u001b[39m\u001b[36m\u001b[1mInfo: \u001b[22m\u001b[39m288\n",
      "\u001b[36m\u001b[1m[ \u001b[22m\u001b[39m\u001b[36m\u001b[1mInfo: \u001b[22m\u001b[39m287\n",
      "\u001b[36m\u001b[1m[ \u001b[22m\u001b[39m\u001b[36m\u001b[1mInfo: \u001b[22m\u001b[39m286\n",
      "\u001b[36m\u001b[1m[ \u001b[22m\u001b[39m\u001b[36m\u001b[1mInfo: \u001b[22m\u001b[39m285\n",
      "\u001b[36m\u001b[1m[ \u001b[22m\u001b[39m\u001b[36m\u001b[1mInfo: \u001b[22m\u001b[39m284\n",
      "\u001b[36m\u001b[1m[ \u001b[22m\u001b[39m\u001b[36m\u001b[1mInfo: \u001b[22m\u001b[39m283\n",
      "\u001b[36m\u001b[1m[ \u001b[22m\u001b[39m\u001b[36m\u001b[1mInfo: \u001b[22m\u001b[39m282\n",
      "\u001b[36m\u001b[1m[ \u001b[22m\u001b[39m\u001b[36m\u001b[1mInfo: \u001b[22m\u001b[39m281\n",
      "\u001b[36m\u001b[1m[ \u001b[22m\u001b[39m\u001b[36m\u001b[1mInfo: \u001b[22m\u001b[39m280\n",
      "\u001b[36m\u001b[1m[ \u001b[22m\u001b[39m\u001b[36m\u001b[1mInfo: \u001b[22m\u001b[39m279\n",
      "\u001b[36m\u001b[1m[ \u001b[22m\u001b[39m\u001b[36m\u001b[1mInfo: \u001b[22m\u001b[39m278\n",
      "\u001b[36m\u001b[1m[ \u001b[22m\u001b[39m\u001b[36m\u001b[1mInfo: \u001b[22m\u001b[39m277\n",
      "\u001b[36m\u001b[1m[ \u001b[22m\u001b[39m\u001b[36m\u001b[1mInfo: \u001b[22m\u001b[39m276\n",
      "\u001b[36m\u001b[1m[ \u001b[22m\u001b[39m\u001b[36m\u001b[1mInfo: \u001b[22m\u001b[39m275\n",
      "\u001b[36m\u001b[1m[ \u001b[22m\u001b[39m\u001b[36m\u001b[1mInfo: \u001b[22m\u001b[39m274\n",
      "\u001b[36m\u001b[1m[ \u001b[22m\u001b[39m\u001b[36m\u001b[1mInfo: \u001b[22m\u001b[39m273\n"
     ]
    },
    {
     "data": {
      "text/plain": [
       "21-element Named Vector{Float64}\n",
       "T   │ \n",
       "────┼─────────\n",
       "293 │ 0.702967\n",
       "292 │ 0.878022\n",
       "291 │ 0.862196\n",
       "290 │ 0.875504\n",
       "289 │ 0.691512\n",
       "288 │ 0.805351\n",
       "287 │ 0.841908\n",
       "286 │  1.49374\n",
       "285 │  1.41267\n",
       "284 │  1.65466\n",
       "283 │  1.68282\n",
       "282 │  1.61228\n",
       "281 │  1.57668\n",
       "280 │  1.50997\n",
       "279 │  1.48614\n",
       "278 │  1.63434\n",
       "277 │  1.69262\n",
       "276 │  1.72085\n",
       "275 │  2.07707\n",
       "274 │  1.78204\n",
       "273 │  1.76412"
      ]
     },
     "execution_count": 103,
     "metadata": {},
     "output_type": "execute_result"
    }
   ],
   "source": [
    "Random.seed!(1)\n",
    "run_PSIS(load(joinpath(\"output\", \"DNS\", \"mcmc\", \"chain.jld\"))[\"data\"])"
   ]
  },
  {
   "cell_type": "markdown",
   "id": "ff7af8fa-a609-4d44-89c7-2952de2619b2",
   "metadata": {},
   "source": [
    "# Figures"
   ]
  },
  {
   "cell_type": "markdown",
   "id": "f0169e91-cecb-45c1-b955-33bf9f64ecfd",
   "metadata": {},
   "source": [
    "## LPD"
   ]
  },
  {
   "cell_type": "code",
   "execution_count": 105,
   "id": "058b5b33-3c87-428f-a49b-ebe70faac0d2",
   "metadata": {},
   "outputs": [
    {
     "data": {
      "text/plain": [
       "Data_DNS([0.293 0.905 … 2.49 2.643; 0.286 0.944 … 2.537 2.666; … ; 0.048 0.233 … 1.404 1.662; 0.094 0.312 … 1.516 1.79], 293, 5, [24, 60, 120, 240, 360], [1.0 0.52554392871227 0.2936789349181237; 1.0 0.2665880208221924 0.24070064890648354; … ; 1.0 0.0684181411392243 0.06841769203012686; 1.0 0.0456121145639038 0.04561211426293063], [Date(\"1999-09-01\"), Date(\"1999-10-01\"), Date(\"1999-11-01\"), Date(\"1999-12-01\"), Date(\"2000-01-01\"), Date(\"2000-02-01\"), Date(\"2000-03-01\"), Date(\"2000-04-01\"), Date(\"2000-05-01\"), Date(\"2000-06-01\")  …  Date(\"2023-04-01\"), Date(\"2023-05-01\"), Date(\"2023-06-01\"), Date(\"2023-07-01\"), Date(\"2023-08-01\"), Date(\"2023-09-01\"), Date(\"2023-10-01\"), Date(\"2023-11-01\"), Date(\"2023-12-01\"), Date(\"2024-01-01\")], 1.0)"
      ]
     },
     "execution_count": 105,
     "metadata": {},
     "output_type": "execute_result"
    }
   ],
   "source": [
    "generate_data() # Refresh T"
   ]
  },
  {
   "cell_type": "code",
   "execution_count": 106,
   "id": "9a5f1a16-6b21-454e-8f0a-568193741416",
   "metadata": {},
   "outputs": [
    {
     "data": {
      "text/plain": [
       "Compute_LPD (generic function with 1 method)"
      ]
     },
     "execution_count": 106,
     "metadata": {},
     "output_type": "execute_result"
    }
   ],
   "source": [
    "# Function to compute LPD over all particles, weighted\n",
    "function Compute_LPD(c::Vector{Params}, T::Int64, weights::Vector{Float64})::Float64\n",
    "    R = length(c)\n",
    "    log_ℓ = 0.\n",
    "    for n in 1:R\n",
    "        log_ℓ += weights[n] * logpdf(\n",
    "            MvNormal(data.X * c[n].β[T-1,:], symmetric(c[n].Σ_y + data.X * c[n].Σ_β * data.X')),\n",
    "            data.y[T,:]\n",
    "        )\n",
    "    end\n",
    "    log_ℓ\n",
    "end"
   ]
  },
  {
   "cell_type": "code",
   "execution_count": 107,
   "id": "9745201d-3a76-4a21-b45c-e4980b5e20c5",
   "metadata": {},
   "outputs": [
    {
     "name": "stderr",
     "output_type": "stream",
     "text": [
      "\u001b[32mProgress: 100%|█████████████████████████████████████████| Time: 0:00:06\u001b[39m\n"
     ]
    }
   ],
   "source": [
    "# LPD on naive MCMC-LEO samples\n",
    "Random.seed!(1); let\n",
    "    LPD = NamedArray(zeros(length(leave_ends)), leave_ends, :T)\n",
    "    @showprogress for T in leave_ends\n",
    "        # chain_T:\n",
    "        # uses y_t (t=1,...,T-1) for posterior inference,\n",
    "        # y_T (onwards) for validation\n",
    "        chain_T = load(joinpath(\"output\", \"DNS\", \"mcmc\", \"chain_leo-$(T).jld\"))[\"data\"]\n",
    "        R = length(chain_T)\n",
    "        LPD[:T => T] = Compute_LPD(chain_T, T, repeat([1/R], R))\n",
    "    end\n",
    "    global LPD_mcmc = LPD\n",
    "end;"
   ]
  },
  {
   "cell_type": "code",
   "execution_count": 108,
   "id": "45e90969-780b-41f8-81c3-1eb7b0885901",
   "metadata": {},
   "outputs": [],
   "source": [
    "# LPD on aSMC-LEO\n",
    "Random.seed!(1); let\n",
    "    \n",
    "    # Load SMC results\n",
    "    (; particles, ϕ_history, L_history) = load_SMC()\n",
    "\n",
    "    LPD = NamedArray(zeros(length(leave_ends)), leave_ends, :T)\n",
    "    @showprogress for T in leave_ends\n",
    "        # only interested in the marginal draw at which y_T is fully case-deleted\n",
    "        chain_T = particles[:T => T, :l => L_history[:T => T]]\n",
    "        R = length(chain_T)\n",
    "        LPD[:T => T] = Compute_LPD(chain_T, T, repeat([1/R], R))\n",
    "    end\n",
    "    \n",
    "    global LPD_smc = LPD\n",
    "end;"
   ]
  },
  {
   "cell_type": "code",
   "execution_count": 109,
   "id": "60541e32-173c-455d-acc6-5e0aee2a9228",
   "metadata": {},
   "outputs": [],
   "source": [
    "# LPD on PSIS-LEO\n",
    "Random.seed!(1); let\n",
    "    # Load baseline MCMC draw\n",
    "    chain = load(joinpath(\"output\", \"DNS\", \"mcmc\", \"chain.jld\"))[\"data\"]\n",
    "\n",
    "    # Importance weighting from weights_psis\n",
    "    LPD = NamedArray(zeros(length(leave_ends)), leave_ends, :T)\n",
    "    @showprogress for T in leave_ends\n",
    "        LPD[:T => T] = Compute_LPD(chain, T, weights_psis[:T => T])\n",
    "    end\n",
    "    \n",
    "    global LPD_psis = LPD\n",
    "end;"
   ]
  },
  {
   "cell_type": "code",
   "execution_count": 110,
   "id": "7a5391cf-00bf-46f9-940c-03815c4a09c7",
   "metadata": {},
   "outputs": [
    {
     "data": {
      "text/plain": [
       "\"C:\\\\Users\\\\o6m1g\\\\Documents\\\\GitHub\\\\SMC-LGO-CV-private\\\\img\\\\yield-lpd-compare.pdf\""
      ]
     },
     "execution_count": 110,
     "metadata": {},
     "output_type": "execute_result"
    }
   ],
   "source": [
    "let\n",
    "    # Store LPDs as matrix\n",
    "    _data = [LPD_mcmc LPD_smc LPD_psis]\n",
    "\n",
    "    \"\"\"Plot 1: cumulative LPD\"\"\"\n",
    "    plot(leave_ends, cumsum(_data; dims=1),\n",
    "        label=\"\",\n",
    "        color=[:blue :red :green],\n",
    "        linestyle=[:solid :dot :dot],\n",
    "        mswidth=0, markershape=[:pixel :o :square], markersize=3,\n",
    "        linewidth=2, alpha=[1 0.8 0.7],\n",
    "        legend=:topright\n",
    "    )\n",
    "    plt_1 = plot!()\n",
    "\n",
    "    \"\"\"Plot 2: running average LPD\"\"\"\n",
    "    plot(leave_ends, cumsum(_data; dims=1) ./ (1:size(_data,1)),\n",
    "        color=[:blue :red :green],\n",
    "        linestyle=[:solid :dot :dot],\n",
    "        mswidth=0, markershape=[:pixel :o :square], markersize=3,\n",
    "        linewidth=2, alpha=[1 0.8 0.7],\n",
    "        legend=false\n",
    "    )\n",
    "    (_min, _max) = ylims(plot!())\n",
    "    annotate!(leave_ends[end], mean(LPD_mcmc) - 0.15, text(\"MCMC-LEO\", 7, :blue, :left))\n",
    "    annotate!(leave_ends[end], mean(LPD_smc) + 0.10, text(\"SMC-LEO\", 7, :red, :left))\n",
    "    annotate!(leave_ends[end], mean(LPD_psis) + 0.10, text(\"PSIS-LEO\", 7, :green, :left))\n",
    "    plt_2 = plot!(ylim=(_min - 0.2, _max))\n",
    "\n",
    "    function _label_date(d::Date)::String\n",
    "        if month(d) == 1\n",
    "            \"$(month(d))\\n($(year(d)))\"\n",
    "        elseif month(d) == 7\n",
    "            \"$(month(d))\\n\" * L\"\\leftarrow\"\n",
    "        else\n",
    "            \"$(month(d))\"\n",
    "        end\n",
    "    end\n",
    "    \n",
    "    plt_a = plot(plt_2, plt_1, layout=grid(2,1,heights=[0.6,0.4]), size=(500,330),\n",
    "        title=[\"Backward running average\" \"Backward cumulative\"],\n",
    "        ylabel=[\" \" \"LPD\"],\n",
    "        xticks=(leave_ends, df.index[leave_ends] .|> _label_date),\n",
    "        tick_direction=:out,\n",
    "        #framestyle=:box,\n",
    "    )\n",
    "    \n",
    "    _dir = \"img_$(SESSION)\"\n",
    "    isdir(_dir) || mkpath(_dir) # Ensure path is present\n",
    "    savefig(joinpath(_dir, \"yield-lpd-compare.pdf\"))\n",
    "end"
   ]
  },
  {
   "cell_type": "code",
   "execution_count": 113,
   "id": "15193e36-4a26-4846-b947-d15f8e1e9665",
   "metadata": {},
   "outputs": [
    {
     "data": {
      "text/plain": [
       "\"C:\\\\Users\\\\o6m1g\\\\Documents\\\\GitHub\\\\SMC-LGO-CV-private\\\\img\\\\yield-paths.pdf\""
      ]
     },
     "execution_count": 113,
     "metadata": {},
     "output_type": "execute_result"
    }
   ],
   "source": [
    "let\n",
    "    # Load SMC results\n",
    "    (; particles, ϕ_history, L_history) = load_SMC()\n",
    "\n",
    "    # Plot runnning-avg LPD in the background\n",
    "    _data = cumsum(LPD_smc; dims=1)\n",
    "    _data = _data ./ (1:size(_data,1))\n",
    "    plot(leave_ends, _data,\n",
    "        label=\"\", color=:red, linestyle=:dot,\n",
    "        mswidth=0, markershape=:o, linewidth=2, alpha=1,\n",
    "        xticks=(leave_ends,\n",
    "            df.index[leave_ends] .|> (d -> month(d) == 1 ?  \"$(month(d))\\n($(year(d)))\" : month(d))),\n",
    "    )\n",
    "\n",
    "    # Plot vlines where SMC intervenes with the MCMC kernel\n",
    "    (_min, _max) = extrema(_data)\n",
    "    x_vec = Float64[]\n",
    "    for (T_i, T) in enumerate(leave_ends)\n",
    "        \n",
    "        _x = T .+ (1 .- ϕ_history[Name(T), Name(L_history[:T => T])])\n",
    "        vline!([_x], label=\"\", style=:dot, color=:black, alpha=0.25)\n",
    "        \n",
    "        _x = T .+ (1 .- ϕ_history[Name(T), Name.(1:L_history[:T => T]-1)])\n",
    "        vline!(_x, label=\"\", style=:dot, color=:black)\n",
    "        x_vec = [x_vec; _x]\n",
    "        \n",
    "        for _x_i in _x\n",
    "            _text = round(_x_i - T; digits=2)\n",
    "            if T_i == 1\n",
    "                _text = \"$(_text) (power coef.)\"\n",
    "            end\n",
    "            annotate!(_x_i + 0.24, _max + 0.13, text(\"  $(_text)\", :left, :black, 6, rotation=-90))\n",
    "        end\n",
    "    end\n",
    "    T_annotate_candidate = [T for T in leave_ends if sum(@. T-1/2 ≤ x_vec ≤ T+1) == 0]\n",
    "    if isempty(T_annotate_candidate)\n",
    "        annotate!(leave_ends[end] + 0.24, _max + 0.13, text(\"  0.0\", :left, :gray, 6, rotation=-90))\n",
    "    else\n",
    "        for T in T_annotate_candidate\n",
    "            annotate!(T + 0.24, _max + 0.13, text(\"  0.0\", :left, :gray, 6, rotation=-90))\n",
    "        end\n",
    "    end\n",
    "\n",
    "    \"\"\"Plot 1: paths\"\"\"\n",
    "    annotate!(leave_ends[end-1], _data[end-1] + .05, text(\"Running\\navg.\", :red, :bottom, 7))\n",
    "    plt_1 = plot!(title=\"Adaptive SMC path\",\n",
    "        ylim=(_min - 0.1, _max + 0.1), bottommargin=2Plots.mm,\n",
    "        # xlim=(minimum(leave_ends) - 1/2, maximum(leave_ends) + 2),\n",
    "        # framestyle=:semi,\n",
    "        grid=:none\n",
    "    )\n",
    "\n",
    "    # Load runtimes\n",
    "    times_smc = NamedArray(load(joinpath(\"output\", \"DNS\", \"smc\", \"times.jld\"))[\"data\"],\n",
    "        leave_ends, :T)\n",
    "    times_mcmc = load(joinpath(\"output\", \"DNS\", \"mcmc\", \"times_naive-leo.jld\"))[\"data\"]\n",
    "    \n",
    "    _data = cumsum([times_mcmc times_smc times_psis]; dims=1) / 60\n",
    "    plot(leave_ends, _data,\n",
    "        label=\"\",\n",
    "        color=[:blue :red :green],\n",
    "        linestyle=[:solid :dot :dot],\n",
    "        mswidth=0,\n",
    "        markershape=:o,\n",
    "        markersize=3,\n",
    "        linewidth=2, alpha=[1 0.8 0.7],# legend=:topright,\n",
    "        title=\"Runtime [min.]\",\n",
    "    )\n",
    "\n",
    "    # _mcmc_leo_avg_time = mean(times_mcmc)/60\n",
    "    # hline!([_mcmc_leo_avg_time], color=:blue, linestyle=:dash)\n",
    "    # annotate!(leave_ends[end:-1:begin][div(length(leave_ends), 3)], _mcmc_leo_avg_time, text(\"MCMC-LEO average\", 7, :blue, :bottom))\n",
    "    # until_idx = maximum(findall(cumsum(Vector(times_smc/60)) .<= _mcmc_leo_avg_time))\n",
    "    # vline!([mean([leave_ends[until_idx], leave_ends[until_idx+1]])], color=:blue, linestyle=:dash)\n",
    "    \n",
    "    scatter!(leave_ends[k̂s_psis .> 0.7], _data[k̂s_psis .> 0.7, 3],\n",
    "        label=\"\", color=:green, mswidth=3, markershape=:x)\n",
    "    annotate!(leave_ends[end], sum(times_mcmc)/60 + 7, text(\"MCMC-LEO\", 7, :blue, :left))\n",
    "    annotate!(leave_ends[end], sum(times_smc)/60 + 6, text(\"SMC-LEO\", 7, :red, :left))\n",
    "    annotate!(leave_ends[end], sum(times_psis)/60 + 7, text(\"PSIS-LEO\", 7, :green, :left))\n",
    "    \n",
    "    plt_2 = plot!(bottommargin=2Plots.mm, ylim=(0, 1.1maximum(_data)))\n",
    "\n",
    "    function _label_date(d::Date)::String\n",
    "        if month(d) == 1\n",
    "            \"$(month(d))\\n($(year(d)))\"\n",
    "        elseif month(d) == 7\n",
    "            \"$(month(d))\\n\" * L\"\\leftarrow\"\n",
    "        else\n",
    "            \"$(month(d))\"\n",
    "        end\n",
    "    end\n",
    "    \n",
    "    plot(plt_1, plt_2,\n",
    "        layout=grid(2,1,heights=[0.55,0.45]), size=(500,400),\n",
    "        xticks=(leave_ends, df.index[leave_ends] .|> _label_date),\n",
    "        tick_direction=:out,\n",
    "    )# |> display\n",
    "    \n",
    "    _dir = \"img_$(SESSION)\"\n",
    "    isdir(_dir) || mkpath(_dir) # Ensure path is present\n",
    "    savefig(joinpath(_dir, \"yield-paths.pdf\"))\n",
    "end"
   ]
  },
  {
   "cell_type": "code",
   "execution_count": null,
   "id": "1b324cbd-0d88-45e6-97af-31b411b3da91",
   "metadata": {},
   "outputs": [],
   "source": []
  }
 ],
 "metadata": {
  "kernelspec": {
   "display_name": "Julia (12 threads) 1.10.4",
   "language": "julia",
   "name": "julia-_12-threads_-1.10"
  },
  "language_info": {
   "file_extension": ".jl",
   "mimetype": "application/julia",
   "name": "julia",
   "version": "1.10.4"
  }
 },
 "nbformat": 4,
 "nbformat_minor": 5
}
