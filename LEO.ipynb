{
 "cells": [
  {
   "cell_type": "code",
   "execution_count": 1,
   "id": "4bccae1c-df4c-4572-b9a2-3d6144c727a6",
   "metadata": {},
   "outputs": [
    {
     "name": "stdout",
     "output_type": "stream",
     "text": [
      "Julia Version 1.10.4\n",
      "Commit 48d4fd4843 (2024-06-04 10:41 UTC)\n",
      "Build Info:\n",
      "  Official https://julialang.org/ release\n",
      "Platform Info:\n",
      "  OS: Windows (x86_64-w64-mingw32)\n",
      "  CPU: 24 × 12th Gen Intel(R) Core(TM) i9-12900K\n",
      "  WORD_SIZE: 64\n",
      "  LIBM: libopenlibm\n",
      "  LLVM: libLLVM-15.0.7 (ORCJIT, alderlake)\n",
      "Threads: 4 default, 0 interactive, 2 GC (on 24 virtual cores)\n",
      "Environment:\n",
      "  JULIA_NUM_THREADS = 4\n"
     ]
    }
   ],
   "source": [
    "versioninfo()"
   ]
  },
  {
   "cell_type": "code",
   "execution_count": 2,
   "id": "fb62982b-4699-4b45-9587-98ed53b8a211",
   "metadata": {},
   "outputs": [
    {
     "name": "stdout",
     "output_type": "stream",
     "text": [
      "\u001b[32m\u001b[1mStatus\u001b[22m\u001b[39m `C:\\Users\\o6m1g\\.julia\\environments\\v1.10\\Project.toml`\n",
      "  \u001b[90m[99985d1d] \u001b[39mAbstractGPs v0.5.21\n",
      "\u001b[32m⌃\u001b[39m \u001b[90m[c75e803d] \u001b[39mAdaptiveRejectionSampling v0.1.2\n",
      "\u001b[33m⌅\u001b[39m \u001b[90m[0bf59076] \u001b[39mAdvancedHMC v0.5.5\n",
      "\u001b[33m⌅\u001b[39m \u001b[90m[5b7e9947] \u001b[39mAdvancedMH v0.7.5\n",
      "  \u001b[90m[488c2830] \u001b[39mBSplines v0.3.3\n",
      "  \u001b[90m[0a1fb500] \u001b[39mBlockDiagonals v0.1.42\n",
      "  \u001b[90m[c88b6f0a] \u001b[39mBridgeStan v2.5.0\n",
      "\u001b[32m⌃\u001b[39m \u001b[90m[336ed68f] \u001b[39mCSV v0.10.14\n",
      "  \u001b[90m[aaaa29a8] \u001b[39mClustering v0.15.7\n",
      "  \u001b[90m[8f4d0f93] \u001b[39mConda v1.10.2\n",
      "\u001b[32m⌃\u001b[39m \u001b[90m[a93c6f00] \u001b[39mDataFrames v1.6.1\n",
      "  \u001b[90m[055956cb] \u001b[39mDiffEqPhysics v3.15.0\n",
      "\u001b[32m⌃\u001b[39m \u001b[90m[0c46a032] \u001b[39mDifferentialEquations v7.10.0\n",
      "\u001b[32m⌃\u001b[39m \u001b[90m[31c24e10] \u001b[39mDistributions v0.25.109\n",
      "  \u001b[90m[cc61a311] \u001b[39mFLoops v0.2.2\n",
      "\u001b[32m⌃\u001b[39m \u001b[90m[587475ba] \u001b[39mFlux v0.14.16\n",
      "  \u001b[90m[38e38edf] \u001b[39mGLM v1.9.0\n",
      "  \u001b[90m[bd48cda9] \u001b[39mGraphRecipes v0.5.13\n",
      "\u001b[32m⌃\u001b[39m \u001b[90m[34004b35] \u001b[39mHypergeometricFunctions v0.3.23\n",
      "\u001b[32m⌃\u001b[39m \u001b[90m[09f84164] \u001b[39mHypothesisTests v0.11.0\n",
      "\u001b[32m⌃\u001b[39m \u001b[90m[7073ff75] \u001b[39mIJulia v1.25.0\n",
      "  \u001b[90m[4138dd39] \u001b[39mJLD v0.13.5\n",
      "  \u001b[90m[682c06a0] \u001b[39mJSON v0.21.4\n",
      "\u001b[32m⌃\u001b[39m \u001b[90m[b964fa9f] \u001b[39mLaTeXStrings v1.3.1\n",
      "\u001b[32m⌃\u001b[39m \u001b[90m[6fdf6af0] \u001b[39mLogDensityProblems v2.1.1\n",
      "  \u001b[90m[10e44e05] \u001b[39mMATLAB v0.8.4\n",
      "\u001b[32m⌃\u001b[39m \u001b[90m[c7f686f2] \u001b[39mMCMCChains v5.7.1\n",
      "\u001b[32m⌃\u001b[39m \u001b[90m[86f7a689] \u001b[39mNamedArrays v0.10.2\n",
      "\u001b[32m⌃\u001b[39m \u001b[90m[bac558e1] \u001b[39mOrderedCollections v1.6.3\n",
      "\u001b[32m⌃\u001b[39m \u001b[90m[ce719bf2] \u001b[39mPSIS v0.9.5\n",
      "  \u001b[90m[d96e819e] \u001b[39mParameters v0.12.3\n",
      "\u001b[32m⌃\u001b[39m \u001b[90m[91a5bcdd] \u001b[39mPlots v1.40.5\n",
      "  \u001b[90m[5d96170c] \u001b[39mPolyaGammaDistribution v0.1.0\n",
      "  \u001b[90m[92933f4c] \u001b[39mProgressMeter v1.10.2\n",
      "  \u001b[90m[438e738f] \u001b[39mPyCall v1.96.4\n",
      "\u001b[32m⌃\u001b[39m \u001b[90m[6f49c342] \u001b[39mRCall v0.14.4\n",
      "  \u001b[90m[df47a6cb] \u001b[39mRData v1.0.0\n",
      "  \u001b[90m[37e2e3b7] \u001b[39mReverseDiff v1.15.3\n",
      "\u001b[32m⌃\u001b[39m \u001b[90m[f2b01f46] \u001b[39mRoots v2.1.6\n",
      "  \u001b[90m[276daf66] \u001b[39mSpecialFunctions v2.4.0\n",
      "\u001b[33m⌅\u001b[39m \u001b[90m[2913bbd2] \u001b[39mStatsBase v0.33.21\n",
      "\u001b[33m⌅\u001b[39m \u001b[90m[4c63d2b9] \u001b[39mStatsFuns v0.9.18\n",
      "  \u001b[90m[f3b207a7] \u001b[39mStatsPlots v0.15.7\n",
      "\u001b[32m⌃\u001b[39m \u001b[90m[fce5fe82] \u001b[39mTuring v0.28.3\n",
      "  \u001b[90m[ade2ca70] \u001b[39mDates\n",
      "  \u001b[90m[37e2e46d] \u001b[39mLinearAlgebra\n",
      "  \u001b[90m[9a3f8284] \u001b[39mRandom\n",
      "  \u001b[90m[9e88b42a] \u001b[39mSerialization\n",
      "  \u001b[90m[2f01184e] \u001b[39mSparseArrays v1.10.0\n",
      "\u001b[36m\u001b[1mInfo\u001b[22m\u001b[39m Packages marked with \u001b[32m⌃\u001b[39m and \u001b[33m⌅\u001b[39m have new versions available. Those with \u001b[32m⌃\u001b[39m may be upgradable, but those with \u001b[33m⌅\u001b[39m are restricted by compatibility constraints from upgrading. To see why use `status --outdated`\n"
     ]
    }
   ],
   "source": [
    "using Pkg; Pkg.status()"
   ]
  },
  {
   "cell_type": "markdown",
   "id": "5e6f922e-4f98-44b9-9fbe-2eadb2b7fbfe",
   "metadata": {},
   "source": [
    "# Examples"
   ]
  },
  {
   "cell_type": "code",
   "execution_count": 7,
   "id": "049349e3-2f33-4690-9ddf-f23e91b58d79",
   "metadata": {},
   "outputs": [],
   "source": [
    "include(\"Init.jl\")"
   ]
  },
  {
   "cell_type": "markdown",
   "id": "d09b4109-c2dc-4683-84f6-287cda7ed25c",
   "metadata": {},
   "source": [
    "## Yield curve"
   ]
  },
  {
   "cell_type": "code",
   "execution_count": 8,
   "id": "655ce6cf-764f-4efa-a914-5e86bf489b70",
   "metadata": {
    "tags": []
   },
   "outputs": [],
   "source": [
    "df = CSV.read(\"data/yield.csv\", DataFrame);"
   ]
  },
  {
   "cell_type": "code",
   "execution_count": 9,
   "id": "a5627c31-596f-4299-a737-dfcb11ed557f",
   "metadata": {},
   "outputs": [],
   "source": [
    "mutable struct Data_DNS\n",
    "    y::Matrix{Float64}\n",
    "    T::Int64\n",
    "    K::Int64\n",
    "    τ_axis::Vector{Int64}\n",
    "    X::Matrix{Float64}\n",
    "    dates::Vector\n",
    "    ρ::Float64\n",
    "end"
   ]
  },
  {
   "cell_type": "code",
   "execution_count": 36,
   "id": "9d5c8420-f399-4b4a-afa1-e5cd6b3c7ed1",
   "metadata": {},
   "outputs": [
    {
     "data": {
      "text/plain": [
       "generate_data (generic function with 2 methods)"
      ]
     },
     "execution_count": 36,
     "metadata": {},
     "output_type": "execute_result"
    }
   ],
   "source": [
    "function generate_data(T::Int=size(df,1))\n",
    "    _df = df[1:T,2:end]\n",
    "    τ_axis = [parse(Int64, τ_string) for τ_string in names(df[:,2:end])]\n",
    "    τ_axis = 12τ_axis # in months\n",
    "\n",
    "    x(τ) = (λ_t = 0.0609;\n",
    "        _m = τ * λ_t;\n",
    "        _exp = exp(-_m);\n",
    "        _s = (1 - _exp) / _m;\n",
    "        [1, _s, _s - _exp]\n",
    "    )\n",
    "    \n",
    "    global data = Data_DNS(\n",
    "        _df |> Matrix,\n",
    "        size(_df, 1),\n",
    "        size(_df, 2),\n",
    "        τ_axis,\n",
    "        vecvec2mat(x.(τ_axis)),\n",
    "        df.index,\n",
    "        1.\n",
    "    )\n",
    "end"
   ]
  },
  {
   "cell_type": "code",
   "execution_count": 37,
   "id": "b05807c5-9ebf-41e5-9a22-5f23545e631d",
   "metadata": {},
   "outputs": [
    {
     "data": {
      "text/plain": [
       "Data_DNS([0.293 0.905 … 2.49 2.643; 0.286 0.944 … 2.537 2.666; … ; 0.048 0.233 … 1.404 1.662; 0.094 0.312 … 1.516 1.79], 293, 5, [24, 60, 120, 240, 360], [1.0 0.52554392871227 0.2936789349181237; 1.0 0.2665880208221924 0.24070064890648354; … ; 1.0 0.0684181411392243 0.06841769203012686; 1.0 0.0456121145639038 0.04561211426293063], [Date(\"1999-09-01\"), Date(\"1999-10-01\"), Date(\"1999-11-01\"), Date(\"1999-12-01\"), Date(\"2000-01-01\"), Date(\"2000-02-01\"), Date(\"2000-03-01\"), Date(\"2000-04-01\"), Date(\"2000-05-01\"), Date(\"2000-06-01\")  …  Date(\"2023-04-01\"), Date(\"2023-05-01\"), Date(\"2023-06-01\"), Date(\"2023-07-01\"), Date(\"2023-08-01\"), Date(\"2023-09-01\"), Date(\"2023-10-01\"), Date(\"2023-11-01\"), Date(\"2023-12-01\"), Date(\"2024-01-01\")], 1.0)"
      ]
     },
     "execution_count": 37,
     "metadata": {},
     "output_type": "execute_result"
    }
   ],
   "source": [
    "generate_data()"
   ]
  },
  {
   "cell_type": "code",
   "execution_count": 38,
   "id": "ea4b129b-925f-44c8-83f7-ce7f37fa996a",
   "metadata": {},
   "outputs": [],
   "source": [
    "include(\"LEO.jl\")"
   ]
  },
  {
   "cell_type": "markdown",
   "id": "2221ef59-4dfa-4126-83bb-fda104b7e849",
   "metadata": {},
   "source": [
    "### Initial draw"
   ]
  },
  {
   "cell_type": "code",
   "execution_count": 39,
   "id": "5f8fa774-2381-4efc-8667-e4979fee1b59",
   "metadata": {},
   "outputs": [
    {
     "name": "stderr",
     "output_type": "stream",
     "text": [
      "\u001b[32mProgress: 100%|█████████████████████████████████████████| Time: 0:03:36\u001b[39m\n"
     ]
    }
   ],
   "source": [
    "Θ = Params(); chain = Params[]\n",
    "@showprogress for r in 1:12_000\n",
    "    Θ |> GibbsScan\n",
    "    if (r > 2_000) & (r % 10 == 0)\n",
    "        push!(chain, Θ |> deepcopy)\n",
    "    end\n",
    "end"
   ]
  },
  {
   "cell_type": "code",
   "execution_count": 40,
   "id": "1df6e0ac-9680-4ec0-a2a8-b1d545c2dddf",
   "metadata": {},
   "outputs": [],
   "source": [
    "save(\"output/DNS/chain.jld\", \"data\", chain)"
   ]
  },
  {
   "cell_type": "markdown",
   "id": "50ba5fbb-69f2-4c62-8eda-75fda91fd4ff",
   "metadata": {},
   "source": [
    "### Naive LEO"
   ]
  },
  {
   "cell_type": "code",
   "execution_count": 287,
   "id": "0b32e434-b434-4de9-99ec-60106c8b206f",
   "metadata": {},
   "outputs": [
    {
     "data": {
      "text/plain": [
       "293:-1:273"
      ]
     },
     "execution_count": 287,
     "metadata": {},
     "output_type": "execute_result"
    }
   ],
   "source": [
    "leave_ends = size(df, 1):-1:size(df, 1)-20"
   ]
  },
  {
   "cell_type": "code",
   "execution_count": 283,
   "id": "ec246017-a54b-496f-acbe-e3297eade3db",
   "metadata": {
    "scrolled": true
   },
   "outputs": [
    {
     "name": "stderr",
     "output_type": "stream",
     "text": [
      "\u001b[32mProgress: 100%|█████████████████████████████████████████| Time: 1:13:20\u001b[39m\n"
     ]
    }
   ],
   "source": [
    "times = Float64[]\n",
    "\n",
    "@showprogress for T in leave_ends\n",
    "    \"\"\"Create data\"\"\"\n",
    "    generate_data(T-1) # exclude last\n",
    "    \n",
    "    \"\"\"MCMC\"\"\"\n",
    "    Θ = Params(); chain = Params[]\n",
    "    time = @elapsed for r in 1:12_000\n",
    "        Θ |> GibbsScan\n",
    "        if (r > 2_000) & (r % 10 == 0)\n",
    "            push!(chain, Θ |> deepcopy)\n",
    "        end\n",
    "    end\n",
    "    push!(times, time)\n",
    "\n",
    "    save(\"output/DNS/chain-LEO-$(T).jld\", \"data\", chain)\n",
    "    save(\"output/DNS/times-LEO.jld\", \"data\", times)\n",
    "    # break\n",
    "end"
   ]
  },
  {
   "cell_type": "markdown",
   "id": "dec32cbb-07ff-4cb5-b0e5-1d4cd377901d",
   "metadata": {},
   "source": [
    "### SMC-LEO"
   ]
  },
  {
   "cell_type": "code",
   "execution_count": 324,
   "id": "5478b623-6694-41eb-8108-edac854c6351",
   "metadata": {},
   "outputs": [
    {
     "data": {
      "text/plain": [
       "293:-1:273"
      ]
     },
     "execution_count": 324,
     "metadata": {},
     "output_type": "execute_result"
    }
   ],
   "source": [
    "leave_ends"
   ]
  },
  {
   "cell_type": "code",
   "execution_count": 325,
   "id": "77cbb371-6056-4c85-99b4-c7e40578b171",
   "metadata": {},
   "outputs": [],
   "source": [
    "generate_data();"
   ]
  },
  {
   "cell_type": "code",
   "execution_count": 326,
   "id": "8021b1dc-4649-42a1-813e-4fbba8aef03c",
   "metadata": {
    "scrolled": true
   },
   "outputs": [
    {
     "name": "stderr",
     "output_type": "stream",
     "text": [
      "\u001b[36m\u001b[1m[ \u001b[22m\u001b[39m\u001b[36m\u001b[1mInfo: \u001b[22m\u001b[39m293\n",
      "\u001b[36m\u001b[1m[ \u001b[22m\u001b[39m\u001b[36m\u001b[1mInfo: \u001b[22m\u001b[39mTargeting ϕ=0.6313816406249998\n",
      "\u001b[32mProgress: 100%|█████████████████████████████████████████| Time: 0:00:31\u001b[39m\u001b\u0000\u0000\u0000\u0000\u0000\u0000\u0000\u0000\u0000\u0000\u0000\u0000\u0000\u0000\u0000\u0000\u0000\u0000\u0000\u0000\u0000\u0000\u0000\u0000\u0000\u0000\u0000\u0000\u0000\u0000\u0000\u0000\u0000\u0000\u0000\u0000\u0000\u0000\u0000\u0000\u0000\u0000\u0000\u0000\u0000\u0000\u0000\u0000\u0000\u0000\u0000\u0000\u0000\u0000\u0000\u0000\u0000\u0000\u0000\u0000\u0000\u0000\u0000\u0000\u0000\u0000\u0000\u0000\u0000\u0000\u0000\u0000\u0000\u0000\u0000\u0000\u0000\u0000\u0000\u0000\u0000\u0000\u0000\u0000\u0000\u0000\u0000\u0000\u0000\u0000\u0000\u0000\u0000\u0000\u0000\u0000\u0000\u0000\u0000\u0000\u0000\u0000\u0000\u0000\u0000\u0000\u0000\u0000\u0000\u0000\u0000\u0000\u0000\u0000\u0000\u0000\u0000\u0000\u0000\u0000\u0000\u0000\u0000\u0000\u0000\u0000\u0000\u0000\u0000\u0000\u0000\u0000\u0000\u0000\u0000\u0000\u0000\u0000\u0000\u0000\u0000\u0000\u0000\u0000\u0000\u0000\u0000\u0000\u0000\u0000\u0000\u0000\u0000\u0000\u0000\u0000\u0000\u0000\u0000\u0000\u0000\n",
      "\u001b[36m\u001b[1m[ \u001b[22m\u001b[39m\u001b[36m\u001b[1mInfo: \u001b[22m\u001b[39mTargeting ϕ=1\n",
      "\u001b[32mProgress: 100%|█████████████████████████████████████████| Time: 0:00:31\u001b[39m\n",
      "\u001b[36m\u001b[1m[ \u001b[22m\u001b[39m\u001b[36m\u001b[1mInfo: \u001b[22m\u001b[39m292\n",
      "\u001b[36m\u001b[1m[ \u001b[22m\u001b[39m\u001b[36m\u001b[1mInfo: \u001b[22m\u001b[39mTargeting ϕ=0.8760398437499999\n",
      "\u001b[32mProgress: 100%|█████████████████████████████████████████| Time: 0:00:31\u001b[39m\n",
      "\u001b[36m\u001b[1m[ \u001b[22m\u001b[39m\u001b[36m\u001b[1mInfo: \u001b[22m\u001b[39mTargeting ϕ=1\n",
      "\u001b[32mProgress: 100%|█████████████████████████████████████████| Time: 0:00:31\u001b[39m\n",
      "\u001b[36m\u001b[1m[ \u001b[22m\u001b[39m\u001b[36m\u001b[1mInfo: \u001b[22m\u001b[39m291\n",
      "\u001b[36m\u001b[1m[ \u001b[22m\u001b[39m\u001b[36m\u001b[1mInfo: \u001b[22m\u001b[39mTargeting ϕ=0.35365371093749987\n",
      "\u001b[32mProgress: 100%|█████████████████████████████████████████| Time: 0:00:31\u001b[39m\u001b[32mProgress:  98%|█████████████████████████████████████████|  ETA: 0:00:00\u001b[39m\u0000\u0000\u0000\u0000\u0000\u0000\u0000\u0000\u0000\u0000\u0000\u0000\u0000\u0000\u0000\u0000\u0000\u0000\u0000\u0000\u0000\u0000\u0000\u0000\u0000\u0000\u0000\u0000\u0000\u0000\u0000\u0000\u0000\u0000\u0000\u0000\u0000\u0000\u0000\u0000\u0000\u0000\u0000\u0000\u0000\u0000\u0000\u0000\u0000\u0000\u0000\u0000\u0000\u0000\u0000\u0000\u0000\u0000\u0000\u0000\u0000\u0000\u0000\u0000\u0000\u0000\u0000\u0000\u0000\u0000\u0000\u0000\u0000\u0000\u0000\u0000\u0000\u0000\u0000\u0000\u0000\u0000\u0000\u0000\u0000\u0000\u0000\u0000\u0000\u0000\u0000\u0000\u0000\u0000\u0000\u0000\u0000\u0000\u0000\u0000\u0000\u0000\u0000\u0000\u0000\u0000\u0000\u0000\u0000\u0000\u0000\u0000\u0000\u0000\u0000\u0000\u0000\u0000\u0000\u0000\u0000\u0000\u0000\u0000\u0000\u0000\u0000\u0000\u0000\u0000\u0000\u0000\u0000\u0000\u0000\u0000\u0000\u0000\u0000\u0000\u0000\u0000\u0000\u0000\u0000\u0000\u0000\u0000\u0000\u0000\u0000\u0000\u0000\u0000\u0000\u0000\u0000\u0000\u0000\u0000\u0000\u0000\u0000\u0000\n",
      "\u001b[36m\u001b[1m[ \u001b[22m\u001b[39m\u001b[36m\u001b[1mInfo: \u001b[22m\u001b[39mTargeting ϕ=0.7070718351364133\n",
      "\u001b[32mProgress: 100%|█████████████████████████████████████████| Time: 0:00:30\u001b[39m\n",
      "\u001b[32mProgress:  40%|█████████████████                        |  ETA: 0:01:33\u001b[39m\u001b[36m\u001b[1m[ \u001b[22m\u001b[39m\u001b[36m\u001b[1mInfo: \u001b[22m\u001b[39mTargeting ϕ=1\n",
      "\u001b[32mProgress: 100%|█████████████████████████████████████████| Time: 0:00:30\u001b[39m\n",
      "\u001b[32mProgress: 100%|█████████████████████████████████████████| Time: 0:01:32\u001b[39m\n",
      "\u001b[36m\u001b[1m[ \u001b[22m\u001b[39m\u001b[36m\u001b[1mInfo: \u001b[22m\u001b[39m290\n",
      "\u001b[36m\u001b[1m[ \u001b[22m\u001b[39m\u001b[36m\u001b[1mInfo: \u001b[22m\u001b[39mTargeting ϕ=0.7129343749999999\n",
      "\u001b[32mProgress: 100%|█████████████████████████████████████████| Time: 0:00:30\u001b[39m\n",
      "\u001b[36m\u001b[1m[ \u001b[22m\u001b[39m\u001b[36m\u001b[1mInfo: \u001b[22m\u001b[39mTargeting ϕ=1\n",
      "\u001b[32mProgress: 100%|█████████████████████████████████████████| Time: 0:00:30\u001b[39m\n",
      "\u001b[36m\u001b[1m[ \u001b[22m\u001b[39m\u001b[36m\u001b[1mInfo: \u001b[22m\u001b[39m289\n",
      "\u001b[36m\u001b[1m[ \u001b[22m\u001b[39m\u001b[36m\u001b[1mInfo: \u001b[22m\u001b[39mTargeting ϕ=0.5759257812499998\n",
      "\u001b[32mProgress: 100%|█████████████████████████████████████████| Time: 0:00:30\u001b[39m\n",
      "\u001b[36m\u001b[1m[ \u001b[22m\u001b[39m\u001b[36m\u001b[1mInfo: \u001b[22m\u001b[39mTargeting ϕ=1\n",
      "\u001b[32mProgress: 100%|█████████████████████████████████████████| Time: 0:00:30\u001b[39m\n",
      "\u001b[36m\u001b[1m[ \u001b[22m\u001b[39m\u001b[36m\u001b[1mInfo: \u001b[22m\u001b[39m288\n",
      "\u001b[36m\u001b[1m[ \u001b[22m\u001b[39m\u001b[36m\u001b[1mInfo: \u001b[22m\u001b[39mTargeting ϕ=0.7586039062499998\n",
      "\u001b[32mProgress: 100%|█████████████████████████████████████████| Time: 0:00:30\u001b[39m\n",
      "\u001b[36m\u001b[1m[ \u001b[22m\u001b[39m\u001b[36m\u001b[1mInfo: \u001b[22m\u001b[39mTargeting ϕ=1\n",
      "\u001b[32mProgress: 100%|█████████████████████████████████████████| Time: 0:00:30\u001b[39m\n",
      "\u001b[36m\u001b[1m[ \u001b[22m\u001b[39m\u001b[36m\u001b[1mInfo: \u001b[22m\u001b[39m287\n",
      "\u001b[36m\u001b[1m[ \u001b[22m\u001b[39m\u001b[36m\u001b[1mInfo: \u001b[22m\u001b[39mTargeting ϕ=0.9217093749999999\n",
      "\u001b[32mProgress: 100%|█████████████████████████████████████████| Time: 0:00:30\u001b[39m\u001b[32mProgress:  98%|█████████████████████████████████████████|  ETA: 0:00:01\u001b[39m\n",
      "\u001b[36m\u001b[1m[ \u001b[22m\u001b[39m\u001b[36m\u001b[1mInfo: \u001b[22m\u001b[39mTargeting ϕ=1\n",
      "\u001b[32mProgress: 100%|█████████████████████████████████████████| Time: 0:00:30\u001b[39m\n",
      "\u001b[36m\u001b[1m[ \u001b[22m\u001b[39m\u001b[36m\u001b[1mInfo: \u001b[22m\u001b[39m286\n",
      "\u001b[36m\u001b[1m[ \u001b[22m\u001b[39m\u001b[36m\u001b[1mInfo: \u001b[22m\u001b[39mTargeting ϕ=1\n",
      "\u001b[32mProgress: 100%|█████████████████████████████████████████| Time: 0:00:30\u001b[39m\n",
      "\u001b[36m\u001b[1m[ \u001b[22m\u001b[39m\u001b[36m\u001b[1mInfo: \u001b[22m\u001b[39m285\n",
      "\u001b[36m\u001b[1m[ \u001b[22m\u001b[39m\u001b[36m\u001b[1mInfo: \u001b[22m\u001b[39mTargeting ϕ=0.7357691406249999\n",
      "\u001b[32mProgress: 100%|█████████████████████████████████████████| Time: 0:00:30\u001b[39m\n",
      "\u001b[36m\u001b[1m[ \u001b[22m\u001b[39m\u001b[36m\u001b[1mInfo: \u001b[22m\u001b[39mTargeting ϕ=1\n",
      "\u001b[32mProgress: 100%|█████████████████████████████████████████| Time: 0:00:30\u001b[39m\n",
      "\u001b[36m\u001b[1m[ \u001b[22m\u001b[39m\u001b[36m\u001b[1mInfo: \u001b[22m\u001b[39m284\n",
      "\u001b[36m\u001b[1m[ \u001b[22m\u001b[39m\u001b[36m\u001b[1mInfo: \u001b[22m\u001b[39mTargeting ϕ=0.6118089843749998\n",
      "\u001b[32mProgress: 100%|█████████████████████████████████████████| Time: 0:00:30\u001b[39m\n",
      "\u001b[36m\u001b[1m[ \u001b[22m\u001b[39m\u001b[36m\u001b[1mInfo: \u001b[22m\u001b[39mTargeting ϕ=1\n",
      "\u001b[32mProgress: 100%|█████████████████████████████████████████| Time: 0:00:30\u001b[39m\n",
      "\u001b[36m\u001b[1m[ \u001b[22m\u001b[39m\u001b[36m\u001b[1mInfo: \u001b[22m\u001b[39m283\n",
      "\u001b[36m\u001b[1m[ \u001b[22m\u001b[39m\u001b[36m\u001b[1mInfo: \u001b[22m\u001b[39mTargeting ϕ=0.9575925781249999\n",
      "\u001b[32mProgress: 100%|█████████████████████████████████████████| Time: 0:00:30\u001b[39m\n",
      "\u001b[36m\u001b[1m[ \u001b[22m\u001b[39m\u001b[36m\u001b[1mInfo: \u001b[22m\u001b[39mTargeting ϕ=1\n",
      "\u001b[32mProgress: 100%|█████████████████████████████████████████| Time: 0:00:30\u001b[39m\n",
      "\u001b[36m\u001b[1m[ \u001b[22m\u001b[39m\u001b[36m\u001b[1mInfo: \u001b[22m\u001b[39m282\n",
      "\u001b[36m\u001b[1m[ \u001b[22m\u001b[39m\u001b[36m\u001b[1mInfo: \u001b[22m\u001b[39mTargeting ϕ=0.6150710937499998\n",
      "\u001b[32mProgress: 100%|█████████████████████████████████████████| Time: 0:00:30\u001b[39m\n",
      "\u001b[36m\u001b[1m[ \u001b[22m\u001b[39m\u001b[36m\u001b[1mInfo: \u001b[22m\u001b[39mTargeting ϕ=1\n",
      "\u001b[32mProgress: 100%|█████████████████████████████████████████| Time: 0:00:30\u001b[39m\n",
      "\u001b[36m\u001b[1m[ \u001b[22m\u001b[39m\u001b[36m\u001b[1mInfo: \u001b[22m\u001b[39m281\n",
      "\u001b[36m\u001b[1m[ \u001b[22m\u001b[39m\u001b[36m\u001b[1mInfo: \u001b[22m\u001b[39mTargeting ϕ=1\n",
      "\u001b[32mProgress: 100%|█████████████████████████████████████████| Time: 0:00:29\u001b[39m\n",
      "\u001b[36m\u001b[1m[ \u001b[22m\u001b[39m\u001b[36m\u001b[1mInfo: \u001b[22m\u001b[39m280\n",
      "\u001b[36m\u001b[1m[ \u001b[22m\u001b[39m\u001b[36m\u001b[1mInfo: \u001b[22m\u001b[39mTargeting ϕ=0.8368945312499998\n",
      "\u001b[32mProgress: 100%|█████████████████████████████████████████| Time: 0:00:29\u001b[39m\n",
      "\u001b[36m\u001b[1m[ \u001b[22m\u001b[39m\u001b[36m\u001b[1mInfo: \u001b[22m\u001b[39mTargeting ϕ=1\n",
      "\u001b[32mProgress: 100%|█████████████████████████████████████████| Time: 0:00:30\u001b[39m\n",
      "\u001b[36m\u001b[1m[ \u001b[22m\u001b[39m\u001b[36m\u001b[1mInfo: \u001b[22m\u001b[39m279\n",
      "\u001b[36m\u001b[1m[ \u001b[22m\u001b[39m\u001b[36m\u001b[1mInfo: \u001b[22m\u001b[39mTargeting ϕ=1\n",
      "\u001b[32mProgress: 100%|█████████████████████████████████████████| Time: 0:00:29\u001b[39m\n",
      "\u001b[36m\u001b[1m[ \u001b[22m\u001b[39m\u001b[36m\u001b[1mInfo: \u001b[22m\u001b[39m278\n",
      "\u001b[36m\u001b[1m[ \u001b[22m\u001b[39m\u001b[36m\u001b[1mInfo: \u001b[22m\u001b[39mTargeting ϕ=0.6020226562499998\n",
      "\u001b[32mProgress: 100%|█████████████████████████████████████████| Time: 0:00:29\u001b[39m\n",
      "\u001b[36m\u001b[1m[ \u001b[22m\u001b[39m\u001b[36m\u001b[1mInfo: \u001b[22m\u001b[39mTargeting ϕ=1\n",
      "\u001b[32mProgress: 100%|█████████████████████████████████████████| Time: 0:00:29\u001b[39m\n",
      "\u001b[36m\u001b[1m[ \u001b[22m\u001b[39m\u001b[36m\u001b[1mInfo: \u001b[22m\u001b[39m277\n",
      "\u001b[36m\u001b[1m[ \u001b[22m\u001b[39m\u001b[36m\u001b[1mInfo: \u001b[22m\u001b[39mTargeting ϕ=1\n",
      "\u001b[32mProgress: 100%|█████████████████████████████████████████| Time: 0:00:29\u001b[39m\n",
      "\u001b[36m\u001b[1m[ \u001b[22m\u001b[39m\u001b[36m\u001b[1mInfo: \u001b[22m\u001b[39m276\n",
      "\u001b[36m\u001b[1m[ \u001b[22m\u001b[39m\u001b[36m\u001b[1mInfo: \u001b[22m\u001b[39mTargeting ϕ=0.9217093749999999\n",
      "\u001b[32mProgress: 100%|█████████████████████████████████████████| Time: 0:00:29\u001b[39m\n",
      "\u001b[36m\u001b[1m[ \u001b[22m\u001b[39m\u001b[36m\u001b[1mInfo: \u001b[22m\u001b[39mTargeting ϕ=1\n",
      "\u001b[32mProgress: 100%|█████████████████████████████████████████| Time: 0:00:29\u001b[39m\n",
      "\u001b[36m\u001b[1m[ \u001b[22m\u001b[39m\u001b[36m\u001b[1mInfo: \u001b[22m\u001b[39m275\n",
      "\u001b[36m\u001b[1m[ \u001b[22m\u001b[39m\u001b[36m\u001b[1mInfo: \u001b[22m\u001b[39mTargeting ϕ=1\n",
      "\u001b[32mProgress: 100%|█████████████████████████████████████████| Time: 0:00:29\u001b[39m\n",
      "\u001b[36m\u001b[1m[ \u001b[22m\u001b[39m\u001b[36m\u001b[1mInfo: \u001b[22m\u001b[39m274\n",
      "\u001b[36m\u001b[1m[ \u001b[22m\u001b[39m\u001b[36m\u001b[1mInfo: \u001b[22m\u001b[39mTargeting ϕ=1\n",
      "\u001b[32mProgress: 100%|█████████████████████████████████████████| Time: 0:00:29\u001b[39m\n",
      "\u001b[36m\u001b[1m[ \u001b[22m\u001b[39m\u001b[36m\u001b[1mInfo: \u001b[22m\u001b[39m273\n",
      "\u001b[36m\u001b[1m[ \u001b[22m\u001b[39m\u001b[36m\u001b[1mInfo: \u001b[22m\u001b[39mTargeting ϕ=0.9412820312499999\n",
      "\u001b[32mProgress: 100%|█████████████████████████████████████████| Time: 0:00:29\u001b[39m\n",
      "\u001b[36m\u001b[1m[ \u001b[22m\u001b[39m\u001b[36m\u001b[1mInfo: \u001b[22m\u001b[39mTargeting ϕ=1\n",
      "\u001b[32mProgress: 100%|█████████████████████████████████████████| Time: 0:00:29\u001b[39m\n"
     ]
    }
   ],
   "source": [
    "let\n",
    "    Random.seed!(1)\n",
    "    chain = load(\"output/DNS/chain.jld\")[\"data\"]\n",
    "\n",
    "    # Define problem dimensions\n",
    "    R = length(chain)\n",
    "    L = 5\n",
    "\n",
    "    # Obtain unconstrained prior draw\n",
    "    Θ_0 = chain\n",
    "    \n",
    "    # Initialize containers\n",
    "    particles = NamedArray(\n",
    "        repeat([Θ_0], length(leave_ends), L+1),\n",
    "        (leave_ends, 0:L),\n",
    "        (:T, :l))\n",
    "    ϕ_history = NamedArray(\n",
    "        zeros(length(leave_ends), L+1),\n",
    "        (leave_ends, 0:L),\n",
    "        (:T, :l))\n",
    "    L_history = NamedArray(repeat([-1], length(leave_ends)),\n",
    "        leave_ends, :T)\n",
    "    times = NamedArray(zeros(length(leave_ends)), leave_ends, :T)\n",
    "    \n",
    "    # Log weights normalizer\n",
    "    function _normalize(_log_w::Vector{Float64})::Vector{Float64}\n",
    "        # normalize log weights\n",
    "        _w = exp.(_log_w .- maximum(_log_w))\n",
    "        _w = _w / sum(_w)\n",
    "        _w\n",
    "    end\n",
    "\n",
    "    # ESS computer\n",
    "    function _ess(_w::Vector{Float64})::Float64\n",
    "        1 / sum(@. exp(2 * log(_w)))\n",
    "        # No: 1 / sum(@. exp(2 * _log_w))\n",
    "    end\n",
    "    \n",
    "    # Log ratio\n",
    "    function log_G(T::Int, l::Int, n::Int)::Float64\n",
    "        _particle = particles[:T => T, :l => l-1][n]\n",
    "        -logpdf(MvNormal(data.X * _particle.β[T,:], _particle.Σ_y), data.y[T,:])\n",
    "    end\n",
    "\n",
    "    for (T_i, T) in enumerate(leave_ends)\n",
    "        @info T\n",
    "        \n",
    "        # Set initial values, starting index\n",
    "        particles[:T => T, :l => 0] = T_i == 1 ? Θ_0 : particles[:T => leave_ends[T_i - 1], :l => L_history[:T => leave_ends[T_i - 1]]]\n",
    "        ϕ_history[:T => T, :l => 0] = 0.\n",
    "        break_flag = false\n",
    "        data.ρ = 1\n",
    "    \n",
    "        log_weights_T = [log_G(T, 1, n) for n in 1:R]\n",
    "        \n",
    "        time = @elapsed @showprogress for l in 1:L\n",
    "    \n",
    "            ϕ_0 = ϕ_history[:T => T, :l => l-1]\n",
    "            function _ϕ2reff(ϕ::Union{Float64, Int64})::Float64\n",
    "                @assert 0 <= ϕ <= 1\n",
    "                _log_weights = (ϕ - ϕ_0) * log_weights_T\n",
    "                _log_weights = _log_weights .- maximum(_log_weights)\n",
    "                _ESS = _log_weights |> _normalize |> _ess\n",
    "                _ESS - 0.5R\n",
    "            end\n",
    "            # plot(0:0.01:1, _ϕ2reff) |> display\n",
    "            \n",
    "            # Initialize next distribution parameter\n",
    "            ϕ_1 = nothing\n",
    "            if _ϕ2reff(1) > 0 # Case 1: ESS is above threshold\n",
    "                ϕ_1 = 1\n",
    "                break_flag = true\n",
    "            else # Case 2: find next distribution\n",
    "                ϕ_1 = find_zero(_ϕ2reff, (ϕ_history[:T => T, :l => l-1] + 1e-4, 1), xtol=0.1, maxiters=10, verbose=false)\n",
    "            end\n",
    "            \n",
    "            @info \"Targeting ϕ=$(ϕ_1)\"\n",
    "            data.T = T\n",
    "            data.ρ = 1 - ϕ_1\n",
    "        \n",
    "            # Compute log weights\n",
    "            _log_weights = (ϕ_1 - ϕ_0) * log_weights_T\n",
    "            _log_weights = _log_weights .- maximum(_log_weights)\n",
    "            \n",
    "            # MCMC kernel\n",
    "            A_0 = wsample(1:R, _log_weights |> _normalize, R)\n",
    "            _begin = particles[:T => T, :l => l-1][A_0] |> deepcopy\n",
    "            _end = _begin |> deepcopy\n",
    "            #@showprogress for n in 1:R\n",
    "            p = ProgressMeter.Progress(R); @Threads.threads for n in 1:R\n",
    "                _end[n] = _begin[n] |> GibbsScan_LEO^5\n",
    "                ProgressMeter.next!(p)\n",
    "                # @assert size(_end[n].β) == (T, 3)\n",
    "            end\n",
    "            \n",
    "            particles[:T => T, :l => l] = _end\n",
    "            ϕ_history[:T => T, :l => l] = ϕ_1\n",
    "            if break_flag\n",
    "                L_history[:T => T] = l\n",
    "                break\n",
    "            end\n",
    "        end\n",
    "        times[:T => T] = time\n",
    "    end\n",
    "\n",
    "    global particles = particles\n",
    "    global ϕ_history = ϕ_history\n",
    "    global L_history = L_history\n",
    "    global times = times\n",
    "end;"
   ]
  },
  {
   "cell_type": "code",
   "execution_count": 327,
   "id": "4d33208e-bb29-44d9-bb61-b865d1c24a66",
   "metadata": {},
   "outputs": [],
   "source": [
    "save(\"output/DNS/particles.jld\", \"data\", particles |> Matrix{Vector{Params}}) # (T, L)\n",
    "save(\"output/DNS/paths.jld\", \"data\", ϕ_history |> Matrix{Float64}) # (T, L)\n",
    "save(\"output/DNS/lengths.jld\", \"data\", L_history |> Vector{Int64}) # T\n",
    "save(\"output/DNS/times.jld\", \"data\", times |> Vector{Float64}) # T"
   ]
  },
  {
   "cell_type": "markdown",
   "id": "d9350536-0a76-482f-8916-81449658a480",
   "metadata": {},
   "source": [
    "### PSIS-LEO"
   ]
  },
  {
   "cell_type": "code",
   "execution_count": 452,
   "id": "1a3012dc-b699-4054-b102-1bd8da200f05",
   "metadata": {},
   "outputs": [],
   "source": [
    "generate_data();"
   ]
  },
  {
   "cell_type": "code",
   "execution_count": 453,
   "id": "6e00efa0-316c-4561-a1b6-68de16683426",
   "metadata": {},
   "outputs": [
    {
     "name": "stderr",
     "output_type": "stream",
     "text": [
      "\u001b[36m\u001b[1m[ \u001b[22m\u001b[39m\u001b[36m\u001b[1mInfo: \u001b[22m\u001b[39m293\n",
      "\u001b[36m\u001b[1m[ \u001b[22m\u001b[39m\u001b[36m\u001b[1mInfo: \u001b[22m\u001b[39m292\n",
      "\u001b[36m\u001b[1m[ \u001b[22m\u001b[39m\u001b[36m\u001b[1mInfo: \u001b[22m\u001b[39m291\n",
      "\u001b[36m\u001b[1m[ \u001b[22m\u001b[39m\u001b[36m\u001b[1mInfo: \u001b[22m\u001b[39m290\n",
      "\u001b[36m\u001b[1m[ \u001b[22m\u001b[39m\u001b[36m\u001b[1mInfo: \u001b[22m\u001b[39m289\n",
      "\u001b[36m\u001b[1m[ \u001b[22m\u001b[39m\u001b[36m\u001b[1mInfo: \u001b[22m\u001b[39m288\n",
      "\u001b[36m\u001b[1m[ \u001b[22m\u001b[39m\u001b[36m\u001b[1mInfo: \u001b[22m\u001b[39m287\n",
      "\u001b[36m\u001b[1m[ \u001b[22m\u001b[39m\u001b[36m\u001b[1mInfo: \u001b[22m\u001b[39m286\n",
      "\u001b[36m\u001b[1m[ \u001b[22m\u001b[39m\u001b[36m\u001b[1mInfo: \u001b[22m\u001b[39m285\n",
      "\u001b[36m\u001b[1m[ \u001b[22m\u001b[39m\u001b[36m\u001b[1mInfo: \u001b[22m\u001b[39m284\n",
      "\u001b[36m\u001b[1m[ \u001b[22m\u001b[39m\u001b[36m\u001b[1mInfo: \u001b[22m\u001b[39m283\n",
      "\u001b[36m\u001b[1m[ \u001b[22m\u001b[39m\u001b[36m\u001b[1mInfo: \u001b[22m\u001b[39m282\n",
      "\u001b[36m\u001b[1m[ \u001b[22m\u001b[39m\u001b[36m\u001b[1mInfo: \u001b[22m\u001b[39m281\n",
      "\u001b[36m\u001b[1m[ \u001b[22m\u001b[39m\u001b[36m\u001b[1mInfo: \u001b[22m\u001b[39m280\n",
      "\u001b[36m\u001b[1m[ \u001b[22m\u001b[39m\u001b[36m\u001b[1mInfo: \u001b[22m\u001b[39m279\n",
      "\u001b[36m\u001b[1m[ \u001b[22m\u001b[39m\u001b[36m\u001b[1mInfo: \u001b[22m\u001b[39m278\n",
      "\u001b[36m\u001b[1m[ \u001b[22m\u001b[39m\u001b[36m\u001b[1mInfo: \u001b[22m\u001b[39m277\n",
      "\u001b[36m\u001b[1m[ \u001b[22m\u001b[39m\u001b[36m\u001b[1mInfo: \u001b[22m\u001b[39m276\n",
      "\u001b[36m\u001b[1m[ \u001b[22m\u001b[39m\u001b[36m\u001b[1mInfo: \u001b[22m\u001b[39m275\n",
      "\u001b[36m\u001b[1m[ \u001b[22m\u001b[39m\u001b[36m\u001b[1mInfo: \u001b[22m\u001b[39m274\n",
      "\u001b[36m\u001b[1m[ \u001b[22m\u001b[39m\u001b[36m\u001b[1mInfo: \u001b[22m\u001b[39m273\n"
     ]
    }
   ],
   "source": [
    "let\n",
    "    Random.seed!(1)\n",
    "    chain = load(\"output/DNS/chain.jld\")[\"data\"]\n",
    "\n",
    "    # Define problem dimensions\n",
    "    R = length(chain)\n",
    "\n",
    "    # Obtain unconstrained prior draw\n",
    "    Θ_0 = chain\n",
    "    \n",
    "    # Initialize containers\n",
    "    particles = NamedArray(repeat([Θ_0], length(leave_ends)), leave_ends, :T)\n",
    "    weights_psis = NamedArray(\n",
    "        zeros(length(leave_ends), R),\n",
    "        (leave_ends, 1:R),\n",
    "        (:T, :n)\n",
    "    )\n",
    "    times = NamedArray(zeros(length(leave_ends)), leave_ends, :T)\n",
    "    k̂s = NamedArray(zeros(length(leave_ends)), leave_ends, :T)\n",
    "    \n",
    "    # Log weights normalizer\n",
    "    function _normalize(_log_w::Vector{Float64})::Vector{Float64}\n",
    "        # normalize log weights\n",
    "        _w = exp.(_log_w .- maximum(_log_w))\n",
    "        _w = _w / sum(_w)\n",
    "        _w\n",
    "    end\n",
    "\n",
    "    # ESS computer\n",
    "    function _ess(_w::Vector{Float64})::Float64\n",
    "        1 / sum(@. exp(2 * log(_w)))\n",
    "        # No: 1 / sum(@. exp(2 * _log_w))\n",
    "    end\n",
    "    \n",
    "    # Log ratio\n",
    "    function log_G(T::Int, n::Int)::Float64\n",
    "        _particle = Θ_0[n]\n",
    "        -logpdf(MvNormal(data.X * _particle.β[T,:], _particle.Σ_y), data.y[T,:])\n",
    "    end\n",
    "\n",
    "    for (T_i, T) in enumerate(leave_ends)\n",
    "        @info T\n",
    "        \n",
    "        # Compute log weights\n",
    "        _log_weights = sum([log_G(t, n) for n in 1:R] for t in T:data.T)\n",
    "        _log_weights = _log_weights .- maximum(_log_weights)\n",
    "        \n",
    "        # PSIS\n",
    "        time = @elapsed _psis = psis(_log_weights; warn=false)\n",
    "        weights_psis[:T => T] = _psis.log_weights |> _normalize\n",
    "        k̂s[:T => T] = _psis.pareto_shape\n",
    "        times[:T => T] = time\n",
    "    end\n",
    "\n",
    "    # global particles = particles\n",
    "    global weights_psis = weights_psis\n",
    "    global times_psis = times\n",
    "    global k̂s_psis = k̂s\n",
    "end;"
   ]
  },
  {
   "cell_type": "markdown",
   "id": "ff7af8fa-a609-4d44-89c7-2952de2619b2",
   "metadata": {},
   "source": [
    "## Figures"
   ]
  },
  {
   "cell_type": "markdown",
   "id": "f0169e91-cecb-45c1-b955-33bf9f64ecfd",
   "metadata": {},
   "source": [
    "### LPD"
   ]
  },
  {
   "cell_type": "code",
   "execution_count": 454,
   "id": "058b5b33-3c87-428f-a49b-ebe70faac0d2",
   "metadata": {},
   "outputs": [
    {
     "data": {
      "text/plain": [
       "Data_DNS([0.293 0.905 … 2.49 2.643; 0.286 0.944 … 2.537 2.666; … ; 0.048 0.233 … 1.404 1.662; 0.094 0.312 … 1.516 1.79], 293, 5, [24, 60, 120, 240, 360], [1.0 0.52554392871227 0.2936789349181237; 1.0 0.2665880208221924 0.24070064890648354; … ; 1.0 0.0684181411392243 0.06841769203012686; 1.0 0.0456121145639038 0.04561211426293063], [Date(\"1999-09-01\"), Date(\"1999-10-01\"), Date(\"1999-11-01\"), Date(\"1999-12-01\"), Date(\"2000-01-01\"), Date(\"2000-02-01\"), Date(\"2000-03-01\"), Date(\"2000-04-01\"), Date(\"2000-05-01\"), Date(\"2000-06-01\")  …  Date(\"2023-04-01\"), Date(\"2023-05-01\"), Date(\"2023-06-01\"), Date(\"2023-07-01\"), Date(\"2023-08-01\"), Date(\"2023-09-01\"), Date(\"2023-10-01\"), Date(\"2023-11-01\"), Date(\"2023-12-01\"), Date(\"2024-01-01\")], 1.0)"
      ]
     },
     "execution_count": 454,
     "metadata": {},
     "output_type": "execute_result"
    }
   ],
   "source": [
    "generate_data()"
   ]
  },
  {
   "cell_type": "code",
   "execution_count": 331,
   "id": "9a5f1a16-6b21-454e-8f0a-568193741416",
   "metadata": {},
   "outputs": [
    {
     "data": {
      "text/plain": [
       "Compute_LPD (generic function with 3 methods)"
      ]
     },
     "execution_count": 331,
     "metadata": {},
     "output_type": "execute_result"
    }
   ],
   "source": [
    "function Compute_LPD(c::Vector{Params}, T::Int64, weights::Vector{Float64})::Float64\n",
    "    R = length(c)\n",
    "    log_ℓ = 0.\n",
    "    for n in 1:R\n",
    "        β_T_sim = MvNormal(c[n].β[T-1,:], c[n].Σ_β) |> rand\n",
    "        log_ℓ += weights[n] * logpdf(MvNormal(data.X * β_T_sim, c[n].Σ_y), data.y[T,:])\n",
    "        \n",
    "    end\n",
    "    log_ℓ\n",
    "end"
   ]
  },
  {
   "cell_type": "code",
   "execution_count": 332,
   "id": "9745201d-3a76-4a21-b45c-e4980b5e20c5",
   "metadata": {},
   "outputs": [
    {
     "name": "stderr",
     "output_type": "stream",
     "text": [
      "\u001b[32mProgress: 100%|█████████████████████████████████████████| Time: 0:00:10\u001b[39m\n"
     ]
    }
   ],
   "source": [
    "let\n",
    "    Random.seed!(1)\n",
    "    LPD = NamedArray(zeros(length(leave_ends)), leave_ends, :T)\n",
    "    @showprogress for T in leave_ends\n",
    "        chain_T = load(\"output/DNS/chain-LEO-$(T).jld\")[\"data\"]\n",
    "        R = length(chain_T)\n",
    "        LPD[:T => T] = Compute_LPD(chain_T, T, repeat([1/R], R))\n",
    "    end\n",
    "    global LPD_true = LPD\n",
    "    # times = load(\"output/DNS/times-LEO.jld\")[\"data\"]\n",
    "end;"
   ]
  },
  {
   "cell_type": "code",
   "execution_count": 333,
   "id": "45e90969-780b-41f8-81c3-1eb7b0885901",
   "metadata": {},
   "outputs": [],
   "source": [
    "let\n",
    "    Random.seed!(1)\n",
    "    particles = load(\"output/DNS/particles.jld\")[\"data\"]\n",
    "    L = size(particles, 2)-1\n",
    "    particles = NamedArray(\n",
    "        particles,\n",
    "        (leave_ends, 0:L),\n",
    "        (:T, :l))\n",
    "    L_history = NamedArray(load(\"output/DNS/lengths.jld\")[\"data\"],\n",
    "        leave_ends, :T)\n",
    "\n",
    "    LPD = NamedArray(zeros(length(leave_ends)), leave_ends, :T)\n",
    "    @showprogress for T in leave_ends\n",
    "        chain_T = particles[:T => T, :l => L_history[:T => T]]\n",
    "        R = length(chain_T)\n",
    "        LPD[:T => T] = Compute_LPD(chain_T, T, repeat([1/R], R))\n",
    "    end\n",
    "    global LPD_smc = LPD\n",
    "end;"
   ]
  },
  {
   "cell_type": "code",
   "execution_count": 334,
   "id": "60541e32-173c-455d-acc6-5e0aee2a9228",
   "metadata": {},
   "outputs": [],
   "source": [
    "let\n",
    "    Random.seed!(1)\n",
    "    chain = load(\"output/DNS/chain.jld\")[\"data\"]\n",
    "    LPD = NamedArray(zeros(length(leave_ends)), leave_ends, :T)\n",
    "    @showprogress for T in leave_ends\n",
    "        LPD[:T => T] = Compute_LPD(chain, T, weights_psis[:T => T])\n",
    "    end\n",
    "    global LPD_psis = LPD\n",
    "end;"
   ]
  },
  {
   "cell_type": "code",
   "execution_count": 527,
   "id": "b426dc2e-40f8-44e9-a858-1a46d2cfae95",
   "metadata": {},
   "outputs": [
    {
     "data": {
      "text/plain": [
       "\"C:\\\\Users\\\\o6m1g\\\\Documents\\\\GitHub\\\\SMC-LGO-CV-private\\\\img\\\\yield-lpd-compare.pdf\""
      ]
     },
     "execution_count": 527,
     "metadata": {},
     "output_type": "execute_result"
    }
   ],
   "source": [
    "let\n",
    "    _data = [LPD_true LPD_smc LPD_psis]\n",
    "    plot(leave_ends, cumsum(_data; dims=1),# ./ (1:size(_data,1)),\n",
    "        label=[\"MCMC-LEO\" \"SMC-LEO\" \"PSIS-LEO\"],\n",
    "        color=[:blue :red :green],\n",
    "        linestyle=[:solid :dot :dot],\n",
    "        mswidth=0, markershape=[:pixel :o :square], markersize=3,\n",
    "        linewidth=2, alpha=[1 0.8 0.7],\n",
    "        legend=:topright\n",
    "    )\n",
    "    #_true_mean, _smc_mean, _psis_mean = _mean(_data; dims=1)\n",
    "    #hline!([_true_mean], label=\"\", color=:blue, linewidth=1)\n",
    "    #hline!([_smc_mean], label=\"\", color=:red, linewidth=1)\n",
    "    #hline!([_psis_mean], label=\"\", color=:green, linewidth=1)\n",
    "    plt_1 = plot!()\n",
    "    \n",
    "    plot(leave_ends, cumsum(_data; dims=1) ./ (1:size(_data,1)),\n",
    "        # label=[\"MCMC-LEO\" \"SMC-LEO\" \"PSIS-LEO\"],\n",
    "        color=[:blue :red :green],\n",
    "        linestyle=[:solid :dot :dot],\n",
    "        mswidth=0, markershape=[:pixel :o :square], markersize=3,\n",
    "        linewidth=2, alpha=[1 0.8 0.7],\n",
    "        legend=false\n",
    "    )\n",
    "    plt_2 = plot!()\n",
    "   \n",
    "    plot(plt_1, plt_2, layout=grid(2,1), size=(500,310),\n",
    "        title=[\"Backward cumulative\" \"Backward running average\"],\n",
    "        xticks=(leave_ends,\n",
    "            df.index[leave_ends] .|> (d -> month(d) == 1 ?  \"$(month(d))\\n\" * L\"\\leftarrow\" * \"($(year(d)))     \" : month(d))),\n",
    "        #xflip=true,\n",
    "    )\n",
    "    savefig(\"img/yield-lpd-compare.pdf\")\n",
    "end"
   ]
  },
  {
   "cell_type": "code",
   "execution_count": 499,
   "id": "15193e36-4a26-4846-b947-d15f8e1e9665",
   "metadata": {},
   "outputs": [
    {
     "data": {
      "text/plain": [
       "\"C:\\\\Users\\\\o6m1g\\\\Documents\\\\GitHub\\\\SMC-LGO-CV-private\\\\img\\\\yield-paths.pdf\""
      ]
     },
     "execution_count": 499,
     "metadata": {},
     "output_type": "execute_result"
    }
   ],
   "source": [
    "let\n",
    "    particles = load(\"output/DNS/particles.jld\")[\"data\"]\n",
    "    L = size(particles, 2)-1\n",
    "    ϕ_history = NamedArray(\n",
    "        load(\"output/DNS/paths.jld\")[\"data\"],\n",
    "        (leave_ends, 0:L),\n",
    "        (:T, :l))\n",
    "    L_history = NamedArray(load(\"output/DNS/lengths.jld\")[\"data\"],\n",
    "        leave_ends, :T)\n",
    "\n",
    "    _data = cumsum(LPD_smc; dims=1)\n",
    "    plot(leave_ends, _data,\n",
    "        label=\"SMC-LEO\", color=:red, linestyle=:dot,\n",
    "        mswidth=0, markershape=:o, linewidth=2, alpha=1,\n",
    "        xticks=(leave_ends,\n",
    "            df.index[leave_ends] .|> (d -> month(d) == 1 ?  \"$(month(d))\\n($(year(d)))\" : month(d))),\n",
    "    )\n",
    "\n",
    "    _max, _min = maximum(_data), minimum(_data)\n",
    "\n",
    "    for (T_i, T) in leave_ends |> enumerate\n",
    "        _x = T .+ (1 .- ϕ_history[Name(T), Name.(1:L_history[:T => T]-1)])\n",
    "        vline!(_x, label=\"\", style=:dash, color=:black)\n",
    "        for _x_i in _x\n",
    "            _text = round(_x_i - T; digits=2)\n",
    "            if T_i == 1\n",
    "                _text = L\"ρ\" * \"=$(_text)\"\n",
    "            end\n",
    "            annotate!(_x_i+0.23, _max, text(_text, :black, 6, rotation=-90))\n",
    "        end\n",
    "    end\n",
    "    plot!(ylabel=\"Average\", bottommargin=2Plots.mm)\n",
    "    savefig(\"img/yield-paths.pdf\")\n",
    "end"
   ]
  },
  {
   "cell_type": "markdown",
   "id": "8196aa68-ae52-4718-8c16-778c34362a56",
   "metadata": {},
   "source": [
    "### Runtime"
   ]
  },
  {
   "cell_type": "code",
   "execution_count": 497,
   "id": "fafb59e3-e3b5-4779-904c-a580ab9cfe6d",
   "metadata": {},
   "outputs": [
    {
     "data": {
      "text/plain": [
       "\"C:\\\\Users\\\\o6m1g\\\\Documents\\\\GitHub\\\\SMC-LGO-CV-private\\\\img\\\\yield-runtime.pdf\""
      ]
     },
     "execution_count": 497,
     "metadata": {},
     "output_type": "execute_result"
    }
   ],
   "source": [
    "let\n",
    "    particles = load(\"output/DNS/particles.jld\")[\"data\"]\n",
    "    L = size(particles, 2)-1\n",
    "    ϕ_history = NamedArray(\n",
    "        load(\"output/DNS/paths.jld\")[\"data\"],\n",
    "        (leave_ends, 0:L),\n",
    "        (:T, :l))\n",
    "    \n",
    "    times_smc = NamedArray(load(\"output/DNS/times.jld\")[\"data\"], leave_ends, :T)\n",
    "    times_mcmc = load(\"output/DNS/times-LEO.jld\")[\"data\"]\n",
    "\n",
    "    _data = cumsum([times_mcmc times_smc times_psis]; dims=1)\n",
    "    # _data = [_data times_mcmc]\n",
    "    plot(leave_ends, _data/60,\n",
    "        label=[\"MCMC-LEO\" \"SMC-LEO\" \"PSIS-LEO\"],\n",
    "        color=[:blue :red :green],\n",
    "        linestyle=[:solid :dot :dot],\n",
    "        mswidth=0, markershape=[:pixel :o :square], markersize=3,\n",
    "        linewidth=2, alpha=[1 0.8 0.7], legend=:topright,\n",
    "        xticks=(leave_ends,\n",
    "            df.index[leave_ends] .|> (d -> month(d) == 1 ?  \"$(month(d))\\n($(year(d)))\" : month(d))),\n",
    "        ylabel=\"Runtime [min.]\",\n",
    "    )\n",
    "    for T in leave_ends\n",
    "        #annotate!(T, times_psis[:T => T] + 3,\n",
    "        #    text(k̂s_psis[:T => T] > 0.7 ? L\"\\hat{k}>0.7\" : \"\", :black, 4))\n",
    "    end\n",
    "    plot!(bottommargin=2Plots.mm)\n",
    "    savefig(\"img/yield-runtime.pdf\")\n",
    "end"
   ]
  }
 ],
 "metadata": {
  "kernelspec": {
   "display_name": "Julia (4 threads) 1.10.4",
   "language": "julia",
   "name": "julia-_4-threads_-1.10"
  },
  "language_info": {
   "file_extension": ".jl",
   "mimetype": "application/julia",
   "name": "julia",
   "version": "1.10.4"
  }
 },
 "nbformat": 4,
 "nbformat_minor": 5
}
