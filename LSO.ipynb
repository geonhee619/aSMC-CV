{
 "cells": [
  {
   "cell_type": "code",
   "execution_count": 1,
   "id": "4bccae1c-df4c-4572-b9a2-3d6144c727a6",
   "metadata": {},
   "outputs": [
    {
     "name": "stdout",
     "output_type": "stream",
     "text": [
      "Julia Version 1.10.4\n",
      "Commit 48d4fd4843 (2024-06-04 10:41 UTC)\n",
      "Build Info:\n",
      "  Official https://julialang.org/ release\n",
      "Platform Info:\n",
      "  OS: Windows (x86_64-w64-mingw32)\n",
      "  CPU: 24 × 12th Gen Intel(R) Core(TM) i9-12900K\n",
      "  WORD_SIZE: 64\n",
      "  LIBM: libopenlibm\n",
      "  LLVM: libLLVM-15.0.7 (ORCJIT, alderlake)\n",
      "Threads: 8 default, 0 interactive, 4 GC (on 24 virtual cores)\n",
      "Environment:\n",
      "  JULIA_NUM_THREADS = 8\n"
     ]
    }
   ],
   "source": [
    "versioninfo()"
   ]
  },
  {
   "cell_type": "code",
   "execution_count": 2,
   "id": "fb62982b-4699-4b45-9587-98ed53b8a211",
   "metadata": {},
   "outputs": [
    {
     "name": "stderr",
     "output_type": "stream",
     "text": [
      "\u001b[32m\u001b[1m  Activating\u001b[22m\u001b[39m project at `C:\\Users\\o6m1g\\Documents\\GitHub\\SMC-LGO-CV-private`\n"
     ]
    },
    {
     "name": "stdout",
     "output_type": "stream",
     "text": [
      "\u001b[32m\u001b[1mStatus\u001b[22m\u001b[39m `C:\\Users\\o6m1g\\Documents\\GitHub\\SMC-LGO-CV-private\\Project.toml`\n",
      "  \u001b[90m[0bf59076] \u001b[39mAdvancedHMC v0.8.0\n",
      "  \u001b[90m[336ed68f] \u001b[39mCSV v0.10.15\n",
      "  \u001b[90m[a93c6f00] \u001b[39mDataFrames v1.7.0\n",
      "  \u001b[90m[31c24e10] \u001b[39mDistributions v0.25.120\n",
      "  \u001b[90m[4138dd39] \u001b[39mJLD v0.13.5\n",
      "  \u001b[90m[b964fa9f] \u001b[39mLaTeXStrings v1.4.0\n",
      "  \u001b[90m[6fdf6af0] \u001b[39mLogDensityProblems v2.1.2\n",
      "  \u001b[90m[86f7a689] \u001b[39mNamedArrays v0.10.4\n",
      "  \u001b[90m[ce719bf2] \u001b[39mPSIS v0.9.8\n",
      "  \u001b[90m[91a5bcdd] \u001b[39mPlots v1.40.16\n",
      "  \u001b[90m[92933f4c] \u001b[39mProgressMeter v1.10.4\n",
      "  \u001b[90m[f2b01f46] \u001b[39mRoots v2.2.8\n",
      "  \u001b[90m[2913bbd2] \u001b[39mStatsBase v0.34.5\n",
      "  \u001b[90m[4c63d2b9] \u001b[39mStatsFuns v1.5.0\n",
      "  \u001b[90m[f3b207a7] \u001b[39mStatsPlots v0.15.7\n",
      "  \u001b[90m[fce5fe82] \u001b[39mTuring v0.39.4\n",
      "  \u001b[90m[ade2ca70] \u001b[39mDates\n",
      "  \u001b[90m[37e2e46d] \u001b[39mLinearAlgebra\n",
      "  \u001b[90m[9a3f8284] \u001b[39mRandom\n"
     ]
    }
   ],
   "source": [
    "using Pkg\n",
    "Pkg.activate(\".\")\n",
    "Pkg.instantiate()\n",
    "Pkg.status()"
   ]
  },
  {
   "cell_type": "markdown",
   "id": "5c88242f-5bf1-4038-bd52-9e887fd2cd63",
   "metadata": {},
   "source": [
    "# Setup"
   ]
  },
  {
   "cell_type": "code",
   "execution_count": 3,
   "id": "092e6558-7e58-465e-b4af-6b888ac0e4af",
   "metadata": {},
   "outputs": [],
   "source": [
    "include(\"Init.jl\")"
   ]
  },
  {
   "cell_type": "code",
   "execution_count": 76,
   "id": "4d5915c6-2b67-495a-b80b-a05daef2fd64",
   "metadata": {},
   "outputs": [
    {
     "name": "stdout",
     "output_type": "stream",
     "text": [
      "Running on 8 threads.\n"
     ]
    }
   ],
   "source": [
    "println(\"Running on \", Threads.nthreads(), \" threads.\")"
   ]
  },
  {
   "cell_type": "code",
   "execution_count": 4,
   "id": "9870d2ef-ab0e-4f74-a1fb-7e2417d236e2",
   "metadata": {},
   "outputs": [],
   "source": [
    "using Turing"
   ]
  },
  {
   "cell_type": "code",
   "execution_count": null,
   "id": "632185a0-aae3-4902-98ab-6d490fb210de",
   "metadata": {},
   "outputs": [],
   "source": [
    "RUN_MCMC = false\n",
    "RUN_aSMC = true;"
   ]
  },
  {
   "cell_type": "code",
   "execution_count": 5,
   "id": "585d355b-55c9-466f-9c0f-795f167809e3",
   "metadata": {},
   "outputs": [],
   "source": [
    "# Tag by timestamp\n",
    "SESSION = Dates.format(now(), \"yyyy-mm-dd-HH-MM-SS\");"
   ]
  },
  {
   "cell_type": "markdown",
   "id": "4219d67c-bea0-41a5-bce8-288293939d0c",
   "metadata": {},
   "source": [
    "# Data"
   ]
  },
  {
   "cell_type": "code",
   "execution_count": 6,
   "id": "ebb66fdc-5acc-4f5d-a4b3-78454f5c809f",
   "metadata": {},
   "outputs": [],
   "source": [
    "# Load data (M5 forecast competition)\n",
    "sales_train = CSV.read(joinpath(\"data\", \"m5-forecasting-accuracy\",\n",
    "        \"sales_train_validation.csv\"), DataFrame);\n",
    "\n",
    "# Data container to hold structured panel and metadata\n",
    "struct Data_M5\n",
    "    y::Any                            # Response matrix (item × store), standardized\n",
    "    K_axis::Vector{String}            # Unique item IDs\n",
    "    S_axis::Vector{String}            # Store IDs\n",
    "    G_axis::Matrix{Float64}           # groups by cat_id, one-hot indicator matrix\n",
    "    K::Int64                          # Number of unique items\n",
    "    S::Int64                          # Number of unique stores\n",
    "    G::Int64                          # Number of unique groups\n",
    "    valid_idx::Vector{Vector{String}} # CV fold indices; vector of item_ids\n",
    "end"
   ]
  },
  {
   "cell_type": "code",
   "execution_count": 7,
   "id": "6848d8d5-f362-447b-92af-4cf1bb6173d7",
   "metadata": {},
   "outputs": [],
   "source": [
    "let\n",
    "    Random.seed!(1) # Ensure reproducible shuffling\n",
    "    \n",
    "    # Define axis\n",
    "    K_axis = [item_id for item_id in unique(sales_train.item_id)\n",
    "            if 1 <= parse(Int64, split(item_id, \"_\")[end]) <= 30] # Filter items for simplicity\n",
    "    S_axis = sales_train.store_id |> unique # Store axis\n",
    "    axes = (K_axis, S_axis)\n",
    " \n",
    "    # Initialize (missing) complete panel\n",
    "    y = NamedArray(\n",
    "        Array{Union{Missing, Float64}, 2}(missing, length.(axes)...),\n",
    "        axes,\n",
    "        (:k, :s),\n",
    "    )\n",
    "\n",
    "    # Fill panel\n",
    "    for k=K_axis, s=S_axis\n",
    "        mask = (sales_train.item_id .=== k) .& (sales_train.store_id .=== s)\n",
    "        @assert sum(mask) == 1 # assert one row per item-store (OK for M5)\n",
    "\n",
    "        # Extract daily sales vector during d_1 ~ d_1913\n",
    "        _data = sales_train[mask, [\"d_$(t)\" for t in 1:1913]] |> Matrix |> vec\n",
    "        \n",
    "        # Compute mean of first-order differences\n",
    "        y[Name(k), Name(s)] = _data |> diff |> mean\n",
    "    end\n",
    "    \n",
    "    # Standardize\n",
    "    y = NamedArray(\n",
    "        (Matrix(y) .- mean(y)) / std(y),\n",
    "        axes,\n",
    "        (:k, :s),\n",
    "    )\n",
    "    \n",
    "    # Manually generate validation index\n",
    "    G_axis = K_axis .|> (k -> k[1:end-4]) # Truncate suffix (e.g., \"FOODS_3_012\" → \"FOODS_3\")\n",
    "    K = 10\n",
    "    valid_idx = repeat([String[]], K) # Preallocate K-fold validation index vector\n",
    "\n",
    "    # Create stratified folds:\n",
    "    # for each group (e.g., \"FOODS_3\"),\n",
    "    # shuffle items and split into 10 folds (3 items each)\n",
    "    for g in unique(G_axis)\n",
    "        partition_g = Iterators.partition(K_axis[G_axis .== g] |> shuffle, 3) |> collect\n",
    "        @assert length(partition_g) == K # assert number of items: OK only for this M5 data\n",
    "        # Distribute partitioned items into validation folds\n",
    "        for fold_i in 1:K\n",
    "            valid_idx[fold_i] = [valid_idx[fold_i]; partition_g[fold_i]]\n",
    "        end\n",
    "    end\n",
    "\n",
    "    # Compute axis lengths\n",
    "    K = K_axis |> unique |> length\n",
    "    S = S_axis |> unique |> length\n",
    "    G = G_axis |> unique |> length\n",
    "\n",
    "    # Map group labels to integers and encode as one-hot matrix\n",
    "    _map = Dict(g => i for (i, g) in enumerate(unique(G_axis))) # label → integer index\n",
    "    G_axis = [_map[g] for g in G_axis] # item-level integer group assignments\n",
    "    G_axis = indicatormat(G_axis)' # (group × item) layout\n",
    "    \n",
    "    # Store everything in Data_M5 object\n",
    "    global data = Data_M5(y, K_axis, S_axis, G_axis, K, S, G, valid_idx)\n",
    "    # @info size(data.y) # log panel dimensions\n",
    "end;"
   ]
  },
  {
   "cell_type": "markdown",
   "id": "af6022b5-42f9-4b9b-946c-d71776a51458",
   "metadata": {},
   "source": [
    "# MCMC"
   ]
  },
  {
   "cell_type": "code",
   "execution_count": 8,
   "id": "c326b77e-4af7-420a-b0c1-1784c2258e84",
   "metadata": {},
   "outputs": [
    {
     "data": {
      "text/plain": [
       "Model (generic function with 2 methods)"
      ]
     },
     "execution_count": 8,
     "metadata": {},
     "output_type": "execute_result"
    }
   ],
   "source": [
    "@model function Model(\n",
    "        data::Data_M5,\n",
    "        leave_g::Vector{String}, # Vector of item_ids for cross-validation exclusion\n",
    "        ϕ::Union{Float64, Int64}, # Power coefficient for likelihood tempering\n",
    "    )\n",
    "\n",
    "    # Prior: Σ ~ InverseWishart(ν_0 = 2data.S, S_0 = I))\n",
    "    # Bartlett decomposition: Wishart Σ⁻¹ = (LA)(LA)ᵀ = AAᵀ w/ A lower-triangular\n",
    "    # y ~ N(μ, Σ = A⁻ᵀA⁻¹) ⇒ Aᵀ(y - μ) ~ N(0, I)\n",
    "    L, A = I(data.S), zeros(data.S, data.S)\n",
    "    for s_i in 1:data.S\n",
    "        A[s_i,s_i] ~ Chi(2data.S - s_i + 1) # = c[s_i]\n",
    "        for s_j in 1:s_i-1\n",
    "            A[s_i,s_j] ~ Normal(0,1)\n",
    "        end\n",
    "    end\n",
    "    \n",
    "    α_s ~ MvNormal(I(data.S)) # Store-level effects\n",
    "    \n",
    "    α_g ~ MvNormal(I(data.G)) # Group-level effects\n",
    "    X_g = data.G_axis * α_g   # Expand to item-level\n",
    "    \n",
    "    for (k_i, k) in enumerate(data.K_axis)\n",
    "        _power = k ∈ leave_g ? (1 - ϕ) : 1 # fractional likelihood for left-out items\n",
    "        μ = α_s .+ X_g[k_i] # Item-wise mean over stores: store + group\n",
    "        log_ℓ = _power * logpdf(MvNormal(I(data.S)), A' * (data.y[:k => k] - μ)) # Covariance over store\n",
    "        Turing.@addlogprob! log_ℓ\n",
    "    end\n",
    "end"
   ]
  },
  {
   "cell_type": "code",
   "execution_count": 9,
   "id": "32b3e858-8032-483a-959d-6a8d85a29fea",
   "metadata": {},
   "outputs": [
    {
     "data": {
      "text/plain": [
       "run_MCMC (generic function with 1 method)"
      ]
     },
     "execution_count": 9,
     "metadata": {},
     "output_type": "execute_result"
    }
   ],
   "source": [
    "function run_MCMC(; leave_g::Vector{String}, save_bool::Bool=false)\n",
    "    \"\"\"\n",
    "    Function to run MCMC, leaving items (observations) in leave_g the vector of items out.\n",
    "    Set leave_g = [\"none\"] to target baseline posterior.\n",
    "    \"\"\"\n",
    "    # Instantiate baseline posterior\n",
    "    @assert in(leave_g, [[[\"none\"]]; data.valid_idx])\n",
    "    _model = nothing\n",
    "    if leave_g == -1\n",
    "        _model = Model(data, [\"none\"], 0)\n",
    "    else\n",
    "        _model = Model(data, leave_g, 1)\n",
    "    end\n",
    "    _model = Model(data, leave_g, 0)\n",
    "    ℓπ = LogDensityFunction(_model)\n",
    "    Turing.DynamicPPL.link!!(ℓπ.varinfo, _model)\n",
    "    \n",
    "    D = LogDensityProblems.dimension(ℓπ) # Dimensionality of parameter space\n",
    "    metric = DiagEuclideanMetric(D)\n",
    "    hamiltonian = Hamiltonian(metric, ℓπ)\n",
    "\n",
    "    # Sampling settings\n",
    "    n_burn, n_adapts, n_samples, thin = 1_000, 1_000, 3_000, 3\n",
    "    initial_θ = ones(D)\n",
    "    initial_ϵ = find_good_stepsize(hamiltonian, initial_θ)\n",
    "    integrator = Leapfrog(initial_ϵ)\n",
    "    kernel = HMCKernel(Trajectory{MultinomialTS}(integrator, GeneralisedNoUTurn()))\n",
    "    adaptor = StanHMCAdaptor(MassMatrixAdaptor(metric), StepSizeAdaptor(0.8, integrator))\n",
    "    \n",
    "    time = @elapsed samples, stats = sample(\n",
    "        hamiltonian, kernel, initial_θ, n_samples + n_burn, adaptor, n_adapts;\n",
    "        progress=true)\n",
    "\n",
    "    # Post-process samples:\n",
    "    # - drop burn-in;\n",
    "    # - apply thinning (every 3rd)\n",
    "    # - invert bijector, recover params in original space\n",
    "    chain = samples[n_burn+1:thin:end] .|> Turing.inverse(Turing.bijector(_model))\n",
    "\n",
    "    # Save output\n",
    "    if save_bool\n",
    "        _dir = joinpath(\"output_$(SESSION)\", \"M5\", \"mcmc\")\n",
    "        isdir(_dir) || mkpath(_dir) # Ensure path is present\n",
    "        if leave_g == -1\n",
    "            save(joinpath(_dir, \"chain.jld\"), \"data\", chain)\n",
    "            CSV.write(joinpath(_dir, \"stats_df.csv\"), stats |> DataFrame)\n",
    "        else\n",
    "            save(joinpath(_dir, \"chain_lso-$(leave_g).jld\"), \"data\", chain)\n",
    "        end\n",
    "    end\n",
    "    \n",
    "    (; chain, stats, time)\n",
    "end"
   ]
  },
  {
   "cell_type": "markdown",
   "id": "cd5814c0-93cc-43d8-94b6-c0cc7b41b470",
   "metadata": {},
   "source": [
    "## Initial draw"
   ]
  },
  {
   "cell_type": "code",
   "execution_count": 10,
   "id": "0b2ba57d-1ffc-4d63-81ad-99dd663fc45e",
   "metadata": {
    "scrolled": true
   },
   "outputs": [
    {
     "name": "stderr",
     "output_type": "stream",
     "text": [
      "\u001b[33m\u001b[1m┌ \u001b[22m\u001b[39m\u001b[33m\u001b[1mWarning: \u001b[22m\u001b[39mProgressMeter by default refresh meters with additional information in IJulia via `IJulia.clear_output`, which clears all outputs in the cell. \n",
      "\u001b[33m\u001b[1m│ \u001b[22m\u001b[39m - To prevent this behaviour, do `ProgressMeter.ijulia_behavior(:append)`. \n",
      "\u001b[33m\u001b[1m│ \u001b[22m\u001b[39m - To disable this warning message, do `ProgressMeter.ijulia_behavior(:clear)`.\n",
      "\u001b[33m\u001b[1m└ \u001b[22m\u001b[39m\u001b[90m@ ProgressMeter C:\\Users\\o6m1g\\.julia\\packages\\ProgressMeter\\kniaW\\src\\ProgressMeter.jl:607\u001b[39m\n",
      "\u001b[32mSampling 100%|███████████████████████████████| Time: 0:12:16\u001b[39m\n",
      "\u001b[34m                                    iterations: 4000\u001b[39m\n",
      "\u001b[34m                   ratio_divergent_transitions: 0.0\u001b[39m\n",
      "\u001b[34m   ratio_divergent_transitions_during_adaption: 0.0\u001b[39m\n",
      "\u001b[34m                                       n_steps: 15\u001b[39m\n",
      "\u001b[34m                                     is_accept: true\u001b[39m\n",
      "\u001b[34m                               acceptance_rate: 0.9509715326934198\u001b[39m\n",
      "\u001b[34m                                   log_density: -2384.063908858131\u001b[39m\n",
      "\u001b[34m                            hamiltonian_energy: 2421.3358314882676\u001b[39m\n",
      "\u001b[34m                      hamiltonian_energy_error: -0.27143739903885944\u001b[39m\n",
      "\u001b[34m                  max_hamiltonian_energy_error: -0.31974855142743763\u001b[39m\n",
      "\u001b[34m                                    tree_depth: 4\u001b[39m\n",
      "\u001b[34m                               numerical_error: false\u001b[39m\n",
      "\u001b[34m                                     step_size: 0.22934044199744194\u001b[39m\n",
      "\u001b[34m                                 nom_step_size: 0.22934044199744194\u001b[39m\n",
      "\u001b[34m                                      is_adapt: false\u001b[39m\n",
      "\u001b[34m                                   mass_matrix: DiagEuclideanMetric([0.02695310773054014, 0.024 ...])\u001b[39m\n",
      "\u001b[36m\u001b[1m┌ \u001b[22m\u001b[39m\u001b[36m\u001b[1mInfo: \u001b[22m\u001b[39mFinished 4000 sampling steps for 1 chains in 736.6229483 (s)\n",
      "\u001b[36m\u001b[1m│ \u001b[22m\u001b[39m  h = Hamiltonian(metric=DiagEuclideanMetric([0.02695310773054014, 0.024 ...]), kinetic=GaussianKinetic())\n",
      "\u001b[36m\u001b[1m│ \u001b[22m\u001b[39m  κ = HMCKernel{AdvancedHMC.FullMomentumRefreshment, Trajectory{MultinomialTS, Leapfrog{Float64}, GeneralisedNoUTurn{Float64}}}(AdvancedHMC.FullMomentumRefreshment(), Trajectory{MultinomialTS}(integrator=Leapfrog(ϵ=0.229), tc=GeneralisedNoUTurn{Float64}(10, 1000.0)))\n",
      "\u001b[36m\u001b[1m│ \u001b[22m\u001b[39m  EBFMI_est = 0.6505353054011177\n",
      "\u001b[36m\u001b[1m└ \u001b[22m\u001b[39m  average_acceptance_rate = 0.8574658478393128\n"
     ]
    }
   ],
   "source": [
    "Random.seed!(1)\n",
    "RUN_MCMC && (; chain, stats, time) = run_MCMC(leave_g=[\"none\"])"
   ]
  },
  {
   "cell_type": "markdown",
   "id": "a39ccb34-334b-46c5-b6db-1c9c6de160b3",
   "metadata": {},
   "source": [
    "## Naive LSO"
   ]
  },
  {
   "cell_type": "code",
   "execution_count": 12,
   "id": "5cd55b0d-13f4-4dc3-93b5-eb7f4ebd7c24",
   "metadata": {},
   "outputs": [
    {
     "name": "stderr",
     "output_type": "stream",
     "text": [
      "\u001b[33m\u001b[1m┌ \u001b[22m\u001b[39m\u001b[33m\u001b[1mWarning: \u001b[22m\u001b[39mProgressMeter by default refresh meters with additional information in IJulia via `IJulia.clear_output`, which clears all outputs in the cell. \n",
      "\u001b[33m\u001b[1m│ \u001b[22m\u001b[39m - To prevent this behaviour, do `ProgressMeter.ijulia_behavior(:append)`. \n",
      "\u001b[33m\u001b[1m│ \u001b[22m\u001b[39m - To disable this warning message, do `ProgressMeter.ijulia_behavior(:clear)`.\n",
      "\u001b[33m\u001b[1m└ \u001b[22m\u001b[39m\u001b[90m@ ProgressMeter C:\\Users\\o6m1g\\.julia\\packages\\ProgressMeter\\kniaW\\src\\ProgressMeter.jl:607\u001b[39m\n",
      "\u001b[32mSampling 100%|███████████████████████████████| Time: 0:15:36\u001b[39m\n",
      "\u001b[34m                                    iterations: 4000\u001b[39m\n",
      "\u001b[34m                   ratio_divergent_transitions: 0.0\u001b[39m\n",
      "\u001b[34m   ratio_divergent_transitions_during_adaption: 0.01\u001b[39m\n",
      "\u001b[34m                                       n_steps: 15\u001b[39m\n",
      "\u001b[34m                                     is_accept: true\u001b[39m\n",
      "\u001b[34m                               acceptance_rate: 0.9848288096342747\u001b[39m\n",
      "\u001b[34m                                   log_density: -2200.9922507090364\u001b[39m\n",
      "\u001b[34m                            hamiltonian_energy: 2235.2269213304976\u001b[39m\n",
      "\u001b[34m                      hamiltonian_energy_error: -0.06041725225986738\u001b[39m\n",
      "\u001b[34m                  max_hamiltonian_energy_error: -0.8193203024493414\u001b[39m\n",
      "\u001b[34m                                    tree_depth: 4\u001b[39m\n",
      "\u001b[34m                               numerical_error: false\u001b[39m\n",
      "\u001b[34m                                     step_size: 0.20924768992312953\u001b[39m\n",
      "\u001b[34m                                 nom_step_size: 0.20924768992312953\u001b[39m\n",
      "\u001b[34m                                      is_adapt: false\u001b[39m\n",
      "\u001b[34m                                   mass_matrix: DiagEuclideanMetric([0.028727031698568207, 0.03 ...])\u001b[39m\n",
      "\u001b[36m\u001b[1m┌ \u001b[22m\u001b[39m\u001b[36m\u001b[1mInfo: \u001b[22m\u001b[39mFinished 4000 sampling steps for 1 chains in 936.7311526 (s)\n",
      "\u001b[36m\u001b[1m│ \u001b[22m\u001b[39m  h = Hamiltonian(metric=DiagEuclideanMetric([0.028727031698568207, 0.03 ...]), kinetic=GaussianKinetic())\n",
      "\u001b[36m\u001b[1m│ \u001b[22m\u001b[39m  κ = HMCKernel{AdvancedHMC.FullMomentumRefreshment, Trajectory{MultinomialTS, Leapfrog{Float64}, GeneralisedNoUTurn{Float64}}}(AdvancedHMC.FullMomentumRefreshment(), Trajectory{MultinomialTS}(integrator=Leapfrog(ϵ=0.209), tc=GeneralisedNoUTurn{Float64}(10, 1000.0)))\n",
      "\u001b[36m\u001b[1m│ \u001b[22m\u001b[39m  EBFMI_est = 0.5766202886845014\n",
      "\u001b[36m\u001b[1m└ \u001b[22m\u001b[39m  average_acceptance_rate = 0.8695163756994043\n"
     ]
    }
   ],
   "source": [
    "Random.seed!(1)\n",
    "\n",
    "if RUN_MCMC\n",
    "    \n",
    "    times_M5 = Float64[] # Runtime for each MCMC-LSO run\n",
    "    \n",
    "    # Loop over each folds for bruteforce MCMC-LSO\n",
    "    for (fold_i, leave_g) in enumerate(data.valid_idx)\n",
    "        @info \"Fold $(fold_i)\"\n",
    "        \n",
    "        (; chain, stats, time) = run_MCMC(leave_g=leave_g)\n",
    "        push!(times_M5, time)\n",
    "        \n",
    "        # Save intermediate results after each iteration (in case of interruption)\n",
    "        _dir = joinpath(\"output_$(SESSION)\", \"M5\", \"mcmc\")\n",
    "        isdir(_dir) || mkpath(_dir) # Ensure path is present\n",
    "        save(joinpath(_dir, \"times_naive-lso.jld\"), \"data\", times_M5)\n",
    "    end\n",
    "end"
   ]
  },
  {
   "cell_type": "markdown",
   "id": "4941e09d-27ef-4d3b-9bad-31bcb3666092",
   "metadata": {},
   "source": [
    "# LSO"
   ]
  },
  {
   "cell_type": "code",
   "execution_count": 10,
   "id": "970f907e-31f3-4d2e-922c-646c41dafdb0",
   "metadata": {},
   "outputs": [],
   "source": [
    "chain = load(joinpath(\"output\", \"M5\", \"mcmc\", \"chain.jld\"))[\"data\"];\n",
    "stats = CSV.read(joinpath(\"output\", \"M5\", \"mcmc\", \"stats_df.csv\"), DataFrame);"
   ]
  },
  {
   "cell_type": "markdown",
   "id": "21b388c9-4aa9-4208-b98a-c17a4c2fa3fc",
   "metadata": {},
   "source": [
    "## aSMC"
   ]
  },
  {
   "cell_type": "code",
   "execution_count": 11,
   "id": "fa35052c-37db-4887-8f2a-bb53f792258c",
   "metadata": {},
   "outputs": [
    {
     "data": {
      "text/plain": [
       "SMCS_M5 (generic function with 1 method)"
      ]
     },
     "execution_count": 11,
     "metadata": {},
     "output_type": "execute_result"
    }
   ],
   "source": [
    "function SMCS_M5(chain::Vector{Vector{Float64}}, leave_g::Vector{String}; k̂_threshold::Float64=0.7)\n",
    "\n",
    "    # Unconstrain initial draws\n",
    "    model   = Model(data, leave_g, 0) # draws are from this baseline\n",
    "    draws_0 = chain .|> Turing.bijector(model) |> vecvec2mat # as matrix\n",
    "\n",
    "    # Define problem dimensions\n",
    "    R      = size(draws_0, 1)    # number of baseline MCMC draws\n",
    "    D      = size(draws_0, 2)    # dimension of posterior\n",
    "    L      = length(data.K_axis) # max number of intermediate distributions\n",
    "\n",
    "    # Obtain unconstrained prior draw\n",
    "    _names = sample(model, Prior(), 1).name_map.parameters .|> String # param names\n",
    "    Θ_0    = NamedArray(\n",
    "        draws_0,\n",
    "        (1:R, _names),\n",
    "        (:n, :d),\n",
    "    )\n",
    "\n",
    "    # Allocate storage\n",
    "    particles = NamedArray(zeros(L+1, R, D), (0:L, 1:R, _names), (:l, :n, :d))\n",
    "    weights   = NamedArray(zeros(L+1, R), (0:L, 1:R), (:l, :n))\n",
    "    ϕ_history = NamedArray(zeros(L+1), 0:L, :l)\n",
    "    mcmc_flag = NamedArray(zeros(L+1), 0:L, :l)\n",
    "    k̂         = nothing\n",
    "    \n",
    "    # Log weights normalizer\n",
    "    function _normalize(_log_w::Vector{Float64})::Vector{Float64}\n",
    "        _w = exp.(_log_w .- maximum(_log_w))\n",
    "        _w = _w / sum(_w)\n",
    "        _w\n",
    "    end\n",
    "\n",
    "    # Effective sample size\n",
    "    function _ess(_w::Vector{Float64})::Float64\n",
    "        1 / sum(@. exp(2 * log(_w)))\n",
    "    end\n",
    "    \n",
    "    # Log ratio at given proposal l-1 and target l for n-th particle\n",
    "    function log_G(ℓπ_0, ℓπ_1, l::Int, n::Int)::Float64\n",
    "        _particle = particles[:l => l-1, :n => n]\n",
    "        log_γ_0 = LogDensityProblems.logdensity(ℓπ_0, _particle)\n",
    "        log_γ_1 = LogDensityProblems.logdensity(ℓπ_1, _particle)\n",
    "        log_γ_1 - log_γ_0\n",
    "    end\n",
    "\n",
    "    # MCMC kernel\n",
    "    initial_ϵ, n_steps, mass = stats.step_size[end], min(15, stats.n_steps[end]), vec(var(chain .|> vec |> vecvec2mat; dims=1))\n",
    "    function _move(initial_θ::Vector{Float64},\n",
    "            n_samples::Int, n_adapts::Int,\n",
    "            ℓπ::LogDensityFunction)::Vector{Float64}\n",
    "        metric = DiagEuclideanMetric(mass)\n",
    "        hamiltonian = Hamiltonian(metric, ℓπ)\n",
    "        integrator = Leapfrog(initial_ϵ)\n",
    "        adaptor = StanHMCAdaptor(MassMatrixAdaptor(metric), StepSizeAdaptor(0.8, integrator))\n",
    "        kernel = HMCKernel(Trajectory{EndPointTS}(integrator, FixedNSteps(n_steps)))\n",
    "        rng = Random.TaskLocalRNG()\n",
    "        samples, stats = sample(rng, hamiltonian, kernel, initial_θ, n_samples, adaptor, n_adapts;\n",
    "            verbose=false, progress=false)\n",
    "        samples[end]\n",
    "    end\n",
    "    \n",
    "    # Set initial values, starting index\n",
    "    particles[:l => 0] = Θ_0 # sample from prior\n",
    "    weights[:l => 0] = repeat([1/R], R)\n",
    "    ϕ_history[:l => 0] = 0.\n",
    "    \n",
    "    time = @elapsed for l in 1:L\n",
    "        # Inherit case-deleted model from previous iteration\n",
    "        model_0 = Model(data, leave_g, ϕ_history[:l => l-1])\n",
    "        ℓπ_0 = LogDensityFunction(model_0)\n",
    "        Turing.DynamicPPL.link!!(ℓπ_0.varinfo, model_0)\n",
    "\n",
    "        # Define (until ↦ ESS) map\n",
    "        function _ϕ2reff(ϕ::Union{Float64, Int64})::Float64\n",
    "            @assert 0 <= ϕ <= 1 # data.N_g[leave_g]\n",
    "            model_1 = Model(data, leave_g, ϕ)\n",
    "            ℓπ_1 = LogDensityFunction(model_1)\n",
    "            Turing.DynamicPPL.link!!(ℓπ_1.varinfo, model_1)\n",
    "            \n",
    "            _log_weights = [log_G(ℓπ_0, ℓπ_1, l, n) for n in 1:R]\n",
    "            _log_weights = _log_weights .- maximum(_log_weights)\n",
    "            \n",
    "            _ESS = _log_weights |> _normalize |> _ess\n",
    "            _ESS - R/2\n",
    "        end\n",
    "        \n",
    "        # Initialize next distribution parameter\n",
    "        ϕ_1 = nothing\n",
    "        \n",
    "        # Case 1: ESS is above threshold\n",
    "        if _ϕ2reff(1) > 0\n",
    "            # Define next as final distribution\n",
    "            ϕ_1 = 1\n",
    "            \n",
    "            # Compute log weights\n",
    "            model_1 = Model(data, leave_g, ϕ_1)\n",
    "            ℓπ_1 = LogDensityFunction(model_1)\n",
    "            Turing.DynamicPPL.link!!(ℓπ_1.varinfo, model_1)\n",
    "            _log_weights = [log_G(ℓπ_0, ℓπ_1, l, n) for n in 1:R]\n",
    "            _log_weights = _log_weights .- maximum(_log_weights)\n",
    "\n",
    "            # Adaptive\n",
    "            _psis = psis(_log_weights; warn=false)\n",
    "\n",
    "            # Case 1-1: PSIS\n",
    "            if _psis.pareto_shape < k̂_threshold\n",
    "                mcmc_flag[:l => l] = false; @info \"ϕ=$(ϕ_1), PSIS\"\n",
    "                particles[:l => l] = particles[:l => l-1]\n",
    "                weights[:l => l] = _psis.log_weights |> _normalize\n",
    "                k̂ = _psis.pareto_shape \n",
    "                ϕ_history[:l => l] = ϕ_1\n",
    "            \n",
    "            # Case 1-2: MCMC kernel\n",
    "            else\n",
    "                mcmc_flag[:l => l] = true; @info \"ϕ=$(ϕ_1), MCMC\"\n",
    "                \n",
    "                A_0 = wsample(1:R, _log_weights |> _normalize, R)\n",
    "                _begin = particles[:l => l-1, :n => A_0]\n",
    "                _end = particles[:l => l, :n => 1:R] |> similar\n",
    "                #@showprogress for n in 1:R\n",
    "                p = ProgressMeter.Progress(R); @Threads.threads for n in 1:R\n",
    "                    _end[n,:] = _move(_begin[n,:], 1, 0, ℓπ_1)\n",
    "                    ProgressMeter.next!(p)\n",
    "                end\n",
    "                particles[Name(l), :, :,] = _end\n",
    "                weights[:l => l] = repeat([1/R], R)\n",
    "                ϕ_history[:l => l] = ϕ_1\n",
    "            end\n",
    "            \n",
    "            L = l; break # Break loop\n",
    "\n",
    "        # Case 2: ESS is below threshold\n",
    "        else\n",
    "            mcmc_flag[:l => l] = true\n",
    "            \n",
    "            # Find next distribution\n",
    "            ϕ_1 = find_zero(_ϕ2reff, (ϕ_history[:l => l-1] + 1e-4, 1),\n",
    "                xtol=0.1, maxiters=10, verbose=true)\n",
    "            @info \"Targeting ϕ=$(ϕ_1)\"\n",
    "            \n",
    "            # Compute log weights\n",
    "            model_1 = Model(data, leave_g, ϕ_1)\n",
    "            ℓπ_1 = LogDensityFunction(model_1)\n",
    "            Turing.DynamicPPL.link!!(ℓπ_1.varinfo, model_1)\n",
    "            _log_weights = [log_G(ℓπ_0, ℓπ_1, l, n) for n in 1:R]\n",
    "            _log_weights = _log_weights .- maximum(_log_weights)\n",
    "            \n",
    "            A_0 = wsample(1:R, _log_weights |> _normalize, R)\n",
    "            _begin = particles[:l => l-1, :n => A_0]\n",
    "            _end = particles[:l => l, :n => 1:R] |> similar\n",
    "            #@showprogress for n in 1:R\n",
    "            p = ProgressMeter.Progress(R); @Threads.threads for n in 1:R\n",
    "                _end[n,:] = _move(_begin[n,:], 1, 0, ℓπ_1)\n",
    "                ProgressMeter.next!(p)\n",
    "            end\n",
    "            particles[Name(l), :, :,] = _end\n",
    "            weights[:l => l] = repeat([1/R], R)\n",
    "            ϕ_history[:l => l] = ϕ_1\n",
    "        end\n",
    "    end\n",
    "\n",
    "    particles = particles[Name(L),:,:]\n",
    "    weights   = weights[Name(L), :]\n",
    "    mcmc_flag = mcmc_flag[Name(L)]\n",
    "    ϕ_history = ϕ_history[Name.(0:L)]\n",
    "\n",
    "    (;\n",
    "        R,         # Number of particles\n",
    "        D,         # Dimensionality of parameter space\n",
    "        L,         # Number of intermediate distributions\n",
    "        particles, # NamedArray of particles\n",
    "        weights,   # Associated particle weights\n",
    "        ϕ_history, # History of ϕ (= 1 - ρ | ρ: power coef) values\n",
    "        k̂,         # Pareto shape diagnostic estimate, if any\n",
    "        mcmc_flag, # true if invariant kernel applied\n",
    "        time,      # SMC runtime\n",
    "    )\n",
    "end"
   ]
  },
  {
   "cell_type": "markdown",
   "id": "1ea66811-a3c7-4369-9910-8e97d6a6ad63",
   "metadata": {},
   "source": [
    "## PSIS"
   ]
  },
  {
   "cell_type": "code",
   "execution_count": 46,
   "id": "48753fc0-710c-44d4-bd7d-addffc7b9e7c",
   "metadata": {},
   "outputs": [
    {
     "data": {
      "text/plain": [
       "PSIS_M5 (generic function with 1 method)"
      ]
     },
     "execution_count": 46,
     "metadata": {},
     "output_type": "execute_result"
    }
   ],
   "source": [
    "function PSIS_M5(chain::Vector{Vector{Float64}}, leave_g::Vector{String}; k̂_threshold::Float64=0.7)\n",
    "    \n",
    "    model = Model(data, leave_g, 0)\n",
    "    draws_0 = chain .|> Turing.bijector(model) |> vecvec2mat # unconstrain\n",
    "    \n",
    "    # Define problem dimensions\n",
    "    R = size(draws_0, 1)\n",
    "    D = size(draws_0, 2)\n",
    "    L = 1 # maximum\n",
    "    _names = sample(model, Prior(), 1).name_map.parameters .|> String\n",
    "    \n",
    "    # Obtain unconstrained prior draw\n",
    "    Θ_0 = NamedArray(\n",
    "        draws_0,\n",
    "        (1:R, _names),\n",
    "        (:n, :d),\n",
    "    )\n",
    "    \n",
    "    # Initialize containers\n",
    "    particles   = NamedArray(zeros(L+1, R, D), (0:L, 1:R, _names), (:l, :n, :d))\n",
    "    # log_weights = NamedArray(zeros(L+1, R), (0:L, 1:R), (:l, :n))\n",
    "    weights     = NamedArray(zeros(L+1, R), (0:L, 1:R), (:l, :n))\n",
    "    k̂           = nothing # NamedArray(zeros(L+1), 0:L, :l)\n",
    "    \n",
    "    # Log weights normalizer\n",
    "    function _normalize(_log_w::Vector{Float64})::Vector{Float64}\n",
    "        # normalize log weights\n",
    "        _w = exp.(_log_w .- maximum(_log_w))\n",
    "        _w = _w / sum(_w)\n",
    "        _w\n",
    "    end\n",
    "\n",
    "    # Log ratio\n",
    "    function log_G(ℓπ_0, ℓπ_1, l::Int, n::Int)::Float64\n",
    "        _particle = particles[:l => l-1, :n => n]\n",
    "        log_γ_0 = LogDensityProblems.logdensity(ℓπ_0, _particle)\n",
    "        log_γ_1 = LogDensityProblems.logdensity(ℓπ_1, _particle)\n",
    "        log_γ_1 - log_γ_0\n",
    "    end\n",
    "    \n",
    "    # Set initial values, starting index\n",
    "    particles[:l => 0] = Θ_0 # sample from prior\n",
    "    weights[:l => 0] = repeat([1/R], R)\n",
    "\n",
    "    ϕ_0 = 0\n",
    "    model_0 = Model(data, leave_g, ϕ_0)\n",
    "    ℓπ_0 = LogDensityFunction(model_0)\n",
    "    Turing.DynamicPPL.link!!(ℓπ_0.varinfo, model_0)\n",
    "    \n",
    "    # Compute log weights\n",
    "    ϕ_1 = 1\n",
    "    model_1 = Model(data, leave_g, ϕ_1)\n",
    "    ℓπ_1 = LogDensityFunction(model_1)\n",
    "    Turing.DynamicPPL.link!!(ℓπ_1.varinfo, model_1)\n",
    "    \n",
    "    time = @elapsed (l = 1;\n",
    "        _log_weights = [log_G(ℓπ_0, ℓπ_1, l, n) for n in 1:R];\n",
    "        _log_weights = _log_weights .- maximum(_log_weights);\n",
    "        \n",
    "        # PSIS\n",
    "        _psis = psis(_log_weights; warn=false);\n",
    "        particles[:l => l] = particles[:l => l-1];\n",
    "        weights[:l => l] = _psis.log_weights |> _normalize;\n",
    "    )\n",
    "    \n",
    "    k̂ = _psis.pareto_shape\n",
    "    particles = particles[Name(L),:,:]\n",
    "    weights   = weights[Name(L), :]\n",
    "\n",
    "    (; R, D, L, particles, weights, k̂, time)\n",
    "end"
   ]
  },
  {
   "cell_type": "markdown",
   "id": "3031ce1b-cd36-49c3-8fdd-cc443cc48200",
   "metadata": {},
   "source": [
    "# Run"
   ]
  },
  {
   "cell_type": "code",
   "execution_count": 16,
   "id": "01734703-3330-4849-a764-4db98c4d67d0",
   "metadata": {},
   "outputs": [
    {
     "data": {
      "text/plain": [
       "run (generic function with 1 method)"
      ]
     },
     "execution_count": 16,
     "metadata": {},
     "output_type": "execute_result"
    }
   ],
   "source": [
    "# Function to run aSMC-LSO-CV or PSIS-LSO-CV across all counties\n",
    "function run(\n",
    "        use_chain::Vector{Vector{Float64}}, # Input baseline MCMC chain\n",
    "        Sampler_M5::Union{typeof(SMCS_M5), typeof(PSIS_M5)};\n",
    "        save_bool::Bool=false,              # Saving output\n",
    "        k̂_threshold::Float64=0.7,           # Optional threshold (unused for main analysis)\n",
    ")\n",
    "    \n",
    "    R = length(use_chain) # Number of posterior particles\n",
    "\n",
    "    # Init per-group storage\n",
    "    particles    = []\n",
    "    weights      = []\n",
    "    ϕ_histories  = []\n",
    "    k̂s           = []\n",
    "    times        = Float64[]\n",
    "\n",
    "    @info \"First pilot run\"\n",
    "    Sampler_M5(use_chain, data.valid_idx[1]; k̂_threshold=k̂_threshold)\n",
    "    \n",
    "    for (fold_i, leave_g) in enumerate(data.valid_idx)\n",
    "        @info \"Fold: $(fold_i)\"\n",
    "        \n",
    "        # Run aSMC or PSIS\n",
    "        results = Sampler_M5(use_chain, leave_g; k̂_threshold=k̂_threshold)\n",
    "        # aiueo\n",
    "        # Record output\n",
    "        push!(particles,   results[:particles])\n",
    "        push!(weights,     results[:weights])\n",
    "        push!(k̂s,          results[:k̂])\n",
    "        push!(times,       results[:time])\n",
    "        Sampler_M5 == SMCS_M5 && push!(ϕ_histories, results[:ϕ_history])\n",
    "        # break\n",
    "    end\n",
    "\n",
    "    if save_bool\n",
    "        # Define folder to save output\n",
    "        _dir = joinpath(\n",
    "            \"output_$(SESSION)\",\n",
    "            \"M5\",\n",
    "            Sampler_M5 == SMCS_M5 ? \"smc\" : \"psis\"\n",
    "        )\n",
    "        isdir(_dir) || mkpath(_dir) # Ensure path is present\n",
    "\n",
    "        # Save (after un-naming)\n",
    "        # Sizes are: G = groups, R = particles, D = parameter dim\n",
    "        save(joinpath(_dir, \"particles_threshold-$(k̂_threshold).jld\"),\n",
    "            \"data\", particles .|> Matrix) # [G][R,D]\n",
    "        save(joinpath(_dir, \"weights_threshold-$(k̂_threshold).jld\"),\n",
    "            \"data\", weights .|> Vector) # [G][R]\n",
    "        save(joinpath(_dir, \"khats_threshold-$(k̂_threshold).jld\"),\n",
    "            \"data\", k̂s) # G\n",
    "        save(joinpath(_dir, \"times_threshold-$(k̂_threshold).jld\"),\n",
    "            \"data\", times) # G\n",
    "        Sampler_M5 == SMCS_M5 && save(\n",
    "            joinpath(_dir, \"histories_threshold-$(k̂_threshold).jld\"),\n",
    "            \"data\", ϕ_histories .|> Vector) # [G][L_g]\n",
    "    end\n",
    "    \n",
    "    return\n",
    "end"
   ]
  },
  {
   "cell_type": "code",
   "execution_count": 17,
   "id": "7147f80d-9b29-4aea-bbc8-17e9426a56bb",
   "metadata": {
    "scrolled": true
   },
   "outputs": [
    {
     "name": "stderr",
     "output_type": "stream",
     "text": [
      "\u001b[36m\u001b[1m[ \u001b[22m\u001b[39m\u001b[36m\u001b[1mInfo: \u001b[22m\u001b[39mFold: 1\n"
     ]
    },
    {
     "data": {
      "text/plain": [
       "Results of univariate zero finding:\n",
       "\n",
       "* Converged to: 0.2769941406249999\n",
       "* Algorithm: Bisection()\n",
       "* iterations: 10\n",
       "* function evaluations ≈ 13\n",
       "\n",
       "Trace:\n",
       "(a₀, b₀) = ( 0.010306249999999999, 1 )\n",
       "(a₁, b₁) = ( 0.103725, 1 )\n",
       "(a₂, b₂) = ( 0.103725, 0.33244999999999997 )\n",
       "(a₃, b₃) = ( 0.18683749999999999, 0.33244999999999997 )\n",
       "(a₄, b₄) = ( 0.23903124999999997, 0.33244999999999997 )\n",
       "(a₅, b₅) = ( 0.23903124999999997, 0.28025624999999993 )\n",
       "(a₆, b₆) = ( 0.25415937499999991, 0.28025624999999993 )\n",
       "(a₇, b₇) = ( 0.26720781249999992, 0.28025624999999993 )\n",
       "(a₈, b₈) = ( 0.2737320312499999, 0.28025624999999993 )\n",
       "(a₉, b₉) = ( 0.2737320312499999, 0.27699414062499988 )\n",
       "(a₁₀, b₁₀) = ( 0.27536308593749986, 0.27699414062499988 )\n",
       "\n"
      ]
     },
     "metadata": {},
     "output_type": "display_data"
    },
    {
     "name": "stderr",
     "output_type": "stream",
     "text": [
      "\u001b[36m\u001b[1m[ \u001b[22m\u001b[39m\u001b[36m\u001b[1mInfo: \u001b[22m\u001b[39mTargeting ϕ=0.2769941406249999\n",
      "\u001b[32mProgress: 100%|█████████████████████████████████████████| Time: 0:00:45\u001b[39m\n"
     ]
    },
    {
     "data": {
      "text/plain": [
       "Results of univariate zero finding:\n",
       "\n",
       "* Converged to: 0.4703667013168333\n",
       "* Algorithm: Bisection()\n",
       "* iterations: 10\n",
       "* function evaluations ≈ 13\n",
       "\n",
       "Trace:\n",
       "(a₀, b₀) = ( 0.27709414062499987, 0.52709414062499982 )\n",
       "(a₁, b₁) = ( 0.39532060546874986, 0.52709414062499982 )\n",
       "(a₂, b₂) = ( 0.45443383789062486, 0.52709414062499982 )\n",
       "(a₃, b₃) = ( 0.45443383789062486, 0.48399045410156238 )\n",
       "(a₄, b₄) = ( 0.46921214599609362, 0.48399045410156238 )\n",
       "(a₅, b₅) = ( 0.46921214599609362, 0.476601300048828 )\n",
       "(a₆, b₆) = ( 0.46921214599609362, 0.47290672302246078 )\n",
       "(a₇, b₇) = ( 0.46921214599609362, 0.47105943450927718 )\n",
       "(a₈, b₈) = ( 0.47013579025268537, 0.47105943450927718 )\n",
       "(a₉, b₉) = ( 0.47013579025268537, 0.47059761238098125 )\n",
       "(a₁₀, b₁₀) = ( 0.47013579025268537, 0.47036670131683328 )\n",
       "\n"
      ]
     },
     "metadata": {},
     "output_type": "display_data"
    },
    {
     "name": "stderr",
     "output_type": "stream",
     "text": [
      "\u001b[36m\u001b[1m[ \u001b[22m\u001b[39m\u001b[36m\u001b[1mInfo: \u001b[22m\u001b[39mTargeting ϕ=0.4703667013168333\n",
      "\u001b[32mProgress: 100%|█████████████████████████████████████████| Time: 0:00:44\u001b[39m\n"
     ]
    },
    {
     "data": {
      "text/plain": [
       "Results of univariate zero finding:\n",
       "\n",
       "* Converged to: 0.6429398880101735\n",
       "* Algorithm: Bisection()\n",
       "* iterations: 10\n",
       "* function evaluations ≈ 13\n",
       "\n",
       "Trace:\n",
       "(a₀, b₀) = ( 0.47046670131683327, 0.72046670131683321 )\n",
       "(a₁, b₁) = ( 0.58070005197524988, 0.72046670131683321 )\n",
       "(a₂, b₂) = ( 0.58070005197524988, 0.65058337664604149 )\n",
       "(a₃, b₃) = ( 0.61564171431064563, 0.65058337664604149 )\n",
       "(a₄, b₄) = ( 0.6331125454783435, 0.65058337664604149 )\n",
       "(a₅, b₅) = ( 0.64184796106219244, 0.65058337664604149 )\n",
       "(a₆, b₆) = ( 0.64184796106219244, 0.64621566885411696 )\n",
       "(a₇, b₇) = ( 0.64184796106219244, 0.64403181495815465 )\n",
       "(a₈, b₈) = ( 0.64184796106219244, 0.64293988801017354 )\n",
       "(a₉, b₉) = ( 0.64239392453618294, 0.64293988801017354 )\n",
       "(a₁₀, b₁₀) = ( 0.64266690627317824, 0.64293988801017354 )\n",
       "\n"
      ]
     },
     "metadata": {},
     "output_type": "display_data"
    },
    {
     "name": "stderr",
     "output_type": "stream",
     "text": [
      "\u001b[36m\u001b[1m[ \u001b[22m\u001b[39m\u001b[36m\u001b[1mInfo: \u001b[22m\u001b[39mTargeting ϕ=0.6429398880101735\n",
      "\u001b[32mProgress: 100%|█████████████████████████████████████████| Time: 0:00:44\u001b[39m\n"
     ]
    },
    {
     "data": {
      "text/plain": [
       "Results of univariate zero finding:\n",
       "\n",
       "* Converged to: 0.7746340699204853\n",
       "* Algorithm: Bisection()\n",
       "* iterations: 10\n",
       "* function evaluations ≈ 13\n",
       "\n",
       "Trace:\n",
       "(a₀, b₀) = ( 0.64303988801017353, 0.82151994400508677 )\n",
       "(a₁, b₁) = ( 0.73227991600763009, 0.82151994400508677 )\n",
       "(a₂, b₂) = ( 0.73227991600763009, 0.77689993000635837 )\n",
       "(a₃, b₃) = ( 0.75458992300699423, 0.77689993000635837 )\n",
       "(a₄, b₄) = ( 0.76574492650667625, 0.77689993000635837 )\n",
       "(a₅, b₅) = ( 0.77132242825651731, 0.77689993000635837 )\n",
       "(a₆, b₆) = ( 0.77411117913143779, 0.77689993000635837 )\n",
       "(a₇, b₇) = ( 0.77411117913143779, 0.77550555456889803 )\n",
       "(a₈, b₈) = ( 0.77411117913143779, 0.77480836685016785 )\n",
       "(a₉, b₉) = ( 0.77445977299080282, 0.77480836685016785 )\n",
       "(a₁₀, b₁₀) = ( 0.77445977299080282, 0.77463406992048534 )\n",
       "\n"
      ]
     },
     "metadata": {},
     "output_type": "display_data"
    },
    {
     "name": "stderr",
     "output_type": "stream",
     "text": [
      "\u001b[36m\u001b[1m[ \u001b[22m\u001b[39m\u001b[36m\u001b[1mInfo: \u001b[22m\u001b[39mTargeting ϕ=0.7746340699204853\n",
      "\u001b[32mProgress: 100%|█████████████████████████████████████████| Time: 0:00:44\u001b[39m\n"
     ]
    },
    {
     "data": {
      "text/plain": [
       "Results of univariate zero finding:\n",
       "\n",
       "* Converged to: 0.8729579349405079\n",
       "* Algorithm: Bisection()\n",
       "* iterations: 10\n",
       "* function evaluations ≈ 13\n",
       "\n",
       "Trace:\n",
       "(a₀, b₀) = ( 0.77473406992048532, 0.88736703496024261 )\n",
       "(a₁, b₁) = ( 0.83105055244036397, 0.88736703496024261 )\n",
       "(a₂, b₂) = ( 0.85920879370030323, 0.88736703496024261 )\n",
       "(a₃, b₃) = ( 0.85920879370030323, 0.87328791433027286 )\n",
       "(a₄, b₄) = ( 0.86624835401528799, 0.87328791433027286 )\n",
       "(a₅, b₅) = ( 0.86976813417278043, 0.87328791433027286 )\n",
       "(a₆, b₆) = ( 0.87152802425152665, 0.87328791433027286 )\n",
       "(a₇, b₇) = ( 0.8724079692908997, 0.87328791433027286 )\n",
       "(a₈, b₈) = ( 0.87284794181058623, 0.87328791433027286 )\n",
       "(a₉, b₉) = ( 0.87284794181058623, 0.87306792807042954 )\n",
       "(a₁₀, b₁₀) = ( 0.87295793494050788, 0.87306792807042954 )\n",
       "\n"
      ]
     },
     "metadata": {},
     "output_type": "display_data"
    },
    {
     "name": "stderr",
     "output_type": "stream",
     "text": [
      "\u001b[36m\u001b[1m[ \u001b[22m\u001b[39m\u001b[36m\u001b[1mInfo: \u001b[22m\u001b[39mTargeting ϕ=0.8729579349405079\n",
      "\u001b[32mProgress: 100%|█████████████████████████████████████████| Time: 0:00:44\u001b[39m\n"
     ]
    },
    {
     "data": {
      "text/plain": [
       "Results of univariate zero finding:\n",
       "\n",
       "* Converged to: 0.953946311357811\n",
       "* Algorithm: Bisection()\n",
       "* iterations: 10\n",
       "* function evaluations ≈ 13\n",
       "\n",
       "Trace:\n",
       "(a₀, b₀) = ( 0.93652896747025394, 1 )\n",
       "(a₁, b₁) = ( 0.93652896747025394, 0.96826448373512697 )\n",
       "(a₂, b₂) = ( 0.9523967256026904, 0.96826448373512697 )\n",
       "(a₃, b₃) = ( 0.9523967256026904, 0.96033060466890863 )\n",
       "(a₄, b₄) = ( 0.9523967256026904, 0.95636366513579951 )\n",
       "(a₅, b₅) = ( 0.9523967256026904, 0.9543801953692449 )\n",
       "(a₆, b₆) = ( 0.95338846048596759, 0.9543801953692449 )\n",
       "(a₇, b₇) = ( 0.95388432792760625, 0.9543801953692449 )\n",
       "(a₈, b₈) = ( 0.95388432792760625, 0.95413226164842557 )\n",
       "(a₉, b₉) = ( 0.95388432792760625, 0.95400829478801585 )\n",
       "(a₁₀, b₁₀) = ( 0.95388432792760625, 0.95394631135781105 )\n",
       "\n"
      ]
     },
     "metadata": {},
     "output_type": "display_data"
    },
    {
     "name": "stderr",
     "output_type": "stream",
     "text": [
      "\u001b[36m\u001b[1m[ \u001b[22m\u001b[39m\u001b[36m\u001b[1mInfo: \u001b[22m\u001b[39mTargeting ϕ=0.953946311357811\n",
      "\u001b[32mProgress: 100%|█████████████████████████████████████████| Time: 0:00:44\u001b[39m\n",
      "\u001b[36m\u001b[1m[ \u001b[22m\u001b[39m\u001b[36m\u001b[1mInfo: \u001b[22m\u001b[39mϕ=1, PSIS\n",
      "\u001b[36m\u001b[1m[ \u001b[22m\u001b[39m\u001b[36m\u001b[1mInfo: \u001b[22m\u001b[39mFold: 2\n"
     ]
    },
    {
     "data": {
      "text/plain": [
       "Results of univariate zero finding:\n",
       "\n",
       "* Converged to: 0.3960611328124999\n",
       "* Algorithm: Bisection()\n",
       "* iterations: 10\n",
       "* function evaluations ≈ 13\n",
       "\n",
       "Trace:\n",
       "(a₀, b₀) = ( 0.010306249999999999, 1 )\n",
       "(a₁, b₁) = ( 0.103725, 1 )\n",
       "(a₂, b₂) = ( 0.33244999999999997, 1 )\n",
       "(a₃, b₃) = ( 0.33244999999999997, 0.58244999999999991 )\n",
       "(a₄, b₄) = ( 0.33244999999999997, 0.43683749999999993 )\n",
       "(a₅, b₅) = ( 0.38464374999999995, 0.43683749999999993 )\n",
       "(a₆, b₆) = ( 0.38464374999999995, 0.41074062499999991 )\n",
       "(a₇, b₇) = ( 0.38464374999999995, 0.39769218749999991 )\n",
       "(a₈, b₈) = ( 0.39116796874999993, 0.39769218749999991 )\n",
       "(a₉, b₉) = ( 0.39443007812499992, 0.39769218749999991 )\n",
       "(a₁₀, b₁₀) = ( 0.39443007812499992, 0.39606113281249988 )\n",
       "\n"
      ]
     },
     "metadata": {},
     "output_type": "display_data"
    },
    {
     "name": "stderr",
     "output_type": "stream",
     "text": [
      "\u001b[36m\u001b[1m[ \u001b[22m\u001b[39m\u001b[36m\u001b[1mInfo: \u001b[22m\u001b[39mTargeting ϕ=0.3960611328124999\n",
      "\u001b[32mProgress: 100%|█████████████████████████████████████████| Time: 0:00:45\u001b[39m\n"
     ]
    },
    {
     "data": {
      "text/plain": [
       "Results of univariate zero finding:\n",
       "\n",
       "* Converged to: 0.7905992641448972\n",
       "* Algorithm: Bisection()\n",
       "* iterations: 10\n",
       "* function evaluations ≈ 13\n",
       "\n",
       "Trace:\n",
       "(a₀, b₀) = ( 0.64616113281249987, 1 )\n",
       "(a₁, b₁) = ( 0.64616113281249987, 0.82308056640624994 )\n",
       "(a₂, b₂) = ( 0.7346208496093749, 0.82308056640624994 )\n",
       "(a₃, b₃) = ( 0.77885070800781242, 0.82308056640624994 )\n",
       "(a₄, b₄) = ( 0.77885070800781242, 0.80096563720703118 )\n",
       "(a₅, b₅) = ( 0.78990817260742174, 0.80096563720703118 )\n",
       "(a₆, b₆) = ( 0.78990817260742174, 0.79543690490722641 )\n",
       "(a₇, b₇) = ( 0.78990817260742174, 0.79267253875732402 )\n",
       "(a₈, b₈) = ( 0.78990817260742174, 0.79129035568237283 )\n",
       "(a₉, b₉) = ( 0.79059926414489723, 0.79129035568237283 )\n",
       "(a₁₀, b₁₀) = ( 0.79059926414489723, 0.79094480991363503 )\n",
       "\n"
      ]
     },
     "metadata": {},
     "output_type": "display_data"
    },
    {
     "name": "stderr",
     "output_type": "stream",
     "text": [
      "\u001b[36m\u001b[1m[ \u001b[22m\u001b[39m\u001b[36m\u001b[1mInfo: \u001b[22m\u001b[39mTargeting ϕ=0.7905992641448972\n",
      "\u001b[32mProgress: 100%|█████████████████████████████████████████| Time: 0:00:45\u001b[39m\n",
      "\u001b[36m\u001b[1m[ \u001b[22m\u001b[39m\u001b[36m\u001b[1mInfo: \u001b[22m\u001b[39mϕ=1, PSIS\n",
      "\u001b[36m\u001b[1m[ \u001b[22m\u001b[39m\u001b[36m\u001b[1mInfo: \u001b[22m\u001b[39mFold: 3\n"
     ]
    },
    {
     "data": {
      "text/plain": [
       "Results of univariate zero finding:\n",
       "\n",
       "* Converged to: 0.6868374999999999\n",
       "* Algorithm: Bisection()\n",
       "* iterations: 10\n",
       "* function evaluations ≈ 13\n",
       "\n",
       "Trace:\n",
       "(a₀, b₀) = ( 0.010306249999999999, 1 )\n",
       "(a₁, b₁) = ( 0.103725, 1 )\n",
       "(a₂, b₂) = ( 0.33244999999999997, 1 )\n",
       "(a₃, b₃) = ( 0.58244999999999991, 1 )\n",
       "(a₄, b₄) = ( 0.58244999999999991, 0.79122499999999996 )\n",
       "(a₅, b₅) = ( 0.68683749999999988, 0.79122499999999996 )\n",
       "(a₆, b₆) = ( 0.68683749999999988, 0.73903124999999992 )\n",
       "(a₇, b₇) = ( 0.68683749999999988, 0.7129343749999999 )\n",
       "(a₈, b₈) = ( 0.68683749999999988, 0.69988593749999983 )\n",
       "(a₉, b₉) = ( 0.68683749999999988, 0.69336171874999986 )\n",
       "(a₁₀, b₁₀) = ( 0.68683749999999988, 0.69009960937499981 )\n",
       "\n"
      ]
     },
     "metadata": {},
     "output_type": "display_data"
    },
    {
     "name": "stderr",
     "output_type": "stream",
     "text": [
      "\u001b[36m\u001b[1m[ \u001b[22m\u001b[39m\u001b[36m\u001b[1mInfo: \u001b[22m\u001b[39mTargeting ϕ=0.6868374999999999\n",
      "\u001b[32mProgress: 100%|█████████████████████████████████████████| Time: 0:00:45\u001b[39m\n",
      "\u001b[36m\u001b[1m[ \u001b[22m\u001b[39m\u001b[36m\u001b[1mInfo: \u001b[22m\u001b[39mϕ=1, PSIS\n",
      "\u001b[36m\u001b[1m[ \u001b[22m\u001b[39m\u001b[36m\u001b[1mInfo: \u001b[22m\u001b[39mFold: 4\n"
     ]
    },
    {
     "data": {
      "text/plain": [
       "Results of univariate zero finding:\n",
       "\n",
       "* Converged to: 0.30635312499999995\n",
       "* Algorithm: Bisection()\n",
       "* iterations: 10\n",
       "* function evaluations ≈ 13\n",
       "\n",
       "Trace:\n",
       "(a₀, b₀) = ( 0.010306249999999999, 1 )\n",
       "(a₁, b₁) = ( 0.103725, 1 )\n",
       "(a₂, b₂) = ( 0.103725, 0.33244999999999997 )\n",
       "(a₃, b₃) = ( 0.18683749999999999, 0.33244999999999997 )\n",
       "(a₄, b₄) = ( 0.23903124999999997, 0.33244999999999997 )\n",
       "(a₅, b₅) = ( 0.28025624999999993, 0.33244999999999997 )\n",
       "(a₆, b₆) = ( 0.28025624999999993, 0.30635312499999995 )\n",
       "(a₇, b₇) = ( 0.29330468749999994, 0.30635312499999995 )\n",
       "(a₈, b₈) = ( 0.29982890624999992, 0.30635312499999995 )\n",
       "(a₉, b₉) = ( 0.3030910156249999, 0.30635312499999995 )\n",
       "(a₁₀, b₁₀) = ( 0.30472207031249993, 0.30635312499999995 )\n",
       "\n"
      ]
     },
     "metadata": {},
     "output_type": "display_data"
    },
    {
     "name": "stderr",
     "output_type": "stream",
     "text": [
      "\u001b[36m\u001b[1m[ \u001b[22m\u001b[39m\u001b[36m\u001b[1mInfo: \u001b[22m\u001b[39mTargeting ϕ=0.30635312499999995\n",
      "\u001b[32mProgress: 100%|█████████████████████████████████████████| Time: 0:00:45\u001b[39m\n"
     ]
    },
    {
     "data": {
      "text/plain": [
       "Results of univariate zero finding:\n",
       "\n",
       "* Converged to: 0.5486564025878904\n",
       "* Algorithm: Bisection()\n",
       "* iterations: 10\n",
       "* function evaluations ≈ 13\n",
       "\n",
       "Trace:\n",
       "(a₀, b₀) = ( 0.30645312499999994, 0.55645312499999988 )\n",
       "(a₁, b₁) = ( 0.41733984374999994, 0.55645312499999988 )\n",
       "(a₂, b₂) = ( 0.47278320312499994, 0.55645312499999988 )\n",
       "(a₃, b₃) = ( 0.50100976562499988, 0.55645312499999988 )\n",
       "(a₄, b₄) = ( 0.52873144531249983, 0.55645312499999988 )\n",
       "(a₅, b₅) = ( 0.5425922851562498, 0.55645312499999988 )\n",
       "(a₆, b₆) = ( 0.5425922851562498, 0.54952270507812484 )\n",
       "(a₇, b₇) = ( 0.54605749511718726, 0.54952270507812484 )\n",
       "(a₈, b₈) = ( 0.54779010009765605, 0.54952270507812484 )\n",
       "(a₉, b₉) = ( 0.54779010009765605, 0.54865640258789039 )\n",
       "(a₁₀, b₁₀) = ( 0.54822325134277317, 0.54865640258789039 )\n",
       "\n"
      ]
     },
     "metadata": {},
     "output_type": "display_data"
    },
    {
     "name": "stderr",
     "output_type": "stream",
     "text": [
      "\u001b[36m\u001b[1m[ \u001b[22m\u001b[39m\u001b[36m\u001b[1mInfo: \u001b[22m\u001b[39mTargeting ϕ=0.5486564025878904\n",
      "\u001b[32mProgress: 100%|█████████████████████████████████████████| Time: 0:00:46\u001b[39m\n"
     ]
    },
    {
     "data": {
      "text/plain": [
       "Results of univariate zero finding:\n",
       "\n",
       "* Converged to: 0.7439721385776994\n",
       "* Algorithm: Bisection()\n",
       "* iterations: 10\n",
       "* function evaluations ≈ 13\n",
       "\n",
       "Trace:\n",
       "(a₀, b₀) = ( 0.54875640258789038, 0.77437820129394519 )\n",
       "(a₁, b₁) = ( 0.66156730194091773, 0.77437820129394519 )\n",
       "(a₂, b₂) = ( 0.71797275161743146, 0.77437820129394519 )\n",
       "(a₃, b₃) = ( 0.71797275161743146, 0.74617547645568827 )\n",
       "(a₄, b₄) = ( 0.73207411403655986, 0.74617547645568827 )\n",
       "(a₅, b₅) = ( 0.73912479524612407, 0.74617547645568827 )\n",
       "(a₆, b₆) = ( 0.74265013585090611, 0.74617547645568827 )\n",
       "(a₇, b₇) = ( 0.74265013585090611, 0.74441280615329719 )\n",
       "(a₈, b₈) = ( 0.7435314710021016, 0.74441280615329719 )\n",
       "(a₉, b₉) = ( 0.7435314710021016, 0.74397213857769939 )\n",
       "(a₁₀, b₁₀) = ( 0.74375180478990044, 0.74397213857769939 )\n",
       "\n"
      ]
     },
     "metadata": {},
     "output_type": "display_data"
    },
    {
     "name": "stderr",
     "output_type": "stream",
     "text": [
      "\u001b[36m\u001b[1m[ \u001b[22m\u001b[39m\u001b[36m\u001b[1mInfo: \u001b[22m\u001b[39mTargeting ϕ=0.7439721385776994\n",
      "\u001b[32mProgress: 100%|█████████████████████████████████████████| Time: 0:00:44\u001b[39m\n"
     ]
    },
    {
     "data": {
      "text/plain": [
       "Results of univariate zero finding:\n",
       "\n",
       "* Converged to: 0.8894061731646795\n",
       "* Algorithm: Bisection()\n",
       "* iterations: 10\n",
       "* function evaluations ≈ 13\n",
       "\n",
       "Trace:\n",
       "(a₀, b₀) = ( 0.87203606928884969, 1 )\n",
       "(a₁, b₁) = ( 0.87203606928884969, 0.93601803464442479 )\n",
       "(a₂, b₂) = ( 0.87203606928884969, 0.90402705196663724 )\n",
       "(a₃, b₃) = ( 0.88803156062774347, 0.90402705196663724 )\n",
       "(a₄, b₄) = ( 0.88803156062774347, 0.89602930629719035 )\n",
       "(a₅, b₅) = ( 0.88803156062774347, 0.89203043346246691 )\n",
       "(a₆, b₆) = ( 0.88803156062774347, 0.89003099704510513 )\n",
       "(a₇, b₇) = ( 0.8890312788364243, 0.89003099704510513 )\n",
       "(a₈, b₈) = ( 0.8890312788364243, 0.88953113794076466 )\n",
       "(a₉, b₉) = ( 0.88928120838859448, 0.88953113794076466 )\n",
       "(a₁₀, b₁₀) = ( 0.88928120838859448, 0.88940617316467951 )\n",
       "\n"
      ]
     },
     "metadata": {},
     "output_type": "display_data"
    },
    {
     "name": "stderr",
     "output_type": "stream",
     "text": [
      "\u001b[36m\u001b[1m[ \u001b[22m\u001b[39m\u001b[36m\u001b[1mInfo: \u001b[22m\u001b[39mTargeting ϕ=0.8894061731646795\n",
      "\u001b[32mProgress: 100%|█████████████████████████████████████████| Time: 0:00:45\u001b[39m\n",
      "\u001b[36m\u001b[1m[ \u001b[22m\u001b[39m\u001b[36m\u001b[1mInfo: \u001b[22m\u001b[39mϕ=1, PSIS\n",
      "\u001b[36m\u001b[1m[ \u001b[22m\u001b[39m\u001b[36m\u001b[1mInfo: \u001b[22m\u001b[39mFold: 5\n"
     ]
    },
    {
     "data": {
      "text/plain": [
       "Results of univariate zero finding:\n",
       "\n",
       "* Converged to: 0.6248574218749997\n",
       "* Algorithm: Bisection()\n",
       "* iterations: 10\n",
       "* function evaluations ≈ 13\n",
       "\n",
       "Trace:\n",
       "(a₀, b₀) = ( 0.010306249999999999, 1 )\n",
       "(a₁, b₁) = ( 0.103725, 1 )\n",
       "(a₂, b₂) = ( 0.33244999999999997, 1 )\n",
       "(a₃, b₃) = ( 0.58244999999999991, 1 )\n",
       "(a₄, b₄) = ( 0.58244999999999991, 0.79122499999999996 )\n",
       "(a₅, b₅) = ( 0.58244999999999991, 0.68683749999999988 )\n",
       "(a₆, b₆) = ( 0.58244999999999991, 0.63464374999999984 )\n",
       "(a₇, b₇) = ( 0.60854687499999982, 0.63464374999999984 )\n",
       "(a₈, b₈) = ( 0.62159531249999977, 0.63464374999999984 )\n",
       "(a₉, b₉) = ( 0.62159531249999977, 0.62811953124999975 )\n",
       "(a₁₀, b₁₀) = ( 0.62159531249999977, 0.62485742187499971 )\n",
       "\n"
      ]
     },
     "metadata": {},
     "output_type": "display_data"
    },
    {
     "name": "stderr",
     "output_type": "stream",
     "text": [
      "\u001b[36m\u001b[1m[ \u001b[22m\u001b[39m\u001b[36m\u001b[1mInfo: \u001b[22m\u001b[39mTargeting ϕ=0.6248574218749997\n",
      "\u001b[32mProgress: 100%|█████████████████████████████████████████| Time: 0:00:44\u001b[39m\n",
      "\u001b[36m\u001b[1m[ \u001b[22m\u001b[39m\u001b[36m\u001b[1mInfo: \u001b[22m\u001b[39mϕ=1, PSIS\n",
      "\u001b[36m\u001b[1m[ \u001b[22m\u001b[39m\u001b[36m\u001b[1mInfo: \u001b[22m\u001b[39mFold: 6\n"
     ]
    },
    {
     "data": {
      "text/plain": [
       "Results of univariate zero finding:\n",
       "\n",
       "* Converged to: 0.3128773437499999\n",
       "* Algorithm: Bisection()\n",
       "* iterations: 10\n",
       "* function evaluations ≈ 13\n",
       "\n",
       "Trace:\n",
       "(a₀, b₀) = ( 0.010306249999999999, 1 )\n",
       "(a₁, b₁) = ( 0.103725, 1 )\n",
       "(a₂, b₂) = ( 0.103725, 0.33244999999999997 )\n",
       "(a₃, b₃) = ( 0.18683749999999999, 0.33244999999999997 )\n",
       "(a₄, b₄) = ( 0.23903124999999997, 0.33244999999999997 )\n",
       "(a₅, b₅) = ( 0.28025624999999993, 0.33244999999999997 )\n",
       "(a₆, b₆) = ( 0.30635312499999995, 0.33244999999999997 )\n",
       "(a₇, b₇) = ( 0.30635312499999995, 0.31940156249999996 )\n",
       "(a₈, b₈) = ( 0.30635312499999995, 0.31287734374999993 )\n",
       "(a₉, b₉) = ( 0.30961523437499994, 0.31287734374999993 )\n",
       "(a₁₀, b₁₀) = ( 0.3112462890624999, 0.31287734374999993 )\n",
       "\n"
      ]
     },
     "metadata": {},
     "output_type": "display_data"
    },
    {
     "name": "stderr",
     "output_type": "stream",
     "text": [
      "\u001b[36m\u001b[1m[ \u001b[22m\u001b[39m\u001b[36m\u001b[1mInfo: \u001b[22m\u001b[39mTargeting ϕ=0.3128773437499999\n",
      "\u001b[32mProgress: 100%|█████████████████████████████████████████| Time: 0:00:43\u001b[39m\n"
     ]
    },
    {
     "data": {
      "text/plain": [
       "Results of univariate zero finding:\n",
       "\n",
       "* Converged to: 0.6124838165283201\n",
       "* Algorithm: Bisection()\n",
       "* iterations: 10\n",
       "* function evaluations ≈ 13\n",
       "\n",
       "Trace:\n",
       "(a₀, b₀) = ( 0.56297734374999986, 1 )\n",
       "(a₁, b₁) = ( 0.56297734374999986, 0.78148867187499993 )\n",
       "(a₂, b₂) = ( 0.56297734374999986, 0.67223300781249984 )\n",
       "(a₃, b₃) = ( 0.56297734374999986, 0.61760517578124985 )\n",
       "(a₄, b₄) = ( 0.5902912597656248, 0.61760517578124985 )\n",
       "(a₅, b₅) = ( 0.60394821777343732, 0.61760517578124985 )\n",
       "(a₆, b₆) = ( 0.61077669677734359, 0.61760517578124985 )\n",
       "(a₇, b₇) = ( 0.61077669677734359, 0.61419093627929666 )\n",
       "(a₈, b₈) = ( 0.61077669677734359, 0.61248381652832007 )\n",
       "(a₉, b₉) = ( 0.61163025665283177, 0.61248381652832007 )\n",
       "(a₁₀, b₁₀) = ( 0.61205703659057586, 0.61248381652832007 )\n",
       "\n"
      ]
     },
     "metadata": {},
     "output_type": "display_data"
    },
    {
     "name": "stderr",
     "output_type": "stream",
     "text": [
      "\u001b[36m\u001b[1m[ \u001b[22m\u001b[39m\u001b[36m\u001b[1mInfo: \u001b[22m\u001b[39mTargeting ϕ=0.6124838165283201\n",
      "\u001b[32mProgress: 100%|█████████████████████████████████████████| Time: 0:00:48\u001b[39m\n"
     ]
    },
    {
     "data": {
      "text/plain": [
       "Results of univariate zero finding:\n",
       "\n",
       "* Converged to: 0.8558539395481345\n",
       "* Algorithm: Bisection()\n",
       "* iterations: 10\n",
       "* function evaluations ≈ 13\n",
       "\n",
       "Trace:\n",
       "(a₀, b₀) = ( 0.80629190826415997, 1 )\n",
       "(a₁, b₁) = ( 0.80629190826415997, 0.90314595413207999 )\n",
       "(a₂, b₂) = ( 0.85471893119811992, 0.90314595413207999 )\n",
       "(a₃, b₃) = ( 0.85471893119811992, 0.87893244266509996 )\n",
       "(a₄, b₄) = ( 0.85471893119811992, 0.86682568693160988 )\n",
       "(a₅, b₅) = ( 0.85471893119811992, 0.8607723090648649 )\n",
       "(a₆, b₆) = ( 0.85471893119811992, 0.85774562013149236 )\n",
       "(a₇, b₇) = ( 0.85471893119811992, 0.85623227566480609 )\n",
       "(a₈, b₈) = ( 0.85547560343146301, 0.85623227566480609 )\n",
       "(a₉, b₉) = ( 0.85547560343146301, 0.85585393954813449 )\n",
       "(a₁₀, b₁₀) = ( 0.85566477148979869, 0.85585393954813449 )\n",
       "\n"
      ]
     },
     "metadata": {},
     "output_type": "display_data"
    },
    {
     "name": "stderr",
     "output_type": "stream",
     "text": [
      "\u001b[36m\u001b[1m[ \u001b[22m\u001b[39m\u001b[36m\u001b[1mInfo: \u001b[22m\u001b[39mTargeting ϕ=0.8558539395481345\n",
      "\u001b[32mProgress: 100%|█████████████████████████████████████████| Time: 0:00:46\u001b[39m\n",
      "\u001b[36m\u001b[1m[ \u001b[22m\u001b[39m\u001b[36m\u001b[1mInfo: \u001b[22m\u001b[39mϕ=1, PSIS\n",
      "\u001b[36m\u001b[1m[ \u001b[22m\u001b[39m\u001b[36m\u001b[1mInfo: \u001b[22m\u001b[39mFold: 7\n"
     ]
    },
    {
     "data": {
      "text/plain": [
       "Results of univariate zero finding:\n",
       "\n",
       "* Converged to: 0.5824499999999999\n",
       "* Algorithm: Bisection()\n",
       "* iterations: 10\n",
       "* function evaluations ≈ 13\n",
       "\n",
       "Trace:\n",
       "(a₀, b₀) = ( 0.010306249999999999, 1 )\n",
       "(a₁, b₁) = ( 0.103725, 1 )\n",
       "(a₂, b₂) = ( 0.33244999999999997, 1 )\n",
       "(a₃, b₃) = ( 0.33244999999999997, 0.58244999999999991 )\n",
       "(a₄, b₄) = ( 0.43683749999999993, 0.58244999999999991 )\n",
       "(a₅, b₅) = ( 0.48903124999999992, 0.58244999999999991 )\n",
       "(a₆, b₆) = ( 0.53025624999999987, 0.58244999999999991 )\n",
       "(a₇, b₇) = ( 0.55635312499999989, 0.58244999999999991 )\n",
       "(a₈, b₈) = ( 0.56940156249999985, 0.58244999999999991 )\n",
       "(a₉, b₉) = ( 0.57592578124999982, 0.58244999999999991 )\n",
       "(a₁₀, b₁₀) = ( 0.57918789062499987, 0.58244999999999991 )\n",
       "\n"
      ]
     },
     "metadata": {},
     "output_type": "display_data"
    },
    {
     "name": "stderr",
     "output_type": "stream",
     "text": [
      "\u001b[36m\u001b[1m[ \u001b[22m\u001b[39m\u001b[36m\u001b[1mInfo: \u001b[22m\u001b[39mTargeting ϕ=0.5824499999999999\n",
      "\u001b[32mProgress: 100%|█████████████████████████████████████████| Time: 0:00:44\u001b[39m\n",
      "\u001b[36m\u001b[1m[ \u001b[22m\u001b[39m\u001b[36m\u001b[1mInfo: \u001b[22m\u001b[39mϕ=1, PSIS\n",
      "\u001b[36m\u001b[1m[ \u001b[22m\u001b[39m\u001b[36m\u001b[1mInfo: \u001b[22m\u001b[39mFold: 8\n"
     ]
    },
    {
     "data": {
      "text/plain": [
       "Results of univariate zero finding:\n",
       "\n",
       "* Converged to: 0.7357691406249999\n",
       "* Algorithm: Bisection()\n",
       "* iterations: 10\n",
       "* function evaluations ≈ 13\n",
       "\n",
       "Trace:\n",
       "(a₀, b₀) = ( 0.010306249999999999, 1 )\n",
       "(a₁, b₁) = ( 0.103725, 1 )\n",
       "(a₂, b₂) = ( 0.33244999999999997, 1 )\n",
       "(a₃, b₃) = ( 0.58244999999999991, 1 )\n",
       "(a₄, b₄) = ( 0.58244999999999991, 0.79122499999999996 )\n",
       "(a₅, b₅) = ( 0.68683749999999988, 0.79122499999999996 )\n",
       "(a₆, b₆) = ( 0.68683749999999988, 0.73903124999999992 )\n",
       "(a₇, b₇) = ( 0.7129343749999999, 0.73903124999999992 )\n",
       "(a₈, b₈) = ( 0.72598281249999985, 0.73903124999999992 )\n",
       "(a₉, b₉) = ( 0.73250703124999983, 0.73903124999999992 )\n",
       "(a₁₀, b₁₀) = ( 0.73576914062499987, 0.73903124999999992 )\n",
       "\n"
      ]
     },
     "metadata": {},
     "output_type": "display_data"
    },
    {
     "name": "stderr",
     "output_type": "stream",
     "text": [
      "\u001b[36m\u001b[1m[ \u001b[22m\u001b[39m\u001b[36m\u001b[1mInfo: \u001b[22m\u001b[39mTargeting ϕ=0.7357691406249999\n",
      "\u001b[32mProgress: 100%|█████████████████████████████████████████| Time: 0:00:46\u001b[39m\n",
      "\u001b[36m\u001b[1m[ \u001b[22m\u001b[39m\u001b[36m\u001b[1mInfo: \u001b[22m\u001b[39mϕ=1, PSIS\n",
      "\u001b[36m\u001b[1m[ \u001b[22m\u001b[39m\u001b[36m\u001b[1mInfo: \u001b[22m\u001b[39mFold: 9\n"
     ]
    },
    {
     "data": {
      "text/plain": [
       "Results of univariate zero finding:\n",
       "\n",
       "* Converged to: 0.2835183593749999\n",
       "* Algorithm: Bisection()\n",
       "* iterations: 10\n",
       "* function evaluations ≈ 13\n",
       "\n",
       "Trace:\n",
       "(a₀, b₀) = ( 0.010306249999999999, 1 )\n",
       "(a₁, b₁) = ( 0.103725, 1 )\n",
       "(a₂, b₂) = ( 0.103725, 0.33244999999999997 )\n",
       "(a₃, b₃) = ( 0.18683749999999999, 0.33244999999999997 )\n",
       "(a₄, b₄) = ( 0.23903124999999997, 0.33244999999999997 )\n",
       "(a₅, b₅) = ( 0.28025624999999993, 0.33244999999999997 )\n",
       "(a₆, b₆) = ( 0.28025624999999993, 0.30635312499999995 )\n",
       "(a₇, b₇) = ( 0.28025624999999993, 0.29330468749999994 )\n",
       "(a₈, b₈) = ( 0.28025624999999993, 0.28678046874999991 )\n",
       "(a₉, b₉) = ( 0.28025624999999993, 0.28351835937499992 )\n",
       "(a₁₀, b₁₀) = ( 0.2818873046874999, 0.28351835937499992 )\n",
       "\n"
      ]
     },
     "metadata": {},
     "output_type": "display_data"
    },
    {
     "name": "stderr",
     "output_type": "stream",
     "text": [
      "\u001b[36m\u001b[1m[ \u001b[22m\u001b[39m\u001b[36m\u001b[1mInfo: \u001b[22m\u001b[39mTargeting ϕ=0.2835183593749999\n",
      "\u001b[32mProgress: 100%|█████████████████████████████████████████| Time: 0:00:49\u001b[39m\n"
     ]
    },
    {
     "data": {
      "text/plain": [
       "Results of univariate zero finding:\n",
       "\n",
       "* Converged to: 0.5308856544494628\n",
       "* Algorithm: Bisection()\n",
       "* iterations: 10\n",
       "* function evaluations ≈ 13\n",
       "\n",
       "Trace:\n",
       "(a₀, b₀) = ( 0.28361835937499991, 0.53361835937499991 )\n",
       "(a₁, b₁) = ( 0.40021376953124993, 0.53361835937499991 )\n",
       "(a₂, b₂) = ( 0.45851147460937491, 0.53361835937499991 )\n",
       "(a₃, b₃) = ( 0.48766032714843743, 0.53361835937499991 )\n",
       "(a₄, b₄) = ( 0.50446950683593739, 0.53361835937499991 )\n",
       "(a₅, b₅) = ( 0.51904393310546859, 0.53361835937499991 )\n",
       "(a₆, b₆) = ( 0.52633114624023425, 0.53361835937499991 )\n",
       "(a₇, b₇) = ( 0.52997475280761708, 0.53361835937499991 )\n",
       "(a₈, b₈) = ( 0.52997475280761708, 0.53179655609130849 )\n",
       "(a₉, b₉) = ( 0.53088565444946278, 0.53179655609130849 )\n",
       "(a₁₀, b₁₀) = ( 0.53088565444946278, 0.53134110527038558 )\n",
       "\n"
      ]
     },
     "metadata": {},
     "output_type": "display_data"
    },
    {
     "name": "stderr",
     "output_type": "stream",
     "text": [
      "\u001b[36m\u001b[1m[ \u001b[22m\u001b[39m\u001b[36m\u001b[1mInfo: \u001b[22m\u001b[39mTargeting ϕ=0.5308856544494628\n",
      "\u001b[32mProgress: 100%|█████████████████████████████████████████| Time: 0:00:46\u001b[39m\n"
     ]
    },
    {
     "data": {
      "text/plain": [
       "Results of univariate zero finding:\n",
       "\n",
       "* Converged to: 0.7215227323293685\n",
       "* Algorithm: Bisection()\n",
       "* iterations: 10\n",
       "* function evaluations ≈ 13\n",
       "\n",
       "Trace:\n",
       "(a₀, b₀) = ( 0.53098565444946277, 0.76549282722473133 )\n",
       "(a₁, b₁) = ( 0.64823924083709705, 0.76549282722473133 )\n",
       "(a₂, b₂) = ( 0.70686603403091419, 0.76549282722473133 )\n",
       "(a₃, b₃) = ( 0.70686603403091419, 0.73617943062782276 )\n",
       "(a₄, b₄) = ( 0.70686603403091419, 0.72152273232936848 )\n",
       "(a₅, b₅) = ( 0.71419438318014128, 0.72152273232936848 )\n",
       "(a₆, b₆) = ( 0.71785855775475482, 0.72152273232936848 )\n",
       "(a₇, b₇) = ( 0.71969064504206159, 0.72152273232936848 )\n",
       "(a₈, b₈) = ( 0.72060668868571498, 0.72152273232936848 )\n",
       "(a₉, b₉) = ( 0.72106471050754173, 0.72152273232936848 )\n",
       "(a₁₀, b₁₀) = ( 0.72129372141845505, 0.72152273232936848 )\n",
       "\n"
      ]
     },
     "metadata": {},
     "output_type": "display_data"
    },
    {
     "name": "stderr",
     "output_type": "stream",
     "text": [
      "\u001b[36m\u001b[1m[ \u001b[22m\u001b[39m\u001b[36m\u001b[1mInfo: \u001b[22m\u001b[39mTargeting ϕ=0.7215227323293685\n",
      "\u001b[32mProgress: 100%|█████████████████████████████████████████| Time: 0:00:44\u001b[39m\n"
     ]
    },
    {
     "data": {
      "text/plain": [
       "Results of univariate zero finding:\n",
       "\n",
       "* Converged to: 0.8748117853883536\n",
       "* Algorithm: Bisection()\n",
       "* iterations: 10\n",
       "* function evaluations ≈ 13\n",
       "\n",
       "Trace:\n",
       "(a₀, b₀) = ( 0.86081136616468423, 1 )\n",
       "(a₁, b₁) = ( 0.86081136616468423, 0.93040568308234206 )\n",
       "(a₂, b₂) = ( 0.86081136616468423, 0.89560852462351315 )\n",
       "(a₃, b₃) = ( 0.86081136616468423, 0.87820994539409869 )\n",
       "(a₄, b₄) = ( 0.86951065577939146, 0.87820994539409869 )\n",
       "(a₅, b₅) = ( 0.87386030058674502, 0.87820994539409869 )\n",
       "(a₆, b₆) = ( 0.87386030058674502, 0.87603512299042186 )\n",
       "(a₇, b₇) = ( 0.87386030058674502, 0.87494771178858344 )\n",
       "(a₈, b₈) = ( 0.87440400618766423, 0.87494771178858344 )\n",
       "(a₉, b₉) = ( 0.87467585898812383, 0.87494771178858344 )\n",
       "(a₁₀, b₁₀) = ( 0.87467585898812383, 0.87481178538835358 )\n",
       "\n"
      ]
     },
     "metadata": {},
     "output_type": "display_data"
    },
    {
     "name": "stderr",
     "output_type": "stream",
     "text": [
      "\u001b[36m\u001b[1m[ \u001b[22m\u001b[39m\u001b[36m\u001b[1mInfo: \u001b[22m\u001b[39mTargeting ϕ=0.8748117853883536\n",
      "\u001b[32mProgress: 100%|█████████████████████████████████████████| Time: 0:00:44\u001b[39m\n"
     ]
    },
    {
     "data": {
      "text/plain": [
       "Results of univariate zero finding:\n",
       "\n",
       "* Converged to: 0.9888837621780664\n",
       "* Algorithm: Bisection()\n",
       "* iterations: 10\n",
       "* function evaluations ≈ 13\n",
       "\n",
       "Trace:\n",
       "(a₀, b₀) = ( 0.93745589269417673, 1 )\n",
       "(a₁, b₁) = ( 0.96872794634708836, 1 )\n",
       "(a₂, b₂) = ( 0.98436397317354418, 1 )\n",
       "(a₃, b₃) = ( 0.98436397317354418, 0.99218198658677204 )\n",
       "(a₄, b₄) = ( 0.98827297988015805, 0.99218198658677204 )\n",
       "(a₅, b₅) = ( 0.98827297988015805, 0.99022748323346499 )\n",
       "(a₆, b₆) = ( 0.98827297988015805, 0.98925023155681147 )\n",
       "(a₇, b₇) = ( 0.9887616057184847, 0.98925023155681147 )\n",
       "(a₈, b₈) = ( 0.9887616057184847, 0.98900591863764808 )\n",
       "(a₉, b₉) = ( 0.98888376217806639, 0.98900591863764808 )\n",
       "(a₁₀, b₁₀) = ( 0.98888376217806639, 0.98894484040785724 )\n",
       "\n"
      ]
     },
     "metadata": {},
     "output_type": "display_data"
    },
    {
     "name": "stderr",
     "output_type": "stream",
     "text": [
      "\u001b[36m\u001b[1m[ \u001b[22m\u001b[39m\u001b[36m\u001b[1mInfo: \u001b[22m\u001b[39mTargeting ϕ=0.9888837621780664\n",
      "\u001b[32mProgress: 100%|█████████████████████████████████████████| Time: 0:00:44\u001b[39m\n",
      "\u001b[36m\u001b[1m[ \u001b[22m\u001b[39m\u001b[36m\u001b[1mInfo: \u001b[22m\u001b[39mϕ=1, PSIS\n",
      "\u001b[36m\u001b[1m[ \u001b[22m\u001b[39m\u001b[36m\u001b[1mInfo: \u001b[22m\u001b[39mFold: 10\n"
     ]
    },
    {
     "data": {
      "text/plain": [
       "Results of univariate zero finding:\n",
       "\n",
       "* Converged to: 0.31777050781249994\n",
       "* Algorithm: Bisection()\n",
       "* iterations: 10\n",
       "* function evaluations ≈ 13\n",
       "\n",
       "Trace:\n",
       "(a₀, b₀) = ( 0.010306249999999999, 1 )\n",
       "(a₁, b₁) = ( 0.103725, 1 )\n",
       "(a₂, b₂) = ( 0.103725, 0.33244999999999997 )\n",
       "(a₃, b₃) = ( 0.18683749999999999, 0.33244999999999997 )\n",
       "(a₄, b₄) = ( 0.23903124999999997, 0.33244999999999997 )\n",
       "(a₅, b₅) = ( 0.28025624999999993, 0.33244999999999997 )\n",
       "(a₆, b₆) = ( 0.30635312499999995, 0.33244999999999997 )\n",
       "(a₇, b₇) = ( 0.30635312499999995, 0.31940156249999996 )\n",
       "(a₈, b₈) = ( 0.31287734374999993, 0.31940156249999996 )\n",
       "(a₉, b₉) = ( 0.31613945312499991, 0.31940156249999996 )\n",
       "(a₁₀, b₁₀) = ( 0.31613945312499991, 0.31777050781249994 )\n",
       "\n"
      ]
     },
     "metadata": {},
     "output_type": "display_data"
    },
    {
     "name": "stderr",
     "output_type": "stream",
     "text": [
      "\u001b[36m\u001b[1m[ \u001b[22m\u001b[39m\u001b[36m\u001b[1mInfo: \u001b[22m\u001b[39mTargeting ϕ=0.31777050781249994\n",
      "\u001b[32mProgress: 100%|█████████████████████████████████████████| Time: 0:00:46\u001b[39m\n"
     ]
    },
    {
     "data": {
      "text/plain": [
       "Results of univariate zero finding:\n",
       "\n",
       "* Converged to: 0.583484561729431\n",
       "* Algorithm: Bisection()\n",
       "* iterations: 10\n",
       "* function evaluations ≈ 13\n",
       "\n",
       "Trace:\n",
       "(a₀, b₀) = ( 0.56787050781249993, 1 )\n",
       "(a₁, b₁) = ( 0.56787050781249993, 0.78393525390624996 )\n",
       "(a₂, b₂) = ( 0.56787050781249993, 0.67590288085937489 )\n",
       "(a₃, b₃) = ( 0.56787050781249993, 0.62188669433593735 )\n",
       "(a₄, b₄) = ( 0.56787050781249993, 0.59487860107421864 )\n",
       "(a₅, b₅) = ( 0.58137455444335928, 0.59487860107421864 )\n",
       "(a₆, b₆) = ( 0.58137455444335928, 0.58812657775878896 )\n",
       "(a₇, b₇) = ( 0.58137455444335928, 0.58475056610107412 )\n",
       "(a₈, b₈) = ( 0.5830625602722167, 0.58475056610107412 )\n",
       "(a₉, b₉) = ( 0.5830625602722167, 0.58390656318664536 )\n",
       "(a₁₀, b₁₀) = ( 0.5830625602722167, 0.58348456172943097 )\n",
       "\n"
      ]
     },
     "metadata": {},
     "output_type": "display_data"
    },
    {
     "name": "stderr",
     "output_type": "stream",
     "text": [
      "\u001b[36m\u001b[1m[ \u001b[22m\u001b[39m\u001b[36m\u001b[1mInfo: \u001b[22m\u001b[39mTargeting ϕ=0.583484561729431\n",
      "\u001b[32mProgress: 100%|█████████████████████████████████████████| Time: 0:00:46\u001b[39m\n"
     ]
    },
    {
     "data": {
      "text/plain": [
       "Results of univariate zero finding:\n",
       "\n",
       "* Converged to: 0.790165658058971\n",
       "* Algorithm: Bisection()\n",
       "* iterations: 10\n",
       "* function evaluations ≈ 13\n",
       "\n",
       "Trace:\n",
       "(a₀, b₀) = ( 0.58358456172943096, 0.79179228086471543 )\n",
       "(a₁, b₁) = ( 0.68768842129707319, 0.79179228086471543 )\n",
       "(a₂, b₂) = ( 0.73974035108089431, 0.79179228086471543 )\n",
       "(a₃, b₃) = ( 0.76576631597280487, 0.79179228086471543 )\n",
       "(a₄, b₄) = ( 0.77877929841876015, 0.79179228086471543 )\n",
       "(a₅, b₅) = ( 0.78528578964173779, 0.79179228086471543 )\n",
       "(a₆, b₆) = ( 0.78853903525322655, 0.79179228086471543 )\n",
       "(a₇, b₇) = ( 0.79016565805897099, 0.79179228086471543 )\n",
       "(a₈, b₈) = ( 0.79016565805897099, 0.79097896946184321 )\n",
       "(a₉, b₉) = ( 0.79016565805897099, 0.79057231376040704 )\n",
       "(a₁₀, b₁₀) = ( 0.79016565805897099, 0.79036898590968896 )\n",
       "\n"
      ]
     },
     "metadata": {},
     "output_type": "display_data"
    },
    {
     "name": "stderr",
     "output_type": "stream",
     "text": [
      "\u001b[36m\u001b[1m[ \u001b[22m\u001b[39m\u001b[36m\u001b[1mInfo: \u001b[22m\u001b[39mTargeting ϕ=0.790165658058971\n",
      "\u001b[32mProgress: 100%|█████████████████████████████████████████| Time: 0:00:46\u001b[39m\n"
     ]
    },
    {
     "data": {
      "text/plain": [
       "Results of univariate zero finding:\n",
       "\n",
       "* Converged to: 0.9523796538073346\n",
       "* Algorithm: Bisection()\n",
       "* iterations: 10\n",
       "* function evaluations ≈ 13\n",
       "\n",
       "Trace:\n",
       "(a₀, b₀) = ( 0.89513282902948543, 1 )\n",
       "(a₁, b₁) = ( 0.94756641451474266, 1 )\n",
       "(a₂, b₂) = ( 0.94756641451474266, 0.97378320725737133 )\n",
       "(a₃, b₃) = ( 0.94756641451474266, 0.960674810886057 )\n",
       "(a₄, b₄) = ( 0.94756641451474266, 0.95412061270039983 )\n",
       "(a₅, b₅) = ( 0.95084351360757124, 0.95412061270039983 )\n",
       "(a₆, b₆) = ( 0.95084351360757124, 0.95248206315398554 )\n",
       "(a₇, b₇) = ( 0.95166278838077834, 0.95248206315398554 )\n",
       "(a₈, b₈) = ( 0.95207242576738194, 0.95248206315398554 )\n",
       "(a₉, b₉) = ( 0.95227724446068374, 0.95248206315398554 )\n",
       "(a₁₀, b₁₀) = ( 0.95227724446068374, 0.95237965380733458 )\n",
       "\n"
      ]
     },
     "metadata": {},
     "output_type": "display_data"
    },
    {
     "name": "stderr",
     "output_type": "stream",
     "text": [
      "\u001b[36m\u001b[1m[ \u001b[22m\u001b[39m\u001b[36m\u001b[1mInfo: \u001b[22m\u001b[39mTargeting ϕ=0.9523796538073346\n",
      "\u001b[32mProgress: 100%|█████████████████████████████████████████| Time: 0:00:46\u001b[39m\n",
      "\u001b[36m\u001b[1m[ \u001b[22m\u001b[39m\u001b[36m\u001b[1mInfo: \u001b[22m\u001b[39mϕ=1, PSIS\n"
     ]
    }
   ],
   "source": [
    "Random.seed!(1)\n",
    "RUN_aSMC && run(chain, SMCS_M5; save_bool=true)"
   ]
  },
  {
   "cell_type": "code",
   "execution_count": 47,
   "id": "90d29055-8e5c-463c-a5cd-12025e65ad1e",
   "metadata": {
    "scrolled": true
   },
   "outputs": [
    {
     "name": "stderr",
     "output_type": "stream",
     "text": [
      "\u001b[36m\u001b[1m[ \u001b[22m\u001b[39m\u001b[36m\u001b[1mInfo: \u001b[22m\u001b[39mFold: 1\n",
      "\u001b[36m\u001b[1m[ \u001b[22m\u001b[39m\u001b[36m\u001b[1mInfo: \u001b[22m\u001b[39mFold: 2\n",
      "\u001b[36m\u001b[1m[ \u001b[22m\u001b[39m\u001b[36m\u001b[1mInfo: \u001b[22m\u001b[39mFold: 3\n",
      "\u001b[36m\u001b[1m[ \u001b[22m\u001b[39m\u001b[36m\u001b[1mInfo: \u001b[22m\u001b[39mFold: 4\n",
      "\u001b[36m\u001b[1m[ \u001b[22m\u001b[39m\u001b[36m\u001b[1mInfo: \u001b[22m\u001b[39mFold: 5\n",
      "\u001b[36m\u001b[1m[ \u001b[22m\u001b[39m\u001b[36m\u001b[1mInfo: \u001b[22m\u001b[39mFold: 6\n",
      "\u001b[36m\u001b[1m[ \u001b[22m\u001b[39m\u001b[36m\u001b[1mInfo: \u001b[22m\u001b[39mFold: 7\n",
      "\u001b[36m\u001b[1m[ \u001b[22m\u001b[39m\u001b[36m\u001b[1mInfo: \u001b[22m\u001b[39mFold: 8\n",
      "\u001b[36m\u001b[1m[ \u001b[22m\u001b[39m\u001b[36m\u001b[1mInfo: \u001b[22m\u001b[39mFold: 9\n",
      "\u001b[36m\u001b[1m[ \u001b[22m\u001b[39m\u001b[36m\u001b[1mInfo: \u001b[22m\u001b[39mFold: 10\n"
     ]
    }
   ],
   "source": [
    "Random.seed!(1)\n",
    "RUN_aSMC && run(chain, PSIS_M5; save_bool=true)"
   ]
  },
  {
   "cell_type": "markdown",
   "id": "041771f3-6528-4f28-900a-9decc29efb15",
   "metadata": {},
   "source": [
    "## Sensitivity analyses"
   ]
  },
  {
   "cell_type": "code",
   "execution_count": 34,
   "id": "8700902d-63fd-43c4-94df-0275c890746f",
   "metadata": {
    "scrolled": true
   },
   "outputs": [
    {
     "name": "stderr",
     "output_type": "stream",
     "text": [
      "\u001b[36m\u001b[1m[ \u001b[22m\u001b[39m\u001b[36m\u001b[1mInfo: \u001b[22m\u001b[39mFold: 1\n"
     ]
    },
    {
     "data": {
      "text/plain": [
       "Results of univariate zero finding:\n",
       "\n",
       "* Converged to: 0.2769941406249999\n",
       "* Algorithm: Bisection()\n",
       "* iterations: 10\n",
       "* function evaluations ≈ 13\n",
       "\n",
       "Trace:\n",
       "(a₀, b₀) = ( 0.010306249999999999, 1 )\n",
       "(a₁, b₁) = ( 0.103725, 1 )\n",
       "(a₂, b₂) = ( 0.103725, 0.33244999999999997 )\n",
       "(a₃, b₃) = ( 0.18683749999999999, 0.33244999999999997 )\n",
       "(a₄, b₄) = ( 0.23903124999999997, 0.33244999999999997 )\n",
       "(a₅, b₅) = ( 0.23903124999999997, 0.28025624999999993 )\n",
       "(a₆, b₆) = ( 0.25415937499999991, 0.28025624999999993 )\n",
       "(a₇, b₇) = ( 0.26720781249999992, 0.28025624999999993 )\n",
       "(a₈, b₈) = ( 0.2737320312499999, 0.28025624999999993 )\n",
       "(a₉, b₉) = ( 0.2737320312499999, 0.27699414062499988 )\n",
       "(a₁₀, b₁₀) = ( 0.27536308593749986, 0.27699414062499988 )\n",
       "\n"
      ]
     },
     "metadata": {},
     "output_type": "display_data"
    },
    {
     "name": "stderr",
     "output_type": "stream",
     "text": [
      "\u001b[36m\u001b[1m[ \u001b[22m\u001b[39m\u001b[36m\u001b[1mInfo: \u001b[22m\u001b[39mTargeting ϕ=0.2769941406249999\n",
      "\u001b[32mProgress: 100%|█████████████████████████████████████████| Time: 0:00:45\u001b[39m\n"
     ]
    },
    {
     "data": {
      "text/plain": [
       "Results of univariate zero finding:\n",
       "\n",
       "* Converged to: 0.4703667013168333\n",
       "* Algorithm: Bisection()\n",
       "* iterations: 10\n",
       "* function evaluations ≈ 13\n",
       "\n",
       "Trace:\n",
       "(a₀, b₀) = ( 0.27709414062499987, 0.52709414062499982 )\n",
       "(a₁, b₁) = ( 0.39532060546874986, 0.52709414062499982 )\n",
       "(a₂, b₂) = ( 0.45443383789062486, 0.52709414062499982 )\n",
       "(a₃, b₃) = ( 0.45443383789062486, 0.48399045410156238 )\n",
       "(a₄, b₄) = ( 0.46921214599609362, 0.48399045410156238 )\n",
       "(a₅, b₅) = ( 0.46921214599609362, 0.476601300048828 )\n",
       "(a₆, b₆) = ( 0.46921214599609362, 0.47290672302246078 )\n",
       "(a₇, b₇) = ( 0.46921214599609362, 0.47105943450927718 )\n",
       "(a₈, b₈) = ( 0.47013579025268537, 0.47105943450927718 )\n",
       "(a₉, b₉) = ( 0.47013579025268537, 0.47059761238098125 )\n",
       "(a₁₀, b₁₀) = ( 0.47013579025268537, 0.47036670131683328 )\n",
       "\n"
      ]
     },
     "metadata": {},
     "output_type": "display_data"
    },
    {
     "name": "stderr",
     "output_type": "stream",
     "text": [
      "\u001b[36m\u001b[1m[ \u001b[22m\u001b[39m\u001b[36m\u001b[1mInfo: \u001b[22m\u001b[39mTargeting ϕ=0.4703667013168333\n",
      "\u001b[32mProgress: 100%|█████████████████████████████████████████| Time: 0:00:44\u001b[39m\n"
     ]
    },
    {
     "data": {
      "text/plain": [
       "Results of univariate zero finding:\n",
       "\n",
       "* Converged to: 0.6429398880101735\n",
       "* Algorithm: Bisection()\n",
       "* iterations: 10\n",
       "* function evaluations ≈ 13\n",
       "\n",
       "Trace:\n",
       "(a₀, b₀) = ( 0.47046670131683327, 0.72046670131683321 )\n",
       "(a₁, b₁) = ( 0.58070005197524988, 0.72046670131683321 )\n",
       "(a₂, b₂) = ( 0.58070005197524988, 0.65058337664604149 )\n",
       "(a₃, b₃) = ( 0.61564171431064563, 0.65058337664604149 )\n",
       "(a₄, b₄) = ( 0.6331125454783435, 0.65058337664604149 )\n",
       "(a₅, b₅) = ( 0.64184796106219244, 0.65058337664604149 )\n",
       "(a₆, b₆) = ( 0.64184796106219244, 0.64621566885411696 )\n",
       "(a₇, b₇) = ( 0.64184796106219244, 0.64403181495815465 )\n",
       "(a₈, b₈) = ( 0.64184796106219244, 0.64293988801017354 )\n",
       "(a₉, b₉) = ( 0.64239392453618294, 0.64293988801017354 )\n",
       "(a₁₀, b₁₀) = ( 0.64266690627317824, 0.64293988801017354 )\n",
       "\n"
      ]
     },
     "metadata": {},
     "output_type": "display_data"
    },
    {
     "name": "stderr",
     "output_type": "stream",
     "text": [
      "\u001b[36m\u001b[1m[ \u001b[22m\u001b[39m\u001b[36m\u001b[1mInfo: \u001b[22m\u001b[39mTargeting ϕ=0.6429398880101735\n",
      "\u001b[32mProgress: 100%|█████████████████████████████████████████| Time: 0:00:45\u001b[39m\n"
     ]
    },
    {
     "data": {
      "text/plain": [
       "Results of univariate zero finding:\n",
       "\n",
       "* Converged to: 0.7746340699204853\n",
       "* Algorithm: Bisection()\n",
       "* iterations: 10\n",
       "* function evaluations ≈ 13\n",
       "\n",
       "Trace:\n",
       "(a₀, b₀) = ( 0.64303988801017353, 0.82151994400508677 )\n",
       "(a₁, b₁) = ( 0.73227991600763009, 0.82151994400508677 )\n",
       "(a₂, b₂) = ( 0.73227991600763009, 0.77689993000635837 )\n",
       "(a₃, b₃) = ( 0.75458992300699423, 0.77689993000635837 )\n",
       "(a₄, b₄) = ( 0.76574492650667625, 0.77689993000635837 )\n",
       "(a₅, b₅) = ( 0.77132242825651731, 0.77689993000635837 )\n",
       "(a₆, b₆) = ( 0.77411117913143779, 0.77689993000635837 )\n",
       "(a₇, b₇) = ( 0.77411117913143779, 0.77550555456889803 )\n",
       "(a₈, b₈) = ( 0.77411117913143779, 0.77480836685016785 )\n",
       "(a₉, b₉) = ( 0.77445977299080282, 0.77480836685016785 )\n",
       "(a₁₀, b₁₀) = ( 0.77445977299080282, 0.77463406992048534 )\n",
       "\n"
      ]
     },
     "metadata": {},
     "output_type": "display_data"
    },
    {
     "name": "stderr",
     "output_type": "stream",
     "text": [
      "\u001b[36m\u001b[1m[ \u001b[22m\u001b[39m\u001b[36m\u001b[1mInfo: \u001b[22m\u001b[39mTargeting ϕ=0.7746340699204853\n",
      "\u001b[32mProgress: 100%|█████████████████████████████████████████| Time: 0:00:44\u001b[39m\n"
     ]
    },
    {
     "data": {
      "text/plain": [
       "Results of univariate zero finding:\n",
       "\n",
       "* Converged to: 0.8729579349405079\n",
       "* Algorithm: Bisection()\n",
       "* iterations: 10\n",
       "* function evaluations ≈ 13\n",
       "\n",
       "Trace:\n",
       "(a₀, b₀) = ( 0.77473406992048532, 0.88736703496024261 )\n",
       "(a₁, b₁) = ( 0.83105055244036397, 0.88736703496024261 )\n",
       "(a₂, b₂) = ( 0.85920879370030323, 0.88736703496024261 )\n",
       "(a₃, b₃) = ( 0.85920879370030323, 0.87328791433027286 )\n",
       "(a₄, b₄) = ( 0.86624835401528799, 0.87328791433027286 )\n",
       "(a₅, b₅) = ( 0.86976813417278043, 0.87328791433027286 )\n",
       "(a₆, b₆) = ( 0.87152802425152665, 0.87328791433027286 )\n",
       "(a₇, b₇) = ( 0.8724079692908997, 0.87328791433027286 )\n",
       "(a₈, b₈) = ( 0.87284794181058623, 0.87328791433027286 )\n",
       "(a₉, b₉) = ( 0.87284794181058623, 0.87306792807042954 )\n",
       "(a₁₀, b₁₀) = ( 0.87295793494050788, 0.87306792807042954 )\n",
       "\n"
      ]
     },
     "metadata": {},
     "output_type": "display_data"
    },
    {
     "name": "stderr",
     "output_type": "stream",
     "text": [
      "\u001b[36m\u001b[1m[ \u001b[22m\u001b[39m\u001b[36m\u001b[1mInfo: \u001b[22m\u001b[39mTargeting ϕ=0.8729579349405079\n",
      "\u001b[32mProgress: 100%|█████████████████████████████████████████| Time: 0:00:44\u001b[39m\n"
     ]
    },
    {
     "data": {
      "text/plain": [
       "Results of univariate zero finding:\n",
       "\n",
       "* Converged to: 0.953946311357811\n",
       "* Algorithm: Bisection()\n",
       "* iterations: 10\n",
       "* function evaluations ≈ 13\n",
       "\n",
       "Trace:\n",
       "(a₀, b₀) = ( 0.93652896747025394, 1 )\n",
       "(a₁, b₁) = ( 0.93652896747025394, 0.96826448373512697 )\n",
       "(a₂, b₂) = ( 0.9523967256026904, 0.96826448373512697 )\n",
       "(a₃, b₃) = ( 0.9523967256026904, 0.96033060466890863 )\n",
       "(a₄, b₄) = ( 0.9523967256026904, 0.95636366513579951 )\n",
       "(a₅, b₅) = ( 0.9523967256026904, 0.9543801953692449 )\n",
       "(a₆, b₆) = ( 0.95338846048596759, 0.9543801953692449 )\n",
       "(a₇, b₇) = ( 0.95388432792760625, 0.9543801953692449 )\n",
       "(a₈, b₈) = ( 0.95388432792760625, 0.95413226164842557 )\n",
       "(a₉, b₉) = ( 0.95388432792760625, 0.95400829478801585 )\n",
       "(a₁₀, b₁₀) = ( 0.95388432792760625, 0.95394631135781105 )\n",
       "\n"
      ]
     },
     "metadata": {},
     "output_type": "display_data"
    },
    {
     "name": "stderr",
     "output_type": "stream",
     "text": [
      "\u001b[36m\u001b[1m[ \u001b[22m\u001b[39m\u001b[36m\u001b[1mInfo: \u001b[22m\u001b[39mTargeting ϕ=0.953946311357811\n",
      "\u001b[32mProgress: 100%|█████████████████████████████████████████| Time: 0:00:44\u001b[39m\n",
      "\u001b[36m\u001b[1m[ \u001b[22m\u001b[39m\u001b[36m\u001b[1mInfo: \u001b[22m\u001b[39mϕ=1, PSIS\n",
      "\u001b[36m\u001b[1m[ \u001b[22m\u001b[39m\u001b[36m\u001b[1mInfo: \u001b[22m\u001b[39mFold: 2\n"
     ]
    },
    {
     "data": {
      "text/plain": [
       "Results of univariate zero finding:\n",
       "\n",
       "* Converged to: 0.3960611328124999\n",
       "* Algorithm: Bisection()\n",
       "* iterations: 10\n",
       "* function evaluations ≈ 13\n",
       "\n",
       "Trace:\n",
       "(a₀, b₀) = ( 0.010306249999999999, 1 )\n",
       "(a₁, b₁) = ( 0.103725, 1 )\n",
       "(a₂, b₂) = ( 0.33244999999999997, 1 )\n",
       "(a₃, b₃) = ( 0.33244999999999997, 0.58244999999999991 )\n",
       "(a₄, b₄) = ( 0.33244999999999997, 0.43683749999999993 )\n",
       "(a₅, b₅) = ( 0.38464374999999995, 0.43683749999999993 )\n",
       "(a₆, b₆) = ( 0.38464374999999995, 0.41074062499999991 )\n",
       "(a₇, b₇) = ( 0.38464374999999995, 0.39769218749999991 )\n",
       "(a₈, b₈) = ( 0.39116796874999993, 0.39769218749999991 )\n",
       "(a₉, b₉) = ( 0.39443007812499992, 0.39769218749999991 )\n",
       "(a₁₀, b₁₀) = ( 0.39443007812499992, 0.39606113281249988 )\n",
       "\n"
      ]
     },
     "metadata": {},
     "output_type": "display_data"
    },
    {
     "name": "stderr",
     "output_type": "stream",
     "text": [
      "\u001b[36m\u001b[1m[ \u001b[22m\u001b[39m\u001b[36m\u001b[1mInfo: \u001b[22m\u001b[39mTargeting ϕ=0.3960611328124999\n",
      "\u001b[32mProgress: 100%|█████████████████████████████████████████| Time: 0:00:45\u001b[39m\n"
     ]
    },
    {
     "data": {
      "text/plain": [
       "Results of univariate zero finding:\n",
       "\n",
       "* Converged to: 0.7905992641448972\n",
       "* Algorithm: Bisection()\n",
       "* iterations: 10\n",
       "* function evaluations ≈ 13\n",
       "\n",
       "Trace:\n",
       "(a₀, b₀) = ( 0.64616113281249987, 1 )\n",
       "(a₁, b₁) = ( 0.64616113281249987, 0.82308056640624994 )\n",
       "(a₂, b₂) = ( 0.7346208496093749, 0.82308056640624994 )\n",
       "(a₃, b₃) = ( 0.77885070800781242, 0.82308056640624994 )\n",
       "(a₄, b₄) = ( 0.77885070800781242, 0.80096563720703118 )\n",
       "(a₅, b₅) = ( 0.78990817260742174, 0.80096563720703118 )\n",
       "(a₆, b₆) = ( 0.78990817260742174, 0.79543690490722641 )\n",
       "(a₇, b₇) = ( 0.78990817260742174, 0.79267253875732402 )\n",
       "(a₈, b₈) = ( 0.78990817260742174, 0.79129035568237283 )\n",
       "(a₉, b₉) = ( 0.79059926414489723, 0.79129035568237283 )\n",
       "(a₁₀, b₁₀) = ( 0.79059926414489723, 0.79094480991363503 )\n",
       "\n"
      ]
     },
     "metadata": {},
     "output_type": "display_data"
    },
    {
     "name": "stderr",
     "output_type": "stream",
     "text": [
      "\u001b[36m\u001b[1m[ \u001b[22m\u001b[39m\u001b[36m\u001b[1mInfo: \u001b[22m\u001b[39mTargeting ϕ=0.7905992641448972\n",
      "\u001b[32mProgress: 100%|█████████████████████████████████████████| Time: 0:00:45\u001b[39m\n",
      "\u001b[36m\u001b[1m[ \u001b[22m\u001b[39m\u001b[36m\u001b[1mInfo: \u001b[22m\u001b[39mϕ=1, PSIS\n",
      "\u001b[36m\u001b[1m[ \u001b[22m\u001b[39m\u001b[36m\u001b[1mInfo: \u001b[22m\u001b[39mFold: 3\n"
     ]
    },
    {
     "data": {
      "text/plain": [
       "Results of univariate zero finding:\n",
       "\n",
       "* Converged to: 0.6868374999999999\n",
       "* Algorithm: Bisection()\n",
       "* iterations: 10\n",
       "* function evaluations ≈ 13\n",
       "\n",
       "Trace:\n",
       "(a₀, b₀) = ( 0.010306249999999999, 1 )\n",
       "(a₁, b₁) = ( 0.103725, 1 )\n",
       "(a₂, b₂) = ( 0.33244999999999997, 1 )\n",
       "(a₃, b₃) = ( 0.58244999999999991, 1 )\n",
       "(a₄, b₄) = ( 0.58244999999999991, 0.79122499999999996 )\n",
       "(a₅, b₅) = ( 0.68683749999999988, 0.79122499999999996 )\n",
       "(a₆, b₆) = ( 0.68683749999999988, 0.73903124999999992 )\n",
       "(a₇, b₇) = ( 0.68683749999999988, 0.7129343749999999 )\n",
       "(a₈, b₈) = ( 0.68683749999999988, 0.69988593749999983 )\n",
       "(a₉, b₉) = ( 0.68683749999999988, 0.69336171874999986 )\n",
       "(a₁₀, b₁₀) = ( 0.68683749999999988, 0.69009960937499981 )\n",
       "\n"
      ]
     },
     "metadata": {},
     "output_type": "display_data"
    },
    {
     "name": "stderr",
     "output_type": "stream",
     "text": [
      "\u001b[36m\u001b[1m[ \u001b[22m\u001b[39m\u001b[36m\u001b[1mInfo: \u001b[22m\u001b[39mTargeting ϕ=0.6868374999999999\n",
      "\u001b[32mProgress: 100%|█████████████████████████████████████████| Time: 0:00:45\u001b[39m\n",
      "\u001b[36m\u001b[1m[ \u001b[22m\u001b[39m\u001b[36m\u001b[1mInfo: \u001b[22m\u001b[39mϕ=1, PSIS\n",
      "\u001b[36m\u001b[1m[ \u001b[22m\u001b[39m\u001b[36m\u001b[1mInfo: \u001b[22m\u001b[39mFold: 4\n"
     ]
    },
    {
     "data": {
      "text/plain": [
       "Results of univariate zero finding:\n",
       "\n",
       "* Converged to: 0.30635312499999995\n",
       "* Algorithm: Bisection()\n",
       "* iterations: 10\n",
       "* function evaluations ≈ 13\n",
       "\n",
       "Trace:\n",
       "(a₀, b₀) = ( 0.010306249999999999, 1 )\n",
       "(a₁, b₁) = ( 0.103725, 1 )\n",
       "(a₂, b₂) = ( 0.103725, 0.33244999999999997 )\n",
       "(a₃, b₃) = ( 0.18683749999999999, 0.33244999999999997 )\n",
       "(a₄, b₄) = ( 0.23903124999999997, 0.33244999999999997 )\n",
       "(a₅, b₅) = ( 0.28025624999999993, 0.33244999999999997 )\n",
       "(a₆, b₆) = ( 0.28025624999999993, 0.30635312499999995 )\n",
       "(a₇, b₇) = ( 0.29330468749999994, 0.30635312499999995 )\n",
       "(a₈, b₈) = ( 0.29982890624999992, 0.30635312499999995 )\n",
       "(a₉, b₉) = ( 0.3030910156249999, 0.30635312499999995 )\n",
       "(a₁₀, b₁₀) = ( 0.30472207031249993, 0.30635312499999995 )\n",
       "\n"
      ]
     },
     "metadata": {},
     "output_type": "display_data"
    },
    {
     "name": "stderr",
     "output_type": "stream",
     "text": [
      "\u001b[36m\u001b[1m[ \u001b[22m\u001b[39m\u001b[36m\u001b[1mInfo: \u001b[22m\u001b[39mTargeting ϕ=0.30635312499999995\n",
      "\u001b[32mProgress: 100%|█████████████████████████████████████████| Time: 0:00:45\u001b[39m\n"
     ]
    },
    {
     "data": {
      "text/plain": [
       "Results of univariate zero finding:\n",
       "\n",
       "* Converged to: 0.5486564025878904\n",
       "* Algorithm: Bisection()\n",
       "* iterations: 10\n",
       "* function evaluations ≈ 13\n",
       "\n",
       "Trace:\n",
       "(a₀, b₀) = ( 0.30645312499999994, 0.55645312499999988 )\n",
       "(a₁, b₁) = ( 0.41733984374999994, 0.55645312499999988 )\n",
       "(a₂, b₂) = ( 0.47278320312499994, 0.55645312499999988 )\n",
       "(a₃, b₃) = ( 0.50100976562499988, 0.55645312499999988 )\n",
       "(a₄, b₄) = ( 0.52873144531249983, 0.55645312499999988 )\n",
       "(a₅, b₅) = ( 0.5425922851562498, 0.55645312499999988 )\n",
       "(a₆, b₆) = ( 0.5425922851562498, 0.54952270507812484 )\n",
       "(a₇, b₇) = ( 0.54605749511718726, 0.54952270507812484 )\n",
       "(a₈, b₈) = ( 0.54779010009765605, 0.54952270507812484 )\n",
       "(a₉, b₉) = ( 0.54779010009765605, 0.54865640258789039 )\n",
       "(a₁₀, b₁₀) = ( 0.54822325134277317, 0.54865640258789039 )\n",
       "\n"
      ]
     },
     "metadata": {},
     "output_type": "display_data"
    },
    {
     "name": "stderr",
     "output_type": "stream",
     "text": [
      "\u001b[36m\u001b[1m[ \u001b[22m\u001b[39m\u001b[36m\u001b[1mInfo: \u001b[22m\u001b[39mTargeting ϕ=0.5486564025878904\n",
      "\u001b[32mProgress: 100%|█████████████████████████████████████████| Time: 0:00:45\u001b[39m\n"
     ]
    },
    {
     "data": {
      "text/plain": [
       "Results of univariate zero finding:\n",
       "\n",
       "* Converged to: 0.7439721385776994\n",
       "* Algorithm: Bisection()\n",
       "* iterations: 10\n",
       "* function evaluations ≈ 13\n",
       "\n",
       "Trace:\n",
       "(a₀, b₀) = ( 0.54875640258789038, 0.77437820129394519 )\n",
       "(a₁, b₁) = ( 0.66156730194091773, 0.77437820129394519 )\n",
       "(a₂, b₂) = ( 0.71797275161743146, 0.77437820129394519 )\n",
       "(a₃, b₃) = ( 0.71797275161743146, 0.74617547645568827 )\n",
       "(a₄, b₄) = ( 0.73207411403655986, 0.74617547645568827 )\n",
       "(a₅, b₅) = ( 0.73912479524612407, 0.74617547645568827 )\n",
       "(a₆, b₆) = ( 0.74265013585090611, 0.74617547645568827 )\n",
       "(a₇, b₇) = ( 0.74265013585090611, 0.74441280615329719 )\n",
       "(a₈, b₈) = ( 0.7435314710021016, 0.74441280615329719 )\n",
       "(a₉, b₉) = ( 0.7435314710021016, 0.74397213857769939 )\n",
       "(a₁₀, b₁₀) = ( 0.74375180478990044, 0.74397213857769939 )\n",
       "\n"
      ]
     },
     "metadata": {},
     "output_type": "display_data"
    },
    {
     "name": "stderr",
     "output_type": "stream",
     "text": [
      "\u001b[36m\u001b[1m[ \u001b[22m\u001b[39m\u001b[36m\u001b[1mInfo: \u001b[22m\u001b[39mTargeting ϕ=0.7439721385776994\n",
      "\u001b[32mProgress: 100%|█████████████████████████████████████████| Time: 0:00:45\u001b[39m\n"
     ]
    },
    {
     "data": {
      "text/plain": [
       "Results of univariate zero finding:\n",
       "\n",
       "* Converged to: 0.8894061731646795\n",
       "* Algorithm: Bisection()\n",
       "* iterations: 10\n",
       "* function evaluations ≈ 13\n",
       "\n",
       "Trace:\n",
       "(a₀, b₀) = ( 0.87203606928884969, 1 )\n",
       "(a₁, b₁) = ( 0.87203606928884969, 0.93601803464442479 )\n",
       "(a₂, b₂) = ( 0.87203606928884969, 0.90402705196663724 )\n",
       "(a₃, b₃) = ( 0.88803156062774347, 0.90402705196663724 )\n",
       "(a₄, b₄) = ( 0.88803156062774347, 0.89602930629719035 )\n",
       "(a₅, b₅) = ( 0.88803156062774347, 0.89203043346246691 )\n",
       "(a₆, b₆) = ( 0.88803156062774347, 0.89003099704510513 )\n",
       "(a₇, b₇) = ( 0.8890312788364243, 0.89003099704510513 )\n",
       "(a₈, b₈) = ( 0.8890312788364243, 0.88953113794076466 )\n",
       "(a₉, b₉) = ( 0.88928120838859448, 0.88953113794076466 )\n",
       "(a₁₀, b₁₀) = ( 0.88928120838859448, 0.88940617316467951 )\n",
       "\n"
      ]
     },
     "metadata": {},
     "output_type": "display_data"
    },
    {
     "name": "stderr",
     "output_type": "stream",
     "text": [
      "\u001b[36m\u001b[1m[ \u001b[22m\u001b[39m\u001b[36m\u001b[1mInfo: \u001b[22m\u001b[39mTargeting ϕ=0.8894061731646795\n",
      "\u001b[32mProgress: 100%|█████████████████████████████████████████| Time: 0:00:45\u001b[39m\n",
      "\u001b[36m\u001b[1m[ \u001b[22m\u001b[39m\u001b[36m\u001b[1mInfo: \u001b[22m\u001b[39mϕ=1, PSIS\n",
      "\u001b[36m\u001b[1m[ \u001b[22m\u001b[39m\u001b[36m\u001b[1mInfo: \u001b[22m\u001b[39mFold: 5\n"
     ]
    },
    {
     "data": {
      "text/plain": [
       "Results of univariate zero finding:\n",
       "\n",
       "* Converged to: 0.6248574218749997\n",
       "* Algorithm: Bisection()\n",
       "* iterations: 10\n",
       "* function evaluations ≈ 13\n",
       "\n",
       "Trace:\n",
       "(a₀, b₀) = ( 0.010306249999999999, 1 )\n",
       "(a₁, b₁) = ( 0.103725, 1 )\n",
       "(a₂, b₂) = ( 0.33244999999999997, 1 )\n",
       "(a₃, b₃) = ( 0.58244999999999991, 1 )\n",
       "(a₄, b₄) = ( 0.58244999999999991, 0.79122499999999996 )\n",
       "(a₅, b₅) = ( 0.58244999999999991, 0.68683749999999988 )\n",
       "(a₆, b₆) = ( 0.58244999999999991, 0.63464374999999984 )\n",
       "(a₇, b₇) = ( 0.60854687499999982, 0.63464374999999984 )\n",
       "(a₈, b₈) = ( 0.62159531249999977, 0.63464374999999984 )\n",
       "(a₉, b₉) = ( 0.62159531249999977, 0.62811953124999975 )\n",
       "(a₁₀, b₁₀) = ( 0.62159531249999977, 0.62485742187499971 )\n",
       "\n"
      ]
     },
     "metadata": {},
     "output_type": "display_data"
    },
    {
     "name": "stderr",
     "output_type": "stream",
     "text": [
      "\u001b[36m\u001b[1m[ \u001b[22m\u001b[39m\u001b[36m\u001b[1mInfo: \u001b[22m\u001b[39mTargeting ϕ=0.6248574218749997\n",
      "\u001b[32mProgress: 100%|█████████████████████████████████████████| Time: 0:00:46\u001b[39m\n",
      "\u001b[36m\u001b[1m[ \u001b[22m\u001b[39m\u001b[36m\u001b[1mInfo: \u001b[22m\u001b[39mϕ=1, PSIS\n",
      "\u001b[36m\u001b[1m[ \u001b[22m\u001b[39m\u001b[36m\u001b[1mInfo: \u001b[22m\u001b[39mFold: 6\n"
     ]
    },
    {
     "data": {
      "text/plain": [
       "Results of univariate zero finding:\n",
       "\n",
       "* Converged to: 0.3128773437499999\n",
       "* Algorithm: Bisection()\n",
       "* iterations: 10\n",
       "* function evaluations ≈ 13\n",
       "\n",
       "Trace:\n",
       "(a₀, b₀) = ( 0.010306249999999999, 1 )\n",
       "(a₁, b₁) = ( 0.103725, 1 )\n",
       "(a₂, b₂) = ( 0.103725, 0.33244999999999997 )\n",
       "(a₃, b₃) = ( 0.18683749999999999, 0.33244999999999997 )\n",
       "(a₄, b₄) = ( 0.23903124999999997, 0.33244999999999997 )\n",
       "(a₅, b₅) = ( 0.28025624999999993, 0.33244999999999997 )\n",
       "(a₆, b₆) = ( 0.30635312499999995, 0.33244999999999997 )\n",
       "(a₇, b₇) = ( 0.30635312499999995, 0.31940156249999996 )\n",
       "(a₈, b₈) = ( 0.30635312499999995, 0.31287734374999993 )\n",
       "(a₉, b₉) = ( 0.30961523437499994, 0.31287734374999993 )\n",
       "(a₁₀, b₁₀) = ( 0.3112462890624999, 0.31287734374999993 )\n",
       "\n"
      ]
     },
     "metadata": {},
     "output_type": "display_data"
    },
    {
     "name": "stderr",
     "output_type": "stream",
     "text": [
      "\u001b[36m\u001b[1m[ \u001b[22m\u001b[39m\u001b[36m\u001b[1mInfo: \u001b[22m\u001b[39mTargeting ϕ=0.3128773437499999\n",
      "\u001b[32mProgress: 100%|█████████████████████████████████████████| Time: 0:00:45\u001b[39m\n"
     ]
    },
    {
     "data": {
      "text/plain": [
       "Results of univariate zero finding:\n",
       "\n",
       "* Converged to: 0.6124838165283201\n",
       "* Algorithm: Bisection()\n",
       "* iterations: 10\n",
       "* function evaluations ≈ 13\n",
       "\n",
       "Trace:\n",
       "(a₀, b₀) = ( 0.56297734374999986, 1 )\n",
       "(a₁, b₁) = ( 0.56297734374999986, 0.78148867187499993 )\n",
       "(a₂, b₂) = ( 0.56297734374999986, 0.67223300781249984 )\n",
       "(a₃, b₃) = ( 0.56297734374999986, 0.61760517578124985 )\n",
       "(a₄, b₄) = ( 0.5902912597656248, 0.61760517578124985 )\n",
       "(a₅, b₅) = ( 0.60394821777343732, 0.61760517578124985 )\n",
       "(a₆, b₆) = ( 0.61077669677734359, 0.61760517578124985 )\n",
       "(a₇, b₇) = ( 0.61077669677734359, 0.61419093627929666 )\n",
       "(a₈, b₈) = ( 0.61077669677734359, 0.61248381652832007 )\n",
       "(a₉, b₉) = ( 0.61163025665283177, 0.61248381652832007 )\n",
       "(a₁₀, b₁₀) = ( 0.61205703659057586, 0.61248381652832007 )\n",
       "\n"
      ]
     },
     "metadata": {},
     "output_type": "display_data"
    },
    {
     "name": "stderr",
     "output_type": "stream",
     "text": [
      "\u001b[36m\u001b[1m[ \u001b[22m\u001b[39m\u001b[36m\u001b[1mInfo: \u001b[22m\u001b[39mTargeting ϕ=0.6124838165283201\n",
      "\u001b[32mProgress: 100%|█████████████████████████████████████████| Time: 0:00:46\u001b[39m\n"
     ]
    },
    {
     "data": {
      "text/plain": [
       "Results of univariate zero finding:\n",
       "\n",
       "* Converged to: 0.8558539395481345\n",
       "* Algorithm: Bisection()\n",
       "* iterations: 10\n",
       "* function evaluations ≈ 13\n",
       "\n",
       "Trace:\n",
       "(a₀, b₀) = ( 0.80629190826415997, 1 )\n",
       "(a₁, b₁) = ( 0.80629190826415997, 0.90314595413207999 )\n",
       "(a₂, b₂) = ( 0.85471893119811992, 0.90314595413207999 )\n",
       "(a₃, b₃) = ( 0.85471893119811992, 0.87893244266509996 )\n",
       "(a₄, b₄) = ( 0.85471893119811992, 0.86682568693160988 )\n",
       "(a₅, b₅) = ( 0.85471893119811992, 0.8607723090648649 )\n",
       "(a₆, b₆) = ( 0.85471893119811992, 0.85774562013149236 )\n",
       "(a₇, b₇) = ( 0.85471893119811992, 0.85623227566480609 )\n",
       "(a₈, b₈) = ( 0.85547560343146301, 0.85623227566480609 )\n",
       "(a₉, b₉) = ( 0.85547560343146301, 0.85585393954813449 )\n",
       "(a₁₀, b₁₀) = ( 0.85566477148979869, 0.85585393954813449 )\n",
       "\n"
      ]
     },
     "metadata": {},
     "output_type": "display_data"
    },
    {
     "name": "stderr",
     "output_type": "stream",
     "text": [
      "\u001b[36m\u001b[1m[ \u001b[22m\u001b[39m\u001b[36m\u001b[1mInfo: \u001b[22m\u001b[39mTargeting ϕ=0.8558539395481345\n",
      "\u001b[32mProgress: 100%|█████████████████████████████████████████| Time: 0:00:46\u001b[39m\n",
      "\u001b[36m\u001b[1m[ \u001b[22m\u001b[39m\u001b[36m\u001b[1mInfo: \u001b[22m\u001b[39mϕ=1, PSIS\n",
      "\u001b[36m\u001b[1m[ \u001b[22m\u001b[39m\u001b[36m\u001b[1mInfo: \u001b[22m\u001b[39mFold: 7\n"
     ]
    },
    {
     "data": {
      "text/plain": [
       "Results of univariate zero finding:\n",
       "\n",
       "* Converged to: 0.5824499999999999\n",
       "* Algorithm: Bisection()\n",
       "* iterations: 10\n",
       "* function evaluations ≈ 13\n",
       "\n",
       "Trace:\n",
       "(a₀, b₀) = ( 0.010306249999999999, 1 )\n",
       "(a₁, b₁) = ( 0.103725, 1 )\n",
       "(a₂, b₂) = ( 0.33244999999999997, 1 )\n",
       "(a₃, b₃) = ( 0.33244999999999997, 0.58244999999999991 )\n",
       "(a₄, b₄) = ( 0.43683749999999993, 0.58244999999999991 )\n",
       "(a₅, b₅) = ( 0.48903124999999992, 0.58244999999999991 )\n",
       "(a₆, b₆) = ( 0.53025624999999987, 0.58244999999999991 )\n",
       "(a₇, b₇) = ( 0.55635312499999989, 0.58244999999999991 )\n",
       "(a₈, b₈) = ( 0.56940156249999985, 0.58244999999999991 )\n",
       "(a₉, b₉) = ( 0.57592578124999982, 0.58244999999999991 )\n",
       "(a₁₀, b₁₀) = ( 0.57918789062499987, 0.58244999999999991 )\n",
       "\n"
      ]
     },
     "metadata": {},
     "output_type": "display_data"
    },
    {
     "name": "stderr",
     "output_type": "stream",
     "text": [
      "\u001b[36m\u001b[1m[ \u001b[22m\u001b[39m\u001b[36m\u001b[1mInfo: \u001b[22m\u001b[39mTargeting ϕ=0.5824499999999999\n",
      "\u001b[32mProgress: 100%|█████████████████████████████████████████| Time: 0:00:46\u001b[39m\n",
      "\u001b[36m\u001b[1m[ \u001b[22m\u001b[39m\u001b[36m\u001b[1mInfo: \u001b[22m\u001b[39mϕ=1, PSIS\n",
      "\u001b[36m\u001b[1m[ \u001b[22m\u001b[39m\u001b[36m\u001b[1mInfo: \u001b[22m\u001b[39mFold: 8\n"
     ]
    },
    {
     "data": {
      "text/plain": [
       "Results of univariate zero finding:\n",
       "\n",
       "* Converged to: 0.7357691406249999\n",
       "* Algorithm: Bisection()\n",
       "* iterations: 10\n",
       "* function evaluations ≈ 13\n",
       "\n",
       "Trace:\n",
       "(a₀, b₀) = ( 0.010306249999999999, 1 )\n",
       "(a₁, b₁) = ( 0.103725, 1 )\n",
       "(a₂, b₂) = ( 0.33244999999999997, 1 )\n",
       "(a₃, b₃) = ( 0.58244999999999991, 1 )\n",
       "(a₄, b₄) = ( 0.58244999999999991, 0.79122499999999996 )\n",
       "(a₅, b₅) = ( 0.68683749999999988, 0.79122499999999996 )\n",
       "(a₆, b₆) = ( 0.68683749999999988, 0.73903124999999992 )\n",
       "(a₇, b₇) = ( 0.7129343749999999, 0.73903124999999992 )\n",
       "(a₈, b₈) = ( 0.72598281249999985, 0.73903124999999992 )\n",
       "(a₉, b₉) = ( 0.73250703124999983, 0.73903124999999992 )\n",
       "(a₁₀, b₁₀) = ( 0.73576914062499987, 0.73903124999999992 )\n",
       "\n"
      ]
     },
     "metadata": {},
     "output_type": "display_data"
    },
    {
     "name": "stderr",
     "output_type": "stream",
     "text": [
      "\u001b[36m\u001b[1m[ \u001b[22m\u001b[39m\u001b[36m\u001b[1mInfo: \u001b[22m\u001b[39mTargeting ϕ=0.7357691406249999\n",
      "\u001b[32mProgress: 100%|█████████████████████████████████████████| Time: 0:00:45\u001b[39m\n",
      "\u001b[36m\u001b[1m[ \u001b[22m\u001b[39m\u001b[36m\u001b[1mInfo: \u001b[22m\u001b[39mϕ=1, PSIS\n",
      "\u001b[36m\u001b[1m[ \u001b[22m\u001b[39m\u001b[36m\u001b[1mInfo: \u001b[22m\u001b[39mFold: 9\n"
     ]
    },
    {
     "data": {
      "text/plain": [
       "Results of univariate zero finding:\n",
       "\n",
       "* Converged to: 0.2835183593749999\n",
       "* Algorithm: Bisection()\n",
       "* iterations: 10\n",
       "* function evaluations ≈ 13\n",
       "\n",
       "Trace:\n",
       "(a₀, b₀) = ( 0.010306249999999999, 1 )\n",
       "(a₁, b₁) = ( 0.103725, 1 )\n",
       "(a₂, b₂) = ( 0.103725, 0.33244999999999997 )\n",
       "(a₃, b₃) = ( 0.18683749999999999, 0.33244999999999997 )\n",
       "(a₄, b₄) = ( 0.23903124999999997, 0.33244999999999997 )\n",
       "(a₅, b₅) = ( 0.28025624999999993, 0.33244999999999997 )\n",
       "(a₆, b₆) = ( 0.28025624999999993, 0.30635312499999995 )\n",
       "(a₇, b₇) = ( 0.28025624999999993, 0.29330468749999994 )\n",
       "(a₈, b₈) = ( 0.28025624999999993, 0.28678046874999991 )\n",
       "(a₉, b₉) = ( 0.28025624999999993, 0.28351835937499992 )\n",
       "(a₁₀, b₁₀) = ( 0.2818873046874999, 0.28351835937499992 )\n",
       "\n"
      ]
     },
     "metadata": {},
     "output_type": "display_data"
    },
    {
     "name": "stderr",
     "output_type": "stream",
     "text": [
      "\u001b[36m\u001b[1m[ \u001b[22m\u001b[39m\u001b[36m\u001b[1mInfo: \u001b[22m\u001b[39mTargeting ϕ=0.2835183593749999\n",
      "\u001b[32mProgress: 100%|█████████████████████████████████████████| Time: 0:00:45\u001b[39m\n"
     ]
    },
    {
     "data": {
      "text/plain": [
       "Results of univariate zero finding:\n",
       "\n",
       "* Converged to: 0.5308856544494628\n",
       "* Algorithm: Bisection()\n",
       "* iterations: 10\n",
       "* function evaluations ≈ 13\n",
       "\n",
       "Trace:\n",
       "(a₀, b₀) = ( 0.28361835937499991, 0.53361835937499991 )\n",
       "(a₁, b₁) = ( 0.40021376953124993, 0.53361835937499991 )\n",
       "(a₂, b₂) = ( 0.45851147460937491, 0.53361835937499991 )\n",
       "(a₃, b₃) = ( 0.48766032714843743, 0.53361835937499991 )\n",
       "(a₄, b₄) = ( 0.50446950683593739, 0.53361835937499991 )\n",
       "(a₅, b₅) = ( 0.51904393310546859, 0.53361835937499991 )\n",
       "(a₆, b₆) = ( 0.52633114624023425, 0.53361835937499991 )\n",
       "(a₇, b₇) = ( 0.52997475280761708, 0.53361835937499991 )\n",
       "(a₈, b₈) = ( 0.52997475280761708, 0.53179655609130849 )\n",
       "(a₉, b₉) = ( 0.53088565444946278, 0.53179655609130849 )\n",
       "(a₁₀, b₁₀) = ( 0.53088565444946278, 0.53134110527038558 )\n",
       "\n"
      ]
     },
     "metadata": {},
     "output_type": "display_data"
    },
    {
     "name": "stderr",
     "output_type": "stream",
     "text": [
      "\u001b[36m\u001b[1m[ \u001b[22m\u001b[39m\u001b[36m\u001b[1mInfo: \u001b[22m\u001b[39mTargeting ϕ=0.5308856544494628\n",
      "\u001b[32mProgress: 100%|█████████████████████████████████████████| Time: 0:00:44\u001b[39m\n"
     ]
    },
    {
     "data": {
      "text/plain": [
       "Results of univariate zero finding:\n",
       "\n",
       "* Converged to: 0.7215227323293685\n",
       "* Algorithm: Bisection()\n",
       "* iterations: 10\n",
       "* function evaluations ≈ 13\n",
       "\n",
       "Trace:\n",
       "(a₀, b₀) = ( 0.53098565444946277, 0.76549282722473133 )\n",
       "(a₁, b₁) = ( 0.64823924083709705, 0.76549282722473133 )\n",
       "(a₂, b₂) = ( 0.70686603403091419, 0.76549282722473133 )\n",
       "(a₃, b₃) = ( 0.70686603403091419, 0.73617943062782276 )\n",
       "(a₄, b₄) = ( 0.70686603403091419, 0.72152273232936848 )\n",
       "(a₅, b₅) = ( 0.71419438318014128, 0.72152273232936848 )\n",
       "(a₆, b₆) = ( 0.71785855775475482, 0.72152273232936848 )\n",
       "(a₇, b₇) = ( 0.71969064504206159, 0.72152273232936848 )\n",
       "(a₈, b₈) = ( 0.72060668868571498, 0.72152273232936848 )\n",
       "(a₉, b₉) = ( 0.72106471050754173, 0.72152273232936848 )\n",
       "(a₁₀, b₁₀) = ( 0.72129372141845505, 0.72152273232936848 )\n",
       "\n"
      ]
     },
     "metadata": {},
     "output_type": "display_data"
    },
    {
     "name": "stderr",
     "output_type": "stream",
     "text": [
      "\u001b[36m\u001b[1m[ \u001b[22m\u001b[39m\u001b[36m\u001b[1mInfo: \u001b[22m\u001b[39mTargeting ϕ=0.7215227323293685\n",
      "\u001b[32mProgress: 100%|█████████████████████████████████████████| Time: 0:00:44\u001b[39m\n"
     ]
    },
    {
     "data": {
      "text/plain": [
       "Results of univariate zero finding:\n",
       "\n",
       "* Converged to: 0.8748117853883536\n",
       "* Algorithm: Bisection()\n",
       "* iterations: 10\n",
       "* function evaluations ≈ 13\n",
       "\n",
       "Trace:\n",
       "(a₀, b₀) = ( 0.86081136616468423, 1 )\n",
       "(a₁, b₁) = ( 0.86081136616468423, 0.93040568308234206 )\n",
       "(a₂, b₂) = ( 0.86081136616468423, 0.89560852462351315 )\n",
       "(a₃, b₃) = ( 0.86081136616468423, 0.87820994539409869 )\n",
       "(a₄, b₄) = ( 0.86951065577939146, 0.87820994539409869 )\n",
       "(a₅, b₅) = ( 0.87386030058674502, 0.87820994539409869 )\n",
       "(a₆, b₆) = ( 0.87386030058674502, 0.87603512299042186 )\n",
       "(a₇, b₇) = ( 0.87386030058674502, 0.87494771178858344 )\n",
       "(a₈, b₈) = ( 0.87440400618766423, 0.87494771178858344 )\n",
       "(a₉, b₉) = ( 0.87467585898812383, 0.87494771178858344 )\n",
       "(a₁₀, b₁₀) = ( 0.87467585898812383, 0.87481178538835358 )\n",
       "\n"
      ]
     },
     "metadata": {},
     "output_type": "display_data"
    },
    {
     "name": "stderr",
     "output_type": "stream",
     "text": [
      "\u001b[36m\u001b[1m[ \u001b[22m\u001b[39m\u001b[36m\u001b[1mInfo: \u001b[22m\u001b[39mTargeting ϕ=0.8748117853883536\n",
      "\u001b[32mProgress: 100%|█████████████████████████████████████████| Time: 0:00:44\u001b[39m\n"
     ]
    },
    {
     "data": {
      "text/plain": [
       "Results of univariate zero finding:\n",
       "\n",
       "* Converged to: 0.9888837621780664\n",
       "* Algorithm: Bisection()\n",
       "* iterations: 10\n",
       "* function evaluations ≈ 13\n",
       "\n",
       "Trace:\n",
       "(a₀, b₀) = ( 0.93745589269417673, 1 )\n",
       "(a₁, b₁) = ( 0.96872794634708836, 1 )\n",
       "(a₂, b₂) = ( 0.98436397317354418, 1 )\n",
       "(a₃, b₃) = ( 0.98436397317354418, 0.99218198658677204 )\n",
       "(a₄, b₄) = ( 0.98827297988015805, 0.99218198658677204 )\n",
       "(a₅, b₅) = ( 0.98827297988015805, 0.99022748323346499 )\n",
       "(a₆, b₆) = ( 0.98827297988015805, 0.98925023155681147 )\n",
       "(a₇, b₇) = ( 0.9887616057184847, 0.98925023155681147 )\n",
       "(a₈, b₈) = ( 0.9887616057184847, 0.98900591863764808 )\n",
       "(a₉, b₉) = ( 0.98888376217806639, 0.98900591863764808 )\n",
       "(a₁₀, b₁₀) = ( 0.98888376217806639, 0.98894484040785724 )\n",
       "\n"
      ]
     },
     "metadata": {},
     "output_type": "display_data"
    },
    {
     "name": "stderr",
     "output_type": "stream",
     "text": [
      "\u001b[36m\u001b[1m[ \u001b[22m\u001b[39m\u001b[36m\u001b[1mInfo: \u001b[22m\u001b[39mTargeting ϕ=0.9888837621780664\n",
      "\u001b[32mProgress: 100%|█████████████████████████████████████████| Time: 0:00:44\u001b[39m\n",
      "\u001b[36m\u001b[1m[ \u001b[22m\u001b[39m\u001b[36m\u001b[1mInfo: \u001b[22m\u001b[39mϕ=1, PSIS\n",
      "\u001b[36m\u001b[1m[ \u001b[22m\u001b[39m\u001b[36m\u001b[1mInfo: \u001b[22m\u001b[39mFold: 10\n"
     ]
    },
    {
     "data": {
      "text/plain": [
       "Results of univariate zero finding:\n",
       "\n",
       "* Converged to: 0.31777050781249994\n",
       "* Algorithm: Bisection()\n",
       "* iterations: 10\n",
       "* function evaluations ≈ 13\n",
       "\n",
       "Trace:\n",
       "(a₀, b₀) = ( 0.010306249999999999, 1 )\n",
       "(a₁, b₁) = ( 0.103725, 1 )\n",
       "(a₂, b₂) = ( 0.103725, 0.33244999999999997 )\n",
       "(a₃, b₃) = ( 0.18683749999999999, 0.33244999999999997 )\n",
       "(a₄, b₄) = ( 0.23903124999999997, 0.33244999999999997 )\n",
       "(a₅, b₅) = ( 0.28025624999999993, 0.33244999999999997 )\n",
       "(a₆, b₆) = ( 0.30635312499999995, 0.33244999999999997 )\n",
       "(a₇, b₇) = ( 0.30635312499999995, 0.31940156249999996 )\n",
       "(a₈, b₈) = ( 0.31287734374999993, 0.31940156249999996 )\n",
       "(a₉, b₉) = ( 0.31613945312499991, 0.31940156249999996 )\n",
       "(a₁₀, b₁₀) = ( 0.31613945312499991, 0.31777050781249994 )\n",
       "\n"
      ]
     },
     "metadata": {},
     "output_type": "display_data"
    },
    {
     "name": "stderr",
     "output_type": "stream",
     "text": [
      "\u001b[36m\u001b[1m[ \u001b[22m\u001b[39m\u001b[36m\u001b[1mInfo: \u001b[22m\u001b[39mTargeting ϕ=0.31777050781249994\n",
      "\u001b[32mProgress: 100%|█████████████████████████████████████████| Time: 0:00:44\u001b[39m\n"
     ]
    },
    {
     "data": {
      "text/plain": [
       "Results of univariate zero finding:\n",
       "\n",
       "* Converged to: 0.583484561729431\n",
       "* Algorithm: Bisection()\n",
       "* iterations: 10\n",
       "* function evaluations ≈ 13\n",
       "\n",
       "Trace:\n",
       "(a₀, b₀) = ( 0.56787050781249993, 1 )\n",
       "(a₁, b₁) = ( 0.56787050781249993, 0.78393525390624996 )\n",
       "(a₂, b₂) = ( 0.56787050781249993, 0.67590288085937489 )\n",
       "(a₃, b₃) = ( 0.56787050781249993, 0.62188669433593735 )\n",
       "(a₄, b₄) = ( 0.56787050781249993, 0.59487860107421864 )\n",
       "(a₅, b₅) = ( 0.58137455444335928, 0.59487860107421864 )\n",
       "(a₆, b₆) = ( 0.58137455444335928, 0.58812657775878896 )\n",
       "(a₇, b₇) = ( 0.58137455444335928, 0.58475056610107412 )\n",
       "(a₈, b₈) = ( 0.5830625602722167, 0.58475056610107412 )\n",
       "(a₉, b₉) = ( 0.5830625602722167, 0.58390656318664536 )\n",
       "(a₁₀, b₁₀) = ( 0.5830625602722167, 0.58348456172943097 )\n",
       "\n"
      ]
     },
     "metadata": {},
     "output_type": "display_data"
    },
    {
     "name": "stderr",
     "output_type": "stream",
     "text": [
      "\u001b[36m\u001b[1m[ \u001b[22m\u001b[39m\u001b[36m\u001b[1mInfo: \u001b[22m\u001b[39mTargeting ϕ=0.583484561729431\n",
      "\u001b[32mProgress: 100%|█████████████████████████████████████████| Time: 0:00:44\u001b[39m\n"
     ]
    },
    {
     "data": {
      "text/plain": [
       "Results of univariate zero finding:\n",
       "\n",
       "* Converged to: 0.790165658058971\n",
       "* Algorithm: Bisection()\n",
       "* iterations: 10\n",
       "* function evaluations ≈ 13\n",
       "\n",
       "Trace:\n",
       "(a₀, b₀) = ( 0.58358456172943096, 0.79179228086471543 )\n",
       "(a₁, b₁) = ( 0.68768842129707319, 0.79179228086471543 )\n",
       "(a₂, b₂) = ( 0.73974035108089431, 0.79179228086471543 )\n",
       "(a₃, b₃) = ( 0.76576631597280487, 0.79179228086471543 )\n",
       "(a₄, b₄) = ( 0.77877929841876015, 0.79179228086471543 )\n",
       "(a₅, b₅) = ( 0.78528578964173779, 0.79179228086471543 )\n",
       "(a₆, b₆) = ( 0.78853903525322655, 0.79179228086471543 )\n",
       "(a₇, b₇) = ( 0.79016565805897099, 0.79179228086471543 )\n",
       "(a₈, b₈) = ( 0.79016565805897099, 0.79097896946184321 )\n",
       "(a₉, b₉) = ( 0.79016565805897099, 0.79057231376040704 )\n",
       "(a₁₀, b₁₀) = ( 0.79016565805897099, 0.79036898590968896 )\n",
       "\n"
      ]
     },
     "metadata": {},
     "output_type": "display_data"
    },
    {
     "name": "stderr",
     "output_type": "stream",
     "text": [
      "\u001b[36m\u001b[1m[ \u001b[22m\u001b[39m\u001b[36m\u001b[1mInfo: \u001b[22m\u001b[39mTargeting ϕ=0.790165658058971\n",
      "\u001b[32mProgress: 100%|█████████████████████████████████████████| Time: 0:00:44\u001b[39m\n"
     ]
    },
    {
     "data": {
      "text/plain": [
       "Results of univariate zero finding:\n",
       "\n",
       "* Converged to: 0.9523796538073346\n",
       "* Algorithm: Bisection()\n",
       "* iterations: 10\n",
       "* function evaluations ≈ 13\n",
       "\n",
       "Trace:\n",
       "(a₀, b₀) = ( 0.89513282902948543, 1 )\n",
       "(a₁, b₁) = ( 0.94756641451474266, 1 )\n",
       "(a₂, b₂) = ( 0.94756641451474266, 0.97378320725737133 )\n",
       "(a₃, b₃) = ( 0.94756641451474266, 0.960674810886057 )\n",
       "(a₄, b₄) = ( 0.94756641451474266, 0.95412061270039983 )\n",
       "(a₅, b₅) = ( 0.95084351360757124, 0.95412061270039983 )\n",
       "(a₆, b₆) = ( 0.95084351360757124, 0.95248206315398554 )\n",
       "(a₇, b₇) = ( 0.95166278838077834, 0.95248206315398554 )\n",
       "(a₈, b₈) = ( 0.95207242576738194, 0.95248206315398554 )\n",
       "(a₉, b₉) = ( 0.95227724446068374, 0.95248206315398554 )\n",
       "(a₁₀, b₁₀) = ( 0.95227724446068374, 0.95237965380733458 )\n",
       "\n"
      ]
     },
     "metadata": {},
     "output_type": "display_data"
    },
    {
     "name": "stderr",
     "output_type": "stream",
     "text": [
      "\u001b[36m\u001b[1m[ \u001b[22m\u001b[39m\u001b[36m\u001b[1mInfo: \u001b[22m\u001b[39mTargeting ϕ=0.9523796538073346\n",
      "\u001b[32mProgress: 100%|█████████████████████████████████████████| Time: 0:00:44\u001b[39m\n",
      "\u001b[36m\u001b[1m[ \u001b[22m\u001b[39m\u001b[36m\u001b[1mInfo: \u001b[22m\u001b[39mϕ=1, PSIS\n"
     ]
    }
   ],
   "source": [
    "Random.seed!(1)\n",
    "RUN_aSMC && run(chain, SMCS_M5; k̂_threshold=0.9, save_bool=true)"
   ]
  },
  {
   "cell_type": "code",
   "execution_count": 35,
   "id": "75a68993-3e82-4e46-b400-e59567cf004e",
   "metadata": {
    "scrolled": true
   },
   "outputs": [
    {
     "name": "stderr",
     "output_type": "stream",
     "text": [
      "\u001b[36m\u001b[1m[ \u001b[22m\u001b[39m\u001b[36m\u001b[1mInfo: \u001b[22m\u001b[39mFold: 1\n"
     ]
    },
    {
     "data": {
      "text/plain": [
       "Results of univariate zero finding:\n",
       "\n",
       "* Converged to: 0.2769941406249999\n",
       "* Algorithm: Bisection()\n",
       "* iterations: 10\n",
       "* function evaluations ≈ 13\n",
       "\n",
       "Trace:\n",
       "(a₀, b₀) = ( 0.010306249999999999, 1 )\n",
       "(a₁, b₁) = ( 0.103725, 1 )\n",
       "(a₂, b₂) = ( 0.103725, 0.33244999999999997 )\n",
       "(a₃, b₃) = ( 0.18683749999999999, 0.33244999999999997 )\n",
       "(a₄, b₄) = ( 0.23903124999999997, 0.33244999999999997 )\n",
       "(a₅, b₅) = ( 0.23903124999999997, 0.28025624999999993 )\n",
       "(a₆, b₆) = ( 0.25415937499999991, 0.28025624999999993 )\n",
       "(a₇, b₇) = ( 0.26720781249999992, 0.28025624999999993 )\n",
       "(a₈, b₈) = ( 0.2737320312499999, 0.28025624999999993 )\n",
       "(a₉, b₉) = ( 0.2737320312499999, 0.27699414062499988 )\n",
       "(a₁₀, b₁₀) = ( 0.27536308593749986, 0.27699414062499988 )\n",
       "\n"
      ]
     },
     "metadata": {},
     "output_type": "display_data"
    },
    {
     "name": "stderr",
     "output_type": "stream",
     "text": [
      "\u001b[36m\u001b[1m[ \u001b[22m\u001b[39m\u001b[36m\u001b[1mInfo: \u001b[22m\u001b[39mTargeting ϕ=0.2769941406249999\n",
      "\u001b[32mProgress: 100%|█████████████████████████████████████████| Time: 0:00:45\u001b[39m\n"
     ]
    },
    {
     "data": {
      "text/plain": [
       "Results of univariate zero finding:\n",
       "\n",
       "* Converged to: 0.4703667013168333\n",
       "* Algorithm: Bisection()\n",
       "* iterations: 10\n",
       "* function evaluations ≈ 13\n",
       "\n",
       "Trace:\n",
       "(a₀, b₀) = ( 0.27709414062499987, 0.52709414062499982 )\n",
       "(a₁, b₁) = ( 0.39532060546874986, 0.52709414062499982 )\n",
       "(a₂, b₂) = ( 0.45443383789062486, 0.52709414062499982 )\n",
       "(a₃, b₃) = ( 0.45443383789062486, 0.48399045410156238 )\n",
       "(a₄, b₄) = ( 0.46921214599609362, 0.48399045410156238 )\n",
       "(a₅, b₅) = ( 0.46921214599609362, 0.476601300048828 )\n",
       "(a₆, b₆) = ( 0.46921214599609362, 0.47290672302246078 )\n",
       "(a₇, b₇) = ( 0.46921214599609362, 0.47105943450927718 )\n",
       "(a₈, b₈) = ( 0.47013579025268537, 0.47105943450927718 )\n",
       "(a₉, b₉) = ( 0.47013579025268537, 0.47059761238098125 )\n",
       "(a₁₀, b₁₀) = ( 0.47013579025268537, 0.47036670131683328 )\n",
       "\n"
      ]
     },
     "metadata": {},
     "output_type": "display_data"
    },
    {
     "name": "stderr",
     "output_type": "stream",
     "text": [
      "\u001b[36m\u001b[1m[ \u001b[22m\u001b[39m\u001b[36m\u001b[1mInfo: \u001b[22m\u001b[39mTargeting ϕ=0.4703667013168333\n",
      "\u001b[32mProgress: 100%|█████████████████████████████████████████| Time: 0:00:45\u001b[39m\n"
     ]
    },
    {
     "data": {
      "text/plain": [
       "Results of univariate zero finding:\n",
       "\n",
       "* Converged to: 0.6429398880101735\n",
       "* Algorithm: Bisection()\n",
       "* iterations: 10\n",
       "* function evaluations ≈ 13\n",
       "\n",
       "Trace:\n",
       "(a₀, b₀) = ( 0.47046670131683327, 0.72046670131683321 )\n",
       "(a₁, b₁) = ( 0.58070005197524988, 0.72046670131683321 )\n",
       "(a₂, b₂) = ( 0.58070005197524988, 0.65058337664604149 )\n",
       "(a₃, b₃) = ( 0.61564171431064563, 0.65058337664604149 )\n",
       "(a₄, b₄) = ( 0.6331125454783435, 0.65058337664604149 )\n",
       "(a₅, b₅) = ( 0.64184796106219244, 0.65058337664604149 )\n",
       "(a₆, b₆) = ( 0.64184796106219244, 0.64621566885411696 )\n",
       "(a₇, b₇) = ( 0.64184796106219244, 0.64403181495815465 )\n",
       "(a₈, b₈) = ( 0.64184796106219244, 0.64293988801017354 )\n",
       "(a₉, b₉) = ( 0.64239392453618294, 0.64293988801017354 )\n",
       "(a₁₀, b₁₀) = ( 0.64266690627317824, 0.64293988801017354 )\n",
       "\n"
      ]
     },
     "metadata": {},
     "output_type": "display_data"
    },
    {
     "name": "stderr",
     "output_type": "stream",
     "text": [
      "\u001b[36m\u001b[1m[ \u001b[22m\u001b[39m\u001b[36m\u001b[1mInfo: \u001b[22m\u001b[39mTargeting ϕ=0.6429398880101735\n",
      "\u001b[32mProgress: 100%|█████████████████████████████████████████| Time: 0:00:44\u001b[39m\n"
     ]
    },
    {
     "data": {
      "text/plain": [
       "Results of univariate zero finding:\n",
       "\n",
       "* Converged to: 0.7746340699204853\n",
       "* Algorithm: Bisection()\n",
       "* iterations: 10\n",
       "* function evaluations ≈ 13\n",
       "\n",
       "Trace:\n",
       "(a₀, b₀) = ( 0.64303988801017353, 0.82151994400508677 )\n",
       "(a₁, b₁) = ( 0.73227991600763009, 0.82151994400508677 )\n",
       "(a₂, b₂) = ( 0.73227991600763009, 0.77689993000635837 )\n",
       "(a₃, b₃) = ( 0.75458992300699423, 0.77689993000635837 )\n",
       "(a₄, b₄) = ( 0.76574492650667625, 0.77689993000635837 )\n",
       "(a₅, b₅) = ( 0.77132242825651731, 0.77689993000635837 )\n",
       "(a₆, b₆) = ( 0.77411117913143779, 0.77689993000635837 )\n",
       "(a₇, b₇) = ( 0.77411117913143779, 0.77550555456889803 )\n",
       "(a₈, b₈) = ( 0.77411117913143779, 0.77480836685016785 )\n",
       "(a₉, b₉) = ( 0.77445977299080282, 0.77480836685016785 )\n",
       "(a₁₀, b₁₀) = ( 0.77445977299080282, 0.77463406992048534 )\n",
       "\n"
      ]
     },
     "metadata": {},
     "output_type": "display_data"
    },
    {
     "name": "stderr",
     "output_type": "stream",
     "text": [
      "\u001b[36m\u001b[1m[ \u001b[22m\u001b[39m\u001b[36m\u001b[1mInfo: \u001b[22m\u001b[39mTargeting ϕ=0.7746340699204853\n",
      "\u001b[32mProgress: 100%|█████████████████████████████████████████| Time: 0:00:45\u001b[39m\n"
     ]
    },
    {
     "data": {
      "text/plain": [
       "Results of univariate zero finding:\n",
       "\n",
       "* Converged to: 0.8729579349405079\n",
       "* Algorithm: Bisection()\n",
       "* iterations: 10\n",
       "* function evaluations ≈ 13\n",
       "\n",
       "Trace:\n",
       "(a₀, b₀) = ( 0.77473406992048532, 0.88736703496024261 )\n",
       "(a₁, b₁) = ( 0.83105055244036397, 0.88736703496024261 )\n",
       "(a₂, b₂) = ( 0.85920879370030323, 0.88736703496024261 )\n",
       "(a₃, b₃) = ( 0.85920879370030323, 0.87328791433027286 )\n",
       "(a₄, b₄) = ( 0.86624835401528799, 0.87328791433027286 )\n",
       "(a₅, b₅) = ( 0.86976813417278043, 0.87328791433027286 )\n",
       "(a₆, b₆) = ( 0.87152802425152665, 0.87328791433027286 )\n",
       "(a₇, b₇) = ( 0.8724079692908997, 0.87328791433027286 )\n",
       "(a₈, b₈) = ( 0.87284794181058623, 0.87328791433027286 )\n",
       "(a₉, b₉) = ( 0.87284794181058623, 0.87306792807042954 )\n",
       "(a₁₀, b₁₀) = ( 0.87295793494050788, 0.87306792807042954 )\n",
       "\n"
      ]
     },
     "metadata": {},
     "output_type": "display_data"
    },
    {
     "name": "stderr",
     "output_type": "stream",
     "text": [
      "\u001b[36m\u001b[1m[ \u001b[22m\u001b[39m\u001b[36m\u001b[1mInfo: \u001b[22m\u001b[39mTargeting ϕ=0.8729579349405079\n",
      "\u001b[32mProgress: 100%|█████████████████████████████████████████| Time: 0:00:45\u001b[39m\n"
     ]
    },
    {
     "data": {
      "text/plain": [
       "Results of univariate zero finding:\n",
       "\n",
       "* Converged to: 0.953946311357811\n",
       "* Algorithm: Bisection()\n",
       "* iterations: 10\n",
       "* function evaluations ≈ 13\n",
       "\n",
       "Trace:\n",
       "(a₀, b₀) = ( 0.93652896747025394, 1 )\n",
       "(a₁, b₁) = ( 0.93652896747025394, 0.96826448373512697 )\n",
       "(a₂, b₂) = ( 0.9523967256026904, 0.96826448373512697 )\n",
       "(a₃, b₃) = ( 0.9523967256026904, 0.96033060466890863 )\n",
       "(a₄, b₄) = ( 0.9523967256026904, 0.95636366513579951 )\n",
       "(a₅, b₅) = ( 0.9523967256026904, 0.9543801953692449 )\n",
       "(a₆, b₆) = ( 0.95338846048596759, 0.9543801953692449 )\n",
       "(a₇, b₇) = ( 0.95388432792760625, 0.9543801953692449 )\n",
       "(a₈, b₈) = ( 0.95388432792760625, 0.95413226164842557 )\n",
       "(a₉, b₉) = ( 0.95388432792760625, 0.95400829478801585 )\n",
       "(a₁₀, b₁₀) = ( 0.95388432792760625, 0.95394631135781105 )\n",
       "\n"
      ]
     },
     "metadata": {},
     "output_type": "display_data"
    },
    {
     "name": "stderr",
     "output_type": "stream",
     "text": [
      "\u001b[36m\u001b[1m[ \u001b[22m\u001b[39m\u001b[36m\u001b[1mInfo: \u001b[22m\u001b[39mTargeting ϕ=0.953946311357811\n",
      "\u001b[32mProgress: 100%|█████████████████████████████████████████| Time: 0:00:44\u001b[39m\n",
      "\u001b[36m\u001b[1m[ \u001b[22m\u001b[39m\u001b[36m\u001b[1mInfo: \u001b[22m\u001b[39mϕ=1, PSIS\n",
      "\u001b[36m\u001b[1m[ \u001b[22m\u001b[39m\u001b[36m\u001b[1mInfo: \u001b[22m\u001b[39mFold: 2\n"
     ]
    },
    {
     "data": {
      "text/plain": [
       "Results of univariate zero finding:\n",
       "\n",
       "* Converged to: 0.3960611328124999\n",
       "* Algorithm: Bisection()\n",
       "* iterations: 10\n",
       "* function evaluations ≈ 13\n",
       "\n",
       "Trace:\n",
       "(a₀, b₀) = ( 0.010306249999999999, 1 )\n",
       "(a₁, b₁) = ( 0.103725, 1 )\n",
       "(a₂, b₂) = ( 0.33244999999999997, 1 )\n",
       "(a₃, b₃) = ( 0.33244999999999997, 0.58244999999999991 )\n",
       "(a₄, b₄) = ( 0.33244999999999997, 0.43683749999999993 )\n",
       "(a₅, b₅) = ( 0.38464374999999995, 0.43683749999999993 )\n",
       "(a₆, b₆) = ( 0.38464374999999995, 0.41074062499999991 )\n",
       "(a₇, b₇) = ( 0.38464374999999995, 0.39769218749999991 )\n",
       "(a₈, b₈) = ( 0.39116796874999993, 0.39769218749999991 )\n",
       "(a₉, b₉) = ( 0.39443007812499992, 0.39769218749999991 )\n",
       "(a₁₀, b₁₀) = ( 0.39443007812499992, 0.39606113281249988 )\n",
       "\n"
      ]
     },
     "metadata": {},
     "output_type": "display_data"
    },
    {
     "name": "stderr",
     "output_type": "stream",
     "text": [
      "\u001b[36m\u001b[1m[ \u001b[22m\u001b[39m\u001b[36m\u001b[1mInfo: \u001b[22m\u001b[39mTargeting ϕ=0.3960611328124999\n",
      "\u001b[32mProgress: 100%|█████████████████████████████████████████| Time: 0:00:45\u001b[39m\n"
     ]
    },
    {
     "data": {
      "text/plain": [
       "Results of univariate zero finding:\n",
       "\n",
       "* Converged to: 0.7905992641448972\n",
       "* Algorithm: Bisection()\n",
       "* iterations: 10\n",
       "* function evaluations ≈ 13\n",
       "\n",
       "Trace:\n",
       "(a₀, b₀) = ( 0.64616113281249987, 1 )\n",
       "(a₁, b₁) = ( 0.64616113281249987, 0.82308056640624994 )\n",
       "(a₂, b₂) = ( 0.7346208496093749, 0.82308056640624994 )\n",
       "(a₃, b₃) = ( 0.77885070800781242, 0.82308056640624994 )\n",
       "(a₄, b₄) = ( 0.77885070800781242, 0.80096563720703118 )\n",
       "(a₅, b₅) = ( 0.78990817260742174, 0.80096563720703118 )\n",
       "(a₆, b₆) = ( 0.78990817260742174, 0.79543690490722641 )\n",
       "(a₇, b₇) = ( 0.78990817260742174, 0.79267253875732402 )\n",
       "(a₈, b₈) = ( 0.78990817260742174, 0.79129035568237283 )\n",
       "(a₉, b₉) = ( 0.79059926414489723, 0.79129035568237283 )\n",
       "(a₁₀, b₁₀) = ( 0.79059926414489723, 0.79094480991363503 )\n",
       "\n"
      ]
     },
     "metadata": {},
     "output_type": "display_data"
    },
    {
     "name": "stderr",
     "output_type": "stream",
     "text": [
      "\u001b[36m\u001b[1m[ \u001b[22m\u001b[39m\u001b[36m\u001b[1mInfo: \u001b[22m\u001b[39mTargeting ϕ=0.7905992641448972\n",
      "\u001b[32mProgress: 100%|█████████████████████████████████████████| Time: 0:00:45\u001b[39m\n",
      "\u001b[36m\u001b[1m[ \u001b[22m\u001b[39m\u001b[36m\u001b[1mInfo: \u001b[22m\u001b[39mϕ=1, PSIS\n",
      "\u001b[36m\u001b[1m[ \u001b[22m\u001b[39m\u001b[36m\u001b[1mInfo: \u001b[22m\u001b[39mFold: 3\n"
     ]
    },
    {
     "data": {
      "text/plain": [
       "Results of univariate zero finding:\n",
       "\n",
       "* Converged to: 0.6868374999999999\n",
       "* Algorithm: Bisection()\n",
       "* iterations: 10\n",
       "* function evaluations ≈ 13\n",
       "\n",
       "Trace:\n",
       "(a₀, b₀) = ( 0.010306249999999999, 1 )\n",
       "(a₁, b₁) = ( 0.103725, 1 )\n",
       "(a₂, b₂) = ( 0.33244999999999997, 1 )\n",
       "(a₃, b₃) = ( 0.58244999999999991, 1 )\n",
       "(a₄, b₄) = ( 0.58244999999999991, 0.79122499999999996 )\n",
       "(a₅, b₅) = ( 0.68683749999999988, 0.79122499999999996 )\n",
       "(a₆, b₆) = ( 0.68683749999999988, 0.73903124999999992 )\n",
       "(a₇, b₇) = ( 0.68683749999999988, 0.7129343749999999 )\n",
       "(a₈, b₈) = ( 0.68683749999999988, 0.69988593749999983 )\n",
       "(a₉, b₉) = ( 0.68683749999999988, 0.69336171874999986 )\n",
       "(a₁₀, b₁₀) = ( 0.68683749999999988, 0.69009960937499981 )\n",
       "\n"
      ]
     },
     "metadata": {},
     "output_type": "display_data"
    },
    {
     "name": "stderr",
     "output_type": "stream",
     "text": [
      "\u001b[36m\u001b[1m[ \u001b[22m\u001b[39m\u001b[36m\u001b[1mInfo: \u001b[22m\u001b[39mTargeting ϕ=0.6868374999999999\n",
      "\u001b[32mProgress: 100%|█████████████████████████████████████████| Time: 0:00:45\u001b[39m\n",
      "\u001b[36m\u001b[1m[ \u001b[22m\u001b[39m\u001b[36m\u001b[1mInfo: \u001b[22m\u001b[39mϕ=1, PSIS\n",
      "\u001b[36m\u001b[1m[ \u001b[22m\u001b[39m\u001b[36m\u001b[1mInfo: \u001b[22m\u001b[39mFold: 4\n"
     ]
    },
    {
     "data": {
      "text/plain": [
       "Results of univariate zero finding:\n",
       "\n",
       "* Converged to: 0.30635312499999995\n",
       "* Algorithm: Bisection()\n",
       "* iterations: 10\n",
       "* function evaluations ≈ 13\n",
       "\n",
       "Trace:\n",
       "(a₀, b₀) = ( 0.010306249999999999, 1 )\n",
       "(a₁, b₁) = ( 0.103725, 1 )\n",
       "(a₂, b₂) = ( 0.103725, 0.33244999999999997 )\n",
       "(a₃, b₃) = ( 0.18683749999999999, 0.33244999999999997 )\n",
       "(a₄, b₄) = ( 0.23903124999999997, 0.33244999999999997 )\n",
       "(a₅, b₅) = ( 0.28025624999999993, 0.33244999999999997 )\n",
       "(a₆, b₆) = ( 0.28025624999999993, 0.30635312499999995 )\n",
       "(a₇, b₇) = ( 0.29330468749999994, 0.30635312499999995 )\n",
       "(a₈, b₈) = ( 0.29982890624999992, 0.30635312499999995 )\n",
       "(a₉, b₉) = ( 0.3030910156249999, 0.30635312499999995 )\n",
       "(a₁₀, b₁₀) = ( 0.30472207031249993, 0.30635312499999995 )\n",
       "\n"
      ]
     },
     "metadata": {},
     "output_type": "display_data"
    },
    {
     "name": "stderr",
     "output_type": "stream",
     "text": [
      "\u001b[36m\u001b[1m[ \u001b[22m\u001b[39m\u001b[36m\u001b[1mInfo: \u001b[22m\u001b[39mTargeting ϕ=0.30635312499999995\n",
      "\u001b[32mProgress: 100%|█████████████████████████████████████████| Time: 0:00:45\u001b[39m\n"
     ]
    },
    {
     "data": {
      "text/plain": [
       "Results of univariate zero finding:\n",
       "\n",
       "* Converged to: 0.5486564025878904\n",
       "* Algorithm: Bisection()\n",
       "* iterations: 10\n",
       "* function evaluations ≈ 13\n",
       "\n",
       "Trace:\n",
       "(a₀, b₀) = ( 0.30645312499999994, 0.55645312499999988 )\n",
       "(a₁, b₁) = ( 0.41733984374999994, 0.55645312499999988 )\n",
       "(a₂, b₂) = ( 0.47278320312499994, 0.55645312499999988 )\n",
       "(a₃, b₃) = ( 0.50100976562499988, 0.55645312499999988 )\n",
       "(a₄, b₄) = ( 0.52873144531249983, 0.55645312499999988 )\n",
       "(a₅, b₅) = ( 0.5425922851562498, 0.55645312499999988 )\n",
       "(a₆, b₆) = ( 0.5425922851562498, 0.54952270507812484 )\n",
       "(a₇, b₇) = ( 0.54605749511718726, 0.54952270507812484 )\n",
       "(a₈, b₈) = ( 0.54779010009765605, 0.54952270507812484 )\n",
       "(a₉, b₉) = ( 0.54779010009765605, 0.54865640258789039 )\n",
       "(a₁₀, b₁₀) = ( 0.54822325134277317, 0.54865640258789039 )\n",
       "\n"
      ]
     },
     "metadata": {},
     "output_type": "display_data"
    },
    {
     "name": "stderr",
     "output_type": "stream",
     "text": [
      "\u001b[36m\u001b[1m[ \u001b[22m\u001b[39m\u001b[36m\u001b[1mInfo: \u001b[22m\u001b[39mTargeting ϕ=0.5486564025878904\n",
      "\u001b[32mProgress: 100%|█████████████████████████████████████████| Time: 0:00:45\u001b[39m\n"
     ]
    },
    {
     "data": {
      "text/plain": [
       "Results of univariate zero finding:\n",
       "\n",
       "* Converged to: 0.7439721385776994\n",
       "* Algorithm: Bisection()\n",
       "* iterations: 10\n",
       "* function evaluations ≈ 13\n",
       "\n",
       "Trace:\n",
       "(a₀, b₀) = ( 0.54875640258789038, 0.77437820129394519 )\n",
       "(a₁, b₁) = ( 0.66156730194091773, 0.77437820129394519 )\n",
       "(a₂, b₂) = ( 0.71797275161743146, 0.77437820129394519 )\n",
       "(a₃, b₃) = ( 0.71797275161743146, 0.74617547645568827 )\n",
       "(a₄, b₄) = ( 0.73207411403655986, 0.74617547645568827 )\n",
       "(a₅, b₅) = ( 0.73912479524612407, 0.74617547645568827 )\n",
       "(a₆, b₆) = ( 0.74265013585090611, 0.74617547645568827 )\n",
       "(a₇, b₇) = ( 0.74265013585090611, 0.74441280615329719 )\n",
       "(a₈, b₈) = ( 0.7435314710021016, 0.74441280615329719 )\n",
       "(a₉, b₉) = ( 0.7435314710021016, 0.74397213857769939 )\n",
       "(a₁₀, b₁₀) = ( 0.74375180478990044, 0.74397213857769939 )\n",
       "\n"
      ]
     },
     "metadata": {},
     "output_type": "display_data"
    },
    {
     "name": "stderr",
     "output_type": "stream",
     "text": [
      "\u001b[36m\u001b[1m[ \u001b[22m\u001b[39m\u001b[36m\u001b[1mInfo: \u001b[22m\u001b[39mTargeting ϕ=0.7439721385776994\n",
      "\u001b[32mProgress: 100%|█████████████████████████████████████████| Time: 0:00:45\u001b[39m\n"
     ]
    },
    {
     "data": {
      "text/plain": [
       "Results of univariate zero finding:\n",
       "\n",
       "* Converged to: 0.8894061731646795\n",
       "* Algorithm: Bisection()\n",
       "* iterations: 10\n",
       "* function evaluations ≈ 13\n",
       "\n",
       "Trace:\n",
       "(a₀, b₀) = ( 0.87203606928884969, 1 )\n",
       "(a₁, b₁) = ( 0.87203606928884969, 0.93601803464442479 )\n",
       "(a₂, b₂) = ( 0.87203606928884969, 0.90402705196663724 )\n",
       "(a₃, b₃) = ( 0.88803156062774347, 0.90402705196663724 )\n",
       "(a₄, b₄) = ( 0.88803156062774347, 0.89602930629719035 )\n",
       "(a₅, b₅) = ( 0.88803156062774347, 0.89203043346246691 )\n",
       "(a₆, b₆) = ( 0.88803156062774347, 0.89003099704510513 )\n",
       "(a₇, b₇) = ( 0.8890312788364243, 0.89003099704510513 )\n",
       "(a₈, b₈) = ( 0.8890312788364243, 0.88953113794076466 )\n",
       "(a₉, b₉) = ( 0.88928120838859448, 0.88953113794076466 )\n",
       "(a₁₀, b₁₀) = ( 0.88928120838859448, 0.88940617316467951 )\n",
       "\n"
      ]
     },
     "metadata": {},
     "output_type": "display_data"
    },
    {
     "name": "stderr",
     "output_type": "stream",
     "text": [
      "\u001b[36m\u001b[1m[ \u001b[22m\u001b[39m\u001b[36m\u001b[1mInfo: \u001b[22m\u001b[39mTargeting ϕ=0.8894061731646795\n",
      "\u001b[32mProgress: 100%|█████████████████████████████████████████| Time: 0:00:46\u001b[39m\n",
      "\u001b[36m\u001b[1m[ \u001b[22m\u001b[39m\u001b[36m\u001b[1mInfo: \u001b[22m\u001b[39mϕ=1, PSIS\n",
      "\u001b[36m\u001b[1m[ \u001b[22m\u001b[39m\u001b[36m\u001b[1mInfo: \u001b[22m\u001b[39mFold: 5\n"
     ]
    },
    {
     "data": {
      "text/plain": [
       "Results of univariate zero finding:\n",
       "\n",
       "* Converged to: 0.6248574218749997\n",
       "* Algorithm: Bisection()\n",
       "* iterations: 10\n",
       "* function evaluations ≈ 13\n",
       "\n",
       "Trace:\n",
       "(a₀, b₀) = ( 0.010306249999999999, 1 )\n",
       "(a₁, b₁) = ( 0.103725, 1 )\n",
       "(a₂, b₂) = ( 0.33244999999999997, 1 )\n",
       "(a₃, b₃) = ( 0.58244999999999991, 1 )\n",
       "(a₄, b₄) = ( 0.58244999999999991, 0.79122499999999996 )\n",
       "(a₅, b₅) = ( 0.58244999999999991, 0.68683749999999988 )\n",
       "(a₆, b₆) = ( 0.58244999999999991, 0.63464374999999984 )\n",
       "(a₇, b₇) = ( 0.60854687499999982, 0.63464374999999984 )\n",
       "(a₈, b₈) = ( 0.62159531249999977, 0.63464374999999984 )\n",
       "(a₉, b₉) = ( 0.62159531249999977, 0.62811953124999975 )\n",
       "(a₁₀, b₁₀) = ( 0.62159531249999977, 0.62485742187499971 )\n",
       "\n"
      ]
     },
     "metadata": {},
     "output_type": "display_data"
    },
    {
     "name": "stderr",
     "output_type": "stream",
     "text": [
      "\u001b[36m\u001b[1m[ \u001b[22m\u001b[39m\u001b[36m\u001b[1mInfo: \u001b[22m\u001b[39mTargeting ϕ=0.6248574218749997\n",
      "\u001b[32mProgress: 100%|█████████████████████████████████████████| Time: 0:00:44\u001b[39m\n",
      "\u001b[36m\u001b[1m[ \u001b[22m\u001b[39m\u001b[36m\u001b[1mInfo: \u001b[22m\u001b[39mϕ=1, PSIS\n",
      "\u001b[36m\u001b[1m[ \u001b[22m\u001b[39m\u001b[36m\u001b[1mInfo: \u001b[22m\u001b[39mFold: 6\n"
     ]
    },
    {
     "data": {
      "text/plain": [
       "Results of univariate zero finding:\n",
       "\n",
       "* Converged to: 0.3128773437499999\n",
       "* Algorithm: Bisection()\n",
       "* iterations: 10\n",
       "* function evaluations ≈ 13\n",
       "\n",
       "Trace:\n",
       "(a₀, b₀) = ( 0.010306249999999999, 1 )\n",
       "(a₁, b₁) = ( 0.103725, 1 )\n",
       "(a₂, b₂) = ( 0.103725, 0.33244999999999997 )\n",
       "(a₃, b₃) = ( 0.18683749999999999, 0.33244999999999997 )\n",
       "(a₄, b₄) = ( 0.23903124999999997, 0.33244999999999997 )\n",
       "(a₅, b₅) = ( 0.28025624999999993, 0.33244999999999997 )\n",
       "(a₆, b₆) = ( 0.30635312499999995, 0.33244999999999997 )\n",
       "(a₇, b₇) = ( 0.30635312499999995, 0.31940156249999996 )\n",
       "(a₈, b₈) = ( 0.30635312499999995, 0.31287734374999993 )\n",
       "(a₉, b₉) = ( 0.30961523437499994, 0.31287734374999993 )\n",
       "(a₁₀, b₁₀) = ( 0.3112462890624999, 0.31287734374999993 )\n",
       "\n"
      ]
     },
     "metadata": {},
     "output_type": "display_data"
    },
    {
     "name": "stderr",
     "output_type": "stream",
     "text": [
      "\u001b[36m\u001b[1m[ \u001b[22m\u001b[39m\u001b[36m\u001b[1mInfo: \u001b[22m\u001b[39mTargeting ϕ=0.3128773437499999\n",
      "\u001b[32mProgress: 100%|█████████████████████████████████████████| Time: 0:00:45\u001b[39m\n"
     ]
    },
    {
     "data": {
      "text/plain": [
       "Results of univariate zero finding:\n",
       "\n",
       "* Converged to: 0.6124838165283201\n",
       "* Algorithm: Bisection()\n",
       "* iterations: 10\n",
       "* function evaluations ≈ 13\n",
       "\n",
       "Trace:\n",
       "(a₀, b₀) = ( 0.56297734374999986, 1 )\n",
       "(a₁, b₁) = ( 0.56297734374999986, 0.78148867187499993 )\n",
       "(a₂, b₂) = ( 0.56297734374999986, 0.67223300781249984 )\n",
       "(a₃, b₃) = ( 0.56297734374999986, 0.61760517578124985 )\n",
       "(a₄, b₄) = ( 0.5902912597656248, 0.61760517578124985 )\n",
       "(a₅, b₅) = ( 0.60394821777343732, 0.61760517578124985 )\n",
       "(a₆, b₆) = ( 0.61077669677734359, 0.61760517578124985 )\n",
       "(a₇, b₇) = ( 0.61077669677734359, 0.61419093627929666 )\n",
       "(a₈, b₈) = ( 0.61077669677734359, 0.61248381652832007 )\n",
       "(a₉, b₉) = ( 0.61163025665283177, 0.61248381652832007 )\n",
       "(a₁₀, b₁₀) = ( 0.61205703659057586, 0.61248381652832007 )\n",
       "\n"
      ]
     },
     "metadata": {},
     "output_type": "display_data"
    },
    {
     "name": "stderr",
     "output_type": "stream",
     "text": [
      "\u001b[36m\u001b[1m[ \u001b[22m\u001b[39m\u001b[36m\u001b[1mInfo: \u001b[22m\u001b[39mTargeting ϕ=0.6124838165283201\n",
      "\u001b[32mProgress: 100%|█████████████████████████████████████████| Time: 0:00:44\u001b[39m\n"
     ]
    },
    {
     "data": {
      "text/plain": [
       "Results of univariate zero finding:\n",
       "\n",
       "* Converged to: 0.8558539395481345\n",
       "* Algorithm: Bisection()\n",
       "* iterations: 10\n",
       "* function evaluations ≈ 13\n",
       "\n",
       "Trace:\n",
       "(a₀, b₀) = ( 0.80629190826415997, 1 )\n",
       "(a₁, b₁) = ( 0.80629190826415997, 0.90314595413207999 )\n",
       "(a₂, b₂) = ( 0.85471893119811992, 0.90314595413207999 )\n",
       "(a₃, b₃) = ( 0.85471893119811992, 0.87893244266509996 )\n",
       "(a₄, b₄) = ( 0.85471893119811992, 0.86682568693160988 )\n",
       "(a₅, b₅) = ( 0.85471893119811992, 0.8607723090648649 )\n",
       "(a₆, b₆) = ( 0.85471893119811992, 0.85774562013149236 )\n",
       "(a₇, b₇) = ( 0.85471893119811992, 0.85623227566480609 )\n",
       "(a₈, b₈) = ( 0.85547560343146301, 0.85623227566480609 )\n",
       "(a₉, b₉) = ( 0.85547560343146301, 0.85585393954813449 )\n",
       "(a₁₀, b₁₀) = ( 0.85566477148979869, 0.85585393954813449 )\n",
       "\n"
      ]
     },
     "metadata": {},
     "output_type": "display_data"
    },
    {
     "name": "stderr",
     "output_type": "stream",
     "text": [
      "\u001b[36m\u001b[1m[ \u001b[22m\u001b[39m\u001b[36m\u001b[1mInfo: \u001b[22m\u001b[39mTargeting ϕ=0.8558539395481345\n",
      "\u001b[32mProgress: 100%|█████████████████████████████████████████| Time: 0:00:44\u001b[39m\n",
      "\u001b[36m\u001b[1m[ \u001b[22m\u001b[39m\u001b[36m\u001b[1mInfo: \u001b[22m\u001b[39mϕ=1, PSIS\n",
      "\u001b[36m\u001b[1m[ \u001b[22m\u001b[39m\u001b[36m\u001b[1mInfo: \u001b[22m\u001b[39mFold: 7\n"
     ]
    },
    {
     "data": {
      "text/plain": [
       "Results of univariate zero finding:\n",
       "\n",
       "* Converged to: 0.5824499999999999\n",
       "* Algorithm: Bisection()\n",
       "* iterations: 10\n",
       "* function evaluations ≈ 13\n",
       "\n",
       "Trace:\n",
       "(a₀, b₀) = ( 0.010306249999999999, 1 )\n",
       "(a₁, b₁) = ( 0.103725, 1 )\n",
       "(a₂, b₂) = ( 0.33244999999999997, 1 )\n",
       "(a₃, b₃) = ( 0.33244999999999997, 0.58244999999999991 )\n",
       "(a₄, b₄) = ( 0.43683749999999993, 0.58244999999999991 )\n",
       "(a₅, b₅) = ( 0.48903124999999992, 0.58244999999999991 )\n",
       "(a₆, b₆) = ( 0.53025624999999987, 0.58244999999999991 )\n",
       "(a₇, b₇) = ( 0.55635312499999989, 0.58244999999999991 )\n",
       "(a₈, b₈) = ( 0.56940156249999985, 0.58244999999999991 )\n",
       "(a₉, b₉) = ( 0.57592578124999982, 0.58244999999999991 )\n",
       "(a₁₀, b₁₀) = ( 0.57918789062499987, 0.58244999999999991 )\n",
       "\n"
      ]
     },
     "metadata": {},
     "output_type": "display_data"
    },
    {
     "name": "stderr",
     "output_type": "stream",
     "text": [
      "\u001b[36m\u001b[1m[ \u001b[22m\u001b[39m\u001b[36m\u001b[1mInfo: \u001b[22m\u001b[39mTargeting ϕ=0.5824499999999999\n",
      "\u001b[32mProgress: 100%|█████████████████████████████████████████| Time: 0:00:45\u001b[39m\n",
      "\u001b[36m\u001b[1m[ \u001b[22m\u001b[39m\u001b[36m\u001b[1mInfo: \u001b[22m\u001b[39mϕ=1, PSIS\n",
      "\u001b[36m\u001b[1m[ \u001b[22m\u001b[39m\u001b[36m\u001b[1mInfo: \u001b[22m\u001b[39mFold: 8\n"
     ]
    },
    {
     "data": {
      "text/plain": [
       "Results of univariate zero finding:\n",
       "\n",
       "* Converged to: 0.7357691406249999\n",
       "* Algorithm: Bisection()\n",
       "* iterations: 10\n",
       "* function evaluations ≈ 13\n",
       "\n",
       "Trace:\n",
       "(a₀, b₀) = ( 0.010306249999999999, 1 )\n",
       "(a₁, b₁) = ( 0.103725, 1 )\n",
       "(a₂, b₂) = ( 0.33244999999999997, 1 )\n",
       "(a₃, b₃) = ( 0.58244999999999991, 1 )\n",
       "(a₄, b₄) = ( 0.58244999999999991, 0.79122499999999996 )\n",
       "(a₅, b₅) = ( 0.68683749999999988, 0.79122499999999996 )\n",
       "(a₆, b₆) = ( 0.68683749999999988, 0.73903124999999992 )\n",
       "(a₇, b₇) = ( 0.7129343749999999, 0.73903124999999992 )\n",
       "(a₈, b₈) = ( 0.72598281249999985, 0.73903124999999992 )\n",
       "(a₉, b₉) = ( 0.73250703124999983, 0.73903124999999992 )\n",
       "(a₁₀, b₁₀) = ( 0.73576914062499987, 0.73903124999999992 )\n",
       "\n"
      ]
     },
     "metadata": {},
     "output_type": "display_data"
    },
    {
     "name": "stderr",
     "output_type": "stream",
     "text": [
      "\u001b[36m\u001b[1m[ \u001b[22m\u001b[39m\u001b[36m\u001b[1mInfo: \u001b[22m\u001b[39mTargeting ϕ=0.7357691406249999\n",
      "\u001b[32mProgress: 100%|█████████████████████████████████████████| Time: 0:00:44\u001b[39m\n",
      "\u001b[36m\u001b[1m[ \u001b[22m\u001b[39m\u001b[36m\u001b[1mInfo: \u001b[22m\u001b[39mϕ=1, PSIS\n",
      "\u001b[36m\u001b[1m[ \u001b[22m\u001b[39m\u001b[36m\u001b[1mInfo: \u001b[22m\u001b[39mFold: 9\n"
     ]
    },
    {
     "data": {
      "text/plain": [
       "Results of univariate zero finding:\n",
       "\n",
       "* Converged to: 0.2835183593749999\n",
       "* Algorithm: Bisection()\n",
       "* iterations: 10\n",
       "* function evaluations ≈ 13\n",
       "\n",
       "Trace:\n",
       "(a₀, b₀) = ( 0.010306249999999999, 1 )\n",
       "(a₁, b₁) = ( 0.103725, 1 )\n",
       "(a₂, b₂) = ( 0.103725, 0.33244999999999997 )\n",
       "(a₃, b₃) = ( 0.18683749999999999, 0.33244999999999997 )\n",
       "(a₄, b₄) = ( 0.23903124999999997, 0.33244999999999997 )\n",
       "(a₅, b₅) = ( 0.28025624999999993, 0.33244999999999997 )\n",
       "(a₆, b₆) = ( 0.28025624999999993, 0.30635312499999995 )\n",
       "(a₇, b₇) = ( 0.28025624999999993, 0.29330468749999994 )\n",
       "(a₈, b₈) = ( 0.28025624999999993, 0.28678046874999991 )\n",
       "(a₉, b₉) = ( 0.28025624999999993, 0.28351835937499992 )\n",
       "(a₁₀, b₁₀) = ( 0.2818873046874999, 0.28351835937499992 )\n",
       "\n"
      ]
     },
     "metadata": {},
     "output_type": "display_data"
    },
    {
     "name": "stderr",
     "output_type": "stream",
     "text": [
      "\u001b[36m\u001b[1m[ \u001b[22m\u001b[39m\u001b[36m\u001b[1mInfo: \u001b[22m\u001b[39mTargeting ϕ=0.2835183593749999\n",
      "\u001b[32mProgress: 100%|█████████████████████████████████████████| Time: 0:00:44\u001b[39m\n"
     ]
    },
    {
     "data": {
      "text/plain": [
       "Results of univariate zero finding:\n",
       "\n",
       "* Converged to: 0.5308856544494628\n",
       "* Algorithm: Bisection()\n",
       "* iterations: 10\n",
       "* function evaluations ≈ 13\n",
       "\n",
       "Trace:\n",
       "(a₀, b₀) = ( 0.28361835937499991, 0.53361835937499991 )\n",
       "(a₁, b₁) = ( 0.40021376953124993, 0.53361835937499991 )\n",
       "(a₂, b₂) = ( 0.45851147460937491, 0.53361835937499991 )\n",
       "(a₃, b₃) = ( 0.48766032714843743, 0.53361835937499991 )\n",
       "(a₄, b₄) = ( 0.50446950683593739, 0.53361835937499991 )\n",
       "(a₅, b₅) = ( 0.51904393310546859, 0.53361835937499991 )\n",
       "(a₆, b₆) = ( 0.52633114624023425, 0.53361835937499991 )\n",
       "(a₇, b₇) = ( 0.52997475280761708, 0.53361835937499991 )\n",
       "(a₈, b₈) = ( 0.52997475280761708, 0.53179655609130849 )\n",
       "(a₉, b₉) = ( 0.53088565444946278, 0.53179655609130849 )\n",
       "(a₁₀, b₁₀) = ( 0.53088565444946278, 0.53134110527038558 )\n",
       "\n"
      ]
     },
     "metadata": {},
     "output_type": "display_data"
    },
    {
     "name": "stderr",
     "output_type": "stream",
     "text": [
      "\u001b[36m\u001b[1m[ \u001b[22m\u001b[39m\u001b[36m\u001b[1mInfo: \u001b[22m\u001b[39mTargeting ϕ=0.5308856544494628\n",
      "\u001b[32mProgress: 100%|█████████████████████████████████████████| Time: 0:00:45\u001b[39m\n"
     ]
    },
    {
     "data": {
      "text/plain": [
       "Results of univariate zero finding:\n",
       "\n",
       "* Converged to: 0.7215227323293685\n",
       "* Algorithm: Bisection()\n",
       "* iterations: 10\n",
       "* function evaluations ≈ 13\n",
       "\n",
       "Trace:\n",
       "(a₀, b₀) = ( 0.53098565444946277, 0.76549282722473133 )\n",
       "(a₁, b₁) = ( 0.64823924083709705, 0.76549282722473133 )\n",
       "(a₂, b₂) = ( 0.70686603403091419, 0.76549282722473133 )\n",
       "(a₃, b₃) = ( 0.70686603403091419, 0.73617943062782276 )\n",
       "(a₄, b₄) = ( 0.70686603403091419, 0.72152273232936848 )\n",
       "(a₅, b₅) = ( 0.71419438318014128, 0.72152273232936848 )\n",
       "(a₆, b₆) = ( 0.71785855775475482, 0.72152273232936848 )\n",
       "(a₇, b₇) = ( 0.71969064504206159, 0.72152273232936848 )\n",
       "(a₈, b₈) = ( 0.72060668868571498, 0.72152273232936848 )\n",
       "(a₉, b₉) = ( 0.72106471050754173, 0.72152273232936848 )\n",
       "(a₁₀, b₁₀) = ( 0.72129372141845505, 0.72152273232936848 )\n",
       "\n"
      ]
     },
     "metadata": {},
     "output_type": "display_data"
    },
    {
     "name": "stderr",
     "output_type": "stream",
     "text": [
      "\u001b[36m\u001b[1m[ \u001b[22m\u001b[39m\u001b[36m\u001b[1mInfo: \u001b[22m\u001b[39mTargeting ϕ=0.7215227323293685\n",
      "\u001b[32mProgress: 100%|█████████████████████████████████████████| Time: 0:00:44\u001b[39m\n"
     ]
    },
    {
     "data": {
      "text/plain": [
       "Results of univariate zero finding:\n",
       "\n",
       "* Converged to: 0.8748117853883536\n",
       "* Algorithm: Bisection()\n",
       "* iterations: 10\n",
       "* function evaluations ≈ 13\n",
       "\n",
       "Trace:\n",
       "(a₀, b₀) = ( 0.86081136616468423, 1 )\n",
       "(a₁, b₁) = ( 0.86081136616468423, 0.93040568308234206 )\n",
       "(a₂, b₂) = ( 0.86081136616468423, 0.89560852462351315 )\n",
       "(a₃, b₃) = ( 0.86081136616468423, 0.87820994539409869 )\n",
       "(a₄, b₄) = ( 0.86951065577939146, 0.87820994539409869 )\n",
       "(a₅, b₅) = ( 0.87386030058674502, 0.87820994539409869 )\n",
       "(a₆, b₆) = ( 0.87386030058674502, 0.87603512299042186 )\n",
       "(a₇, b₇) = ( 0.87386030058674502, 0.87494771178858344 )\n",
       "(a₈, b₈) = ( 0.87440400618766423, 0.87494771178858344 )\n",
       "(a₉, b₉) = ( 0.87467585898812383, 0.87494771178858344 )\n",
       "(a₁₀, b₁₀) = ( 0.87467585898812383, 0.87481178538835358 )\n",
       "\n"
      ]
     },
     "metadata": {},
     "output_type": "display_data"
    },
    {
     "name": "stderr",
     "output_type": "stream",
     "text": [
      "\u001b[36m\u001b[1m[ \u001b[22m\u001b[39m\u001b[36m\u001b[1mInfo: \u001b[22m\u001b[39mTargeting ϕ=0.8748117853883536\n",
      "\u001b[32mProgress: 100%|█████████████████████████████████████████| Time: 0:00:44\u001b[39m\n"
     ]
    },
    {
     "data": {
      "text/plain": [
       "Results of univariate zero finding:\n",
       "\n",
       "* Converged to: 0.9888837621780664\n",
       "* Algorithm: Bisection()\n",
       "* iterations: 10\n",
       "* function evaluations ≈ 13\n",
       "\n",
       "Trace:\n",
       "(a₀, b₀) = ( 0.93745589269417673, 1 )\n",
       "(a₁, b₁) = ( 0.96872794634708836, 1 )\n",
       "(a₂, b₂) = ( 0.98436397317354418, 1 )\n",
       "(a₃, b₃) = ( 0.98436397317354418, 0.99218198658677204 )\n",
       "(a₄, b₄) = ( 0.98827297988015805, 0.99218198658677204 )\n",
       "(a₅, b₅) = ( 0.98827297988015805, 0.99022748323346499 )\n",
       "(a₆, b₆) = ( 0.98827297988015805, 0.98925023155681147 )\n",
       "(a₇, b₇) = ( 0.9887616057184847, 0.98925023155681147 )\n",
       "(a₈, b₈) = ( 0.9887616057184847, 0.98900591863764808 )\n",
       "(a₉, b₉) = ( 0.98888376217806639, 0.98900591863764808 )\n",
       "(a₁₀, b₁₀) = ( 0.98888376217806639, 0.98894484040785724 )\n",
       "\n"
      ]
     },
     "metadata": {},
     "output_type": "display_data"
    },
    {
     "name": "stderr",
     "output_type": "stream",
     "text": [
      "\u001b[36m\u001b[1m[ \u001b[22m\u001b[39m\u001b[36m\u001b[1mInfo: \u001b[22m\u001b[39mTargeting ϕ=0.9888837621780664\n",
      "\u001b[32mProgress: 100%|█████████████████████████████████████████| Time: 0:00:45\u001b[39m\n",
      "\u001b[36m\u001b[1m[ \u001b[22m\u001b[39m\u001b[36m\u001b[1mInfo: \u001b[22m\u001b[39mϕ=1, PSIS\n",
      "\u001b[36m\u001b[1m[ \u001b[22m\u001b[39m\u001b[36m\u001b[1mInfo: \u001b[22m\u001b[39mFold: 10\n"
     ]
    },
    {
     "data": {
      "text/plain": [
       "Results of univariate zero finding:\n",
       "\n",
       "* Converged to: 0.31777050781249994\n",
       "* Algorithm: Bisection()\n",
       "* iterations: 10\n",
       "* function evaluations ≈ 13\n",
       "\n",
       "Trace:\n",
       "(a₀, b₀) = ( 0.010306249999999999, 1 )\n",
       "(a₁, b₁) = ( 0.103725, 1 )\n",
       "(a₂, b₂) = ( 0.103725, 0.33244999999999997 )\n",
       "(a₃, b₃) = ( 0.18683749999999999, 0.33244999999999997 )\n",
       "(a₄, b₄) = ( 0.23903124999999997, 0.33244999999999997 )\n",
       "(a₅, b₅) = ( 0.28025624999999993, 0.33244999999999997 )\n",
       "(a₆, b₆) = ( 0.30635312499999995, 0.33244999999999997 )\n",
       "(a₇, b₇) = ( 0.30635312499999995, 0.31940156249999996 )\n",
       "(a₈, b₈) = ( 0.31287734374999993, 0.31940156249999996 )\n",
       "(a₉, b₉) = ( 0.31613945312499991, 0.31940156249999996 )\n",
       "(a₁₀, b₁₀) = ( 0.31613945312499991, 0.31777050781249994 )\n",
       "\n"
      ]
     },
     "metadata": {},
     "output_type": "display_data"
    },
    {
     "name": "stderr",
     "output_type": "stream",
     "text": [
      "\u001b[36m\u001b[1m[ \u001b[22m\u001b[39m\u001b[36m\u001b[1mInfo: \u001b[22m\u001b[39mTargeting ϕ=0.31777050781249994\n",
      "\u001b[32mProgress: 100%|█████████████████████████████████████████| Time: 0:00:44\u001b[39m\n"
     ]
    },
    {
     "data": {
      "text/plain": [
       "Results of univariate zero finding:\n",
       "\n",
       "* Converged to: 0.583484561729431\n",
       "* Algorithm: Bisection()\n",
       "* iterations: 10\n",
       "* function evaluations ≈ 13\n",
       "\n",
       "Trace:\n",
       "(a₀, b₀) = ( 0.56787050781249993, 1 )\n",
       "(a₁, b₁) = ( 0.56787050781249993, 0.78393525390624996 )\n",
       "(a₂, b₂) = ( 0.56787050781249993, 0.67590288085937489 )\n",
       "(a₃, b₃) = ( 0.56787050781249993, 0.62188669433593735 )\n",
       "(a₄, b₄) = ( 0.56787050781249993, 0.59487860107421864 )\n",
       "(a₅, b₅) = ( 0.58137455444335928, 0.59487860107421864 )\n",
       "(a₆, b₆) = ( 0.58137455444335928, 0.58812657775878896 )\n",
       "(a₇, b₇) = ( 0.58137455444335928, 0.58475056610107412 )\n",
       "(a₈, b₈) = ( 0.5830625602722167, 0.58475056610107412 )\n",
       "(a₉, b₉) = ( 0.5830625602722167, 0.58390656318664536 )\n",
       "(a₁₀, b₁₀) = ( 0.5830625602722167, 0.58348456172943097 )\n",
       "\n"
      ]
     },
     "metadata": {},
     "output_type": "display_data"
    },
    {
     "name": "stderr",
     "output_type": "stream",
     "text": [
      "\u001b[36m\u001b[1m[ \u001b[22m\u001b[39m\u001b[36m\u001b[1mInfo: \u001b[22m\u001b[39mTargeting ϕ=0.583484561729431\n",
      "\u001b[32mProgress: 100%|█████████████████████████████████████████| Time: 0:00:45\u001b[39m\n"
     ]
    },
    {
     "data": {
      "text/plain": [
       "Results of univariate zero finding:\n",
       "\n",
       "* Converged to: 0.790165658058971\n",
       "* Algorithm: Bisection()\n",
       "* iterations: 10\n",
       "* function evaluations ≈ 13\n",
       "\n",
       "Trace:\n",
       "(a₀, b₀) = ( 0.58358456172943096, 0.79179228086471543 )\n",
       "(a₁, b₁) = ( 0.68768842129707319, 0.79179228086471543 )\n",
       "(a₂, b₂) = ( 0.73974035108089431, 0.79179228086471543 )\n",
       "(a₃, b₃) = ( 0.76576631597280487, 0.79179228086471543 )\n",
       "(a₄, b₄) = ( 0.77877929841876015, 0.79179228086471543 )\n",
       "(a₅, b₅) = ( 0.78528578964173779, 0.79179228086471543 )\n",
       "(a₆, b₆) = ( 0.78853903525322655, 0.79179228086471543 )\n",
       "(a₇, b₇) = ( 0.79016565805897099, 0.79179228086471543 )\n",
       "(a₈, b₈) = ( 0.79016565805897099, 0.79097896946184321 )\n",
       "(a₉, b₉) = ( 0.79016565805897099, 0.79057231376040704 )\n",
       "(a₁₀, b₁₀) = ( 0.79016565805897099, 0.79036898590968896 )\n",
       "\n"
      ]
     },
     "metadata": {},
     "output_type": "display_data"
    },
    {
     "name": "stderr",
     "output_type": "stream",
     "text": [
      "\u001b[36m\u001b[1m[ \u001b[22m\u001b[39m\u001b[36m\u001b[1mInfo: \u001b[22m\u001b[39mTargeting ϕ=0.790165658058971\n",
      "\u001b[32mProgress: 100%|█████████████████████████████████████████| Time: 0:00:45\u001b[39m\n"
     ]
    },
    {
     "data": {
      "text/plain": [
       "Results of univariate zero finding:\n",
       "\n",
       "* Converged to: 0.9523796538073346\n",
       "* Algorithm: Bisection()\n",
       "* iterations: 10\n",
       "* function evaluations ≈ 13\n",
       "\n",
       "Trace:\n",
       "(a₀, b₀) = ( 0.89513282902948543, 1 )\n",
       "(a₁, b₁) = ( 0.94756641451474266, 1 )\n",
       "(a₂, b₂) = ( 0.94756641451474266, 0.97378320725737133 )\n",
       "(a₃, b₃) = ( 0.94756641451474266, 0.960674810886057 )\n",
       "(a₄, b₄) = ( 0.94756641451474266, 0.95412061270039983 )\n",
       "(a₅, b₅) = ( 0.95084351360757124, 0.95412061270039983 )\n",
       "(a₆, b₆) = ( 0.95084351360757124, 0.95248206315398554 )\n",
       "(a₇, b₇) = ( 0.95166278838077834, 0.95248206315398554 )\n",
       "(a₈, b₈) = ( 0.95207242576738194, 0.95248206315398554 )\n",
       "(a₉, b₉) = ( 0.95227724446068374, 0.95248206315398554 )\n",
       "(a₁₀, b₁₀) = ( 0.95227724446068374, 0.95237965380733458 )\n",
       "\n"
      ]
     },
     "metadata": {},
     "output_type": "display_data"
    },
    {
     "name": "stderr",
     "output_type": "stream",
     "text": [
      "\u001b[36m\u001b[1m[ \u001b[22m\u001b[39m\u001b[36m\u001b[1mInfo: \u001b[22m\u001b[39mTargeting ϕ=0.9523796538073346\n",
      "\u001b[32mProgress: 100%|█████████████████████████████████████████| Time: 0:00:45\u001b[39m\n",
      "\u001b[36m\u001b[1m[ \u001b[22m\u001b[39m\u001b[36m\u001b[1mInfo: \u001b[22m\u001b[39mϕ=1, PSIS\n"
     ]
    }
   ],
   "source": [
    "Random.seed!(1)\n",
    "RUN_aSMC && run(chain, SMCS_M5; k̂_threshold=0.5, save_bool=true)"
   ]
  },
  {
   "cell_type": "code",
   "execution_count": 36,
   "id": "d5d22145-c0b4-43fd-a00c-e1788366718c",
   "metadata": {
    "scrolled": true
   },
   "outputs": [
    {
     "name": "stderr",
     "output_type": "stream",
     "text": [
      "\u001b[36m\u001b[1m[ \u001b[22m\u001b[39m\u001b[36m\u001b[1mInfo: \u001b[22m\u001b[39mFold: 1\n"
     ]
    },
    {
     "data": {
      "text/plain": [
       "Results of univariate zero finding:\n",
       "\n",
       "* Converged to: 0.2769941406249999\n",
       "* Algorithm: Bisection()\n",
       "* iterations: 10\n",
       "* function evaluations ≈ 13\n",
       "\n",
       "Trace:\n",
       "(a₀, b₀) = ( 0.010306249999999999, 1 )\n",
       "(a₁, b₁) = ( 0.103725, 1 )\n",
       "(a₂, b₂) = ( 0.103725, 0.33244999999999997 )\n",
       "(a₃, b₃) = ( 0.18683749999999999, 0.33244999999999997 )\n",
       "(a₄, b₄) = ( 0.23903124999999997, 0.33244999999999997 )\n",
       "(a₅, b₅) = ( 0.23903124999999997, 0.28025624999999993 )\n",
       "(a₆, b₆) = ( 0.25415937499999991, 0.28025624999999993 )\n",
       "(a₇, b₇) = ( 0.26720781249999992, 0.28025624999999993 )\n",
       "(a₈, b₈) = ( 0.2737320312499999, 0.28025624999999993 )\n",
       "(a₉, b₉) = ( 0.2737320312499999, 0.27699414062499988 )\n",
       "(a₁₀, b₁₀) = ( 0.27536308593749986, 0.27699414062499988 )\n",
       "\n"
      ]
     },
     "metadata": {},
     "output_type": "display_data"
    },
    {
     "name": "stderr",
     "output_type": "stream",
     "text": [
      "\u001b[36m\u001b[1m[ \u001b[22m\u001b[39m\u001b[36m\u001b[1mInfo: \u001b[22m\u001b[39mTargeting ϕ=0.2769941406249999\n",
      "\u001b[32mProgress: 100%|█████████████████████████████████████████| Time: 0:00:45\u001b[39m\n"
     ]
    },
    {
     "data": {
      "text/plain": [
       "Results of univariate zero finding:\n",
       "\n",
       "* Converged to: 0.4703667013168333\n",
       "* Algorithm: Bisection()\n",
       "* iterations: 10\n",
       "* function evaluations ≈ 13\n",
       "\n",
       "Trace:\n",
       "(a₀, b₀) = ( 0.27709414062499987, 0.52709414062499982 )\n",
       "(a₁, b₁) = ( 0.39532060546874986, 0.52709414062499982 )\n",
       "(a₂, b₂) = ( 0.45443383789062486, 0.52709414062499982 )\n",
       "(a₃, b₃) = ( 0.45443383789062486, 0.48399045410156238 )\n",
       "(a₄, b₄) = ( 0.46921214599609362, 0.48399045410156238 )\n",
       "(a₅, b₅) = ( 0.46921214599609362, 0.476601300048828 )\n",
       "(a₆, b₆) = ( 0.46921214599609362, 0.47290672302246078 )\n",
       "(a₇, b₇) = ( 0.46921214599609362, 0.47105943450927718 )\n",
       "(a₈, b₈) = ( 0.47013579025268537, 0.47105943450927718 )\n",
       "(a₉, b₉) = ( 0.47013579025268537, 0.47059761238098125 )\n",
       "(a₁₀, b₁₀) = ( 0.47013579025268537, 0.47036670131683328 )\n",
       "\n"
      ]
     },
     "metadata": {},
     "output_type": "display_data"
    },
    {
     "name": "stderr",
     "output_type": "stream",
     "text": [
      "\u001b[36m\u001b[1m[ \u001b[22m\u001b[39m\u001b[36m\u001b[1mInfo: \u001b[22m\u001b[39mTargeting ϕ=0.4703667013168333\n",
      "\u001b[32mProgress: 100%|█████████████████████████████████████████| Time: 0:00:45\u001b[39m\n"
     ]
    },
    {
     "data": {
      "text/plain": [
       "Results of univariate zero finding:\n",
       "\n",
       "* Converged to: 0.6429398880101735\n",
       "* Algorithm: Bisection()\n",
       "* iterations: 10\n",
       "* function evaluations ≈ 13\n",
       "\n",
       "Trace:\n",
       "(a₀, b₀) = ( 0.47046670131683327, 0.72046670131683321 )\n",
       "(a₁, b₁) = ( 0.58070005197524988, 0.72046670131683321 )\n",
       "(a₂, b₂) = ( 0.58070005197524988, 0.65058337664604149 )\n",
       "(a₃, b₃) = ( 0.61564171431064563, 0.65058337664604149 )\n",
       "(a₄, b₄) = ( 0.6331125454783435, 0.65058337664604149 )\n",
       "(a₅, b₅) = ( 0.64184796106219244, 0.65058337664604149 )\n",
       "(a₆, b₆) = ( 0.64184796106219244, 0.64621566885411696 )\n",
       "(a₇, b₇) = ( 0.64184796106219244, 0.64403181495815465 )\n",
       "(a₈, b₈) = ( 0.64184796106219244, 0.64293988801017354 )\n",
       "(a₉, b₉) = ( 0.64239392453618294, 0.64293988801017354 )\n",
       "(a₁₀, b₁₀) = ( 0.64266690627317824, 0.64293988801017354 )\n",
       "\n"
      ]
     },
     "metadata": {},
     "output_type": "display_data"
    },
    {
     "name": "stderr",
     "output_type": "stream",
     "text": [
      "\u001b[36m\u001b[1m[ \u001b[22m\u001b[39m\u001b[36m\u001b[1mInfo: \u001b[22m\u001b[39mTargeting ϕ=0.6429398880101735\n",
      "\u001b[32mProgress: 100%|█████████████████████████████████████████| Time: 0:00:45\u001b[39m\n"
     ]
    },
    {
     "data": {
      "text/plain": [
       "Results of univariate zero finding:\n",
       "\n",
       "* Converged to: 0.7746340699204853\n",
       "* Algorithm: Bisection()\n",
       "* iterations: 10\n",
       "* function evaluations ≈ 13\n",
       "\n",
       "Trace:\n",
       "(a₀, b₀) = ( 0.64303988801017353, 0.82151994400508677 )\n",
       "(a₁, b₁) = ( 0.73227991600763009, 0.82151994400508677 )\n",
       "(a₂, b₂) = ( 0.73227991600763009, 0.77689993000635837 )\n",
       "(a₃, b₃) = ( 0.75458992300699423, 0.77689993000635837 )\n",
       "(a₄, b₄) = ( 0.76574492650667625, 0.77689993000635837 )\n",
       "(a₅, b₅) = ( 0.77132242825651731, 0.77689993000635837 )\n",
       "(a₆, b₆) = ( 0.77411117913143779, 0.77689993000635837 )\n",
       "(a₇, b₇) = ( 0.77411117913143779, 0.77550555456889803 )\n",
       "(a₈, b₈) = ( 0.77411117913143779, 0.77480836685016785 )\n",
       "(a₉, b₉) = ( 0.77445977299080282, 0.77480836685016785 )\n",
       "(a₁₀, b₁₀) = ( 0.77445977299080282, 0.77463406992048534 )\n",
       "\n"
      ]
     },
     "metadata": {},
     "output_type": "display_data"
    },
    {
     "name": "stderr",
     "output_type": "stream",
     "text": [
      "\u001b[36m\u001b[1m[ \u001b[22m\u001b[39m\u001b[36m\u001b[1mInfo: \u001b[22m\u001b[39mTargeting ϕ=0.7746340699204853\n",
      "\u001b[32mProgress: 100%|█████████████████████████████████████████| Time: 0:00:45\u001b[39m\n"
     ]
    },
    {
     "data": {
      "text/plain": [
       "Results of univariate zero finding:\n",
       "\n",
       "* Converged to: 0.8729579349405079\n",
       "* Algorithm: Bisection()\n",
       "* iterations: 10\n",
       "* function evaluations ≈ 13\n",
       "\n",
       "Trace:\n",
       "(a₀, b₀) = ( 0.77473406992048532, 0.88736703496024261 )\n",
       "(a₁, b₁) = ( 0.83105055244036397, 0.88736703496024261 )\n",
       "(a₂, b₂) = ( 0.85920879370030323, 0.88736703496024261 )\n",
       "(a₃, b₃) = ( 0.85920879370030323, 0.87328791433027286 )\n",
       "(a₄, b₄) = ( 0.86624835401528799, 0.87328791433027286 )\n",
       "(a₅, b₅) = ( 0.86976813417278043, 0.87328791433027286 )\n",
       "(a₆, b₆) = ( 0.87152802425152665, 0.87328791433027286 )\n",
       "(a₇, b₇) = ( 0.8724079692908997, 0.87328791433027286 )\n",
       "(a₈, b₈) = ( 0.87284794181058623, 0.87328791433027286 )\n",
       "(a₉, b₉) = ( 0.87284794181058623, 0.87306792807042954 )\n",
       "(a₁₀, b₁₀) = ( 0.87295793494050788, 0.87306792807042954 )\n",
       "\n"
      ]
     },
     "metadata": {},
     "output_type": "display_data"
    },
    {
     "name": "stderr",
     "output_type": "stream",
     "text": [
      "\u001b[36m\u001b[1m[ \u001b[22m\u001b[39m\u001b[36m\u001b[1mInfo: \u001b[22m\u001b[39mTargeting ϕ=0.8729579349405079\n",
      "\u001b[32mProgress: 100%|█████████████████████████████████████████| Time: 0:00:45\u001b[39m\n"
     ]
    },
    {
     "data": {
      "text/plain": [
       "Results of univariate zero finding:\n",
       "\n",
       "* Converged to: 0.953946311357811\n",
       "* Algorithm: Bisection()\n",
       "* iterations: 10\n",
       "* function evaluations ≈ 13\n",
       "\n",
       "Trace:\n",
       "(a₀, b₀) = ( 0.93652896747025394, 1 )\n",
       "(a₁, b₁) = ( 0.93652896747025394, 0.96826448373512697 )\n",
       "(a₂, b₂) = ( 0.9523967256026904, 0.96826448373512697 )\n",
       "(a₃, b₃) = ( 0.9523967256026904, 0.96033060466890863 )\n",
       "(a₄, b₄) = ( 0.9523967256026904, 0.95636366513579951 )\n",
       "(a₅, b₅) = ( 0.9523967256026904, 0.9543801953692449 )\n",
       "(a₆, b₆) = ( 0.95338846048596759, 0.9543801953692449 )\n",
       "(a₇, b₇) = ( 0.95388432792760625, 0.9543801953692449 )\n",
       "(a₈, b₈) = ( 0.95388432792760625, 0.95413226164842557 )\n",
       "(a₉, b₉) = ( 0.95388432792760625, 0.95400829478801585 )\n",
       "(a₁₀, b₁₀) = ( 0.95388432792760625, 0.95394631135781105 )\n",
       "\n"
      ]
     },
     "metadata": {},
     "output_type": "display_data"
    },
    {
     "name": "stderr",
     "output_type": "stream",
     "text": [
      "\u001b[36m\u001b[1m[ \u001b[22m\u001b[39m\u001b[36m\u001b[1mInfo: \u001b[22m\u001b[39mTargeting ϕ=0.953946311357811\n",
      "\u001b[32mProgress: 100%|█████████████████████████████████████████| Time: 0:00:46\u001b[39m\n",
      "\u001b[36m\u001b[1m[ \u001b[22m\u001b[39m\u001b[36m\u001b[1mInfo: \u001b[22m\u001b[39mϕ=1, MCMC\n",
      "\u001b[32mProgress: 100%|█████████████████████████████████████████| Time: 0:00:48\u001b[39m\n",
      "\u001b[36m\u001b[1m[ \u001b[22m\u001b[39m\u001b[36m\u001b[1mInfo: \u001b[22m\u001b[39mFold: 2\n"
     ]
    },
    {
     "data": {
      "text/plain": [
       "Results of univariate zero finding:\n",
       "\n",
       "* Converged to: 0.3960611328124999\n",
       "* Algorithm: Bisection()\n",
       "* iterations: 10\n",
       "* function evaluations ≈ 13\n",
       "\n",
       "Trace:\n",
       "(a₀, b₀) = ( 0.010306249999999999, 1 )\n",
       "(a₁, b₁) = ( 0.103725, 1 )\n",
       "(a₂, b₂) = ( 0.33244999999999997, 1 )\n",
       "(a₃, b₃) = ( 0.33244999999999997, 0.58244999999999991 )\n",
       "(a₄, b₄) = ( 0.33244999999999997, 0.43683749999999993 )\n",
       "(a₅, b₅) = ( 0.38464374999999995, 0.43683749999999993 )\n",
       "(a₆, b₆) = ( 0.38464374999999995, 0.41074062499999991 )\n",
       "(a₇, b₇) = ( 0.38464374999999995, 0.39769218749999991 )\n",
       "(a₈, b₈) = ( 0.39116796874999993, 0.39769218749999991 )\n",
       "(a₉, b₉) = ( 0.39443007812499992, 0.39769218749999991 )\n",
       "(a₁₀, b₁₀) = ( 0.39443007812499992, 0.39606113281249988 )\n",
       "\n"
      ]
     },
     "metadata": {},
     "output_type": "display_data"
    },
    {
     "name": "stderr",
     "output_type": "stream",
     "text": [
      "\u001b[36m\u001b[1m[ \u001b[22m\u001b[39m\u001b[36m\u001b[1mInfo: \u001b[22m\u001b[39mTargeting ϕ=0.3960611328124999\n",
      "\u001b[32mProgress: 100%|█████████████████████████████████████████| Time: 0:00:44\u001b[39m\n"
     ]
    },
    {
     "data": {
      "text/plain": [
       "Results of univariate zero finding:\n",
       "\n",
       "* Converged to: 0.7498248634338377\n",
       "* Algorithm: Bisection()\n",
       "* iterations: 10\n",
       "* function evaluations ≈ 13\n",
       "\n",
       "Trace:\n",
       "(a₀, b₀) = ( 0.64616113281249987, 1 )\n",
       "(a₁, b₁) = ( 0.64616113281249987, 0.82308056640624994 )\n",
       "(a₂, b₂) = ( 0.7346208496093749, 0.82308056640624994 )\n",
       "(a₃, b₃) = ( 0.7346208496093749, 0.77885070800781242 )\n",
       "(a₄, b₄) = ( 0.7346208496093749, 0.75673577880859366 )\n",
       "(a₅, b₅) = ( 0.74567831420898423, 0.75673577880859366 )\n",
       "(a₆, b₆) = ( 0.74567831420898423, 0.75120704650878889 )\n",
       "(a₇, b₇) = ( 0.7484426803588865, 0.75120704650878889 )\n",
       "(a₈, b₈) = ( 0.7484426803588865, 0.7498248634338377 )\n",
       "(a₉, b₉) = ( 0.7491337718963621, 0.7498248634338377 )\n",
       "(a₁₀, b₁₀) = ( 0.7494793176650999, 0.7498248634338377 )\n",
       "\n"
      ]
     },
     "metadata": {},
     "output_type": "display_data"
    },
    {
     "name": "stderr",
     "output_type": "stream",
     "text": [
      "\u001b[36m\u001b[1m[ \u001b[22m\u001b[39m\u001b[36m\u001b[1mInfo: \u001b[22m\u001b[39mTargeting ϕ=0.7498248634338377\n",
      "\u001b[32mProgress: 100%|█████████████████████████████████████████| Time: 0:00:44\u001b[39m\n",
      "\u001b[36m\u001b[1m[ \u001b[22m\u001b[39m\u001b[36m\u001b[1mInfo: \u001b[22m\u001b[39mϕ=1, MCMC\n",
      "\u001b[32mProgress: 100%|█████████████████████████████████████████| Time: 0:00:44\u001b[39m\n",
      "\u001b[36m\u001b[1m[ \u001b[22m\u001b[39m\u001b[36m\u001b[1mInfo: \u001b[22m\u001b[39mFold: 3\n"
     ]
    },
    {
     "data": {
      "text/plain": [
       "Results of univariate zero finding:\n",
       "\n",
       "* Converged to: 0.6868374999999999\n",
       "* Algorithm: Bisection()\n",
       "* iterations: 10\n",
       "* function evaluations ≈ 13\n",
       "\n",
       "Trace:\n",
       "(a₀, b₀) = ( 0.010306249999999999, 1 )\n",
       "(a₁, b₁) = ( 0.103725, 1 )\n",
       "(a₂, b₂) = ( 0.33244999999999997, 1 )\n",
       "(a₃, b₃) = ( 0.58244999999999991, 1 )\n",
       "(a₄, b₄) = ( 0.58244999999999991, 0.79122499999999996 )\n",
       "(a₅, b₅) = ( 0.68683749999999988, 0.79122499999999996 )\n",
       "(a₆, b₆) = ( 0.68683749999999988, 0.73903124999999992 )\n",
       "(a₇, b₇) = ( 0.68683749999999988, 0.7129343749999999 )\n",
       "(a₈, b₈) = ( 0.68683749999999988, 0.69988593749999983 )\n",
       "(a₉, b₉) = ( 0.68683749999999988, 0.69336171874999986 )\n",
       "(a₁₀, b₁₀) = ( 0.68683749999999988, 0.69009960937499981 )\n",
       "\n"
      ]
     },
     "metadata": {},
     "output_type": "display_data"
    },
    {
     "name": "stderr",
     "output_type": "stream",
     "text": [
      "\u001b[36m\u001b[1m[ \u001b[22m\u001b[39m\u001b[36m\u001b[1mInfo: \u001b[22m\u001b[39mTargeting ϕ=0.6868374999999999\n",
      "\u001b[32mProgress: 100%|█████████████████████████████████████████| Time: 0:00:44\u001b[39m\n",
      "\u001b[36m\u001b[1m[ \u001b[22m\u001b[39m\u001b[36m\u001b[1mInfo: \u001b[22m\u001b[39mϕ=1, MCMC\n",
      "\u001b[32mProgress: 100%|█████████████████████████████████████████| Time: 0:00:45\u001b[39m\n",
      "\u001b[36m\u001b[1m[ \u001b[22m\u001b[39m\u001b[36m\u001b[1mInfo: \u001b[22m\u001b[39mFold: 4\n"
     ]
    },
    {
     "data": {
      "text/plain": [
       "Results of univariate zero finding:\n",
       "\n",
       "* Converged to: 0.30635312499999995\n",
       "* Algorithm: Bisection()\n",
       "* iterations: 10\n",
       "* function evaluations ≈ 13\n",
       "\n",
       "Trace:\n",
       "(a₀, b₀) = ( 0.010306249999999999, 1 )\n",
       "(a₁, b₁) = ( 0.103725, 1 )\n",
       "(a₂, b₂) = ( 0.103725, 0.33244999999999997 )\n",
       "(a₃, b₃) = ( 0.18683749999999999, 0.33244999999999997 )\n",
       "(a₄, b₄) = ( 0.23903124999999997, 0.33244999999999997 )\n",
       "(a₅, b₅) = ( 0.28025624999999993, 0.33244999999999997 )\n",
       "(a₆, b₆) = ( 0.28025624999999993, 0.30635312499999995 )\n",
       "(a₇, b₇) = ( 0.29330468749999994, 0.30635312499999995 )\n",
       "(a₈, b₈) = ( 0.29982890624999992, 0.30635312499999995 )\n",
       "(a₉, b₉) = ( 0.3030910156249999, 0.30635312499999995 )\n",
       "(a₁₀, b₁₀) = ( 0.30472207031249993, 0.30635312499999995 )\n",
       "\n"
      ]
     },
     "metadata": {},
     "output_type": "display_data"
    },
    {
     "name": "stderr",
     "output_type": "stream",
     "text": [
      "\u001b[36m\u001b[1m[ \u001b[22m\u001b[39m\u001b[36m\u001b[1mInfo: \u001b[22m\u001b[39mTargeting ϕ=0.30635312499999995\n",
      "\u001b[32mProgress: 100%|█████████████████████████████████████████| Time: 0:00:46\u001b[39m\n"
     ]
    },
    {
     "data": {
      "text/plain": [
       "Results of univariate zero finding:\n",
       "\n",
       "* Converged to: 0.5330629577636716\n",
       "* Algorithm: Bisection()\n",
       "* iterations: 10\n",
       "* function evaluations ≈ 13\n",
       "\n",
       "Trace:\n",
       "(a₀, b₀) = ( 0.30645312499999994, 0.55645312499999988 )\n",
       "(a₁, b₁) = ( 0.41733984374999994, 0.55645312499999988 )\n",
       "(a₂, b₂) = ( 0.47278320312499994, 0.55645312499999988 )\n",
       "(a₃, b₃) = ( 0.50100976562499988, 0.55645312499999988 )\n",
       "(a₄, b₄) = ( 0.52873144531249983, 0.55645312499999988 )\n",
       "(a₅, b₅) = ( 0.52873144531249983, 0.5425922851562498 )\n",
       "(a₆, b₆) = ( 0.52873144531249983, 0.53566186523437476 )\n",
       "(a₇, b₇) = ( 0.53219665527343729, 0.53566186523437476 )\n",
       "(a₈, b₈) = ( 0.53219665527343729, 0.53392926025390597 )\n",
       "(a₉, b₉) = ( 0.53306295776367163, 0.53392926025390597 )\n",
       "(a₁₀, b₁₀) = ( 0.53306295776367163, 0.53349610900878874 )\n",
       "\n"
      ]
     },
     "metadata": {},
     "output_type": "display_data"
    },
    {
     "name": "stderr",
     "output_type": "stream",
     "text": [
      "\u001b[36m\u001b[1m[ \u001b[22m\u001b[39m\u001b[36m\u001b[1mInfo: \u001b[22m\u001b[39mTargeting ϕ=0.5330629577636716\n",
      "\u001b[32mProgress: 100%|█████████████████████████████████████████| Time: 0:00:45\u001b[39m\n"
     ]
    },
    {
     "data": {
      "text/plain": [
       "Results of univariate zero finding:\n",
       "\n",
       "* Converged to: 0.7239552450448271\n",
       "* Algorithm: Bisection()\n",
       "* iterations: 10\n",
       "* function evaluations ≈ 13\n",
       "\n",
       "Trace:\n",
       "(a₀, b₀) = ( 0.53316295776367162, 0.76658147888183581 )\n",
       "(a₁, b₁) = ( 0.64987221832275366, 0.76658147888183581 )\n",
       "(a₂, b₂) = ( 0.70822684860229468, 0.76658147888183581 )\n",
       "(a₃, b₃) = ( 0.70822684860229468, 0.73740416374206519 )\n",
       "(a₄, b₄) = ( 0.72281550617217993, 0.73740416374206519 )\n",
       "(a₅, b₅) = ( 0.72281550617217993, 0.73010983495712256 )\n",
       "(a₆, b₆) = ( 0.72281550617217993, 0.72646267056465119 )\n",
       "(a₇, b₇) = ( 0.72281550617217993, 0.72463908836841551 )\n",
       "(a₈, b₈) = ( 0.72372729727029772, 0.72463908836841551 )\n",
       "(a₉, b₉) = ( 0.72372729727029772, 0.72418319281935661 )\n",
       "(a₁₀, b₁₀) = ( 0.72395524504482711, 0.72418319281935661 )\n",
       "\n"
      ]
     },
     "metadata": {},
     "output_type": "display_data"
    },
    {
     "name": "stderr",
     "output_type": "stream",
     "text": [
      "\u001b[36m\u001b[1m[ \u001b[22m\u001b[39m\u001b[36m\u001b[1mInfo: \u001b[22m\u001b[39mTargeting ϕ=0.7239552450448271\n",
      "\u001b[32mProgress: 100%|█████████████████████████████████████████| Time: 0:00:45\u001b[39m\n"
     ]
    },
    {
     "data": {
      "text/plain": [
       "Results of univariate zero finding:\n",
       "\n",
       "* Converged to: 0.8771183513090245\n",
       "* Algorithm: Bisection()\n",
       "* iterations: 10\n",
       "* function evaluations ≈ 13\n",
       "\n",
       "Trace:\n",
       "(a₀, b₀) = ( 0.86202762252241349, 1 )\n",
       "(a₁, b₁) = ( 0.86202762252241349, 0.93101381126120675 )\n",
       "(a₂, b₂) = ( 0.86202762252241349, 0.89652071689181012 )\n",
       "(a₃, b₃) = ( 0.86202762252241349, 0.87927416970711181 )\n",
       "(a₄, b₄) = ( 0.87065089611476265, 0.87927416970711181 )\n",
       "(a₅, b₅) = ( 0.87496253291093717, 0.87927416970711181 )\n",
       "(a₆, b₆) = ( 0.87496253291093717, 0.87711835130902449 )\n",
       "(a₇, b₇) = ( 0.87604044210998078, 0.87711835130902449 )\n",
       "(a₈, b₈) = ( 0.87657939670950258, 0.87711835130902449 )\n",
       "(a₉, b₉) = ( 0.87684887400926348, 0.87711835130902449 )\n",
       "(a₁₀, b₁₀) = ( 0.87698361265914393, 0.87711835130902449 )\n",
       "\n"
      ]
     },
     "metadata": {},
     "output_type": "display_data"
    },
    {
     "name": "stderr",
     "output_type": "stream",
     "text": [
      "\u001b[36m\u001b[1m[ \u001b[22m\u001b[39m\u001b[36m\u001b[1mInfo: \u001b[22m\u001b[39mTargeting ϕ=0.8771183513090245\n",
      "\u001b[32mProgress: 100%|█████████████████████████████████████████| Time: 0:00:46\u001b[39m\n",
      "\u001b[36m\u001b[1m[ \u001b[22m\u001b[39m\u001b[36m\u001b[1mInfo: \u001b[22m\u001b[39mϕ=1, MCMC\n",
      "\u001b[32mProgress: 100%|█████████████████████████████████████████| Time: 0:00:45\u001b[39m\n",
      "\u001b[36m\u001b[1m[ \u001b[22m\u001b[39m\u001b[36m\u001b[1mInfo: \u001b[22m\u001b[39mFold: 5\n"
     ]
    },
    {
     "data": {
      "text/plain": [
       "Results of univariate zero finding:\n",
       "\n",
       "* Converged to: 0.6248574218749997\n",
       "* Algorithm: Bisection()\n",
       "* iterations: 10\n",
       "* function evaluations ≈ 13\n",
       "\n",
       "Trace:\n",
       "(a₀, b₀) = ( 0.010306249999999999, 1 )\n",
       "(a₁, b₁) = ( 0.103725, 1 )\n",
       "(a₂, b₂) = ( 0.33244999999999997, 1 )\n",
       "(a₃, b₃) = ( 0.58244999999999991, 1 )\n",
       "(a₄, b₄) = ( 0.58244999999999991, 0.79122499999999996 )\n",
       "(a₅, b₅) = ( 0.58244999999999991, 0.68683749999999988 )\n",
       "(a₆, b₆) = ( 0.58244999999999991, 0.63464374999999984 )\n",
       "(a₇, b₇) = ( 0.60854687499999982, 0.63464374999999984 )\n",
       "(a₈, b₈) = ( 0.62159531249999977, 0.63464374999999984 )\n",
       "(a₉, b₉) = ( 0.62159531249999977, 0.62811953124999975 )\n",
       "(a₁₀, b₁₀) = ( 0.62159531249999977, 0.62485742187499971 )\n",
       "\n"
      ]
     },
     "metadata": {},
     "output_type": "display_data"
    },
    {
     "name": "stderr",
     "output_type": "stream",
     "text": [
      "\u001b[36m\u001b[1m[ \u001b[22m\u001b[39m\u001b[36m\u001b[1mInfo: \u001b[22m\u001b[39mTargeting ϕ=0.6248574218749997\n",
      "\u001b[32mProgress: 100%|█████████████████████████████████████████| Time: 0:00:45\u001b[39m\n",
      "\u001b[36m\u001b[1m[ \u001b[22m\u001b[39m\u001b[36m\u001b[1mInfo: \u001b[22m\u001b[39mϕ=1, MCMC\n",
      "\u001b[32mProgress: 100%|█████████████████████████████████████████| Time: 0:00:45\u001b[39m\n",
      "\u001b[36m\u001b[1m[ \u001b[22m\u001b[39m\u001b[36m\u001b[1mInfo: \u001b[22m\u001b[39mFold: 6\n"
     ]
    },
    {
     "data": {
      "text/plain": [
       "Results of univariate zero finding:\n",
       "\n",
       "* Converged to: 0.3128773437499999\n",
       "* Algorithm: Bisection()\n",
       "* iterations: 10\n",
       "* function evaluations ≈ 13\n",
       "\n",
       "Trace:\n",
       "(a₀, b₀) = ( 0.010306249999999999, 1 )\n",
       "(a₁, b₁) = ( 0.103725, 1 )\n",
       "(a₂, b₂) = ( 0.103725, 0.33244999999999997 )\n",
       "(a₃, b₃) = ( 0.18683749999999999, 0.33244999999999997 )\n",
       "(a₄, b₄) = ( 0.23903124999999997, 0.33244999999999997 )\n",
       "(a₅, b₅) = ( 0.28025624999999993, 0.33244999999999997 )\n",
       "(a₆, b₆) = ( 0.30635312499999995, 0.33244999999999997 )\n",
       "(a₇, b₇) = ( 0.30635312499999995, 0.31940156249999996 )\n",
       "(a₈, b₈) = ( 0.30635312499999995, 0.31287734374999993 )\n",
       "(a₉, b₉) = ( 0.30961523437499994, 0.31287734374999993 )\n",
       "(a₁₀, b₁₀) = ( 0.3112462890624999, 0.31287734374999993 )\n",
       "\n"
      ]
     },
     "metadata": {},
     "output_type": "display_data"
    },
    {
     "name": "stderr",
     "output_type": "stream",
     "text": [
      "\u001b[36m\u001b[1m[ \u001b[22m\u001b[39m\u001b[36m\u001b[1mInfo: \u001b[22m\u001b[39mTargeting ϕ=0.3128773437499999\n",
      "\u001b[32mProgress: 100%|█████████████████████████████████████████| Time: 0:00:45\u001b[39m\n"
     ]
    },
    {
     "data": {
      "text/plain": [
       "Results of univariate zero finding:\n",
       "\n",
       "* Converged to: 0.5860234603881833\n",
       "* Algorithm: Bisection()\n",
       "* iterations: 10\n",
       "* function evaluations ≈ 13\n",
       "\n",
       "Trace:\n",
       "(a₀, b₀) = ( 0.56297734374999986, 1 )\n",
       "(a₁, b₁) = ( 0.56297734374999986, 0.78148867187499993 )\n",
       "(a₂, b₂) = ( 0.56297734374999986, 0.67223300781249984 )\n",
       "(a₃, b₃) = ( 0.56297734374999986, 0.61760517578124985 )\n",
       "(a₄, b₄) = ( 0.56297734374999986, 0.5902912597656248 )\n",
       "(a₅, b₅) = ( 0.57663430175781227, 0.5902912597656248 )\n",
       "(a₆, b₆) = ( 0.58346278076171854, 0.5902912597656248 )\n",
       "(a₇, b₇) = ( 0.58346278076171854, 0.58687702026367161 )\n",
       "(a₈, b₈) = ( 0.58516990051269502, 0.58687702026367161 )\n",
       "(a₉, b₉) = ( 0.58602346038818331, 0.58687702026367161 )\n",
       "(a₁₀, b₁₀) = ( 0.58602346038818331, 0.58645024032592741 )\n",
       "\n"
      ]
     },
     "metadata": {},
     "output_type": "display_data"
    },
    {
     "name": "stderr",
     "output_type": "stream",
     "text": [
      "\u001b[36m\u001b[1m[ \u001b[22m\u001b[39m\u001b[36m\u001b[1mInfo: \u001b[22m\u001b[39mTargeting ϕ=0.5860234603881833\n",
      "\u001b[32mProgress: 100%|█████████████████████████████████████████| Time: 0:00:46\u001b[39m\n"
     ]
    },
    {
     "data": {
      "text/plain": [
       "Results of univariate zero finding:\n",
       "\n",
       "* Converged to: 0.8191311020739375\n",
       "* Algorithm: Bisection()\n",
       "* iterations: 10\n",
       "* function evaluations ≈ 13\n",
       "\n",
       "Trace:\n",
       "(a₀, b₀) = ( 0.79306173019409165, 1 )\n",
       "(a₁, b₁) = ( 0.79306173019409165, 0.89653086509704583 )\n",
       "(a₂, b₂) = ( 0.79306173019409165, 0.84479629764556874 )\n",
       "(a₃, b₃) = ( 0.8189290139198302, 0.84479629764556874 )\n",
       "(a₄, b₄) = ( 0.8189290139198302, 0.83186265578269947 )\n",
       "(a₅, b₅) = ( 0.8189290139198302, 0.82539583485126478 )\n",
       "(a₆, b₆) = ( 0.8189290139198302, 0.82216242438554743 )\n",
       "(a₇, b₇) = ( 0.8189290139198302, 0.82054571915268881 )\n",
       "(a₈, b₈) = ( 0.8189290139198302, 0.8197373665362595 )\n",
       "(a₉, b₉) = ( 0.8189290139198302, 0.81933319022804485 )\n",
       "(a₁₀, b₁₀) = ( 0.8189290139198302, 0.81913110207393747 )\n",
       "\n"
      ]
     },
     "metadata": {},
     "output_type": "display_data"
    },
    {
     "name": "stderr",
     "output_type": "stream",
     "text": [
      "\u001b[36m\u001b[1m[ \u001b[22m\u001b[39m\u001b[36m\u001b[1mInfo: \u001b[22m\u001b[39mTargeting ϕ=0.8191311020739375\n",
      "\u001b[32mProgress: 100%|█████████████████████████████████████████| Time: 0:00:46\u001b[39m\n",
      "\u001b[36m\u001b[1m[ \u001b[22m\u001b[39m\u001b[36m\u001b[1mInfo: \u001b[22m\u001b[39mϕ=1, MCMC\n",
      "\u001b[32mProgress: 100%|█████████████████████████████████████████| Time: 0:00:46\u001b[39m\n",
      "\u001b[36m\u001b[1m[ \u001b[22m\u001b[39m\u001b[36m\u001b[1mInfo: \u001b[22m\u001b[39mFold: 7\n"
     ]
    },
    {
     "data": {
      "text/plain": [
       "Results of univariate zero finding:\n",
       "\n",
       "* Converged to: 0.5824499999999999\n",
       "* Algorithm: Bisection()\n",
       "* iterations: 10\n",
       "* function evaluations ≈ 13\n",
       "\n",
       "Trace:\n",
       "(a₀, b₀) = ( 0.010306249999999999, 1 )\n",
       "(a₁, b₁) = ( 0.103725, 1 )\n",
       "(a₂, b₂) = ( 0.33244999999999997, 1 )\n",
       "(a₃, b₃) = ( 0.33244999999999997, 0.58244999999999991 )\n",
       "(a₄, b₄) = ( 0.43683749999999993, 0.58244999999999991 )\n",
       "(a₅, b₅) = ( 0.48903124999999992, 0.58244999999999991 )\n",
       "(a₆, b₆) = ( 0.53025624999999987, 0.58244999999999991 )\n",
       "(a₇, b₇) = ( 0.55635312499999989, 0.58244999999999991 )\n",
       "(a₈, b₈) = ( 0.56940156249999985, 0.58244999999999991 )\n",
       "(a₉, b₉) = ( 0.57592578124999982, 0.58244999999999991 )\n",
       "(a₁₀, b₁₀) = ( 0.57918789062499987, 0.58244999999999991 )\n",
       "\n"
      ]
     },
     "metadata": {},
     "output_type": "display_data"
    },
    {
     "name": "stderr",
     "output_type": "stream",
     "text": [
      "\u001b[36m\u001b[1m[ \u001b[22m\u001b[39m\u001b[36m\u001b[1mInfo: \u001b[22m\u001b[39mTargeting ϕ=0.5824499999999999\n",
      "\u001b[32mProgress: 100%|█████████████████████████████████████████| Time: 0:00:46\u001b[39m\n",
      "\u001b[36m\u001b[1m[ \u001b[22m\u001b[39m\u001b[36m\u001b[1mInfo: \u001b[22m\u001b[39mϕ=1, MCMC\n",
      "\u001b[32mProgress: 100%|█████████████████████████████████████████| Time: 0:00:45\u001b[39m\n",
      "\u001b[36m\u001b[1m[ \u001b[22m\u001b[39m\u001b[36m\u001b[1mInfo: \u001b[22m\u001b[39mFold: 8\n"
     ]
    },
    {
     "data": {
      "text/plain": [
       "Results of univariate zero finding:\n",
       "\n",
       "* Converged to: 0.7357691406249999\n",
       "* Algorithm: Bisection()\n",
       "* iterations: 10\n",
       "* function evaluations ≈ 13\n",
       "\n",
       "Trace:\n",
       "(a₀, b₀) = ( 0.010306249999999999, 1 )\n",
       "(a₁, b₁) = ( 0.103725, 1 )\n",
       "(a₂, b₂) = ( 0.33244999999999997, 1 )\n",
       "(a₃, b₃) = ( 0.58244999999999991, 1 )\n",
       "(a₄, b₄) = ( 0.58244999999999991, 0.79122499999999996 )\n",
       "(a₅, b₅) = ( 0.68683749999999988, 0.79122499999999996 )\n",
       "(a₆, b₆) = ( 0.68683749999999988, 0.73903124999999992 )\n",
       "(a₇, b₇) = ( 0.7129343749999999, 0.73903124999999992 )\n",
       "(a₈, b₈) = ( 0.72598281249999985, 0.73903124999999992 )\n",
       "(a₉, b₉) = ( 0.73250703124999983, 0.73903124999999992 )\n",
       "(a₁₀, b₁₀) = ( 0.73576914062499987, 0.73903124999999992 )\n",
       "\n"
      ]
     },
     "metadata": {},
     "output_type": "display_data"
    },
    {
     "name": "stderr",
     "output_type": "stream",
     "text": [
      "\u001b[36m\u001b[1m[ \u001b[22m\u001b[39m\u001b[36m\u001b[1mInfo: \u001b[22m\u001b[39mTargeting ϕ=0.7357691406249999\n",
      "\u001b[32mProgress: 100%|█████████████████████████████████████████| Time: 0:00:48\u001b[39m\n",
      "\u001b[36m\u001b[1m[ \u001b[22m\u001b[39m\u001b[36m\u001b[1mInfo: \u001b[22m\u001b[39mϕ=1, MCMC\n",
      "\u001b[32mProgress: 100%|█████████████████████████████████████████| Time: 0:00:47\u001b[39m\n",
      "\u001b[36m\u001b[1m[ \u001b[22m\u001b[39m\u001b[36m\u001b[1mInfo: \u001b[22m\u001b[39mFold: 9\n"
     ]
    },
    {
     "data": {
      "text/plain": [
       "Results of univariate zero finding:\n",
       "\n",
       "* Converged to: 0.2835183593749999\n",
       "* Algorithm: Bisection()\n",
       "* iterations: 10\n",
       "* function evaluations ≈ 13\n",
       "\n",
       "Trace:\n",
       "(a₀, b₀) = ( 0.010306249999999999, 1 )\n",
       "(a₁, b₁) = ( 0.103725, 1 )\n",
       "(a₂, b₂) = ( 0.103725, 0.33244999999999997 )\n",
       "(a₃, b₃) = ( 0.18683749999999999, 0.33244999999999997 )\n",
       "(a₄, b₄) = ( 0.23903124999999997, 0.33244999999999997 )\n",
       "(a₅, b₅) = ( 0.28025624999999993, 0.33244999999999997 )\n",
       "(a₆, b₆) = ( 0.28025624999999993, 0.30635312499999995 )\n",
       "(a₇, b₇) = ( 0.28025624999999993, 0.29330468749999994 )\n",
       "(a₈, b₈) = ( 0.28025624999999993, 0.28678046874999991 )\n",
       "(a₉, b₉) = ( 0.28025624999999993, 0.28351835937499992 )\n",
       "(a₁₀, b₁₀) = ( 0.2818873046874999, 0.28351835937499992 )\n",
       "\n"
      ]
     },
     "metadata": {},
     "output_type": "display_data"
    },
    {
     "name": "stderr",
     "output_type": "stream",
     "text": [
      "\u001b[36m\u001b[1m[ \u001b[22m\u001b[39m\u001b[36m\u001b[1mInfo: \u001b[22m\u001b[39mTargeting ϕ=0.2835183593749999\n",
      "\u001b[32mProgress: 100%|█████████████████████████████████████████| Time: 0:00:48\u001b[39m\n"
     ]
    },
    {
     "data": {
      "text/plain": [
       "Results of univariate zero finding:\n",
       "\n",
       "* Converged to: 0.5076576625823972\n",
       "* Algorithm: Bisection()\n",
       "* iterations: 10\n",
       "* function evaluations ≈ 13\n",
       "\n",
       "Trace:\n",
       "(a₀, b₀) = ( 0.28361835937499991, 0.53361835937499991 )\n",
       "(a₁, b₁) = ( 0.40021376953124993, 0.53361835937499991 )\n",
       "(a₂, b₂) = ( 0.45851147460937491, 0.53361835937499991 )\n",
       "(a₃, b₃) = ( 0.48766032714843743, 0.53361835937499991 )\n",
       "(a₄, b₄) = ( 0.50446950683593739, 0.53361835937499991 )\n",
       "(a₅, b₅) = ( 0.50446950683593739, 0.51904393310546859 )\n",
       "(a₆, b₆) = ( 0.50446950683593739, 0.51175671997070293 )\n",
       "(a₇, b₇) = ( 0.50446950683593739, 0.5081131134033201 )\n",
       "(a₈, b₈) = ( 0.50629131011962869, 0.5081131134033201 )\n",
       "(a₉, b₉) = ( 0.5072022117614744, 0.5081131134033201 )\n",
       "(a₁₀, b₁₀) = ( 0.5072022117614744, 0.5076576625823972 )\n",
       "\n"
      ]
     },
     "metadata": {},
     "output_type": "display_data"
    },
    {
     "name": "stderr",
     "output_type": "stream",
     "text": [
      "\u001b[36m\u001b[1m[ \u001b[22m\u001b[39m\u001b[36m\u001b[1mInfo: \u001b[22m\u001b[39mTargeting ϕ=0.5076576625823972\n",
      "\u001b[32mProgress: 100%|█████████████████████████████████████████| Time: 0:00:47\u001b[39m\n"
     ]
    },
    {
     "data": {
      "text/plain": [
       "Results of univariate zero finding:\n",
       "\n",
       "* Converged to: 0.7134995770499106\n",
       "* Algorithm: Bisection()\n",
       "* iterations: 10\n",
       "* function evaluations ≈ 13\n",
       "\n",
       "Trace:\n",
       "(a₀, b₀) = ( 0.50775766258239718, 0.75387883129119859 )\n",
       "(a₁, b₁) = ( 0.63081824693679789, 0.75387883129119859 )\n",
       "(a₂, b₂) = ( 0.69234853911399818, 0.75387883129119859 )\n",
       "(a₃, b₃) = ( 0.69234853911399818, 0.72311368520259833 )\n",
       "(a₄, b₄) = ( 0.7077311121582982, 0.72311368520259833 )\n",
       "(a₅, b₅) = ( 0.7077311121582982, 0.71542239868044821 )\n",
       "(a₆, b₆) = ( 0.71157675541937315, 0.71542239868044821 )\n",
       "(a₇, b₇) = ( 0.71349957704991063, 0.71542239868044821 )\n",
       "(a₈, b₈) = ( 0.71349957704991063, 0.71446098786517942 )\n",
       "(a₉, b₉) = ( 0.71349957704991063, 0.71398028245754497 )\n",
       "(a₁₀, b₁₀) = ( 0.71349957704991063, 0.7137399297537278 )\n",
       "\n"
      ]
     },
     "metadata": {},
     "output_type": "display_data"
    },
    {
     "name": "stderr",
     "output_type": "stream",
     "text": [
      "\u001b[36m\u001b[1m[ \u001b[22m\u001b[39m\u001b[36m\u001b[1mInfo: \u001b[22m\u001b[39mTargeting ϕ=0.7134995770499106\n",
      "\u001b[32mProgress: 100%|█████████████████████████████████████████| Time: 0:00:46\u001b[39m\n"
     ]
    },
    {
     "data": {
      "text/plain": [
       "Results of univariate zero finding:\n",
       "\n",
       "* Converged to: 0.866588865481257\n",
       "* Algorithm: Bisection()\n",
       "* iterations: 10\n",
       "* function evaluations ≈ 13\n",
       "\n",
       "Trace:\n",
       "(a₀, b₀) = ( 0.85679978852495531, 1 )\n",
       "(a₁, b₁) = ( 0.85679978852495531, 0.9283998942624776 )\n",
       "(a₂, b₂) = ( 0.85679978852495531, 0.8925998413937164 )\n",
       "(a₃, b₃) = ( 0.85679978852495531, 0.8746998149593358 )\n",
       "(a₄, b₄) = ( 0.86574980174214555, 0.8746998149593358 )\n",
       "(a₅, b₅) = ( 0.86574980174214555, 0.87022480835074068 )\n",
       "(a₆, b₆) = ( 0.86574980174214555, 0.86798730504644306 )\n",
       "(a₇, b₇) = ( 0.86574980174214555, 0.86686855339429425 )\n",
       "(a₈, b₈) = ( 0.8663091775682199, 0.86686855339429425 )\n",
       "(a₉, b₉) = ( 0.8663091775682199, 0.86658886548125702 )\n",
       "(a₁₀, b₁₀) = ( 0.86644902152473846, 0.86658886548125702 )\n",
       "\n"
      ]
     },
     "metadata": {},
     "output_type": "display_data"
    },
    {
     "name": "stderr",
     "output_type": "stream",
     "text": [
      "\u001b[36m\u001b[1m[ \u001b[22m\u001b[39m\u001b[36m\u001b[1mInfo: \u001b[22m\u001b[39mTargeting ϕ=0.866588865481257\n",
      "\u001b[32mProgress: 100%|█████████████████████████████████████████| Time: 0:00:48\u001b[39m\n",
      "\u001b[36m\u001b[1m[ \u001b[22m\u001b[39m\u001b[36m\u001b[1mInfo: \u001b[22m\u001b[39mϕ=1, MCMC\n",
      "\u001b[32mProgress: 100%|█████████████████████████████████████████| Time: 0:00:47\u001b[39m\n",
      "\u001b[36m\u001b[1m[ \u001b[22m\u001b[39m\u001b[36m\u001b[1mInfo: \u001b[22m\u001b[39mFold: 10\n"
     ]
    },
    {
     "data": {
      "text/plain": [
       "Results of univariate zero finding:\n",
       "\n",
       "* Converged to: 0.31777050781249994\n",
       "* Algorithm: Bisection()\n",
       "* iterations: 10\n",
       "* function evaluations ≈ 13\n",
       "\n",
       "Trace:\n",
       "(a₀, b₀) = ( 0.010306249999999999, 1 )\n",
       "(a₁, b₁) = ( 0.103725, 1 )\n",
       "(a₂, b₂) = ( 0.103725, 0.33244999999999997 )\n",
       "(a₃, b₃) = ( 0.18683749999999999, 0.33244999999999997 )\n",
       "(a₄, b₄) = ( 0.23903124999999997, 0.33244999999999997 )\n",
       "(a₅, b₅) = ( 0.28025624999999993, 0.33244999999999997 )\n",
       "(a₆, b₆) = ( 0.30635312499999995, 0.33244999999999997 )\n",
       "(a₇, b₇) = ( 0.30635312499999995, 0.31940156249999996 )\n",
       "(a₈, b₈) = ( 0.31287734374999993, 0.31940156249999996 )\n",
       "(a₉, b₉) = ( 0.31613945312499991, 0.31940156249999996 )\n",
       "(a₁₀, b₁₀) = ( 0.31613945312499991, 0.31777050781249994 )\n",
       "\n"
      ]
     },
     "metadata": {},
     "output_type": "display_data"
    },
    {
     "name": "stderr",
     "output_type": "stream",
     "text": [
      "\u001b[36m\u001b[1m[ \u001b[22m\u001b[39m\u001b[36m\u001b[1mInfo: \u001b[22m\u001b[39mTargeting ϕ=0.31777050781249994\n",
      "\u001b[32mProgress: 100%|█████████████████████████████████████████| Time: 0:00:46\u001b[39m\n"
     ]
    },
    {
     "data": {
      "text/plain": [
       "Results of univariate zero finding:\n",
       "\n",
       "* Converged to: 0.5535224582672117\n",
       "* Algorithm: Bisection()\n",
       "* iterations: 10\n",
       "* function evaluations ≈ 13\n",
       "\n",
       "Trace:\n",
       "(a₀, b₀) = ( 0.31787050781249993, 0.56787050781249993 )\n",
       "(a₁, b₁) = ( 0.42590288085937494, 0.56787050781249993 )\n",
       "(a₂, b₂) = ( 0.47991906738281243, 0.56787050781249993 )\n",
       "(a₃, b₃) = ( 0.51385432128906239, 0.56787050781249993 )\n",
       "(a₄, b₄) = ( 0.5408624145507811, 0.56787050781249993 )\n",
       "(a₅, b₅) = ( 0.5408624145507811, 0.55436646118164046 )\n",
       "(a₆, b₆) = ( 0.54761443786621078, 0.55436646118164046 )\n",
       "(a₇, b₇) = ( 0.55099044952392562, 0.55436646118164046 )\n",
       "(a₈, b₈) = ( 0.55267845535278304, 0.55436646118164046 )\n",
       "(a₉, b₉) = ( 0.55267845535278304, 0.55352245826721169 )\n",
       "(a₁₀, b₁₀) = ( 0.55310045680999731, 0.55352245826721169 )\n",
       "\n"
      ]
     },
     "metadata": {},
     "output_type": "display_data"
    },
    {
     "name": "stderr",
     "output_type": "stream",
     "text": [
      "\u001b[36m\u001b[1m[ \u001b[22m\u001b[39m\u001b[36m\u001b[1mInfo: \u001b[22m\u001b[39mTargeting ϕ=0.5535224582672117\n",
      "\u001b[32mProgress: 100%|█████████████████████████████████████████| Time: 0:00:46\u001b[39m\n"
     ]
    },
    {
     "data": {
      "text/plain": [
       "Results of univariate zero finding:\n",
       "\n",
       "* Converged to: 0.7469510127188634\n",
       "* Algorithm: Bisection()\n",
       "* iterations: 10\n",
       "* function evaluations ≈ 13\n",
       "\n",
       "Trace:\n",
       "(a₀, b₀) = ( 0.55362245826721168, 0.77681122913360579 )\n",
       "(a₁, b₁) = ( 0.66521684370040868, 0.77681122913360579 )\n",
       "(a₂, b₂) = ( 0.72101403641700723, 0.77681122913360579 )\n",
       "(a₃, b₃) = ( 0.72101403641700723, 0.74891263277530651 )\n",
       "(a₄, b₄) = ( 0.73496333459615681, 0.74891263277530651 )\n",
       "(a₅, b₅) = ( 0.74193798368573161, 0.74891263277530651 )\n",
       "(a₆, b₆) = ( 0.745425308230519, 0.74891263277530651 )\n",
       "(a₇, b₇) = ( 0.745425308230519, 0.74716897050291275 )\n",
       "(a₈, b₈) = ( 0.74629713936671582, 0.74716897050291275 )\n",
       "(a₉, b₉) = ( 0.74673305493481423, 0.74716897050291275 )\n",
       "(a₁₀, b₁₀) = ( 0.74695101271886344, 0.74716897050291275 )\n",
       "\n"
      ]
     },
     "metadata": {},
     "output_type": "display_data"
    },
    {
     "name": "stderr",
     "output_type": "stream",
     "text": [
      "\u001b[36m\u001b[1m[ \u001b[22m\u001b[39m\u001b[36m\u001b[1mInfo: \u001b[22m\u001b[39mTargeting ϕ=0.7469510127188634\n",
      "\u001b[32mProgress: 100%|█████████████████████████████████████████| Time: 0:00:45\u001b[39m\n"
     ]
    },
    {
     "data": {
      "text/plain": [
       "Results of univariate zero finding:\n",
       "\n",
       "* Converged to: 0.8825417544412298\n",
       "* Algorithm: Bisection()\n",
       "* iterations: 10\n",
       "* function evaluations ≈ 13\n",
       "\n",
       "Trace:\n",
       "(a₀, b₀) = ( 0.87352550635943171, 1 )\n",
       "(a₁, b₁) = ( 0.87352550635943171, 0.9367627531797158 )\n",
       "(a₂, b₂) = ( 0.87352550635943171, 0.9051441297695737 )\n",
       "(a₃, b₃) = ( 0.87352550635943171, 0.88933481806450265 )\n",
       "(a₄, b₄) = ( 0.88143016221196713, 0.88933481806450265 )\n",
       "(a₅, b₅) = ( 0.88143016221196713, 0.88538249013823489 )\n",
       "(a₆, b₆) = ( 0.88143016221196713, 0.88340632617510095 )\n",
       "(a₇, b₇) = ( 0.88241824419353398, 0.88340632617510095 )\n",
       "(a₈, b₈) = ( 0.88241824419353398, 0.88291228518431741 )\n",
       "(a₉, b₉) = ( 0.88241824419353398, 0.8826652646889257 )\n",
       "(a₁₀, b₁₀) = ( 0.88241824419353398, 0.88254175444122984 )\n",
       "\n"
      ]
     },
     "metadata": {},
     "output_type": "display_data"
    },
    {
     "name": "stderr",
     "output_type": "stream",
     "text": [
      "\u001b[36m\u001b[1m[ \u001b[22m\u001b[39m\u001b[36m\u001b[1mInfo: \u001b[22m\u001b[39mTargeting ϕ=0.8825417544412298\n",
      "\u001b[32mProgress: 100%|█████████████████████████████████████████| Time: 0:00:46\u001b[39m\n",
      "\u001b[36m\u001b[1m[ \u001b[22m\u001b[39m\u001b[36m\u001b[1mInfo: \u001b[22m\u001b[39mϕ=1, MCMC\n",
      "\u001b[32mProgress: 100%|█████████████████████████████████████████| Time: 0:00:45\u001b[39m\n"
     ]
    }
   ],
   "source": [
    "Random.seed!(1)\n",
    "RUN_aSMC && run(chain, SMCS_M5; k̂_threshold=-Inf, save_bool=true)"
   ]
  },
  {
   "cell_type": "code",
   "execution_count": 37,
   "id": "96a5209e-f11a-473d-b26b-975b6a6eebde",
   "metadata": {
    "scrolled": true
   },
   "outputs": [
    {
     "name": "stderr",
     "output_type": "stream",
     "text": [
      "\u001b[36m\u001b[1m[ \u001b[22m\u001b[39m\u001b[36m\u001b[1mInfo: \u001b[22m\u001b[39mFold: 1\n"
     ]
    },
    {
     "data": {
      "text/plain": [
       "Results of univariate zero finding:\n",
       "\n",
       "* Converged to: 0.2769941406249999\n",
       "* Algorithm: Bisection()\n",
       "* iterations: 10\n",
       "* function evaluations ≈ 13\n",
       "\n",
       "Trace:\n",
       "(a₀, b₀) = ( 0.010306249999999999, 1 )\n",
       "(a₁, b₁) = ( 0.103725, 1 )\n",
       "(a₂, b₂) = ( 0.103725, 0.33244999999999997 )\n",
       "(a₃, b₃) = ( 0.18683749999999999, 0.33244999999999997 )\n",
       "(a₄, b₄) = ( 0.23903124999999997, 0.33244999999999997 )\n",
       "(a₅, b₅) = ( 0.23903124999999997, 0.28025624999999993 )\n",
       "(a₆, b₆) = ( 0.25415937499999991, 0.28025624999999993 )\n",
       "(a₇, b₇) = ( 0.26720781249999992, 0.28025624999999993 )\n",
       "(a₈, b₈) = ( 0.2737320312499999, 0.28025624999999993 )\n",
       "(a₉, b₉) = ( 0.2737320312499999, 0.27699414062499988 )\n",
       "(a₁₀, b₁₀) = ( 0.27536308593749986, 0.27699414062499988 )\n",
       "\n"
      ]
     },
     "metadata": {},
     "output_type": "display_data"
    },
    {
     "name": "stderr",
     "output_type": "stream",
     "text": [
      "\u001b[36m\u001b[1m[ \u001b[22m\u001b[39m\u001b[36m\u001b[1mInfo: \u001b[22m\u001b[39mTargeting ϕ=0.2769941406249999\n",
      "\u001b[32mProgress: 100%|█████████████████████████████████████████| Time: 0:00:44\u001b[39m\n"
     ]
    },
    {
     "data": {
      "text/plain": [
       "Results of univariate zero finding:\n",
       "\n",
       "* Converged to: 0.4703667013168333\n",
       "* Algorithm: Bisection()\n",
       "* iterations: 10\n",
       "* function evaluations ≈ 13\n",
       "\n",
       "Trace:\n",
       "(a₀, b₀) = ( 0.27709414062499987, 0.52709414062499982 )\n",
       "(a₁, b₁) = ( 0.39532060546874986, 0.52709414062499982 )\n",
       "(a₂, b₂) = ( 0.45443383789062486, 0.52709414062499982 )\n",
       "(a₃, b₃) = ( 0.45443383789062486, 0.48399045410156238 )\n",
       "(a₄, b₄) = ( 0.46921214599609362, 0.48399045410156238 )\n",
       "(a₅, b₅) = ( 0.46921214599609362, 0.476601300048828 )\n",
       "(a₆, b₆) = ( 0.46921214599609362, 0.47290672302246078 )\n",
       "(a₇, b₇) = ( 0.46921214599609362, 0.47105943450927718 )\n",
       "(a₈, b₈) = ( 0.47013579025268537, 0.47105943450927718 )\n",
       "(a₉, b₉) = ( 0.47013579025268537, 0.47059761238098125 )\n",
       "(a₁₀, b₁₀) = ( 0.47013579025268537, 0.47036670131683328 )\n",
       "\n"
      ]
     },
     "metadata": {},
     "output_type": "display_data"
    },
    {
     "name": "stderr",
     "output_type": "stream",
     "text": [
      "\u001b[36m\u001b[1m[ \u001b[22m\u001b[39m\u001b[36m\u001b[1mInfo: \u001b[22m\u001b[39mTargeting ϕ=0.4703667013168333\n",
      "\u001b[32mProgress: 100%|█████████████████████████████████████████| Time: 0:00:44\u001b[39m\n"
     ]
    },
    {
     "data": {
      "text/plain": [
       "Results of univariate zero finding:\n",
       "\n",
       "* Converged to: 0.6429398880101735\n",
       "* Algorithm: Bisection()\n",
       "* iterations: 10\n",
       "* function evaluations ≈ 13\n",
       "\n",
       "Trace:\n",
       "(a₀, b₀) = ( 0.47046670131683327, 0.72046670131683321 )\n",
       "(a₁, b₁) = ( 0.58070005197524988, 0.72046670131683321 )\n",
       "(a₂, b₂) = ( 0.58070005197524988, 0.65058337664604149 )\n",
       "(a₃, b₃) = ( 0.61564171431064563, 0.65058337664604149 )\n",
       "(a₄, b₄) = ( 0.6331125454783435, 0.65058337664604149 )\n",
       "(a₅, b₅) = ( 0.64184796106219244, 0.65058337664604149 )\n",
       "(a₆, b₆) = ( 0.64184796106219244, 0.64621566885411696 )\n",
       "(a₇, b₇) = ( 0.64184796106219244, 0.64403181495815465 )\n",
       "(a₈, b₈) = ( 0.64184796106219244, 0.64293988801017354 )\n",
       "(a₉, b₉) = ( 0.64239392453618294, 0.64293988801017354 )\n",
       "(a₁₀, b₁₀) = ( 0.64266690627317824, 0.64293988801017354 )\n",
       "\n"
      ]
     },
     "metadata": {},
     "output_type": "display_data"
    },
    {
     "name": "stderr",
     "output_type": "stream",
     "text": [
      "\u001b[36m\u001b[1m[ \u001b[22m\u001b[39m\u001b[36m\u001b[1mInfo: \u001b[22m\u001b[39mTargeting ϕ=0.6429398880101735\n",
      "\u001b[32mProgress: 100%|█████████████████████████████████████████| Time: 0:00:45\u001b[39m\n"
     ]
    },
    {
     "data": {
      "text/plain": [
       "Results of univariate zero finding:\n",
       "\n",
       "* Converged to: 0.7746340699204853\n",
       "* Algorithm: Bisection()\n",
       "* iterations: 10\n",
       "* function evaluations ≈ 13\n",
       "\n",
       "Trace:\n",
       "(a₀, b₀) = ( 0.64303988801017353, 0.82151994400508677 )\n",
       "(a₁, b₁) = ( 0.73227991600763009, 0.82151994400508677 )\n",
       "(a₂, b₂) = ( 0.73227991600763009, 0.77689993000635837 )\n",
       "(a₃, b₃) = ( 0.75458992300699423, 0.77689993000635837 )\n",
       "(a₄, b₄) = ( 0.76574492650667625, 0.77689993000635837 )\n",
       "(a₅, b₅) = ( 0.77132242825651731, 0.77689993000635837 )\n",
       "(a₆, b₆) = ( 0.77411117913143779, 0.77689993000635837 )\n",
       "(a₇, b₇) = ( 0.77411117913143779, 0.77550555456889803 )\n",
       "(a₈, b₈) = ( 0.77411117913143779, 0.77480836685016785 )\n",
       "(a₉, b₉) = ( 0.77445977299080282, 0.77480836685016785 )\n",
       "(a₁₀, b₁₀) = ( 0.77445977299080282, 0.77463406992048534 )\n",
       "\n"
      ]
     },
     "metadata": {},
     "output_type": "display_data"
    },
    {
     "name": "stderr",
     "output_type": "stream",
     "text": [
      "\u001b[36m\u001b[1m[ \u001b[22m\u001b[39m\u001b[36m\u001b[1mInfo: \u001b[22m\u001b[39mTargeting ϕ=0.7746340699204853\n",
      "\u001b[32mProgress: 100%|█████████████████████████████████████████| Time: 0:00:45\u001b[39m\n"
     ]
    },
    {
     "data": {
      "text/plain": [
       "Results of univariate zero finding:\n",
       "\n",
       "* Converged to: 0.8729579349405079\n",
       "* Algorithm: Bisection()\n",
       "* iterations: 10\n",
       "* function evaluations ≈ 13\n",
       "\n",
       "Trace:\n",
       "(a₀, b₀) = ( 0.77473406992048532, 0.88736703496024261 )\n",
       "(a₁, b₁) = ( 0.83105055244036397, 0.88736703496024261 )\n",
       "(a₂, b₂) = ( 0.85920879370030323, 0.88736703496024261 )\n",
       "(a₃, b₃) = ( 0.85920879370030323, 0.87328791433027286 )\n",
       "(a₄, b₄) = ( 0.86624835401528799, 0.87328791433027286 )\n",
       "(a₅, b₅) = ( 0.86976813417278043, 0.87328791433027286 )\n",
       "(a₆, b₆) = ( 0.87152802425152665, 0.87328791433027286 )\n",
       "(a₇, b₇) = ( 0.8724079692908997, 0.87328791433027286 )\n",
       "(a₈, b₈) = ( 0.87284794181058623, 0.87328791433027286 )\n",
       "(a₉, b₉) = ( 0.87284794181058623, 0.87306792807042954 )\n",
       "(a₁₀, b₁₀) = ( 0.87295793494050788, 0.87306792807042954 )\n",
       "\n"
      ]
     },
     "metadata": {},
     "output_type": "display_data"
    },
    {
     "name": "stderr",
     "output_type": "stream",
     "text": [
      "\u001b[36m\u001b[1m[ \u001b[22m\u001b[39m\u001b[36m\u001b[1mInfo: \u001b[22m\u001b[39mTargeting ϕ=0.8729579349405079\n",
      "\u001b[32mProgress: 100%|█████████████████████████████████████████| Time: 0:00:44\u001b[39m\n"
     ]
    },
    {
     "data": {
      "text/plain": [
       "Results of univariate zero finding:\n",
       "\n",
       "* Converged to: 0.953946311357811\n",
       "* Algorithm: Bisection()\n",
       "* iterations: 10\n",
       "* function evaluations ≈ 13\n",
       "\n",
       "Trace:\n",
       "(a₀, b₀) = ( 0.93652896747025394, 1 )\n",
       "(a₁, b₁) = ( 0.93652896747025394, 0.96826448373512697 )\n",
       "(a₂, b₂) = ( 0.9523967256026904, 0.96826448373512697 )\n",
       "(a₃, b₃) = ( 0.9523967256026904, 0.96033060466890863 )\n",
       "(a₄, b₄) = ( 0.9523967256026904, 0.95636366513579951 )\n",
       "(a₅, b₅) = ( 0.9523967256026904, 0.9543801953692449 )\n",
       "(a₆, b₆) = ( 0.95338846048596759, 0.9543801953692449 )\n",
       "(a₇, b₇) = ( 0.95388432792760625, 0.9543801953692449 )\n",
       "(a₈, b₈) = ( 0.95388432792760625, 0.95413226164842557 )\n",
       "(a₉, b₉) = ( 0.95388432792760625, 0.95400829478801585 )\n",
       "(a₁₀, b₁₀) = ( 0.95388432792760625, 0.95394631135781105 )\n",
       "\n"
      ]
     },
     "metadata": {},
     "output_type": "display_data"
    },
    {
     "name": "stderr",
     "output_type": "stream",
     "text": [
      "\u001b[36m\u001b[1m[ \u001b[22m\u001b[39m\u001b[36m\u001b[1mInfo: \u001b[22m\u001b[39mTargeting ϕ=0.953946311357811\n",
      "\u001b[32mProgress: 100%|█████████████████████████████████████████| Time: 0:00:44\u001b[39m\n",
      "\u001b[36m\u001b[1m[ \u001b[22m\u001b[39m\u001b[36m\u001b[1mInfo: \u001b[22m\u001b[39mϕ=1, PSIS\n",
      "\u001b[36m\u001b[1m[ \u001b[22m\u001b[39m\u001b[36m\u001b[1mInfo: \u001b[22m\u001b[39mFold: 2\n"
     ]
    },
    {
     "data": {
      "text/plain": [
       "Results of univariate zero finding:\n",
       "\n",
       "* Converged to: 0.3960611328124999\n",
       "* Algorithm: Bisection()\n",
       "* iterations: 10\n",
       "* function evaluations ≈ 13\n",
       "\n",
       "Trace:\n",
       "(a₀, b₀) = ( 0.010306249999999999, 1 )\n",
       "(a₁, b₁) = ( 0.103725, 1 )\n",
       "(a₂, b₂) = ( 0.33244999999999997, 1 )\n",
       "(a₃, b₃) = ( 0.33244999999999997, 0.58244999999999991 )\n",
       "(a₄, b₄) = ( 0.33244999999999997, 0.43683749999999993 )\n",
       "(a₅, b₅) = ( 0.38464374999999995, 0.43683749999999993 )\n",
       "(a₆, b₆) = ( 0.38464374999999995, 0.41074062499999991 )\n",
       "(a₇, b₇) = ( 0.38464374999999995, 0.39769218749999991 )\n",
       "(a₈, b₈) = ( 0.39116796874999993, 0.39769218749999991 )\n",
       "(a₉, b₉) = ( 0.39443007812499992, 0.39769218749999991 )\n",
       "(a₁₀, b₁₀) = ( 0.39443007812499992, 0.39606113281249988 )\n",
       "\n"
      ]
     },
     "metadata": {},
     "output_type": "display_data"
    },
    {
     "name": "stderr",
     "output_type": "stream",
     "text": [
      "\u001b[36m\u001b[1m[ \u001b[22m\u001b[39m\u001b[36m\u001b[1mInfo: \u001b[22m\u001b[39mTargeting ϕ=0.3960611328124999\n",
      "\u001b[32mProgress: 100%|█████████████████████████████████████████| Time: 0:00:45\u001b[39m\n"
     ]
    },
    {
     "data": {
      "text/plain": [
       "Results of univariate zero finding:\n",
       "\n",
       "* Converged to: 0.7905992641448972\n",
       "* Algorithm: Bisection()\n",
       "* iterations: 10\n",
       "* function evaluations ≈ 13\n",
       "\n",
       "Trace:\n",
       "(a₀, b₀) = ( 0.64616113281249987, 1 )\n",
       "(a₁, b₁) = ( 0.64616113281249987, 0.82308056640624994 )\n",
       "(a₂, b₂) = ( 0.7346208496093749, 0.82308056640624994 )\n",
       "(a₃, b₃) = ( 0.77885070800781242, 0.82308056640624994 )\n",
       "(a₄, b₄) = ( 0.77885070800781242, 0.80096563720703118 )\n",
       "(a₅, b₅) = ( 0.78990817260742174, 0.80096563720703118 )\n",
       "(a₆, b₆) = ( 0.78990817260742174, 0.79543690490722641 )\n",
       "(a₇, b₇) = ( 0.78990817260742174, 0.79267253875732402 )\n",
       "(a₈, b₈) = ( 0.78990817260742174, 0.79129035568237283 )\n",
       "(a₉, b₉) = ( 0.79059926414489723, 0.79129035568237283 )\n",
       "(a₁₀, b₁₀) = ( 0.79059926414489723, 0.79094480991363503 )\n",
       "\n"
      ]
     },
     "metadata": {},
     "output_type": "display_data"
    },
    {
     "name": "stderr",
     "output_type": "stream",
     "text": [
      "\u001b[36m\u001b[1m[ \u001b[22m\u001b[39m\u001b[36m\u001b[1mInfo: \u001b[22m\u001b[39mTargeting ϕ=0.7905992641448972\n",
      "\u001b[32mProgress: 100%|█████████████████████████████████████████| Time: 0:00:44\u001b[39m\n",
      "\u001b[36m\u001b[1m[ \u001b[22m\u001b[39m\u001b[36m\u001b[1mInfo: \u001b[22m\u001b[39mϕ=1, PSIS\n",
      "\u001b[36m\u001b[1m[ \u001b[22m\u001b[39m\u001b[36m\u001b[1mInfo: \u001b[22m\u001b[39mFold: 3\n"
     ]
    },
    {
     "data": {
      "text/plain": [
       "Results of univariate zero finding:\n",
       "\n",
       "* Converged to: 0.6868374999999999\n",
       "* Algorithm: Bisection()\n",
       "* iterations: 10\n",
       "* function evaluations ≈ 13\n",
       "\n",
       "Trace:\n",
       "(a₀, b₀) = ( 0.010306249999999999, 1 )\n",
       "(a₁, b₁) = ( 0.103725, 1 )\n",
       "(a₂, b₂) = ( 0.33244999999999997, 1 )\n",
       "(a₃, b₃) = ( 0.58244999999999991, 1 )\n",
       "(a₄, b₄) = ( 0.58244999999999991, 0.79122499999999996 )\n",
       "(a₅, b₅) = ( 0.68683749999999988, 0.79122499999999996 )\n",
       "(a₆, b₆) = ( 0.68683749999999988, 0.73903124999999992 )\n",
       "(a₇, b₇) = ( 0.68683749999999988, 0.7129343749999999 )\n",
       "(a₈, b₈) = ( 0.68683749999999988, 0.69988593749999983 )\n",
       "(a₉, b₉) = ( 0.68683749999999988, 0.69336171874999986 )\n",
       "(a₁₀, b₁₀) = ( 0.68683749999999988, 0.69009960937499981 )\n",
       "\n"
      ]
     },
     "metadata": {},
     "output_type": "display_data"
    },
    {
     "name": "stderr",
     "output_type": "stream",
     "text": [
      "\u001b[36m\u001b[1m[ \u001b[22m\u001b[39m\u001b[36m\u001b[1mInfo: \u001b[22m\u001b[39mTargeting ϕ=0.6868374999999999\n",
      "\u001b[32mProgress: 100%|█████████████████████████████████████████| Time: 0:00:44\u001b[39m\n",
      "\u001b[36m\u001b[1m[ \u001b[22m\u001b[39m\u001b[36m\u001b[1mInfo: \u001b[22m\u001b[39mϕ=1, PSIS\n",
      "\u001b[36m\u001b[1m[ \u001b[22m\u001b[39m\u001b[36m\u001b[1mInfo: \u001b[22m\u001b[39mFold: 4\n"
     ]
    },
    {
     "data": {
      "text/plain": [
       "Results of univariate zero finding:\n",
       "\n",
       "* Converged to: 0.30635312499999995\n",
       "* Algorithm: Bisection()\n",
       "* iterations: 10\n",
       "* function evaluations ≈ 13\n",
       "\n",
       "Trace:\n",
       "(a₀, b₀) = ( 0.010306249999999999, 1 )\n",
       "(a₁, b₁) = ( 0.103725, 1 )\n",
       "(a₂, b₂) = ( 0.103725, 0.33244999999999997 )\n",
       "(a₃, b₃) = ( 0.18683749999999999, 0.33244999999999997 )\n",
       "(a₄, b₄) = ( 0.23903124999999997, 0.33244999999999997 )\n",
       "(a₅, b₅) = ( 0.28025624999999993, 0.33244999999999997 )\n",
       "(a₆, b₆) = ( 0.28025624999999993, 0.30635312499999995 )\n",
       "(a₇, b₇) = ( 0.29330468749999994, 0.30635312499999995 )\n",
       "(a₈, b₈) = ( 0.29982890624999992, 0.30635312499999995 )\n",
       "(a₉, b₉) = ( 0.3030910156249999, 0.30635312499999995 )\n",
       "(a₁₀, b₁₀) = ( 0.30472207031249993, 0.30635312499999995 )\n",
       "\n"
      ]
     },
     "metadata": {},
     "output_type": "display_data"
    },
    {
     "name": "stderr",
     "output_type": "stream",
     "text": [
      "\u001b[36m\u001b[1m[ \u001b[22m\u001b[39m\u001b[36m\u001b[1mInfo: \u001b[22m\u001b[39mTargeting ϕ=0.30635312499999995\n",
      "\u001b[32mProgress: 100%|█████████████████████████████████████████| Time: 0:00:45\u001b[39m\n"
     ]
    },
    {
     "data": {
      "text/plain": [
       "Results of univariate zero finding:\n",
       "\n",
       "* Converged to: 0.5486564025878904\n",
       "* Algorithm: Bisection()\n",
       "* iterations: 10\n",
       "* function evaluations ≈ 13\n",
       "\n",
       "Trace:\n",
       "(a₀, b₀) = ( 0.30645312499999994, 0.55645312499999988 )\n",
       "(a₁, b₁) = ( 0.41733984374999994, 0.55645312499999988 )\n",
       "(a₂, b₂) = ( 0.47278320312499994, 0.55645312499999988 )\n",
       "(a₃, b₃) = ( 0.50100976562499988, 0.55645312499999988 )\n",
       "(a₄, b₄) = ( 0.52873144531249983, 0.55645312499999988 )\n",
       "(a₅, b₅) = ( 0.5425922851562498, 0.55645312499999988 )\n",
       "(a₆, b₆) = ( 0.5425922851562498, 0.54952270507812484 )\n",
       "(a₇, b₇) = ( 0.54605749511718726, 0.54952270507812484 )\n",
       "(a₈, b₈) = ( 0.54779010009765605, 0.54952270507812484 )\n",
       "(a₉, b₉) = ( 0.54779010009765605, 0.54865640258789039 )\n",
       "(a₁₀, b₁₀) = ( 0.54822325134277317, 0.54865640258789039 )\n",
       "\n"
      ]
     },
     "metadata": {},
     "output_type": "display_data"
    },
    {
     "name": "stderr",
     "output_type": "stream",
     "text": [
      "\u001b[36m\u001b[1m[ \u001b[22m\u001b[39m\u001b[36m\u001b[1mInfo: \u001b[22m\u001b[39mTargeting ϕ=0.5486564025878904\n",
      "\u001b[32mProgress: 100%|█████████████████████████████████████████| Time: 0:00:44\u001b[39m\n"
     ]
    },
    {
     "data": {
      "text/plain": [
       "Results of univariate zero finding:\n",
       "\n",
       "* Converged to: 0.7439721385776994\n",
       "* Algorithm: Bisection()\n",
       "* iterations: 10\n",
       "* function evaluations ≈ 13\n",
       "\n",
       "Trace:\n",
       "(a₀, b₀) = ( 0.54875640258789038, 0.77437820129394519 )\n",
       "(a₁, b₁) = ( 0.66156730194091773, 0.77437820129394519 )\n",
       "(a₂, b₂) = ( 0.71797275161743146, 0.77437820129394519 )\n",
       "(a₃, b₃) = ( 0.71797275161743146, 0.74617547645568827 )\n",
       "(a₄, b₄) = ( 0.73207411403655986, 0.74617547645568827 )\n",
       "(a₅, b₅) = ( 0.73912479524612407, 0.74617547645568827 )\n",
       "(a₆, b₆) = ( 0.74265013585090611, 0.74617547645568827 )\n",
       "(a₇, b₇) = ( 0.74265013585090611, 0.74441280615329719 )\n",
       "(a₈, b₈) = ( 0.7435314710021016, 0.74441280615329719 )\n",
       "(a₉, b₉) = ( 0.7435314710021016, 0.74397213857769939 )\n",
       "(a₁₀, b₁₀) = ( 0.74375180478990044, 0.74397213857769939 )\n",
       "\n"
      ]
     },
     "metadata": {},
     "output_type": "display_data"
    },
    {
     "name": "stderr",
     "output_type": "stream",
     "text": [
      "\u001b[36m\u001b[1m[ \u001b[22m\u001b[39m\u001b[36m\u001b[1mInfo: \u001b[22m\u001b[39mTargeting ϕ=0.7439721385776994\n",
      "\u001b[32mProgress: 100%|█████████████████████████████████████████| Time: 0:00:45\u001b[39m\n"
     ]
    },
    {
     "data": {
      "text/plain": [
       "Results of univariate zero finding:\n",
       "\n",
       "* Converged to: 0.8894061731646795\n",
       "* Algorithm: Bisection()\n",
       "* iterations: 10\n",
       "* function evaluations ≈ 13\n",
       "\n",
       "Trace:\n",
       "(a₀, b₀) = ( 0.87203606928884969, 1 )\n",
       "(a₁, b₁) = ( 0.87203606928884969, 0.93601803464442479 )\n",
       "(a₂, b₂) = ( 0.87203606928884969, 0.90402705196663724 )\n",
       "(a₃, b₃) = ( 0.88803156062774347, 0.90402705196663724 )\n",
       "(a₄, b₄) = ( 0.88803156062774347, 0.89602930629719035 )\n",
       "(a₅, b₅) = ( 0.88803156062774347, 0.89203043346246691 )\n",
       "(a₆, b₆) = ( 0.88803156062774347, 0.89003099704510513 )\n",
       "(a₇, b₇) = ( 0.8890312788364243, 0.89003099704510513 )\n",
       "(a₈, b₈) = ( 0.8890312788364243, 0.88953113794076466 )\n",
       "(a₉, b₉) = ( 0.88928120838859448, 0.88953113794076466 )\n",
       "(a₁₀, b₁₀) = ( 0.88928120838859448, 0.88940617316467951 )\n",
       "\n"
      ]
     },
     "metadata": {},
     "output_type": "display_data"
    },
    {
     "name": "stderr",
     "output_type": "stream",
     "text": [
      "\u001b[36m\u001b[1m[ \u001b[22m\u001b[39m\u001b[36m\u001b[1mInfo: \u001b[22m\u001b[39mTargeting ϕ=0.8894061731646795\n",
      "\u001b[32mProgress: 100%|█████████████████████████████████████████| Time: 0:00:45\u001b[39m\n",
      "\u001b[36m\u001b[1m[ \u001b[22m\u001b[39m\u001b[36m\u001b[1mInfo: \u001b[22m\u001b[39mϕ=1, PSIS\n",
      "\u001b[36m\u001b[1m[ \u001b[22m\u001b[39m\u001b[36m\u001b[1mInfo: \u001b[22m\u001b[39mFold: 5\n"
     ]
    },
    {
     "data": {
      "text/plain": [
       "Results of univariate zero finding:\n",
       "\n",
       "* Converged to: 0.6248574218749997\n",
       "* Algorithm: Bisection()\n",
       "* iterations: 10\n",
       "* function evaluations ≈ 13\n",
       "\n",
       "Trace:\n",
       "(a₀, b₀) = ( 0.010306249999999999, 1 )\n",
       "(a₁, b₁) = ( 0.103725, 1 )\n",
       "(a₂, b₂) = ( 0.33244999999999997, 1 )\n",
       "(a₃, b₃) = ( 0.58244999999999991, 1 )\n",
       "(a₄, b₄) = ( 0.58244999999999991, 0.79122499999999996 )\n",
       "(a₅, b₅) = ( 0.58244999999999991, 0.68683749999999988 )\n",
       "(a₆, b₆) = ( 0.58244999999999991, 0.63464374999999984 )\n",
       "(a₇, b₇) = ( 0.60854687499999982, 0.63464374999999984 )\n",
       "(a₈, b₈) = ( 0.62159531249999977, 0.63464374999999984 )\n",
       "(a₉, b₉) = ( 0.62159531249999977, 0.62811953124999975 )\n",
       "(a₁₀, b₁₀) = ( 0.62159531249999977, 0.62485742187499971 )\n",
       "\n"
      ]
     },
     "metadata": {},
     "output_type": "display_data"
    },
    {
     "name": "stderr",
     "output_type": "stream",
     "text": [
      "\u001b[36m\u001b[1m[ \u001b[22m\u001b[39m\u001b[36m\u001b[1mInfo: \u001b[22m\u001b[39mTargeting ϕ=0.6248574218749997\n",
      "\u001b[32mProgress: 100%|█████████████████████████████████████████| Time: 0:00:45\u001b[39m\n",
      "\u001b[36m\u001b[1m[ \u001b[22m\u001b[39m\u001b[36m\u001b[1mInfo: \u001b[22m\u001b[39mϕ=1, PSIS\n",
      "\u001b[36m\u001b[1m[ \u001b[22m\u001b[39m\u001b[36m\u001b[1mInfo: \u001b[22m\u001b[39mFold: 6\n"
     ]
    },
    {
     "data": {
      "text/plain": [
       "Results of univariate zero finding:\n",
       "\n",
       "* Converged to: 0.3128773437499999\n",
       "* Algorithm: Bisection()\n",
       "* iterations: 10\n",
       "* function evaluations ≈ 13\n",
       "\n",
       "Trace:\n",
       "(a₀, b₀) = ( 0.010306249999999999, 1 )\n",
       "(a₁, b₁) = ( 0.103725, 1 )\n",
       "(a₂, b₂) = ( 0.103725, 0.33244999999999997 )\n",
       "(a₃, b₃) = ( 0.18683749999999999, 0.33244999999999997 )\n",
       "(a₄, b₄) = ( 0.23903124999999997, 0.33244999999999997 )\n",
       "(a₅, b₅) = ( 0.28025624999999993, 0.33244999999999997 )\n",
       "(a₆, b₆) = ( 0.30635312499999995, 0.33244999999999997 )\n",
       "(a₇, b₇) = ( 0.30635312499999995, 0.31940156249999996 )\n",
       "(a₈, b₈) = ( 0.30635312499999995, 0.31287734374999993 )\n",
       "(a₉, b₉) = ( 0.30961523437499994, 0.31287734374999993 )\n",
       "(a₁₀, b₁₀) = ( 0.3112462890624999, 0.31287734374999993 )\n",
       "\n"
      ]
     },
     "metadata": {},
     "output_type": "display_data"
    },
    {
     "name": "stderr",
     "output_type": "stream",
     "text": [
      "\u001b[36m\u001b[1m[ \u001b[22m\u001b[39m\u001b[36m\u001b[1mInfo: \u001b[22m\u001b[39mTargeting ϕ=0.3128773437499999\n",
      "\u001b[32mProgress: 100%|█████████████████████████████████████████| Time: 0:00:45\u001b[39m\n"
     ]
    },
    {
     "data": {
      "text/plain": [
       "Results of univariate zero finding:\n",
       "\n",
       "* Converged to: 0.6124838165283201\n",
       "* Algorithm: Bisection()\n",
       "* iterations: 10\n",
       "* function evaluations ≈ 13\n",
       "\n",
       "Trace:\n",
       "(a₀, b₀) = ( 0.56297734374999986, 1 )\n",
       "(a₁, b₁) = ( 0.56297734374999986, 0.78148867187499993 )\n",
       "(a₂, b₂) = ( 0.56297734374999986, 0.67223300781249984 )\n",
       "(a₃, b₃) = ( 0.56297734374999986, 0.61760517578124985 )\n",
       "(a₄, b₄) = ( 0.5902912597656248, 0.61760517578124985 )\n",
       "(a₅, b₅) = ( 0.60394821777343732, 0.61760517578124985 )\n",
       "(a₆, b₆) = ( 0.61077669677734359, 0.61760517578124985 )\n",
       "(a₇, b₇) = ( 0.61077669677734359, 0.61419093627929666 )\n",
       "(a₈, b₈) = ( 0.61077669677734359, 0.61248381652832007 )\n",
       "(a₉, b₉) = ( 0.61163025665283177, 0.61248381652832007 )\n",
       "(a₁₀, b₁₀) = ( 0.61205703659057586, 0.61248381652832007 )\n",
       "\n"
      ]
     },
     "metadata": {},
     "output_type": "display_data"
    },
    {
     "name": "stderr",
     "output_type": "stream",
     "text": [
      "\u001b[36m\u001b[1m[ \u001b[22m\u001b[39m\u001b[36m\u001b[1mInfo: \u001b[22m\u001b[39mTargeting ϕ=0.6124838165283201\n",
      "\u001b[32mProgress: 100%|█████████████████████████████████████████| Time: 0:00:45\u001b[39m\n"
     ]
    },
    {
     "data": {
      "text/plain": [
       "Results of univariate zero finding:\n",
       "\n",
       "* Converged to: 0.8558539395481345\n",
       "* Algorithm: Bisection()\n",
       "* iterations: 10\n",
       "* function evaluations ≈ 13\n",
       "\n",
       "Trace:\n",
       "(a₀, b₀) = ( 0.80629190826415997, 1 )\n",
       "(a₁, b₁) = ( 0.80629190826415997, 0.90314595413207999 )\n",
       "(a₂, b₂) = ( 0.85471893119811992, 0.90314595413207999 )\n",
       "(a₃, b₃) = ( 0.85471893119811992, 0.87893244266509996 )\n",
       "(a₄, b₄) = ( 0.85471893119811992, 0.86682568693160988 )\n",
       "(a₅, b₅) = ( 0.85471893119811992, 0.8607723090648649 )\n",
       "(a₆, b₆) = ( 0.85471893119811992, 0.85774562013149236 )\n",
       "(a₇, b₇) = ( 0.85471893119811992, 0.85623227566480609 )\n",
       "(a₈, b₈) = ( 0.85547560343146301, 0.85623227566480609 )\n",
       "(a₉, b₉) = ( 0.85547560343146301, 0.85585393954813449 )\n",
       "(a₁₀, b₁₀) = ( 0.85566477148979869, 0.85585393954813449 )\n",
       "\n"
      ]
     },
     "metadata": {},
     "output_type": "display_data"
    },
    {
     "name": "stderr",
     "output_type": "stream",
     "text": [
      "\u001b[36m\u001b[1m[ \u001b[22m\u001b[39m\u001b[36m\u001b[1mInfo: \u001b[22m\u001b[39mTargeting ϕ=0.8558539395481345\n",
      "\u001b[32mProgress: 100%|█████████████████████████████████████████| Time: 0:00:45\u001b[39m\n",
      "\u001b[36m\u001b[1m[ \u001b[22m\u001b[39m\u001b[36m\u001b[1mInfo: \u001b[22m\u001b[39mϕ=1, PSIS\n",
      "\u001b[36m\u001b[1m[ \u001b[22m\u001b[39m\u001b[36m\u001b[1mInfo: \u001b[22m\u001b[39mFold: 7\n"
     ]
    },
    {
     "data": {
      "text/plain": [
       "Results of univariate zero finding:\n",
       "\n",
       "* Converged to: 0.5824499999999999\n",
       "* Algorithm: Bisection()\n",
       "* iterations: 10\n",
       "* function evaluations ≈ 13\n",
       "\n",
       "Trace:\n",
       "(a₀, b₀) = ( 0.010306249999999999, 1 )\n",
       "(a₁, b₁) = ( 0.103725, 1 )\n",
       "(a₂, b₂) = ( 0.33244999999999997, 1 )\n",
       "(a₃, b₃) = ( 0.33244999999999997, 0.58244999999999991 )\n",
       "(a₄, b₄) = ( 0.43683749999999993, 0.58244999999999991 )\n",
       "(a₅, b₅) = ( 0.48903124999999992, 0.58244999999999991 )\n",
       "(a₆, b₆) = ( 0.53025624999999987, 0.58244999999999991 )\n",
       "(a₇, b₇) = ( 0.55635312499999989, 0.58244999999999991 )\n",
       "(a₈, b₈) = ( 0.56940156249999985, 0.58244999999999991 )\n",
       "(a₉, b₉) = ( 0.57592578124999982, 0.58244999999999991 )\n",
       "(a₁₀, b₁₀) = ( 0.57918789062499987, 0.58244999999999991 )\n",
       "\n"
      ]
     },
     "metadata": {},
     "output_type": "display_data"
    },
    {
     "name": "stderr",
     "output_type": "stream",
     "text": [
      "\u001b[36m\u001b[1m[ \u001b[22m\u001b[39m\u001b[36m\u001b[1mInfo: \u001b[22m\u001b[39mTargeting ϕ=0.5824499999999999\n",
      "\u001b[32mProgress: 100%|█████████████████████████████████████████| Time: 0:00:47\u001b[39m\n",
      "\u001b[36m\u001b[1m[ \u001b[22m\u001b[39m\u001b[36m\u001b[1mInfo: \u001b[22m\u001b[39mϕ=1, PSIS\n",
      "\u001b[36m\u001b[1m[ \u001b[22m\u001b[39m\u001b[36m\u001b[1mInfo: \u001b[22m\u001b[39mFold: 8\n"
     ]
    },
    {
     "data": {
      "text/plain": [
       "Results of univariate zero finding:\n",
       "\n",
       "* Converged to: 0.7357691406249999\n",
       "* Algorithm: Bisection()\n",
       "* iterations: 10\n",
       "* function evaluations ≈ 13\n",
       "\n",
       "Trace:\n",
       "(a₀, b₀) = ( 0.010306249999999999, 1 )\n",
       "(a₁, b₁) = ( 0.103725, 1 )\n",
       "(a₂, b₂) = ( 0.33244999999999997, 1 )\n",
       "(a₃, b₃) = ( 0.58244999999999991, 1 )\n",
       "(a₄, b₄) = ( 0.58244999999999991, 0.79122499999999996 )\n",
       "(a₅, b₅) = ( 0.68683749999999988, 0.79122499999999996 )\n",
       "(a₆, b₆) = ( 0.68683749999999988, 0.73903124999999992 )\n",
       "(a₇, b₇) = ( 0.7129343749999999, 0.73903124999999992 )\n",
       "(a₈, b₈) = ( 0.72598281249999985, 0.73903124999999992 )\n",
       "(a₉, b₉) = ( 0.73250703124999983, 0.73903124999999992 )\n",
       "(a₁₀, b₁₀) = ( 0.73576914062499987, 0.73903124999999992 )\n",
       "\n"
      ]
     },
     "metadata": {},
     "output_type": "display_data"
    },
    {
     "name": "stderr",
     "output_type": "stream",
     "text": [
      "\u001b[36m\u001b[1m[ \u001b[22m\u001b[39m\u001b[36m\u001b[1mInfo: \u001b[22m\u001b[39mTargeting ϕ=0.7357691406249999\n",
      "\u001b[32mProgress: 100%|█████████████████████████████████████████| Time: 0:00:44\u001b[39m\n",
      "\u001b[36m\u001b[1m[ \u001b[22m\u001b[39m\u001b[36m\u001b[1mInfo: \u001b[22m\u001b[39mϕ=1, PSIS\n",
      "\u001b[36m\u001b[1m[ \u001b[22m\u001b[39m\u001b[36m\u001b[1mInfo: \u001b[22m\u001b[39mFold: 9\n"
     ]
    },
    {
     "data": {
      "text/plain": [
       "Results of univariate zero finding:\n",
       "\n",
       "* Converged to: 0.2835183593749999\n",
       "* Algorithm: Bisection()\n",
       "* iterations: 10\n",
       "* function evaluations ≈ 13\n",
       "\n",
       "Trace:\n",
       "(a₀, b₀) = ( 0.010306249999999999, 1 )\n",
       "(a₁, b₁) = ( 0.103725, 1 )\n",
       "(a₂, b₂) = ( 0.103725, 0.33244999999999997 )\n",
       "(a₃, b₃) = ( 0.18683749999999999, 0.33244999999999997 )\n",
       "(a₄, b₄) = ( 0.23903124999999997, 0.33244999999999997 )\n",
       "(a₅, b₅) = ( 0.28025624999999993, 0.33244999999999997 )\n",
       "(a₆, b₆) = ( 0.28025624999999993, 0.30635312499999995 )\n",
       "(a₇, b₇) = ( 0.28025624999999993, 0.29330468749999994 )\n",
       "(a₈, b₈) = ( 0.28025624999999993, 0.28678046874999991 )\n",
       "(a₉, b₉) = ( 0.28025624999999993, 0.28351835937499992 )\n",
       "(a₁₀, b₁₀) = ( 0.2818873046874999, 0.28351835937499992 )\n",
       "\n"
      ]
     },
     "metadata": {},
     "output_type": "display_data"
    },
    {
     "name": "stderr",
     "output_type": "stream",
     "text": [
      "\u001b[36m\u001b[1m[ \u001b[22m\u001b[39m\u001b[36m\u001b[1mInfo: \u001b[22m\u001b[39mTargeting ϕ=0.2835183593749999\n",
      "\u001b[32mProgress: 100%|█████████████████████████████████████████| Time: 0:00:45\u001b[39m\n"
     ]
    },
    {
     "data": {
      "text/plain": [
       "Results of univariate zero finding:\n",
       "\n",
       "* Converged to: 0.5308856544494628\n",
       "* Algorithm: Bisection()\n",
       "* iterations: 10\n",
       "* function evaluations ≈ 13\n",
       "\n",
       "Trace:\n",
       "(a₀, b₀) = ( 0.28361835937499991, 0.53361835937499991 )\n",
       "(a₁, b₁) = ( 0.40021376953124993, 0.53361835937499991 )\n",
       "(a₂, b₂) = ( 0.45851147460937491, 0.53361835937499991 )\n",
       "(a₃, b₃) = ( 0.48766032714843743, 0.53361835937499991 )\n",
       "(a₄, b₄) = ( 0.50446950683593739, 0.53361835937499991 )\n",
       "(a₅, b₅) = ( 0.51904393310546859, 0.53361835937499991 )\n",
       "(a₆, b₆) = ( 0.52633114624023425, 0.53361835937499991 )\n",
       "(a₇, b₇) = ( 0.52997475280761708, 0.53361835937499991 )\n",
       "(a₈, b₈) = ( 0.52997475280761708, 0.53179655609130849 )\n",
       "(a₉, b₉) = ( 0.53088565444946278, 0.53179655609130849 )\n",
       "(a₁₀, b₁₀) = ( 0.53088565444946278, 0.53134110527038558 )\n",
       "\n"
      ]
     },
     "metadata": {},
     "output_type": "display_data"
    },
    {
     "name": "stderr",
     "output_type": "stream",
     "text": [
      "\u001b[36m\u001b[1m[ \u001b[22m\u001b[39m\u001b[36m\u001b[1mInfo: \u001b[22m\u001b[39mTargeting ϕ=0.5308856544494628\n",
      "\u001b[32mProgress: 100%|█████████████████████████████████████████| Time: 0:00:44\u001b[39m\n"
     ]
    },
    {
     "data": {
      "text/plain": [
       "Results of univariate zero finding:\n",
       "\n",
       "* Converged to: 0.7215227323293685\n",
       "* Algorithm: Bisection()\n",
       "* iterations: 10\n",
       "* function evaluations ≈ 13\n",
       "\n",
       "Trace:\n",
       "(a₀, b₀) = ( 0.53098565444946277, 0.76549282722473133 )\n",
       "(a₁, b₁) = ( 0.64823924083709705, 0.76549282722473133 )\n",
       "(a₂, b₂) = ( 0.70686603403091419, 0.76549282722473133 )\n",
       "(a₃, b₃) = ( 0.70686603403091419, 0.73617943062782276 )\n",
       "(a₄, b₄) = ( 0.70686603403091419, 0.72152273232936848 )\n",
       "(a₅, b₅) = ( 0.71419438318014128, 0.72152273232936848 )\n",
       "(a₆, b₆) = ( 0.71785855775475482, 0.72152273232936848 )\n",
       "(a₇, b₇) = ( 0.71969064504206159, 0.72152273232936848 )\n",
       "(a₈, b₈) = ( 0.72060668868571498, 0.72152273232936848 )\n",
       "(a₉, b₉) = ( 0.72106471050754173, 0.72152273232936848 )\n",
       "(a₁₀, b₁₀) = ( 0.72129372141845505, 0.72152273232936848 )\n",
       "\n"
      ]
     },
     "metadata": {},
     "output_type": "display_data"
    },
    {
     "name": "stderr",
     "output_type": "stream",
     "text": [
      "\u001b[36m\u001b[1m[ \u001b[22m\u001b[39m\u001b[36m\u001b[1mInfo: \u001b[22m\u001b[39mTargeting ϕ=0.7215227323293685\n",
      "\u001b[32mProgress: 100%|█████████████████████████████████████████| Time: 0:00:45\u001b[39m\n"
     ]
    },
    {
     "data": {
      "text/plain": [
       "Results of univariate zero finding:\n",
       "\n",
       "* Converged to: 0.8748117853883536\n",
       "* Algorithm: Bisection()\n",
       "* iterations: 10\n",
       "* function evaluations ≈ 13\n",
       "\n",
       "Trace:\n",
       "(a₀, b₀) = ( 0.86081136616468423, 1 )\n",
       "(a₁, b₁) = ( 0.86081136616468423, 0.93040568308234206 )\n",
       "(a₂, b₂) = ( 0.86081136616468423, 0.89560852462351315 )\n",
       "(a₃, b₃) = ( 0.86081136616468423, 0.87820994539409869 )\n",
       "(a₄, b₄) = ( 0.86951065577939146, 0.87820994539409869 )\n",
       "(a₅, b₅) = ( 0.87386030058674502, 0.87820994539409869 )\n",
       "(a₆, b₆) = ( 0.87386030058674502, 0.87603512299042186 )\n",
       "(a₇, b₇) = ( 0.87386030058674502, 0.87494771178858344 )\n",
       "(a₈, b₈) = ( 0.87440400618766423, 0.87494771178858344 )\n",
       "(a₉, b₉) = ( 0.87467585898812383, 0.87494771178858344 )\n",
       "(a₁₀, b₁₀) = ( 0.87467585898812383, 0.87481178538835358 )\n",
       "\n"
      ]
     },
     "metadata": {},
     "output_type": "display_data"
    },
    {
     "name": "stderr",
     "output_type": "stream",
     "text": [
      "\u001b[36m\u001b[1m[ \u001b[22m\u001b[39m\u001b[36m\u001b[1mInfo: \u001b[22m\u001b[39mTargeting ϕ=0.8748117853883536\n",
      "\u001b[32mProgress: 100%|█████████████████████████████████████████| Time: 0:00:46\u001b[39m\n"
     ]
    },
    {
     "data": {
      "text/plain": [
       "Results of univariate zero finding:\n",
       "\n",
       "* Converged to: 0.9888837621780664\n",
       "* Algorithm: Bisection()\n",
       "* iterations: 10\n",
       "* function evaluations ≈ 13\n",
       "\n",
       "Trace:\n",
       "(a₀, b₀) = ( 0.93745589269417673, 1 )\n",
       "(a₁, b₁) = ( 0.96872794634708836, 1 )\n",
       "(a₂, b₂) = ( 0.98436397317354418, 1 )\n",
       "(a₃, b₃) = ( 0.98436397317354418, 0.99218198658677204 )\n",
       "(a₄, b₄) = ( 0.98827297988015805, 0.99218198658677204 )\n",
       "(a₅, b₅) = ( 0.98827297988015805, 0.99022748323346499 )\n",
       "(a₆, b₆) = ( 0.98827297988015805, 0.98925023155681147 )\n",
       "(a₇, b₇) = ( 0.9887616057184847, 0.98925023155681147 )\n",
       "(a₈, b₈) = ( 0.9887616057184847, 0.98900591863764808 )\n",
       "(a₉, b₉) = ( 0.98888376217806639, 0.98900591863764808 )\n",
       "(a₁₀, b₁₀) = ( 0.98888376217806639, 0.98894484040785724 )\n",
       "\n"
      ]
     },
     "metadata": {},
     "output_type": "display_data"
    },
    {
     "name": "stderr",
     "output_type": "stream",
     "text": [
      "\u001b[36m\u001b[1m[ \u001b[22m\u001b[39m\u001b[36m\u001b[1mInfo: \u001b[22m\u001b[39mTargeting ϕ=0.9888837621780664\n",
      "\u001b[32mProgress: 100%|█████████████████████████████████████████| Time: 0:00:44\u001b[39m\n",
      "\u001b[36m\u001b[1m[ \u001b[22m\u001b[39m\u001b[36m\u001b[1mInfo: \u001b[22m\u001b[39mϕ=1, PSIS\n",
      "\u001b[36m\u001b[1m[ \u001b[22m\u001b[39m\u001b[36m\u001b[1mInfo: \u001b[22m\u001b[39mFold: 10\n"
     ]
    },
    {
     "data": {
      "text/plain": [
       "Results of univariate zero finding:\n",
       "\n",
       "* Converged to: 0.31777050781249994\n",
       "* Algorithm: Bisection()\n",
       "* iterations: 10\n",
       "* function evaluations ≈ 13\n",
       "\n",
       "Trace:\n",
       "(a₀, b₀) = ( 0.010306249999999999, 1 )\n",
       "(a₁, b₁) = ( 0.103725, 1 )\n",
       "(a₂, b₂) = ( 0.103725, 0.33244999999999997 )\n",
       "(a₃, b₃) = ( 0.18683749999999999, 0.33244999999999997 )\n",
       "(a₄, b₄) = ( 0.23903124999999997, 0.33244999999999997 )\n",
       "(a₅, b₅) = ( 0.28025624999999993, 0.33244999999999997 )\n",
       "(a₆, b₆) = ( 0.30635312499999995, 0.33244999999999997 )\n",
       "(a₇, b₇) = ( 0.30635312499999995, 0.31940156249999996 )\n",
       "(a₈, b₈) = ( 0.31287734374999993, 0.31940156249999996 )\n",
       "(a₉, b₉) = ( 0.31613945312499991, 0.31940156249999996 )\n",
       "(a₁₀, b₁₀) = ( 0.31613945312499991, 0.31777050781249994 )\n",
       "\n"
      ]
     },
     "metadata": {},
     "output_type": "display_data"
    },
    {
     "name": "stderr",
     "output_type": "stream",
     "text": [
      "\u001b[36m\u001b[1m[ \u001b[22m\u001b[39m\u001b[36m\u001b[1mInfo: \u001b[22m\u001b[39mTargeting ϕ=0.31777050781249994\n",
      "\u001b[32mProgress: 100%|█████████████████████████████████████████| Time: 0:00:45\u001b[39m\n"
     ]
    },
    {
     "data": {
      "text/plain": [
       "Results of univariate zero finding:\n",
       "\n",
       "* Converged to: 0.583484561729431\n",
       "* Algorithm: Bisection()\n",
       "* iterations: 10\n",
       "* function evaluations ≈ 13\n",
       "\n",
       "Trace:\n",
       "(a₀, b₀) = ( 0.56787050781249993, 1 )\n",
       "(a₁, b₁) = ( 0.56787050781249993, 0.78393525390624996 )\n",
       "(a₂, b₂) = ( 0.56787050781249993, 0.67590288085937489 )\n",
       "(a₃, b₃) = ( 0.56787050781249993, 0.62188669433593735 )\n",
       "(a₄, b₄) = ( 0.56787050781249993, 0.59487860107421864 )\n",
       "(a₅, b₅) = ( 0.58137455444335928, 0.59487860107421864 )\n",
       "(a₆, b₆) = ( 0.58137455444335928, 0.58812657775878896 )\n",
       "(a₇, b₇) = ( 0.58137455444335928, 0.58475056610107412 )\n",
       "(a₈, b₈) = ( 0.5830625602722167, 0.58475056610107412 )\n",
       "(a₉, b₉) = ( 0.5830625602722167, 0.58390656318664536 )\n",
       "(a₁₀, b₁₀) = ( 0.5830625602722167, 0.58348456172943097 )\n",
       "\n"
      ]
     },
     "metadata": {},
     "output_type": "display_data"
    },
    {
     "name": "stderr",
     "output_type": "stream",
     "text": [
      "\u001b[36m\u001b[1m[ \u001b[22m\u001b[39m\u001b[36m\u001b[1mInfo: \u001b[22m\u001b[39mTargeting ϕ=0.583484561729431\n",
      "\u001b[32mProgress: 100%|█████████████████████████████████████████| Time: 0:00:45\u001b[39m\n"
     ]
    },
    {
     "data": {
      "text/plain": [
       "Results of univariate zero finding:\n",
       "\n",
       "* Converged to: 0.790165658058971\n",
       "* Algorithm: Bisection()\n",
       "* iterations: 10\n",
       "* function evaluations ≈ 13\n",
       "\n",
       "Trace:\n",
       "(a₀, b₀) = ( 0.58358456172943096, 0.79179228086471543 )\n",
       "(a₁, b₁) = ( 0.68768842129707319, 0.79179228086471543 )\n",
       "(a₂, b₂) = ( 0.73974035108089431, 0.79179228086471543 )\n",
       "(a₃, b₃) = ( 0.76576631597280487, 0.79179228086471543 )\n",
       "(a₄, b₄) = ( 0.77877929841876015, 0.79179228086471543 )\n",
       "(a₅, b₅) = ( 0.78528578964173779, 0.79179228086471543 )\n",
       "(a₆, b₆) = ( 0.78853903525322655, 0.79179228086471543 )\n",
       "(a₇, b₇) = ( 0.79016565805897099, 0.79179228086471543 )\n",
       "(a₈, b₈) = ( 0.79016565805897099, 0.79097896946184321 )\n",
       "(a₉, b₉) = ( 0.79016565805897099, 0.79057231376040704 )\n",
       "(a₁₀, b₁₀) = ( 0.79016565805897099, 0.79036898590968896 )\n",
       "\n"
      ]
     },
     "metadata": {},
     "output_type": "display_data"
    },
    {
     "name": "stderr",
     "output_type": "stream",
     "text": [
      "\u001b[36m\u001b[1m[ \u001b[22m\u001b[39m\u001b[36m\u001b[1mInfo: \u001b[22m\u001b[39mTargeting ϕ=0.790165658058971\n",
      "\u001b[32mProgress: 100%|█████████████████████████████████████████| Time: 0:00:45\u001b[39m\n"
     ]
    },
    {
     "data": {
      "text/plain": [
       "Results of univariate zero finding:\n",
       "\n",
       "* Converged to: 0.9523796538073346\n",
       "* Algorithm: Bisection()\n",
       "* iterations: 10\n",
       "* function evaluations ≈ 13\n",
       "\n",
       "Trace:\n",
       "(a₀, b₀) = ( 0.89513282902948543, 1 )\n",
       "(a₁, b₁) = ( 0.94756641451474266, 1 )\n",
       "(a₂, b₂) = ( 0.94756641451474266, 0.97378320725737133 )\n",
       "(a₃, b₃) = ( 0.94756641451474266, 0.960674810886057 )\n",
       "(a₄, b₄) = ( 0.94756641451474266, 0.95412061270039983 )\n",
       "(a₅, b₅) = ( 0.95084351360757124, 0.95412061270039983 )\n",
       "(a₆, b₆) = ( 0.95084351360757124, 0.95248206315398554 )\n",
       "(a₇, b₇) = ( 0.95166278838077834, 0.95248206315398554 )\n",
       "(a₈, b₈) = ( 0.95207242576738194, 0.95248206315398554 )\n",
       "(a₉, b₉) = ( 0.95227724446068374, 0.95248206315398554 )\n",
       "(a₁₀, b₁₀) = ( 0.95227724446068374, 0.95237965380733458 )\n",
       "\n"
      ]
     },
     "metadata": {},
     "output_type": "display_data"
    },
    {
     "name": "stderr",
     "output_type": "stream",
     "text": [
      "\u001b[36m\u001b[1m[ \u001b[22m\u001b[39m\u001b[36m\u001b[1mInfo: \u001b[22m\u001b[39mTargeting ϕ=0.9523796538073346\n",
      "\u001b[32mProgress: 100%|█████████████████████████████████████████| Time: 0:00:45\u001b[39m\n",
      "\u001b[36m\u001b[1m[ \u001b[22m\u001b[39m\u001b[36m\u001b[1mInfo: \u001b[22m\u001b[39mϕ=1, PSIS\n"
     ]
    }
   ],
   "source": [
    "Random.seed!(1)\n",
    "RUN_aSMC && run(chain, SMCS_M5; k̂_threshold=+Inf, save_bool=true)"
   ]
  },
  {
   "cell_type": "markdown",
   "id": "8ea23613-6bd2-4884-a4fe-04ed8ed06f51",
   "metadata": {},
   "source": [
    "# Figures"
   ]
  },
  {
   "cell_type": "code",
   "execution_count": 48,
   "id": "0812b3a5-c48b-4be1-b2b2-2b965eae1c36",
   "metadata": {},
   "outputs": [
    {
     "data": {
      "text/plain": [
       "Compute_LPDs (generic function with 1 method)"
      ]
     },
     "execution_count": 48,
     "metadata": {},
     "output_type": "execute_result"
    }
   ],
   "source": [
    "function Compute_LPDs(results, leave_g::Vector{String}, _model, _names; constrain=true)::Vector{Float64}\n",
    "\n",
    "    # compute log predictive density (LPD) for a single particle\n",
    "    function LPD(particle)::Float64\n",
    "        \n",
    "        # Wrap in NamedArray\n",
    "        # invert unconstrained parameterization for MCMC draws already constrained\n",
    "        particle = NamedArray(\n",
    "            constrain ? particle |> Turing.inverse(Turing.bijector(_model)) : particle,\n",
    "            _names,\n",
    "            :d\n",
    "        )\n",
    "        \n",
    "        A = zeros(data.S, data.S)\n",
    "        for s_i in 1:data.S\n",
    "            A[s_i,s_i] = particle[:d => \"A[$(s_i), $(s_i)]\"]\n",
    "            for s_j in 1:s_i-1\n",
    "                A[s_i,s_j] = particle[:d => \"A[$(s_i), $(s_j)]\"]\n",
    "            end\n",
    "        end\n",
    "        \n",
    "        α_s = particle[:d => [\"α_s[$(s_i)]\" for s_i in 1:data.S]]\n",
    "        α_g = particle[:d => [\"α_g[$(g_i)]\" for g_i in 1:data.G]]\n",
    "        \n",
    "        log_ℓ = 0.\n",
    "        X_g = data.G_axis * α_g\n",
    "        for (k_i, k) in enumerate(data.K_axis)\n",
    "            if k in leave_g # only evaluate for held-out items\n",
    "                μ = α_s .+ X_g[k_i]\n",
    "                log_ℓ += logpdf(MvNormal(I(data.S)), A' * (data.y[:k => k] - μ))\n",
    "            end\n",
    "        end\n",
    "        log_ℓ\n",
    "    end\n",
    "    \n",
    "    LPDs = Float64[]\n",
    "    for n in 1:results.R\n",
    "        push!(LPDs, results[:particles][:n => n] |> LPD)\n",
    "    end\n",
    "    \n",
    "    LPDs\n",
    "end"
   ]
  },
  {
   "cell_type": "code",
   "execution_count": 74,
   "id": "c80ffbb0-e70c-41b1-b473-8e720224ea99",
   "metadata": {},
   "outputs": [
    {
     "name": "stderr",
     "output_type": "stream",
     "text": [
      "\u001b[36m\u001b[1m[ \u001b[22m\u001b[39m\u001b[36m\u001b[1mInfo: \u001b[22m\u001b[39mComputing LPDs.\n",
      "\u001b[36m\u001b[1m[ \u001b[22m\u001b[39m\u001b[36m\u001b[1mInfo: \u001b[22m\u001b[39mFold: 1\n",
      "\u001b[36m\u001b[1m[ \u001b[22m\u001b[39m\u001b[36m\u001b[1mInfo: \u001b[22m\u001b[39mFold: 2\n",
      "\u001b[36m\u001b[1m[ \u001b[22m\u001b[39m\u001b[36m\u001b[1mInfo: \u001b[22m\u001b[39mFold: 3\n",
      "\u001b[36m\u001b[1m[ \u001b[22m\u001b[39m\u001b[36m\u001b[1mInfo: \u001b[22m\u001b[39mFold: 4\n",
      "\u001b[36m\u001b[1m[ \u001b[22m\u001b[39m\u001b[36m\u001b[1mInfo: \u001b[22m\u001b[39mFold: 5\n",
      "\u001b[36m\u001b[1m[ \u001b[22m\u001b[39m\u001b[36m\u001b[1mInfo: \u001b[22m\u001b[39mFold: 6\n",
      "\u001b[36m\u001b[1m[ \u001b[22m\u001b[39m\u001b[36m\u001b[1mInfo: \u001b[22m\u001b[39mFold: 7\n",
      "\u001b[36m\u001b[1m[ \u001b[22m\u001b[39m\u001b[36m\u001b[1mInfo: \u001b[22m\u001b[39mFold: 8\n",
      "\u001b[36m\u001b[1m[ \u001b[22m\u001b[39m\u001b[36m\u001b[1mInfo: \u001b[22m\u001b[39mFold: 9\n",
      "\u001b[36m\u001b[1m[ \u001b[22m\u001b[39m\u001b[36m\u001b[1mInfo: \u001b[22m\u001b[39mFold: 10\n"
     ]
    }
   ],
   "source": [
    "k̂_threshold = .7\n",
    "\n",
    "let\n",
    "    # Prepare dimensions and containers\n",
    "    R                   = length(load(joinpath(\"output\", \"M5\", \"mcmc\", \"chain.jld\"))[\"data\"])\n",
    "    LPD_template        = NamedArray(zeros(R, data.valid_idx |> length),\n",
    "                            (1:R, 1:length(data.valid_idx)), (:n, :g))\n",
    "    global LPD_mcmc     = similar(LPD_template)\n",
    "    global LPD_smc      = similar(LPD_template)\n",
    "    global LPD_psis     = similar(LPD_template)\n",
    "    global weights_smc  = load(joinpath(\"output\", \"M5\", \"smc\",\n",
    "            \"weights_threshold-$(k̂_threshold).jld\"))[\"data\"]\n",
    "    global weights_psis = load(joinpath(\"output\", \"M5\", \"psis\",\n",
    "            \"weights_threshold-$(0.7).jld\"))[\"data\"]\n",
    "\n",
    "    # Helper to wrap chain into NamedArray for Compute_LPDs\n",
    "    function _wrap_particles(_particles::Vector)\n",
    "        R = length(_particles)\n",
    "        results = (; particles=NamedArray(_particles, 1:R, :n), R=R)\n",
    "    end\n",
    "\n",
    "    # Pre-load/instantiate particles / baseline posterior\n",
    "    chain_smc = load(joinpath(\"output\", \"M5\", \"smc\",\n",
    "            \"particles_threshold-$(k̂_threshold).jld\"))[\"data\"]\n",
    "    chain_psis = load(joinpath(\"output\", \"M5\", \"psis\",\n",
    "            \"particles_threshold-$(0.7).jld\"))[\"data\"]\n",
    "    _model = Model(data, [\"none\"], 0) # leave_g = [\"none\"] to disable leave-group-out logic\n",
    "    _names = sample(_model, Prior(), 1).name_map.parameters .|> String # Parameter names\n",
    "\n",
    "    # Loop over folds\n",
    "    @info \"Computing LPDs.\"; sleep(0.01)\n",
    "    for (fold_i, leave_g) in enumerate(data.valid_idx)\n",
    "        @info \"Fold: $(fold_i)\"\n",
    "\n",
    "        # MCMC as ground truth\n",
    "        chain = load(joinpath(\"output\", \"M5\", \"mcmc\", \"chain_lso-$(fold_i).jld\"))[\"data\"]\n",
    "        LPD_mcmc[:, fold_i] = Compute_LPDs(\n",
    "            chain |> _wrap_particles,\n",
    "            leave_g, _model, _names;\n",
    "            constrain=false) # LGO draws are already constrained to original space\n",
    "    \n",
    "        # SMC estimatechain_smc[fold_i] |> mat2vecvec\n",
    "        LPD_smc[:, fold_i] = Compute_LPDs(\n",
    "            chain_smc[fold_i] |> mat2vecvec |> _wrap_particles,\n",
    "            leave_g, _model, _names;\n",
    "            constrain=true)\n",
    "    \n",
    "        # PSIS estimate\n",
    "        LPD_psis[:, fold_i] = Compute_LPDs(\n",
    "            chain_psis[fold_i] |> mat2vecvec |> _wrap_particles,\n",
    "            leave_g, _model, _names;\n",
    "            constrain=true)\n",
    "        #break\n",
    "    end\n",
    "end;"
   ]
  },
  {
   "cell_type": "code",
   "execution_count": 75,
   "id": "c98fa4ef-ab4f-4d77-bcf4-eba6a77b927a",
   "metadata": {},
   "outputs": [
    {
     "data": {
      "text/plain": [
       "\"C:\\\\Users\\\\o6m1g\\\\Documents\\\\GitHub\\\\SMC-LGO-CV-private\\\\img_threshold-Inf\\\\M5.pdf\""
      ]
     },
     "execution_count": 75,
     "metadata": {},
     "output_type": "execute_result"
    }
   ],
   "source": [
    "let\n",
    "    # Compute weighted average estimates: MCMC-, SMC- and PSIS-LSO-CV\n",
    "    est_mcmc = _mean(LPD_mcmc; dims=1)\n",
    "    est_smc = [sum(LPD_smc[:, fold_i] .* weights_smc[fold_i])\n",
    "        for (fold_i, _) in enumerate(data.valid_idx)]\n",
    "    est_psis = [sum(LPD_psis[:, fold_i] .* weights_psis[fold_i])\n",
    "        for (fold_i, _) in enumerate(data.valid_idx)]\n",
    "\n",
    "    # Compute relative error per fold\n",
    "    relErr_smc = abs.(est_mcmc - est_smc) ./ abs.(est_mcmc)\n",
    "    relErr_psis = abs.(est_mcmc - est_psis) ./ abs.(est_mcmc)\n",
    "\n",
    "    # Sort folds by PSIS error\n",
    "    re_idx = relErr_psis |> sortperm\n",
    "\n",
    "    \"\"\"Plot 1: relative errors\"\"\"\n",
    "    plot(relErr_smc[re_idx], color=:red, label=\"\", linewidth=2, alpha=0.7,\n",
    "        markershape=:o, ms=3, mswidth=0)\n",
    "    plot!(relErr_psis[re_idx], color=:green, label=\"\", linewidth=2, alpha=0.7,\n",
    "        markershape=:square, ms=3, mswidth=0)\n",
    "    plt_1 = plot!(title=\"Relative error\",\n",
    "        xlabel=\"Group \"* L\"K\" * \"-fold index\",\n",
    "        ylim=(0, 1.1maximum([relErr_smc; relErr_psis])))\n",
    "    annotate!(10-0.3, relErr_psis[re_idx][end], text(\"PSIS\", 7, :green, :right))\n",
    "    annotate!(10+0.3, relErr_smc[re_idx][end] + 0.003, text(\"SMC\", 7, :red, :bottom))\n",
    "\n",
    "    # Load runtimes, reorder by sorted indices\n",
    "    time_mcmc = load(joinpath(\"output\", \"M5\", \"mcmc\",\n",
    "            \"times_naive-lso.jld\"))[\"data\"] / 60\n",
    "    time_smc  = load(joinpath(\"output\", \"M5\", \"smc\",\n",
    "            \"times_threshold-$(k̂_threshold).jld\"))[\"data\"] / 60\n",
    "    time_psis = load(joinpath(\"output\", \"M5\", \"psis\",\n",
    "            \"times_threshold-$(0.7).jld\"))[\"data\"] / 60\n",
    "    _data     = [time_mcmc time_smc time_psis][re_idx, :]\n",
    "\n",
    "    \"\"\"Plot 2: runtimes\"\"\"\n",
    "    plot(_data)\n",
    "    annotate!(7, time_mcmc[re_idx][7], text(\"MCMC\", :blue, 7, :bottom))\n",
    "    annotate!(7, time_smc[re_idx][7],  text(\"SMC\", :red, 7, :bottom))\n",
    "    annotate!(7, time_psis[re_idx][7], text(\"PSIS\", :green, 7, :bottom))\n",
    "    plt_2 = plot(plot!(), plot(cumsum(_data; dims=1)); # overlay runtime + cumulative\n",
    "        layout=grid(2,1,heights=[0.55, 0.45]),\n",
    "        color=[:blue :red :green],\n",
    "        title=[\"Runtime [min.]\" \"Cumulative\"],\n",
    "        label=\"\",\n",
    "        ylim=[(0, 1.2maximum(_data)) (0, 1.2maximum(cumsum(_data; dims=1)))],\n",
    "        linewidth=2,\n",
    "        xticks=1:length(data.valid_idx),\n",
    "        xlabel=[\"\" \"Group \"* L\"K\" * \"-fold index\"],\n",
    "        #framestyle=:semi,\n",
    "    )\n",
    "\n",
    "    \"\"\"Plot 3: fold-specific paths\"\"\"\n",
    "    histories = load(joinpath(\"output\", \"M5\", \"smc\",\n",
    "            \"histories_threshold-$(k̂_threshold).jld\"))[\"data\"][re_idx]\n",
    "    plot(ymirror=false)\n",
    "    for (g, history) in enumerate(histories)\n",
    "        for ℓ in history\n",
    "            if 0 < ℓ < 1\n",
    "                #annotate!(ℓ - 0.0, g - 0.2, text(\"$(round(ℓ; digits=2)) \", :black, :right, 6, rotation=10))\n",
    "            end\n",
    "        end\n",
    "        scatter!(history, repeat([g], length(history)), ms=4, mswidth=0.1, color=:red, label=\"\")\n",
    "    end\n",
    "    _offset = 0.000\n",
    "    plt_3 = plot!(\n",
    "        xlim=(0-_offset, 1+_offset),\n",
    "        xticks=([0, .5, 1], [\"Baseline\", L\"\\rightarrow\", \"Fold\\n-deleted\\ntarget\"]),\n",
    "        yticks=1:length(data.valid_idx),\n",
    "        ytickfontsize=7,\n",
    "        title=\"Paths\",\n",
    "        yflip=true,\n",
    "        framestyle=:box,\n",
    "    )\n",
    "\n",
    "    plot(plt_1, plt_2, plt_3, layout=grid(1,3), size=(650,230),\n",
    "        bottommargin=2Plots.mm,\n",
    "        rightmargin=[0Plots.mm 0Plots.mm 0Plots.mm 5Plots.mm],\n",
    "        titlefontsize=11, xlabelfontsize=8,\n",
    "        tick_direction=:out,\n",
    "    )\n",
    "\n",
    "    _dir = \"img_$(SESSION)\" * (k̂_threshold == 0.7 ? \"\" : \"_threshold-$(k̂_threshold)\")\n",
    "    isdir(_dir) || mkpath(_dir) # Ensure path is present\n",
    "    savefig(joinpath(_dir, \"M5.pdf\"))\n",
    "end"
   ]
  },
  {
   "cell_type": "code",
   "execution_count": null,
   "id": "ff5c2d17-d4ba-417c-ba16-da592b1fc496",
   "metadata": {},
   "outputs": [],
   "source": []
  }
 ],
 "metadata": {
  "kernelspec": {
   "display_name": "Julia (8 threads) 1.10.4",
   "language": "julia",
   "name": "julia-_8-threads_-1.10"
  },
  "language_info": {
   "file_extension": ".jl",
   "mimetype": "application/julia",
   "name": "julia",
   "version": "1.10.4"
  }
 },
 "nbformat": 4,
 "nbformat_minor": 5
}
