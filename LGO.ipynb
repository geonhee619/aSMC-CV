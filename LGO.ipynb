{
 "cells": [
  {
   "cell_type": "code",
   "execution_count": 1,
   "id": "4bccae1c-df4c-4572-b9a2-3d6144c727a6",
   "metadata": {},
   "outputs": [
    {
     "name": "stdout",
     "output_type": "stream",
     "text": [
      "Julia Version 1.10.4\n",
      "Commit 48d4fd4843 (2024-06-04 10:41 UTC)\n",
      "Build Info:\n",
      "  Official https://julialang.org/ release\n",
      "Platform Info:\n",
      "  OS: Windows (x86_64-w64-mingw32)\n",
      "  CPU: 24 × 12th Gen Intel(R) Core(TM) i9-12900K\n",
      "  WORD_SIZE: 64\n",
      "  LIBM: libopenlibm\n",
      "  LLVM: libLLVM-15.0.7 (ORCJIT, alderlake)\n",
      "Threads: 8 default, 0 interactive, 4 GC (on 24 virtual cores)\n",
      "Environment:\n",
      "  JULIA_NUM_THREADS = 8\n"
     ]
    }
   ],
   "source": [
    "versioninfo()"
   ]
  },
  {
   "cell_type": "code",
   "execution_count": 2,
   "id": "c4830cb4-8be7-43d8-bbe6-b14d56040764",
   "metadata": {
    "scrolled": true
   },
   "outputs": [
    {
     "name": "stderr",
     "output_type": "stream",
     "text": [
      "\u001b[32m\u001b[1m  Activating\u001b[22m\u001b[39m project at `C:\\Users\\o6m1g\\Documents\\GitHub\\aSMC-CV`\n"
     ]
    },
    {
     "name": "stdout",
     "output_type": "stream",
     "text": [
      "\u001b[32m\u001b[1mStatus\u001b[22m\u001b[39m `C:\\Users\\o6m1g\\Documents\\GitHub\\aSMC-CV\\Project.toml`\n",
      "  \u001b[90m[0bf59076] \u001b[39mAdvancedHMC v0.8.0\n",
      "  \u001b[90m[336ed68f] \u001b[39mCSV v0.10.15\n",
      "  \u001b[90m[a93c6f00] \u001b[39mDataFrames v1.7.0\n",
      "  \u001b[90m[31c24e10] \u001b[39mDistributions v0.25.120\n",
      "  \u001b[90m[4138dd39] \u001b[39mJLD v0.13.5\n",
      "  \u001b[90m[b964fa9f] \u001b[39mLaTeXStrings v1.4.0\n",
      "  \u001b[90m[6fdf6af0] \u001b[39mLogDensityProblems v2.1.2\n",
      "  \u001b[90m[86f7a689] \u001b[39mNamedArrays v0.10.4\n",
      "  \u001b[90m[ce719bf2] \u001b[39mPSIS v0.9.8\n",
      "  \u001b[90m[91a5bcdd] \u001b[39mPlots v1.40.16\n",
      "  \u001b[90m[92933f4c] \u001b[39mProgressMeter v1.10.4\n",
      "  \u001b[90m[f2b01f46] \u001b[39mRoots v2.2.8\n",
      "  \u001b[90m[2913bbd2] \u001b[39mStatsBase v0.34.5\n",
      "  \u001b[90m[4c63d2b9] \u001b[39mStatsFuns v1.5.0\n",
      "  \u001b[90m[f3b207a7] \u001b[39mStatsPlots v0.15.7\n",
      "  \u001b[90m[fce5fe82] \u001b[39mTuring v0.39.4\n",
      "  \u001b[90m[ade2ca70] \u001b[39mDates\n",
      "  \u001b[90m[37e2e46d] \u001b[39mLinearAlgebra\n",
      "  \u001b[90m[9a3f8284] \u001b[39mRandom\n"
     ]
    }
   ],
   "source": [
    "using Pkg\n",
    "Pkg.activate(\".\")\n",
    "Pkg.instantiate()\n",
    "Pkg.status()"
   ]
  },
  {
   "cell_type": "markdown",
   "id": "5c88242f-5bf1-4038-bd52-9e887fd2cd63",
   "metadata": {},
   "source": [
    "# Setup"
   ]
  },
  {
   "cell_type": "code",
   "execution_count": 3,
   "id": "092e6558-7e58-465e-b4af-6b888ac0e4af",
   "metadata": {},
   "outputs": [],
   "source": [
    "include(\"Init.jl\")"
   ]
  },
  {
   "cell_type": "code",
   "execution_count": 4,
   "id": "7833d03c-ee99-44cf-b3c0-6725b577daa4",
   "metadata": {},
   "outputs": [
    {
     "data": {
      "text/plain": [
       "(\"Running on \", 8, \" threads.\")"
      ]
     },
     "execution_count": 4,
     "metadata": {},
     "output_type": "execute_result"
    }
   ],
   "source": [
    "\"Running on \", Threads.nthreads(), \" threads.\""
   ]
  },
  {
   "cell_type": "code",
   "execution_count": 5,
   "id": "9870d2ef-ab0e-4f74-a1fb-7e2417d236e2",
   "metadata": {},
   "outputs": [],
   "source": [
    "using Turing"
   ]
  },
  {
   "cell_type": "code",
   "execution_count": 6,
   "id": "3555474a-2766-46d7-95ee-9dec1ba05fc7",
   "metadata": {},
   "outputs": [],
   "source": [
    "RUN_MCMC = false\n",
    "RUN_aSMC = true;"
   ]
  },
  {
   "cell_type": "code",
   "execution_count": 7,
   "id": "cc281ea9-1676-4afe-8582-6331f8e7a109",
   "metadata": {},
   "outputs": [],
   "source": [
    "# Tag by timestamp\n",
    "SESSION = Dates.format(now(), \"yyyy-mm-dd-HH-MM-SS\");"
   ]
  },
  {
   "cell_type": "markdown",
   "id": "28bf4394-b6e5-4e9b-a93f-5556e4ceffe4",
   "metadata": {},
   "source": [
    "# Data"
   ]
  },
  {
   "cell_type": "code",
   "execution_count": 6,
   "id": "4531d2e0-5f86-47c3-8ea9-ee709d974f17",
   "metadata": {
    "scrolled": true
   },
   "outputs": [
    {
     "data": {
      "text/html": [
       "<div><div style = \"float: left;\"><span>4×4 DataFrame</span></div><div style = \"clear: both;\"></div></div><div class = \"data-frame\" style = \"overflow-x: scroll;\"><table class = \"data-frame\" style = \"margin-bottom: 6px;\"><thead><tr class = \"header\"><th class = \"rowNumber\" style = \"font-weight: bold; text-align: right;\">Row</th><th style = \"text-align: left;\">log_radon</th><th style = \"text-align: left;\">floor</th><th style = \"text-align: left;\">log_u</th><th style = \"text-align: left;\">county</th></tr><tr class = \"subheader headerLastRow\"><th class = \"rowNumber\" style = \"font-weight: bold; text-align: right;\"></th><th title = \"Float64\" style = \"text-align: left;\">Float64</th><th title = \"Int64\" style = \"text-align: left;\">Int64</th><th title = \"Float64\" style = \"text-align: left;\">Float64</th><th title = \"String31\" style = \"text-align: left;\">String31</th></tr></thead><tbody><tr><td class = \"rowNumber\" style = \"font-weight: bold; text-align: right;\">1</td><td style = \"text-align: right;\">1.43508</td><td style = \"text-align: right;\">0</td><td style = \"text-align: right;\">0.165862</td><td style = \"text-align: left;\">MARTIN</td></tr><tr><td class = \"rowNumber\" style = \"font-weight: bold; text-align: right;\">2</td><td style = \"text-align: right;\">1.02962</td><td style = \"text-align: right;\">0</td><td style = \"text-align: right;\">-0.418054</td><td style = \"text-align: left;\">RAMSEY</td></tr><tr><td class = \"rowNumber\" style = \"font-weight: bold; text-align: right;\">3</td><td style = \"text-align: right;\">0.262364</td><td style = \"text-align: right;\">0</td><td style = \"text-align: right;\">-0.418054</td><td style = \"text-align: left;\">RAMSEY</td></tr><tr><td class = \"rowNumber\" style = \"font-weight: bold; text-align: right;\">4</td><td style = \"text-align: right;\">1.28093</td><td style = \"text-align: right;\">0</td><td style = \"text-align: right;\">-0.418054</td><td style = \"text-align: left;\">RAMSEY</td></tr></tbody></table></div>"
      ],
      "text/latex": [
       "\\begin{tabular}{r|cccc}\n",
       "\t& log\\_radon & floor & log\\_u & county\\\\\n",
       "\t\\hline\n",
       "\t& Float64 & Int64 & Float64 & String31\\\\\n",
       "\t\\hline\n",
       "\t1 & 1.43508 & 0 & 0.165862 & MARTIN \\\\\n",
       "\t2 & 1.02962 & 0 & -0.418054 & RAMSEY \\\\\n",
       "\t3 & 0.262364 & 0 & -0.418054 & RAMSEY \\\\\n",
       "\t4 & 1.28093 & 0 & -0.418054 & RAMSEY \\\\\n",
       "\\end{tabular}\n"
      ],
      "text/plain": [
       "\u001b[1m4×4 DataFrame\u001b[0m\n",
       "\u001b[1m Row \u001b[0m│\u001b[1m log_radon \u001b[0m\u001b[1m floor \u001b[0m\u001b[1m log_u     \u001b[0m\u001b[1m county   \u001b[0m\n",
       "     │\u001b[90m Float64   \u001b[0m\u001b[90m Int64 \u001b[0m\u001b[90m Float64   \u001b[0m\u001b[90m String31 \u001b[0m\n",
       "─────┼───────────────────────────────────────\n",
       "   1 │  1.43508       0   0.165862  MARTIN\n",
       "   2 │  1.02962       0  -0.418054  RAMSEY\n",
       "   3 │  0.262364      0  -0.418054  RAMSEY\n",
       "   4 │  1.28093       0  -0.418054  RAMSEY"
      ]
     },
     "execution_count": 6,
     "metadata": {},
     "output_type": "execute_result"
    }
   ],
   "source": [
    "# Load data\n",
    "df = CSV.read(joinpath(\"data\", \"radon\", \"radon.csv\"), DataFrame)\n",
    "first(df, 4)"
   ]
  },
  {
   "cell_type": "code",
   "execution_count": 7,
   "id": "41f98ccf-9900-4e9a-973a-cf063fb75bd3",
   "metadata": {},
   "outputs": [],
   "source": [
    "struct Data_Radon\n",
    "    y::Vector{Float64}    # Response\n",
    "    X::Matrix{Float64}    # Observation-level covariates\n",
    "    U::Matrix{Float64}    # County-level covariates\n",
    "    county::Vector{Int64} # County index for each observation (1 to G)\n",
    "    N::Int64              # Total number of observations\n",
    "    G::Int64              # Number of unique counties\n",
    "    N_g::Vector{Int64}    # Observation count per county (length G)\n",
    "end"
   ]
  },
  {
   "cell_type": "code",
   "execution_count": 8,
   "id": "0b6254f3-7486-488a-8585-679233254391",
   "metadata": {
    "scrolled": true
   },
   "outputs": [
    {
     "data": {
      "text/plain": [
       "Data_Radon([1.4350845252893225, 1.0296194171811583, 0.26236426446749106, 1.2809338454620642, 1.7227665977411035, 1.7227665977411035, 0.26236426446749106, 1.6094379124341003, 1.410986973710262, 1.2809338454620642  …  1.3350010667323402, -0.5108256237659907, 0.09531017980432493, 0.4054651081081644, -0.6931471805599453, -0.5108256237659907, 0.5306282510621705, 0.0, 2.2192034840549946, 0.8329091229351041], [1.0 0.0; 1.0 0.0; … ; 1.0 1.0; 1.0 1.0], [1.0 0.16586183575526953; 1.0 -0.418053510614464; … ; 1.0 -0.7518722327017873; 1.0 -0.6633476306014291], [1, 2, 2, 2, 2, 2, 2, 2, 2, 2  …  56, 13, 51, 52, 13, 13, 13, 13, 15, 82], 919, 85, [7, 32, 5, 3, 3, 6, 4, 4, 2, 11  …  12, 6, 5, 4, 4, 3, 4, 5, 3, 11])"
      ]
     },
     "execution_count": 8,
     "metadata": {},
     "output_type": "execute_result"
    }
   ],
   "source": [
    "# Construct data for \"radon\" example\n",
    "let\n",
    "    y = df.log_radon # Response variable\n",
    "    X = [ones(size(df, 1)) df.floor] # Covariates\n",
    "    N = length(y) # Total number of observations\n",
    "    G = length(unique(df.county)) # Total number of unique counties\n",
    "\n",
    "    # County-level covariate\n",
    "    u = unique(df.log_u)\n",
    "    @assert length(u) == G == 85 # Assert expected structure: exactly 85 counties and log_u values\n",
    "    U = [ones(G) u]\n",
    "\n",
    "    # Assign county index to each observation\n",
    "    county_dict = Dict(g => g_i for (g_i, (g, _)) in enumerate(zip(unique(df.county), u)))\n",
    "    county = [county_dict[g] for g in df.county]\n",
    "\n",
    "    # Count observations per county → vector of length G\n",
    "    N_g = sum(df.county .== permutedims(unique(df.county)); dims=1) |> vec\n",
    "\n",
    "    # Assemble data structure for modeling\n",
    "    global data = Data_Radon(y, X, U, county, N, G, N_g)\n",
    "end"
   ]
  },
  {
   "cell_type": "markdown",
   "id": "9d4a488f-5220-455d-921e-bc9a43f613f6",
   "metadata": {},
   "source": [
    "# MCMC"
   ]
  },
  {
   "cell_type": "code",
   "execution_count": 9,
   "id": "7e4a5200-e247-4b84-bcfe-c6e7a63b40ac",
   "metadata": {},
   "outputs": [
    {
     "data": {
      "text/plain": [
       "Model (generic function with 2 methods)"
      ]
     },
     "execution_count": 9,
     "metadata": {},
     "output_type": "execute_result"
    }
   ],
   "source": [
    "@model function Model(\n",
    "        data::Data_Radon,\n",
    "        leave_g::Int64,\n",
    "        ϕ::Union{Float64, Int64},\n",
    "    )\n",
    "    Γ ~ filldist(Normal(), 2, 2)\n",
    "    v_y ~ InverseGamma(2, 1)\n",
    "    v_β ~ filldist(Exponential(), 2)\n",
    "    \n",
    "    β = Vector(undef, data.G)\n",
    "    for g in 1:data.G\n",
    "        β[g] ~ MvNormal(Γ * data.U[g,:], v_β |> Diagonal)\n",
    "    end\n",
    "    \n",
    "    for i in 1:data.N\n",
    "        # Apply leave-one-group-out logic:\n",
    "        # if observation belongs to leave_g, downweight likelihood by (1 - ϕ)\n",
    "        _power = data.county[i] == leave_g ? (1 - ϕ) : 1\n",
    "        Turing.@addlogprob! _power * logpdf(\n",
    "            Normal(data.X[i,:]' * β[data.county[i]], v_y |> sqrt), data.y[i])\n",
    "    end\n",
    "    \n",
    "    (; Γ, v_β, v_y, β)\n",
    "end"
   ]
  },
  {
   "cell_type": "code",
   "execution_count": 10,
   "id": "a3416c51-26bb-4c9b-9718-304bd5f18b01",
   "metadata": {},
   "outputs": [
    {
     "data": {
      "text/plain": [
       "run_MCMC (generic function with 1 method)"
      ]
     },
     "execution_count": 10,
     "metadata": {},
     "output_type": "execute_result"
    }
   ],
   "source": [
    "function run_MCMC(; leave_g::Int64, save_bool::Bool=false)\n",
    "    \"\"\"\n",
    "    Function to run MCMC, leaving (leave_g)-th group out.\n",
    "    Set leave_g = -1 to target baseline posterior.\n",
    "    \"\"\"\n",
    "    # Instantiate baseline posterior\n",
    "    @assert leave_g ∈ [-1; 1:data.G]\n",
    "    _model = nothing\n",
    "    if leave_g == -1\n",
    "        # leave_g = -1 ⟺ no leave-group-out\n",
    "        # ϕ = 0 ⟺ full weight\n",
    "        _model = Model(data, -1, 0)\n",
    "    else\n",
    "        # ϕ = 1 ⟺ no weight; case deleted\n",
    "        _model = Model(data, leave_g, 1)\n",
    "    end\n",
    "    ℓπ = LogDensityFunction(_model)\n",
    "    Turing.DynamicPPL.link!!(ℓπ.varinfo, _model)\n",
    "    \n",
    "    D = LogDensityProblems.dimension(ℓπ) # Dimensionality of parameter space\n",
    "    metric = DiagEuclideanMetric(D)\n",
    "    hamiltonian = Hamiltonian(metric, ℓπ)\n",
    "\n",
    "    # Sampling settings\n",
    "    n_burn, n_adapts, n_samples, thin = 1_000, 1_000, 3_000, 3 # By pilot run: abs autocorr is under 0.05 after 3 for majority of parameters\n",
    "    initial_θ = ones(D)\n",
    "    initial_ϵ = find_good_stepsize(hamiltonian, initial_θ)\n",
    "    integrator = Leapfrog(initial_ϵ)\n",
    "    kernel = HMCKernel(Trajectory{MultinomialTS}(integrator, GeneralisedNoUTurn()))\n",
    "    adaptor = StanHMCAdaptor(MassMatrixAdaptor(metric), StepSizeAdaptor(0.8, integrator))\n",
    "    \n",
    "    time = @elapsed samples, stats = sample(\n",
    "        hamiltonian, kernel, initial_θ, n_samples + n_burn, adaptor, n_adapts;\n",
    "        progress=true)\n",
    "\n",
    "    # Post-process samples:\n",
    "    # - drop burn-in;\n",
    "    # - apply thinning (every 3rd)\n",
    "    # - invert bijector, recover params in original space\n",
    "    chain = samples[n_burn+1:thin:end] .|> Turing.inverse(Turing.bijector(_model))\n",
    "\n",
    "    # Save output\n",
    "    if save_bool\n",
    "        _dir = joinpath(\"output_$(SESSION)\", \"radon\", \"mcmc\")\n",
    "        isdir(_dir) || mkpath(_dir) # Ensure path is present\n",
    "        if leave_g == -1\n",
    "            save(joinpath(_dir, \"chain.jld\"), \"data\", chain)\n",
    "            CSV.write(joinpath(_dir, \"stats_df.csv\"), stats |> DataFrame)\n",
    "        else\n",
    "            save(joinpath(_dir, \"chain_lgo-$(leave_g).jld\"), \"data\", chain)\n",
    "        end\n",
    "    end\n",
    "    \n",
    "    (; chain, stats, time)\n",
    "end"
   ]
  },
  {
   "cell_type": "markdown",
   "id": "34a0735a-3f79-4474-a284-dd0fa94690de",
   "metadata": {},
   "source": [
    "## Initial draw"
   ]
  },
  {
   "cell_type": "code",
   "execution_count": 10,
   "id": "486eefda-6b46-4ab0-97f0-1f7e6f63ac2a",
   "metadata": {
    "scrolled": true
   },
   "outputs": [
    {
     "name": "stderr",
     "output_type": "stream",
     "text": [
      "\u001b[33m\u001b[1m┌ \u001b[22m\u001b[39m\u001b[33m\u001b[1mWarning: \u001b[22m\u001b[39mProgressMeter by default refresh meters with additional information in IJulia via `IJulia.clear_output`, which clears all outputs in the cell. \n",
      "\u001b[33m\u001b[1m│ \u001b[22m\u001b[39m - To prevent this behaviour, do `ProgressMeter.ijulia_behavior(:append)`. \n",
      "\u001b[33m\u001b[1m│ \u001b[22m\u001b[39m - To disable this warning message, do `ProgressMeter.ijulia_behavior(:clear)`.\n",
      "\u001b[33m\u001b[1m└ \u001b[22m\u001b[39m\u001b[90m@ ProgressMeter C:\\Users\\o6m1g\\.julia\\packages\\ProgressMeter\\kniaW\\src\\ProgressMeter.jl:607\u001b[39m\n",
      "\u001b[32mSampling 100%|███████████████████████████████| Time: 0:15:18\u001b[39m\n",
      "\u001b[34m                                    iterations: 4000\u001b[39m\n",
      "\u001b[34m                   ratio_divergent_transitions: 0.0\u001b[39m\n",
      "\u001b[34m   ratio_divergent_transitions_during_adaption: 0.01\u001b[39m\n",
      "\u001b[34m                                       n_steps: 31\u001b[39m\n",
      "\u001b[34m                                     is_accept: true\u001b[39m\n",
      "\u001b[34m                               acceptance_rate: 0.6337821096759917\u001b[39m\n",
      "\u001b[34m                                   log_density: -1011.6894998218688\u001b[39m\n",
      "\u001b[34m                            hamiltonian_energy: 1116.623272388024\u001b[39m\n",
      "\u001b[34m                      hamiltonian_energy_error: 0.38121541874329523\u001b[39m\n",
      "\u001b[34m                  max_hamiltonian_energy_error: 0.628817966341785\u001b[39m\n",
      "\u001b[34m                                    tree_depth: 5\u001b[39m\n",
      "\u001b[34m                               numerical_error: false\u001b[39m\n",
      "\u001b[34m                                     step_size: 0.17303957638760084\u001b[39m\n",
      "\u001b[34m                                 nom_step_size: 0.17303957638760084\u001b[39m\n",
      "\u001b[34m                                      is_adapt: false\u001b[39m\n",
      "\u001b[34m                                   mass_matrix: DiagEuclideanMetric([0.0015746533097538598, 0.0 ...])\u001b[39m\n",
      "\u001b[36m\u001b[1m┌ \u001b[22m\u001b[39m\u001b[36m\u001b[1mInfo: \u001b[22m\u001b[39mFinished 4000 sampling steps for 1 chains in 918.7058327 (s)\n",
      "\u001b[36m\u001b[1m│ \u001b[22m\u001b[39m  h = Hamiltonian(metric=DiagEuclideanMetric([0.0015746533097538598, 0.0 ...]), kinetic=GaussianKinetic())\n",
      "\u001b[36m\u001b[1m│ \u001b[22m\u001b[39m  κ = HMCKernel{AdvancedHMC.FullMomentumRefreshment, Trajectory{MultinomialTS, Leapfrog{Float64}, GeneralisedNoUTurn{Float64}}}(AdvancedHMC.FullMomentumRefreshment(), Trajectory{MultinomialTS}(integrator=Leapfrog(ϵ=0.173), tc=GeneralisedNoUTurn{Float64}(10, 1000.0)))\n",
      "\u001b[36m\u001b[1m│ \u001b[22m\u001b[39m  EBFMI_est = 0.10885302002892462\n",
      "\u001b[36m\u001b[1m└ \u001b[22m\u001b[39m  average_acceptance_rate = 0.8699627646162299\n"
     ]
    }
   ],
   "source": [
    "Random.seed!(1)\n",
    "RUN_MCMC && (; chain, stats, time) = run_MCMC(leave_g=-1)"
   ]
  },
  {
   "cell_type": "markdown",
   "id": "f7986ddc-c508-4c43-80c3-d4ae3ab892bf",
   "metadata": {},
   "source": [
    "## Naive LGO"
   ]
  },
  {
   "cell_type": "code",
   "execution_count": 12,
   "id": "58d48575-a939-4cd0-a09d-c6d615ddb5c4",
   "metadata": {},
   "outputs": [
    {
     "name": "stderr",
     "output_type": "stream",
     "text": [
      "\u001b[33m\u001b[1m┌ \u001b[22m\u001b[39m\u001b[33m\u001b[1mWarning: \u001b[22m\u001b[39mProgressMeter by default refresh meters with additional information in IJulia via `IJulia.clear_output`, which clears all outputs in the cell. \n",
      "\u001b[33m\u001b[1m│ \u001b[22m\u001b[39m - To prevent this behaviour, do `ProgressMeter.ijulia_behavior(:append)`. \n",
      "\u001b[33m\u001b[1m│ \u001b[22m\u001b[39m - To disable this warning message, do `ProgressMeter.ijulia_behavior(:clear)`.\n",
      "\u001b[33m\u001b[1m└ \u001b[22m\u001b[39m\u001b[90m@ ProgressMeter C:\\Users\\o6m1g\\.julia\\packages\\ProgressMeter\\kniaW\\src\\ProgressMeter.jl:607\u001b[39m\n",
      "\u001b[32mSampling 100%|███████████████████████████████| Time: 0:11:14\u001b[39m\n",
      "\u001b[34m                                    iterations: 4000\u001b[39m\n",
      "\u001b[34m                   ratio_divergent_transitions: 0.0\u001b[39m\n",
      "\u001b[34m   ratio_divergent_transitions_during_adaption: 0.01\u001b[39m\n",
      "\u001b[34m                                       n_steps: 15\u001b[39m\n",
      "\u001b[34m                                     is_accept: true\u001b[39m\n",
      "\u001b[34m                               acceptance_rate: 0.9614099185984277\u001b[39m\n",
      "\u001b[34m                                   log_density: -959.3920399346343\u001b[39m\n",
      "\u001b[34m                            hamiltonian_energy: 1053.451584473892\u001b[39m\n",
      "\u001b[34m                      hamiltonian_energy_error: -0.11541114387546259\u001b[39m\n",
      "\u001b[34m                  max_hamiltonian_energy_error: -0.19101407101175027\u001b[39m\n",
      "\u001b[34m                                    tree_depth: 4\u001b[39m\n",
      "\u001b[34m                               numerical_error: false\u001b[39m\n",
      "\u001b[34m                                     step_size: 0.1794077729551706\u001b[39m\n",
      "\u001b[34m                                 nom_step_size: 0.1794077729551706\u001b[39m\n",
      "\u001b[34m                                      is_adapt: false\u001b[39m\n",
      "\u001b[34m                                   mass_matrix: DiagEuclideanMetric([0.00129734658351231, 0.006 ...])\u001b[39m\n",
      "\u001b[36m\u001b[1m┌ \u001b[22m\u001b[39m\u001b[36m\u001b[1mInfo: \u001b[22m\u001b[39mFinished 4000 sampling steps for 1 chains in 674.6831821 (s)\n",
      "\u001b[36m\u001b[1m│ \u001b[22m\u001b[39m  h = Hamiltonian(metric=DiagEuclideanMetric([0.00129734658351231, 0.006 ...]), kinetic=GaussianKinetic())\n",
      "\u001b[36m\u001b[1m│ \u001b[22m\u001b[39m  κ = HMCKernel{AdvancedHMC.FullMomentumRefreshment, Trajectory{MultinomialTS, Leapfrog{Float64}, GeneralisedNoUTurn{Float64}}}(AdvancedHMC.FullMomentumRefreshment(), Trajectory{MultinomialTS}(integrator=Leapfrog(ϵ=0.179), tc=GeneralisedNoUTurn{Float64}(10, 1000.0)))\n",
      "\u001b[36m\u001b[1m│ \u001b[22m\u001b[39m  EBFMI_est = 0.127854417226586\n",
      "\u001b[36m\u001b[1m└ \u001b[22m\u001b[39m  average_acceptance_rate = 0.866577244886027\n"
     ]
    }
   ],
   "source": [
    "Random.seed!(1)\n",
    "\n",
    "if RUN_MCMC\n",
    "    \n",
    "    times_radon = Float64[] # Runtime for each MCMC-LGO run\n",
    "    \n",
    "    # Loop over each group for bruteforce MCMC-LGO\n",
    "    for leave_g in 1:data.G\n",
    "        @info \"Leaving g=$(leave_g) out\" \n",
    "        \n",
    "        (; chain, stats, time) = run_MCMC(leave_g=leave_g)\n",
    "        push!(times_radon, time)\n",
    "        \n",
    "        # Save intermediate results after each iteration (in case of interruption)\n",
    "        _dir = joinpath(\"output_$(SESSION)\", \"radon\", \"mcmc\")\n",
    "        isdir(_dir) || mkpath(_dir) # Ensure path is present\n",
    "        save(joinpath(_dir, \"times_naive-lgo.jld\"), \"data\", times_radon)\n",
    "    end\n",
    "end"
   ]
  },
  {
   "cell_type": "markdown",
   "id": "16d2176b-0d4b-4e81-b888-124f4f9b1c66",
   "metadata": {},
   "source": [
    "# LGO"
   ]
  },
  {
   "cell_type": "code",
   "execution_count": 11,
   "id": "dbeac892-c560-48c3-b444-867dcd848bda",
   "metadata": {},
   "outputs": [],
   "source": [
    "chain = load(joinpath(\"output\", \"radon\", \"mcmc\", \"chain.jld\"))[\"data\"];\n",
    "stats = CSV.read(joinpath(\"output\", \"radon\", \"mcmc\", \"stats_df.csv\"), DataFrame);"
   ]
  },
  {
   "cell_type": "markdown",
   "id": "932281af-c74f-4666-8e8c-664a9841ecee",
   "metadata": {},
   "source": [
    "## aSMC"
   ]
  },
  {
   "cell_type": "code",
   "execution_count": 12,
   "id": "fdbc8b0d-bf33-4e91-ae4c-7889960bbb0b",
   "metadata": {},
   "outputs": [
    {
     "data": {
      "text/plain": [
       "SMCS_Radon (generic function with 1 method)"
      ]
     },
     "execution_count": 12,
     "metadata": {},
     "output_type": "execute_result"
    }
   ],
   "source": [
    "function SMCS_Radon(chain::Vector{Vector{Float64}}, leave_g::Int64; k̂_threshold::Float64=0.7)\n",
    "    \n",
    "    # Unconstrain initial draws\n",
    "    model   = Model(data, leave_g, 0) # draws are from this baseline\n",
    "    draws_0 = chain .|> Turing.bijector(model) |> vecvec2mat # as matrix\n",
    "\n",
    "    # Define problem dimensions\n",
    "    R      = size(draws_0, 1)  # number of baseline MCMC draws\n",
    "    D      = size(draws_0, 2)  # dimension of posterior\n",
    "    L      = data.N_g[leave_g] # max number of intermediate distributions\n",
    "    \n",
    "    # Obtain unconstrained prior draw\n",
    "    _names = sample(model, Prior(), 1).name_map.parameters .|> String # param names\n",
    "    Θ_0    = NamedArray(\n",
    "        draws_0,\n",
    "        (1:R, _names),\n",
    "        (:n, :d),\n",
    "    )\n",
    "    \n",
    "    # Allocate storage\n",
    "    particles = NamedArray(zeros(L+1, R, D), (0:L, 1:R, _names), (:l, :n, :d))\n",
    "    weights   = NamedArray(zeros(L+1, R), (0:L, 1:R), (:l, :n))\n",
    "    ϕ_history = NamedArray(zeros(L+1), 0:L, :l)\n",
    "    mcmc_flag = NamedArray(zeros(L+1), 0:L, :l)\n",
    "    k̂         = nothing\n",
    "    \n",
    "    # Log weights normalizer\n",
    "    function _normalize(_log_w::Vector{Float64})::Vector{Float64}\n",
    "        _w = exp.(_log_w .- maximum(_log_w))\n",
    "        _w = _w / sum(_w)\n",
    "        _w\n",
    "    end\n",
    "    \n",
    "    # Effective sample size\n",
    "    function _ess(_w::Vector{Float64})::Float64\n",
    "        1 / sum(@. exp(2 * log(_w)))\n",
    "    end\n",
    "    \n",
    "    # Log ratio at given proposal l-1 and target l for n-th particle\n",
    "    function log_G(ℓπ_0, ℓπ_1, l::Int, n::Int)::Float64\n",
    "        _particle = particles[:l => l-1, :n => n]\n",
    "        log_γ_0 = LogDensityProblems.logdensity(ℓπ_0, _particle)\n",
    "        log_γ_1 = LogDensityProblems.logdensity(ℓπ_1, _particle)\n",
    "        log_γ_1 - log_γ_0\n",
    "    end\n",
    "    \n",
    "    # MCMC kernel\n",
    "    initial_ϵ, n_steps, mass = stats.step_size[end], min(15, stats.n_steps[end]), vec(var(chain .|> vec |> vecvec2mat; dims=1))\n",
    "    function _move(initial_θ::Vector{Float64},\n",
    "            n_samples::Int, n_adapts::Int,\n",
    "            ℓπ::LogDensityFunction,\n",
    "        )::Vector{Float64}\n",
    "        \n",
    "        metric = DiagEuclideanMetric(mass)\n",
    "        hamiltonian = Hamiltonian(metric, ℓπ)\n",
    "        integrator = Leapfrog(initial_ϵ)\n",
    "        adaptor = StanHMCAdaptor(MassMatrixAdaptor(metric), StepSizeAdaptor(0.8, integrator))\n",
    "        kernel = HMCKernel(Trajectory{EndPointTS}(integrator, FixedNSteps(n_steps)))\n",
    "        \n",
    "        rng = Random.TaskLocalRNG()\n",
    "        samples, stats = sample(rng, hamiltonian, kernel, initial_θ, n_samples, adaptor, n_adapts;\n",
    "            verbose=false, progress=false)\n",
    "        \n",
    "        samples[end]\n",
    "    end\n",
    "    \n",
    "    # Set initial values, starting index\n",
    "    particles[:l => 0] = Θ_0\n",
    "    weights[:l => 0]   = repeat([1/R], R)\n",
    "    ϕ_history[:l => 0] = 0.\n",
    "    \n",
    "    time = @elapsed for l in 1:L\n",
    "        # Inherit case-deleted model from previous iteration\n",
    "        model_0 = Model(data, leave_g, ϕ_history[:l => l-1])\n",
    "        ℓπ_0 = LogDensityFunction(model_0)\n",
    "        Turing.DynamicPPL.link!!(ℓπ_0.varinfo, model_0)\n",
    "\n",
    "        # Define (until ↦ ESS) map\n",
    "        function _ϕ2reff(ϕ::Union{Float64, Int64})::Float64\n",
    "            @assert 0 ≤ ϕ ≤ 1\n",
    "            model_1 = Model(data, leave_g, ϕ)\n",
    "            ℓπ_1 = LogDensityFunction(model_1)\n",
    "            Turing.DynamicPPL.link!!(ℓπ_1.varinfo, model_1)\n",
    "            \n",
    "            _log_weights = [log_G(ℓπ_0, ℓπ_1, l, n) for n in 1:R]\n",
    "            _log_weights = _log_weights .- maximum(_log_weights)\n",
    "            \n",
    "            _ESS = _log_weights |> _normalize |> _ess\n",
    "            _ESS - R/2\n",
    "        end\n",
    "        \n",
    "        # Initialize next distribution parameter\n",
    "        ϕ_1 = nothing\n",
    "        \n",
    "        # Case 1: ESS is above threshold\n",
    "        if _ϕ2reff(1) > 0\n",
    "            # Define next as final distribution\n",
    "            ϕ_1 = 1\n",
    "            \n",
    "            # Compute log weights\n",
    "            model_1 = Model(data, leave_g, ϕ_1)\n",
    "            ℓπ_1 = LogDensityFunction(model_1)\n",
    "            Turing.DynamicPPL.link!!(ℓπ_1.varinfo, model_1)\n",
    "            _log_weights = [log_G(ℓπ_0, ℓπ_1, l, n) for n in 1:R]\n",
    "            _log_weights = _log_weights .- maximum(_log_weights)\n",
    "\n",
    "            # Generalized Pareto\n",
    "            _psis = psis(_log_weights; warn=false)\n",
    "            \n",
    "            # Case 1-1: PSIS\n",
    "            if _psis.pareto_shape < k̂_threshold\n",
    "                mcmc_flag[:l => l] = false; @info \"ϕ=$(ϕ_1), PSIS\"\n",
    "                particles[:l => l] = particles[:l => l-1]\n",
    "                weights[:l => l] = _psis.log_weights |> _normalize\n",
    "                k̂ = _psis.pareto_shape \n",
    "                ϕ_history[:l => l] = ϕ_1\n",
    "            \n",
    "            # Case 1-2: MCMC kernel\n",
    "            else\n",
    "                mcmc_flag[:l => l] = true; @info \"ϕ=$(ϕ_1), MCMC\"\n",
    "                \n",
    "                A_0 = wsample(1:R, _log_weights |> _normalize, R)\n",
    "                _begin = particles[:l => l-1, :n => A_0]\n",
    "                _end = particles[:l => l, :n => 1:R] |> similar\n",
    "                #@showprogress for n in 1:R\n",
    "                p = ProgressMeter.Progress(R); @Threads.threads for n in 1:R\n",
    "                    _end[n,:] = _move(_begin[n,:], 1, 0, ℓπ_1)\n",
    "                    ProgressMeter.next!(p)\n",
    "                end\n",
    "                particles[Name(l), :, :,] = _end\n",
    "                weights[:l => l] = repeat([1/R], R)\n",
    "                ϕ_history[:l => l] = ϕ_1\n",
    "            end\n",
    "            \n",
    "            L = l; break # Break loop\n",
    "\n",
    "        # Case 2: ESS is below threshold\n",
    "        else\n",
    "            mcmc_flag[:l => l] = true\n",
    "            \n",
    "            # Find next distribution\n",
    "            ϕ_1 = find_zero(_ϕ2reff, (ϕ_history[:l => l-1] + 1e-4, 1),\n",
    "                xtol=0.1, maxiters=10, verbose=true)\n",
    "            @info \"Targeting ϕ=$(ϕ_1)\"\n",
    "            \n",
    "            # Compute log weights\n",
    "            model_1 = Model(data, leave_g, ϕ_1)\n",
    "            ℓπ_1 = LogDensityFunction(model_1)\n",
    "            Turing.DynamicPPL.link!!(ℓπ_1.varinfo, model_1)\n",
    "            _log_weights = [log_G(ℓπ_0, ℓπ_1, l, n) for n in 1:R]\n",
    "            _log_weights = _log_weights .- maximum(_log_weights)\n",
    "\n",
    "            # MCMC kernel\n",
    "            A_0 = wsample(1:R, _log_weights |> _normalize, R)\n",
    "            _begin = particles[:l => l-1, :n => A_0]\n",
    "            _end = particles[:l => l, :n => 1:R] |> similar\n",
    "            #@showprogress for n in 1:R\n",
    "            p = ProgressMeter.Progress(R); @Threads.threads for n in 1:R\n",
    "                _end[n,:] = _move(_begin[n,:], 3, 0, ℓπ_1)\n",
    "                ProgressMeter.next!(p)\n",
    "            end\n",
    "            particles[Name(l), :, :,] = _end\n",
    "            weights[:l => l] = repeat([1/R], R)\n",
    "            ϕ_history[:l => l] = ϕ_1\n",
    "        end\n",
    "    end\n",
    "\n",
    "    particles = particles[Name(L),:,:]\n",
    "    weights   = weights[Name(L), :]\n",
    "    mcmc_flag = mcmc_flag[Name(L)]\n",
    "    ϕ_history = ϕ_history[Name.(0:L)]\n",
    "\n",
    "    (;\n",
    "        R,         # Number of particles\n",
    "        D,         # Dimensionality of parameter space\n",
    "        L,         # Number of intermediate distributions\n",
    "        particles, # NamedArray of particles\n",
    "        weights,   # Associated particle weights\n",
    "        ϕ_history, # History of ϕ (= 1 - ρ | ρ: power coef) values\n",
    "        k̂,         # Pareto shape diagnostic estimate, if any\n",
    "        mcmc_flag, # true if invariant kernel applied\n",
    "        time,      # SMC runtime\n",
    "    )\n",
    "end"
   ]
  },
  {
   "cell_type": "markdown",
   "id": "0fe02ab2-7e80-41ef-8b6f-9391c538ceb4",
   "metadata": {},
   "source": [
    "## PSIS"
   ]
  },
  {
   "cell_type": "code",
   "execution_count": 13,
   "id": "97a0fc02-e683-4494-a779-1eef317143bd",
   "metadata": {},
   "outputs": [
    {
     "data": {
      "text/plain": [
       "PSIS_Radon (generic function with 1 method)"
      ]
     },
     "execution_count": 13,
     "metadata": {},
     "output_type": "execute_result"
    }
   ],
   "source": [
    "function PSIS_Radon(chain::Vector{Vector{Float64}}, leave_g::Int64; k̂_threshold::Float64=0.7)\n",
    "\n",
    "    # Unconstrain initial draws\n",
    "    model   = Model(data, leave_g, 0) # draws are from this baseline\n",
    "    draws_0 = chain .|> Turing.bijector(model) |> vecvec2mat # as matrix\n",
    "\n",
    "    # Define problem dimensions\n",
    "    R      = size(draws_0, 1)  # number of baseline MCMC draws\n",
    "    D      = size(draws_0, 2)  # dimension of posterior\n",
    "    L      = 1                 # max number of intermediate distributions\n",
    "    \n",
    "    # Obtain unconstrained prior draw\n",
    "    _names = sample(model, Prior(), 1).name_map.parameters .|> String # param names\n",
    "    Θ_0    = NamedArray(\n",
    "        draws_0,\n",
    "        (1:R, _names),\n",
    "        (:n, :d),\n",
    "    )\n",
    "    \n",
    "    # Allocate storage\n",
    "    particles = NamedArray(zeros(L+1, R, D), (0:L, 1:R, _names), (:l, :n, :d))\n",
    "    weights   = NamedArray(zeros(L+1, R), (0:L, 1:R), (:l, :n))\n",
    "    k̂         = nothing\n",
    "\n",
    "    # Log weights normalizer\n",
    "    function _normalize(_log_w::Vector{Float64})::Vector{Float64}\n",
    "        _w = exp.(_log_w .- maximum(_log_w))\n",
    "        _w = _w / sum(_w)\n",
    "        _w\n",
    "    end\n",
    "    \n",
    "    # Log ratio at given proposal l-1 and target l for n-th particle\n",
    "    function log_G(ℓπ_0, ℓπ_1, l::Int, n::Int)::Float64\n",
    "        _particle = particles[:l => l-1, :n => n]\n",
    "        log_γ_0 = LogDensityProblems.logdensity(ℓπ_0, _particle)\n",
    "        log_γ_1 = LogDensityProblems.logdensity(ℓπ_1, _particle)\n",
    "        log_γ_1 - log_γ_0\n",
    "    end\n",
    "\n",
    "    # Set initial values, starting index\n",
    "    particles[:l => 0] = Θ_0\n",
    "    weights[:l => 0]   = repeat([1/R], R)\n",
    "    \n",
    "    time = @elapsed (l = 1;\n",
    "        ϕ_0 = 0;\n",
    "        model_0 = Model(data, leave_g, ϕ_0);\n",
    "        ℓπ_0 = LogDensityFunction(model_0);\n",
    "        Turing.DynamicPPL.link!!(ℓπ_0.varinfo, model_0);\n",
    "        \n",
    "        # Compute log weights\n",
    "        ϕ_1 = 1;\n",
    "        model_1 = Model(data, leave_g, ϕ_1);\n",
    "        ℓπ_1 = LogDensityFunction(model_1);\n",
    "        Turing.DynamicPPL.link!!(ℓπ_1.varinfo, model_1);\n",
    "        \n",
    "        _log_weights = [log_G(ℓπ_0, ℓπ_1, l, n) for n in 1:R];\n",
    "        _log_weights = _log_weights .- maximum(_log_weights);\n",
    "\n",
    "        # PSIS\n",
    "        _psis = psis(_log_weights; warn=false);\n",
    "        particles[:l => l] = particles[:l => l-1];\n",
    "        weights[:l => l] = _psis.log_weights |> _normalize;\n",
    "    )\n",
    "    \n",
    "    k̂ = _psis.pareto_shape\n",
    "    particles = particles[Name(L),:,:]\n",
    "    weights   = weights[Name(L), :]\n",
    "\n",
    "    (;\n",
    "        R,         # Number of particles\n",
    "        D,         # Dimensionality of parameter space\n",
    "        L,         # = 1 distribution\n",
    "        particles, # NamedArray of particles\n",
    "        weights,   # Associated particle weights\n",
    "        k̂,         # Pareto shape diagnostic estimate\n",
    "        time,      # Runtime\n",
    "    )\n",
    "end"
   ]
  },
  {
   "cell_type": "markdown",
   "id": "bfdf9996-646a-4c72-9ced-9002cd8fffc3",
   "metadata": {},
   "source": [
    "# Run"
   ]
  },
  {
   "cell_type": "code",
   "execution_count": 56,
   "id": "9668c096-acd2-4b72-8e7a-31b6c56bd83d",
   "metadata": {},
   "outputs": [
    {
     "data": {
      "text/plain": [
       "run (generic function with 1 method)"
      ]
     },
     "execution_count": 56,
     "metadata": {},
     "output_type": "execute_result"
    }
   ],
   "source": [
    "# Function to run aSMC-LGO-CV or PSIS-LGO-CV across all counties\n",
    "function run(\n",
    "        use_chain::Vector{Vector{Float64}}, # Input baseline MCMC chain\n",
    "        Sampler_Radon::Union{typeof(SMCS_Radon), typeof(PSIS_Radon)};\n",
    "        save_bool::Bool=false,              # Saving output\n",
    "        k̂_threshold::Float64=0.7,           # Optional threshold (unused for main analysis)\n",
    ")\n",
    "    \n",
    "    R = length(use_chain) # Number of posterior particles\n",
    "\n",
    "    # Init per-group storage\n",
    "    particles    = []\n",
    "    weights      = []\n",
    "    ϕ_histories  = []\n",
    "    k̂s           = []\n",
    "    times        = Float64[]\n",
    "\n",
    "    @info \"First pilot run\"\n",
    "    Sampler_Radon(use_chain, 1; k̂_threshold=k̂_threshold)\n",
    "    \n",
    "    for leave_g in 1:data.G # Leave-out one group at a time\n",
    "        @info \"Leaving g=$(leave_g) out\"\n",
    "        \n",
    "        # Run aSMC or PSIS\n",
    "        results = Sampler_Radon(use_chain, leave_g; k̂_threshold=k̂_threshold)\n",
    "        \n",
    "        # Record output\n",
    "        push!(particles,   results[:particles])\n",
    "        push!(weights,     results[:weights])\n",
    "        push!(k̂s,          results[:k̂])\n",
    "        push!(times,       results[:time])\n",
    "        Sampler_Radon == SMCS_Radon && push!(ϕ_histories, results[:ϕ_history])\n",
    "        #break\n",
    "    end\n",
    "\n",
    "    if save_bool\n",
    "        # Define folder to save output\n",
    "        _dir = joinpath(\n",
    "            \"output_$(SESSION)\",\n",
    "            \"radon\",\n",
    "            Sampler_Radon == SMCS_Radon ? \"smc\" : \"psis\"\n",
    "        )\n",
    "        isdir(_dir) || mkpath(_dir) # Ensure path is present\n",
    "\n",
    "        # Save (after un-naming)\n",
    "        # Sizes are: G = groups, R = particles, D = parameter dim\n",
    "        save(joinpath(_dir, \"particles_threshold-$(k̂_threshold).jld\"),\n",
    "            \"data\", particles .|> Matrix) # [G][R,D]\n",
    "        save(joinpath(_dir, \"weights_threshold-$(k̂_threshold).jld\"),\n",
    "            \"data\", weights .|> Vector) # [G][R]\n",
    "        save(joinpath(_dir, \"khats_threshold-$(k̂_threshold).jld\"),\n",
    "            \"data\", k̂s) # G\n",
    "        save(joinpath(_dir, \"times_threshold-$(k̂_threshold).jld\"),\n",
    "            \"data\", times) # G\n",
    "        Sampler_Radon == SMCS_Radon && save(\n",
    "            joinpath(_dir, \"histories_threshold-$(k̂_threshold).jld\"),\n",
    "            \"data\", ϕ_histories .|> Vector) # [G][L_g]\n",
    "    end\n",
    "    \n",
    "    return\n",
    "end"
   ]
  },
  {
   "cell_type": "code",
   "execution_count": 57,
   "id": "98296b6d-9623-403b-856b-66cabaee026d",
   "metadata": {
    "scrolled": true
   },
   "outputs": [
    {
     "name": "stderr",
     "output_type": "stream",
     "text": [
      "\u001b[36m\u001b[1m[ \u001b[22m\u001b[39m\u001b[36m\u001b[1mInfo: \u001b[22m\u001b[39mLeaving g=1 out\n"
     ]
    },
    {
     "data": {
      "text/plain": [
       "Results of univariate zero finding:\n",
       "\n",
       "* Converged to: 0.6313816406249998\n",
       "* Algorithm: Bisection()\n",
       "* iterations: 10\n",
       "* function evaluations ≈ 13\n",
       "\n",
       "Trace:\n",
       "(a₀, b₀) = ( 0.010306249999999999, 1 )\n",
       "(a₁, b₁) = ( 0.103725, 1 )\n",
       "(a₂, b₂) = ( 0.33244999999999997, 1 )\n",
       "(a₃, b₃) = ( 0.58244999999999991, 1 )\n",
       "(a₄, b₄) = ( 0.58244999999999991, 0.79122499999999996 )\n",
       "(a₅, b₅) = ( 0.58244999999999991, 0.68683749999999988 )\n",
       "(a₆, b₆) = ( 0.58244999999999991, 0.63464374999999984 )\n",
       "(a₇, b₇) = ( 0.60854687499999982, 0.63464374999999984 )\n",
       "(a₈, b₈) = ( 0.62159531249999977, 0.63464374999999984 )\n",
       "(a₉, b₉) = ( 0.62811953124999975, 0.63464374999999984 )\n",
       "(a₁₀, b₁₀) = ( 0.62811953124999975, 0.6313816406249998 )\n",
       "\n"
      ]
     },
     "metadata": {},
     "output_type": "display_data"
    },
    {
     "name": "stderr",
     "output_type": "stream",
     "text": [
      "\u001b[36m\u001b[1m[ \u001b[22m\u001b[39m\u001b[36m\u001b[1mInfo: \u001b[22m\u001b[39mTargeting ϕ=0.6313816406249998\n",
      "\u001b[32mProgress: 100%|█████████████████████████████████████████| Time: 0:03:19\u001b[39m\n",
      "\u001b[36m\u001b[1m[ \u001b[22m\u001b[39m\u001b[36m\u001b[1mInfo: \u001b[22m\u001b[39mϕ=1, PSIS\n",
      "\u001b[36m\u001b[1m[ \u001b[22m\u001b[39m\u001b[36m\u001b[1mInfo: \u001b[22m\u001b[39mLeaving g=2 out\n"
     ]
    },
    {
     "data": {
      "text/plain": [
       "Results of univariate zero finding:\n",
       "\n",
       "* Converged to: 0.7325070312499998\n",
       "* Algorithm: Bisection()\n",
       "* iterations: 10\n",
       "* function evaluations ≈ 13\n",
       "\n",
       "Trace:\n",
       "(a₀, b₀) = ( 0.010306249999999999, 1 )\n",
       "(a₁, b₁) = ( 0.103725, 1 )\n",
       "(a₂, b₂) = ( 0.33244999999999997, 1 )\n",
       "(a₃, b₃) = ( 0.58244999999999991, 1 )\n",
       "(a₄, b₄) = ( 0.58244999999999991, 0.79122499999999996 )\n",
       "(a₅, b₅) = ( 0.68683749999999988, 0.79122499999999996 )\n",
       "(a₆, b₆) = ( 0.68683749999999988, 0.73903124999999992 )\n",
       "(a₇, b₇) = ( 0.7129343749999999, 0.73903124999999992 )\n",
       "(a₈, b₈) = ( 0.72598281249999985, 0.73903124999999992 )\n",
       "(a₉, b₉) = ( 0.73250703124999983, 0.73903124999999992 )\n",
       "(a₁₀, b₁₀) = ( 0.73250703124999983, 0.73576914062499987 )\n",
       "\n"
      ]
     },
     "metadata": {},
     "output_type": "display_data"
    },
    {
     "name": "stderr",
     "output_type": "stream",
     "text": [
      "\u001b[36m\u001b[1m[ \u001b[22m\u001b[39m\u001b[36m\u001b[1mInfo: \u001b[22m\u001b[39mTargeting ϕ=0.7325070312499998\n",
      "\u001b[32mProgress: 100%|█████████████████████████████████████████| Time: 0:03:17\u001b[39m\n",
      "\u001b[36m\u001b[1m[ \u001b[22m\u001b[39m\u001b[36m\u001b[1mInfo: \u001b[22m\u001b[39mϕ=1, PSIS\n",
      "\u001b[36m\u001b[1m[ \u001b[22m\u001b[39m\u001b[36m\u001b[1mInfo: \u001b[22m\u001b[39mLeaving g=3 out\n"
     ]
    },
    {
     "data": {
      "text/plain": [
       "Results of univariate zero finding:\n",
       "\n",
       "* Converged to: 0.6379058593749998\n",
       "* Algorithm: Bisection()\n",
       "* iterations: 10\n",
       "* function evaluations ≈ 13\n",
       "\n",
       "Trace:\n",
       "(a₀, b₀) = ( 0.010306249999999999, 1 )\n",
       "(a₁, b₁) = ( 0.103725, 1 )\n",
       "(a₂, b₂) = ( 0.33244999999999997, 1 )\n",
       "(a₃, b₃) = ( 0.58244999999999991, 1 )\n",
       "(a₄, b₄) = ( 0.58244999999999991, 0.79122499999999996 )\n",
       "(a₅, b₅) = ( 0.58244999999999991, 0.68683749999999988 )\n",
       "(a₆, b₆) = ( 0.63464374999999984, 0.68683749999999988 )\n",
       "(a₇, b₇) = ( 0.63464374999999984, 0.66074062499999986 )\n",
       "(a₈, b₈) = ( 0.63464374999999984, 0.64769218749999979 )\n",
       "(a₉, b₉) = ( 0.63464374999999984, 0.64116796874999982 )\n",
       "(a₁₀, b₁₀) = ( 0.63790585937499977, 0.64116796874999982 )\n",
       "\n"
      ]
     },
     "metadata": {},
     "output_type": "display_data"
    },
    {
     "name": "stderr",
     "output_type": "stream",
     "text": [
      "\u001b[36m\u001b[1m[ \u001b[22m\u001b[39m\u001b[36m\u001b[1mInfo: \u001b[22m\u001b[39mTargeting ϕ=0.6379058593749998\n",
      "\u001b[32mProgress: 100%|█████████████████████████████████████████| Time: 0:03:19\u001b[39m\n",
      "\u001b[36m\u001b[1m[ \u001b[22m\u001b[39m\u001b[36m\u001b[1mInfo: \u001b[22m\u001b[39mϕ=1, PSIS\n",
      "\u001b[36m\u001b[1m[ \u001b[22m\u001b[39m\u001b[36m\u001b[1mInfo: \u001b[22m\u001b[39mLeaving g=4 out\n",
      "\u001b[36m\u001b[1m[ \u001b[22m\u001b[39m\u001b[36m\u001b[1mInfo: \u001b[22m\u001b[39mϕ=1, PSIS\n",
      "\u001b[36m\u001b[1m[ \u001b[22m\u001b[39m\u001b[36m\u001b[1mInfo: \u001b[22m\u001b[39mLeaving g=5 out\n"
     ]
    },
    {
     "data": {
      "text/plain": [
       "Results of univariate zero finding:\n",
       "\n",
       "* Converged to: 0.9086609374999999\n",
       "* Algorithm: Bisection()\n",
       "* iterations: 10\n",
       "* function evaluations ≈ 13\n",
       "\n",
       "Trace:\n",
       "(a₀, b₀) = ( 0.010306249999999999, 1 )\n",
       "(a₁, b₁) = ( 0.103725, 1 )\n",
       "(a₂, b₂) = ( 0.33244999999999997, 1 )\n",
       "(a₃, b₃) = ( 0.58244999999999991, 1 )\n",
       "(a₄, b₄) = ( 0.79122499999999996, 1 )\n",
       "(a₅, b₅) = ( 0.89561249999999992, 1 )\n",
       "(a₆, b₆) = ( 0.89561249999999992, 0.94780624999999996 )\n",
       "(a₇, b₇) = ( 0.89561249999999992, 0.92170937499999994 )\n",
       "(a₈, b₈) = ( 0.89561249999999992, 0.90866093749999988 )\n",
       "(a₉, b₉) = ( 0.9021367187499999, 0.90866093749999988 )\n",
       "(a₁₀, b₁₀) = ( 0.90539882812499983, 0.90866093749999988 )\n",
       "\n"
      ]
     },
     "metadata": {},
     "output_type": "display_data"
    },
    {
     "name": "stderr",
     "output_type": "stream",
     "text": [
      "\u001b[36m\u001b[1m[ \u001b[22m\u001b[39m\u001b[36m\u001b[1mInfo: \u001b[22m\u001b[39mTargeting ϕ=0.9086609374999999\n",
      "\u001b[32mProgress: 100%|█████████████████████████████████████████| Time: 0:03:16\u001b[39m\n",
      "\u001b[36m\u001b[1m[ \u001b[22m\u001b[39m\u001b[36m\u001b[1mInfo: \u001b[22m\u001b[39mϕ=1, PSIS\n",
      "\u001b[36m\u001b[1m[ \u001b[22m\u001b[39m\u001b[36m\u001b[1mInfo: \u001b[22m\u001b[39mLeaving g=6 out\n"
     ]
    },
    {
     "data": {
      "text/plain": [
       "Results of univariate zero finding:\n",
       "\n",
       "* Converged to: 0.8858261718749998\n",
       "* Algorithm: Bisection()\n",
       "* iterations: 10\n",
       "* function evaluations ≈ 13\n",
       "\n",
       "Trace:\n",
       "(a₀, b₀) = ( 0.010306249999999999, 1 )\n",
       "(a₁, b₁) = ( 0.103725, 1 )\n",
       "(a₂, b₂) = ( 0.33244999999999997, 1 )\n",
       "(a₃, b₃) = ( 0.58244999999999991, 1 )\n",
       "(a₄, b₄) = ( 0.79122499999999996, 1 )\n",
       "(a₅, b₅) = ( 0.79122499999999996, 0.89561249999999992 )\n",
       "(a₆, b₆) = ( 0.84341874999999988, 0.89561249999999992 )\n",
       "(a₇, b₇) = ( 0.8695156249999999, 0.89561249999999992 )\n",
       "(a₈, b₈) = ( 0.88256406249999986, 0.89561249999999992 )\n",
       "(a₉, b₉) = ( 0.88256406249999986, 0.88908828124999983 )\n",
       "(a₁₀, b₁₀) = ( 0.88256406249999986, 0.88582617187499979 )\n",
       "\n"
      ]
     },
     "metadata": {},
     "output_type": "display_data"
    },
    {
     "name": "stderr",
     "output_type": "stream",
     "text": [
      "\u001b[36m\u001b[1m[ \u001b[22m\u001b[39m\u001b[36m\u001b[1mInfo: \u001b[22m\u001b[39mTargeting ϕ=0.8858261718749998\n",
      "\u001b[32mProgress: 100%|█████████████████████████████████████████| Time: 0:03:08\u001b[39m\n",
      "\u001b[36m\u001b[1m[ \u001b[22m\u001b[39m\u001b[36m\u001b[1mInfo: \u001b[22m\u001b[39mϕ=1, PSIS\n",
      "\u001b[36m\u001b[1m[ \u001b[22m\u001b[39m\u001b[36m\u001b[1mInfo: \u001b[22m\u001b[39mLeaving g=7 out\n",
      "\u001b[36m\u001b[1m[ \u001b[22m\u001b[39m\u001b[36m\u001b[1mInfo: \u001b[22m\u001b[39mϕ=1, MCMC\n",
      "\u001b[32mProgress: 100%|█████████████████████████████████████████| Time: 0:01:09\u001b[39m\n",
      "\u001b[36m\u001b[1m[ \u001b[22m\u001b[39m\u001b[36m\u001b[1mInfo: \u001b[22m\u001b[39mLeaving g=8 out\n",
      "\u001b[36m\u001b[1m[ \u001b[22m\u001b[39m\u001b[36m\u001b[1mInfo: \u001b[22m\u001b[39mϕ=1, PSIS\n",
      "\u001b[36m\u001b[1m[ \u001b[22m\u001b[39m\u001b[36m\u001b[1mInfo: \u001b[22m\u001b[39mLeaving g=9 out\n",
      "\u001b[36m\u001b[1m[ \u001b[22m\u001b[39m\u001b[36m\u001b[1mInfo: \u001b[22m\u001b[39mϕ=1, PSIS\n",
      "\u001b[36m\u001b[1m[ \u001b[22m\u001b[39m\u001b[36m\u001b[1mInfo: \u001b[22m\u001b[39mLeaving g=10 out\n"
     ]
    },
    {
     "data": {
      "text/plain": [
       "Results of univariate zero finding:\n",
       "\n",
       "* Converged to: 0.9575925781249999\n",
       "* Algorithm: Bisection()\n",
       "* iterations: 10\n",
       "* function evaluations ≈ 13\n",
       "\n",
       "Trace:\n",
       "(a₀, b₀) = ( 0.010306249999999999, 1 )\n",
       "(a₁, b₁) = ( 0.103725, 1 )\n",
       "(a₂, b₂) = ( 0.33244999999999997, 1 )\n",
       "(a₃, b₃) = ( 0.58244999999999991, 1 )\n",
       "(a₄, b₄) = ( 0.79122499999999996, 1 )\n",
       "(a₅, b₅) = ( 0.89561249999999992, 1 )\n",
       "(a₆, b₆) = ( 0.94780624999999996, 1 )\n",
       "(a₇, b₇) = ( 0.94780624999999996, 0.97390312499999998 )\n",
       "(a₈, b₈) = ( 0.94780624999999996, 0.96085468749999992 )\n",
       "(a₉, b₉) = ( 0.95433046874999994, 0.96085468749999992 )\n",
       "(a₁₀, b₁₀) = ( 0.95433046874999994, 0.95759257812499987 )\n",
       "\n"
      ]
     },
     "metadata": {},
     "output_type": "display_data"
    },
    {
     "name": "stderr",
     "output_type": "stream",
     "text": [
      "\u001b[36m\u001b[1m[ \u001b[22m\u001b[39m\u001b[36m\u001b[1mInfo: \u001b[22m\u001b[39mTargeting ϕ=0.9575925781249999\n",
      "\u001b[32mProgress: 100%|█████████████████████████████████████████| Time: 0:03:13\u001b[39m\n",
      "\u001b[36m\u001b[1m[ \u001b[22m\u001b[39m\u001b[36m\u001b[1mInfo: \u001b[22m\u001b[39mϕ=1, PSIS\n",
      "\u001b[36m\u001b[1m[ \u001b[22m\u001b[39m\u001b[36m\u001b[1mInfo: \u001b[22m\u001b[39mLeaving g=11 out\n",
      "\u001b[36m\u001b[1m[ \u001b[22m\u001b[39m\u001b[36m\u001b[1mInfo: \u001b[22m\u001b[39mϕ=1, PSIS\n",
      "\u001b[36m\u001b[1m[ \u001b[22m\u001b[39m\u001b[36m\u001b[1mInfo: \u001b[22m\u001b[39mLeaving g=12 out\n",
      "\u001b[36m\u001b[1m[ \u001b[22m\u001b[39m\u001b[36m\u001b[1mInfo: \u001b[22m\u001b[39mϕ=1, PSIS\n",
      "\u001b[36m\u001b[1m[ \u001b[22m\u001b[39m\u001b[36m\u001b[1mInfo: \u001b[22m\u001b[39mLeaving g=13 out\n"
     ]
    },
    {
     "data": {
      "text/plain": [
       "Results of univariate zero finding:\n",
       "\n",
       "* Converged to: 0.4874001953124999\n",
       "* Algorithm: Bisection()\n",
       "* iterations: 10\n",
       "* function evaluations ≈ 13\n",
       "\n",
       "Trace:\n",
       "(a₀, b₀) = ( 0.010306249999999999, 1 )\n",
       "(a₁, b₁) = ( 0.103725, 1 )\n",
       "(a₂, b₂) = ( 0.33244999999999997, 1 )\n",
       "(a₃, b₃) = ( 0.33244999999999997, 0.58244999999999991 )\n",
       "(a₄, b₄) = ( 0.43683749999999993, 0.58244999999999991 )\n",
       "(a₅, b₅) = ( 0.43683749999999993, 0.48903124999999992 )\n",
       "(a₆, b₆) = ( 0.4629343749999999, 0.48903124999999992 )\n",
       "(a₇, b₇) = ( 0.47598281249999991, 0.48903124999999992 )\n",
       "(a₈, b₈) = ( 0.48250703124999988, 0.48903124999999992 )\n",
       "(a₉, b₉) = ( 0.48576914062499987, 0.48903124999999992 )\n",
       "(a₁₀, b₁₀) = ( 0.4874001953124999, 0.48903124999999992 )\n",
       "\n"
      ]
     },
     "metadata": {},
     "output_type": "display_data"
    },
    {
     "name": "stderr",
     "output_type": "stream",
     "text": [
      "\u001b[36m\u001b[1m[ \u001b[22m\u001b[39m\u001b[36m\u001b[1mInfo: \u001b[22m\u001b[39mTargeting ϕ=0.4874001953124999\n",
      "\u001b[32mProgress: 100%|█████████████████████████████████████████| Time: 0:03:18\u001b[39m\n"
     ]
    },
    {
     "data": {
      "text/plain": [
       "Results of univariate zero finding:\n",
       "\n",
       "* Converged to: 0.7664674589157102\n",
       "* Algorithm: Bisection()\n",
       "* iterations: 10\n",
       "* function evaluations ≈ 13\n",
       "\n",
       "Trace:\n",
       "(a₀, b₀) = ( 0.73750019531249988, 1 )\n",
       "(a₁, b₁) = ( 0.73750019531249988, 0.86875009765624989 )\n",
       "(a₂, b₂) = ( 0.73750019531249988, 0.80312514648437483 )\n",
       "(a₃, b₃) = ( 0.73750019531249988, 0.77031267089843736 )\n",
       "(a₄, b₄) = ( 0.75390643310546857, 0.77031267089843736 )\n",
       "(a₅, b₅) = ( 0.76210955200195296, 0.77031267089843736 )\n",
       "(a₆, b₆) = ( 0.76621111145019516, 0.77031267089843736 )\n",
       "(a₇, b₇) = ( 0.76621111145019516, 0.7682618911743162 )\n",
       "(a₈, b₈) = ( 0.76621111145019516, 0.76723650131225563 )\n",
       "(a₉, b₉) = ( 0.76621111145019516, 0.76672380638122539 )\n",
       "(a₁₀, b₁₀) = ( 0.76646745891571022, 0.76672380638122539 )\n",
       "\n"
      ]
     },
     "metadata": {},
     "output_type": "display_data"
    },
    {
     "name": "stderr",
     "output_type": "stream",
     "text": [
      "\u001b[36m\u001b[1m[ \u001b[22m\u001b[39m\u001b[36m\u001b[1mInfo: \u001b[22m\u001b[39mTargeting ϕ=0.7664674589157102\n",
      "\u001b[32mProgress: 100%|█████████████████████████████████████████| Time: 0:03:14\u001b[39m\n"
     ]
    },
    {
     "data": {
      "text/plain": [
       "Results of univariate zero finding:\n",
       "\n",
       "* Converged to: 0.922607082326058\n",
       "* Algorithm: Bisection()\n",
       "* iterations: 10\n",
       "* function evaluations ≈ 13\n",
       "\n",
       "Trace:\n",
       "(a₀, b₀) = ( 0.88328372945785505, 1 )\n",
       "(a₁, b₁) = ( 0.88328372945785505, 0.94164186472892752 )\n",
       "(a₂, b₂) = ( 0.91246279709339129, 0.94164186472892752 )\n",
       "(a₃, b₃) = ( 0.91246279709339129, 0.92705233091115935 )\n",
       "(a₄, b₄) = ( 0.91975756400227526, 0.92705233091115935 )\n",
       "(a₅, b₅) = ( 0.91975756400227526, 0.92340494745671731 )\n",
       "(a₆, b₆) = ( 0.92158125572949623, 0.92340494745671731 )\n",
       "(a₇, b₇) = ( 0.92249310159310671, 0.92340494745671731 )\n",
       "(a₈, b₈) = ( 0.92249310159310671, 0.92294902452491201 )\n",
       "(a₉, b₉) = ( 0.92249310159310671, 0.92272106305900936 )\n",
       "(a₁₀, b₁₀) = ( 0.92249310159310671, 0.92260708232605804 )\n",
       "\n"
      ]
     },
     "metadata": {},
     "output_type": "display_data"
    },
    {
     "name": "stderr",
     "output_type": "stream",
     "text": [
      "\u001b[36m\u001b[1m[ \u001b[22m\u001b[39m\u001b[36m\u001b[1mInfo: \u001b[22m\u001b[39mTargeting ϕ=0.922607082326058\n",
      "\u001b[32mProgress: 100%|█████████████████████████████████████████| Time: 0:03:15\u001b[39m\n"
     ]
    },
    {
     "data": {
      "text/plain": [
       "Results of univariate zero finding:\n",
       "\n",
       "* Converged to: 0.9858472440782575\n",
       "* Algorithm: Bisection()\n",
       "* iterations: 10\n",
       "* function evaluations ≈ 13\n",
       "\n",
       "Trace:\n",
       "(a₀, b₀) = ( 0.96135354116302896, 1 )\n",
       "(a₁, b₁) = ( 0.98067677058151448, 1 )\n",
       "(a₂, b₂) = ( 0.98067677058151448, 0.99033838529075724 )\n",
       "(a₃, b₃) = ( 0.98550757793613586, 0.99033838529075724 )\n",
       "(a₄, b₄) = ( 0.98550757793613586, 0.98792298161344649 )\n",
       "(a₅, b₅) = ( 0.98550757793613586, 0.98671527977479112 )\n",
       "(a₆, b₆) = ( 0.98550757793613586, 0.98611142885546343 )\n",
       "(a₇, b₇) = ( 0.98580950339579965, 0.98611142885546343 )\n",
       "(a₈, b₈) = ( 0.98580950339579965, 0.98596046612563149 )\n",
       "(a₉, b₉) = ( 0.98580950339579965, 0.98588498476071551 )\n",
       "(a₁₀, b₁₀) = ( 0.98580950339579965, 0.98584724407825752 )\n",
       "\n"
      ]
     },
     "metadata": {},
     "output_type": "display_data"
    },
    {
     "name": "stderr",
     "output_type": "stream",
     "text": [
      "\u001b[36m\u001b[1m[ \u001b[22m\u001b[39m\u001b[36m\u001b[1mInfo: \u001b[22m\u001b[39mTargeting ϕ=0.9858472440782575\n",
      "\u001b[32mProgress: 100%|█████████████████████████████████████████| Time: 0:03:15\u001b[39m\n",
      "\u001b[36m\u001b[1m[ \u001b[22m\u001b[39m\u001b[36m\u001b[1mInfo: \u001b[22m\u001b[39mϕ=1, PSIS\n",
      "\u001b[36m\u001b[1m[ \u001b[22m\u001b[39m\u001b[36m\u001b[1mInfo: \u001b[22m\u001b[39mLeaving g=14 out\n"
     ]
    },
    {
     "data": {
      "text/plain": [
       "Results of univariate zero finding:\n",
       "\n",
       "* Converged to: 0.9902136718749999\n",
       "* Algorithm: Bisection()\n",
       "* iterations: 10\n",
       "* function evaluations ≈ 13\n",
       "\n",
       "Trace:\n",
       "(a₀, b₀) = ( 0.010306249999999999, 1 )\n",
       "(a₁, b₁) = ( 0.103725, 1 )\n",
       "(a₂, b₂) = ( 0.33244999999999997, 1 )\n",
       "(a₃, b₃) = ( 0.58244999999999991, 1 )\n",
       "(a₄, b₄) = ( 0.79122499999999996, 1 )\n",
       "(a₅, b₅) = ( 0.89561249999999992, 1 )\n",
       "(a₆, b₆) = ( 0.94780624999999996, 1 )\n",
       "(a₇, b₇) = ( 0.97390312499999998, 1 )\n",
       "(a₈, b₈) = ( 0.98695156249999993, 1 )\n",
       "(a₉, b₉) = ( 0.98695156249999993, 0.99347578124999991 )\n",
       "(a₁₀, b₁₀) = ( 0.99021367187499987, 0.99347578124999991 )\n",
       "\n"
      ]
     },
     "metadata": {},
     "output_type": "display_data"
    },
    {
     "name": "stderr",
     "output_type": "stream",
     "text": [
      "\u001b[36m\u001b[1m[ \u001b[22m\u001b[39m\u001b[36m\u001b[1mInfo: \u001b[22m\u001b[39mTargeting ϕ=0.9902136718749999\n",
      "\u001b[32mProgress: 100%|█████████████████████████████████████████| Time: 0:03:17\u001b[39m\n",
      "\u001b[36m\u001b[1m[ \u001b[22m\u001b[39m\u001b[36m\u001b[1mInfo: \u001b[22m\u001b[39mϕ=1, PSIS\n",
      "\u001b[36m\u001b[1m[ \u001b[22m\u001b[39m\u001b[36m\u001b[1mInfo: \u001b[22m\u001b[39mLeaving g=15 out\n"
     ]
    },
    {
     "data": {
      "text/plain": [
       "Results of univariate zero finding:\n",
       "\n",
       "* Converged to: 0.6118089843749998\n",
       "* Algorithm: Bisection()\n",
       "* iterations: 10\n",
       "* function evaluations ≈ 13\n",
       "\n",
       "Trace:\n",
       "(a₀, b₀) = ( 0.010306249999999999, 1 )\n",
       "(a₁, b₁) = ( 0.103725, 1 )\n",
       "(a₂, b₂) = ( 0.33244999999999997, 1 )\n",
       "(a₃, b₃) = ( 0.58244999999999991, 1 )\n",
       "(a₄, b₄) = ( 0.58244999999999991, 0.79122499999999996 )\n",
       "(a₅, b₅) = ( 0.58244999999999991, 0.68683749999999988 )\n",
       "(a₆, b₆) = ( 0.58244999999999991, 0.63464374999999984 )\n",
       "(a₇, b₇) = ( 0.60854687499999982, 0.63464374999999984 )\n",
       "(a₈, b₈) = ( 0.60854687499999982, 0.62159531249999977 )\n",
       "(a₉, b₉) = ( 0.60854687499999982, 0.6150710937499998 )\n",
       "(a₁₀, b₁₀) = ( 0.61180898437499975, 0.6150710937499998 )\n",
       "\n"
      ]
     },
     "metadata": {},
     "output_type": "display_data"
    },
    {
     "name": "stderr",
     "output_type": "stream",
     "text": [
      "\u001b[36m\u001b[1m[ \u001b[22m\u001b[39m\u001b[36m\u001b[1mInfo: \u001b[22m\u001b[39mTargeting ϕ=0.6118089843749998\n",
      "\u001b[32mProgress: 100%|█████████████████████████████████████████| Time: 0:03:16\u001b[39m\n"
     ]
    },
    {
     "data": {
      "text/plain": [
       "Results of univariate zero finding:\n",
       "\n",
       "* Converged to: 0.9278014272689816\n",
       "* Algorithm: Bisection()\n",
       "* iterations: 10\n",
       "* function evaluations ≈ 13\n",
       "\n",
       "Trace:\n",
       "(a₀, b₀) = ( 0.80595449218749982, 1 )\n",
       "(a₁, b₁) = ( 0.90297724609374985, 1 )\n",
       "(a₂, b₂) = ( 0.90297724609374985, 0.95148862304687487 )\n",
       "(a₃, b₃) = ( 0.92723293457031231, 0.95148862304687487 )\n",
       "(a₄, b₄) = ( 0.92723293457031231, 0.93936077880859359 )\n",
       "(a₅, b₅) = ( 0.92723293457031231, 0.93329685668945295 )\n",
       "(a₆, b₆) = ( 0.92723293457031231, 0.93026489562988257 )\n",
       "(a₇, b₇) = ( 0.92723293457031231, 0.92874891510009738 )\n",
       "(a₈, b₈) = ( 0.92723293457031231, 0.92799092483520484 )\n",
       "(a₉, b₉) = ( 0.92761192970275852, 0.92799092483520484 )\n",
       "(a₁₀, b₁₀) = ( 0.92761192970275852, 0.92780142726898163 )\n",
       "\n"
      ]
     },
     "metadata": {},
     "output_type": "display_data"
    },
    {
     "name": "stderr",
     "output_type": "stream",
     "text": [
      "\u001b[36m\u001b[1m[ \u001b[22m\u001b[39m\u001b[36m\u001b[1mInfo: \u001b[22m\u001b[39mTargeting ϕ=0.9278014272689816\n",
      "\u001b[32mProgress: 100%|█████████████████████████████████████████| Time: 0:03:16\u001b[39m\n",
      "\u001b[36m\u001b[1m[ \u001b[22m\u001b[39m\u001b[36m\u001b[1mInfo: \u001b[22m\u001b[39mϕ=1, PSIS\n",
      "\u001b[36m\u001b[1m[ \u001b[22m\u001b[39m\u001b[36m\u001b[1mInfo: \u001b[22m\u001b[39mLeaving g=16 out\n",
      "\u001b[36m\u001b[1m[ \u001b[22m\u001b[39m\u001b[36m\u001b[1mInfo: \u001b[22m\u001b[39mϕ=1, PSIS\n",
      "\u001b[36m\u001b[1m[ \u001b[22m\u001b[39m\u001b[36m\u001b[1mInfo: \u001b[22m\u001b[39mLeaving g=17 out\n"
     ]
    },
    {
     "data": {
      "text/plain": [
       "Results of univariate zero finding:\n",
       "\n",
       "* Converged to: 0.6574785156249998\n",
       "* Algorithm: Bisection()\n",
       "* iterations: 10\n",
       "* function evaluations ≈ 13\n",
       "\n",
       "Trace:\n",
       "(a₀, b₀) = ( 0.010306249999999999, 1 )\n",
       "(a₁, b₁) = ( 0.103725, 1 )\n",
       "(a₂, b₂) = ( 0.33244999999999997, 1 )\n",
       "(a₃, b₃) = ( 0.58244999999999991, 1 )\n",
       "(a₄, b₄) = ( 0.58244999999999991, 0.79122499999999996 )\n",
       "(a₅, b₅) = ( 0.58244999999999991, 0.68683749999999988 )\n",
       "(a₆, b₆) = ( 0.63464374999999984, 0.68683749999999988 )\n",
       "(a₇, b₇) = ( 0.63464374999999984, 0.66074062499999986 )\n",
       "(a₈, b₈) = ( 0.64769218749999979, 0.66074062499999986 )\n",
       "(a₉, b₉) = ( 0.65421640624999977, 0.66074062499999986 )\n",
       "(a₁₀, b₁₀) = ( 0.65747851562499982, 0.66074062499999986 )\n",
       "\n"
      ]
     },
     "metadata": {},
     "output_type": "display_data"
    },
    {
     "name": "stderr",
     "output_type": "stream",
     "text": [
      "\u001b[36m\u001b[1m[ \u001b[22m\u001b[39m\u001b[36m\u001b[1mInfo: \u001b[22m\u001b[39mTargeting ϕ=0.6574785156249998\n",
      "\u001b[32mProgress: 100%|█████████████████████████████████████████| Time: 0:03:17\u001b[39m\n"
     ]
    },
    {
     "data": {
      "text/plain": [
       "Results of univariate zero finding:\n",
       "\n",
       "* Converged to: 0.9832802009582519\n",
       "* Algorithm: Bisection()\n",
       "* iterations: 10\n",
       "* function evaluations ≈ 13\n",
       "\n",
       "Trace:\n",
       "(a₀, b₀) = ( 0.8287892578124999, 1 )\n",
       "(a₁, b₁) = ( 0.9143946289062499, 1 )\n",
       "(a₂, b₂) = ( 0.95719731445312495, 1 )\n",
       "(a₃, b₃) = ( 0.97859865722656247, 1 )\n",
       "(a₄, b₄) = ( 0.97859865722656247, 0.98929932861328118 )\n",
       "(a₅, b₅) = ( 0.97859865722656247, 0.98394899291992177 )\n",
       "(a₆, b₆) = ( 0.98127382507324212, 0.98394899291992177 )\n",
       "(a₇, b₇) = ( 0.98261140899658195, 0.98394899291992177 )\n",
       "(a₈, b₈) = ( 0.98328020095825186, 0.98394899291992177 )\n",
       "(a₉, b₉) = ( 0.98328020095825186, 0.98361459693908682 )\n",
       "(a₁₀, b₁₀) = ( 0.98328020095825186, 0.98344739894866928 )\n",
       "\n"
      ]
     },
     "metadata": {},
     "output_type": "display_data"
    },
    {
     "name": "stderr",
     "output_type": "stream",
     "text": [
      "\u001b[36m\u001b[1m[ \u001b[22m\u001b[39m\u001b[36m\u001b[1mInfo: \u001b[22m\u001b[39mTargeting ϕ=0.9832802009582519\n",
      "\u001b[32mProgress: 100%|█████████████████████████████████████████| Time: 0:03:15\u001b[39m\n",
      "\u001b[36m\u001b[1m[ \u001b[22m\u001b[39m\u001b[36m\u001b[1mInfo: \u001b[22m\u001b[39mϕ=1, PSIS\n",
      "\u001b[36m\u001b[1m[ \u001b[22m\u001b[39m\u001b[36m\u001b[1mInfo: \u001b[22m\u001b[39mLeaving g=18 out\n"
     ]
    },
    {
     "data": {
      "text/plain": [
       "Results of univariate zero finding:\n",
       "\n",
       "* Converged to: 0.5824499999999999\n",
       "* Algorithm: Bisection()\n",
       "* iterations: 10\n",
       "* function evaluations ≈ 13\n",
       "\n",
       "Trace:\n",
       "(a₀, b₀) = ( 0.010306249999999999, 1 )\n",
       "(a₁, b₁) = ( 0.103725, 1 )\n",
       "(a₂, b₂) = ( 0.33244999999999997, 1 )\n",
       "(a₃, b₃) = ( 0.58244999999999991, 1 )\n",
       "(a₄, b₄) = ( 0.58244999999999991, 0.79122499999999996 )\n",
       "(a₅, b₅) = ( 0.58244999999999991, 0.68683749999999988 )\n",
       "(a₆, b₆) = ( 0.58244999999999991, 0.63464374999999984 )\n",
       "(a₇, b₇) = ( 0.58244999999999991, 0.60854687499999982 )\n",
       "(a₈, b₈) = ( 0.58244999999999991, 0.59549843749999987 )\n",
       "(a₉, b₉) = ( 0.58244999999999991, 0.58897421874999989 )\n",
       "(a₁₀, b₁₀) = ( 0.58244999999999991, 0.58571210937499985 )\n",
       "\n"
      ]
     },
     "metadata": {},
     "output_type": "display_data"
    },
    {
     "name": "stderr",
     "output_type": "stream",
     "text": [
      "\u001b[36m\u001b[1m[ \u001b[22m\u001b[39m\u001b[36m\u001b[1mInfo: \u001b[22m\u001b[39mTargeting ϕ=0.5824499999999999\n",
      "\u001b[32mProgress: 100%|█████████████████████████████████████████| Time: 0:03:19\u001b[39m\n"
     ]
    },
    {
     "data": {
      "text/plain": [
       "Results of univariate zero finding:\n",
       "\n",
       "* Converged to: 0.9904198486328124\n",
       "* Algorithm: Bisection()\n",
       "* iterations: 10\n",
       "* function evaluations ≈ 13\n",
       "\n",
       "Trace:\n",
       "(a₀, b₀) = ( 0.79127499999999995, 1 )\n",
       "(a₁, b₁) = ( 0.89563749999999998, 1 )\n",
       "(a₂, b₂) = ( 0.94781874999999993, 1 )\n",
       "(a₃, b₃) = ( 0.97390937499999997, 1 )\n",
       "(a₄, b₄) = ( 0.98695468749999993, 1 )\n",
       "(a₅, b₅) = ( 0.98695468749999993, 0.99347734374999996 )\n",
       "(a₆, b₆) = ( 0.99021601562499995, 0.99347734374999996 )\n",
       "(a₇, b₇) = ( 0.99021601562499995, 0.99184667968749995 )\n",
       "(a₈, b₈) = ( 0.99021601562499995, 0.99103134765624989 )\n",
       "(a₉, b₉) = ( 0.99021601562499995, 0.99062368164062486 )\n",
       "(a₁₀, b₁₀) = ( 0.99041984863281241, 0.99062368164062486 )\n",
       "\n"
      ]
     },
     "metadata": {},
     "output_type": "display_data"
    },
    {
     "name": "stderr",
     "output_type": "stream",
     "text": [
      "\u001b[36m\u001b[1m[ \u001b[22m\u001b[39m\u001b[36m\u001b[1mInfo: \u001b[22m\u001b[39mTargeting ϕ=0.9904198486328124\n",
      "\u001b[32mProgress: 100%|█████████████████████████████████████████| Time: 0:03:10\u001b[39m\n",
      "\u001b[36m\u001b[1m[ \u001b[22m\u001b[39m\u001b[36m\u001b[1mInfo: \u001b[22m\u001b[39mϕ=1, PSIS\n",
      "\u001b[36m\u001b[1m[ \u001b[22m\u001b[39m\u001b[36m\u001b[1mInfo: \u001b[22m\u001b[39mLeaving g=19 out\n",
      "\u001b[36m\u001b[1m[ \u001b[22m\u001b[39m\u001b[36m\u001b[1mInfo: \u001b[22m\u001b[39mϕ=1, PSIS\n",
      "\u001b[36m\u001b[1m[ \u001b[22m\u001b[39m\u001b[36m\u001b[1mInfo: \u001b[22m\u001b[39mLeaving g=20 out\n"
     ]
    },
    {
     "data": {
      "text/plain": [
       "Results of univariate zero finding:\n",
       "\n",
       "* Converged to: 0.7064101562499998\n",
       "* Algorithm: Bisection()\n",
       "* iterations: 10\n",
       "* function evaluations ≈ 13\n",
       "\n",
       "Trace:\n",
       "(a₀, b₀) = ( 0.010306249999999999, 1 )\n",
       "(a₁, b₁) = ( 0.103725, 1 )\n",
       "(a₂, b₂) = ( 0.33244999999999997, 1 )\n",
       "(a₃, b₃) = ( 0.58244999999999991, 1 )\n",
       "(a₄, b₄) = ( 0.58244999999999991, 0.79122499999999996 )\n",
       "(a₅, b₅) = ( 0.68683749999999988, 0.79122499999999996 )\n",
       "(a₆, b₆) = ( 0.68683749999999988, 0.73903124999999992 )\n",
       "(a₇, b₇) = ( 0.68683749999999988, 0.7129343749999999 )\n",
       "(a₈, b₈) = ( 0.69988593749999983, 0.7129343749999999 )\n",
       "(a₉, b₉) = ( 0.69988593749999983, 0.70641015624999981 )\n",
       "(a₁₀, b₁₀) = ( 0.70314804687499977, 0.70641015624999981 )\n",
       "\n"
      ]
     },
     "metadata": {},
     "output_type": "display_data"
    },
    {
     "name": "stderr",
     "output_type": "stream",
     "text": [
      "\u001b[36m\u001b[1m[ \u001b[22m\u001b[39m\u001b[36m\u001b[1mInfo: \u001b[22m\u001b[39mTargeting ϕ=0.7064101562499998\n",
      "\u001b[32mProgress: 100%|█████████████████████████████████████████| Time: 0:03:15\u001b[39m\n"
     ]
    },
    {
     "data": {
      "text/plain": [
       "Results of univariate zero finding:\n",
       "\n",
       "* Converged to: 0.9710522712707517\n",
       "* Algorithm: Bisection()\n",
       "* iterations: 10\n",
       "* function evaluations ≈ 13\n",
       "\n",
       "Trace:\n",
       "(a₀, b₀) = ( 0.8532550781249999, 1 )\n",
       "(a₁, b₁) = ( 0.92662753906249995, 1 )\n",
       "(a₂, b₂) = ( 0.96331376953124992, 1 )\n",
       "(a₃, b₃) = ( 0.96331376953124992, 0.98165688476562496 )\n",
       "(a₄, b₄) = ( 0.96331376953124992, 0.97248532714843738 )\n",
       "(a₅, b₅) = ( 0.9678995483398436, 0.97248532714843738 )\n",
       "(a₆, b₆) = ( 0.97019243774414043, 0.97248532714843738 )\n",
       "(a₇, b₇) = ( 0.97019243774414043, 0.97133888244628885 )\n",
       "(a₈, b₈) = ( 0.97076566009521459, 0.97133888244628885 )\n",
       "(a₉, b₉) = ( 0.97076566009521459, 0.97105227127075167 )\n",
       "(a₁₀, b₁₀) = ( 0.97090896568298313, 0.97105227127075167 )\n",
       "\n"
      ]
     },
     "metadata": {},
     "output_type": "display_data"
    },
    {
     "name": "stderr",
     "output_type": "stream",
     "text": [
      "\u001b[36m\u001b[1m[ \u001b[22m\u001b[39m\u001b[36m\u001b[1mInfo: \u001b[22m\u001b[39mTargeting ϕ=0.9710522712707517\n",
      "\u001b[32mProgress: 100%|█████████████████████████████████████████| Time: 0:03:13\u001b[39m\n",
      "\u001b[36m\u001b[1m[ \u001b[22m\u001b[39m\u001b[36m\u001b[1mInfo: \u001b[22m\u001b[39mϕ=1, PSIS\n",
      "\u001b[36m\u001b[1m[ \u001b[22m\u001b[39m\u001b[36m\u001b[1mInfo: \u001b[22m\u001b[39mLeaving g=21 out\n",
      "\u001b[36m\u001b[1m[ \u001b[22m\u001b[39m\u001b[36m\u001b[1mInfo: \u001b[22m\u001b[39mϕ=1, PSIS\n",
      "\u001b[36m\u001b[1m[ \u001b[22m\u001b[39m\u001b[36m\u001b[1mInfo: \u001b[22m\u001b[39mLeaving g=22 out\n",
      "\u001b[36m\u001b[1m[ \u001b[22m\u001b[39m\u001b[36m\u001b[1mInfo: \u001b[22m\u001b[39mϕ=1, PSIS\n",
      "\u001b[36m\u001b[1m[ \u001b[22m\u001b[39m\u001b[36m\u001b[1mInfo: \u001b[22m\u001b[39mLeaving g=23 out\n"
     ]
    },
    {
     "data": {
      "text/plain": [
       "Results of univariate zero finding:\n",
       "\n",
       "* Converged to: 0.9641167968749998\n",
       "* Algorithm: Bisection()\n",
       "* iterations: 10\n",
       "* function evaluations ≈ 13\n",
       "\n",
       "Trace:\n",
       "(a₀, b₀) = ( 0.010306249999999999, 1 )\n",
       "(a₁, b₁) = ( 0.103725, 1 )\n",
       "(a₂, b₂) = ( 0.33244999999999997, 1 )\n",
       "(a₃, b₃) = ( 0.58244999999999991, 1 )\n",
       "(a₄, b₄) = ( 0.79122499999999996, 1 )\n",
       "(a₅, b₅) = ( 0.89561249999999992, 1 )\n",
       "(a₆, b₆) = ( 0.94780624999999996, 1 )\n",
       "(a₇, b₇) = ( 0.94780624999999996, 0.97390312499999998 )\n",
       "(a₈, b₈) = ( 0.96085468749999992, 0.97390312499999998 )\n",
       "(a₉, b₉) = ( 0.96085468749999992, 0.96737890624999989 )\n",
       "(a₁₀, b₁₀) = ( 0.96085468749999992, 0.96411679687499985 )\n",
       "\n"
      ]
     },
     "metadata": {},
     "output_type": "display_data"
    },
    {
     "name": "stderr",
     "output_type": "stream",
     "text": [
      "\u001b[36m\u001b[1m[ \u001b[22m\u001b[39m\u001b[36m\u001b[1mInfo: \u001b[22m\u001b[39mTargeting ϕ=0.9641167968749998\n",
      "\u001b[32mProgress: 100%|█████████████████████████████████████████| Time: 0:03:16\u001b[39m\n",
      "\u001b[36m\u001b[1m[ \u001b[22m\u001b[39m\u001b[36m\u001b[1mInfo: \u001b[22m\u001b[39mϕ=1, PSIS\n",
      "\u001b[36m\u001b[1m[ \u001b[22m\u001b[39m\u001b[36m\u001b[1mInfo: \u001b[22m\u001b[39mLeaving g=24 out\n"
     ]
    },
    {
     "data": {
      "text/plain": [
       "Results of univariate zero finding:\n",
       "\n",
       "* Converged to: 0.7390312499999999\n",
       "* Algorithm: Bisection()\n",
       "* iterations: 10\n",
       "* function evaluations ≈ 13\n",
       "\n",
       "Trace:\n",
       "(a₀, b₀) = ( 0.010306249999999999, 1 )\n",
       "(a₁, b₁) = ( 0.103725, 1 )\n",
       "(a₂, b₂) = ( 0.33244999999999997, 1 )\n",
       "(a₃, b₃) = ( 0.58244999999999991, 1 )\n",
       "(a₄, b₄) = ( 0.58244999999999991, 0.79122499999999996 )\n",
       "(a₅, b₅) = ( 0.68683749999999988, 0.79122499999999996 )\n",
       "(a₆, b₆) = ( 0.73903124999999992, 0.79122499999999996 )\n",
       "(a₇, b₇) = ( 0.73903124999999992, 0.76512812499999994 )\n",
       "(a₈, b₈) = ( 0.73903124999999992, 0.75207968749999987 )\n",
       "(a₉, b₉) = ( 0.73903124999999992, 0.74555546874999989 )\n",
       "(a₁₀, b₁₀) = ( 0.73903124999999992, 0.74229335937499985 )\n",
       "\n"
      ]
     },
     "metadata": {},
     "output_type": "display_data"
    },
    {
     "name": "stderr",
     "output_type": "stream",
     "text": [
      "\u001b[36m\u001b[1m[ \u001b[22m\u001b[39m\u001b[36m\u001b[1mInfo: \u001b[22m\u001b[39mTargeting ϕ=0.7390312499999999\n",
      "\u001b[32mProgress: 100%|█████████████████████████████████████████| Time: 0:03:18\u001b[39m\n",
      "\u001b[36m\u001b[1m[ \u001b[22m\u001b[39m\u001b[36m\u001b[1mInfo: \u001b[22m\u001b[39mϕ=1, PSIS\n",
      "\u001b[36m\u001b[1m[ \u001b[22m\u001b[39m\u001b[36m\u001b[1mInfo: \u001b[22m\u001b[39mLeaving g=25 out\n"
     ]
    },
    {
     "data": {
      "text/plain": [
       "Results of univariate zero finding:\n",
       "\n",
       "* Converged to: 0.8238460937499998\n",
       "* Algorithm: Bisection()\n",
       "* iterations: 10\n",
       "* function evaluations ≈ 13\n",
       "\n",
       "Trace:\n",
       "(a₀, b₀) = ( 0.010306249999999999, 1 )\n",
       "(a₁, b₁) = ( 0.103725, 1 )\n",
       "(a₂, b₂) = ( 0.33244999999999997, 1 )\n",
       "(a₃, b₃) = ( 0.58244999999999991, 1 )\n",
       "(a₄, b₄) = ( 0.79122499999999996, 1 )\n",
       "(a₅, b₅) = ( 0.79122499999999996, 0.89561249999999992 )\n",
       "(a₆, b₆) = ( 0.79122499999999996, 0.84341874999999988 )\n",
       "(a₇, b₇) = ( 0.81732187499999986, 0.84341874999999988 )\n",
       "(a₈, b₈) = ( 0.81732187499999986, 0.83037031249999982 )\n",
       "(a₉, b₉) = ( 0.81732187499999986, 0.82384609374999984 )\n",
       "(a₁₀, b₁₀) = ( 0.8205839843749998, 0.82384609374999984 )\n",
       "\n"
      ]
     },
     "metadata": {},
     "output_type": "display_data"
    },
    {
     "name": "stderr",
     "output_type": "stream",
     "text": [
      "\u001b[36m\u001b[1m[ \u001b[22m\u001b[39m\u001b[36m\u001b[1mInfo: \u001b[22m\u001b[39mTargeting ϕ=0.8238460937499998\n",
      "\u001b[32mProgress: 100%|█████████████████████████████████████████| Time: 0:03:13\u001b[39m\n",
      "\u001b[36m\u001b[1m[ \u001b[22m\u001b[39m\u001b[36m\u001b[1mInfo: \u001b[22m\u001b[39mϕ=1, PSIS\n",
      "\u001b[36m\u001b[1m[ \u001b[22m\u001b[39m\u001b[36m\u001b[1mInfo: \u001b[22m\u001b[39mLeaving g=26 out\n",
      "\u001b[36m\u001b[1m[ \u001b[22m\u001b[39m\u001b[36m\u001b[1mInfo: \u001b[22m\u001b[39mϕ=1, PSIS\n",
      "\u001b[36m\u001b[1m[ \u001b[22m\u001b[39m\u001b[36m\u001b[1mInfo: \u001b[22m\u001b[39mLeaving g=27 out\n",
      "\u001b[36m\u001b[1m[ \u001b[22m\u001b[39m\u001b[36m\u001b[1mInfo: \u001b[22m\u001b[39mϕ=1, PSIS\n",
      "\u001b[36m\u001b[1m[ \u001b[22m\u001b[39m\u001b[36m\u001b[1mInfo: \u001b[22m\u001b[39mLeaving g=28 out\n"
     ]
    },
    {
     "data": {
      "text/plain": [
       "Results of univariate zero finding:\n",
       "\n",
       "* Converged to: 0.8629914062499998\n",
       "* Algorithm: Bisection()\n",
       "* iterations: 10\n",
       "* function evaluations ≈ 13\n",
       "\n",
       "Trace:\n",
       "(a₀, b₀) = ( 0.010306249999999999, 1 )\n",
       "(a₁, b₁) = ( 0.103725, 1 )\n",
       "(a₂, b₂) = ( 0.33244999999999997, 1 )\n",
       "(a₃, b₃) = ( 0.58244999999999991, 1 )\n",
       "(a₄, b₄) = ( 0.79122499999999996, 1 )\n",
       "(a₅, b₅) = ( 0.79122499999999996, 0.89561249999999992 )\n",
       "(a₆, b₆) = ( 0.84341874999999988, 0.89561249999999992 )\n",
       "(a₇, b₇) = ( 0.84341874999999988, 0.8695156249999999 )\n",
       "(a₈, b₈) = ( 0.85646718749999984, 0.8695156249999999 )\n",
       "(a₉, b₉) = ( 0.86299140624999982, 0.8695156249999999 )\n",
       "(a₁₀, b₁₀) = ( 0.86299140624999982, 0.86625351562499986 )\n",
       "\n"
      ]
     },
     "metadata": {},
     "output_type": "display_data"
    },
    {
     "name": "stderr",
     "output_type": "stream",
     "text": [
      "\u001b[36m\u001b[1m[ \u001b[22m\u001b[39m\u001b[36m\u001b[1mInfo: \u001b[22m\u001b[39mTargeting ϕ=0.8629914062499998\n",
      "\u001b[32mProgress: 100%|█████████████████████████████████████████| Time: 0:03:19\u001b[39m\n",
      "\u001b[36m\u001b[1m[ \u001b[22m\u001b[39m\u001b[36m\u001b[1mInfo: \u001b[22m\u001b[39mϕ=1, PSIS\n",
      "\u001b[36m\u001b[1m[ \u001b[22m\u001b[39m\u001b[36m\u001b[1mInfo: \u001b[22m\u001b[39mLeaving g=29 out\n",
      "\u001b[36m\u001b[1m[ \u001b[22m\u001b[39m\u001b[36m\u001b[1mInfo: \u001b[22m\u001b[39mϕ=1, PSIS\n",
      "\u001b[36m\u001b[1m[ \u001b[22m\u001b[39m\u001b[36m\u001b[1mInfo: \u001b[22m\u001b[39mLeaving g=30 out\n",
      "\u001b[36m\u001b[1m[ \u001b[22m\u001b[39m\u001b[36m\u001b[1mInfo: \u001b[22m\u001b[39mϕ=1, PSIS\n",
      "\u001b[36m\u001b[1m[ \u001b[22m\u001b[39m\u001b[36m\u001b[1mInfo: \u001b[22m\u001b[39mLeaving g=31 out\n"
     ]
    },
    {
     "data": {
      "text/plain": [
       "Results of univariate zero finding:\n",
       "\n",
       "* Converged to: 0.4955554687499999\n",
       "* Algorithm: Bisection()\n",
       "* iterations: 10\n",
       "* function evaluations ≈ 13\n",
       "\n",
       "Trace:\n",
       "(a₀, b₀) = ( 0.010306249999999999, 1 )\n",
       "(a₁, b₁) = ( 0.103725, 1 )\n",
       "(a₂, b₂) = ( 0.33244999999999997, 1 )\n",
       "(a₃, b₃) = ( 0.33244999999999997, 0.58244999999999991 )\n",
       "(a₄, b₄) = ( 0.43683749999999993, 0.58244999999999991 )\n",
       "(a₅, b₅) = ( 0.48903124999999992, 0.58244999999999991 )\n",
       "(a₆, b₆) = ( 0.48903124999999992, 0.53025624999999987 )\n",
       "(a₇, b₇) = ( 0.48903124999999992, 0.50415937499999985 )\n",
       "(a₈, b₈) = ( 0.48903124999999992, 0.49555546874999989 )\n",
       "(a₉, b₉) = ( 0.49229335937499991, 0.49555546874999989 )\n",
       "(a₁₀, b₁₀) = ( 0.49392441406249987, 0.49555546874999989 )\n",
       "\n"
      ]
     },
     "metadata": {},
     "output_type": "display_data"
    },
    {
     "name": "stderr",
     "output_type": "stream",
     "text": [
      "\u001b[36m\u001b[1m[ \u001b[22m\u001b[39m\u001b[36m\u001b[1mInfo: \u001b[22m\u001b[39mTargeting ϕ=0.4955554687499999\n",
      "\u001b[32mProgress: 100%|█████████████████████████████████████████| Time: 0:03:13\u001b[39m\n"
     ]
    },
    {
     "data": {
      "text/plain": [
       "Results of univariate zero finding:\n",
       "\n",
       "* Converged to: 0.8633891677856443\n",
       "* Algorithm: Bisection()\n",
       "* iterations: 10\n",
       "* function evaluations ≈ 13\n",
       "\n",
       "Trace:\n",
       "(a₀, b₀) = ( 0.74565546874999988, 1 )\n",
       "(a₁, b₁) = ( 0.74565546874999988, 0.87282773437499994 )\n",
       "(a₂, b₂) = ( 0.80924160156249991, 0.87282773437499994 )\n",
       "(a₃, b₃) = ( 0.84103466796874993, 0.87282773437499994 )\n",
       "(a₄, b₄) = ( 0.85693120117187493, 0.87282773437499994 )\n",
       "(a₅, b₅) = ( 0.85693120117187493, 0.86487946777343738 )\n",
       "(a₆, b₆) = ( 0.86090533447265616, 0.86487946777343738 )\n",
       "(a₇, b₇) = ( 0.86289240112304677, 0.86487946777343738 )\n",
       "(a₈, b₈) = ( 0.86289240112304677, 0.86388593444824202 )\n",
       "(a₉, b₉) = ( 0.86338916778564434, 0.86388593444824202 )\n",
       "(a₁₀, b₁₀) = ( 0.86338916778564434, 0.86363755111694318 )\n",
       "\n"
      ]
     },
     "metadata": {},
     "output_type": "display_data"
    },
    {
     "name": "stderr",
     "output_type": "stream",
     "text": [
      "\u001b[36m\u001b[1m[ \u001b[22m\u001b[39m\u001b[36m\u001b[1mInfo: \u001b[22m\u001b[39mTargeting ϕ=0.8633891677856443\n",
      "\u001b[32mProgress: 100%|█████████████████████████████████████████| Time: 0:03:16\u001b[39m\n",
      "\u001b[36m\u001b[1m[ \u001b[22m\u001b[39m\u001b[36m\u001b[1mInfo: \u001b[22m\u001b[39mϕ=1, PSIS\n",
      "\u001b[36m\u001b[1m[ \u001b[22m\u001b[39m\u001b[36m\u001b[1mInfo: \u001b[22m\u001b[39mLeaving g=32 out\n",
      "\u001b[36m\u001b[1m[ \u001b[22m\u001b[39m\u001b[36m\u001b[1mInfo: \u001b[22m\u001b[39mϕ=1, PSIS\n",
      "\u001b[36m\u001b[1m[ \u001b[22m\u001b[39m\u001b[36m\u001b[1mInfo: \u001b[22m\u001b[39mLeaving g=33 out\n"
     ]
    },
    {
     "data": {
      "text/plain": [
       "Results of univariate zero finding:\n",
       "\n",
       "* Converged to: 0.8075355468749998\n",
       "* Algorithm: Bisection()\n",
       "* iterations: 10\n",
       "* function evaluations ≈ 13\n",
       "\n",
       "Trace:\n",
       "(a₀, b₀) = ( 0.010306249999999999, 1 )\n",
       "(a₁, b₁) = ( 0.103725, 1 )\n",
       "(a₂, b₂) = ( 0.33244999999999997, 1 )\n",
       "(a₃, b₃) = ( 0.58244999999999991, 1 )\n",
       "(a₄, b₄) = ( 0.79122499999999996, 1 )\n",
       "(a₅, b₅) = ( 0.79122499999999996, 0.89561249999999992 )\n",
       "(a₆, b₆) = ( 0.79122499999999996, 0.84341874999999988 )\n",
       "(a₇, b₇) = ( 0.79122499999999996, 0.81732187499999986 )\n",
       "(a₈, b₈) = ( 0.80427343749999991, 0.81732187499999986 )\n",
       "(a₉, b₉) = ( 0.80427343749999991, 0.81079765624999989 )\n",
       "(a₁₀, b₁₀) = ( 0.80753554687499984, 0.81079765624999989 )\n",
       "\n"
      ]
     },
     "metadata": {},
     "output_type": "display_data"
    },
    {
     "name": "stderr",
     "output_type": "stream",
     "text": [
      "\u001b[36m\u001b[1m[ \u001b[22m\u001b[39m\u001b[36m\u001b[1mInfo: \u001b[22m\u001b[39mTargeting ϕ=0.8075355468749998\n",
      "\u001b[32mProgress: 100%|█████████████████████████████████████████| Time: 0:03:16\u001b[39m\n",
      "\u001b[36m\u001b[1m[ \u001b[22m\u001b[39m\u001b[36m\u001b[1mInfo: \u001b[22m\u001b[39mϕ=1, PSIS\n",
      "\u001b[36m\u001b[1m[ \u001b[22m\u001b[39m\u001b[36m\u001b[1mInfo: \u001b[22m\u001b[39mLeaving g=34 out\n",
      "\u001b[36m\u001b[1m[ \u001b[22m\u001b[39m\u001b[36m\u001b[1mInfo: \u001b[22m\u001b[39mϕ=1, PSIS\n",
      "\u001b[36m\u001b[1m[ \u001b[22m\u001b[39m\u001b[36m\u001b[1mInfo: \u001b[22m\u001b[39mLeaving g=35 out\n",
      "\u001b[36m\u001b[1m[ \u001b[22m\u001b[39m\u001b[36m\u001b[1mInfo: \u001b[22m\u001b[39mϕ=1, PSIS\n",
      "\u001b[36m\u001b[1m[ \u001b[22m\u001b[39m\u001b[36m\u001b[1mInfo: \u001b[22m\u001b[39mLeaving g=36 out\n"
     ]
    },
    {
     "data": {
      "text/plain": [
       "Results of univariate zero finding:\n",
       "\n",
       "* Converged to: 0.6248574218749997\n",
       "* Algorithm: Bisection()\n",
       "* iterations: 10\n",
       "* function evaluations ≈ 13\n",
       "\n",
       "Trace:\n",
       "(a₀, b₀) = ( 0.010306249999999999, 1 )\n",
       "(a₁, b₁) = ( 0.103725, 1 )\n",
       "(a₂, b₂) = ( 0.33244999999999997, 1 )\n",
       "(a₃, b₃) = ( 0.58244999999999991, 1 )\n",
       "(a₄, b₄) = ( 0.58244999999999991, 0.79122499999999996 )\n",
       "(a₅, b₅) = ( 0.58244999999999991, 0.68683749999999988 )\n",
       "(a₆, b₆) = ( 0.58244999999999991, 0.63464374999999984 )\n",
       "(a₇, b₇) = ( 0.60854687499999982, 0.63464374999999984 )\n",
       "(a₈, b₈) = ( 0.62159531249999977, 0.63464374999999984 )\n",
       "(a₉, b₉) = ( 0.62159531249999977, 0.62811953124999975 )\n",
       "(a₁₀, b₁₀) = ( 0.62159531249999977, 0.62485742187499971 )\n",
       "\n"
      ]
     },
     "metadata": {},
     "output_type": "display_data"
    },
    {
     "name": "stderr",
     "output_type": "stream",
     "text": [
      "\u001b[36m\u001b[1m[ \u001b[22m\u001b[39m\u001b[36m\u001b[1mInfo: \u001b[22m\u001b[39mTargeting ϕ=0.6248574218749997\n",
      "\u001b[32mProgress: 100%|█████████████████████████████████████████| Time: 0:03:15\u001b[39m\n",
      "\u001b[36m\u001b[1m[ \u001b[22m\u001b[39m\u001b[36m\u001b[1mInfo: \u001b[22m\u001b[39mϕ=1, PSIS\n",
      "\u001b[36m\u001b[1m[ \u001b[22m\u001b[39m\u001b[36m\u001b[1mInfo: \u001b[22m\u001b[39mLeaving g=37 out\n",
      "\u001b[36m\u001b[1m[ \u001b[22m\u001b[39m\u001b[36m\u001b[1mInfo: \u001b[22m\u001b[39mϕ=1, PSIS\n",
      "\u001b[36m\u001b[1m[ \u001b[22m\u001b[39m\u001b[36m\u001b[1mInfo: \u001b[22m\u001b[39mLeaving g=38 out\n",
      "\u001b[36m\u001b[1m[ \u001b[22m\u001b[39m\u001b[36m\u001b[1mInfo: \u001b[22m\u001b[39mϕ=1, PSIS\n",
      "\u001b[36m\u001b[1m[ \u001b[22m\u001b[39m\u001b[36m\u001b[1mInfo: \u001b[22m\u001b[39mLeaving g=39 out\n"
     ]
    },
    {
     "data": {
      "text/plain": [
       "Results of univariate zero finding:\n",
       "\n",
       "* Converged to: 0.6607406249999999\n",
       "* Algorithm: Bisection()\n",
       "* iterations: 10\n",
       "* function evaluations ≈ 13\n",
       "\n",
       "Trace:\n",
       "(a₀, b₀) = ( 0.010306249999999999, 1 )\n",
       "(a₁, b₁) = ( 0.103725, 1 )\n",
       "(a₂, b₂) = ( 0.33244999999999997, 1 )\n",
       "(a₃, b₃) = ( 0.58244999999999991, 1 )\n",
       "(a₄, b₄) = ( 0.58244999999999991, 0.79122499999999996 )\n",
       "(a₅, b₅) = ( 0.58244999999999991, 0.68683749999999988 )\n",
       "(a₆, b₆) = ( 0.63464374999999984, 0.68683749999999988 )\n",
       "(a₇, b₇) = ( 0.63464374999999984, 0.66074062499999986 )\n",
       "(a₈, b₈) = ( 0.64769218749999979, 0.66074062499999986 )\n",
       "(a₉, b₉) = ( 0.65421640624999977, 0.66074062499999986 )\n",
       "(a₁₀, b₁₀) = ( 0.65747851562499982, 0.66074062499999986 )\n",
       "\n"
      ]
     },
     "metadata": {},
     "output_type": "display_data"
    },
    {
     "name": "stderr",
     "output_type": "stream",
     "text": [
      "\u001b[36m\u001b[1m[ \u001b[22m\u001b[39m\u001b[36m\u001b[1mInfo: \u001b[22m\u001b[39mTargeting ϕ=0.6607406249999999\n",
      "\u001b[32mProgress: 100%|█████████████████████████████████████████| Time: 0:03:16\u001b[39m\n",
      "\u001b[36m\u001b[1m[ \u001b[22m\u001b[39m\u001b[36m\u001b[1mInfo: \u001b[22m\u001b[39mϕ=1, PSIS\n",
      "\u001b[36m\u001b[1m[ \u001b[22m\u001b[39m\u001b[36m\u001b[1mInfo: \u001b[22m\u001b[39mLeaving g=40 out\n"
     ]
    },
    {
     "data": {
      "text/plain": [
       "Results of univariate zero finding:\n",
       "\n",
       "* Converged to: 0.7814386718749998\n",
       "* Algorithm: Bisection()\n",
       "* iterations: 10\n",
       "* function evaluations ≈ 13\n",
       "\n",
       "Trace:\n",
       "(a₀, b₀) = ( 0.010306249999999999, 1 )\n",
       "(a₁, b₁) = ( 0.103725, 1 )\n",
       "(a₂, b₂) = ( 0.33244999999999997, 1 )\n",
       "(a₃, b₃) = ( 0.58244999999999991, 1 )\n",
       "(a₄, b₄) = ( 0.58244999999999991, 0.79122499999999996 )\n",
       "(a₅, b₅) = ( 0.68683749999999988, 0.79122499999999996 )\n",
       "(a₆, b₆) = ( 0.73903124999999992, 0.79122499999999996 )\n",
       "(a₇, b₇) = ( 0.76512812499999994, 0.79122499999999996 )\n",
       "(a₈, b₈) = ( 0.77817656249999989, 0.79122499999999996 )\n",
       "(a₉, b₉) = ( 0.77817656249999989, 0.78470078124999987 )\n",
       "(a₁₀, b₁₀) = ( 0.77817656249999989, 0.78143867187499982 )\n",
       "\n"
      ]
     },
     "metadata": {},
     "output_type": "display_data"
    },
    {
     "name": "stderr",
     "output_type": "stream",
     "text": [
      "\u001b[36m\u001b[1m[ \u001b[22m\u001b[39m\u001b[36m\u001b[1mInfo: \u001b[22m\u001b[39mTargeting ϕ=0.7814386718749998\n",
      "\u001b[32mProgress: 100%|█████████████████████████████████████████| Time: 0:03:08\u001b[39m\n",
      "\u001b[36m\u001b[1m[ \u001b[22m\u001b[39m\u001b[36m\u001b[1mInfo: \u001b[22m\u001b[39mϕ=1, PSIS\n",
      "\u001b[36m\u001b[1m[ \u001b[22m\u001b[39m\u001b[36m\u001b[1mInfo: \u001b[22m\u001b[39mLeaving g=41 out\n"
     ]
    },
    {
     "data": {
      "text/plain": [
       "Results of univariate zero finding:\n",
       "\n",
       "* Converged to: 0.6150710937499998\n",
       "* Algorithm: Bisection()\n",
       "* iterations: 10\n",
       "* function evaluations ≈ 13\n",
       "\n",
       "Trace:\n",
       "(a₀, b₀) = ( 0.010306249999999999, 1 )\n",
       "(a₁, b₁) = ( 0.103725, 1 )\n",
       "(a₂, b₂) = ( 0.33244999999999997, 1 )\n",
       "(a₃, b₃) = ( 0.58244999999999991, 1 )\n",
       "(a₄, b₄) = ( 0.58244999999999991, 0.79122499999999996 )\n",
       "(a₅, b₅) = ( 0.58244999999999991, 0.68683749999999988 )\n",
       "(a₆, b₆) = ( 0.58244999999999991, 0.63464374999999984 )\n",
       "(a₇, b₇) = ( 0.60854687499999982, 0.63464374999999984 )\n",
       "(a₈, b₈) = ( 0.60854687499999982, 0.62159531249999977 )\n",
       "(a₉, b₉) = ( 0.6150710937499998, 0.62159531249999977 )\n",
       "(a₁₀, b₁₀) = ( 0.6150710937499998, 0.61833320312499973 )\n",
       "\n"
      ]
     },
     "metadata": {},
     "output_type": "display_data"
    },
    {
     "name": "stderr",
     "output_type": "stream",
     "text": [
      "\u001b[36m\u001b[1m[ \u001b[22m\u001b[39m\u001b[36m\u001b[1mInfo: \u001b[22m\u001b[39mTargeting ϕ=0.6150710937499998\n",
      "\u001b[32mProgress: 100%|█████████████████████████████████████████| Time: 0:03:15\u001b[39m\n",
      "\u001b[36m\u001b[1m[ \u001b[22m\u001b[39m\u001b[36m\u001b[1mInfo: \u001b[22m\u001b[39mϕ=1, PSIS\n",
      "\u001b[36m\u001b[1m[ \u001b[22m\u001b[39m\u001b[36m\u001b[1mInfo: \u001b[22m\u001b[39mLeaving g=42 out\n",
      "\u001b[36m\u001b[1m[ \u001b[22m\u001b[39m\u001b[36m\u001b[1mInfo: \u001b[22m\u001b[39mϕ=1, PSIS\n",
      "\u001b[36m\u001b[1m[ \u001b[22m\u001b[39m\u001b[36m\u001b[1mInfo: \u001b[22m\u001b[39mLeaving g=43 out\n",
      "\u001b[36m\u001b[1m[ \u001b[22m\u001b[39m\u001b[36m\u001b[1mInfo: \u001b[22m\u001b[39mϕ=1, PSIS\n",
      "\u001b[36m\u001b[1m[ \u001b[22m\u001b[39m\u001b[36m\u001b[1mInfo: \u001b[22m\u001b[39mLeaving g=44 out\n",
      "\u001b[36m\u001b[1m[ \u001b[22m\u001b[39m\u001b[36m\u001b[1mInfo: \u001b[22m\u001b[39mϕ=1, PSIS\n",
      "\u001b[36m\u001b[1m[ \u001b[22m\u001b[39m\u001b[36m\u001b[1mInfo: \u001b[22m\u001b[39mLeaving g=45 out\n",
      "\u001b[36m\u001b[1m[ \u001b[22m\u001b[39m\u001b[36m\u001b[1mInfo: \u001b[22m\u001b[39mϕ=1, PSIS\n",
      "\u001b[36m\u001b[1m[ \u001b[22m\u001b[39m\u001b[36m\u001b[1mInfo: \u001b[22m\u001b[39mLeaving g=46 out\n",
      "\u001b[36m\u001b[1m[ \u001b[22m\u001b[39m\u001b[36m\u001b[1mInfo: \u001b[22m\u001b[39mϕ=1, PSIS\n",
      "\u001b[36m\u001b[1m[ \u001b[22m\u001b[39m\u001b[36m\u001b[1mInfo: \u001b[22m\u001b[39mLeaving g=47 out\n"
     ]
    },
    {
     "data": {
      "text/plain": [
       "Results of univariate zero finding:\n",
       "\n",
       "* Converged to: 0.4661964843749999\n",
       "* Algorithm: Bisection()\n",
       "* iterations: 10\n",
       "* function evaluations ≈ 13\n",
       "\n",
       "Trace:\n",
       "(a₀, b₀) = ( 0.010306249999999999, 1 )\n",
       "(a₁, b₁) = ( 0.103725, 1 )\n",
       "(a₂, b₂) = ( 0.33244999999999997, 1 )\n",
       "(a₃, b₃) = ( 0.33244999999999997, 0.58244999999999991 )\n",
       "(a₄, b₄) = ( 0.43683749999999993, 0.58244999999999991 )\n",
       "(a₅, b₅) = ( 0.43683749999999993, 0.48903124999999992 )\n",
       "(a₆, b₆) = ( 0.4629343749999999, 0.48903124999999992 )\n",
       "(a₇, b₇) = ( 0.4629343749999999, 0.47598281249999991 )\n",
       "(a₈, b₈) = ( 0.4629343749999999, 0.46945859374999988 )\n",
       "(a₉, b₉) = ( 0.4629343749999999, 0.46619648437499989 )\n",
       "(a₁₀, b₁₀) = ( 0.46456542968749986, 0.46619648437499989 )\n",
       "\n"
      ]
     },
     "metadata": {},
     "output_type": "display_data"
    },
    {
     "name": "stderr",
     "output_type": "stream",
     "text": [
      "\u001b[36m\u001b[1m[ \u001b[22m\u001b[39m\u001b[36m\u001b[1mInfo: \u001b[22m\u001b[39mTargeting ϕ=0.4661964843749999\n",
      "\u001b[32mProgress: 100%|█████████████████████████████████████████| Time: 0:03:14\u001b[39m\n"
     ]
    },
    {
     "data": {
      "text/plain": [
       "Results of univariate zero finding:\n",
       "\n",
       "* Converged to: 0.8418020435333249\n",
       "* Algorithm: Bisection()\n",
       "* iterations: 10\n",
       "* function evaluations ≈ 13\n",
       "\n",
       "Trace:\n",
       "(a₀, b₀) = ( 0.71629648437499982, 1 )\n",
       "(a₁, b₁) = ( 0.71629648437499982, 0.85814824218749985 )\n",
       "(a₂, b₂) = ( 0.78722236328124984, 0.85814824218749985 )\n",
       "(a₃, b₃) = ( 0.82268530273437479, 0.85814824218749985 )\n",
       "(a₄, b₄) = ( 0.84041677246093727, 0.85814824218749985 )\n",
       "(a₅, b₅) = ( 0.84041677246093727, 0.84928250732421851 )\n",
       "(a₆, b₆) = ( 0.84041677246093727, 0.84484963989257789 )\n",
       "(a₇, b₇) = ( 0.84041677246093727, 0.84263320617675752 )\n",
       "(a₈, b₈) = ( 0.84152498931884734, 0.84263320617675752 )\n",
       "(a₉, b₉) = ( 0.84152498931884734, 0.84207909774780243 )\n",
       "(a₁₀, b₁₀) = ( 0.84152498931884734, 0.84180204353332488 )\n",
       "\n"
      ]
     },
     "metadata": {},
     "output_type": "display_data"
    },
    {
     "name": "stderr",
     "output_type": "stream",
     "text": [
      "\u001b[36m\u001b[1m[ \u001b[22m\u001b[39m\u001b[36m\u001b[1mInfo: \u001b[22m\u001b[39mTargeting ϕ=0.8418020435333249\n",
      "\u001b[32mProgress: 100%|█████████████████████████████████████████| Time: 0:03:13\u001b[39m\n",
      "\u001b[36m\u001b[1m[ \u001b[22m\u001b[39m\u001b[36m\u001b[1mInfo: \u001b[22m\u001b[39mϕ=1, PSIS\n",
      "\u001b[36m\u001b[1m[ \u001b[22m\u001b[39m\u001b[36m\u001b[1mInfo: \u001b[22m\u001b[39mLeaving g=48 out\n",
      "\u001b[36m\u001b[1m[ \u001b[22m\u001b[39m\u001b[36m\u001b[1mInfo: \u001b[22m\u001b[39mϕ=1, PSIS\n",
      "\u001b[36m\u001b[1m[ \u001b[22m\u001b[39m\u001b[36m\u001b[1mInfo: \u001b[22m\u001b[39mLeaving g=49 out\n"
     ]
    },
    {
     "data": {
      "text/plain": [
       "Results of univariate zero finding:\n",
       "\n",
       "* Converged to: 0.9249714843749999\n",
       "* Algorithm: Bisection()\n",
       "* iterations: 10\n",
       "* function evaluations ≈ 13\n",
       "\n",
       "Trace:\n",
       "(a₀, b₀) = ( 0.010306249999999999, 1 )\n",
       "(a₁, b₁) = ( 0.103725, 1 )\n",
       "(a₂, b₂) = ( 0.33244999999999997, 1 )\n",
       "(a₃, b₃) = ( 0.58244999999999991, 1 )\n",
       "(a₄, b₄) = ( 0.79122499999999996, 1 )\n",
       "(a₅, b₅) = ( 0.89561249999999992, 1 )\n",
       "(a₆, b₆) = ( 0.89561249999999992, 0.94780624999999996 )\n",
       "(a₇, b₇) = ( 0.92170937499999994, 0.94780624999999996 )\n",
       "(a₈, b₈) = ( 0.92170937499999994, 0.9347578124999999 )\n",
       "(a₉, b₉) = ( 0.92170937499999994, 0.92823359374999992 )\n",
       "(a₁₀, b₁₀) = ( 0.92170937499999994, 0.92497148437499987 )\n",
       "\n"
      ]
     },
     "metadata": {},
     "output_type": "display_data"
    },
    {
     "name": "stderr",
     "output_type": "stream",
     "text": [
      "\u001b[36m\u001b[1m[ \u001b[22m\u001b[39m\u001b[36m\u001b[1mInfo: \u001b[22m\u001b[39mTargeting ϕ=0.9249714843749999\n",
      "\u001b[32mProgress: 100%|█████████████████████████████████████████| Time: 0:03:12\u001b[39m\n",
      "\u001b[36m\u001b[1m[ \u001b[22m\u001b[39m\u001b[36m\u001b[1mInfo: \u001b[22m\u001b[39mϕ=1, PSIS\n",
      "\u001b[36m\u001b[1m[ \u001b[22m\u001b[39m\u001b[36m\u001b[1mInfo: \u001b[22m\u001b[39mLeaving g=50 out\n"
     ]
    },
    {
     "data": {
      "text/plain": [
       "Results of univariate zero finding:\n",
       "\n",
       "* Converged to: 0.6770511718749997\n",
       "* Algorithm: Bisection()\n",
       "* iterations: 10\n",
       "* function evaluations ≈ 13\n",
       "\n",
       "Trace:\n",
       "(a₀, b₀) = ( 0.010306249999999999, 1 )\n",
       "(a₁, b₁) = ( 0.103725, 1 )\n",
       "(a₂, b₂) = ( 0.33244999999999997, 1 )\n",
       "(a₃, b₃) = ( 0.58244999999999991, 1 )\n",
       "(a₄, b₄) = ( 0.58244999999999991, 0.79122499999999996 )\n",
       "(a₅, b₅) = ( 0.58244999999999991, 0.68683749999999988 )\n",
       "(a₆, b₆) = ( 0.63464374999999984, 0.68683749999999988 )\n",
       "(a₇, b₇) = ( 0.66074062499999986, 0.68683749999999988 )\n",
       "(a₈, b₈) = ( 0.67378906249999981, 0.68683749999999988 )\n",
       "(a₉, b₉) = ( 0.67378906249999981, 0.68031328124999979 )\n",
       "(a₁₀, b₁₀) = ( 0.67705117187499975, 0.68031328124999979 )\n",
       "\n"
      ]
     },
     "metadata": {},
     "output_type": "display_data"
    },
    {
     "name": "stderr",
     "output_type": "stream",
     "text": [
      "\u001b[36m\u001b[1m[ \u001b[22m\u001b[39m\u001b[36m\u001b[1mInfo: \u001b[22m\u001b[39mTargeting ϕ=0.6770511718749997\n",
      "\u001b[32mProgress: 100%|█████████████████████████████████████████| Time: 0:03:17\u001b[39m\n",
      "\u001b[36m\u001b[1m[ \u001b[22m\u001b[39m\u001b[36m\u001b[1mInfo: \u001b[22m\u001b[39mϕ=1, PSIS\n",
      "\u001b[36m\u001b[1m[ \u001b[22m\u001b[39m\u001b[36m\u001b[1mInfo: \u001b[22m\u001b[39mLeaving g=51 out\n"
     ]
    },
    {
     "data": {
      "text/plain": [
       "Results of univariate zero finding:\n",
       "\n",
       "* Converged to: 0.9184472656249999\n",
       "* Algorithm: Bisection()\n",
       "* iterations: 10\n",
       "* function evaluations ≈ 13\n",
       "\n",
       "Trace:\n",
       "(a₀, b₀) = ( 0.010306249999999999, 1 )\n",
       "(a₁, b₁) = ( 0.103725, 1 )\n",
       "(a₂, b₂) = ( 0.33244999999999997, 1 )\n",
       "(a₃, b₃) = ( 0.58244999999999991, 1 )\n",
       "(a₄, b₄) = ( 0.79122499999999996, 1 )\n",
       "(a₅, b₅) = ( 0.89561249999999992, 1 )\n",
       "(a₆, b₆) = ( 0.89561249999999992, 0.94780624999999996 )\n",
       "(a₇, b₇) = ( 0.89561249999999992, 0.92170937499999994 )\n",
       "(a₈, b₈) = ( 0.90866093749999988, 0.92170937499999994 )\n",
       "(a₉, b₉) = ( 0.91518515624999985, 0.92170937499999994 )\n",
       "(a₁₀, b₁₀) = ( 0.91518515624999985, 0.9184472656249999 )\n",
       "\n"
      ]
     },
     "metadata": {},
     "output_type": "display_data"
    },
    {
     "name": "stderr",
     "output_type": "stream",
     "text": [
      "\u001b[36m\u001b[1m[ \u001b[22m\u001b[39m\u001b[36m\u001b[1mInfo: \u001b[22m\u001b[39mTargeting ϕ=0.9184472656249999\n",
      "\u001b[32mProgress: 100%|█████████████████████████████████████████| Time: 0:03:12\u001b[39m\n",
      "\u001b[36m\u001b[1m[ \u001b[22m\u001b[39m\u001b[36m\u001b[1mInfo: \u001b[22m\u001b[39mϕ=1, PSIS\n",
      "\u001b[36m\u001b[1m[ \u001b[22m\u001b[39m\u001b[36m\u001b[1mInfo: \u001b[22m\u001b[39mLeaving g=52 out\n"
     ]
    },
    {
     "data": {
      "text/plain": [
       "Results of univariate zero finding:\n",
       "\n",
       "* Converged to: 0.8890882812499998\n",
       "* Algorithm: Bisection()\n",
       "* iterations: 10\n",
       "* function evaluations ≈ 13\n",
       "\n",
       "Trace:\n",
       "(a₀, b₀) = ( 0.010306249999999999, 1 )\n",
       "(a₁, b₁) = ( 0.103725, 1 )\n",
       "(a₂, b₂) = ( 0.33244999999999997, 1 )\n",
       "(a₃, b₃) = ( 0.58244999999999991, 1 )\n",
       "(a₄, b₄) = ( 0.79122499999999996, 1 )\n",
       "(a₅, b₅) = ( 0.79122499999999996, 0.89561249999999992 )\n",
       "(a₆, b₆) = ( 0.84341874999999988, 0.89561249999999992 )\n",
       "(a₇, b₇) = ( 0.8695156249999999, 0.89561249999999992 )\n",
       "(a₈, b₈) = ( 0.88256406249999986, 0.89561249999999992 )\n",
       "(a₉, b₉) = ( 0.88256406249999986, 0.88908828124999983 )\n",
       "(a₁₀, b₁₀) = ( 0.88582617187499979, 0.88908828124999983 )\n",
       "\n"
      ]
     },
     "metadata": {},
     "output_type": "display_data"
    },
    {
     "name": "stderr",
     "output_type": "stream",
     "text": [
      "\u001b[36m\u001b[1m[ \u001b[22m\u001b[39m\u001b[36m\u001b[1mInfo: \u001b[22m\u001b[39mTargeting ϕ=0.8890882812499998\n",
      "\u001b[32mProgress: 100%|█████████████████████████████████████████| Time: 0:03:15\u001b[39m\n",
      "\u001b[36m\u001b[1m[ \u001b[22m\u001b[39m\u001b[36m\u001b[1mInfo: \u001b[22m\u001b[39mϕ=1, PSIS\n",
      "\u001b[36m\u001b[1m[ \u001b[22m\u001b[39m\u001b[36m\u001b[1mInfo: \u001b[22m\u001b[39mLeaving g=53 out\n",
      "\u001b[36m\u001b[1m[ \u001b[22m\u001b[39m\u001b[36m\u001b[1mInfo: \u001b[22m\u001b[39mϕ=1, PSIS\n",
      "\u001b[36m\u001b[1m[ \u001b[22m\u001b[39m\u001b[36m\u001b[1mInfo: \u001b[22m\u001b[39mLeaving g=54 out\n",
      "\u001b[36m\u001b[1m[ \u001b[22m\u001b[39m\u001b[36m\u001b[1mInfo: \u001b[22m\u001b[39mϕ=1, PSIS\n",
      "\u001b[36m\u001b[1m[ \u001b[22m\u001b[39m\u001b[36m\u001b[1mInfo: \u001b[22m\u001b[39mLeaving g=55 out\n",
      "\u001b[36m\u001b[1m[ \u001b[22m\u001b[39m\u001b[36m\u001b[1mInfo: \u001b[22m\u001b[39mϕ=1, PSIS\n",
      "\u001b[36m\u001b[1m[ \u001b[22m\u001b[39m\u001b[36m\u001b[1mInfo: \u001b[22m\u001b[39mLeaving g=56 out\n",
      "\u001b[36m\u001b[1m[ \u001b[22m\u001b[39m\u001b[36m\u001b[1mInfo: \u001b[22m\u001b[39mϕ=1, PSIS\n",
      "\u001b[36m\u001b[1m[ \u001b[22m\u001b[39m\u001b[36m\u001b[1mInfo: \u001b[22m\u001b[39mLeaving g=57 out\n"
     ]
    },
    {
     "data": {
      "text/plain": [
       "Results of univariate zero finding:\n",
       "\n",
       "* Converged to: 0.5041593749999999\n",
       "* Algorithm: Bisection()\n",
       "* iterations: 10\n",
       "* function evaluations ≈ 13\n",
       "\n",
       "Trace:\n",
       "(a₀, b₀) = ( 0.010306249999999999, 1 )\n",
       "(a₁, b₁) = ( 0.103725, 1 )\n",
       "(a₂, b₂) = ( 0.33244999999999997, 1 )\n",
       "(a₃, b₃) = ( 0.33244999999999997, 0.58244999999999991 )\n",
       "(a₄, b₄) = ( 0.43683749999999993, 0.58244999999999991 )\n",
       "(a₅, b₅) = ( 0.48903124999999992, 0.58244999999999991 )\n",
       "(a₆, b₆) = ( 0.48903124999999992, 0.53025624999999987 )\n",
       "(a₇, b₇) = ( 0.50415937499999985, 0.53025624999999987 )\n",
       "(a₈, b₈) = ( 0.50415937499999985, 0.51720781249999981 )\n",
       "(a₉, b₉) = ( 0.50415937499999985, 0.51068359374999983 )\n",
       "(a₁₀, b₁₀) = ( 0.50415937499999985, 0.50742148437499979 )\n",
       "\n"
      ]
     },
     "metadata": {},
     "output_type": "display_data"
    },
    {
     "name": "stderr",
     "output_type": "stream",
     "text": [
      "\u001b[36m\u001b[1m[ \u001b[22m\u001b[39m\u001b[36m\u001b[1mInfo: \u001b[22m\u001b[39mTargeting ϕ=0.5041593749999999\n",
      "\u001b[32mProgress: 100%|█████████████████████████████████████████| Time: 0:03:16\u001b[39m\n"
     ]
    },
    {
     "data": {
      "text/plain": [
       "Results of univariate zero finding:\n",
       "\n",
       "* Converged to: 0.9796668884277342\n",
       "* Algorithm: Bisection()\n",
       "* iterations: 10\n",
       "* function evaluations ≈ 13\n",
       "\n",
       "Trace:\n",
       "(a₀, b₀) = ( 0.75212968749999987, 1 )\n",
       "(a₁, b₁) = ( 0.87606484374999993, 1 )\n",
       "(a₂, b₂) = ( 0.93803242187499991, 1 )\n",
       "(a₃, b₃) = ( 0.9690162109374999, 1 )\n",
       "(a₄, b₄) = ( 0.9690162109374999, 0.98450810546874989 )\n",
       "(a₅, b₅) = ( 0.97676215820312484, 0.98450810546874989 )\n",
       "(a₆, b₆) = ( 0.97676215820312484, 0.98063513183593731 )\n",
       "(a₇, b₇) = ( 0.97869864501953108, 0.98063513183593731 )\n",
       "(a₈, b₈) = ( 0.97869864501953108, 0.97966688842773419 )\n",
       "(a₉, b₉) = ( 0.97918276672363258, 0.97966688842773419 )\n",
       "(a₁₀, b₁₀) = ( 0.97942482757568339, 0.97966688842773419 )\n",
       "\n"
      ]
     },
     "metadata": {},
     "output_type": "display_data"
    },
    {
     "name": "stderr",
     "output_type": "stream",
     "text": [
      "\u001b[36m\u001b[1m[ \u001b[22m\u001b[39m\u001b[36m\u001b[1mInfo: \u001b[22m\u001b[39mTargeting ϕ=0.9796668884277342\n",
      "\u001b[32mProgress: 100%|█████████████████████████████████████████| Time: 0:03:14\u001b[39m\n",
      "\u001b[36m\u001b[1m[ \u001b[22m\u001b[39m\u001b[36m\u001b[1mInfo: \u001b[22m\u001b[39mϕ=1, PSIS\n",
      "\u001b[36m\u001b[1m[ \u001b[22m\u001b[39m\u001b[36m\u001b[1mInfo: \u001b[22m\u001b[39mLeaving g=58 out\n"
     ]
    },
    {
     "data": {
      "text/plain": [
       "Results of univariate zero finding:\n",
       "\n",
       "* Converged to: 0.5824499999999999\n",
       "* Algorithm: Bisection()\n",
       "* iterations: 10\n",
       "* function evaluations ≈ 13\n",
       "\n",
       "Trace:\n",
       "(a₀, b₀) = ( 0.010306249999999999, 1 )\n",
       "(a₁, b₁) = ( 0.103725, 1 )\n",
       "(a₂, b₂) = ( 0.33244999999999997, 1 )\n",
       "(a₃, b₃) = ( 0.58244999999999991, 1 )\n",
       "(a₄, b₄) = ( 0.58244999999999991, 0.79122499999999996 )\n",
       "(a₅, b₅) = ( 0.58244999999999991, 0.68683749999999988 )\n",
       "(a₆, b₆) = ( 0.58244999999999991, 0.63464374999999984 )\n",
       "(a₇, b₇) = ( 0.58244999999999991, 0.60854687499999982 )\n",
       "(a₈, b₈) = ( 0.58244999999999991, 0.59549843749999987 )\n",
       "(a₉, b₉) = ( 0.58244999999999991, 0.58897421874999989 )\n",
       "(a₁₀, b₁₀) = ( 0.58244999999999991, 0.58571210937499985 )\n",
       "\n"
      ]
     },
     "metadata": {},
     "output_type": "display_data"
    },
    {
     "name": "stderr",
     "output_type": "stream",
     "text": [
      "\u001b[36m\u001b[1m[ \u001b[22m\u001b[39m\u001b[36m\u001b[1mInfo: \u001b[22m\u001b[39mTargeting ϕ=0.5824499999999999\n",
      "\u001b[32mProgress: 100%|█████████████████████████████████████████| Time: 0:03:15\u001b[39m\n"
     ]
    },
    {
     "data": {
      "text/plain": [
       "Results of univariate zero finding:\n",
       "\n",
       "* Converged to: 0.9563797363281248\n",
       "* Algorithm: Bisection()\n",
       "* iterations: 10\n",
       "* function evaluations ≈ 13\n",
       "\n",
       "Trace:\n",
       "(a₀, b₀) = ( 0.79127499999999995, 1 )\n",
       "(a₁, b₁) = ( 0.89563749999999998, 1 )\n",
       "(a₂, b₂) = ( 0.94781874999999993, 1 )\n",
       "(a₃, b₃) = ( 0.94781874999999993, 0.97390937499999997 )\n",
       "(a₄, b₄) = ( 0.94781874999999993, 0.96086406249999989 )\n",
       "(a₅, b₅) = ( 0.95434140624999986, 0.96086406249999989 )\n",
       "(a₆, b₆) = ( 0.95434140624999986, 0.95760273437499988 )\n",
       "(a₇, b₇) = ( 0.95597207031249987, 0.95760273437499988 )\n",
       "(a₈, b₈) = ( 0.95597207031249987, 0.95678740234374982 )\n",
       "(a₉, b₉) = ( 0.95597207031249987, 0.95637973632812479 )\n",
       "(a₁₀, b₁₀) = ( 0.95617590332031233, 0.95637973632812479 )\n",
       "\n"
      ]
     },
     "metadata": {},
     "output_type": "display_data"
    },
    {
     "name": "stderr",
     "output_type": "stream",
     "text": [
      "\u001b[36m\u001b[1m[ \u001b[22m\u001b[39m\u001b[36m\u001b[1mInfo: \u001b[22m\u001b[39mTargeting ϕ=0.9563797363281248\n",
      "\u001b[32mProgress: 100%|█████████████████████████████████████████| Time: 0:03:13\u001b[39m\n",
      "\u001b[36m\u001b[1m[ \u001b[22m\u001b[39m\u001b[36m\u001b[1mInfo: \u001b[22m\u001b[39mϕ=1, PSIS\n",
      "\u001b[36m\u001b[1m[ \u001b[22m\u001b[39m\u001b[36m\u001b[1mInfo: \u001b[22m\u001b[39mLeaving g=59 out\n"
     ]
    },
    {
     "data": {
      "text/plain": [
       "Results of univariate zero finding:\n",
       "\n",
       "* Converged to: 0.4759828124999999\n",
       "* Algorithm: Bisection()\n",
       "* iterations: 10\n",
       "* function evaluations ≈ 13\n",
       "\n",
       "Trace:\n",
       "(a₀, b₀) = ( 0.010306249999999999, 1 )\n",
       "(a₁, b₁) = ( 0.103725, 1 )\n",
       "(a₂, b₂) = ( 0.33244999999999997, 1 )\n",
       "(a₃, b₃) = ( 0.33244999999999997, 0.58244999999999991 )\n",
       "(a₄, b₄) = ( 0.43683749999999993, 0.58244999999999991 )\n",
       "(a₅, b₅) = ( 0.43683749999999993, 0.48903124999999992 )\n",
       "(a₆, b₆) = ( 0.4629343749999999, 0.48903124999999992 )\n",
       "(a₇, b₇) = ( 0.4629343749999999, 0.47598281249999991 )\n",
       "(a₈, b₈) = ( 0.46945859374999988, 0.47598281249999991 )\n",
       "(a₉, b₉) = ( 0.47272070312499986, 0.47598281249999991 )\n",
       "(a₁₀, b₁₀) = ( 0.47435175781249989, 0.47598281249999991 )\n",
       "\n"
      ]
     },
     "metadata": {},
     "output_type": "display_data"
    },
    {
     "name": "stderr",
     "output_type": "stream",
     "text": [
      "\u001b[36m\u001b[1m[ \u001b[22m\u001b[39m\u001b[36m\u001b[1mInfo: \u001b[22m\u001b[39mTargeting ϕ=0.4759828124999999\n",
      "\u001b[32mProgress: 100%|█████████████████████████████████████████| Time: 0:03:15\u001b[39m\n"
     ]
    },
    {
     "data": {
      "text/plain": [
       "Results of univariate zero finding:\n",
       "\n",
       "* Converged to: 0.8368266754150389\n",
       "* Algorithm: Bisection()\n",
       "* iterations: 10\n",
       "* function evaluations ≈ 13\n",
       "\n",
       "Trace:\n",
       "(a₀, b₀) = ( 0.72608281249999984, 1 )\n",
       "(a₁, b₁) = ( 0.72608281249999984, 0.86304140624999992 )\n",
       "(a₂, b₂) = ( 0.79456210937499983, 0.86304140624999992 )\n",
       "(a₃, b₃) = ( 0.82880175781249987, 0.86304140624999992 )\n",
       "(a₄, b₄) = ( 0.82880175781249987, 0.8459215820312499 )\n",
       "(a₅, b₅) = ( 0.82880175781249987, 0.83736166992187488 )\n",
       "(a₆, b₆) = ( 0.83308171386718732, 0.83736166992187488 )\n",
       "(a₇, b₇) = ( 0.8352216918945311, 0.83736166992187488 )\n",
       "(a₈, b₈) = ( 0.83629168090820294, 0.83736166992187488 )\n",
       "(a₉, b₉) = ( 0.83682667541503886, 0.83736166992187488 )\n",
       "(a₁₀, b₁₀) = ( 0.83682667541503886, 0.83709417266845687 )\n",
       "\n"
      ]
     },
     "metadata": {},
     "output_type": "display_data"
    },
    {
     "name": "stderr",
     "output_type": "stream",
     "text": [
      "\u001b[36m\u001b[1m[ \u001b[22m\u001b[39m\u001b[36m\u001b[1mInfo: \u001b[22m\u001b[39mTargeting ϕ=0.8368266754150389\n",
      "\u001b[32mProgress: 100%|█████████████████████████████████████████| Time: 0:03:13\u001b[39m\n",
      "\u001b[36m\u001b[1m[ \u001b[22m\u001b[39m\u001b[36m\u001b[1mInfo: \u001b[22m\u001b[39mϕ=1, PSIS\n",
      "\u001b[36m\u001b[1m[ \u001b[22m\u001b[39m\u001b[36m\u001b[1mInfo: \u001b[22m\u001b[39mLeaving g=60 out\n"
     ]
    },
    {
     "data": {
      "text/plain": [
       "Results of univariate zero finding:\n",
       "\n",
       "* Converged to: 0.8988746093749999\n",
       "* Algorithm: Bisection()\n",
       "* iterations: 10\n",
       "* function evaluations ≈ 13\n",
       "\n",
       "Trace:\n",
       "(a₀, b₀) = ( 0.010306249999999999, 1 )\n",
       "(a₁, b₁) = ( 0.103725, 1 )\n",
       "(a₂, b₂) = ( 0.33244999999999997, 1 )\n",
       "(a₃, b₃) = ( 0.58244999999999991, 1 )\n",
       "(a₄, b₄) = ( 0.79122499999999996, 1 )\n",
       "(a₅, b₅) = ( 0.89561249999999992, 1 )\n",
       "(a₆, b₆) = ( 0.89561249999999992, 0.94780624999999996 )\n",
       "(a₇, b₇) = ( 0.89561249999999992, 0.92170937499999994 )\n",
       "(a₈, b₈) = ( 0.89561249999999992, 0.90866093749999988 )\n",
       "(a₉, b₉) = ( 0.89561249999999992, 0.9021367187499999 )\n",
       "(a₁₀, b₁₀) = ( 0.89561249999999992, 0.89887460937499986 )\n",
       "\n"
      ]
     },
     "metadata": {},
     "output_type": "display_data"
    },
    {
     "name": "stderr",
     "output_type": "stream",
     "text": [
      "\u001b[36m\u001b[1m[ \u001b[22m\u001b[39m\u001b[36m\u001b[1mInfo: \u001b[22m\u001b[39mTargeting ϕ=0.8988746093749999\n",
      "\u001b[32mProgress: 100%|█████████████████████████████████████████| Time: 0:03:16\u001b[39m\n",
      "\u001b[36m\u001b[1m[ \u001b[22m\u001b[39m\u001b[36m\u001b[1mInfo: \u001b[22m\u001b[39mϕ=1, PSIS\n",
      "\u001b[36m\u001b[1m[ \u001b[22m\u001b[39m\u001b[36m\u001b[1mInfo: \u001b[22m\u001b[39mLeaving g=61 out\n"
     ]
    },
    {
     "data": {
      "text/plain": [
       "Results of univariate zero finding:\n",
       "\n",
       "* Converged to: 0.6346437499999998\n",
       "* Algorithm: Bisection()\n",
       "* iterations: 10\n",
       "* function evaluations ≈ 13\n",
       "\n",
       "Trace:\n",
       "(a₀, b₀) = ( 0.010306249999999999, 1 )\n",
       "(a₁, b₁) = ( 0.103725, 1 )\n",
       "(a₂, b₂) = ( 0.33244999999999997, 1 )\n",
       "(a₃, b₃) = ( 0.58244999999999991, 1 )\n",
       "(a₄, b₄) = ( 0.58244999999999991, 0.79122499999999996 )\n",
       "(a₅, b₅) = ( 0.58244999999999991, 0.68683749999999988 )\n",
       "(a₆, b₆) = ( 0.63464374999999984, 0.68683749999999988 )\n",
       "(a₇, b₇) = ( 0.63464374999999984, 0.66074062499999986 )\n",
       "(a₈, b₈) = ( 0.63464374999999984, 0.64769218749999979 )\n",
       "(a₉, b₉) = ( 0.63464374999999984, 0.64116796874999982 )\n",
       "(a₁₀, b₁₀) = ( 0.63464374999999984, 0.63790585937499977 )\n",
       "\n"
      ]
     },
     "metadata": {},
     "output_type": "display_data"
    },
    {
     "name": "stderr",
     "output_type": "stream",
     "text": [
      "\u001b[36m\u001b[1m[ \u001b[22m\u001b[39m\u001b[36m\u001b[1mInfo: \u001b[22m\u001b[39mTargeting ϕ=0.6346437499999998\n",
      "\u001b[32mProgress: 100%|█████████████████████████████████████████| Time: 0:03:15\u001b[39m\n"
     ]
    },
    {
     "data": {
      "text/plain": [
       "Results of univariate zero finding:\n",
       "\n",
       "* Converged to: 0.9297309753417967\n",
       "* Algorithm: Bisection()\n",
       "* iterations: 10\n",
       "* function evaluations ≈ 13\n",
       "\n",
       "Trace:\n",
       "(a₀, b₀) = ( 0.81737187499999986, 1 )\n",
       "(a₁, b₁) = ( 0.90868593749999993, 1 )\n",
       "(a₂, b₂) = ( 0.90868593749999993, 0.95434296874999991 )\n",
       "(a₃, b₃) = ( 0.90868593749999993, 0.93151445312499992 )\n",
       "(a₄, b₄) = ( 0.92010019531249987, 0.93151445312499992 )\n",
       "(a₅, b₅) = ( 0.92580732421874989, 0.93151445312499992 )\n",
       "(a₆, b₆) = ( 0.92866088867187491, 0.93151445312499992 )\n",
       "(a₇, b₇) = ( 0.92866088867187491, 0.93008767089843736 )\n",
       "(a₈, b₈) = ( 0.92937427978515608, 0.93008767089843736 )\n",
       "(a₉, b₉) = ( 0.92973097534179672, 0.93008767089843736 )\n",
       "(a₁₀, b₁₀) = ( 0.92973097534179672, 0.92990932312011698 )\n",
       "\n"
      ]
     },
     "metadata": {},
     "output_type": "display_data"
    },
    {
     "name": "stderr",
     "output_type": "stream",
     "text": [
      "\u001b[36m\u001b[1m[ \u001b[22m\u001b[39m\u001b[36m\u001b[1mInfo: \u001b[22m\u001b[39mTargeting ϕ=0.9297309753417967\n",
      "\u001b[32mProgress: 100%|█████████████████████████████████████████| Time: 0:03:14\u001b[39m\n"
     ]
    },
    {
     "data": {
      "text/plain": [
       "Results of univariate zero finding:\n",
       "\n",
       "* Converged to: 0.9934901783764362\n",
       "* Algorithm: Bisection()\n",
       "* iterations: 10\n",
       "* function evaluations ≈ 13\n",
       "\n",
       "Trace:\n",
       "(a₀, b₀) = ( 0.9649154876708983, 1 )\n",
       "(a₁, b₁) = ( 0.98245774383544915, 1 )\n",
       "(a₂, b₂) = ( 0.99122887191772457, 1 )\n",
       "(a₃, b₃) = ( 0.99122887191772457, 0.99561443595886223 )\n",
       "(a₄, b₄) = ( 0.9934216539382934, 0.99561443595886223 )\n",
       "(a₅, b₅) = ( 0.9934216539382934, 0.99451804494857776 )\n",
       "(a₆, b₆) = ( 0.9934216539382934, 0.99396984944343558 )\n",
       "(a₇, b₇) = ( 0.9934216539382934, 0.99369575169086444 )\n",
       "(a₈, b₈) = ( 0.9934216539382934, 0.99355870281457892 )\n",
       "(a₉, b₉) = ( 0.9934216539382934, 0.99349017837643616 )\n",
       "(a₁₀, b₁₀) = ( 0.99345591615736473, 0.99349017837643616 )\n",
       "\n"
      ]
     },
     "metadata": {},
     "output_type": "display_data"
    },
    {
     "name": "stderr",
     "output_type": "stream",
     "text": [
      "\u001b[36m\u001b[1m[ \u001b[22m\u001b[39m\u001b[36m\u001b[1mInfo: \u001b[22m\u001b[39mTargeting ϕ=0.9934901783764362\n",
      "\u001b[32mProgress: 100%|█████████████████████████████████████████| Time: 0:03:12\u001b[39m\n",
      "\u001b[36m\u001b[1m[ \u001b[22m\u001b[39m\u001b[36m\u001b[1mInfo: \u001b[22m\u001b[39mϕ=1, PSIS\n",
      "\u001b[36m\u001b[1m[ \u001b[22m\u001b[39m\u001b[36m\u001b[1mInfo: \u001b[22m\u001b[39mLeaving g=62 out\n"
     ]
    },
    {
     "data": {
      "text/plain": [
       "Results of univariate zero finding:\n",
       "\n",
       "* Converged to: 0.7553417968749998\n",
       "* Algorithm: Bisection()\n",
       "* iterations: 10\n",
       "* function evaluations ≈ 13\n",
       "\n",
       "Trace:\n",
       "(a₀, b₀) = ( 0.010306249999999999, 1 )\n",
       "(a₁, b₁) = ( 0.103725, 1 )\n",
       "(a₂, b₂) = ( 0.33244999999999997, 1 )\n",
       "(a₃, b₃) = ( 0.58244999999999991, 1 )\n",
       "(a₄, b₄) = ( 0.58244999999999991, 0.79122499999999996 )\n",
       "(a₅, b₅) = ( 0.68683749999999988, 0.79122499999999996 )\n",
       "(a₆, b₆) = ( 0.73903124999999992, 0.79122499999999996 )\n",
       "(a₇, b₇) = ( 0.73903124999999992, 0.76512812499999994 )\n",
       "(a₈, b₈) = ( 0.75207968749999987, 0.76512812499999994 )\n",
       "(a₉, b₉) = ( 0.75207968749999987, 0.75860390624999985 )\n",
       "(a₁₀, b₁₀) = ( 0.7553417968749998, 0.75860390624999985 )\n",
       "\n"
      ]
     },
     "metadata": {},
     "output_type": "display_data"
    },
    {
     "name": "stderr",
     "output_type": "stream",
     "text": [
      "\u001b[36m\u001b[1m[ \u001b[22m\u001b[39m\u001b[36m\u001b[1mInfo: \u001b[22m\u001b[39mTargeting ϕ=0.7553417968749998\n",
      "\u001b[32mProgress: 100%|█████████████████████████████████████████| Time: 0:03:09\u001b[39m\n",
      "\u001b[36m\u001b[1m[ \u001b[22m\u001b[39m\u001b[36m\u001b[1mInfo: \u001b[22m\u001b[39mϕ=1, PSIS\n",
      "\u001b[36m\u001b[1m[ \u001b[22m\u001b[39m\u001b[36m\u001b[1mInfo: \u001b[22m\u001b[39mLeaving g=63 out\n"
     ]
    },
    {
     "data": {
      "text/plain": [
       "Results of univariate zero finding:\n",
       "\n",
       "* Converged to: 0.4270511718749999\n",
       "* Algorithm: Bisection()\n",
       "* iterations: 10\n",
       "* function evaluations ≈ 13\n",
       "\n",
       "Trace:\n",
       "(a₀, b₀) = ( 0.010306249999999999, 1 )\n",
       "(a₁, b₁) = ( 0.103725, 1 )\n",
       "(a₂, b₂) = ( 0.33244999999999997, 1 )\n",
       "(a₃, b₃) = ( 0.33244999999999997, 0.58244999999999991 )\n",
       "(a₄, b₄) = ( 0.33244999999999997, 0.43683749999999993 )\n",
       "(a₅, b₅) = ( 0.38464374999999995, 0.43683749999999993 )\n",
       "(a₆, b₆) = ( 0.41074062499999991, 0.43683749999999993 )\n",
       "(a₇, b₇) = ( 0.42378906249999992, 0.43683749999999993 )\n",
       "(a₈, b₈) = ( 0.42378906249999992, 0.4303132812499999 )\n",
       "(a₉, b₉) = ( 0.42705117187499991, 0.4303132812499999 )\n",
       "(a₁₀, b₁₀) = ( 0.42705117187499991, 0.42868222656249988 )\n",
       "\n"
      ]
     },
     "metadata": {},
     "output_type": "display_data"
    },
    {
     "name": "stderr",
     "output_type": "stream",
     "text": [
      "\u001b[36m\u001b[1m[ \u001b[22m\u001b[39m\u001b[36m\u001b[1mInfo: \u001b[22m\u001b[39mTargeting ϕ=0.4270511718749999\n",
      "\u001b[32mProgress: 100%|█████████████████████████████████████████| Time: 0:03:17\u001b[39m\n"
     ]
    },
    {
     "data": {
      "text/plain": [
       "Results of univariate zero finding:\n",
       "\n",
       "* Converged to: 0.9214947673797605\n",
       "* Algorithm: Bisection()\n",
       "* iterations: 10\n",
       "* function evaluations ≈ 13\n",
       "\n",
       "Trace:\n",
       "(a₀, b₀) = ( 0.67715117187499985, 1 )\n",
       "(a₁, b₁) = ( 0.83857558593749992, 1 )\n",
       "(a₂, b₂) = ( 0.91928779296874996, 1 )\n",
       "(a₃, b₃) = ( 0.91928779296874996, 0.95964389648437498 )\n",
       "(a₄, b₄) = ( 0.91928779296874996, 0.93946584472656247 )\n",
       "(a₅, b₅) = ( 0.91928779296874996, 0.92937681884765622 )\n",
       "(a₆, b₆) = ( 0.91928779296874996, 0.92433230590820303 )\n",
       "(a₇, b₇) = ( 0.91928779296874996, 0.92181004943847644 )\n",
       "(a₈, b₈) = ( 0.9205489212036132, 0.92181004943847644 )\n",
       "(a₉, b₉) = ( 0.92117948532104477, 0.92181004943847644 )\n",
       "(a₁₀, b₁₀) = ( 0.92117948532104477, 0.92149476737976055 )\n",
       "\n"
      ]
     },
     "metadata": {},
     "output_type": "display_data"
    },
    {
     "name": "stderr",
     "output_type": "stream",
     "text": [
      "\u001b[36m\u001b[1m[ \u001b[22m\u001b[39m\u001b[36m\u001b[1mInfo: \u001b[22m\u001b[39mTargeting ϕ=0.9214947673797605\n",
      "\u001b[32mProgress: 100%|█████████████████████████████████████████| Time: 0:03:08\u001b[39m\n",
      "\u001b[36m\u001b[1m[ \u001b[22m\u001b[39m\u001b[36m\u001b[1mInfo: \u001b[22m\u001b[39mϕ=1, PSIS\n",
      "\u001b[36m\u001b[1m[ \u001b[22m\u001b[39m\u001b[36m\u001b[1mInfo: \u001b[22m\u001b[39mLeaving g=64 out\n",
      "\u001b[36m\u001b[1m[ \u001b[22m\u001b[39m\u001b[36m\u001b[1mInfo: \u001b[22m\u001b[39mϕ=1, PSIS\n",
      "\u001b[36m\u001b[1m[ \u001b[22m\u001b[39m\u001b[36m\u001b[1mInfo: \u001b[22m\u001b[39mLeaving g=65 out\n"
     ]
    },
    {
     "data": {
      "text/plain": [
       "Results of univariate zero finding:\n",
       "\n",
       "* Converged to: 0.8042734374999999\n",
       "* Algorithm: Bisection()\n",
       "* iterations: 10\n",
       "* function evaluations ≈ 13\n",
       "\n",
       "Trace:\n",
       "(a₀, b₀) = ( 0.010306249999999999, 1 )\n",
       "(a₁, b₁) = ( 0.103725, 1 )\n",
       "(a₂, b₂) = ( 0.33244999999999997, 1 )\n",
       "(a₃, b₃) = ( 0.58244999999999991, 1 )\n",
       "(a₄, b₄) = ( 0.79122499999999996, 1 )\n",
       "(a₅, b₅) = ( 0.79122499999999996, 0.89561249999999992 )\n",
       "(a₆, b₆) = ( 0.79122499999999996, 0.84341874999999988 )\n",
       "(a₇, b₇) = ( 0.79122499999999996, 0.81732187499999986 )\n",
       "(a₈, b₈) = ( 0.80427343749999991, 0.81732187499999986 )\n",
       "(a₉, b₉) = ( 0.80427343749999991, 0.81079765624999989 )\n",
       "(a₁₀, b₁₀) = ( 0.80427343749999991, 0.80753554687499984 )\n",
       "\n"
      ]
     },
     "metadata": {},
     "output_type": "display_data"
    },
    {
     "name": "stderr",
     "output_type": "stream",
     "text": [
      "\u001b[36m\u001b[1m[ \u001b[22m\u001b[39m\u001b[36m\u001b[1mInfo: \u001b[22m\u001b[39mTargeting ϕ=0.8042734374999999\n",
      "\u001b[32mProgress: 100%|█████████████████████████████████████████| Time: 0:03:15\u001b[39m\n",
      "\u001b[36m\u001b[1m[ \u001b[22m\u001b[39m\u001b[36m\u001b[1mInfo: \u001b[22m\u001b[39mϕ=1, PSIS\n",
      "\u001b[36m\u001b[1m[ \u001b[22m\u001b[39m\u001b[36m\u001b[1mInfo: \u001b[22m\u001b[39mLeaving g=66 out\n",
      "\u001b[36m\u001b[1m[ \u001b[22m\u001b[39m\u001b[36m\u001b[1mInfo: \u001b[22m\u001b[39mϕ=1, PSIS\n",
      "\u001b[36m\u001b[1m[ \u001b[22m\u001b[39m\u001b[36m\u001b[1mInfo: \u001b[22m\u001b[39mLeaving g=67 out\n"
     ]
    },
    {
     "data": {
      "text/plain": [
       "Results of univariate zero finding:\n",
       "\n",
       "* Converged to: 0.8760398437499999\n",
       "* Algorithm: Bisection()\n",
       "* iterations: 10\n",
       "* function evaluations ≈ 13\n",
       "\n",
       "Trace:\n",
       "(a₀, b₀) = ( 0.010306249999999999, 1 )\n",
       "(a₁, b₁) = ( 0.103725, 1 )\n",
       "(a₂, b₂) = ( 0.33244999999999997, 1 )\n",
       "(a₃, b₃) = ( 0.58244999999999991, 1 )\n",
       "(a₄, b₄) = ( 0.79122499999999996, 1 )\n",
       "(a₅, b₅) = ( 0.79122499999999996, 0.89561249999999992 )\n",
       "(a₆, b₆) = ( 0.84341874999999988, 0.89561249999999992 )\n",
       "(a₇, b₇) = ( 0.8695156249999999, 0.89561249999999992 )\n",
       "(a₈, b₈) = ( 0.8695156249999999, 0.88256406249999986 )\n",
       "(a₉, b₉) = ( 0.8695156249999999, 0.87603984374999988 )\n",
       "(a₁₀, b₁₀) = ( 0.87277773437499984, 0.87603984374999988 )\n",
       "\n"
      ]
     },
     "metadata": {},
     "output_type": "display_data"
    },
    {
     "name": "stderr",
     "output_type": "stream",
     "text": [
      "\u001b[36m\u001b[1m[ \u001b[22m\u001b[39m\u001b[36m\u001b[1mInfo: \u001b[22m\u001b[39mTargeting ϕ=0.8760398437499999\n",
      "\u001b[32mProgress: 100%|█████████████████████████████████████████| Time: 0:03:14\u001b[39m\n",
      "\u001b[36m\u001b[1m[ \u001b[22m\u001b[39m\u001b[36m\u001b[1mInfo: \u001b[22m\u001b[39mϕ=1, PSIS\n",
      "\u001b[36m\u001b[1m[ \u001b[22m\u001b[39m\u001b[36m\u001b[1mInfo: \u001b[22m\u001b[39mLeaving g=68 out\n"
     ]
    },
    {
     "data": {
      "text/plain": [
       "Results of univariate zero finding:\n",
       "\n",
       "* Converged to: 0.9217093749999999\n",
       "* Algorithm: Bisection()\n",
       "* iterations: 10\n",
       "* function evaluations ≈ 13\n",
       "\n",
       "Trace:\n",
       "(a₀, b₀) = ( 0.010306249999999999, 1 )\n",
       "(a₁, b₁) = ( 0.103725, 1 )\n",
       "(a₂, b₂) = ( 0.33244999999999997, 1 )\n",
       "(a₃, b₃) = ( 0.58244999999999991, 1 )\n",
       "(a₄, b₄) = ( 0.79122499999999996, 1 )\n",
       "(a₅, b₅) = ( 0.89561249999999992, 1 )\n",
       "(a₆, b₆) = ( 0.89561249999999992, 0.94780624999999996 )\n",
       "(a₇, b₇) = ( 0.92170937499999994, 0.94780624999999996 )\n",
       "(a₈, b₈) = ( 0.92170937499999994, 0.9347578124999999 )\n",
       "(a₉, b₉) = ( 0.92170937499999994, 0.92823359374999992 )\n",
       "(a₁₀, b₁₀) = ( 0.92170937499999994, 0.92497148437499987 )\n",
       "\n"
      ]
     },
     "metadata": {},
     "output_type": "display_data"
    },
    {
     "name": "stderr",
     "output_type": "stream",
     "text": [
      "\u001b[36m\u001b[1m[ \u001b[22m\u001b[39m\u001b[36m\u001b[1mInfo: \u001b[22m\u001b[39mTargeting ϕ=0.9217093749999999\n",
      "\u001b[32mProgress: 100%|█████████████████████████████████████████| Time: 0:03:18\u001b[39m\n",
      "\u001b[36m\u001b[1m[ \u001b[22m\u001b[39m\u001b[36m\u001b[1mInfo: \u001b[22m\u001b[39mϕ=1, PSIS\n",
      "\u001b[36m\u001b[1m[ \u001b[22m\u001b[39m\u001b[36m\u001b[1mInfo: \u001b[22m\u001b[39mLeaving g=69 out\n",
      "\u001b[36m\u001b[1m[ \u001b[22m\u001b[39m\u001b[36m\u001b[1mInfo: \u001b[22m\u001b[39mϕ=1, PSIS\n",
      "\u001b[36m\u001b[1m[ \u001b[22m\u001b[39m\u001b[36m\u001b[1mInfo: \u001b[22m\u001b[39mLeaving g=70 out\n",
      "\u001b[36m\u001b[1m[ \u001b[22m\u001b[39m\u001b[36m\u001b[1mInfo: \u001b[22m\u001b[39mϕ=1, PSIS\n",
      "\u001b[36m\u001b[1m[ \u001b[22m\u001b[39m\u001b[36m\u001b[1mInfo: \u001b[22m\u001b[39mLeaving g=71 out\n",
      "\u001b[36m\u001b[1m[ \u001b[22m\u001b[39m\u001b[36m\u001b[1mInfo: \u001b[22m\u001b[39mϕ=1, PSIS\n",
      "\u001b[36m\u001b[1m[ \u001b[22m\u001b[39m\u001b[36m\u001b[1mInfo: \u001b[22m\u001b[39mLeaving g=72 out\n",
      "\u001b[36m\u001b[1m[ \u001b[22m\u001b[39m\u001b[36m\u001b[1mInfo: \u001b[22m\u001b[39mϕ=1, PSIS\n",
      "\u001b[36m\u001b[1m[ \u001b[22m\u001b[39m\u001b[36m\u001b[1mInfo: \u001b[22m\u001b[39mLeaving g=73 out\n",
      "\u001b[36m\u001b[1m[ \u001b[22m\u001b[39m\u001b[36m\u001b[1mInfo: \u001b[22m\u001b[39mϕ=1, PSIS\n",
      "\u001b[36m\u001b[1m[ \u001b[22m\u001b[39m\u001b[36m\u001b[1mInfo: \u001b[22m\u001b[39mLeaving g=74 out\n",
      "\u001b[36m\u001b[1m[ \u001b[22m\u001b[39m\u001b[36m\u001b[1mInfo: \u001b[22m\u001b[39mϕ=1, PSIS\n",
      "\u001b[36m\u001b[1m[ \u001b[22m\u001b[39m\u001b[36m\u001b[1mInfo: \u001b[22m\u001b[39mLeaving g=75 out\n"
     ]
    },
    {
     "data": {
      "text/plain": [
       "Results of univariate zero finding:\n",
       "\n",
       "* Converged to: 0.7259828124999999\n",
       "* Algorithm: Bisection()\n",
       "* iterations: 10\n",
       "* function evaluations ≈ 13\n",
       "\n",
       "Trace:\n",
       "(a₀, b₀) = ( 0.010306249999999999, 1 )\n",
       "(a₁, b₁) = ( 0.103725, 1 )\n",
       "(a₂, b₂) = ( 0.33244999999999997, 1 )\n",
       "(a₃, b₃) = ( 0.58244999999999991, 1 )\n",
       "(a₄, b₄) = ( 0.58244999999999991, 0.79122499999999996 )\n",
       "(a₅, b₅) = ( 0.68683749999999988, 0.79122499999999996 )\n",
       "(a₆, b₆) = ( 0.68683749999999988, 0.73903124999999992 )\n",
       "(a₇, b₇) = ( 0.7129343749999999, 0.73903124999999992 )\n",
       "(a₈, b₈) = ( 0.7129343749999999, 0.72598281249999985 )\n",
       "(a₉, b₉) = ( 0.71945859374999988, 0.72598281249999985 )\n",
       "(a₁₀, b₁₀) = ( 0.72272070312499981, 0.72598281249999985 )\n",
       "\n"
      ]
     },
     "metadata": {},
     "output_type": "display_data"
    },
    {
     "name": "stderr",
     "output_type": "stream",
     "text": [
      "\u001b[36m\u001b[1m[ \u001b[22m\u001b[39m\u001b[36m\u001b[1mInfo: \u001b[22m\u001b[39mTargeting ϕ=0.7259828124999999\n",
      "\u001b[32mProgress: 100%|█████████████████████████████████████████| Time: 0:03:18\u001b[39m\n",
      "\u001b[36m\u001b[1m[ \u001b[22m\u001b[39m\u001b[36m\u001b[1mInfo: \u001b[22m\u001b[39mϕ=1, PSIS\n",
      "\u001b[36m\u001b[1m[ \u001b[22m\u001b[39m\u001b[36m\u001b[1mInfo: \u001b[22m\u001b[39mLeaving g=76 out\n"
     ]
    },
    {
     "data": {
      "text/plain": [
       "Results of univariate zero finding:\n",
       "\n",
       "* Converged to: 0.6803132812499998\n",
       "* Algorithm: Bisection()\n",
       "* iterations: 10\n",
       "* function evaluations ≈ 13\n",
       "\n",
       "Trace:\n",
       "(a₀, b₀) = ( 0.010306249999999999, 1 )\n",
       "(a₁, b₁) = ( 0.103725, 1 )\n",
       "(a₂, b₂) = ( 0.33244999999999997, 1 )\n",
       "(a₃, b₃) = ( 0.58244999999999991, 1 )\n",
       "(a₄, b₄) = ( 0.58244999999999991, 0.79122499999999996 )\n",
       "(a₅, b₅) = ( 0.58244999999999991, 0.68683749999999988 )\n",
       "(a₆, b₆) = ( 0.63464374999999984, 0.68683749999999988 )\n",
       "(a₇, b₇) = ( 0.66074062499999986, 0.68683749999999988 )\n",
       "(a₈, b₈) = ( 0.67378906249999981, 0.68683749999999988 )\n",
       "(a₉, b₉) = ( 0.68031328124999979, 0.68683749999999988 )\n",
       "(a₁₀, b₁₀) = ( 0.68031328124999979, 0.68357539062499983 )\n",
       "\n"
      ]
     },
     "metadata": {},
     "output_type": "display_data"
    },
    {
     "name": "stderr",
     "output_type": "stream",
     "text": [
      "\u001b[36m\u001b[1m[ \u001b[22m\u001b[39m\u001b[36m\u001b[1mInfo: \u001b[22m\u001b[39mTargeting ϕ=0.6803132812499998\n",
      "\u001b[32mProgress: 100%|█████████████████████████████████████████| Time: 0:03:09\u001b[39m\n",
      "\u001b[36m\u001b[1m[ \u001b[22m\u001b[39m\u001b[36m\u001b[1mInfo: \u001b[22m\u001b[39mϕ=1, PSIS\n",
      "\u001b[36m\u001b[1m[ \u001b[22m\u001b[39m\u001b[36m\u001b[1mInfo: \u001b[22m\u001b[39mLeaving g=77 out\n"
     ]
    },
    {
     "data": {
      "text/plain": [
       "Results of univariate zero finding:\n",
       "\n",
       "* Converged to: 0.9249714843749999\n",
       "* Algorithm: Bisection()\n",
       "* iterations: 10\n",
       "* function evaluations ≈ 13\n",
       "\n",
       "Trace:\n",
       "(a₀, b₀) = ( 0.010306249999999999, 1 )\n",
       "(a₁, b₁) = ( 0.103725, 1 )\n",
       "(a₂, b₂) = ( 0.33244999999999997, 1 )\n",
       "(a₃, b₃) = ( 0.58244999999999991, 1 )\n",
       "(a₄, b₄) = ( 0.79122499999999996, 1 )\n",
       "(a₅, b₅) = ( 0.89561249999999992, 1 )\n",
       "(a₆, b₆) = ( 0.89561249999999992, 0.94780624999999996 )\n",
       "(a₇, b₇) = ( 0.92170937499999994, 0.94780624999999996 )\n",
       "(a₈, b₈) = ( 0.92170937499999994, 0.9347578124999999 )\n",
       "(a₉, b₉) = ( 0.92170937499999994, 0.92823359374999992 )\n",
       "(a₁₀, b₁₀) = ( 0.92497148437499987, 0.92823359374999992 )\n",
       "\n"
      ]
     },
     "metadata": {},
     "output_type": "display_data"
    },
    {
     "name": "stderr",
     "output_type": "stream",
     "text": [
      "\u001b[36m\u001b[1m[ \u001b[22m\u001b[39m\u001b[36m\u001b[1mInfo: \u001b[22m\u001b[39mTargeting ϕ=0.9249714843749999\n",
      "\u001b[32mProgress: 100%|█████████████████████████████████████████| Time: 0:03:18\u001b[39m\n",
      "\u001b[36m\u001b[1m[ \u001b[22m\u001b[39m\u001b[36m\u001b[1mInfo: \u001b[22m\u001b[39mϕ=1, PSIS\n",
      "\u001b[36m\u001b[1m[ \u001b[22m\u001b[39m\u001b[36m\u001b[1mInfo: \u001b[22m\u001b[39mLeaving g=78 out\n"
     ]
    },
    {
     "data": {
      "text/plain": [
       "Results of univariate zero finding:\n",
       "\n",
       "* Converged to: 0.9184472656249999\n",
       "* Algorithm: Bisection()\n",
       "* iterations: 10\n",
       "* function evaluations ≈ 13\n",
       "\n",
       "Trace:\n",
       "(a₀, b₀) = ( 0.010306249999999999, 1 )\n",
       "(a₁, b₁) = ( 0.103725, 1 )\n",
       "(a₂, b₂) = ( 0.33244999999999997, 1 )\n",
       "(a₃, b₃) = ( 0.58244999999999991, 1 )\n",
       "(a₄, b₄) = ( 0.79122499999999996, 1 )\n",
       "(a₅, b₅) = ( 0.89561249999999992, 1 )\n",
       "(a₆, b₆) = ( 0.89561249999999992, 0.94780624999999996 )\n",
       "(a₇, b₇) = ( 0.89561249999999992, 0.92170937499999994 )\n",
       "(a₈, b₈) = ( 0.90866093749999988, 0.92170937499999994 )\n",
       "(a₉, b₉) = ( 0.91518515624999985, 0.92170937499999994 )\n",
       "(a₁₀, b₁₀) = ( 0.9184472656249999, 0.92170937499999994 )\n",
       "\n"
      ]
     },
     "metadata": {},
     "output_type": "display_data"
    },
    {
     "name": "stderr",
     "output_type": "stream",
     "text": [
      "\u001b[36m\u001b[1m[ \u001b[22m\u001b[39m\u001b[36m\u001b[1mInfo: \u001b[22m\u001b[39mTargeting ϕ=0.9184472656249999\n",
      "\u001b[32mProgress: 100%|█████████████████████████████████████████| Time: 0:03:11\u001b[39m\n",
      "\u001b[36m\u001b[1m[ \u001b[22m\u001b[39m\u001b[36m\u001b[1mInfo: \u001b[22m\u001b[39mϕ=1, PSIS\n",
      "\u001b[36m\u001b[1m[ \u001b[22m\u001b[39m\u001b[36m\u001b[1mInfo: \u001b[22m\u001b[39mLeaving g=79 out\n",
      "\u001b[36m\u001b[1m[ \u001b[22m\u001b[39m\u001b[36m\u001b[1mInfo: \u001b[22m\u001b[39mϕ=1, PSIS\n",
      "\u001b[36m\u001b[1m[ \u001b[22m\u001b[39m\u001b[36m\u001b[1mInfo: \u001b[22m\u001b[39mLeaving g=80 out\n",
      "\u001b[36m\u001b[1m[ \u001b[22m\u001b[39m\u001b[36m\u001b[1mInfo: \u001b[22m\u001b[39mϕ=1, PSIS\n",
      "\u001b[36m\u001b[1m[ \u001b[22m\u001b[39m\u001b[36m\u001b[1mInfo: \u001b[22m\u001b[39mLeaving g=81 out\n",
      "\u001b[36m\u001b[1m[ \u001b[22m\u001b[39m\u001b[36m\u001b[1mInfo: \u001b[22m\u001b[39mϕ=1, PSIS\n",
      "\u001b[36m\u001b[1m[ \u001b[22m\u001b[39m\u001b[36m\u001b[1mInfo: \u001b[22m\u001b[39mLeaving g=82 out\n",
      "\u001b[36m\u001b[1m[ \u001b[22m\u001b[39m\u001b[36m\u001b[1mInfo: \u001b[22m\u001b[39mϕ=1, PSIS\n",
      "\u001b[36m\u001b[1m[ \u001b[22m\u001b[39m\u001b[36m\u001b[1mInfo: \u001b[22m\u001b[39mLeaving g=83 out\n",
      "\u001b[36m\u001b[1m[ \u001b[22m\u001b[39m\u001b[36m\u001b[1mInfo: \u001b[22m\u001b[39mϕ=1, PSIS\n",
      "\u001b[36m\u001b[1m[ \u001b[22m\u001b[39m\u001b[36m\u001b[1mInfo: \u001b[22m\u001b[39mLeaving g=84 out\n",
      "\u001b[36m\u001b[1m[ \u001b[22m\u001b[39m\u001b[36m\u001b[1mInfo: \u001b[22m\u001b[39mϕ=1, PSIS\n",
      "\u001b[36m\u001b[1m[ \u001b[22m\u001b[39m\u001b[36m\u001b[1mInfo: \u001b[22m\u001b[39mLeaving g=85 out\n",
      "\u001b[36m\u001b[1m[ \u001b[22m\u001b[39m\u001b[36m\u001b[1mInfo: \u001b[22m\u001b[39mϕ=1, PSIS\n"
     ]
    }
   ],
   "source": [
    "Random.seed!(1)\n",
    "RUN_aSMC && run(chain, SMCS_Radon; save_bool=true)"
   ]
  },
  {
   "cell_type": "code",
   "execution_count": 58,
   "id": "76842bd8-affc-4c54-825e-8844cd356bd0",
   "metadata": {
    "scrolled": true
   },
   "outputs": [
    {
     "name": "stderr",
     "output_type": "stream",
     "text": [
      "\u001b[36m\u001b[1m[ \u001b[22m\u001b[39m\u001b[36m\u001b[1mInfo: \u001b[22m\u001b[39mLeaving g=1 out\n",
      "\u001b[36m\u001b[1m[ \u001b[22m\u001b[39m\u001b[36m\u001b[1mInfo: \u001b[22m\u001b[39mLeaving g=2 out\n",
      "\u001b[36m\u001b[1m[ \u001b[22m\u001b[39m\u001b[36m\u001b[1mInfo: \u001b[22m\u001b[39mLeaving g=3 out\n",
      "\u001b[36m\u001b[1m[ \u001b[22m\u001b[39m\u001b[36m\u001b[1mInfo: \u001b[22m\u001b[39mLeaving g=4 out\n",
      "\u001b[36m\u001b[1m[ \u001b[22m\u001b[39m\u001b[36m\u001b[1mInfo: \u001b[22m\u001b[39mLeaving g=5 out\n",
      "\u001b[36m\u001b[1m[ \u001b[22m\u001b[39m\u001b[36m\u001b[1mInfo: \u001b[22m\u001b[39mLeaving g=6 out\n",
      "\u001b[36m\u001b[1m[ \u001b[22m\u001b[39m\u001b[36m\u001b[1mInfo: \u001b[22m\u001b[39mLeaving g=7 out\n",
      "\u001b[36m\u001b[1m[ \u001b[22m\u001b[39m\u001b[36m\u001b[1mInfo: \u001b[22m\u001b[39mLeaving g=8 out\n",
      "\u001b[36m\u001b[1m[ \u001b[22m\u001b[39m\u001b[36m\u001b[1mInfo: \u001b[22m\u001b[39mLeaving g=9 out\n",
      "\u001b[36m\u001b[1m[ \u001b[22m\u001b[39m\u001b[36m\u001b[1mInfo: \u001b[22m\u001b[39mLeaving g=10 out\n",
      "\u001b[36m\u001b[1m[ \u001b[22m\u001b[39m\u001b[36m\u001b[1mInfo: \u001b[22m\u001b[39mLeaving g=11 out\n",
      "\u001b[36m\u001b[1m[ \u001b[22m\u001b[39m\u001b[36m\u001b[1mInfo: \u001b[22m\u001b[39mLeaving g=12 out\n",
      "\u001b[36m\u001b[1m[ \u001b[22m\u001b[39m\u001b[36m\u001b[1mInfo: \u001b[22m\u001b[39mLeaving g=13 out\n",
      "\u001b[36m\u001b[1m[ \u001b[22m\u001b[39m\u001b[36m\u001b[1mInfo: \u001b[22m\u001b[39mLeaving g=14 out\n",
      "\u001b[36m\u001b[1m[ \u001b[22m\u001b[39m\u001b[36m\u001b[1mInfo: \u001b[22m\u001b[39mLeaving g=15 out\n",
      "\u001b[36m\u001b[1m[ \u001b[22m\u001b[39m\u001b[36m\u001b[1mInfo: \u001b[22m\u001b[39mLeaving g=16 out\n",
      "\u001b[36m\u001b[1m[ \u001b[22m\u001b[39m\u001b[36m\u001b[1mInfo: \u001b[22m\u001b[39mLeaving g=17 out\n",
      "\u001b[36m\u001b[1m[ \u001b[22m\u001b[39m\u001b[36m\u001b[1mInfo: \u001b[22m\u001b[39mLeaving g=18 out\n",
      "\u001b[36m\u001b[1m[ \u001b[22m\u001b[39m\u001b[36m\u001b[1mInfo: \u001b[22m\u001b[39mLeaving g=19 out\n",
      "\u001b[36m\u001b[1m[ \u001b[22m\u001b[39m\u001b[36m\u001b[1mInfo: \u001b[22m\u001b[39mLeaving g=20 out\n",
      "\u001b[36m\u001b[1m[ \u001b[22m\u001b[39m\u001b[36m\u001b[1mInfo: \u001b[22m\u001b[39mLeaving g=21 out\n",
      "\u001b[36m\u001b[1m[ \u001b[22m\u001b[39m\u001b[36m\u001b[1mInfo: \u001b[22m\u001b[39mLeaving g=22 out\n",
      "\u001b[36m\u001b[1m[ \u001b[22m\u001b[39m\u001b[36m\u001b[1mInfo: \u001b[22m\u001b[39mLeaving g=23 out\n",
      "\u001b[36m\u001b[1m[ \u001b[22m\u001b[39m\u001b[36m\u001b[1mInfo: \u001b[22m\u001b[39mLeaving g=24 out\n",
      "\u001b[36m\u001b[1m[ \u001b[22m\u001b[39m\u001b[36m\u001b[1mInfo: \u001b[22m\u001b[39mLeaving g=25 out\n",
      "\u001b[36m\u001b[1m[ \u001b[22m\u001b[39m\u001b[36m\u001b[1mInfo: \u001b[22m\u001b[39mLeaving g=26 out\n",
      "\u001b[36m\u001b[1m[ \u001b[22m\u001b[39m\u001b[36m\u001b[1mInfo: \u001b[22m\u001b[39mLeaving g=27 out\n",
      "\u001b[36m\u001b[1m[ \u001b[22m\u001b[39m\u001b[36m\u001b[1mInfo: \u001b[22m\u001b[39mLeaving g=28 out\n",
      "\u001b[36m\u001b[1m[ \u001b[22m\u001b[39m\u001b[36m\u001b[1mInfo: \u001b[22m\u001b[39mLeaving g=29 out\n",
      "\u001b[36m\u001b[1m[ \u001b[22m\u001b[39m\u001b[36m\u001b[1mInfo: \u001b[22m\u001b[39mLeaving g=30 out\n",
      "\u001b[36m\u001b[1m[ \u001b[22m\u001b[39m\u001b[36m\u001b[1mInfo: \u001b[22m\u001b[39mLeaving g=31 out\n",
      "\u001b[36m\u001b[1m[ \u001b[22m\u001b[39m\u001b[36m\u001b[1mInfo: \u001b[22m\u001b[39mLeaving g=32 out\n",
      "\u001b[36m\u001b[1m[ \u001b[22m\u001b[39m\u001b[36m\u001b[1mInfo: \u001b[22m\u001b[39mLeaving g=33 out\n",
      "\u001b[36m\u001b[1m[ \u001b[22m\u001b[39m\u001b[36m\u001b[1mInfo: \u001b[22m\u001b[39mLeaving g=34 out\n",
      "\u001b[36m\u001b[1m[ \u001b[22m\u001b[39m\u001b[36m\u001b[1mInfo: \u001b[22m\u001b[39mLeaving g=35 out\n",
      "\u001b[36m\u001b[1m[ \u001b[22m\u001b[39m\u001b[36m\u001b[1mInfo: \u001b[22m\u001b[39mLeaving g=36 out\n",
      "\u001b[36m\u001b[1m[ \u001b[22m\u001b[39m\u001b[36m\u001b[1mInfo: \u001b[22m\u001b[39mLeaving g=37 out\n",
      "\u001b[36m\u001b[1m[ \u001b[22m\u001b[39m\u001b[36m\u001b[1mInfo: \u001b[22m\u001b[39mLeaving g=38 out\n",
      "\u001b[36m\u001b[1m[ \u001b[22m\u001b[39m\u001b[36m\u001b[1mInfo: \u001b[22m\u001b[39mLeaving g=39 out\n",
      "\u001b[36m\u001b[1m[ \u001b[22m\u001b[39m\u001b[36m\u001b[1mInfo: \u001b[22m\u001b[39mLeaving g=40 out\n",
      "\u001b[36m\u001b[1m[ \u001b[22m\u001b[39m\u001b[36m\u001b[1mInfo: \u001b[22m\u001b[39mLeaving g=41 out\n",
      "\u001b[36m\u001b[1m[ \u001b[22m\u001b[39m\u001b[36m\u001b[1mInfo: \u001b[22m\u001b[39mLeaving g=42 out\n",
      "\u001b[36m\u001b[1m[ \u001b[22m\u001b[39m\u001b[36m\u001b[1mInfo: \u001b[22m\u001b[39mLeaving g=43 out\n",
      "\u001b[36m\u001b[1m[ \u001b[22m\u001b[39m\u001b[36m\u001b[1mInfo: \u001b[22m\u001b[39mLeaving g=44 out\n",
      "\u001b[36m\u001b[1m[ \u001b[22m\u001b[39m\u001b[36m\u001b[1mInfo: \u001b[22m\u001b[39mLeaving g=45 out\n",
      "\u001b[36m\u001b[1m[ \u001b[22m\u001b[39m\u001b[36m\u001b[1mInfo: \u001b[22m\u001b[39mLeaving g=46 out\n",
      "\u001b[36m\u001b[1m[ \u001b[22m\u001b[39m\u001b[36m\u001b[1mInfo: \u001b[22m\u001b[39mLeaving g=47 out\n",
      "\u001b[36m\u001b[1m[ \u001b[22m\u001b[39m\u001b[36m\u001b[1mInfo: \u001b[22m\u001b[39mLeaving g=48 out\n",
      "\u001b[36m\u001b[1m[ \u001b[22m\u001b[39m\u001b[36m\u001b[1mInfo: \u001b[22m\u001b[39mLeaving g=49 out\n",
      "\u001b[36m\u001b[1m[ \u001b[22m\u001b[39m\u001b[36m\u001b[1mInfo: \u001b[22m\u001b[39mLeaving g=50 out\n",
      "\u001b[36m\u001b[1m[ \u001b[22m\u001b[39m\u001b[36m\u001b[1mInfo: \u001b[22m\u001b[39mLeaving g=51 out\n",
      "\u001b[36m\u001b[1m[ \u001b[22m\u001b[39m\u001b[36m\u001b[1mInfo: \u001b[22m\u001b[39mLeaving g=52 out\n",
      "\u001b[36m\u001b[1m[ \u001b[22m\u001b[39m\u001b[36m\u001b[1mInfo: \u001b[22m\u001b[39mLeaving g=53 out\n",
      "\u001b[36m\u001b[1m[ \u001b[22m\u001b[39m\u001b[36m\u001b[1mInfo: \u001b[22m\u001b[39mLeaving g=54 out\n",
      "\u001b[36m\u001b[1m[ \u001b[22m\u001b[39m\u001b[36m\u001b[1mInfo: \u001b[22m\u001b[39mLeaving g=55 out\n",
      "\u001b[36m\u001b[1m[ \u001b[22m\u001b[39m\u001b[36m\u001b[1mInfo: \u001b[22m\u001b[39mLeaving g=56 out\n",
      "\u001b[36m\u001b[1m[ \u001b[22m\u001b[39m\u001b[36m\u001b[1mInfo: \u001b[22m\u001b[39mLeaving g=57 out\n",
      "\u001b[36m\u001b[1m[ \u001b[22m\u001b[39m\u001b[36m\u001b[1mInfo: \u001b[22m\u001b[39mLeaving g=58 out\n",
      "\u001b[36m\u001b[1m[ \u001b[22m\u001b[39m\u001b[36m\u001b[1mInfo: \u001b[22m\u001b[39mLeaving g=59 out\n",
      "\u001b[36m\u001b[1m[ \u001b[22m\u001b[39m\u001b[36m\u001b[1mInfo: \u001b[22m\u001b[39mLeaving g=60 out\n",
      "\u001b[36m\u001b[1m[ \u001b[22m\u001b[39m\u001b[36m\u001b[1mInfo: \u001b[22m\u001b[39mLeaving g=61 out\n",
      "\u001b[36m\u001b[1m[ \u001b[22m\u001b[39m\u001b[36m\u001b[1mInfo: \u001b[22m\u001b[39mLeaving g=62 out\n",
      "\u001b[36m\u001b[1m[ \u001b[22m\u001b[39m\u001b[36m\u001b[1mInfo: \u001b[22m\u001b[39mLeaving g=63 out\n",
      "\u001b[36m\u001b[1m[ \u001b[22m\u001b[39m\u001b[36m\u001b[1mInfo: \u001b[22m\u001b[39mLeaving g=64 out\n",
      "\u001b[36m\u001b[1m[ \u001b[22m\u001b[39m\u001b[36m\u001b[1mInfo: \u001b[22m\u001b[39mLeaving g=65 out\n",
      "\u001b[36m\u001b[1m[ \u001b[22m\u001b[39m\u001b[36m\u001b[1mInfo: \u001b[22m\u001b[39mLeaving g=66 out\n",
      "\u001b[36m\u001b[1m[ \u001b[22m\u001b[39m\u001b[36m\u001b[1mInfo: \u001b[22m\u001b[39mLeaving g=67 out\n",
      "\u001b[36m\u001b[1m[ \u001b[22m\u001b[39m\u001b[36m\u001b[1mInfo: \u001b[22m\u001b[39mLeaving g=68 out\n",
      "\u001b[36m\u001b[1m[ \u001b[22m\u001b[39m\u001b[36m\u001b[1mInfo: \u001b[22m\u001b[39mLeaving g=69 out\n",
      "\u001b[36m\u001b[1m[ \u001b[22m\u001b[39m\u001b[36m\u001b[1mInfo: \u001b[22m\u001b[39mLeaving g=70 out\n",
      "\u001b[36m\u001b[1m[ \u001b[22m\u001b[39m\u001b[36m\u001b[1mInfo: \u001b[22m\u001b[39mLeaving g=71 out\n",
      "\u001b[36m\u001b[1m[ \u001b[22m\u001b[39m\u001b[36m\u001b[1mInfo: \u001b[22m\u001b[39mLeaving g=72 out\n",
      "\u001b[36m\u001b[1m[ \u001b[22m\u001b[39m\u001b[36m\u001b[1mInfo: \u001b[22m\u001b[39mLeaving g=73 out\n",
      "\u001b[36m\u001b[1m[ \u001b[22m\u001b[39m\u001b[36m\u001b[1mInfo: \u001b[22m\u001b[39mLeaving g=74 out\n",
      "\u001b[36m\u001b[1m[ \u001b[22m\u001b[39m\u001b[36m\u001b[1mInfo: \u001b[22m\u001b[39mLeaving g=75 out\n",
      "\u001b[36m\u001b[1m[ \u001b[22m\u001b[39m\u001b[36m\u001b[1mInfo: \u001b[22m\u001b[39mLeaving g=76 out\n",
      "\u001b[36m\u001b[1m[ \u001b[22m\u001b[39m\u001b[36m\u001b[1mInfo: \u001b[22m\u001b[39mLeaving g=77 out\n",
      "\u001b[36m\u001b[1m[ \u001b[22m\u001b[39m\u001b[36m\u001b[1mInfo: \u001b[22m\u001b[39mLeaving g=78 out\n",
      "\u001b[36m\u001b[1m[ \u001b[22m\u001b[39m\u001b[36m\u001b[1mInfo: \u001b[22m\u001b[39mLeaving g=79 out\n",
      "\u001b[36m\u001b[1m[ \u001b[22m\u001b[39m\u001b[36m\u001b[1mInfo: \u001b[22m\u001b[39mLeaving g=80 out\n",
      "\u001b[36m\u001b[1m[ \u001b[22m\u001b[39m\u001b[36m\u001b[1mInfo: \u001b[22m\u001b[39mLeaving g=81 out\n",
      "\u001b[36m\u001b[1m[ \u001b[22m\u001b[39m\u001b[36m\u001b[1mInfo: \u001b[22m\u001b[39mLeaving g=82 out\n",
      "\u001b[36m\u001b[1m[ \u001b[22m\u001b[39m\u001b[36m\u001b[1mInfo: \u001b[22m\u001b[39mLeaving g=83 out\n",
      "\u001b[36m\u001b[1m[ \u001b[22m\u001b[39m\u001b[36m\u001b[1mInfo: \u001b[22m\u001b[39mLeaving g=84 out\n",
      "\u001b[36m\u001b[1m[ \u001b[22m\u001b[39m\u001b[36m\u001b[1mInfo: \u001b[22m\u001b[39mLeaving g=85 out\n"
     ]
    }
   ],
   "source": [
    "Random.seed!(1)\n",
    "RUN_aSMC && run(chain, PSIS_Radon; save_bool=true)"
   ]
  },
  {
   "cell_type": "markdown",
   "id": "1552d11b-1812-47bb-8c93-6dde91164be5",
   "metadata": {},
   "source": [
    "## Sensitivity analyses"
   ]
  },
  {
   "cell_type": "code",
   "execution_count": 65,
   "id": "8b8477d8-3459-466e-ad89-78e6f79827f7",
   "metadata": {
    "scrolled": true
   },
   "outputs": [
    {
     "name": "stderr",
     "output_type": "stream",
     "text": [
      "\u001b[36m\u001b[1m[ \u001b[22m\u001b[39m\u001b[36m\u001b[1mInfo: \u001b[22m\u001b[39mLeaving g=1 out\n"
     ]
    },
    {
     "data": {
      "text/plain": [
       "Results of univariate zero finding:\n",
       "\n",
       "* Converged to: 0.6313816406249998\n",
       "* Algorithm: Bisection()\n",
       "* iterations: 10\n",
       "* function evaluations ≈ 13\n",
       "\n",
       "Trace:\n",
       "(a₀, b₀) = ( 0.010306249999999999, 1 )\n",
       "(a₁, b₁) = ( 0.103725, 1 )\n",
       "(a₂, b₂) = ( 0.33244999999999997, 1 )\n",
       "(a₃, b₃) = ( 0.58244999999999991, 1 )\n",
       "(a₄, b₄) = ( 0.58244999999999991, 0.79122499999999996 )\n",
       "(a₅, b₅) = ( 0.58244999999999991, 0.68683749999999988 )\n",
       "(a₆, b₆) = ( 0.58244999999999991, 0.63464374999999984 )\n",
       "(a₇, b₇) = ( 0.60854687499999982, 0.63464374999999984 )\n",
       "(a₈, b₈) = ( 0.62159531249999977, 0.63464374999999984 )\n",
       "(a₉, b₉) = ( 0.62811953124999975, 0.63464374999999984 )\n",
       "(a₁₀, b₁₀) = ( 0.62811953124999975, 0.6313816406249998 )\n",
       "\n"
      ]
     },
     "metadata": {},
     "output_type": "display_data"
    },
    {
     "name": "stderr",
     "output_type": "stream",
     "text": [
      "\u001b[36m\u001b[1m[ \u001b[22m\u001b[39m\u001b[36m\u001b[1mInfo: \u001b[22m\u001b[39mTargeting ϕ=0.6313816406249998\n",
      "\u001b[32mProgress: 100%|█████████████████████████████████████████| Time: 0:03:15\u001b[39m\n",
      "\u001b[36m\u001b[1m[ \u001b[22m\u001b[39m\u001b[36m\u001b[1mInfo: \u001b[22m\u001b[39mϕ=1, PSIS\n",
      "\u001b[36m\u001b[1m[ \u001b[22m\u001b[39m\u001b[36m\u001b[1mInfo: \u001b[22m\u001b[39mLeaving g=2 out\n"
     ]
    },
    {
     "data": {
      "text/plain": [
       "Results of univariate zero finding:\n",
       "\n",
       "* Converged to: 0.7325070312499998\n",
       "* Algorithm: Bisection()\n",
       "* iterations: 10\n",
       "* function evaluations ≈ 13\n",
       "\n",
       "Trace:\n",
       "(a₀, b₀) = ( 0.010306249999999999, 1 )\n",
       "(a₁, b₁) = ( 0.103725, 1 )\n",
       "(a₂, b₂) = ( 0.33244999999999997, 1 )\n",
       "(a₃, b₃) = ( 0.58244999999999991, 1 )\n",
       "(a₄, b₄) = ( 0.58244999999999991, 0.79122499999999996 )\n",
       "(a₅, b₅) = ( 0.68683749999999988, 0.79122499999999996 )\n",
       "(a₆, b₆) = ( 0.68683749999999988, 0.73903124999999992 )\n",
       "(a₇, b₇) = ( 0.7129343749999999, 0.73903124999999992 )\n",
       "(a₈, b₈) = ( 0.72598281249999985, 0.73903124999999992 )\n",
       "(a₉, b₉) = ( 0.73250703124999983, 0.73903124999999992 )\n",
       "(a₁₀, b₁₀) = ( 0.73250703124999983, 0.73576914062499987 )\n",
       "\n"
      ]
     },
     "metadata": {},
     "output_type": "display_data"
    },
    {
     "name": "stderr",
     "output_type": "stream",
     "text": [
      "\u001b[36m\u001b[1m[ \u001b[22m\u001b[39m\u001b[36m\u001b[1mInfo: \u001b[22m\u001b[39mTargeting ϕ=0.7325070312499998\n",
      "\u001b[32mProgress: 100%|█████████████████████████████████████████| Time: 0:03:15\u001b[39m\n",
      "\u001b[36m\u001b[1m[ \u001b[22m\u001b[39m\u001b[36m\u001b[1mInfo: \u001b[22m\u001b[39mϕ=1, PSIS\n",
      "\u001b[36m\u001b[1m[ \u001b[22m\u001b[39m\u001b[36m\u001b[1mInfo: \u001b[22m\u001b[39mLeaving g=3 out\n"
     ]
    },
    {
     "data": {
      "text/plain": [
       "Results of univariate zero finding:\n",
       "\n",
       "* Converged to: 0.6379058593749998\n",
       "* Algorithm: Bisection()\n",
       "* iterations: 10\n",
       "* function evaluations ≈ 13\n",
       "\n",
       "Trace:\n",
       "(a₀, b₀) = ( 0.010306249999999999, 1 )\n",
       "(a₁, b₁) = ( 0.103725, 1 )\n",
       "(a₂, b₂) = ( 0.33244999999999997, 1 )\n",
       "(a₃, b₃) = ( 0.58244999999999991, 1 )\n",
       "(a₄, b₄) = ( 0.58244999999999991, 0.79122499999999996 )\n",
       "(a₅, b₅) = ( 0.58244999999999991, 0.68683749999999988 )\n",
       "(a₆, b₆) = ( 0.63464374999999984, 0.68683749999999988 )\n",
       "(a₇, b₇) = ( 0.63464374999999984, 0.66074062499999986 )\n",
       "(a₈, b₈) = ( 0.63464374999999984, 0.64769218749999979 )\n",
       "(a₉, b₉) = ( 0.63464374999999984, 0.64116796874999982 )\n",
       "(a₁₀, b₁₀) = ( 0.63790585937499977, 0.64116796874999982 )\n",
       "\n"
      ]
     },
     "metadata": {},
     "output_type": "display_data"
    },
    {
     "name": "stderr",
     "output_type": "stream",
     "text": [
      "\u001b[36m\u001b[1m[ \u001b[22m\u001b[39m\u001b[36m\u001b[1mInfo: \u001b[22m\u001b[39mTargeting ϕ=0.6379058593749998\n",
      "\u001b[32mProgress: 100%|█████████████████████████████████████████| Time: 0:03:18\u001b[39m\n",
      "\u001b[36m\u001b[1m[ \u001b[22m\u001b[39m\u001b[36m\u001b[1mInfo: \u001b[22m\u001b[39mϕ=1, PSIS\n",
      "\u001b[36m\u001b[1m[ \u001b[22m\u001b[39m\u001b[36m\u001b[1mInfo: \u001b[22m\u001b[39mLeaving g=4 out\n",
      "\u001b[36m\u001b[1m[ \u001b[22m\u001b[39m\u001b[36m\u001b[1mInfo: \u001b[22m\u001b[39mϕ=1, PSIS\n",
      "\u001b[36m\u001b[1m[ \u001b[22m\u001b[39m\u001b[36m\u001b[1mInfo: \u001b[22m\u001b[39mLeaving g=5 out\n"
     ]
    },
    {
     "data": {
      "text/plain": [
       "Results of univariate zero finding:\n",
       "\n",
       "* Converged to: 0.9086609374999999\n",
       "* Algorithm: Bisection()\n",
       "* iterations: 10\n",
       "* function evaluations ≈ 13\n",
       "\n",
       "Trace:\n",
       "(a₀, b₀) = ( 0.010306249999999999, 1 )\n",
       "(a₁, b₁) = ( 0.103725, 1 )\n",
       "(a₂, b₂) = ( 0.33244999999999997, 1 )\n",
       "(a₃, b₃) = ( 0.58244999999999991, 1 )\n",
       "(a₄, b₄) = ( 0.79122499999999996, 1 )\n",
       "(a₅, b₅) = ( 0.89561249999999992, 1 )\n",
       "(a₆, b₆) = ( 0.89561249999999992, 0.94780624999999996 )\n",
       "(a₇, b₇) = ( 0.89561249999999992, 0.92170937499999994 )\n",
       "(a₈, b₈) = ( 0.89561249999999992, 0.90866093749999988 )\n",
       "(a₉, b₉) = ( 0.9021367187499999, 0.90866093749999988 )\n",
       "(a₁₀, b₁₀) = ( 0.90539882812499983, 0.90866093749999988 )\n",
       "\n"
      ]
     },
     "metadata": {},
     "output_type": "display_data"
    },
    {
     "name": "stderr",
     "output_type": "stream",
     "text": [
      "\u001b[36m\u001b[1m[ \u001b[22m\u001b[39m\u001b[36m\u001b[1mInfo: \u001b[22m\u001b[39mTargeting ϕ=0.9086609374999999\n",
      "\u001b[32mProgress: 100%|█████████████████████████████████████████| Time: 0:03:12\u001b[39m\n",
      "\u001b[36m\u001b[1m[ \u001b[22m\u001b[39m\u001b[36m\u001b[1mInfo: \u001b[22m\u001b[39mϕ=1, PSIS\n",
      "\u001b[36m\u001b[1m[ \u001b[22m\u001b[39m\u001b[36m\u001b[1mInfo: \u001b[22m\u001b[39mLeaving g=6 out\n"
     ]
    },
    {
     "data": {
      "text/plain": [
       "Results of univariate zero finding:\n",
       "\n",
       "* Converged to: 0.8858261718749998\n",
       "* Algorithm: Bisection()\n",
       "* iterations: 10\n",
       "* function evaluations ≈ 13\n",
       "\n",
       "Trace:\n",
       "(a₀, b₀) = ( 0.010306249999999999, 1 )\n",
       "(a₁, b₁) = ( 0.103725, 1 )\n",
       "(a₂, b₂) = ( 0.33244999999999997, 1 )\n",
       "(a₃, b₃) = ( 0.58244999999999991, 1 )\n",
       "(a₄, b₄) = ( 0.79122499999999996, 1 )\n",
       "(a₅, b₅) = ( 0.79122499999999996, 0.89561249999999992 )\n",
       "(a₆, b₆) = ( 0.84341874999999988, 0.89561249999999992 )\n",
       "(a₇, b₇) = ( 0.8695156249999999, 0.89561249999999992 )\n",
       "(a₈, b₈) = ( 0.88256406249999986, 0.89561249999999992 )\n",
       "(a₉, b₉) = ( 0.88256406249999986, 0.88908828124999983 )\n",
       "(a₁₀, b₁₀) = ( 0.88256406249999986, 0.88582617187499979 )\n",
       "\n"
      ]
     },
     "metadata": {},
     "output_type": "display_data"
    },
    {
     "name": "stderr",
     "output_type": "stream",
     "text": [
      "\u001b[36m\u001b[1m[ \u001b[22m\u001b[39m\u001b[36m\u001b[1mInfo: \u001b[22m\u001b[39mTargeting ϕ=0.8858261718749998\n",
      "\u001b[32mProgress: 100%|█████████████████████████████████████████| Time: 0:03:18\u001b[39m\n",
      "\u001b[36m\u001b[1m[ \u001b[22m\u001b[39m\u001b[36m\u001b[1mInfo: \u001b[22m\u001b[39mϕ=1, PSIS\n",
      "\u001b[36m\u001b[1m[ \u001b[22m\u001b[39m\u001b[36m\u001b[1mInfo: \u001b[22m\u001b[39mLeaving g=7 out\n",
      "\u001b[36m\u001b[1m[ \u001b[22m\u001b[39m\u001b[36m\u001b[1mInfo: \u001b[22m\u001b[39mϕ=1, PSIS\n",
      "\u001b[36m\u001b[1m[ \u001b[22m\u001b[39m\u001b[36m\u001b[1mInfo: \u001b[22m\u001b[39mLeaving g=8 out\n",
      "\u001b[36m\u001b[1m[ \u001b[22m\u001b[39m\u001b[36m\u001b[1mInfo: \u001b[22m\u001b[39mϕ=1, PSIS\n",
      "\u001b[36m\u001b[1m[ \u001b[22m\u001b[39m\u001b[36m\u001b[1mInfo: \u001b[22m\u001b[39mLeaving g=9 out\n",
      "\u001b[36m\u001b[1m[ \u001b[22m\u001b[39m\u001b[36m\u001b[1mInfo: \u001b[22m\u001b[39mϕ=1, PSIS\n",
      "\u001b[36m\u001b[1m[ \u001b[22m\u001b[39m\u001b[36m\u001b[1mInfo: \u001b[22m\u001b[39mLeaving g=10 out\n"
     ]
    },
    {
     "data": {
      "text/plain": [
       "Results of univariate zero finding:\n",
       "\n",
       "* Converged to: 0.9575925781249999\n",
       "* Algorithm: Bisection()\n",
       "* iterations: 10\n",
       "* function evaluations ≈ 13\n",
       "\n",
       "Trace:\n",
       "(a₀, b₀) = ( 0.010306249999999999, 1 )\n",
       "(a₁, b₁) = ( 0.103725, 1 )\n",
       "(a₂, b₂) = ( 0.33244999999999997, 1 )\n",
       "(a₃, b₃) = ( 0.58244999999999991, 1 )\n",
       "(a₄, b₄) = ( 0.79122499999999996, 1 )\n",
       "(a₅, b₅) = ( 0.89561249999999992, 1 )\n",
       "(a₆, b₆) = ( 0.94780624999999996, 1 )\n",
       "(a₇, b₇) = ( 0.94780624999999996, 0.97390312499999998 )\n",
       "(a₈, b₈) = ( 0.94780624999999996, 0.96085468749999992 )\n",
       "(a₉, b₉) = ( 0.95433046874999994, 0.96085468749999992 )\n",
       "(a₁₀, b₁₀) = ( 0.95433046874999994, 0.95759257812499987 )\n",
       "\n"
      ]
     },
     "metadata": {},
     "output_type": "display_data"
    },
    {
     "name": "stderr",
     "output_type": "stream",
     "text": [
      "\u001b[36m\u001b[1m[ \u001b[22m\u001b[39m\u001b[36m\u001b[1mInfo: \u001b[22m\u001b[39mTargeting ϕ=0.9575925781249999\n",
      "\u001b[32mProgress: 100%|█████████████████████████████████████████| Time: 0:03:15\u001b[39m\n",
      "\u001b[36m\u001b[1m[ \u001b[22m\u001b[39m\u001b[36m\u001b[1mInfo: \u001b[22m\u001b[39mϕ=1, PSIS\n",
      "\u001b[36m\u001b[1m[ \u001b[22m\u001b[39m\u001b[36m\u001b[1mInfo: \u001b[22m\u001b[39mLeaving g=11 out\n",
      "\u001b[36m\u001b[1m[ \u001b[22m\u001b[39m\u001b[36m\u001b[1mInfo: \u001b[22m\u001b[39mϕ=1, PSIS\n",
      "\u001b[36m\u001b[1m[ \u001b[22m\u001b[39m\u001b[36m\u001b[1mInfo: \u001b[22m\u001b[39mLeaving g=12 out\n",
      "\u001b[36m\u001b[1m[ \u001b[22m\u001b[39m\u001b[36m\u001b[1mInfo: \u001b[22m\u001b[39mϕ=1, PSIS\n",
      "\u001b[36m\u001b[1m[ \u001b[22m\u001b[39m\u001b[36m\u001b[1mInfo: \u001b[22m\u001b[39mLeaving g=13 out\n"
     ]
    },
    {
     "data": {
      "text/plain": [
       "Results of univariate zero finding:\n",
       "\n",
       "* Converged to: 0.4874001953124999\n",
       "* Algorithm: Bisection()\n",
       "* iterations: 10\n",
       "* function evaluations ≈ 13\n",
       "\n",
       "Trace:\n",
       "(a₀, b₀) = ( 0.010306249999999999, 1 )\n",
       "(a₁, b₁) = ( 0.103725, 1 )\n",
       "(a₂, b₂) = ( 0.33244999999999997, 1 )\n",
       "(a₃, b₃) = ( 0.33244999999999997, 0.58244999999999991 )\n",
       "(a₄, b₄) = ( 0.43683749999999993, 0.58244999999999991 )\n",
       "(a₅, b₅) = ( 0.43683749999999993, 0.48903124999999992 )\n",
       "(a₆, b₆) = ( 0.4629343749999999, 0.48903124999999992 )\n",
       "(a₇, b₇) = ( 0.47598281249999991, 0.48903124999999992 )\n",
       "(a₈, b₈) = ( 0.48250703124999988, 0.48903124999999992 )\n",
       "(a₉, b₉) = ( 0.48576914062499987, 0.48903124999999992 )\n",
       "(a₁₀, b₁₀) = ( 0.4874001953124999, 0.48903124999999992 )\n",
       "\n"
      ]
     },
     "metadata": {},
     "output_type": "display_data"
    },
    {
     "name": "stderr",
     "output_type": "stream",
     "text": [
      "\u001b[36m\u001b[1m[ \u001b[22m\u001b[39m\u001b[36m\u001b[1mInfo: \u001b[22m\u001b[39mTargeting ϕ=0.4874001953124999\n",
      "\u001b[32mProgress: 100%|█████████████████████████████████████████| Time: 0:03:15\u001b[39m\n"
     ]
    },
    {
     "data": {
      "text/plain": [
       "Results of univariate zero finding:\n",
       "\n",
       "* Converged to: 0.7395509750366209\n",
       "* Algorithm: Bisection()\n",
       "* iterations: 10\n",
       "* function evaluations ≈ 13\n",
       "\n",
       "Trace:\n",
       "(a₀, b₀) = ( 0.73750019531249988, 1 )\n",
       "(a₁, b₁) = ( 0.73750019531249988, 0.86875009765624989 )\n",
       "(a₂, b₂) = ( 0.73750019531249988, 0.80312514648437483 )\n",
       "(a₃, b₃) = ( 0.73750019531249988, 0.77031267089843736 )\n",
       "(a₄, b₄) = ( 0.73750019531249988, 0.75390643310546857 )\n",
       "(a₅, b₅) = ( 0.73750019531249988, 0.74570331420898417 )\n",
       "(a₆, b₆) = ( 0.73750019531249988, 0.74160175476074197 )\n",
       "(a₇, b₇) = ( 0.73750019531249988, 0.73955097503662093 )\n",
       "(a₈, b₈) = ( 0.73852558517456035, 0.73955097503662093 )\n",
       "(a₉, b₉) = ( 0.73903828010559058, 0.73955097503662093 )\n",
       "(a₁₀, b₁₀) = ( 0.73929462757110576, 0.73955097503662093 )\n",
       "\n"
      ]
     },
     "metadata": {},
     "output_type": "display_data"
    },
    {
     "name": "stderr",
     "output_type": "stream",
     "text": [
      "\u001b[36m\u001b[1m[ \u001b[22m\u001b[39m\u001b[36m\u001b[1mInfo: \u001b[22m\u001b[39mTargeting ϕ=0.7395509750366209\n",
      "\u001b[32mProgress: 100%|█████████████████████████████████████████| Time: 0:03:14\u001b[39m\n"
     ]
    },
    {
     "data": {
      "text/plain": [
       "Results of univariate zero finding:\n",
       "\n",
       "* Converged to: 0.8941060850612818\n",
       "* Algorithm: Bisection()\n",
       "* iterations: 10\n",
       "* function evaluations ≈ 13\n",
       "\n",
       "Trace:\n",
       "(a₀, b₀) = ( 0.86982548751831046, 1 )\n",
       "(a₁, b₁) = ( 0.86982548751831046, 0.93491274375915523 )\n",
       "(a₂, b₂) = ( 0.86982548751831046, 0.90236911563873279 )\n",
       "(a₃, b₃) = ( 0.88609730157852162, 0.90236911563873279 )\n",
       "(a₄, b₄) = ( 0.88609730157852162, 0.89423320860862721 )\n",
       "(a₅, b₅) = ( 0.89016525509357436, 0.89423320860862721 )\n",
       "(a₆, b₆) = ( 0.89219923185110073, 0.89423320860862721 )\n",
       "(a₇, b₇) = ( 0.89321622022986391, 0.89423320860862721 )\n",
       "(a₈, b₈) = ( 0.8937247144192455, 0.89423320860862721 )\n",
       "(a₉, b₉) = ( 0.8939789615139363, 0.89423320860862721 )\n",
       "(a₁₀, b₁₀) = ( 0.8939789615139363, 0.89410608506128175 )\n",
       "\n"
      ]
     },
     "metadata": {},
     "output_type": "display_data"
    },
    {
     "name": "stderr",
     "output_type": "stream",
     "text": [
      "\u001b[36m\u001b[1m[ \u001b[22m\u001b[39m\u001b[36m\u001b[1mInfo: \u001b[22m\u001b[39mTargeting ϕ=0.8941060850612818\n",
      "\u001b[32mProgress: 100%|█████████████████████████████████████████| Time: 0:03:10\u001b[39m\n"
     ]
    },
    {
     "data": {
      "text/plain": [
       "Results of univariate zero finding:\n",
       "\n",
       "* Converged to: 0.9531469331789951\n",
       "* Algorithm: Bisection()\n",
       "* iterations: 10\n",
       "* function evaluations ≈ 13\n",
       "\n",
       "Trace:\n",
       "(a₀, b₀) = ( 0.94710304253064082, 1 )\n",
       "(a₁, b₁) = ( 0.94710304253064082, 0.97355152126532041 )\n",
       "(a₂, b₂) = ( 0.94710304253064082, 0.96032728189798056 )\n",
       "(a₃, b₃) = ( 0.94710304253064082, 0.95371516221431063 )\n",
       "(a₄, b₄) = ( 0.95040910237247567, 0.95371516221431063 )\n",
       "(a₅, b₅) = ( 0.95206213229339309, 0.95371516221431063 )\n",
       "(a₆, b₆) = ( 0.95288864725385181, 0.95371516221431063 )\n",
       "(a₇, b₇) = ( 0.95288864725385181, 0.95330190473408116 )\n",
       "(a₈, b₈) = ( 0.95309527599396648, 0.95330190473408116 )\n",
       "(a₉, b₉) = ( 0.95309527599396648, 0.95319859036402377 )\n",
       "(a₁₀, b₁₀) = ( 0.95309527599396648, 0.95314693317899513 )\n",
       "\n"
      ]
     },
     "metadata": {},
     "output_type": "display_data"
    },
    {
     "name": "stderr",
     "output_type": "stream",
     "text": [
      "\u001b[36m\u001b[1m[ \u001b[22m\u001b[39m\u001b[36m\u001b[1mInfo: \u001b[22m\u001b[39mTargeting ϕ=0.9531469331789951\n",
      "\u001b[32mProgress: 100%|█████████████████████████████████████████| Time: 0:03:13\u001b[39m\n"
     ]
    },
    {
     "data": {
      "text/plain": [
       "Results of univariate zero finding:\n",
       "\n",
       "* Converged to: 0.9919871452860484\n",
       "* Algorithm: Bisection()\n",
       "* iterations: 10\n",
       "* function evaluations ≈ 13\n",
       "\n",
       "Trace:\n",
       "(a₀, b₀) = ( 0.9766234665894975, 1 )\n",
       "(a₁, b₁) = ( 0.98831173329474875, 1 )\n",
       "(a₂, b₂) = ( 0.98831173329474875, 0.99415586664737432 )\n",
       "(a₃, b₃) = ( 0.99123379997106154, 0.99415586664737432 )\n",
       "(a₄, b₄) = ( 0.99123379997106154, 0.99269483330921793 )\n",
       "(a₅, b₅) = ( 0.99196431664013973, 0.99269483330921793 )\n",
       "(a₆, b₆) = ( 0.99196431664013973, 0.99232957497467877 )\n",
       "(a₇, b₇) = ( 0.99196431664013973, 0.99214694580740925 )\n",
       "(a₈, b₈) = ( 0.99196431664013973, 0.99205563122377449 )\n",
       "(a₉, b₉) = ( 0.99196431664013973, 0.99200997393195711 )\n",
       "(a₁₀, b₁₀) = ( 0.99196431664013973, 0.99198714528604837 )\n",
       "\n"
      ]
     },
     "metadata": {},
     "output_type": "display_data"
    },
    {
     "name": "stderr",
     "output_type": "stream",
     "text": [
      "\u001b[36m\u001b[1m[ \u001b[22m\u001b[39m\u001b[36m\u001b[1mInfo: \u001b[22m\u001b[39mTargeting ϕ=0.9919871452860484\n",
      "\u001b[32mProgress: 100%|█████████████████████████████████████████| Time: 0:03:13\u001b[39m\n",
      "\u001b[36m\u001b[1m[ \u001b[22m\u001b[39m\u001b[36m\u001b[1mInfo: \u001b[22m\u001b[39mϕ=1, PSIS\n",
      "\u001b[36m\u001b[1m[ \u001b[22m\u001b[39m\u001b[36m\u001b[1mInfo: \u001b[22m\u001b[39mLeaving g=14 out\n"
     ]
    },
    {
     "data": {
      "text/plain": [
       "Results of univariate zero finding:\n",
       "\n",
       "* Converged to: 0.9902136718749999\n",
       "* Algorithm: Bisection()\n",
       "* iterations: 10\n",
       "* function evaluations ≈ 13\n",
       "\n",
       "Trace:\n",
       "(a₀, b₀) = ( 0.010306249999999999, 1 )\n",
       "(a₁, b₁) = ( 0.103725, 1 )\n",
       "(a₂, b₂) = ( 0.33244999999999997, 1 )\n",
       "(a₃, b₃) = ( 0.58244999999999991, 1 )\n",
       "(a₄, b₄) = ( 0.79122499999999996, 1 )\n",
       "(a₅, b₅) = ( 0.89561249999999992, 1 )\n",
       "(a₆, b₆) = ( 0.94780624999999996, 1 )\n",
       "(a₇, b₇) = ( 0.97390312499999998, 1 )\n",
       "(a₈, b₈) = ( 0.98695156249999993, 1 )\n",
       "(a₉, b₉) = ( 0.98695156249999993, 0.99347578124999991 )\n",
       "(a₁₀, b₁₀) = ( 0.99021367187499987, 0.99347578124999991 )\n",
       "\n"
      ]
     },
     "metadata": {},
     "output_type": "display_data"
    },
    {
     "name": "stderr",
     "output_type": "stream",
     "text": [
      "\u001b[36m\u001b[1m[ \u001b[22m\u001b[39m\u001b[36m\u001b[1mInfo: \u001b[22m\u001b[39mTargeting ϕ=0.9902136718749999\n",
      "\u001b[32mProgress: 100%|█████████████████████████████████████████| Time: 0:03:18\u001b[39m\n",
      "\u001b[36m\u001b[1m[ \u001b[22m\u001b[39m\u001b[36m\u001b[1mInfo: \u001b[22m\u001b[39mϕ=1, PSIS\n",
      "\u001b[36m\u001b[1m[ \u001b[22m\u001b[39m\u001b[36m\u001b[1mInfo: \u001b[22m\u001b[39mLeaving g=15 out\n"
     ]
    },
    {
     "data": {
      "text/plain": [
       "Results of univariate zero finding:\n",
       "\n",
       "* Converged to: 0.6118089843749998\n",
       "* Algorithm: Bisection()\n",
       "* iterations: 10\n",
       "* function evaluations ≈ 13\n",
       "\n",
       "Trace:\n",
       "(a₀, b₀) = ( 0.010306249999999999, 1 )\n",
       "(a₁, b₁) = ( 0.103725, 1 )\n",
       "(a₂, b₂) = ( 0.33244999999999997, 1 )\n",
       "(a₃, b₃) = ( 0.58244999999999991, 1 )\n",
       "(a₄, b₄) = ( 0.58244999999999991, 0.79122499999999996 )\n",
       "(a₅, b₅) = ( 0.58244999999999991, 0.68683749999999988 )\n",
       "(a₆, b₆) = ( 0.58244999999999991, 0.63464374999999984 )\n",
       "(a₇, b₇) = ( 0.60854687499999982, 0.63464374999999984 )\n",
       "(a₈, b₈) = ( 0.60854687499999982, 0.62159531249999977 )\n",
       "(a₉, b₉) = ( 0.60854687499999982, 0.6150710937499998 )\n",
       "(a₁₀, b₁₀) = ( 0.61180898437499975, 0.6150710937499998 )\n",
       "\n"
      ]
     },
     "metadata": {},
     "output_type": "display_data"
    },
    {
     "name": "stderr",
     "output_type": "stream",
     "text": [
      "\u001b[36m\u001b[1m[ \u001b[22m\u001b[39m\u001b[36m\u001b[1mInfo: \u001b[22m\u001b[39mTargeting ϕ=0.6118089843749998\n",
      "\u001b[32mProgress: 100%|█████████████████████████████████████████| Time: 0:03:14\u001b[39m\n"
     ]
    },
    {
     "data": {
      "text/plain": [
       "Results of univariate zero finding:\n",
       "\n",
       "* Converged to: 0.9850296922683714\n",
       "* Algorithm: Bisection()\n",
       "* iterations: 10\n",
       "* function evaluations ≈ 13\n",
       "\n",
       "Trace:\n",
       "(a₀, b₀) = ( 0.80595449218749982, 1 )\n",
       "(a₁, b₁) = ( 0.90297724609374985, 1 )\n",
       "(a₂, b₂) = ( 0.95148862304687487, 1 )\n",
       "(a₃, b₃) = ( 0.97574431152343744, 1 )\n",
       "(a₄, b₄) = ( 0.97574431152343744, 0.98787215576171872 )\n",
       "(a₅, b₅) = ( 0.98180823364257808, 0.98787215576171872 )\n",
       "(a₆, b₆) = ( 0.98484019470214834, 0.98787215576171872 )\n",
       "(a₇, b₇) = ( 0.98484019470214834, 0.98635617523193353 )\n",
       "(a₈, b₈) = ( 0.98484019470214834, 0.98559818496704088 )\n",
       "(a₉, b₉) = ( 0.98484019470214834, 0.98521918983459456 )\n",
       "(a₁₀, b₁₀) = ( 0.98502969226837145, 0.98521918983459456 )\n",
       "\n"
      ]
     },
     "metadata": {},
     "output_type": "display_data"
    },
    {
     "name": "stderr",
     "output_type": "stream",
     "text": [
      "\u001b[36m\u001b[1m[ \u001b[22m\u001b[39m\u001b[36m\u001b[1mInfo: \u001b[22m\u001b[39mTargeting ϕ=0.9850296922683714\n",
      "\u001b[32mProgress: 100%|█████████████████████████████████████████| Time: 0:03:13\u001b[39m\n",
      "\u001b[36m\u001b[1m[ \u001b[22m\u001b[39m\u001b[36m\u001b[1mInfo: \u001b[22m\u001b[39mϕ=1, PSIS\n",
      "\u001b[36m\u001b[1m[ \u001b[22m\u001b[39m\u001b[36m\u001b[1mInfo: \u001b[22m\u001b[39mLeaving g=16 out\n",
      "\u001b[36m\u001b[1m[ \u001b[22m\u001b[39m\u001b[36m\u001b[1mInfo: \u001b[22m\u001b[39mϕ=1, PSIS\n",
      "\u001b[36m\u001b[1m[ \u001b[22m\u001b[39m\u001b[36m\u001b[1mInfo: \u001b[22m\u001b[39mLeaving g=17 out\n"
     ]
    },
    {
     "data": {
      "text/plain": [
       "Results of univariate zero finding:\n",
       "\n",
       "* Converged to: 0.6574785156249998\n",
       "* Algorithm: Bisection()\n",
       "* iterations: 10\n",
       "* function evaluations ≈ 13\n",
       "\n",
       "Trace:\n",
       "(a₀, b₀) = ( 0.010306249999999999, 1 )\n",
       "(a₁, b₁) = ( 0.103725, 1 )\n",
       "(a₂, b₂) = ( 0.33244999999999997, 1 )\n",
       "(a₃, b₃) = ( 0.58244999999999991, 1 )\n",
       "(a₄, b₄) = ( 0.58244999999999991, 0.79122499999999996 )\n",
       "(a₅, b₅) = ( 0.58244999999999991, 0.68683749999999988 )\n",
       "(a₆, b₆) = ( 0.63464374999999984, 0.68683749999999988 )\n",
       "(a₇, b₇) = ( 0.63464374999999984, 0.66074062499999986 )\n",
       "(a₈, b₈) = ( 0.64769218749999979, 0.66074062499999986 )\n",
       "(a₉, b₉) = ( 0.65421640624999977, 0.66074062499999986 )\n",
       "(a₁₀, b₁₀) = ( 0.65747851562499982, 0.66074062499999986 )\n",
       "\n"
      ]
     },
     "metadata": {},
     "output_type": "display_data"
    },
    {
     "name": "stderr",
     "output_type": "stream",
     "text": [
      "\u001b[36m\u001b[1m[ \u001b[22m\u001b[39m\u001b[36m\u001b[1mInfo: \u001b[22m\u001b[39mTargeting ϕ=0.6574785156249998\n",
      "\u001b[32mProgress: 100%|█████████████████████████████████████████| Time: 0:03:12\u001b[39m\n",
      "\u001b[36m\u001b[1m[ \u001b[22m\u001b[39m\u001b[36m\u001b[1mInfo: \u001b[22m\u001b[39mϕ=1, PSIS\n",
      "\u001b[36m\u001b[1m[ \u001b[22m\u001b[39m\u001b[36m\u001b[1mInfo: \u001b[22m\u001b[39mLeaving g=18 out\n"
     ]
    },
    {
     "data": {
      "text/plain": [
       "Results of univariate zero finding:\n",
       "\n",
       "* Converged to: 0.5824499999999999\n",
       "* Algorithm: Bisection()\n",
       "* iterations: 10\n",
       "* function evaluations ≈ 13\n",
       "\n",
       "Trace:\n",
       "(a₀, b₀) = ( 0.010306249999999999, 1 )\n",
       "(a₁, b₁) = ( 0.103725, 1 )\n",
       "(a₂, b₂) = ( 0.33244999999999997, 1 )\n",
       "(a₃, b₃) = ( 0.58244999999999991, 1 )\n",
       "(a₄, b₄) = ( 0.58244999999999991, 0.79122499999999996 )\n",
       "(a₅, b₅) = ( 0.58244999999999991, 0.68683749999999988 )\n",
       "(a₆, b₆) = ( 0.58244999999999991, 0.63464374999999984 )\n",
       "(a₇, b₇) = ( 0.58244999999999991, 0.60854687499999982 )\n",
       "(a₈, b₈) = ( 0.58244999999999991, 0.59549843749999987 )\n",
       "(a₉, b₉) = ( 0.58244999999999991, 0.58897421874999989 )\n",
       "(a₁₀, b₁₀) = ( 0.58244999999999991, 0.58571210937499985 )\n",
       "\n"
      ]
     },
     "metadata": {},
     "output_type": "display_data"
    },
    {
     "name": "stderr",
     "output_type": "stream",
     "text": [
      "\u001b[36m\u001b[1m[ \u001b[22m\u001b[39m\u001b[36m\u001b[1mInfo: \u001b[22m\u001b[39mTargeting ϕ=0.5824499999999999\n",
      "\u001b[32mProgress: 100%|█████████████████████████████████████████| Time: 0:03:12\u001b[39m\n"
     ]
    },
    {
     "data": {
      "text/plain": [
       "Results of univariate zero finding:\n",
       "\n",
       "* Converged to: 0.9914390136718749\n",
       "* Algorithm: Bisection()\n",
       "* iterations: 10\n",
       "* function evaluations ≈ 13\n",
       "\n",
       "Trace:\n",
       "(a₀, b₀) = ( 0.79127499999999995, 1 )\n",
       "(a₁, b₁) = ( 0.89563749999999998, 1 )\n",
       "(a₂, b₂) = ( 0.94781874999999993, 1 )\n",
       "(a₃, b₃) = ( 0.97390937499999997, 1 )\n",
       "(a₄, b₄) = ( 0.98695468749999993, 1 )\n",
       "(a₅, b₅) = ( 0.98695468749999993, 0.99347734374999996 )\n",
       "(a₆, b₆) = ( 0.99021601562499995, 0.99347734374999996 )\n",
       "(a₇, b₇) = ( 0.99021601562499995, 0.99184667968749995 )\n",
       "(a₈, b₈) = ( 0.99103134765624989, 0.99184667968749995 )\n",
       "(a₉, b₉) = ( 0.99143901367187492, 0.99184667968749995 )\n",
       "(a₁₀, b₁₀) = ( 0.99143901367187492, 0.99164284667968738 )\n",
       "\n"
      ]
     },
     "metadata": {},
     "output_type": "display_data"
    },
    {
     "name": "stderr",
     "output_type": "stream",
     "text": [
      "\u001b[36m\u001b[1m[ \u001b[22m\u001b[39m\u001b[36m\u001b[1mInfo: \u001b[22m\u001b[39mTargeting ϕ=0.9914390136718749\n",
      "\u001b[32mProgress: 100%|█████████████████████████████████████████| Time: 0:03:14\u001b[39m\n",
      "\u001b[36m\u001b[1m[ \u001b[22m\u001b[39m\u001b[36m\u001b[1mInfo: \u001b[22m\u001b[39mϕ=1, PSIS\n",
      "\u001b[36m\u001b[1m[ \u001b[22m\u001b[39m\u001b[36m\u001b[1mInfo: \u001b[22m\u001b[39mLeaving g=19 out\n",
      "\u001b[36m\u001b[1m[ \u001b[22m\u001b[39m\u001b[36m\u001b[1mInfo: \u001b[22m\u001b[39mϕ=1, PSIS\n",
      "\u001b[36m\u001b[1m[ \u001b[22m\u001b[39m\u001b[36m\u001b[1mInfo: \u001b[22m\u001b[39mLeaving g=20 out\n"
     ]
    },
    {
     "data": {
      "text/plain": [
       "Results of univariate zero finding:\n",
       "\n",
       "* Converged to: 0.7064101562499998\n",
       "* Algorithm: Bisection()\n",
       "* iterations: 10\n",
       "* function evaluations ≈ 13\n",
       "\n",
       "Trace:\n",
       "(a₀, b₀) = ( 0.010306249999999999, 1 )\n",
       "(a₁, b₁) = ( 0.103725, 1 )\n",
       "(a₂, b₂) = ( 0.33244999999999997, 1 )\n",
       "(a₃, b₃) = ( 0.58244999999999991, 1 )\n",
       "(a₄, b₄) = ( 0.58244999999999991, 0.79122499999999996 )\n",
       "(a₅, b₅) = ( 0.68683749999999988, 0.79122499999999996 )\n",
       "(a₆, b₆) = ( 0.68683749999999988, 0.73903124999999992 )\n",
       "(a₇, b₇) = ( 0.68683749999999988, 0.7129343749999999 )\n",
       "(a₈, b₈) = ( 0.69988593749999983, 0.7129343749999999 )\n",
       "(a₉, b₉) = ( 0.69988593749999983, 0.70641015624999981 )\n",
       "(a₁₀, b₁₀) = ( 0.70314804687499977, 0.70641015624999981 )\n",
       "\n"
      ]
     },
     "metadata": {},
     "output_type": "display_data"
    },
    {
     "name": "stderr",
     "output_type": "stream",
     "text": [
      "\u001b[36m\u001b[1m[ \u001b[22m\u001b[39m\u001b[36m\u001b[1mInfo: \u001b[22m\u001b[39mTargeting ϕ=0.7064101562499998\n",
      "\u001b[32mProgress: 100%|█████████████████████████████████████████| Time: 0:03:14\u001b[39m\n",
      "\u001b[36m\u001b[1m[ \u001b[22m\u001b[39m\u001b[36m\u001b[1mInfo: \u001b[22m\u001b[39mϕ=1, PSIS\n",
      "\u001b[36m\u001b[1m[ \u001b[22m\u001b[39m\u001b[36m\u001b[1mInfo: \u001b[22m\u001b[39mLeaving g=21 out\n",
      "\u001b[36m\u001b[1m[ \u001b[22m\u001b[39m\u001b[36m\u001b[1mInfo: \u001b[22m\u001b[39mϕ=1, PSIS\n",
      "\u001b[36m\u001b[1m[ \u001b[22m\u001b[39m\u001b[36m\u001b[1mInfo: \u001b[22m\u001b[39mLeaving g=22 out\n",
      "\u001b[36m\u001b[1m[ \u001b[22m\u001b[39m\u001b[36m\u001b[1mInfo: \u001b[22m\u001b[39mϕ=1, PSIS\n",
      "\u001b[36m\u001b[1m[ \u001b[22m\u001b[39m\u001b[36m\u001b[1mInfo: \u001b[22m\u001b[39mLeaving g=23 out\n"
     ]
    },
    {
     "data": {
      "text/plain": [
       "Results of univariate zero finding:\n",
       "\n",
       "* Converged to: 0.9641167968749998\n",
       "* Algorithm: Bisection()\n",
       "* iterations: 10\n",
       "* function evaluations ≈ 13\n",
       "\n",
       "Trace:\n",
       "(a₀, b₀) = ( 0.010306249999999999, 1 )\n",
       "(a₁, b₁) = ( 0.103725, 1 )\n",
       "(a₂, b₂) = ( 0.33244999999999997, 1 )\n",
       "(a₃, b₃) = ( 0.58244999999999991, 1 )\n",
       "(a₄, b₄) = ( 0.79122499999999996, 1 )\n",
       "(a₅, b₅) = ( 0.89561249999999992, 1 )\n",
       "(a₆, b₆) = ( 0.94780624999999996, 1 )\n",
       "(a₇, b₇) = ( 0.94780624999999996, 0.97390312499999998 )\n",
       "(a₈, b₈) = ( 0.96085468749999992, 0.97390312499999998 )\n",
       "(a₉, b₉) = ( 0.96085468749999992, 0.96737890624999989 )\n",
       "(a₁₀, b₁₀) = ( 0.96085468749999992, 0.96411679687499985 )\n",
       "\n"
      ]
     },
     "metadata": {},
     "output_type": "display_data"
    },
    {
     "name": "stderr",
     "output_type": "stream",
     "text": [
      "\u001b[36m\u001b[1m[ \u001b[22m\u001b[39m\u001b[36m\u001b[1mInfo: \u001b[22m\u001b[39mTargeting ϕ=0.9641167968749998\n",
      "\u001b[32mProgress: 100%|█████████████████████████████████████████| Time: 0:03:15\u001b[39m\n",
      "\u001b[36m\u001b[1m[ \u001b[22m\u001b[39m\u001b[36m\u001b[1mInfo: \u001b[22m\u001b[39mϕ=1, PSIS\n",
      "\u001b[36m\u001b[1m[ \u001b[22m\u001b[39m\u001b[36m\u001b[1mInfo: \u001b[22m\u001b[39mLeaving g=24 out\n"
     ]
    },
    {
     "data": {
      "text/plain": [
       "Results of univariate zero finding:\n",
       "\n",
       "* Converged to: 0.7390312499999999\n",
       "* Algorithm: Bisection()\n",
       "* iterations: 10\n",
       "* function evaluations ≈ 13\n",
       "\n",
       "Trace:\n",
       "(a₀, b₀) = ( 0.010306249999999999, 1 )\n",
       "(a₁, b₁) = ( 0.103725, 1 )\n",
       "(a₂, b₂) = ( 0.33244999999999997, 1 )\n",
       "(a₃, b₃) = ( 0.58244999999999991, 1 )\n",
       "(a₄, b₄) = ( 0.58244999999999991, 0.79122499999999996 )\n",
       "(a₅, b₅) = ( 0.68683749999999988, 0.79122499999999996 )\n",
       "(a₆, b₆) = ( 0.73903124999999992, 0.79122499999999996 )\n",
       "(a₇, b₇) = ( 0.73903124999999992, 0.76512812499999994 )\n",
       "(a₈, b₈) = ( 0.73903124999999992, 0.75207968749999987 )\n",
       "(a₉, b₉) = ( 0.73903124999999992, 0.74555546874999989 )\n",
       "(a₁₀, b₁₀) = ( 0.73903124999999992, 0.74229335937499985 )\n",
       "\n"
      ]
     },
     "metadata": {},
     "output_type": "display_data"
    },
    {
     "name": "stderr",
     "output_type": "stream",
     "text": [
      "\u001b[36m\u001b[1m[ \u001b[22m\u001b[39m\u001b[36m\u001b[1mInfo: \u001b[22m\u001b[39mTargeting ϕ=0.7390312499999999\n",
      "\u001b[32mProgress: 100%|█████████████████████████████████████████| Time: 0:03:18\u001b[39m\n",
      "\u001b[36m\u001b[1m[ \u001b[22m\u001b[39m\u001b[36m\u001b[1mInfo: \u001b[22m\u001b[39mϕ=1, PSIS\n",
      "\u001b[36m\u001b[1m[ \u001b[22m\u001b[39m\u001b[36m\u001b[1mInfo: \u001b[22m\u001b[39mLeaving g=25 out\n"
     ]
    },
    {
     "data": {
      "text/plain": [
       "Results of univariate zero finding:\n",
       "\n",
       "* Converged to: 0.8238460937499998\n",
       "* Algorithm: Bisection()\n",
       "* iterations: 10\n",
       "* function evaluations ≈ 13\n",
       "\n",
       "Trace:\n",
       "(a₀, b₀) = ( 0.010306249999999999, 1 )\n",
       "(a₁, b₁) = ( 0.103725, 1 )\n",
       "(a₂, b₂) = ( 0.33244999999999997, 1 )\n",
       "(a₃, b₃) = ( 0.58244999999999991, 1 )\n",
       "(a₄, b₄) = ( 0.79122499999999996, 1 )\n",
       "(a₅, b₅) = ( 0.79122499999999996, 0.89561249999999992 )\n",
       "(a₆, b₆) = ( 0.79122499999999996, 0.84341874999999988 )\n",
       "(a₇, b₇) = ( 0.81732187499999986, 0.84341874999999988 )\n",
       "(a₈, b₈) = ( 0.81732187499999986, 0.83037031249999982 )\n",
       "(a₉, b₉) = ( 0.81732187499999986, 0.82384609374999984 )\n",
       "(a₁₀, b₁₀) = ( 0.8205839843749998, 0.82384609374999984 )\n",
       "\n"
      ]
     },
     "metadata": {},
     "output_type": "display_data"
    },
    {
     "name": "stderr",
     "output_type": "stream",
     "text": [
      "\u001b[36m\u001b[1m[ \u001b[22m\u001b[39m\u001b[36m\u001b[1mInfo: \u001b[22m\u001b[39mTargeting ϕ=0.8238460937499998\n",
      "\u001b[32mProgress: 100%|█████████████████████████████████████████| Time: 0:03:13\u001b[39m\n",
      "\u001b[36m\u001b[1m[ \u001b[22m\u001b[39m\u001b[36m\u001b[1mInfo: \u001b[22m\u001b[39mϕ=1, PSIS\n",
      "\u001b[36m\u001b[1m[ \u001b[22m\u001b[39m\u001b[36m\u001b[1mInfo: \u001b[22m\u001b[39mLeaving g=26 out\n",
      "\u001b[36m\u001b[1m[ \u001b[22m\u001b[39m\u001b[36m\u001b[1mInfo: \u001b[22m\u001b[39mϕ=1, PSIS\n",
      "\u001b[36m\u001b[1m[ \u001b[22m\u001b[39m\u001b[36m\u001b[1mInfo: \u001b[22m\u001b[39mLeaving g=27 out\n",
      "\u001b[36m\u001b[1m[ \u001b[22m\u001b[39m\u001b[36m\u001b[1mInfo: \u001b[22m\u001b[39mϕ=1, PSIS\n",
      "\u001b[36m\u001b[1m[ \u001b[22m\u001b[39m\u001b[36m\u001b[1mInfo: \u001b[22m\u001b[39mLeaving g=28 out\n"
     ]
    },
    {
     "data": {
      "text/plain": [
       "Results of univariate zero finding:\n",
       "\n",
       "* Converged to: 0.8629914062499998\n",
       "* Algorithm: Bisection()\n",
       "* iterations: 10\n",
       "* function evaluations ≈ 13\n",
       "\n",
       "Trace:\n",
       "(a₀, b₀) = ( 0.010306249999999999, 1 )\n",
       "(a₁, b₁) = ( 0.103725, 1 )\n",
       "(a₂, b₂) = ( 0.33244999999999997, 1 )\n",
       "(a₃, b₃) = ( 0.58244999999999991, 1 )\n",
       "(a₄, b₄) = ( 0.79122499999999996, 1 )\n",
       "(a₅, b₅) = ( 0.79122499999999996, 0.89561249999999992 )\n",
       "(a₆, b₆) = ( 0.84341874999999988, 0.89561249999999992 )\n",
       "(a₇, b₇) = ( 0.84341874999999988, 0.8695156249999999 )\n",
       "(a₈, b₈) = ( 0.85646718749999984, 0.8695156249999999 )\n",
       "(a₉, b₉) = ( 0.86299140624999982, 0.8695156249999999 )\n",
       "(a₁₀, b₁₀) = ( 0.86299140624999982, 0.86625351562499986 )\n",
       "\n"
      ]
     },
     "metadata": {},
     "output_type": "display_data"
    },
    {
     "name": "stderr",
     "output_type": "stream",
     "text": [
      "\u001b[36m\u001b[1m[ \u001b[22m\u001b[39m\u001b[36m\u001b[1mInfo: \u001b[22m\u001b[39mTargeting ϕ=0.8629914062499998\n",
      "\u001b[32mProgress: 100%|█████████████████████████████████████████| Time: 0:03:18\u001b[39m\n",
      "\u001b[36m\u001b[1m[ \u001b[22m\u001b[39m\u001b[36m\u001b[1mInfo: \u001b[22m\u001b[39mϕ=1, PSIS\n",
      "\u001b[36m\u001b[1m[ \u001b[22m\u001b[39m\u001b[36m\u001b[1mInfo: \u001b[22m\u001b[39mLeaving g=29 out\n",
      "\u001b[36m\u001b[1m[ \u001b[22m\u001b[39m\u001b[36m\u001b[1mInfo: \u001b[22m\u001b[39mϕ=1, PSIS\n",
      "\u001b[36m\u001b[1m[ \u001b[22m\u001b[39m\u001b[36m\u001b[1mInfo: \u001b[22m\u001b[39mLeaving g=30 out\n",
      "\u001b[36m\u001b[1m[ \u001b[22m\u001b[39m\u001b[36m\u001b[1mInfo: \u001b[22m\u001b[39mϕ=1, PSIS\n",
      "\u001b[36m\u001b[1m[ \u001b[22m\u001b[39m\u001b[36m\u001b[1mInfo: \u001b[22m\u001b[39mLeaving g=31 out\n"
     ]
    },
    {
     "data": {
      "text/plain": [
       "Results of univariate zero finding:\n",
       "\n",
       "* Converged to: 0.4955554687499999\n",
       "* Algorithm: Bisection()\n",
       "* iterations: 10\n",
       "* function evaluations ≈ 13\n",
       "\n",
       "Trace:\n",
       "(a₀, b₀) = ( 0.010306249999999999, 1 )\n",
       "(a₁, b₁) = ( 0.103725, 1 )\n",
       "(a₂, b₂) = ( 0.33244999999999997, 1 )\n",
       "(a₃, b₃) = ( 0.33244999999999997, 0.58244999999999991 )\n",
       "(a₄, b₄) = ( 0.43683749999999993, 0.58244999999999991 )\n",
       "(a₅, b₅) = ( 0.48903124999999992, 0.58244999999999991 )\n",
       "(a₆, b₆) = ( 0.48903124999999992, 0.53025624999999987 )\n",
       "(a₇, b₇) = ( 0.48903124999999992, 0.50415937499999985 )\n",
       "(a₈, b₈) = ( 0.48903124999999992, 0.49555546874999989 )\n",
       "(a₉, b₉) = ( 0.49229335937499991, 0.49555546874999989 )\n",
       "(a₁₀, b₁₀) = ( 0.49392441406249987, 0.49555546874999989 )\n",
       "\n"
      ]
     },
     "metadata": {},
     "output_type": "display_data"
    },
    {
     "name": "stderr",
     "output_type": "stream",
     "text": [
      "\u001b[36m\u001b[1m[ \u001b[22m\u001b[39m\u001b[36m\u001b[1mInfo: \u001b[22m\u001b[39mTargeting ϕ=0.4955554687499999\n",
      "\u001b[32mProgress: 100%|█████████████████████████████████████████| Time: 0:03:13\u001b[39m\n"
     ]
    },
    {
     "data": {
      "text/plain": [
       "Results of univariate zero finding:\n",
       "\n",
       "* Converged to: 0.8902145675659179\n",
       "* Algorithm: Bisection()\n",
       "* iterations: 10\n",
       "* function evaluations ≈ 13\n",
       "\n",
       "Trace:\n",
       "(a₀, b₀) = ( 0.74565546874999988, 1 )\n",
       "(a₁, b₁) = ( 0.87282773437499994, 1 )\n",
       "(a₂, b₂) = ( 0.87282773437499994, 0.93641386718749997 )\n",
       "(a₃, b₃) = ( 0.87282773437499994, 0.90462080078124996 )\n",
       "(a₄, b₄) = ( 0.88872426757812495, 0.90462080078124996 )\n",
       "(a₅, b₅) = ( 0.88872426757812495, 0.8966725341796874 )\n",
       "(a₆, b₆) = ( 0.88872426757812495, 0.89269840087890617 )\n",
       "(a₇, b₇) = ( 0.88872426757812495, 0.89071133422851556 )\n",
       "(a₈, b₈) = ( 0.8897178009033202, 0.89071133422851556 )\n",
       "(a₉, b₉) = ( 0.89021456756591788, 0.89071133422851556 )\n",
       "(a₁₀, b₁₀) = ( 0.89021456756591788, 0.89046295089721672 )\n",
       "\n"
      ]
     },
     "metadata": {},
     "output_type": "display_data"
    },
    {
     "name": "stderr",
     "output_type": "stream",
     "text": [
      "\u001b[36m\u001b[1m[ \u001b[22m\u001b[39m\u001b[36m\u001b[1mInfo: \u001b[22m\u001b[39mTargeting ϕ=0.8902145675659179\n",
      "\u001b[32mProgress: 100%|█████████████████████████████████████████| Time: 0:03:14\u001b[39m\n",
      "\u001b[36m\u001b[1m[ \u001b[22m\u001b[39m\u001b[36m\u001b[1mInfo: \u001b[22m\u001b[39mϕ=1, PSIS\n",
      "\u001b[36m\u001b[1m[ \u001b[22m\u001b[39m\u001b[36m\u001b[1mInfo: \u001b[22m\u001b[39mLeaving g=32 out\n",
      "\u001b[36m\u001b[1m[ \u001b[22m\u001b[39m\u001b[36m\u001b[1mInfo: \u001b[22m\u001b[39mϕ=1, PSIS\n",
      "\u001b[36m\u001b[1m[ \u001b[22m\u001b[39m\u001b[36m\u001b[1mInfo: \u001b[22m\u001b[39mLeaving g=33 out\n"
     ]
    },
    {
     "data": {
      "text/plain": [
       "Results of univariate zero finding:\n",
       "\n",
       "* Converged to: 0.8075355468749998\n",
       "* Algorithm: Bisection()\n",
       "* iterations: 10\n",
       "* function evaluations ≈ 13\n",
       "\n",
       "Trace:\n",
       "(a₀, b₀) = ( 0.010306249999999999, 1 )\n",
       "(a₁, b₁) = ( 0.103725, 1 )\n",
       "(a₂, b₂) = ( 0.33244999999999997, 1 )\n",
       "(a₃, b₃) = ( 0.58244999999999991, 1 )\n",
       "(a₄, b₄) = ( 0.79122499999999996, 1 )\n",
       "(a₅, b₅) = ( 0.79122499999999996, 0.89561249999999992 )\n",
       "(a₆, b₆) = ( 0.79122499999999996, 0.84341874999999988 )\n",
       "(a₇, b₇) = ( 0.79122499999999996, 0.81732187499999986 )\n",
       "(a₈, b₈) = ( 0.80427343749999991, 0.81732187499999986 )\n",
       "(a₉, b₉) = ( 0.80427343749999991, 0.81079765624999989 )\n",
       "(a₁₀, b₁₀) = ( 0.80753554687499984, 0.81079765624999989 )\n",
       "\n"
      ]
     },
     "metadata": {},
     "output_type": "display_data"
    },
    {
     "name": "stderr",
     "output_type": "stream",
     "text": [
      "\u001b[36m\u001b[1m[ \u001b[22m\u001b[39m\u001b[36m\u001b[1mInfo: \u001b[22m\u001b[39mTargeting ϕ=0.8075355468749998\n",
      "\u001b[32mProgress: 100%|█████████████████████████████████████████| Time: 0:03:16\u001b[39m\n",
      "\u001b[36m\u001b[1m[ \u001b[22m\u001b[39m\u001b[36m\u001b[1mInfo: \u001b[22m\u001b[39mϕ=1, PSIS\n",
      "\u001b[36m\u001b[1m[ \u001b[22m\u001b[39m\u001b[36m\u001b[1mInfo: \u001b[22m\u001b[39mLeaving g=34 out\n",
      "\u001b[36m\u001b[1m[ \u001b[22m\u001b[39m\u001b[36m\u001b[1mInfo: \u001b[22m\u001b[39mϕ=1, PSIS\n",
      "\u001b[36m\u001b[1m[ \u001b[22m\u001b[39m\u001b[36m\u001b[1mInfo: \u001b[22m\u001b[39mLeaving g=35 out\n",
      "\u001b[36m\u001b[1m[ \u001b[22m\u001b[39m\u001b[36m\u001b[1mInfo: \u001b[22m\u001b[39mϕ=1, PSIS\n",
      "\u001b[36m\u001b[1m[ \u001b[22m\u001b[39m\u001b[36m\u001b[1mInfo: \u001b[22m\u001b[39mLeaving g=36 out\n"
     ]
    },
    {
     "data": {
      "text/plain": [
       "Results of univariate zero finding:\n",
       "\n",
       "* Converged to: 0.6248574218749997\n",
       "* Algorithm: Bisection()\n",
       "* iterations: 10\n",
       "* function evaluations ≈ 13\n",
       "\n",
       "Trace:\n",
       "(a₀, b₀) = ( 0.010306249999999999, 1 )\n",
       "(a₁, b₁) = ( 0.103725, 1 )\n",
       "(a₂, b₂) = ( 0.33244999999999997, 1 )\n",
       "(a₃, b₃) = ( 0.58244999999999991, 1 )\n",
       "(a₄, b₄) = ( 0.58244999999999991, 0.79122499999999996 )\n",
       "(a₅, b₅) = ( 0.58244999999999991, 0.68683749999999988 )\n",
       "(a₆, b₆) = ( 0.58244999999999991, 0.63464374999999984 )\n",
       "(a₇, b₇) = ( 0.60854687499999982, 0.63464374999999984 )\n",
       "(a₈, b₈) = ( 0.62159531249999977, 0.63464374999999984 )\n",
       "(a₉, b₉) = ( 0.62159531249999977, 0.62811953124999975 )\n",
       "(a₁₀, b₁₀) = ( 0.62159531249999977, 0.62485742187499971 )\n",
       "\n"
      ]
     },
     "metadata": {},
     "output_type": "display_data"
    },
    {
     "name": "stderr",
     "output_type": "stream",
     "text": [
      "\u001b[36m\u001b[1m[ \u001b[22m\u001b[39m\u001b[36m\u001b[1mInfo: \u001b[22m\u001b[39mTargeting ϕ=0.6248574218749997\n",
      "\u001b[32mProgress: 100%|█████████████████████████████████████████| Time: 0:03:12\u001b[39m\n",
      "\u001b[36m\u001b[1m[ \u001b[22m\u001b[39m\u001b[36m\u001b[1mInfo: \u001b[22m\u001b[39mϕ=1, PSIS\n",
      "\u001b[36m\u001b[1m[ \u001b[22m\u001b[39m\u001b[36m\u001b[1mInfo: \u001b[22m\u001b[39mLeaving g=37 out\n",
      "\u001b[36m\u001b[1m[ \u001b[22m\u001b[39m\u001b[36m\u001b[1mInfo: \u001b[22m\u001b[39mϕ=1, PSIS\n",
      "\u001b[36m\u001b[1m[ \u001b[22m\u001b[39m\u001b[36m\u001b[1mInfo: \u001b[22m\u001b[39mLeaving g=38 out\n",
      "\u001b[36m\u001b[1m[ \u001b[22m\u001b[39m\u001b[36m\u001b[1mInfo: \u001b[22m\u001b[39mϕ=1, PSIS\n",
      "\u001b[36m\u001b[1m[ \u001b[22m\u001b[39m\u001b[36m\u001b[1mInfo: \u001b[22m\u001b[39mLeaving g=39 out\n"
     ]
    },
    {
     "data": {
      "text/plain": [
       "Results of univariate zero finding:\n",
       "\n",
       "* Converged to: 0.6607406249999999\n",
       "* Algorithm: Bisection()\n",
       "* iterations: 10\n",
       "* function evaluations ≈ 13\n",
       "\n",
       "Trace:\n",
       "(a₀, b₀) = ( 0.010306249999999999, 1 )\n",
       "(a₁, b₁) = ( 0.103725, 1 )\n",
       "(a₂, b₂) = ( 0.33244999999999997, 1 )\n",
       "(a₃, b₃) = ( 0.58244999999999991, 1 )\n",
       "(a₄, b₄) = ( 0.58244999999999991, 0.79122499999999996 )\n",
       "(a₅, b₅) = ( 0.58244999999999991, 0.68683749999999988 )\n",
       "(a₆, b₆) = ( 0.63464374999999984, 0.68683749999999988 )\n",
       "(a₇, b₇) = ( 0.63464374999999984, 0.66074062499999986 )\n",
       "(a₈, b₈) = ( 0.64769218749999979, 0.66074062499999986 )\n",
       "(a₉, b₉) = ( 0.65421640624999977, 0.66074062499999986 )\n",
       "(a₁₀, b₁₀) = ( 0.65747851562499982, 0.66074062499999986 )\n",
       "\n"
      ]
     },
     "metadata": {},
     "output_type": "display_data"
    },
    {
     "name": "stderr",
     "output_type": "stream",
     "text": [
      "\u001b[36m\u001b[1m[ \u001b[22m\u001b[39m\u001b[36m\u001b[1mInfo: \u001b[22m\u001b[39mTargeting ϕ=0.6607406249999999\n",
      "\u001b[32mProgress: 100%|█████████████████████████████████████████| Time: 0:03:10\u001b[39m\n",
      "\u001b[36m\u001b[1m[ \u001b[22m\u001b[39m\u001b[36m\u001b[1mInfo: \u001b[22m\u001b[39mϕ=1, PSIS\n",
      "\u001b[36m\u001b[1m[ \u001b[22m\u001b[39m\u001b[36m\u001b[1mInfo: \u001b[22m\u001b[39mLeaving g=40 out\n"
     ]
    },
    {
     "data": {
      "text/plain": [
       "Results of univariate zero finding:\n",
       "\n",
       "* Converged to: 0.7814386718749998\n",
       "* Algorithm: Bisection()\n",
       "* iterations: 10\n",
       "* function evaluations ≈ 13\n",
       "\n",
       "Trace:\n",
       "(a₀, b₀) = ( 0.010306249999999999, 1 )\n",
       "(a₁, b₁) = ( 0.103725, 1 )\n",
       "(a₂, b₂) = ( 0.33244999999999997, 1 )\n",
       "(a₃, b₃) = ( 0.58244999999999991, 1 )\n",
       "(a₄, b₄) = ( 0.58244999999999991, 0.79122499999999996 )\n",
       "(a₅, b₅) = ( 0.68683749999999988, 0.79122499999999996 )\n",
       "(a₆, b₆) = ( 0.73903124999999992, 0.79122499999999996 )\n",
       "(a₇, b₇) = ( 0.76512812499999994, 0.79122499999999996 )\n",
       "(a₈, b₈) = ( 0.77817656249999989, 0.79122499999999996 )\n",
       "(a₉, b₉) = ( 0.77817656249999989, 0.78470078124999987 )\n",
       "(a₁₀, b₁₀) = ( 0.77817656249999989, 0.78143867187499982 )\n",
       "\n"
      ]
     },
     "metadata": {},
     "output_type": "display_data"
    },
    {
     "name": "stderr",
     "output_type": "stream",
     "text": [
      "\u001b[36m\u001b[1m[ \u001b[22m\u001b[39m\u001b[36m\u001b[1mInfo: \u001b[22m\u001b[39mTargeting ϕ=0.7814386718749998\n",
      "\u001b[32mProgress: 100%|█████████████████████████████████████████| Time: 0:03:11\u001b[39m\n",
      "\u001b[36m\u001b[1m[ \u001b[22m\u001b[39m\u001b[36m\u001b[1mInfo: \u001b[22m\u001b[39mϕ=1, PSIS\n",
      "\u001b[36m\u001b[1m[ \u001b[22m\u001b[39m\u001b[36m\u001b[1mInfo: \u001b[22m\u001b[39mLeaving g=41 out\n"
     ]
    },
    {
     "data": {
      "text/plain": [
       "Results of univariate zero finding:\n",
       "\n",
       "* Converged to: 0.6150710937499998\n",
       "* Algorithm: Bisection()\n",
       "* iterations: 10\n",
       "* function evaluations ≈ 13\n",
       "\n",
       "Trace:\n",
       "(a₀, b₀) = ( 0.010306249999999999, 1 )\n",
       "(a₁, b₁) = ( 0.103725, 1 )\n",
       "(a₂, b₂) = ( 0.33244999999999997, 1 )\n",
       "(a₃, b₃) = ( 0.58244999999999991, 1 )\n",
       "(a₄, b₄) = ( 0.58244999999999991, 0.79122499999999996 )\n",
       "(a₅, b₅) = ( 0.58244999999999991, 0.68683749999999988 )\n",
       "(a₆, b₆) = ( 0.58244999999999991, 0.63464374999999984 )\n",
       "(a₇, b₇) = ( 0.60854687499999982, 0.63464374999999984 )\n",
       "(a₈, b₈) = ( 0.60854687499999982, 0.62159531249999977 )\n",
       "(a₉, b₉) = ( 0.6150710937499998, 0.62159531249999977 )\n",
       "(a₁₀, b₁₀) = ( 0.6150710937499998, 0.61833320312499973 )\n",
       "\n"
      ]
     },
     "metadata": {},
     "output_type": "display_data"
    },
    {
     "name": "stderr",
     "output_type": "stream",
     "text": [
      "\u001b[36m\u001b[1m[ \u001b[22m\u001b[39m\u001b[36m\u001b[1mInfo: \u001b[22m\u001b[39mTargeting ϕ=0.6150710937499998\n",
      "\u001b[32mProgress: 100%|█████████████████████████████████████████| Time: 0:03:14\u001b[39m\n",
      "\u001b[36m\u001b[1m[ \u001b[22m\u001b[39m\u001b[36m\u001b[1mInfo: \u001b[22m\u001b[39mϕ=1, PSIS\n",
      "\u001b[36m\u001b[1m[ \u001b[22m\u001b[39m\u001b[36m\u001b[1mInfo: \u001b[22m\u001b[39mLeaving g=42 out\n",
      "\u001b[36m\u001b[1m[ \u001b[22m\u001b[39m\u001b[36m\u001b[1mInfo: \u001b[22m\u001b[39mϕ=1, PSIS\n",
      "\u001b[36m\u001b[1m[ \u001b[22m\u001b[39m\u001b[36m\u001b[1mInfo: \u001b[22m\u001b[39mLeaving g=43 out\n",
      "\u001b[36m\u001b[1m[ \u001b[22m\u001b[39m\u001b[36m\u001b[1mInfo: \u001b[22m\u001b[39mϕ=1, PSIS\n",
      "\u001b[36m\u001b[1m[ \u001b[22m\u001b[39m\u001b[36m\u001b[1mInfo: \u001b[22m\u001b[39mLeaving g=44 out\n",
      "\u001b[36m\u001b[1m[ \u001b[22m\u001b[39m\u001b[36m\u001b[1mInfo: \u001b[22m\u001b[39mϕ=1, PSIS\n",
      "\u001b[36m\u001b[1m[ \u001b[22m\u001b[39m\u001b[36m\u001b[1mInfo: \u001b[22m\u001b[39mLeaving g=45 out\n",
      "\u001b[36m\u001b[1m[ \u001b[22m\u001b[39m\u001b[36m\u001b[1mInfo: \u001b[22m\u001b[39mϕ=1, PSIS\n",
      "\u001b[36m\u001b[1m[ \u001b[22m\u001b[39m\u001b[36m\u001b[1mInfo: \u001b[22m\u001b[39mLeaving g=46 out\n",
      "\u001b[36m\u001b[1m[ \u001b[22m\u001b[39m\u001b[36m\u001b[1mInfo: \u001b[22m\u001b[39mϕ=1, PSIS\n",
      "\u001b[36m\u001b[1m[ \u001b[22m\u001b[39m\u001b[36m\u001b[1mInfo: \u001b[22m\u001b[39mLeaving g=47 out\n"
     ]
    },
    {
     "data": {
      "text/plain": [
       "Results of univariate zero finding:\n",
       "\n",
       "* Converged to: 0.4661964843749999\n",
       "* Algorithm: Bisection()\n",
       "* iterations: 10\n",
       "* function evaluations ≈ 13\n",
       "\n",
       "Trace:\n",
       "(a₀, b₀) = ( 0.010306249999999999, 1 )\n",
       "(a₁, b₁) = ( 0.103725, 1 )\n",
       "(a₂, b₂) = ( 0.33244999999999997, 1 )\n",
       "(a₃, b₃) = ( 0.33244999999999997, 0.58244999999999991 )\n",
       "(a₄, b₄) = ( 0.43683749999999993, 0.58244999999999991 )\n",
       "(a₅, b₅) = ( 0.43683749999999993, 0.48903124999999992 )\n",
       "(a₆, b₆) = ( 0.4629343749999999, 0.48903124999999992 )\n",
       "(a₇, b₇) = ( 0.4629343749999999, 0.47598281249999991 )\n",
       "(a₈, b₈) = ( 0.4629343749999999, 0.46945859374999988 )\n",
       "(a₉, b₉) = ( 0.4629343749999999, 0.46619648437499989 )\n",
       "(a₁₀, b₁₀) = ( 0.46456542968749986, 0.46619648437499989 )\n",
       "\n"
      ]
     },
     "metadata": {},
     "output_type": "display_data"
    },
    {
     "name": "stderr",
     "output_type": "stream",
     "text": [
      "\u001b[36m\u001b[1m[ \u001b[22m\u001b[39m\u001b[36m\u001b[1mInfo: \u001b[22m\u001b[39mTargeting ϕ=0.4661964843749999\n",
      "\u001b[32mProgress: 100%|█████████████████████████████████████████| Time: 0:03:10\u001b[39m\n"
     ]
    },
    {
     "data": {
      "text/plain": [
       "Results of univariate zero finding:\n",
       "\n",
       "* Converged to: 0.8611958385467527\n",
       "* Algorithm: Bisection()\n",
       "* iterations: 10\n",
       "* function evaluations ≈ 13\n",
       "\n",
       "Trace:\n",
       "(a₀, b₀) = ( 0.71629648437499982, 1 )\n",
       "(a₁, b₁) = ( 0.85814824218749985, 1 )\n",
       "(a₂, b₂) = ( 0.85814824218749985, 0.92907412109374987 )\n",
       "(a₃, b₃) = ( 0.85814824218749985, 0.89361118164062481 )\n",
       "(a₄, b₄) = ( 0.85814824218749985, 0.87587971191406233 )\n",
       "(a₅, b₅) = ( 0.85814824218749985, 0.86701397705078109 )\n",
       "(a₆, b₆) = ( 0.85814824218749985, 0.86258110961914047 )\n",
       "(a₇, b₇) = ( 0.86036467590332011, 0.86258110961914047 )\n",
       "(a₈, b₈) = ( 0.86036467590332011, 0.86147289276123029 )\n",
       "(a₉, b₉) = ( 0.8609187843322752, 0.86147289276123029 )\n",
       "(a₁₀, b₁₀) = ( 0.86119583854675275, 0.86147289276123029 )\n",
       "\n"
      ]
     },
     "metadata": {},
     "output_type": "display_data"
    },
    {
     "name": "stderr",
     "output_type": "stream",
     "text": [
      "\u001b[36m\u001b[1m[ \u001b[22m\u001b[39m\u001b[36m\u001b[1mInfo: \u001b[22m\u001b[39mTargeting ϕ=0.8611958385467527\n",
      "\u001b[32mProgress: 100%|█████████████████████████████████████████| Time: 0:03:12\u001b[39m\n",
      "\u001b[36m\u001b[1m[ \u001b[22m\u001b[39m\u001b[36m\u001b[1mInfo: \u001b[22m\u001b[39mϕ=1, PSIS\n",
      "\u001b[36m\u001b[1m[ \u001b[22m\u001b[39m\u001b[36m\u001b[1mInfo: \u001b[22m\u001b[39mLeaving g=48 out\n",
      "\u001b[36m\u001b[1m[ \u001b[22m\u001b[39m\u001b[36m\u001b[1mInfo: \u001b[22m\u001b[39mϕ=1, PSIS\n",
      "\u001b[36m\u001b[1m[ \u001b[22m\u001b[39m\u001b[36m\u001b[1mInfo: \u001b[22m\u001b[39mLeaving g=49 out\n"
     ]
    },
    {
     "data": {
      "text/plain": [
       "Results of univariate zero finding:\n",
       "\n",
       "* Converged to: 0.9249714843749999\n",
       "* Algorithm: Bisection()\n",
       "* iterations: 10\n",
       "* function evaluations ≈ 13\n",
       "\n",
       "Trace:\n",
       "(a₀, b₀) = ( 0.010306249999999999, 1 )\n",
       "(a₁, b₁) = ( 0.103725, 1 )\n",
       "(a₂, b₂) = ( 0.33244999999999997, 1 )\n",
       "(a₃, b₃) = ( 0.58244999999999991, 1 )\n",
       "(a₄, b₄) = ( 0.79122499999999996, 1 )\n",
       "(a₅, b₅) = ( 0.89561249999999992, 1 )\n",
       "(a₆, b₆) = ( 0.89561249999999992, 0.94780624999999996 )\n",
       "(a₇, b₇) = ( 0.92170937499999994, 0.94780624999999996 )\n",
       "(a₈, b₈) = ( 0.92170937499999994, 0.9347578124999999 )\n",
       "(a₉, b₉) = ( 0.92170937499999994, 0.92823359374999992 )\n",
       "(a₁₀, b₁₀) = ( 0.92170937499999994, 0.92497148437499987 )\n",
       "\n"
      ]
     },
     "metadata": {},
     "output_type": "display_data"
    },
    {
     "name": "stderr",
     "output_type": "stream",
     "text": [
      "\u001b[36m\u001b[1m[ \u001b[22m\u001b[39m\u001b[36m\u001b[1mInfo: \u001b[22m\u001b[39mTargeting ϕ=0.9249714843749999\n",
      "\u001b[32mProgress: 100%|█████████████████████████████████████████| Time: 0:03:09\u001b[39m\n",
      "\u001b[36m\u001b[1m[ \u001b[22m\u001b[39m\u001b[36m\u001b[1mInfo: \u001b[22m\u001b[39mϕ=1, PSIS\n",
      "\u001b[36m\u001b[1m[ \u001b[22m\u001b[39m\u001b[36m\u001b[1mInfo: \u001b[22m\u001b[39mLeaving g=50 out\n"
     ]
    },
    {
     "data": {
      "text/plain": [
       "Results of univariate zero finding:\n",
       "\n",
       "* Converged to: 0.6770511718749997\n",
       "* Algorithm: Bisection()\n",
       "* iterations: 10\n",
       "* function evaluations ≈ 13\n",
       "\n",
       "Trace:\n",
       "(a₀, b₀) = ( 0.010306249999999999, 1 )\n",
       "(a₁, b₁) = ( 0.103725, 1 )\n",
       "(a₂, b₂) = ( 0.33244999999999997, 1 )\n",
       "(a₃, b₃) = ( 0.58244999999999991, 1 )\n",
       "(a₄, b₄) = ( 0.58244999999999991, 0.79122499999999996 )\n",
       "(a₅, b₅) = ( 0.58244999999999991, 0.68683749999999988 )\n",
       "(a₆, b₆) = ( 0.63464374999999984, 0.68683749999999988 )\n",
       "(a₇, b₇) = ( 0.66074062499999986, 0.68683749999999988 )\n",
       "(a₈, b₈) = ( 0.67378906249999981, 0.68683749999999988 )\n",
       "(a₉, b₉) = ( 0.67378906249999981, 0.68031328124999979 )\n",
       "(a₁₀, b₁₀) = ( 0.67705117187499975, 0.68031328124999979 )\n",
       "\n"
      ]
     },
     "metadata": {},
     "output_type": "display_data"
    },
    {
     "name": "stderr",
     "output_type": "stream",
     "text": [
      "\u001b[36m\u001b[1m[ \u001b[22m\u001b[39m\u001b[36m\u001b[1mInfo: \u001b[22m\u001b[39mTargeting ϕ=0.6770511718749997\n",
      "\u001b[32mProgress: 100%|█████████████████████████████████████████| Time: 0:03:14\u001b[39m\n",
      "\u001b[36m\u001b[1m[ \u001b[22m\u001b[39m\u001b[36m\u001b[1mInfo: \u001b[22m\u001b[39mϕ=1, PSIS\n",
      "\u001b[36m\u001b[1m[ \u001b[22m\u001b[39m\u001b[36m\u001b[1mInfo: \u001b[22m\u001b[39mLeaving g=51 out\n"
     ]
    },
    {
     "data": {
      "text/plain": [
       "Results of univariate zero finding:\n",
       "\n",
       "* Converged to: 0.9184472656249999\n",
       "* Algorithm: Bisection()\n",
       "* iterations: 10\n",
       "* function evaluations ≈ 13\n",
       "\n",
       "Trace:\n",
       "(a₀, b₀) = ( 0.010306249999999999, 1 )\n",
       "(a₁, b₁) = ( 0.103725, 1 )\n",
       "(a₂, b₂) = ( 0.33244999999999997, 1 )\n",
       "(a₃, b₃) = ( 0.58244999999999991, 1 )\n",
       "(a₄, b₄) = ( 0.79122499999999996, 1 )\n",
       "(a₅, b₅) = ( 0.89561249999999992, 1 )\n",
       "(a₆, b₆) = ( 0.89561249999999992, 0.94780624999999996 )\n",
       "(a₇, b₇) = ( 0.89561249999999992, 0.92170937499999994 )\n",
       "(a₈, b₈) = ( 0.90866093749999988, 0.92170937499999994 )\n",
       "(a₉, b₉) = ( 0.91518515624999985, 0.92170937499999994 )\n",
       "(a₁₀, b₁₀) = ( 0.91518515624999985, 0.9184472656249999 )\n",
       "\n"
      ]
     },
     "metadata": {},
     "output_type": "display_data"
    },
    {
     "name": "stderr",
     "output_type": "stream",
     "text": [
      "\u001b[36m\u001b[1m[ \u001b[22m\u001b[39m\u001b[36m\u001b[1mInfo: \u001b[22m\u001b[39mTargeting ϕ=0.9184472656249999\n",
      "\u001b[32mProgress: 100%|█████████████████████████████████████████| Time: 0:03:12\u001b[39m\n",
      "\u001b[36m\u001b[1m[ \u001b[22m\u001b[39m\u001b[36m\u001b[1mInfo: \u001b[22m\u001b[39mϕ=1, PSIS\n",
      "\u001b[36m\u001b[1m[ \u001b[22m\u001b[39m\u001b[36m\u001b[1mInfo: \u001b[22m\u001b[39mLeaving g=52 out\n"
     ]
    },
    {
     "data": {
      "text/plain": [
       "Results of univariate zero finding:\n",
       "\n",
       "* Converged to: 0.8890882812499998\n",
       "* Algorithm: Bisection()\n",
       "* iterations: 10\n",
       "* function evaluations ≈ 13\n",
       "\n",
       "Trace:\n",
       "(a₀, b₀) = ( 0.010306249999999999, 1 )\n",
       "(a₁, b₁) = ( 0.103725, 1 )\n",
       "(a₂, b₂) = ( 0.33244999999999997, 1 )\n",
       "(a₃, b₃) = ( 0.58244999999999991, 1 )\n",
       "(a₄, b₄) = ( 0.79122499999999996, 1 )\n",
       "(a₅, b₅) = ( 0.79122499999999996, 0.89561249999999992 )\n",
       "(a₆, b₆) = ( 0.84341874999999988, 0.89561249999999992 )\n",
       "(a₇, b₇) = ( 0.8695156249999999, 0.89561249999999992 )\n",
       "(a₈, b₈) = ( 0.88256406249999986, 0.89561249999999992 )\n",
       "(a₉, b₉) = ( 0.88256406249999986, 0.88908828124999983 )\n",
       "(a₁₀, b₁₀) = ( 0.88582617187499979, 0.88908828124999983 )\n",
       "\n"
      ]
     },
     "metadata": {},
     "output_type": "display_data"
    },
    {
     "name": "stderr",
     "output_type": "stream",
     "text": [
      "\u001b[36m\u001b[1m[ \u001b[22m\u001b[39m\u001b[36m\u001b[1mInfo: \u001b[22m\u001b[39mTargeting ϕ=0.8890882812499998\n",
      "\u001b[32mProgress: 100%|█████████████████████████████████████████| Time: 0:03:13\u001b[39m\n",
      "\u001b[36m\u001b[1m[ \u001b[22m\u001b[39m\u001b[36m\u001b[1mInfo: \u001b[22m\u001b[39mϕ=1, PSIS\n",
      "\u001b[36m\u001b[1m[ \u001b[22m\u001b[39m\u001b[36m\u001b[1mInfo: \u001b[22m\u001b[39mLeaving g=53 out\n",
      "\u001b[36m\u001b[1m[ \u001b[22m\u001b[39m\u001b[36m\u001b[1mInfo: \u001b[22m\u001b[39mϕ=1, PSIS\n",
      "\u001b[36m\u001b[1m[ \u001b[22m\u001b[39m\u001b[36m\u001b[1mInfo: \u001b[22m\u001b[39mLeaving g=54 out\n",
      "\u001b[36m\u001b[1m[ \u001b[22m\u001b[39m\u001b[36m\u001b[1mInfo: \u001b[22m\u001b[39mϕ=1, PSIS\n",
      "\u001b[36m\u001b[1m[ \u001b[22m\u001b[39m\u001b[36m\u001b[1mInfo: \u001b[22m\u001b[39mLeaving g=55 out\n",
      "\u001b[36m\u001b[1m[ \u001b[22m\u001b[39m\u001b[36m\u001b[1mInfo: \u001b[22m\u001b[39mϕ=1, PSIS\n",
      "\u001b[36m\u001b[1m[ \u001b[22m\u001b[39m\u001b[36m\u001b[1mInfo: \u001b[22m\u001b[39mLeaving g=56 out\n",
      "\u001b[36m\u001b[1m[ \u001b[22m\u001b[39m\u001b[36m\u001b[1mInfo: \u001b[22m\u001b[39mϕ=1, PSIS\n",
      "\u001b[36m\u001b[1m[ \u001b[22m\u001b[39m\u001b[36m\u001b[1mInfo: \u001b[22m\u001b[39mLeaving g=57 out\n"
     ]
    },
    {
     "data": {
      "text/plain": [
       "Results of univariate zero finding:\n",
       "\n",
       "* Converged to: 0.5041593749999999\n",
       "* Algorithm: Bisection()\n",
       "* iterations: 10\n",
       "* function evaluations ≈ 13\n",
       "\n",
       "Trace:\n",
       "(a₀, b₀) = ( 0.010306249999999999, 1 )\n",
       "(a₁, b₁) = ( 0.103725, 1 )\n",
       "(a₂, b₂) = ( 0.33244999999999997, 1 )\n",
       "(a₃, b₃) = ( 0.33244999999999997, 0.58244999999999991 )\n",
       "(a₄, b₄) = ( 0.43683749999999993, 0.58244999999999991 )\n",
       "(a₅, b₅) = ( 0.48903124999999992, 0.58244999999999991 )\n",
       "(a₆, b₆) = ( 0.48903124999999992, 0.53025624999999987 )\n",
       "(a₇, b₇) = ( 0.50415937499999985, 0.53025624999999987 )\n",
       "(a₈, b₈) = ( 0.50415937499999985, 0.51720781249999981 )\n",
       "(a₉, b₉) = ( 0.50415937499999985, 0.51068359374999983 )\n",
       "(a₁₀, b₁₀) = ( 0.50415937499999985, 0.50742148437499979 )\n",
       "\n"
      ]
     },
     "metadata": {},
     "output_type": "display_data"
    },
    {
     "name": "stderr",
     "output_type": "stream",
     "text": [
      "\u001b[36m\u001b[1m[ \u001b[22m\u001b[39m\u001b[36m\u001b[1mInfo: \u001b[22m\u001b[39mTargeting ϕ=0.5041593749999999\n",
      "\u001b[32mProgress: 100%|█████████████████████████████████████████| Time: 0:03:12\u001b[39m\n"
     ]
    },
    {
     "data": {
      "text/plain": [
       "Results of univariate zero finding:\n",
       "\n",
       "* Converged to: 0.951103707885742\n",
       "* Algorithm: Bisection()\n",
       "* iterations: 10\n",
       "* function evaluations ≈ 13\n",
       "\n",
       "Trace:\n",
       "(a₀, b₀) = ( 0.75212968749999987, 1 )\n",
       "(a₁, b₁) = ( 0.87606484374999993, 1 )\n",
       "(a₂, b₂) = ( 0.93803242187499991, 1 )\n",
       "(a₃, b₃) = ( 0.93803242187499991, 0.9690162109374999 )\n",
       "(a₄, b₄) = ( 0.93803242187499991, 0.95352431640624991 )\n",
       "(a₅, b₅) = ( 0.94577836914062485, 0.95352431640624991 )\n",
       "(a₆, b₆) = ( 0.94965134277343732, 0.95352431640624991 )\n",
       "(a₇, b₇) = ( 0.94965134277343732, 0.95158782958984356 )\n",
       "(a₈, b₈) = ( 0.95061958618164044, 0.95158782958984356 )\n",
       "(a₉, b₉) = ( 0.95061958618164044, 0.95110370788574194 )\n",
       "(a₁₀, b₁₀) = ( 0.95086164703369114, 0.95110370788574194 )\n",
       "\n"
      ]
     },
     "metadata": {},
     "output_type": "display_data"
    },
    {
     "name": "stderr",
     "output_type": "stream",
     "text": [
      "\u001b[36m\u001b[1m[ \u001b[22m\u001b[39m\u001b[36m\u001b[1mInfo: \u001b[22m\u001b[39mTargeting ϕ=0.951103707885742\n",
      "\u001b[32mProgress: 100%|█████████████████████████████████████████| Time: 0:03:10\u001b[39m\n",
      "\u001b[36m\u001b[1m[ \u001b[22m\u001b[39m\u001b[36m\u001b[1mInfo: \u001b[22m\u001b[39mϕ=1, PSIS\n",
      "\u001b[36m\u001b[1m[ \u001b[22m\u001b[39m\u001b[36m\u001b[1mInfo: \u001b[22m\u001b[39mLeaving g=58 out\n"
     ]
    },
    {
     "data": {
      "text/plain": [
       "Results of univariate zero finding:\n",
       "\n",
       "* Converged to: 0.5824499999999999\n",
       "* Algorithm: Bisection()\n",
       "* iterations: 10\n",
       "* function evaluations ≈ 13\n",
       "\n",
       "Trace:\n",
       "(a₀, b₀) = ( 0.010306249999999999, 1 )\n",
       "(a₁, b₁) = ( 0.103725, 1 )\n",
       "(a₂, b₂) = ( 0.33244999999999997, 1 )\n",
       "(a₃, b₃) = ( 0.58244999999999991, 1 )\n",
       "(a₄, b₄) = ( 0.58244999999999991, 0.79122499999999996 )\n",
       "(a₅, b₅) = ( 0.58244999999999991, 0.68683749999999988 )\n",
       "(a₆, b₆) = ( 0.58244999999999991, 0.63464374999999984 )\n",
       "(a₇, b₇) = ( 0.58244999999999991, 0.60854687499999982 )\n",
       "(a₈, b₈) = ( 0.58244999999999991, 0.59549843749999987 )\n",
       "(a₉, b₉) = ( 0.58244999999999991, 0.58897421874999989 )\n",
       "(a₁₀, b₁₀) = ( 0.58244999999999991, 0.58571210937499985 )\n",
       "\n"
      ]
     },
     "metadata": {},
     "output_type": "display_data"
    },
    {
     "name": "stderr",
     "output_type": "stream",
     "text": [
      "\u001b[36m\u001b[1m[ \u001b[22m\u001b[39m\u001b[36m\u001b[1mInfo: \u001b[22m\u001b[39mTargeting ϕ=0.5824499999999999\n",
      "\u001b[32mProgress: 100%|█████████████████████████████████████████| Time: 0:03:11\u001b[39m\n"
     ]
    },
    {
     "data": {
      "text/plain": [
       "Results of univariate zero finding:\n",
       "\n",
       "* Converged to: 0.9792090332031248\n",
       "* Algorithm: Bisection()\n",
       "* iterations: 10\n",
       "* function evaluations ≈ 13\n",
       "\n",
       "Trace:\n",
       "(a₀, b₀) = ( 0.79127499999999995, 1 )\n",
       "(a₁, b₁) = ( 0.89563749999999998, 1 )\n",
       "(a₂, b₂) = ( 0.94781874999999993, 1 )\n",
       "(a₃, b₃) = ( 0.97390937499999997, 1 )\n",
       "(a₄, b₄) = ( 0.97390937499999997, 0.98695468749999993 )\n",
       "(a₅, b₅) = ( 0.97390937499999997, 0.98043203124999989 )\n",
       "(a₆, b₆) = ( 0.97717070312499987, 0.98043203124999989 )\n",
       "(a₇, b₇) = ( 0.97880136718749988, 0.98043203124999989 )\n",
       "(a₈, b₈) = ( 0.97880136718749988, 0.97961669921874983 )\n",
       "(a₉, b₉) = ( 0.9792090332031248, 0.97961669921874983 )\n",
       "(a₁₀, b₁₀) = ( 0.9792090332031248, 0.97941286621093726 )\n",
       "\n"
      ]
     },
     "metadata": {},
     "output_type": "display_data"
    },
    {
     "name": "stderr",
     "output_type": "stream",
     "text": [
      "\u001b[36m\u001b[1m[ \u001b[22m\u001b[39m\u001b[36m\u001b[1mInfo: \u001b[22m\u001b[39mTargeting ϕ=0.9792090332031248\n",
      "\u001b[32mProgress: 100%|█████████████████████████████████████████| Time: 0:03:10\u001b[39m\n",
      "\u001b[36m\u001b[1m[ \u001b[22m\u001b[39m\u001b[36m\u001b[1mInfo: \u001b[22m\u001b[39mϕ=1, PSIS\n",
      "\u001b[36m\u001b[1m[ \u001b[22m\u001b[39m\u001b[36m\u001b[1mInfo: \u001b[22m\u001b[39mLeaving g=59 out\n"
     ]
    },
    {
     "data": {
      "text/plain": [
       "Results of univariate zero finding:\n",
       "\n",
       "* Converged to: 0.4759828124999999\n",
       "* Algorithm: Bisection()\n",
       "* iterations: 10\n",
       "* function evaluations ≈ 13\n",
       "\n",
       "Trace:\n",
       "(a₀, b₀) = ( 0.010306249999999999, 1 )\n",
       "(a₁, b₁) = ( 0.103725, 1 )\n",
       "(a₂, b₂) = ( 0.33244999999999997, 1 )\n",
       "(a₃, b₃) = ( 0.33244999999999997, 0.58244999999999991 )\n",
       "(a₄, b₄) = ( 0.43683749999999993, 0.58244999999999991 )\n",
       "(a₅, b₅) = ( 0.43683749999999993, 0.48903124999999992 )\n",
       "(a₆, b₆) = ( 0.4629343749999999, 0.48903124999999992 )\n",
       "(a₇, b₇) = ( 0.4629343749999999, 0.47598281249999991 )\n",
       "(a₈, b₈) = ( 0.46945859374999988, 0.47598281249999991 )\n",
       "(a₉, b₉) = ( 0.47272070312499986, 0.47598281249999991 )\n",
       "(a₁₀, b₁₀) = ( 0.47435175781249989, 0.47598281249999991 )\n",
       "\n"
      ]
     },
     "metadata": {},
     "output_type": "display_data"
    },
    {
     "name": "stderr",
     "output_type": "stream",
     "text": [
      "\u001b[36m\u001b[1m[ \u001b[22m\u001b[39m\u001b[36m\u001b[1mInfo: \u001b[22m\u001b[39mTargeting ϕ=0.4759828124999999\n",
      "\u001b[32mProgress: 100%|█████████████████████████████████████████| Time: 0:03:09\u001b[39m\n"
     ]
    },
    {
     "data": {
      "text/plain": [
       "Results of univariate zero finding:\n",
       "\n",
       "* Converged to: 0.8041920104980467\n",
       "* Algorithm: Bisection()\n",
       "* iterations: 10\n",
       "* function evaluations ≈ 13\n",
       "\n",
       "Trace:\n",
       "(a₀, b₀) = ( 0.72608281249999984, 1 )\n",
       "(a₁, b₁) = ( 0.72608281249999984, 0.86304140624999992 )\n",
       "(a₂, b₂) = ( 0.79456210937499983, 0.86304140624999992 )\n",
       "(a₃, b₃) = ( 0.79456210937499983, 0.82880175781249987 )\n",
       "(a₄, b₄) = ( 0.79456210937499983, 0.81168193359374985 )\n",
       "(a₅, b₅) = ( 0.80312202148437484, 0.81168193359374985 )\n",
       "(a₆, b₆) = ( 0.80312202148437484, 0.80740197753906229 )\n",
       "(a₇, b₇) = ( 0.80312202148437484, 0.80526199951171851 )\n",
       "(a₈, b₈) = ( 0.80419201049804667, 0.80526199951171851 )\n",
       "(a₉, b₉) = ( 0.80419201049804667, 0.80472700500488259 )\n",
       "(a₁₀, b₁₀) = ( 0.80419201049804667, 0.80445950775146458 )\n",
       "\n"
      ]
     },
     "metadata": {},
     "output_type": "display_data"
    },
    {
     "name": "stderr",
     "output_type": "stream",
     "text": [
      "\u001b[36m\u001b[1m[ \u001b[22m\u001b[39m\u001b[36m\u001b[1mInfo: \u001b[22m\u001b[39mTargeting ϕ=0.8041920104980467\n",
      "\u001b[32mProgress: 100%|█████████████████████████████████████████| Time: 0:03:09\u001b[39m\n",
      "\u001b[36m\u001b[1m[ \u001b[22m\u001b[39m\u001b[36m\u001b[1mInfo: \u001b[22m\u001b[39mϕ=1, PSIS\n",
      "\u001b[36m\u001b[1m[ \u001b[22m\u001b[39m\u001b[36m\u001b[1mInfo: \u001b[22m\u001b[39mLeaving g=60 out\n"
     ]
    },
    {
     "data": {
      "text/plain": [
       "Results of univariate zero finding:\n",
       "\n",
       "* Converged to: 0.8988746093749999\n",
       "* Algorithm: Bisection()\n",
       "* iterations: 10\n",
       "* function evaluations ≈ 13\n",
       "\n",
       "Trace:\n",
       "(a₀, b₀) = ( 0.010306249999999999, 1 )\n",
       "(a₁, b₁) = ( 0.103725, 1 )\n",
       "(a₂, b₂) = ( 0.33244999999999997, 1 )\n",
       "(a₃, b₃) = ( 0.58244999999999991, 1 )\n",
       "(a₄, b₄) = ( 0.79122499999999996, 1 )\n",
       "(a₅, b₅) = ( 0.89561249999999992, 1 )\n",
       "(a₆, b₆) = ( 0.89561249999999992, 0.94780624999999996 )\n",
       "(a₇, b₇) = ( 0.89561249999999992, 0.92170937499999994 )\n",
       "(a₈, b₈) = ( 0.89561249999999992, 0.90866093749999988 )\n",
       "(a₉, b₉) = ( 0.89561249999999992, 0.9021367187499999 )\n",
       "(a₁₀, b₁₀) = ( 0.89561249999999992, 0.89887460937499986 )\n",
       "\n"
      ]
     },
     "metadata": {},
     "output_type": "display_data"
    },
    {
     "name": "stderr",
     "output_type": "stream",
     "text": [
      "\u001b[36m\u001b[1m[ \u001b[22m\u001b[39m\u001b[36m\u001b[1mInfo: \u001b[22m\u001b[39mTargeting ϕ=0.8988746093749999\n",
      "\u001b[32mProgress: 100%|█████████████████████████████████████████| Time: 0:03:13\u001b[39m\n",
      "\u001b[36m\u001b[1m[ \u001b[22m\u001b[39m\u001b[36m\u001b[1mInfo: \u001b[22m\u001b[39mϕ=1, PSIS\n",
      "\u001b[36m\u001b[1m[ \u001b[22m\u001b[39m\u001b[36m\u001b[1mInfo: \u001b[22m\u001b[39mLeaving g=61 out\n"
     ]
    },
    {
     "data": {
      "text/plain": [
       "Results of univariate zero finding:\n",
       "\n",
       "* Converged to: 0.6346437499999998\n",
       "* Algorithm: Bisection()\n",
       "* iterations: 10\n",
       "* function evaluations ≈ 13\n",
       "\n",
       "Trace:\n",
       "(a₀, b₀) = ( 0.010306249999999999, 1 )\n",
       "(a₁, b₁) = ( 0.103725, 1 )\n",
       "(a₂, b₂) = ( 0.33244999999999997, 1 )\n",
       "(a₃, b₃) = ( 0.58244999999999991, 1 )\n",
       "(a₄, b₄) = ( 0.58244999999999991, 0.79122499999999996 )\n",
       "(a₅, b₅) = ( 0.58244999999999991, 0.68683749999999988 )\n",
       "(a₆, b₆) = ( 0.63464374999999984, 0.68683749999999988 )\n",
       "(a₇, b₇) = ( 0.63464374999999984, 0.66074062499999986 )\n",
       "(a₈, b₈) = ( 0.63464374999999984, 0.64769218749999979 )\n",
       "(a₉, b₉) = ( 0.63464374999999984, 0.64116796874999982 )\n",
       "(a₁₀, b₁₀) = ( 0.63464374999999984, 0.63790585937499977 )\n",
       "\n"
      ]
     },
     "metadata": {},
     "output_type": "display_data"
    },
    {
     "name": "stderr",
     "output_type": "stream",
     "text": [
      "\u001b[36m\u001b[1m[ \u001b[22m\u001b[39m\u001b[36m\u001b[1mInfo: \u001b[22m\u001b[39mTargeting ϕ=0.6346437499999998\n",
      "\u001b[32mProgress: 100%|█████████████████████████████████████████| Time: 0:03:12\u001b[39m\n"
     ]
    },
    {
     "data": {
      "text/plain": [
       "Results of univariate zero finding:\n",
       "\n",
       "* Converged to: 0.8978067230224607\n",
       "* Algorithm: Bisection()\n",
       "* iterations: 10\n",
       "* function evaluations ≈ 13\n",
       "\n",
       "Trace:\n",
       "(a₀, b₀) = ( 0.81737187499999986, 1 )\n",
       "(a₁, b₁) = ( 0.81737187499999986, 0.90868593749999993 )\n",
       "(a₂, b₂) = ( 0.86302890624999984, 0.90868593749999993 )\n",
       "(a₃, b₃) = ( 0.88585742187499983, 0.90868593749999993 )\n",
       "(a₄, b₄) = ( 0.89727167968749988, 0.90868593749999993 )\n",
       "(a₅, b₅) = ( 0.89727167968749988, 0.9029788085937499 )\n",
       "(a₆, b₆) = ( 0.89727167968749988, 0.90012524414062489 )\n",
       "(a₇, b₇) = ( 0.89727167968749988, 0.89869846191406233 )\n",
       "(a₈, b₈) = ( 0.89727167968749988, 0.89798507080078105 )\n",
       "(a₉, b₉) = ( 0.89762837524414041, 0.89798507080078105 )\n",
       "(a₁₀, b₁₀) = ( 0.89780672302246067, 0.89798507080078105 )\n",
       "\n"
      ]
     },
     "metadata": {},
     "output_type": "display_data"
    },
    {
     "name": "stderr",
     "output_type": "stream",
     "text": [
      "\u001b[36m\u001b[1m[ \u001b[22m\u001b[39m\u001b[36m\u001b[1mInfo: \u001b[22m\u001b[39mTargeting ϕ=0.8978067230224607\n",
      "\u001b[32mProgress: 100%|█████████████████████████████████████████| Time: 0:03:09\u001b[39m\n",
      "\u001b[36m\u001b[1m[ \u001b[22m\u001b[39m\u001b[36m\u001b[1mInfo: \u001b[22m\u001b[39mϕ=1, PSIS\n",
      "\u001b[36m\u001b[1m[ \u001b[22m\u001b[39m\u001b[36m\u001b[1mInfo: \u001b[22m\u001b[39mLeaving g=62 out\n"
     ]
    },
    {
     "data": {
      "text/plain": [
       "Results of univariate zero finding:\n",
       "\n",
       "* Converged to: 0.7553417968749998\n",
       "* Algorithm: Bisection()\n",
       "* iterations: 10\n",
       "* function evaluations ≈ 13\n",
       "\n",
       "Trace:\n",
       "(a₀, b₀) = ( 0.010306249999999999, 1 )\n",
       "(a₁, b₁) = ( 0.103725, 1 )\n",
       "(a₂, b₂) = ( 0.33244999999999997, 1 )\n",
       "(a₃, b₃) = ( 0.58244999999999991, 1 )\n",
       "(a₄, b₄) = ( 0.58244999999999991, 0.79122499999999996 )\n",
       "(a₅, b₅) = ( 0.68683749999999988, 0.79122499999999996 )\n",
       "(a₆, b₆) = ( 0.73903124999999992, 0.79122499999999996 )\n",
       "(a₇, b₇) = ( 0.73903124999999992, 0.76512812499999994 )\n",
       "(a₈, b₈) = ( 0.75207968749999987, 0.76512812499999994 )\n",
       "(a₉, b₉) = ( 0.75207968749999987, 0.75860390624999985 )\n",
       "(a₁₀, b₁₀) = ( 0.7553417968749998, 0.75860390624999985 )\n",
       "\n"
      ]
     },
     "metadata": {},
     "output_type": "display_data"
    },
    {
     "name": "stderr",
     "output_type": "stream",
     "text": [
      "\u001b[36m\u001b[1m[ \u001b[22m\u001b[39m\u001b[36m\u001b[1mInfo: \u001b[22m\u001b[39mTargeting ϕ=0.7553417968749998\n",
      "\u001b[32mProgress: 100%|█████████████████████████████████████████| Time: 0:03:14\u001b[39m\n",
      "\u001b[36m\u001b[1m[ \u001b[22m\u001b[39m\u001b[36m\u001b[1mInfo: \u001b[22m\u001b[39mϕ=1, PSIS\n",
      "\u001b[36m\u001b[1m[ \u001b[22m\u001b[39m\u001b[36m\u001b[1mInfo: \u001b[22m\u001b[39mLeaving g=63 out\n"
     ]
    },
    {
     "data": {
      "text/plain": [
       "Results of univariate zero finding:\n",
       "\n",
       "* Converged to: 0.4270511718749999\n",
       "* Algorithm: Bisection()\n",
       "* iterations: 10\n",
       "* function evaluations ≈ 13\n",
       "\n",
       "Trace:\n",
       "(a₀, b₀) = ( 0.010306249999999999, 1 )\n",
       "(a₁, b₁) = ( 0.103725, 1 )\n",
       "(a₂, b₂) = ( 0.33244999999999997, 1 )\n",
       "(a₃, b₃) = ( 0.33244999999999997, 0.58244999999999991 )\n",
       "(a₄, b₄) = ( 0.33244999999999997, 0.43683749999999993 )\n",
       "(a₅, b₅) = ( 0.38464374999999995, 0.43683749999999993 )\n",
       "(a₆, b₆) = ( 0.41074062499999991, 0.43683749999999993 )\n",
       "(a₇, b₇) = ( 0.42378906249999992, 0.43683749999999993 )\n",
       "(a₈, b₈) = ( 0.42378906249999992, 0.4303132812499999 )\n",
       "(a₉, b₉) = ( 0.42705117187499991, 0.4303132812499999 )\n",
       "(a₁₀, b₁₀) = ( 0.42705117187499991, 0.42868222656249988 )\n",
       "\n"
      ]
     },
     "metadata": {},
     "output_type": "display_data"
    },
    {
     "name": "stderr",
     "output_type": "stream",
     "text": [
      "\u001b[36m\u001b[1m[ \u001b[22m\u001b[39m\u001b[36m\u001b[1mInfo: \u001b[22m\u001b[39mTargeting ϕ=0.4270511718749999\n",
      "\u001b[32mProgress: 100%|█████████████████████████████████████████| Time: 0:03:09\u001b[39m\n"
     ]
    },
    {
     "data": {
      "text/plain": [
       "Results of univariate zero finding:\n",
       "\n",
       "* Converged to: 0.9492395885467528\n",
       "* Algorithm: Bisection()\n",
       "* iterations: 10\n",
       "* function evaluations ≈ 13\n",
       "\n",
       "Trace:\n",
       "(a₀, b₀) = ( 0.67715117187499985, 1 )\n",
       "(a₁, b₁) = ( 0.83857558593749992, 1 )\n",
       "(a₂, b₂) = ( 0.91928779296874996, 1 )\n",
       "(a₃, b₃) = ( 0.91928779296874996, 0.95964389648437498 )\n",
       "(a₄, b₄) = ( 0.93946584472656247, 0.95964389648437498 )\n",
       "(a₅, b₅) = ( 0.93946584472656247, 0.94955487060546873 )\n",
       "(a₆, b₆) = ( 0.94451035766601554, 0.94955487060546873 )\n",
       "(a₇, b₇) = ( 0.94703261413574213, 0.94955487060546873 )\n",
       "(a₈, b₈) = ( 0.94829374237060537, 0.94955487060546873 )\n",
       "(a₉, b₉) = ( 0.94892430648803705, 0.94955487060546873 )\n",
       "(a₁₀, b₁₀) = ( 0.94892430648803705, 0.94923958854675283 )\n",
       "\n"
      ]
     },
     "metadata": {},
     "output_type": "display_data"
    },
    {
     "name": "stderr",
     "output_type": "stream",
     "text": [
      "\u001b[36m\u001b[1m[ \u001b[22m\u001b[39m\u001b[36m\u001b[1mInfo: \u001b[22m\u001b[39mTargeting ϕ=0.9492395885467528\n",
      "\u001b[32mProgress: 100%|█████████████████████████████████████████| Time: 0:03:10\u001b[39m\n",
      "\u001b[36m\u001b[1m[ \u001b[22m\u001b[39m\u001b[36m\u001b[1mInfo: \u001b[22m\u001b[39mϕ=1, PSIS\n",
      "\u001b[36m\u001b[1m[ \u001b[22m\u001b[39m\u001b[36m\u001b[1mInfo: \u001b[22m\u001b[39mLeaving g=64 out\n",
      "\u001b[36m\u001b[1m[ \u001b[22m\u001b[39m\u001b[36m\u001b[1mInfo: \u001b[22m\u001b[39mϕ=1, PSIS\n",
      "\u001b[36m\u001b[1m[ \u001b[22m\u001b[39m\u001b[36m\u001b[1mInfo: \u001b[22m\u001b[39mLeaving g=65 out\n"
     ]
    },
    {
     "data": {
      "text/plain": [
       "Results of univariate zero finding:\n",
       "\n",
       "* Converged to: 0.8042734374999999\n",
       "* Algorithm: Bisection()\n",
       "* iterations: 10\n",
       "* function evaluations ≈ 13\n",
       "\n",
       "Trace:\n",
       "(a₀, b₀) = ( 0.010306249999999999, 1 )\n",
       "(a₁, b₁) = ( 0.103725, 1 )\n",
       "(a₂, b₂) = ( 0.33244999999999997, 1 )\n",
       "(a₃, b₃) = ( 0.58244999999999991, 1 )\n",
       "(a₄, b₄) = ( 0.79122499999999996, 1 )\n",
       "(a₅, b₅) = ( 0.79122499999999996, 0.89561249999999992 )\n",
       "(a₆, b₆) = ( 0.79122499999999996, 0.84341874999999988 )\n",
       "(a₇, b₇) = ( 0.79122499999999996, 0.81732187499999986 )\n",
       "(a₈, b₈) = ( 0.80427343749999991, 0.81732187499999986 )\n",
       "(a₉, b₉) = ( 0.80427343749999991, 0.81079765624999989 )\n",
       "(a₁₀, b₁₀) = ( 0.80427343749999991, 0.80753554687499984 )\n",
       "\n"
      ]
     },
     "metadata": {},
     "output_type": "display_data"
    },
    {
     "name": "stderr",
     "output_type": "stream",
     "text": [
      "\u001b[36m\u001b[1m[ \u001b[22m\u001b[39m\u001b[36m\u001b[1mInfo: \u001b[22m\u001b[39mTargeting ϕ=0.8042734374999999\n",
      "\u001b[32mProgress: 100%|█████████████████████████████████████████| Time: 0:03:13\u001b[39m\n",
      "\u001b[36m\u001b[1m[ \u001b[22m\u001b[39m\u001b[36m\u001b[1mInfo: \u001b[22m\u001b[39mϕ=1, PSIS\n",
      "\u001b[36m\u001b[1m[ \u001b[22m\u001b[39m\u001b[36m\u001b[1mInfo: \u001b[22m\u001b[39mLeaving g=66 out\n",
      "\u001b[36m\u001b[1m[ \u001b[22m\u001b[39m\u001b[36m\u001b[1mInfo: \u001b[22m\u001b[39mϕ=1, PSIS\n",
      "\u001b[36m\u001b[1m[ \u001b[22m\u001b[39m\u001b[36m\u001b[1mInfo: \u001b[22m\u001b[39mLeaving g=67 out\n"
     ]
    },
    {
     "data": {
      "text/plain": [
       "Results of univariate zero finding:\n",
       "\n",
       "* Converged to: 0.8760398437499999\n",
       "* Algorithm: Bisection()\n",
       "* iterations: 10\n",
       "* function evaluations ≈ 13\n",
       "\n",
       "Trace:\n",
       "(a₀, b₀) = ( 0.010306249999999999, 1 )\n",
       "(a₁, b₁) = ( 0.103725, 1 )\n",
       "(a₂, b₂) = ( 0.33244999999999997, 1 )\n",
       "(a₃, b₃) = ( 0.58244999999999991, 1 )\n",
       "(a₄, b₄) = ( 0.79122499999999996, 1 )\n",
       "(a₅, b₅) = ( 0.79122499999999996, 0.89561249999999992 )\n",
       "(a₆, b₆) = ( 0.84341874999999988, 0.89561249999999992 )\n",
       "(a₇, b₇) = ( 0.8695156249999999, 0.89561249999999992 )\n",
       "(a₈, b₈) = ( 0.8695156249999999, 0.88256406249999986 )\n",
       "(a₉, b₉) = ( 0.8695156249999999, 0.87603984374999988 )\n",
       "(a₁₀, b₁₀) = ( 0.87277773437499984, 0.87603984374999988 )\n",
       "\n"
      ]
     },
     "metadata": {},
     "output_type": "display_data"
    },
    {
     "name": "stderr",
     "output_type": "stream",
     "text": [
      "\u001b[36m\u001b[1m[ \u001b[22m\u001b[39m\u001b[36m\u001b[1mInfo: \u001b[22m\u001b[39mTargeting ϕ=0.8760398437499999\n",
      "\u001b[32mProgress: 100%|█████████████████████████████████████████| Time: 0:03:12\u001b[39m\n",
      "\u001b[36m\u001b[1m[ \u001b[22m\u001b[39m\u001b[36m\u001b[1mInfo: \u001b[22m\u001b[39mϕ=1, PSIS\n",
      "\u001b[36m\u001b[1m[ \u001b[22m\u001b[39m\u001b[36m\u001b[1mInfo: \u001b[22m\u001b[39mLeaving g=68 out\n"
     ]
    },
    {
     "data": {
      "text/plain": [
       "Results of univariate zero finding:\n",
       "\n",
       "* Converged to: 0.9217093749999999\n",
       "* Algorithm: Bisection()\n",
       "* iterations: 10\n",
       "* function evaluations ≈ 13\n",
       "\n",
       "Trace:\n",
       "(a₀, b₀) = ( 0.010306249999999999, 1 )\n",
       "(a₁, b₁) = ( 0.103725, 1 )\n",
       "(a₂, b₂) = ( 0.33244999999999997, 1 )\n",
       "(a₃, b₃) = ( 0.58244999999999991, 1 )\n",
       "(a₄, b₄) = ( 0.79122499999999996, 1 )\n",
       "(a₅, b₅) = ( 0.89561249999999992, 1 )\n",
       "(a₆, b₆) = ( 0.89561249999999992, 0.94780624999999996 )\n",
       "(a₇, b₇) = ( 0.92170937499999994, 0.94780624999999996 )\n",
       "(a₈, b₈) = ( 0.92170937499999994, 0.9347578124999999 )\n",
       "(a₉, b₉) = ( 0.92170937499999994, 0.92823359374999992 )\n",
       "(a₁₀, b₁₀) = ( 0.92170937499999994, 0.92497148437499987 )\n",
       "\n"
      ]
     },
     "metadata": {},
     "output_type": "display_data"
    },
    {
     "name": "stderr",
     "output_type": "stream",
     "text": [
      "\u001b[36m\u001b[1m[ \u001b[22m\u001b[39m\u001b[36m\u001b[1mInfo: \u001b[22m\u001b[39mTargeting ϕ=0.9217093749999999\n",
      "\u001b[32mProgress: 100%|█████████████████████████████████████████| Time: 0:03:15\u001b[39m\n",
      "\u001b[36m\u001b[1m[ \u001b[22m\u001b[39m\u001b[36m\u001b[1mInfo: \u001b[22m\u001b[39mϕ=1, PSIS\n",
      "\u001b[36m\u001b[1m[ \u001b[22m\u001b[39m\u001b[36m\u001b[1mInfo: \u001b[22m\u001b[39mLeaving g=69 out\n",
      "\u001b[36m\u001b[1m[ \u001b[22m\u001b[39m\u001b[36m\u001b[1mInfo: \u001b[22m\u001b[39mϕ=1, PSIS\n",
      "\u001b[36m\u001b[1m[ \u001b[22m\u001b[39m\u001b[36m\u001b[1mInfo: \u001b[22m\u001b[39mLeaving g=70 out\n",
      "\u001b[36m\u001b[1m[ \u001b[22m\u001b[39m\u001b[36m\u001b[1mInfo: \u001b[22m\u001b[39mϕ=1, PSIS\n",
      "\u001b[36m\u001b[1m[ \u001b[22m\u001b[39m\u001b[36m\u001b[1mInfo: \u001b[22m\u001b[39mLeaving g=71 out\n",
      "\u001b[36m\u001b[1m[ \u001b[22m\u001b[39m\u001b[36m\u001b[1mInfo: \u001b[22m\u001b[39mϕ=1, PSIS\n",
      "\u001b[36m\u001b[1m[ \u001b[22m\u001b[39m\u001b[36m\u001b[1mInfo: \u001b[22m\u001b[39mLeaving g=72 out\n",
      "\u001b[36m\u001b[1m[ \u001b[22m\u001b[39m\u001b[36m\u001b[1mInfo: \u001b[22m\u001b[39mϕ=1, PSIS\n",
      "\u001b[36m\u001b[1m[ \u001b[22m\u001b[39m\u001b[36m\u001b[1mInfo: \u001b[22m\u001b[39mLeaving g=73 out\n",
      "\u001b[36m\u001b[1m[ \u001b[22m\u001b[39m\u001b[36m\u001b[1mInfo: \u001b[22m\u001b[39mϕ=1, PSIS\n",
      "\u001b[36m\u001b[1m[ \u001b[22m\u001b[39m\u001b[36m\u001b[1mInfo: \u001b[22m\u001b[39mLeaving g=74 out\n",
      "\u001b[36m\u001b[1m[ \u001b[22m\u001b[39m\u001b[36m\u001b[1mInfo: \u001b[22m\u001b[39mϕ=1, PSIS\n",
      "\u001b[36m\u001b[1m[ \u001b[22m\u001b[39m\u001b[36m\u001b[1mInfo: \u001b[22m\u001b[39mLeaving g=75 out\n"
     ]
    },
    {
     "data": {
      "text/plain": [
       "Results of univariate zero finding:\n",
       "\n",
       "* Converged to: 0.7259828124999999\n",
       "* Algorithm: Bisection()\n",
       "* iterations: 10\n",
       "* function evaluations ≈ 13\n",
       "\n",
       "Trace:\n",
       "(a₀, b₀) = ( 0.010306249999999999, 1 )\n",
       "(a₁, b₁) = ( 0.103725, 1 )\n",
       "(a₂, b₂) = ( 0.33244999999999997, 1 )\n",
       "(a₃, b₃) = ( 0.58244999999999991, 1 )\n",
       "(a₄, b₄) = ( 0.58244999999999991, 0.79122499999999996 )\n",
       "(a₅, b₅) = ( 0.68683749999999988, 0.79122499999999996 )\n",
       "(a₆, b₆) = ( 0.68683749999999988, 0.73903124999999992 )\n",
       "(a₇, b₇) = ( 0.7129343749999999, 0.73903124999999992 )\n",
       "(a₈, b₈) = ( 0.7129343749999999, 0.72598281249999985 )\n",
       "(a₉, b₉) = ( 0.71945859374999988, 0.72598281249999985 )\n",
       "(a₁₀, b₁₀) = ( 0.72272070312499981, 0.72598281249999985 )\n",
       "\n"
      ]
     },
     "metadata": {},
     "output_type": "display_data"
    },
    {
     "name": "stderr",
     "output_type": "stream",
     "text": [
      "\u001b[36m\u001b[1m[ \u001b[22m\u001b[39m\u001b[36m\u001b[1mInfo: \u001b[22m\u001b[39mTargeting ϕ=0.7259828124999999\n",
      "\u001b[32mProgress: 100%|█████████████████████████████████████████| Time: 0:03:14\u001b[39m\n",
      "\u001b[36m\u001b[1m[ \u001b[22m\u001b[39m\u001b[36m\u001b[1mInfo: \u001b[22m\u001b[39mϕ=1, PSIS\n",
      "\u001b[36m\u001b[1m[ \u001b[22m\u001b[39m\u001b[36m\u001b[1mInfo: \u001b[22m\u001b[39mLeaving g=76 out\n"
     ]
    },
    {
     "data": {
      "text/plain": [
       "Results of univariate zero finding:\n",
       "\n",
       "* Converged to: 0.6803132812499998\n",
       "* Algorithm: Bisection()\n",
       "* iterations: 10\n",
       "* function evaluations ≈ 13\n",
       "\n",
       "Trace:\n",
       "(a₀, b₀) = ( 0.010306249999999999, 1 )\n",
       "(a₁, b₁) = ( 0.103725, 1 )\n",
       "(a₂, b₂) = ( 0.33244999999999997, 1 )\n",
       "(a₃, b₃) = ( 0.58244999999999991, 1 )\n",
       "(a₄, b₄) = ( 0.58244999999999991, 0.79122499999999996 )\n",
       "(a₅, b₅) = ( 0.58244999999999991, 0.68683749999999988 )\n",
       "(a₆, b₆) = ( 0.63464374999999984, 0.68683749999999988 )\n",
       "(a₇, b₇) = ( 0.66074062499999986, 0.68683749999999988 )\n",
       "(a₈, b₈) = ( 0.67378906249999981, 0.68683749999999988 )\n",
       "(a₉, b₉) = ( 0.68031328124999979, 0.68683749999999988 )\n",
       "(a₁₀, b₁₀) = ( 0.68031328124999979, 0.68357539062499983 )\n",
       "\n"
      ]
     },
     "metadata": {},
     "output_type": "display_data"
    },
    {
     "name": "stderr",
     "output_type": "stream",
     "text": [
      "\u001b[36m\u001b[1m[ \u001b[22m\u001b[39m\u001b[36m\u001b[1mInfo: \u001b[22m\u001b[39mTargeting ϕ=0.6803132812499998\n",
      "\u001b[32mProgress: 100%|█████████████████████████████████████████| Time: 0:03:11\u001b[39m\n",
      "\u001b[36m\u001b[1m[ \u001b[22m\u001b[39m\u001b[36m\u001b[1mInfo: \u001b[22m\u001b[39mϕ=1, PSIS\n",
      "\u001b[36m\u001b[1m[ \u001b[22m\u001b[39m\u001b[36m\u001b[1mInfo: \u001b[22m\u001b[39mLeaving g=77 out\n"
     ]
    },
    {
     "data": {
      "text/plain": [
       "Results of univariate zero finding:\n",
       "\n",
       "* Converged to: 0.9249714843749999\n",
       "* Algorithm: Bisection()\n",
       "* iterations: 10\n",
       "* function evaluations ≈ 13\n",
       "\n",
       "Trace:\n",
       "(a₀, b₀) = ( 0.010306249999999999, 1 )\n",
       "(a₁, b₁) = ( 0.103725, 1 )\n",
       "(a₂, b₂) = ( 0.33244999999999997, 1 )\n",
       "(a₃, b₃) = ( 0.58244999999999991, 1 )\n",
       "(a₄, b₄) = ( 0.79122499999999996, 1 )\n",
       "(a₅, b₅) = ( 0.89561249999999992, 1 )\n",
       "(a₆, b₆) = ( 0.89561249999999992, 0.94780624999999996 )\n",
       "(a₇, b₇) = ( 0.92170937499999994, 0.94780624999999996 )\n",
       "(a₈, b₈) = ( 0.92170937499999994, 0.9347578124999999 )\n",
       "(a₉, b₉) = ( 0.92170937499999994, 0.92823359374999992 )\n",
       "(a₁₀, b₁₀) = ( 0.92497148437499987, 0.92823359374999992 )\n",
       "\n"
      ]
     },
     "metadata": {},
     "output_type": "display_data"
    },
    {
     "name": "stderr",
     "output_type": "stream",
     "text": [
      "\u001b[36m\u001b[1m[ \u001b[22m\u001b[39m\u001b[36m\u001b[1mInfo: \u001b[22m\u001b[39mTargeting ϕ=0.9249714843749999\n",
      "\u001b[32mProgress: 100%|█████████████████████████████████████████| Time: 0:03:05\u001b[39m\n",
      "\u001b[36m\u001b[1m[ \u001b[22m\u001b[39m\u001b[36m\u001b[1mInfo: \u001b[22m\u001b[39mϕ=1, PSIS\n",
      "\u001b[36m\u001b[1m[ \u001b[22m\u001b[39m\u001b[36m\u001b[1mInfo: \u001b[22m\u001b[39mLeaving g=78 out\n"
     ]
    },
    {
     "data": {
      "text/plain": [
       "Results of univariate zero finding:\n",
       "\n",
       "* Converged to: 0.9184472656249999\n",
       "* Algorithm: Bisection()\n",
       "* iterations: 10\n",
       "* function evaluations ≈ 13\n",
       "\n",
       "Trace:\n",
       "(a₀, b₀) = ( 0.010306249999999999, 1 )\n",
       "(a₁, b₁) = ( 0.103725, 1 )\n",
       "(a₂, b₂) = ( 0.33244999999999997, 1 )\n",
       "(a₃, b₃) = ( 0.58244999999999991, 1 )\n",
       "(a₄, b₄) = ( 0.79122499999999996, 1 )\n",
       "(a₅, b₅) = ( 0.89561249999999992, 1 )\n",
       "(a₆, b₆) = ( 0.89561249999999992, 0.94780624999999996 )\n",
       "(a₇, b₇) = ( 0.89561249999999992, 0.92170937499999994 )\n",
       "(a₈, b₈) = ( 0.90866093749999988, 0.92170937499999994 )\n",
       "(a₉, b₉) = ( 0.91518515624999985, 0.92170937499999994 )\n",
       "(a₁₀, b₁₀) = ( 0.9184472656249999, 0.92170937499999994 )\n",
       "\n"
      ]
     },
     "metadata": {},
     "output_type": "display_data"
    },
    {
     "name": "stderr",
     "output_type": "stream",
     "text": [
      "\u001b[36m\u001b[1m[ \u001b[22m\u001b[39m\u001b[36m\u001b[1mInfo: \u001b[22m\u001b[39mTargeting ϕ=0.9184472656249999\n",
      "\u001b[32mProgress: 100%|█████████████████████████████████████████| Time: 0:03:11\u001b[39m\n",
      "\u001b[36m\u001b[1m[ \u001b[22m\u001b[39m\u001b[36m\u001b[1mInfo: \u001b[22m\u001b[39mϕ=1, PSIS\n",
      "\u001b[36m\u001b[1m[ \u001b[22m\u001b[39m\u001b[36m\u001b[1mInfo: \u001b[22m\u001b[39mLeaving g=79 out\n",
      "\u001b[36m\u001b[1m[ \u001b[22m\u001b[39m\u001b[36m\u001b[1mInfo: \u001b[22m\u001b[39mϕ=1, PSIS\n",
      "\u001b[36m\u001b[1m[ \u001b[22m\u001b[39m\u001b[36m\u001b[1mInfo: \u001b[22m\u001b[39mLeaving g=80 out\n",
      "\u001b[36m\u001b[1m[ \u001b[22m\u001b[39m\u001b[36m\u001b[1mInfo: \u001b[22m\u001b[39mϕ=1, PSIS\n",
      "\u001b[36m\u001b[1m[ \u001b[22m\u001b[39m\u001b[36m\u001b[1mInfo: \u001b[22m\u001b[39mLeaving g=81 out\n",
      "\u001b[36m\u001b[1m[ \u001b[22m\u001b[39m\u001b[36m\u001b[1mInfo: \u001b[22m\u001b[39mϕ=1, PSIS\n",
      "\u001b[36m\u001b[1m[ \u001b[22m\u001b[39m\u001b[36m\u001b[1mInfo: \u001b[22m\u001b[39mLeaving g=82 out\n",
      "\u001b[36m\u001b[1m[ \u001b[22m\u001b[39m\u001b[36m\u001b[1mInfo: \u001b[22m\u001b[39mϕ=1, PSIS\n",
      "\u001b[36m\u001b[1m[ \u001b[22m\u001b[39m\u001b[36m\u001b[1mInfo: \u001b[22m\u001b[39mLeaving g=83 out\n",
      "\u001b[36m\u001b[1m[ \u001b[22m\u001b[39m\u001b[36m\u001b[1mInfo: \u001b[22m\u001b[39mϕ=1, PSIS\n",
      "\u001b[36m\u001b[1m[ \u001b[22m\u001b[39m\u001b[36m\u001b[1mInfo: \u001b[22m\u001b[39mLeaving g=84 out\n",
      "\u001b[36m\u001b[1m[ \u001b[22m\u001b[39m\u001b[36m\u001b[1mInfo: \u001b[22m\u001b[39mϕ=1, PSIS\n",
      "\u001b[36m\u001b[1m[ \u001b[22m\u001b[39m\u001b[36m\u001b[1mInfo: \u001b[22m\u001b[39mLeaving g=85 out\n",
      "\u001b[36m\u001b[1m[ \u001b[22m\u001b[39m\u001b[36m\u001b[1mInfo: \u001b[22m\u001b[39mϕ=1, PSIS\n"
     ]
    }
   ],
   "source": [
    "Random.seed!(1)\n",
    "RUN_aSMC && run(chain, SMCS_Radon; k̂_threshold=0.9, save_bool=true)"
   ]
  },
  {
   "cell_type": "code",
   "execution_count": 76,
   "id": "8ed57686-4ee9-4608-867b-d59b1465a78c",
   "metadata": {
    "scrolled": true
   },
   "outputs": [
    {
     "name": "stderr",
     "output_type": "stream",
     "text": [
      "\u001b[36m\u001b[1m[ \u001b[22m\u001b[39m\u001b[36m\u001b[1mInfo: \u001b[22m\u001b[39mLeaving g=1 out\n"
     ]
    },
    {
     "data": {
      "text/plain": [
       "Results of univariate zero finding:\n",
       "\n",
       "* Converged to: 0.6313816406249998\n",
       "* Algorithm: Bisection()\n",
       "* iterations: 10\n",
       "* function evaluations ≈ 13\n",
       "\n",
       "Trace:\n",
       "(a₀, b₀) = ( 0.010306249999999999, 1 )\n",
       "(a₁, b₁) = ( 0.103725, 1 )\n",
       "(a₂, b₂) = ( 0.33244999999999997, 1 )\n",
       "(a₃, b₃) = ( 0.58244999999999991, 1 )\n",
       "(a₄, b₄) = ( 0.58244999999999991, 0.79122499999999996 )\n",
       "(a₅, b₅) = ( 0.58244999999999991, 0.68683749999999988 )\n",
       "(a₆, b₆) = ( 0.58244999999999991, 0.63464374999999984 )\n",
       "(a₇, b₇) = ( 0.60854687499999982, 0.63464374999999984 )\n",
       "(a₈, b₈) = ( 0.62159531249999977, 0.63464374999999984 )\n",
       "(a₉, b₉) = ( 0.62811953124999975, 0.63464374999999984 )\n",
       "(a₁₀, b₁₀) = ( 0.62811953124999975, 0.6313816406249998 )\n",
       "\n"
      ]
     },
     "metadata": {},
     "output_type": "display_data"
    },
    {
     "name": "stderr",
     "output_type": "stream",
     "text": [
      "\u001b[36m\u001b[1m[ \u001b[22m\u001b[39m\u001b[36m\u001b[1mInfo: \u001b[22m\u001b[39mTargeting ϕ=0.6313816406249998\n",
      "\u001b[32mProgress: 100%|█████████████████████████████████████████| Time: 0:03:10\u001b[39m\n",
      "\u001b[36m\u001b[1m[ \u001b[22m\u001b[39m\u001b[36m\u001b[1mInfo: \u001b[22m\u001b[39mϕ=1, PSIS\n",
      "\u001b[36m\u001b[1m[ \u001b[22m\u001b[39m\u001b[36m\u001b[1mInfo: \u001b[22m\u001b[39mLeaving g=2 out\n"
     ]
    },
    {
     "data": {
      "text/plain": [
       "Results of univariate zero finding:\n",
       "\n",
       "* Converged to: 0.7325070312499998\n",
       "* Algorithm: Bisection()\n",
       "* iterations: 10\n",
       "* function evaluations ≈ 13\n",
       "\n",
       "Trace:\n",
       "(a₀, b₀) = ( 0.010306249999999999, 1 )\n",
       "(a₁, b₁) = ( 0.103725, 1 )\n",
       "(a₂, b₂) = ( 0.33244999999999997, 1 )\n",
       "(a₃, b₃) = ( 0.58244999999999991, 1 )\n",
       "(a₄, b₄) = ( 0.58244999999999991, 0.79122499999999996 )\n",
       "(a₅, b₅) = ( 0.68683749999999988, 0.79122499999999996 )\n",
       "(a₆, b₆) = ( 0.68683749999999988, 0.73903124999999992 )\n",
       "(a₇, b₇) = ( 0.7129343749999999, 0.73903124999999992 )\n",
       "(a₈, b₈) = ( 0.72598281249999985, 0.73903124999999992 )\n",
       "(a₉, b₉) = ( 0.73250703124999983, 0.73903124999999992 )\n",
       "(a₁₀, b₁₀) = ( 0.73250703124999983, 0.73576914062499987 )\n",
       "\n"
      ]
     },
     "metadata": {},
     "output_type": "display_data"
    },
    {
     "name": "stderr",
     "output_type": "stream",
     "text": [
      "\u001b[36m\u001b[1m[ \u001b[22m\u001b[39m\u001b[36m\u001b[1mInfo: \u001b[22m\u001b[39mTargeting ϕ=0.7325070312499998\n",
      "\u001b[32mProgress: 100%|█████████████████████████████████████████| Time: 0:03:14\u001b[39m\n",
      "\u001b[36m\u001b[1m[ \u001b[22m\u001b[39m\u001b[36m\u001b[1mInfo: \u001b[22m\u001b[39mϕ=1, PSIS\n",
      "\u001b[36m\u001b[1m[ \u001b[22m\u001b[39m\u001b[36m\u001b[1mInfo: \u001b[22m\u001b[39mLeaving g=3 out\n"
     ]
    },
    {
     "data": {
      "text/plain": [
       "Results of univariate zero finding:\n",
       "\n",
       "* Converged to: 0.6379058593749998\n",
       "* Algorithm: Bisection()\n",
       "* iterations: 10\n",
       "* function evaluations ≈ 13\n",
       "\n",
       "Trace:\n",
       "(a₀, b₀) = ( 0.010306249999999999, 1 )\n",
       "(a₁, b₁) = ( 0.103725, 1 )\n",
       "(a₂, b₂) = ( 0.33244999999999997, 1 )\n",
       "(a₃, b₃) = ( 0.58244999999999991, 1 )\n",
       "(a₄, b₄) = ( 0.58244999999999991, 0.79122499999999996 )\n",
       "(a₅, b₅) = ( 0.58244999999999991, 0.68683749999999988 )\n",
       "(a₆, b₆) = ( 0.63464374999999984, 0.68683749999999988 )\n",
       "(a₇, b₇) = ( 0.63464374999999984, 0.66074062499999986 )\n",
       "(a₈, b₈) = ( 0.63464374999999984, 0.64769218749999979 )\n",
       "(a₉, b₉) = ( 0.63464374999999984, 0.64116796874999982 )\n",
       "(a₁₀, b₁₀) = ( 0.63790585937499977, 0.64116796874999982 )\n",
       "\n"
      ]
     },
     "metadata": {},
     "output_type": "display_data"
    },
    {
     "name": "stderr",
     "output_type": "stream",
     "text": [
      "\u001b[36m\u001b[1m[ \u001b[22m\u001b[39m\u001b[36m\u001b[1mInfo: \u001b[22m\u001b[39mTargeting ϕ=0.6379058593749998\n",
      "\u001b[32mProgress: 100%|█████████████████████████████████████████| Time: 0:03:16\u001b[39m\n",
      "\u001b[36m\u001b[1m[ \u001b[22m\u001b[39m\u001b[36m\u001b[1mInfo: \u001b[22m\u001b[39mϕ=1, PSIS\n",
      "\u001b[36m\u001b[1m[ \u001b[22m\u001b[39m\u001b[36m\u001b[1mInfo: \u001b[22m\u001b[39mLeaving g=4 out\n",
      "\u001b[36m\u001b[1m[ \u001b[22m\u001b[39m\u001b[36m\u001b[1mInfo: \u001b[22m\u001b[39mϕ=1, PSIS\n",
      "\u001b[36m\u001b[1m[ \u001b[22m\u001b[39m\u001b[36m\u001b[1mInfo: \u001b[22m\u001b[39mLeaving g=5 out\n"
     ]
    },
    {
     "data": {
      "text/plain": [
       "Results of univariate zero finding:\n",
       "\n",
       "* Converged to: 0.9086609374999999\n",
       "* Algorithm: Bisection()\n",
       "* iterations: 10\n",
       "* function evaluations ≈ 13\n",
       "\n",
       "Trace:\n",
       "(a₀, b₀) = ( 0.010306249999999999, 1 )\n",
       "(a₁, b₁) = ( 0.103725, 1 )\n",
       "(a₂, b₂) = ( 0.33244999999999997, 1 )\n",
       "(a₃, b₃) = ( 0.58244999999999991, 1 )\n",
       "(a₄, b₄) = ( 0.79122499999999996, 1 )\n",
       "(a₅, b₅) = ( 0.89561249999999992, 1 )\n",
       "(a₆, b₆) = ( 0.89561249999999992, 0.94780624999999996 )\n",
       "(a₇, b₇) = ( 0.89561249999999992, 0.92170937499999994 )\n",
       "(a₈, b₈) = ( 0.89561249999999992, 0.90866093749999988 )\n",
       "(a₉, b₉) = ( 0.9021367187499999, 0.90866093749999988 )\n",
       "(a₁₀, b₁₀) = ( 0.90539882812499983, 0.90866093749999988 )\n",
       "\n"
      ]
     },
     "metadata": {},
     "output_type": "display_data"
    },
    {
     "name": "stderr",
     "output_type": "stream",
     "text": [
      "\u001b[36m\u001b[1m[ \u001b[22m\u001b[39m\u001b[36m\u001b[1mInfo: \u001b[22m\u001b[39mTargeting ϕ=0.9086609374999999\n",
      "\u001b[32mProgress: 100%|█████████████████████████████████████████| Time: 0:03:10\u001b[39m\n",
      "\u001b[36m\u001b[1m[ \u001b[22m\u001b[39m\u001b[36m\u001b[1mInfo: \u001b[22m\u001b[39mϕ=1, PSIS\n",
      "\u001b[36m\u001b[1m[ \u001b[22m\u001b[39m\u001b[36m\u001b[1mInfo: \u001b[22m\u001b[39mLeaving g=6 out\n"
     ]
    },
    {
     "data": {
      "text/plain": [
       "Results of univariate zero finding:\n",
       "\n",
       "* Converged to: 0.8858261718749998\n",
       "* Algorithm: Bisection()\n",
       "* iterations: 10\n",
       "* function evaluations ≈ 13\n",
       "\n",
       "Trace:\n",
       "(a₀, b₀) = ( 0.010306249999999999, 1 )\n",
       "(a₁, b₁) = ( 0.103725, 1 )\n",
       "(a₂, b₂) = ( 0.33244999999999997, 1 )\n",
       "(a₃, b₃) = ( 0.58244999999999991, 1 )\n",
       "(a₄, b₄) = ( 0.79122499999999996, 1 )\n",
       "(a₅, b₅) = ( 0.79122499999999996, 0.89561249999999992 )\n",
       "(a₆, b₆) = ( 0.84341874999999988, 0.89561249999999992 )\n",
       "(a₇, b₇) = ( 0.8695156249999999, 0.89561249999999992 )\n",
       "(a₈, b₈) = ( 0.88256406249999986, 0.89561249999999992 )\n",
       "(a₉, b₉) = ( 0.88256406249999986, 0.88908828124999983 )\n",
       "(a₁₀, b₁₀) = ( 0.88256406249999986, 0.88582617187499979 )\n",
       "\n"
      ]
     },
     "metadata": {},
     "output_type": "display_data"
    },
    {
     "name": "stderr",
     "output_type": "stream",
     "text": [
      "\u001b[36m\u001b[1m[ \u001b[22m\u001b[39m\u001b[36m\u001b[1mInfo: \u001b[22m\u001b[39mTargeting ϕ=0.8858261718749998\n",
      "\u001b[32mProgress: 100%|█████████████████████████████████████████| Time: 0:03:08\u001b[39m\n",
      "\u001b[36m\u001b[1m[ \u001b[22m\u001b[39m\u001b[36m\u001b[1mInfo: \u001b[22m\u001b[39mϕ=1, PSIS\n",
      "\u001b[36m\u001b[1m[ \u001b[22m\u001b[39m\u001b[36m\u001b[1mInfo: \u001b[22m\u001b[39mLeaving g=7 out\n",
      "\u001b[36m\u001b[1m[ \u001b[22m\u001b[39m\u001b[36m\u001b[1mInfo: \u001b[22m\u001b[39mϕ=1, MCMC\n",
      "\u001b[32mProgress: 100%|█████████████████████████████████████████| Time: 0:01:05\u001b[39m\n",
      "\u001b[36m\u001b[1m[ \u001b[22m\u001b[39m\u001b[36m\u001b[1mInfo: \u001b[22m\u001b[39mLeaving g=8 out\n",
      "\u001b[36m\u001b[1m[ \u001b[22m\u001b[39m\u001b[36m\u001b[1mInfo: \u001b[22m\u001b[39mϕ=1, PSIS\n",
      "\u001b[36m\u001b[1m[ \u001b[22m\u001b[39m\u001b[36m\u001b[1mInfo: \u001b[22m\u001b[39mLeaving g=9 out\n",
      "\u001b[36m\u001b[1m[ \u001b[22m\u001b[39m\u001b[36m\u001b[1mInfo: \u001b[22m\u001b[39mϕ=1, PSIS\n",
      "\u001b[36m\u001b[1m[ \u001b[22m\u001b[39m\u001b[36m\u001b[1mInfo: \u001b[22m\u001b[39mLeaving g=10 out\n"
     ]
    },
    {
     "data": {
      "text/plain": [
       "Results of univariate zero finding:\n",
       "\n",
       "* Converged to: 0.9575925781249999\n",
       "* Algorithm: Bisection()\n",
       "* iterations: 10\n",
       "* function evaluations ≈ 13\n",
       "\n",
       "Trace:\n",
       "(a₀, b₀) = ( 0.010306249999999999, 1 )\n",
       "(a₁, b₁) = ( 0.103725, 1 )\n",
       "(a₂, b₂) = ( 0.33244999999999997, 1 )\n",
       "(a₃, b₃) = ( 0.58244999999999991, 1 )\n",
       "(a₄, b₄) = ( 0.79122499999999996, 1 )\n",
       "(a₅, b₅) = ( 0.89561249999999992, 1 )\n",
       "(a₆, b₆) = ( 0.94780624999999996, 1 )\n",
       "(a₇, b₇) = ( 0.94780624999999996, 0.97390312499999998 )\n",
       "(a₈, b₈) = ( 0.94780624999999996, 0.96085468749999992 )\n",
       "(a₉, b₉) = ( 0.95433046874999994, 0.96085468749999992 )\n",
       "(a₁₀, b₁₀) = ( 0.95433046874999994, 0.95759257812499987 )\n",
       "\n"
      ]
     },
     "metadata": {},
     "output_type": "display_data"
    },
    {
     "name": "stderr",
     "output_type": "stream",
     "text": [
      "\u001b[36m\u001b[1m[ \u001b[22m\u001b[39m\u001b[36m\u001b[1mInfo: \u001b[22m\u001b[39mTargeting ϕ=0.9575925781249999\n",
      "\u001b[32mProgress: 100%|█████████████████████████████████████████| Time: 0:03:08\u001b[39m\n",
      "\u001b[36m\u001b[1m[ \u001b[22m\u001b[39m\u001b[36m\u001b[1mInfo: \u001b[22m\u001b[39mϕ=1, PSIS\n",
      "\u001b[36m\u001b[1m[ \u001b[22m\u001b[39m\u001b[36m\u001b[1mInfo: \u001b[22m\u001b[39mLeaving g=11 out\n",
      "\u001b[36m\u001b[1m[ \u001b[22m\u001b[39m\u001b[36m\u001b[1mInfo: \u001b[22m\u001b[39mϕ=1, PSIS\n",
      "\u001b[36m\u001b[1m[ \u001b[22m\u001b[39m\u001b[36m\u001b[1mInfo: \u001b[22m\u001b[39mLeaving g=12 out\n",
      "\u001b[36m\u001b[1m[ \u001b[22m\u001b[39m\u001b[36m\u001b[1mInfo: \u001b[22m\u001b[39mϕ=1, PSIS\n",
      "\u001b[36m\u001b[1m[ \u001b[22m\u001b[39m\u001b[36m\u001b[1mInfo: \u001b[22m\u001b[39mLeaving g=13 out\n"
     ]
    },
    {
     "data": {
      "text/plain": [
       "Results of univariate zero finding:\n",
       "\n",
       "* Converged to: 0.4874001953124999\n",
       "* Algorithm: Bisection()\n",
       "* iterations: 10\n",
       "* function evaluations ≈ 13\n",
       "\n",
       "Trace:\n",
       "(a₀, b₀) = ( 0.010306249999999999, 1 )\n",
       "(a₁, b₁) = ( 0.103725, 1 )\n",
       "(a₂, b₂) = ( 0.33244999999999997, 1 )\n",
       "(a₃, b₃) = ( 0.33244999999999997, 0.58244999999999991 )\n",
       "(a₄, b₄) = ( 0.43683749999999993, 0.58244999999999991 )\n",
       "(a₅, b₅) = ( 0.43683749999999993, 0.48903124999999992 )\n",
       "(a₆, b₆) = ( 0.4629343749999999, 0.48903124999999992 )\n",
       "(a₇, b₇) = ( 0.47598281249999991, 0.48903124999999992 )\n",
       "(a₈, b₈) = ( 0.48250703124999988, 0.48903124999999992 )\n",
       "(a₉, b₉) = ( 0.48576914062499987, 0.48903124999999992 )\n",
       "(a₁₀, b₁₀) = ( 0.4874001953124999, 0.48903124999999992 )\n",
       "\n"
      ]
     },
     "metadata": {},
     "output_type": "display_data"
    },
    {
     "name": "stderr",
     "output_type": "stream",
     "text": [
      "\u001b[36m\u001b[1m[ \u001b[22m\u001b[39m\u001b[36m\u001b[1mInfo: \u001b[22m\u001b[39mTargeting ϕ=0.4874001953124999\n",
      "\u001b[32mProgress: 100%|█████████████████████████████████████████| Time: 0:03:12\u001b[39m\n"
     ]
    },
    {
     "data": {
      "text/plain": [
       "Results of univariate zero finding:\n",
       "\n",
       "* Converged to: 0.7664674589157102\n",
       "* Algorithm: Bisection()\n",
       "* iterations: 10\n",
       "* function evaluations ≈ 13\n",
       "\n",
       "Trace:\n",
       "(a₀, b₀) = ( 0.73750019531249988, 1 )\n",
       "(a₁, b₁) = ( 0.73750019531249988, 0.86875009765624989 )\n",
       "(a₂, b₂) = ( 0.73750019531249988, 0.80312514648437483 )\n",
       "(a₃, b₃) = ( 0.73750019531249988, 0.77031267089843736 )\n",
       "(a₄, b₄) = ( 0.75390643310546857, 0.77031267089843736 )\n",
       "(a₅, b₅) = ( 0.76210955200195296, 0.77031267089843736 )\n",
       "(a₆, b₆) = ( 0.76621111145019516, 0.77031267089843736 )\n",
       "(a₇, b₇) = ( 0.76621111145019516, 0.7682618911743162 )\n",
       "(a₈, b₈) = ( 0.76621111145019516, 0.76723650131225563 )\n",
       "(a₉, b₉) = ( 0.76621111145019516, 0.76672380638122539 )\n",
       "(a₁₀, b₁₀) = ( 0.76646745891571022, 0.76672380638122539 )\n",
       "\n"
      ]
     },
     "metadata": {},
     "output_type": "display_data"
    },
    {
     "name": "stderr",
     "output_type": "stream",
     "text": [
      "\u001b[36m\u001b[1m[ \u001b[22m\u001b[39m\u001b[36m\u001b[1mInfo: \u001b[22m\u001b[39mTargeting ϕ=0.7664674589157102\n",
      "\u001b[32mProgress: 100%|█████████████████████████████████████████| Time: 0:03:07\u001b[39m\n"
     ]
    },
    {
     "data": {
      "text/plain": [
       "Results of univariate zero finding:\n",
       "\n",
       "* Converged to: 0.922607082326058\n",
       "* Algorithm: Bisection()\n",
       "* iterations: 10\n",
       "* function evaluations ≈ 13\n",
       "\n",
       "Trace:\n",
       "(a₀, b₀) = ( 0.88328372945785505, 1 )\n",
       "(a₁, b₁) = ( 0.88328372945785505, 0.94164186472892752 )\n",
       "(a₂, b₂) = ( 0.91246279709339129, 0.94164186472892752 )\n",
       "(a₃, b₃) = ( 0.91246279709339129, 0.92705233091115935 )\n",
       "(a₄, b₄) = ( 0.91975756400227526, 0.92705233091115935 )\n",
       "(a₅, b₅) = ( 0.91975756400227526, 0.92340494745671731 )\n",
       "(a₆, b₆) = ( 0.92158125572949623, 0.92340494745671731 )\n",
       "(a₇, b₇) = ( 0.92249310159310671, 0.92340494745671731 )\n",
       "(a₈, b₈) = ( 0.92249310159310671, 0.92294902452491201 )\n",
       "(a₉, b₉) = ( 0.92249310159310671, 0.92272106305900936 )\n",
       "(a₁₀, b₁₀) = ( 0.92249310159310671, 0.92260708232605804 )\n",
       "\n"
      ]
     },
     "metadata": {},
     "output_type": "display_data"
    },
    {
     "name": "stderr",
     "output_type": "stream",
     "text": [
      "\u001b[36m\u001b[1m[ \u001b[22m\u001b[39m\u001b[36m\u001b[1mInfo: \u001b[22m\u001b[39mTargeting ϕ=0.922607082326058\n",
      "\u001b[32mProgress: 100%|█████████████████████████████████████████| Time: 0:03:08\u001b[39m\n"
     ]
    },
    {
     "data": {
      "text/plain": [
       "Results of univariate zero finding:\n",
       "\n",
       "* Converged to: 0.9858472440782575\n",
       "* Algorithm: Bisection()\n",
       "* iterations: 10\n",
       "* function evaluations ≈ 13\n",
       "\n",
       "Trace:\n",
       "(a₀, b₀) = ( 0.96135354116302896, 1 )\n",
       "(a₁, b₁) = ( 0.98067677058151448, 1 )\n",
       "(a₂, b₂) = ( 0.98067677058151448, 0.99033838529075724 )\n",
       "(a₃, b₃) = ( 0.98550757793613586, 0.99033838529075724 )\n",
       "(a₄, b₄) = ( 0.98550757793613586, 0.98792298161344649 )\n",
       "(a₅, b₅) = ( 0.98550757793613586, 0.98671527977479112 )\n",
       "(a₆, b₆) = ( 0.98550757793613586, 0.98611142885546343 )\n",
       "(a₇, b₇) = ( 0.98580950339579965, 0.98611142885546343 )\n",
       "(a₈, b₈) = ( 0.98580950339579965, 0.98596046612563149 )\n",
       "(a₉, b₉) = ( 0.98580950339579965, 0.98588498476071551 )\n",
       "(a₁₀, b₁₀) = ( 0.98580950339579965, 0.98584724407825752 )\n",
       "\n"
      ]
     },
     "metadata": {},
     "output_type": "display_data"
    },
    {
     "name": "stderr",
     "output_type": "stream",
     "text": [
      "\u001b[36m\u001b[1m[ \u001b[22m\u001b[39m\u001b[36m\u001b[1mInfo: \u001b[22m\u001b[39mTargeting ϕ=0.9858472440782575\n",
      "\u001b[32mProgress: 100%|█████████████████████████████████████████| Time: 0:03:07\u001b[39m\n",
      "\u001b[36m\u001b[1m[ \u001b[22m\u001b[39m\u001b[36m\u001b[1mInfo: \u001b[22m\u001b[39mϕ=1, PSIS\n",
      "\u001b[36m\u001b[1m[ \u001b[22m\u001b[39m\u001b[36m\u001b[1mInfo: \u001b[22m\u001b[39mLeaving g=14 out\n"
     ]
    },
    {
     "data": {
      "text/plain": [
       "Results of univariate zero finding:\n",
       "\n",
       "* Converged to: 0.9902136718749999\n",
       "* Algorithm: Bisection()\n",
       "* iterations: 10\n",
       "* function evaluations ≈ 13\n",
       "\n",
       "Trace:\n",
       "(a₀, b₀) = ( 0.010306249999999999, 1 )\n",
       "(a₁, b₁) = ( 0.103725, 1 )\n",
       "(a₂, b₂) = ( 0.33244999999999997, 1 )\n",
       "(a₃, b₃) = ( 0.58244999999999991, 1 )\n",
       "(a₄, b₄) = ( 0.79122499999999996, 1 )\n",
       "(a₅, b₅) = ( 0.89561249999999992, 1 )\n",
       "(a₆, b₆) = ( 0.94780624999999996, 1 )\n",
       "(a₇, b₇) = ( 0.97390312499999998, 1 )\n",
       "(a₈, b₈) = ( 0.98695156249999993, 1 )\n",
       "(a₉, b₉) = ( 0.98695156249999993, 0.99347578124999991 )\n",
       "(a₁₀, b₁₀) = ( 0.99021367187499987, 0.99347578124999991 )\n",
       "\n"
      ]
     },
     "metadata": {},
     "output_type": "display_data"
    },
    {
     "name": "stderr",
     "output_type": "stream",
     "text": [
      "\u001b[36m\u001b[1m[ \u001b[22m\u001b[39m\u001b[36m\u001b[1mInfo: \u001b[22m\u001b[39mTargeting ϕ=0.9902136718749999\n",
      "\u001b[32mProgress: 100%|█████████████████████████████████████████| Time: 0:03:13\u001b[39m\n",
      "\u001b[36m\u001b[1m[ \u001b[22m\u001b[39m\u001b[36m\u001b[1mInfo: \u001b[22m\u001b[39mϕ=1, PSIS\n",
      "\u001b[36m\u001b[1m[ \u001b[22m\u001b[39m\u001b[36m\u001b[1mInfo: \u001b[22m\u001b[39mLeaving g=15 out\n"
     ]
    },
    {
     "data": {
      "text/plain": [
       "Results of univariate zero finding:\n",
       "\n",
       "* Converged to: 0.6118089843749998\n",
       "* Algorithm: Bisection()\n",
       "* iterations: 10\n",
       "* function evaluations ≈ 13\n",
       "\n",
       "Trace:\n",
       "(a₀, b₀) = ( 0.010306249999999999, 1 )\n",
       "(a₁, b₁) = ( 0.103725, 1 )\n",
       "(a₂, b₂) = ( 0.33244999999999997, 1 )\n",
       "(a₃, b₃) = ( 0.58244999999999991, 1 )\n",
       "(a₄, b₄) = ( 0.58244999999999991, 0.79122499999999996 )\n",
       "(a₅, b₅) = ( 0.58244999999999991, 0.68683749999999988 )\n",
       "(a₆, b₆) = ( 0.58244999999999991, 0.63464374999999984 )\n",
       "(a₇, b₇) = ( 0.60854687499999982, 0.63464374999999984 )\n",
       "(a₈, b₈) = ( 0.60854687499999982, 0.62159531249999977 )\n",
       "(a₉, b₉) = ( 0.60854687499999982, 0.6150710937499998 )\n",
       "(a₁₀, b₁₀) = ( 0.61180898437499975, 0.6150710937499998 )\n",
       "\n"
      ]
     },
     "metadata": {},
     "output_type": "display_data"
    },
    {
     "name": "stderr",
     "output_type": "stream",
     "text": [
      "\u001b[36m\u001b[1m[ \u001b[22m\u001b[39m\u001b[36m\u001b[1mInfo: \u001b[22m\u001b[39mTargeting ϕ=0.6118089843749998\n",
      "\u001b[32mProgress: 100%|█████████████████████████████████████████| Time: 0:03:10\u001b[39m\n"
     ]
    },
    {
     "data": {
      "text/plain": [
       "Results of univariate zero finding:\n",
       "\n",
       "* Converged to: 0.9278014272689816\n",
       "* Algorithm: Bisection()\n",
       "* iterations: 10\n",
       "* function evaluations ≈ 13\n",
       "\n",
       "Trace:\n",
       "(a₀, b₀) = ( 0.80595449218749982, 1 )\n",
       "(a₁, b₁) = ( 0.90297724609374985, 1 )\n",
       "(a₂, b₂) = ( 0.90297724609374985, 0.95148862304687487 )\n",
       "(a₃, b₃) = ( 0.92723293457031231, 0.95148862304687487 )\n",
       "(a₄, b₄) = ( 0.92723293457031231, 0.93936077880859359 )\n",
       "(a₅, b₅) = ( 0.92723293457031231, 0.93329685668945295 )\n",
       "(a₆, b₆) = ( 0.92723293457031231, 0.93026489562988257 )\n",
       "(a₇, b₇) = ( 0.92723293457031231, 0.92874891510009738 )\n",
       "(a₈, b₈) = ( 0.92723293457031231, 0.92799092483520484 )\n",
       "(a₉, b₉) = ( 0.92761192970275852, 0.92799092483520484 )\n",
       "(a₁₀, b₁₀) = ( 0.92761192970275852, 0.92780142726898163 )\n",
       "\n"
      ]
     },
     "metadata": {},
     "output_type": "display_data"
    },
    {
     "name": "stderr",
     "output_type": "stream",
     "text": [
      "\u001b[36m\u001b[1m[ \u001b[22m\u001b[39m\u001b[36m\u001b[1mInfo: \u001b[22m\u001b[39mTargeting ϕ=0.9278014272689816\n",
      "\u001b[32mProgress: 100%|█████████████████████████████████████████| Time: 0:03:09\u001b[39m\n",
      "\u001b[36m\u001b[1m[ \u001b[22m\u001b[39m\u001b[36m\u001b[1mInfo: \u001b[22m\u001b[39mϕ=1, PSIS\n",
      "\u001b[36m\u001b[1m[ \u001b[22m\u001b[39m\u001b[36m\u001b[1mInfo: \u001b[22m\u001b[39mLeaving g=16 out\n",
      "\u001b[36m\u001b[1m[ \u001b[22m\u001b[39m\u001b[36m\u001b[1mInfo: \u001b[22m\u001b[39mϕ=1, PSIS\n",
      "\u001b[36m\u001b[1m[ \u001b[22m\u001b[39m\u001b[36m\u001b[1mInfo: \u001b[22m\u001b[39mLeaving g=17 out\n"
     ]
    },
    {
     "data": {
      "text/plain": [
       "Results of univariate zero finding:\n",
       "\n",
       "* Converged to: 0.6574785156249998\n",
       "* Algorithm: Bisection()\n",
       "* iterations: 10\n",
       "* function evaluations ≈ 13\n",
       "\n",
       "Trace:\n",
       "(a₀, b₀) = ( 0.010306249999999999, 1 )\n",
       "(a₁, b₁) = ( 0.103725, 1 )\n",
       "(a₂, b₂) = ( 0.33244999999999997, 1 )\n",
       "(a₃, b₃) = ( 0.58244999999999991, 1 )\n",
       "(a₄, b₄) = ( 0.58244999999999991, 0.79122499999999996 )\n",
       "(a₅, b₅) = ( 0.58244999999999991, 0.68683749999999988 )\n",
       "(a₆, b₆) = ( 0.63464374999999984, 0.68683749999999988 )\n",
       "(a₇, b₇) = ( 0.63464374999999984, 0.66074062499999986 )\n",
       "(a₈, b₈) = ( 0.64769218749999979, 0.66074062499999986 )\n",
       "(a₉, b₉) = ( 0.65421640624999977, 0.66074062499999986 )\n",
       "(a₁₀, b₁₀) = ( 0.65747851562499982, 0.66074062499999986 )\n",
       "\n"
      ]
     },
     "metadata": {},
     "output_type": "display_data"
    },
    {
     "name": "stderr",
     "output_type": "stream",
     "text": [
      "\u001b[36m\u001b[1m[ \u001b[22m\u001b[39m\u001b[36m\u001b[1mInfo: \u001b[22m\u001b[39mTargeting ϕ=0.6574785156249998\n",
      "\u001b[32mProgress: 100%|█████████████████████████████████████████| Time: 0:03:10\u001b[39m\n"
     ]
    },
    {
     "data": {
      "text/plain": [
       "Results of univariate zero finding:\n",
       "\n",
       "* Converged to: 0.9832802009582519\n",
       "* Algorithm: Bisection()\n",
       "* iterations: 10\n",
       "* function evaluations ≈ 13\n",
       "\n",
       "Trace:\n",
       "(a₀, b₀) = ( 0.8287892578124999, 1 )\n",
       "(a₁, b₁) = ( 0.9143946289062499, 1 )\n",
       "(a₂, b₂) = ( 0.95719731445312495, 1 )\n",
       "(a₃, b₃) = ( 0.97859865722656247, 1 )\n",
       "(a₄, b₄) = ( 0.97859865722656247, 0.98929932861328118 )\n",
       "(a₅, b₅) = ( 0.97859865722656247, 0.98394899291992177 )\n",
       "(a₆, b₆) = ( 0.98127382507324212, 0.98394899291992177 )\n",
       "(a₇, b₇) = ( 0.98261140899658195, 0.98394899291992177 )\n",
       "(a₈, b₈) = ( 0.98328020095825186, 0.98394899291992177 )\n",
       "(a₉, b₉) = ( 0.98328020095825186, 0.98361459693908682 )\n",
       "(a₁₀, b₁₀) = ( 0.98328020095825186, 0.98344739894866928 )\n",
       "\n"
      ]
     },
     "metadata": {},
     "output_type": "display_data"
    },
    {
     "name": "stderr",
     "output_type": "stream",
     "text": [
      "\u001b[36m\u001b[1m[ \u001b[22m\u001b[39m\u001b[36m\u001b[1mInfo: \u001b[22m\u001b[39mTargeting ϕ=0.9832802009582519\n",
      "\u001b[32mProgress: 100%|█████████████████████████████████████████| Time: 0:03:07\u001b[39m\n",
      "\u001b[36m\u001b[1m[ \u001b[22m\u001b[39m\u001b[36m\u001b[1mInfo: \u001b[22m\u001b[39mϕ=1, PSIS\n",
      "\u001b[36m\u001b[1m[ \u001b[22m\u001b[39m\u001b[36m\u001b[1mInfo: \u001b[22m\u001b[39mLeaving g=18 out\n"
     ]
    },
    {
     "data": {
      "text/plain": [
       "Results of univariate zero finding:\n",
       "\n",
       "* Converged to: 0.5824499999999999\n",
       "* Algorithm: Bisection()\n",
       "* iterations: 10\n",
       "* function evaluations ≈ 13\n",
       "\n",
       "Trace:\n",
       "(a₀, b₀) = ( 0.010306249999999999, 1 )\n",
       "(a₁, b₁) = ( 0.103725, 1 )\n",
       "(a₂, b₂) = ( 0.33244999999999997, 1 )\n",
       "(a₃, b₃) = ( 0.58244999999999991, 1 )\n",
       "(a₄, b₄) = ( 0.58244999999999991, 0.79122499999999996 )\n",
       "(a₅, b₅) = ( 0.58244999999999991, 0.68683749999999988 )\n",
       "(a₆, b₆) = ( 0.58244999999999991, 0.63464374999999984 )\n",
       "(a₇, b₇) = ( 0.58244999999999991, 0.60854687499999982 )\n",
       "(a₈, b₈) = ( 0.58244999999999991, 0.59549843749999987 )\n",
       "(a₉, b₉) = ( 0.58244999999999991, 0.58897421874999989 )\n",
       "(a₁₀, b₁₀) = ( 0.58244999999999991, 0.58571210937499985 )\n",
       "\n"
      ]
     },
     "metadata": {},
     "output_type": "display_data"
    },
    {
     "name": "stderr",
     "output_type": "stream",
     "text": [
      "\u001b[36m\u001b[1m[ \u001b[22m\u001b[39m\u001b[36m\u001b[1mInfo: \u001b[22m\u001b[39mTargeting ϕ=0.5824499999999999\n",
      "\u001b[32mProgress: 100%|█████████████████████████████████████████| Time: 0:03:11\u001b[39m\n"
     ]
    },
    {
     "data": {
      "text/plain": [
       "Results of univariate zero finding:\n",
       "\n",
       "* Converged to: 0.9904198486328124\n",
       "* Algorithm: Bisection()\n",
       "* iterations: 10\n",
       "* function evaluations ≈ 13\n",
       "\n",
       "Trace:\n",
       "(a₀, b₀) = ( 0.79127499999999995, 1 )\n",
       "(a₁, b₁) = ( 0.89563749999999998, 1 )\n",
       "(a₂, b₂) = ( 0.94781874999999993, 1 )\n",
       "(a₃, b₃) = ( 0.97390937499999997, 1 )\n",
       "(a₄, b₄) = ( 0.98695468749999993, 1 )\n",
       "(a₅, b₅) = ( 0.98695468749999993, 0.99347734374999996 )\n",
       "(a₆, b₆) = ( 0.99021601562499995, 0.99347734374999996 )\n",
       "(a₇, b₇) = ( 0.99021601562499995, 0.99184667968749995 )\n",
       "(a₈, b₈) = ( 0.99021601562499995, 0.99103134765624989 )\n",
       "(a₉, b₉) = ( 0.99021601562499995, 0.99062368164062486 )\n",
       "(a₁₀, b₁₀) = ( 0.99041984863281241, 0.99062368164062486 )\n",
       "\n"
      ]
     },
     "metadata": {},
     "output_type": "display_data"
    },
    {
     "name": "stderr",
     "output_type": "stream",
     "text": [
      "\u001b[36m\u001b[1m[ \u001b[22m\u001b[39m\u001b[36m\u001b[1mInfo: \u001b[22m\u001b[39mTargeting ϕ=0.9904198486328124\n",
      "\u001b[32mProgress: 100%|█████████████████████████████████████████| Time: 0:03:09\u001b[39m\n",
      "\u001b[36m\u001b[1m[ \u001b[22m\u001b[39m\u001b[36m\u001b[1mInfo: \u001b[22m\u001b[39mϕ=1, PSIS\n",
      "\u001b[36m\u001b[1m[ \u001b[22m\u001b[39m\u001b[36m\u001b[1mInfo: \u001b[22m\u001b[39mLeaving g=19 out\n",
      "\u001b[36m\u001b[1m[ \u001b[22m\u001b[39m\u001b[36m\u001b[1mInfo: \u001b[22m\u001b[39mϕ=1, PSIS\n",
      "\u001b[36m\u001b[1m[ \u001b[22m\u001b[39m\u001b[36m\u001b[1mInfo: \u001b[22m\u001b[39mLeaving g=20 out\n"
     ]
    },
    {
     "data": {
      "text/plain": [
       "Results of univariate zero finding:\n",
       "\n",
       "* Converged to: 0.7064101562499998\n",
       "* Algorithm: Bisection()\n",
       "* iterations: 10\n",
       "* function evaluations ≈ 13\n",
       "\n",
       "Trace:\n",
       "(a₀, b₀) = ( 0.010306249999999999, 1 )\n",
       "(a₁, b₁) = ( 0.103725, 1 )\n",
       "(a₂, b₂) = ( 0.33244999999999997, 1 )\n",
       "(a₃, b₃) = ( 0.58244999999999991, 1 )\n",
       "(a₄, b₄) = ( 0.58244999999999991, 0.79122499999999996 )\n",
       "(a₅, b₅) = ( 0.68683749999999988, 0.79122499999999996 )\n",
       "(a₆, b₆) = ( 0.68683749999999988, 0.73903124999999992 )\n",
       "(a₇, b₇) = ( 0.68683749999999988, 0.7129343749999999 )\n",
       "(a₈, b₈) = ( 0.69988593749999983, 0.7129343749999999 )\n",
       "(a₉, b₉) = ( 0.69988593749999983, 0.70641015624999981 )\n",
       "(a₁₀, b₁₀) = ( 0.70314804687499977, 0.70641015624999981 )\n",
       "\n"
      ]
     },
     "metadata": {},
     "output_type": "display_data"
    },
    {
     "name": "stderr",
     "output_type": "stream",
     "text": [
      "\u001b[36m\u001b[1m[ \u001b[22m\u001b[39m\u001b[36m\u001b[1mInfo: \u001b[22m\u001b[39mTargeting ϕ=0.7064101562499998\n",
      "\u001b[32mProgress: 100%|█████████████████████████████████████████| Time: 0:03:10\u001b[39m\n"
     ]
    },
    {
     "data": {
      "text/plain": [
       "Results of univariate zero finding:\n",
       "\n",
       "* Converged to: 0.9710522712707517\n",
       "* Algorithm: Bisection()\n",
       "* iterations: 10\n",
       "* function evaluations ≈ 13\n",
       "\n",
       "Trace:\n",
       "(a₀, b₀) = ( 0.8532550781249999, 1 )\n",
       "(a₁, b₁) = ( 0.92662753906249995, 1 )\n",
       "(a₂, b₂) = ( 0.96331376953124992, 1 )\n",
       "(a₃, b₃) = ( 0.96331376953124992, 0.98165688476562496 )\n",
       "(a₄, b₄) = ( 0.96331376953124992, 0.97248532714843738 )\n",
       "(a₅, b₅) = ( 0.9678995483398436, 0.97248532714843738 )\n",
       "(a₆, b₆) = ( 0.97019243774414043, 0.97248532714843738 )\n",
       "(a₇, b₇) = ( 0.97019243774414043, 0.97133888244628885 )\n",
       "(a₈, b₈) = ( 0.97076566009521459, 0.97133888244628885 )\n",
       "(a₉, b₉) = ( 0.97076566009521459, 0.97105227127075167 )\n",
       "(a₁₀, b₁₀) = ( 0.97090896568298313, 0.97105227127075167 )\n",
       "\n"
      ]
     },
     "metadata": {},
     "output_type": "display_data"
    },
    {
     "name": "stderr",
     "output_type": "stream",
     "text": [
      "\u001b[36m\u001b[1m[ \u001b[22m\u001b[39m\u001b[36m\u001b[1mInfo: \u001b[22m\u001b[39mTargeting ϕ=0.9710522712707517\n",
      "\u001b[32mProgress: 100%|█████████████████████████████████████████| Time: 0:03:09\u001b[39m\n",
      "\u001b[36m\u001b[1m[ \u001b[22m\u001b[39m\u001b[36m\u001b[1mInfo: \u001b[22m\u001b[39mϕ=1, PSIS\n",
      "\u001b[36m\u001b[1m[ \u001b[22m\u001b[39m\u001b[36m\u001b[1mInfo: \u001b[22m\u001b[39mLeaving g=21 out\n",
      "\u001b[36m\u001b[1m[ \u001b[22m\u001b[39m\u001b[36m\u001b[1mInfo: \u001b[22m\u001b[39mϕ=1, PSIS\n",
      "\u001b[36m\u001b[1m[ \u001b[22m\u001b[39m\u001b[36m\u001b[1mInfo: \u001b[22m\u001b[39mLeaving g=22 out\n",
      "\u001b[36m\u001b[1m[ \u001b[22m\u001b[39m\u001b[36m\u001b[1mInfo: \u001b[22m\u001b[39mϕ=1, PSIS\n",
      "\u001b[36m\u001b[1m[ \u001b[22m\u001b[39m\u001b[36m\u001b[1mInfo: \u001b[22m\u001b[39mLeaving g=23 out\n"
     ]
    },
    {
     "data": {
      "text/plain": [
       "Results of univariate zero finding:\n",
       "\n",
       "* Converged to: 0.9641167968749998\n",
       "* Algorithm: Bisection()\n",
       "* iterations: 10\n",
       "* function evaluations ≈ 13\n",
       "\n",
       "Trace:\n",
       "(a₀, b₀) = ( 0.010306249999999999, 1 )\n",
       "(a₁, b₁) = ( 0.103725, 1 )\n",
       "(a₂, b₂) = ( 0.33244999999999997, 1 )\n",
       "(a₃, b₃) = ( 0.58244999999999991, 1 )\n",
       "(a₄, b₄) = ( 0.79122499999999996, 1 )\n",
       "(a₅, b₅) = ( 0.89561249999999992, 1 )\n",
       "(a₆, b₆) = ( 0.94780624999999996, 1 )\n",
       "(a₇, b₇) = ( 0.94780624999999996, 0.97390312499999998 )\n",
       "(a₈, b₈) = ( 0.96085468749999992, 0.97390312499999998 )\n",
       "(a₉, b₉) = ( 0.96085468749999992, 0.96737890624999989 )\n",
       "(a₁₀, b₁₀) = ( 0.96085468749999992, 0.96411679687499985 )\n",
       "\n"
      ]
     },
     "metadata": {},
     "output_type": "display_data"
    },
    {
     "name": "stderr",
     "output_type": "stream",
     "text": [
      "\u001b[36m\u001b[1m[ \u001b[22m\u001b[39m\u001b[36m\u001b[1mInfo: \u001b[22m\u001b[39mTargeting ϕ=0.9641167968749998\n",
      "\u001b[32mProgress: 100%|█████████████████████████████████████████| Time: 0:03:10\u001b[39m\n",
      "\u001b[36m\u001b[1m[ \u001b[22m\u001b[39m\u001b[36m\u001b[1mInfo: \u001b[22m\u001b[39mϕ=1, PSIS\n",
      "\u001b[36m\u001b[1m[ \u001b[22m\u001b[39m\u001b[36m\u001b[1mInfo: \u001b[22m\u001b[39mLeaving g=24 out\n"
     ]
    },
    {
     "data": {
      "text/plain": [
       "Results of univariate zero finding:\n",
       "\n",
       "* Converged to: 0.7390312499999999\n",
       "* Algorithm: Bisection()\n",
       "* iterations: 10\n",
       "* function evaluations ≈ 13\n",
       "\n",
       "Trace:\n",
       "(a₀, b₀) = ( 0.010306249999999999, 1 )\n",
       "(a₁, b₁) = ( 0.103725, 1 )\n",
       "(a₂, b₂) = ( 0.33244999999999997, 1 )\n",
       "(a₃, b₃) = ( 0.58244999999999991, 1 )\n",
       "(a₄, b₄) = ( 0.58244999999999991, 0.79122499999999996 )\n",
       "(a₅, b₅) = ( 0.68683749999999988, 0.79122499999999996 )\n",
       "(a₆, b₆) = ( 0.73903124999999992, 0.79122499999999996 )\n",
       "(a₇, b₇) = ( 0.73903124999999992, 0.76512812499999994 )\n",
       "(a₈, b₈) = ( 0.73903124999999992, 0.75207968749999987 )\n",
       "(a₉, b₉) = ( 0.73903124999999992, 0.74555546874999989 )\n",
       "(a₁₀, b₁₀) = ( 0.73903124999999992, 0.74229335937499985 )\n",
       "\n"
      ]
     },
     "metadata": {},
     "output_type": "display_data"
    },
    {
     "name": "stderr",
     "output_type": "stream",
     "text": [
      "\u001b[36m\u001b[1m[ \u001b[22m\u001b[39m\u001b[36m\u001b[1mInfo: \u001b[22m\u001b[39mTargeting ϕ=0.7390312499999999\n",
      "\u001b[32mProgress: 100%|█████████████████████████████████████████| Time: 0:03:14\u001b[39m\n",
      "\u001b[36m\u001b[1m[ \u001b[22m\u001b[39m\u001b[36m\u001b[1mInfo: \u001b[22m\u001b[39mϕ=1, MCMC\n",
      "\u001b[32mProgress: 100%|█████████████████████████████████████████| Time: 0:01:07\u001b[39m\n",
      "\u001b[36m\u001b[1m[ \u001b[22m\u001b[39m\u001b[36m\u001b[1mInfo: \u001b[22m\u001b[39mLeaving g=25 out\n"
     ]
    },
    {
     "data": {
      "text/plain": [
       "Results of univariate zero finding:\n",
       "\n",
       "* Converged to: 0.8238460937499998\n",
       "* Algorithm: Bisection()\n",
       "* iterations: 10\n",
       "* function evaluations ≈ 13\n",
       "\n",
       "Trace:\n",
       "(a₀, b₀) = ( 0.010306249999999999, 1 )\n",
       "(a₁, b₁) = ( 0.103725, 1 )\n",
       "(a₂, b₂) = ( 0.33244999999999997, 1 )\n",
       "(a₃, b₃) = ( 0.58244999999999991, 1 )\n",
       "(a₄, b₄) = ( 0.79122499999999996, 1 )\n",
       "(a₅, b₅) = ( 0.79122499999999996, 0.89561249999999992 )\n",
       "(a₆, b₆) = ( 0.79122499999999996, 0.84341874999999988 )\n",
       "(a₇, b₇) = ( 0.81732187499999986, 0.84341874999999988 )\n",
       "(a₈, b₈) = ( 0.81732187499999986, 0.83037031249999982 )\n",
       "(a₉, b₉) = ( 0.81732187499999986, 0.82384609374999984 )\n",
       "(a₁₀, b₁₀) = ( 0.8205839843749998, 0.82384609374999984 )\n",
       "\n"
      ]
     },
     "metadata": {},
     "output_type": "display_data"
    },
    {
     "name": "stderr",
     "output_type": "stream",
     "text": [
      "\u001b[36m\u001b[1m[ \u001b[22m\u001b[39m\u001b[36m\u001b[1mInfo: \u001b[22m\u001b[39mTargeting ϕ=0.8238460937499998\n",
      "\u001b[32mProgress: 100%|█████████████████████████████████████████| Time: 0:03:12\u001b[39m\n",
      "\u001b[36m\u001b[1m[ \u001b[22m\u001b[39m\u001b[36m\u001b[1mInfo: \u001b[22m\u001b[39mϕ=1, PSIS\n",
      "\u001b[36m\u001b[1m[ \u001b[22m\u001b[39m\u001b[36m\u001b[1mInfo: \u001b[22m\u001b[39mLeaving g=26 out\n",
      "\u001b[36m\u001b[1m[ \u001b[22m\u001b[39m\u001b[36m\u001b[1mInfo: \u001b[22m\u001b[39mϕ=1, PSIS\n",
      "\u001b[36m\u001b[1m[ \u001b[22m\u001b[39m\u001b[36m\u001b[1mInfo: \u001b[22m\u001b[39mLeaving g=27 out\n",
      "\u001b[36m\u001b[1m[ \u001b[22m\u001b[39m\u001b[36m\u001b[1mInfo: \u001b[22m\u001b[39mϕ=1, PSIS\n",
      "\u001b[36m\u001b[1m[ \u001b[22m\u001b[39m\u001b[36m\u001b[1mInfo: \u001b[22m\u001b[39mLeaving g=28 out\n"
     ]
    },
    {
     "data": {
      "text/plain": [
       "Results of univariate zero finding:\n",
       "\n",
       "* Converged to: 0.8629914062499998\n",
       "* Algorithm: Bisection()\n",
       "* iterations: 10\n",
       "* function evaluations ≈ 13\n",
       "\n",
       "Trace:\n",
       "(a₀, b₀) = ( 0.010306249999999999, 1 )\n",
       "(a₁, b₁) = ( 0.103725, 1 )\n",
       "(a₂, b₂) = ( 0.33244999999999997, 1 )\n",
       "(a₃, b₃) = ( 0.58244999999999991, 1 )\n",
       "(a₄, b₄) = ( 0.79122499999999996, 1 )\n",
       "(a₅, b₅) = ( 0.79122499999999996, 0.89561249999999992 )\n",
       "(a₆, b₆) = ( 0.84341874999999988, 0.89561249999999992 )\n",
       "(a₇, b₇) = ( 0.84341874999999988, 0.8695156249999999 )\n",
       "(a₈, b₈) = ( 0.85646718749999984, 0.8695156249999999 )\n",
       "(a₉, b₉) = ( 0.86299140624999982, 0.8695156249999999 )\n",
       "(a₁₀, b₁₀) = ( 0.86299140624999982, 0.86625351562499986 )\n",
       "\n"
      ]
     },
     "metadata": {},
     "output_type": "display_data"
    },
    {
     "name": "stderr",
     "output_type": "stream",
     "text": [
      "\u001b[36m\u001b[1m[ \u001b[22m\u001b[39m\u001b[36m\u001b[1mInfo: \u001b[22m\u001b[39mTargeting ϕ=0.8629914062499998\n",
      "\u001b[32mProgress: 100%|█████████████████████████████████████████| Time: 0:03:12\u001b[39m\n",
      "\u001b[36m\u001b[1m[ \u001b[22m\u001b[39m\u001b[36m\u001b[1mInfo: \u001b[22m\u001b[39mϕ=1, PSIS\n",
      "\u001b[36m\u001b[1m[ \u001b[22m\u001b[39m\u001b[36m\u001b[1mInfo: \u001b[22m\u001b[39mLeaving g=29 out\n",
      "\u001b[36m\u001b[1m[ \u001b[22m\u001b[39m\u001b[36m\u001b[1mInfo: \u001b[22m\u001b[39mϕ=1, PSIS\n",
      "\u001b[36m\u001b[1m[ \u001b[22m\u001b[39m\u001b[36m\u001b[1mInfo: \u001b[22m\u001b[39mLeaving g=30 out\n",
      "\u001b[36m\u001b[1m[ \u001b[22m\u001b[39m\u001b[36m\u001b[1mInfo: \u001b[22m\u001b[39mϕ=1, PSIS\n",
      "\u001b[36m\u001b[1m[ \u001b[22m\u001b[39m\u001b[36m\u001b[1mInfo: \u001b[22m\u001b[39mLeaving g=31 out\n"
     ]
    },
    {
     "data": {
      "text/plain": [
       "Results of univariate zero finding:\n",
       "\n",
       "* Converged to: 0.4955554687499999\n",
       "* Algorithm: Bisection()\n",
       "* iterations: 10\n",
       "* function evaluations ≈ 13\n",
       "\n",
       "Trace:\n",
       "(a₀, b₀) = ( 0.010306249999999999, 1 )\n",
       "(a₁, b₁) = ( 0.103725, 1 )\n",
       "(a₂, b₂) = ( 0.33244999999999997, 1 )\n",
       "(a₃, b₃) = ( 0.33244999999999997, 0.58244999999999991 )\n",
       "(a₄, b₄) = ( 0.43683749999999993, 0.58244999999999991 )\n",
       "(a₅, b₅) = ( 0.48903124999999992, 0.58244999999999991 )\n",
       "(a₆, b₆) = ( 0.48903124999999992, 0.53025624999999987 )\n",
       "(a₇, b₇) = ( 0.48903124999999992, 0.50415937499999985 )\n",
       "(a₈, b₈) = ( 0.48903124999999992, 0.49555546874999989 )\n",
       "(a₉, b₉) = ( 0.49229335937499991, 0.49555546874999989 )\n",
       "(a₁₀, b₁₀) = ( 0.49392441406249987, 0.49555546874999989 )\n",
       "\n"
      ]
     },
     "metadata": {},
     "output_type": "display_data"
    },
    {
     "name": "stderr",
     "output_type": "stream",
     "text": [
      "\u001b[36m\u001b[1m[ \u001b[22m\u001b[39m\u001b[36m\u001b[1mInfo: \u001b[22m\u001b[39mTargeting ϕ=0.4955554687499999\n",
      "\u001b[32mProgress: 100%|█████████████████████████████████████████| Time: 0:03:10\u001b[39m\n"
     ]
    },
    {
     "data": {
      "text/plain": [
       "Results of univariate zero finding:\n",
       "\n",
       "* Converged to: 0.8092416015624999\n",
       "* Algorithm: Bisection()\n",
       "* iterations: 10\n",
       "* function evaluations ≈ 13\n",
       "\n",
       "Trace:\n",
       "(a₀, b₀) = ( 0.74565546874999988, 1 )\n",
       "(a₁, b₁) = ( 0.74565546874999988, 0.87282773437499994 )\n",
       "(a₂, b₂) = ( 0.80924160156249991, 0.87282773437499994 )\n",
       "(a₃, b₃) = ( 0.80924160156249991, 0.84103466796874993 )\n",
       "(a₄, b₄) = ( 0.80924160156249991, 0.82513813476562492 )\n",
       "(a₅, b₅) = ( 0.80924160156249991, 0.81718986816406236 )\n",
       "(a₆, b₆) = ( 0.80924160156249991, 0.81321573486328114 )\n",
       "(a₇, b₇) = ( 0.80924160156249991, 0.81122866821289052 )\n",
       "(a₈, b₈) = ( 0.80924160156249991, 0.81023513488769516 )\n",
       "(a₉, b₉) = ( 0.80924160156249991, 0.80973836822509748 )\n",
       "(a₁₀, b₁₀) = ( 0.80924160156249991, 0.80948998489379864 )\n",
       "\n"
      ]
     },
     "metadata": {},
     "output_type": "display_data"
    },
    {
     "name": "stderr",
     "output_type": "stream",
     "text": [
      "\u001b[36m\u001b[1m[ \u001b[22m\u001b[39m\u001b[36m\u001b[1mInfo: \u001b[22m\u001b[39mTargeting ϕ=0.8092416015624999\n",
      "\u001b[32mProgress: 100%|█████████████████████████████████████████| Time: 0:03:08\u001b[39m\n",
      "\u001b[36m\u001b[1m[ \u001b[22m\u001b[39m\u001b[36m\u001b[1mInfo: \u001b[22m\u001b[39mϕ=1, PSIS\n",
      "\u001b[36m\u001b[1m[ \u001b[22m\u001b[39m\u001b[36m\u001b[1mInfo: \u001b[22m\u001b[39mLeaving g=32 out\n",
      "\u001b[36m\u001b[1m[ \u001b[22m\u001b[39m\u001b[36m\u001b[1mInfo: \u001b[22m\u001b[39mϕ=1, PSIS\n",
      "\u001b[36m\u001b[1m[ \u001b[22m\u001b[39m\u001b[36m\u001b[1mInfo: \u001b[22m\u001b[39mLeaving g=33 out\n"
     ]
    },
    {
     "data": {
      "text/plain": [
       "Results of univariate zero finding:\n",
       "\n",
       "* Converged to: 0.8075355468749998\n",
       "* Algorithm: Bisection()\n",
       "* iterations: 10\n",
       "* function evaluations ≈ 13\n",
       "\n",
       "Trace:\n",
       "(a₀, b₀) = ( 0.010306249999999999, 1 )\n",
       "(a₁, b₁) = ( 0.103725, 1 )\n",
       "(a₂, b₂) = ( 0.33244999999999997, 1 )\n",
       "(a₃, b₃) = ( 0.58244999999999991, 1 )\n",
       "(a₄, b₄) = ( 0.79122499999999996, 1 )\n",
       "(a₅, b₅) = ( 0.79122499999999996, 0.89561249999999992 )\n",
       "(a₆, b₆) = ( 0.79122499999999996, 0.84341874999999988 )\n",
       "(a₇, b₇) = ( 0.79122499999999996, 0.81732187499999986 )\n",
       "(a₈, b₈) = ( 0.80427343749999991, 0.81732187499999986 )\n",
       "(a₉, b₉) = ( 0.80427343749999991, 0.81079765624999989 )\n",
       "(a₁₀, b₁₀) = ( 0.80753554687499984, 0.81079765624999989 )\n",
       "\n"
      ]
     },
     "metadata": {},
     "output_type": "display_data"
    },
    {
     "name": "stderr",
     "output_type": "stream",
     "text": [
      "\u001b[36m\u001b[1m[ \u001b[22m\u001b[39m\u001b[36m\u001b[1mInfo: \u001b[22m\u001b[39mTargeting ϕ=0.8075355468749998\n",
      "\u001b[32mProgress: 100%|█████████████████████████████████████████| Time: 0:03:10\u001b[39m\n",
      "\u001b[36m\u001b[1m[ \u001b[22m\u001b[39m\u001b[36m\u001b[1mInfo: \u001b[22m\u001b[39mϕ=1, PSIS\n",
      "\u001b[36m\u001b[1m[ \u001b[22m\u001b[39m\u001b[36m\u001b[1mInfo: \u001b[22m\u001b[39mLeaving g=34 out\n",
      "\u001b[36m\u001b[1m[ \u001b[22m\u001b[39m\u001b[36m\u001b[1mInfo: \u001b[22m\u001b[39mϕ=1, PSIS\n",
      "\u001b[36m\u001b[1m[ \u001b[22m\u001b[39m\u001b[36m\u001b[1mInfo: \u001b[22m\u001b[39mLeaving g=35 out\n",
      "\u001b[36m\u001b[1m[ \u001b[22m\u001b[39m\u001b[36m\u001b[1mInfo: \u001b[22m\u001b[39mϕ=1, MCMC\n",
      "\u001b[32mProgress: 100%|█████████████████████████████████████████| Time: 0:01:08\u001b[39m\n",
      "\u001b[36m\u001b[1m[ \u001b[22m\u001b[39m\u001b[36m\u001b[1mInfo: \u001b[22m\u001b[39mLeaving g=36 out\n"
     ]
    },
    {
     "data": {
      "text/plain": [
       "Results of univariate zero finding:\n",
       "\n",
       "* Converged to: 0.6248574218749997\n",
       "* Algorithm: Bisection()\n",
       "* iterations: 10\n",
       "* function evaluations ≈ 13\n",
       "\n",
       "Trace:\n",
       "(a₀, b₀) = ( 0.010306249999999999, 1 )\n",
       "(a₁, b₁) = ( 0.103725, 1 )\n",
       "(a₂, b₂) = ( 0.33244999999999997, 1 )\n",
       "(a₃, b₃) = ( 0.58244999999999991, 1 )\n",
       "(a₄, b₄) = ( 0.58244999999999991, 0.79122499999999996 )\n",
       "(a₅, b₅) = ( 0.58244999999999991, 0.68683749999999988 )\n",
       "(a₆, b₆) = ( 0.58244999999999991, 0.63464374999999984 )\n",
       "(a₇, b₇) = ( 0.60854687499999982, 0.63464374999999984 )\n",
       "(a₈, b₈) = ( 0.62159531249999977, 0.63464374999999984 )\n",
       "(a₉, b₉) = ( 0.62159531249999977, 0.62811953124999975 )\n",
       "(a₁₀, b₁₀) = ( 0.62159531249999977, 0.62485742187499971 )\n",
       "\n"
      ]
     },
     "metadata": {},
     "output_type": "display_data"
    },
    {
     "name": "stderr",
     "output_type": "stream",
     "text": [
      "\u001b[36m\u001b[1m[ \u001b[22m\u001b[39m\u001b[36m\u001b[1mInfo: \u001b[22m\u001b[39mTargeting ϕ=0.6248574218749997\n",
      "\u001b[32mProgress: 100%|█████████████████████████████████████████| Time: 0:03:02\u001b[39m\n",
      "\u001b[36m\u001b[1m[ \u001b[22m\u001b[39m\u001b[36m\u001b[1mInfo: \u001b[22m\u001b[39mϕ=1, PSIS\n",
      "\u001b[36m\u001b[1m[ \u001b[22m\u001b[39m\u001b[36m\u001b[1mInfo: \u001b[22m\u001b[39mLeaving g=37 out\n",
      "\u001b[36m\u001b[1m[ \u001b[22m\u001b[39m\u001b[36m\u001b[1mInfo: \u001b[22m\u001b[39mϕ=1, PSIS\n",
      "\u001b[36m\u001b[1m[ \u001b[22m\u001b[39m\u001b[36m\u001b[1mInfo: \u001b[22m\u001b[39mLeaving g=38 out\n",
      "\u001b[36m\u001b[1m[ \u001b[22m\u001b[39m\u001b[36m\u001b[1mInfo: \u001b[22m\u001b[39mϕ=1, PSIS\n",
      "\u001b[36m\u001b[1m[ \u001b[22m\u001b[39m\u001b[36m\u001b[1mInfo: \u001b[22m\u001b[39mLeaving g=39 out\n"
     ]
    },
    {
     "data": {
      "text/plain": [
       "Results of univariate zero finding:\n",
       "\n",
       "* Converged to: 0.6607406249999999\n",
       "* Algorithm: Bisection()\n",
       "* iterations: 10\n",
       "* function evaluations ≈ 13\n",
       "\n",
       "Trace:\n",
       "(a₀, b₀) = ( 0.010306249999999999, 1 )\n",
       "(a₁, b₁) = ( 0.103725, 1 )\n",
       "(a₂, b₂) = ( 0.33244999999999997, 1 )\n",
       "(a₃, b₃) = ( 0.58244999999999991, 1 )\n",
       "(a₄, b₄) = ( 0.58244999999999991, 0.79122499999999996 )\n",
       "(a₅, b₅) = ( 0.58244999999999991, 0.68683749999999988 )\n",
       "(a₆, b₆) = ( 0.63464374999999984, 0.68683749999999988 )\n",
       "(a₇, b₇) = ( 0.63464374999999984, 0.66074062499999986 )\n",
       "(a₈, b₈) = ( 0.64769218749999979, 0.66074062499999986 )\n",
       "(a₉, b₉) = ( 0.65421640624999977, 0.66074062499999986 )\n",
       "(a₁₀, b₁₀) = ( 0.65747851562499982, 0.66074062499999986 )\n",
       "\n"
      ]
     },
     "metadata": {},
     "output_type": "display_data"
    },
    {
     "name": "stderr",
     "output_type": "stream",
     "text": [
      "\u001b[36m\u001b[1m[ \u001b[22m\u001b[39m\u001b[36m\u001b[1mInfo: \u001b[22m\u001b[39mTargeting ϕ=0.6607406249999999\n",
      "\u001b[32mProgress: 100%|█████████████████████████████████████████| Time: 0:03:08\u001b[39m\n",
      "\u001b[36m\u001b[1m[ \u001b[22m\u001b[39m\u001b[36m\u001b[1mInfo: \u001b[22m\u001b[39mϕ=1, PSIS\n",
      "\u001b[36m\u001b[1m[ \u001b[22m\u001b[39m\u001b[36m\u001b[1mInfo: \u001b[22m\u001b[39mLeaving g=40 out\n"
     ]
    },
    {
     "data": {
      "text/plain": [
       "Results of univariate zero finding:\n",
       "\n",
       "* Converged to: 0.7814386718749998\n",
       "* Algorithm: Bisection()\n",
       "* iterations: 10\n",
       "* function evaluations ≈ 13\n",
       "\n",
       "Trace:\n",
       "(a₀, b₀) = ( 0.010306249999999999, 1 )\n",
       "(a₁, b₁) = ( 0.103725, 1 )\n",
       "(a₂, b₂) = ( 0.33244999999999997, 1 )\n",
       "(a₃, b₃) = ( 0.58244999999999991, 1 )\n",
       "(a₄, b₄) = ( 0.58244999999999991, 0.79122499999999996 )\n",
       "(a₅, b₅) = ( 0.68683749999999988, 0.79122499999999996 )\n",
       "(a₆, b₆) = ( 0.73903124999999992, 0.79122499999999996 )\n",
       "(a₇, b₇) = ( 0.76512812499999994, 0.79122499999999996 )\n",
       "(a₈, b₈) = ( 0.77817656249999989, 0.79122499999999996 )\n",
       "(a₉, b₉) = ( 0.77817656249999989, 0.78470078124999987 )\n",
       "(a₁₀, b₁₀) = ( 0.77817656249999989, 0.78143867187499982 )\n",
       "\n"
      ]
     },
     "metadata": {},
     "output_type": "display_data"
    },
    {
     "name": "stderr",
     "output_type": "stream",
     "text": [
      "\u001b[36m\u001b[1m[ \u001b[22m\u001b[39m\u001b[36m\u001b[1mInfo: \u001b[22m\u001b[39mTargeting ϕ=0.7814386718749998\n",
      "\u001b[32mProgress: 100%|█████████████████████████████████████████| Time: 0:03:08\u001b[39m\n",
      "\u001b[36m\u001b[1m[ \u001b[22m\u001b[39m\u001b[36m\u001b[1mInfo: \u001b[22m\u001b[39mϕ=1, PSIS\n",
      "\u001b[36m\u001b[1m[ \u001b[22m\u001b[39m\u001b[36m\u001b[1mInfo: \u001b[22m\u001b[39mLeaving g=41 out\n"
     ]
    },
    {
     "data": {
      "text/plain": [
       "Results of univariate zero finding:\n",
       "\n",
       "* Converged to: 0.6150710937499998\n",
       "* Algorithm: Bisection()\n",
       "* iterations: 10\n",
       "* function evaluations ≈ 13\n",
       "\n",
       "Trace:\n",
       "(a₀, b₀) = ( 0.010306249999999999, 1 )\n",
       "(a₁, b₁) = ( 0.103725, 1 )\n",
       "(a₂, b₂) = ( 0.33244999999999997, 1 )\n",
       "(a₃, b₃) = ( 0.58244999999999991, 1 )\n",
       "(a₄, b₄) = ( 0.58244999999999991, 0.79122499999999996 )\n",
       "(a₅, b₅) = ( 0.58244999999999991, 0.68683749999999988 )\n",
       "(a₆, b₆) = ( 0.58244999999999991, 0.63464374999999984 )\n",
       "(a₇, b₇) = ( 0.60854687499999982, 0.63464374999999984 )\n",
       "(a₈, b₈) = ( 0.60854687499999982, 0.62159531249999977 )\n",
       "(a₉, b₉) = ( 0.6150710937499998, 0.62159531249999977 )\n",
       "(a₁₀, b₁₀) = ( 0.6150710937499998, 0.61833320312499973 )\n",
       "\n"
      ]
     },
     "metadata": {},
     "output_type": "display_data"
    },
    {
     "name": "stderr",
     "output_type": "stream",
     "text": [
      "\u001b[36m\u001b[1m[ \u001b[22m\u001b[39m\u001b[36m\u001b[1mInfo: \u001b[22m\u001b[39mTargeting ϕ=0.6150710937499998\n",
      "\u001b[32mProgress: 100%|█████████████████████████████████████████| Time: 0:03:08\u001b[39m\n",
      "\u001b[36m\u001b[1m[ \u001b[22m\u001b[39m\u001b[36m\u001b[1mInfo: \u001b[22m\u001b[39mϕ=1, PSIS\n",
      "\u001b[36m\u001b[1m[ \u001b[22m\u001b[39m\u001b[36m\u001b[1mInfo: \u001b[22m\u001b[39mLeaving g=42 out\n",
      "\u001b[36m\u001b[1m[ \u001b[22m\u001b[39m\u001b[36m\u001b[1mInfo: \u001b[22m\u001b[39mϕ=1, PSIS\n",
      "\u001b[36m\u001b[1m[ \u001b[22m\u001b[39m\u001b[36m\u001b[1mInfo: \u001b[22m\u001b[39mLeaving g=43 out\n",
      "\u001b[36m\u001b[1m[ \u001b[22m\u001b[39m\u001b[36m\u001b[1mInfo: \u001b[22m\u001b[39mϕ=1, PSIS\n",
      "\u001b[36m\u001b[1m[ \u001b[22m\u001b[39m\u001b[36m\u001b[1mInfo: \u001b[22m\u001b[39mLeaving g=44 out\n",
      "\u001b[36m\u001b[1m[ \u001b[22m\u001b[39m\u001b[36m\u001b[1mInfo: \u001b[22m\u001b[39mϕ=1, PSIS\n",
      "\u001b[36m\u001b[1m[ \u001b[22m\u001b[39m\u001b[36m\u001b[1mInfo: \u001b[22m\u001b[39mLeaving g=45 out\n",
      "\u001b[36m\u001b[1m[ \u001b[22m\u001b[39m\u001b[36m\u001b[1mInfo: \u001b[22m\u001b[39mϕ=1, PSIS\n",
      "\u001b[36m\u001b[1m[ \u001b[22m\u001b[39m\u001b[36m\u001b[1mInfo: \u001b[22m\u001b[39mLeaving g=46 out\n",
      "\u001b[36m\u001b[1m[ \u001b[22m\u001b[39m\u001b[36m\u001b[1mInfo: \u001b[22m\u001b[39mϕ=1, PSIS\n",
      "\u001b[36m\u001b[1m[ \u001b[22m\u001b[39m\u001b[36m\u001b[1mInfo: \u001b[22m\u001b[39mLeaving g=47 out\n"
     ]
    },
    {
     "data": {
      "text/plain": [
       "Results of univariate zero finding:\n",
       "\n",
       "* Converged to: 0.4661964843749999\n",
       "* Algorithm: Bisection()\n",
       "* iterations: 10\n",
       "* function evaluations ≈ 13\n",
       "\n",
       "Trace:\n",
       "(a₀, b₀) = ( 0.010306249999999999, 1 )\n",
       "(a₁, b₁) = ( 0.103725, 1 )\n",
       "(a₂, b₂) = ( 0.33244999999999997, 1 )\n",
       "(a₃, b₃) = ( 0.33244999999999997, 0.58244999999999991 )\n",
       "(a₄, b₄) = ( 0.43683749999999993, 0.58244999999999991 )\n",
       "(a₅, b₅) = ( 0.43683749999999993, 0.48903124999999992 )\n",
       "(a₆, b₆) = ( 0.4629343749999999, 0.48903124999999992 )\n",
       "(a₇, b₇) = ( 0.4629343749999999, 0.47598281249999991 )\n",
       "(a₈, b₈) = ( 0.4629343749999999, 0.46945859374999988 )\n",
       "(a₉, b₉) = ( 0.4629343749999999, 0.46619648437499989 )\n",
       "(a₁₀, b₁₀) = ( 0.46456542968749986, 0.46619648437499989 )\n",
       "\n"
      ]
     },
     "metadata": {},
     "output_type": "display_data"
    },
    {
     "name": "stderr",
     "output_type": "stream",
     "text": [
      "\u001b[36m\u001b[1m[ \u001b[22m\u001b[39m\u001b[36m\u001b[1mInfo: \u001b[22m\u001b[39mTargeting ϕ=0.4661964843749999\n",
      "\u001b[32mProgress: 100%|█████████████████████████████████████████| Time: 0:03:09\u001b[39m\n"
     ]
    },
    {
     "data": {
      "text/plain": [
       "Results of univariate zero finding:\n",
       "\n",
       "* Converged to: 0.8503907241821286\n",
       "* Algorithm: Bisection()\n",
       "* iterations: 10\n",
       "* function evaluations ≈ 13\n",
       "\n",
       "Trace:\n",
       "(a₀, b₀) = ( 0.71629648437499982, 1 )\n",
       "(a₁, b₁) = ( 0.71629648437499982, 0.85814824218749985 )\n",
       "(a₂, b₂) = ( 0.78722236328124984, 0.85814824218749985 )\n",
       "(a₃, b₃) = ( 0.82268530273437479, 0.85814824218749985 )\n",
       "(a₄, b₄) = ( 0.84041677246093727, 0.85814824218749985 )\n",
       "(a₅, b₅) = ( 0.84928250732421851, 0.85814824218749985 )\n",
       "(a₆, b₆) = ( 0.84928250732421851, 0.85371537475585912 )\n",
       "(a₇, b₇) = ( 0.84928250732421851, 0.85149894104003876 )\n",
       "(a₈, b₈) = ( 0.85039072418212858, 0.85149894104003876 )\n",
       "(a₉, b₉) = ( 0.85039072418212858, 0.85094483261108367 )\n",
       "(a₁₀, b₁₀) = ( 0.85039072418212858, 0.85066777839660612 )\n",
       "\n"
      ]
     },
     "metadata": {},
     "output_type": "display_data"
    },
    {
     "name": "stderr",
     "output_type": "stream",
     "text": [
      "\u001b[36m\u001b[1m[ \u001b[22m\u001b[39m\u001b[36m\u001b[1mInfo: \u001b[22m\u001b[39mTargeting ϕ=0.8503907241821286\n",
      "\u001b[32mProgress: 100%|█████████████████████████████████████████| Time: 0:03:08\u001b[39m\n",
      "\u001b[36m\u001b[1m[ \u001b[22m\u001b[39m\u001b[36m\u001b[1mInfo: \u001b[22m\u001b[39mϕ=1, PSIS\n",
      "\u001b[36m\u001b[1m[ \u001b[22m\u001b[39m\u001b[36m\u001b[1mInfo: \u001b[22m\u001b[39mLeaving g=48 out\n",
      "\u001b[36m\u001b[1m[ \u001b[22m\u001b[39m\u001b[36m\u001b[1mInfo: \u001b[22m\u001b[39mϕ=1, PSIS\n",
      "\u001b[36m\u001b[1m[ \u001b[22m\u001b[39m\u001b[36m\u001b[1mInfo: \u001b[22m\u001b[39mLeaving g=49 out\n"
     ]
    },
    {
     "data": {
      "text/plain": [
       "Results of univariate zero finding:\n",
       "\n",
       "* Converged to: 0.9249714843749999\n",
       "* Algorithm: Bisection()\n",
       "* iterations: 10\n",
       "* function evaluations ≈ 13\n",
       "\n",
       "Trace:\n",
       "(a₀, b₀) = ( 0.010306249999999999, 1 )\n",
       "(a₁, b₁) = ( 0.103725, 1 )\n",
       "(a₂, b₂) = ( 0.33244999999999997, 1 )\n",
       "(a₃, b₃) = ( 0.58244999999999991, 1 )\n",
       "(a₄, b₄) = ( 0.79122499999999996, 1 )\n",
       "(a₅, b₅) = ( 0.89561249999999992, 1 )\n",
       "(a₆, b₆) = ( 0.89561249999999992, 0.94780624999999996 )\n",
       "(a₇, b₇) = ( 0.92170937499999994, 0.94780624999999996 )\n",
       "(a₈, b₈) = ( 0.92170937499999994, 0.9347578124999999 )\n",
       "(a₉, b₉) = ( 0.92170937499999994, 0.92823359374999992 )\n",
       "(a₁₀, b₁₀) = ( 0.92170937499999994, 0.92497148437499987 )\n",
       "\n"
      ]
     },
     "metadata": {},
     "output_type": "display_data"
    },
    {
     "name": "stderr",
     "output_type": "stream",
     "text": [
      "\u001b[36m\u001b[1m[ \u001b[22m\u001b[39m\u001b[36m\u001b[1mInfo: \u001b[22m\u001b[39mTargeting ϕ=0.9249714843749999\n",
      "\u001b[32mProgress: 100%|█████████████████████████████████████████| Time: 0:03:08\u001b[39m\n",
      "\u001b[36m\u001b[1m[ \u001b[22m\u001b[39m\u001b[36m\u001b[1mInfo: \u001b[22m\u001b[39mϕ=1, PSIS\n",
      "\u001b[36m\u001b[1m[ \u001b[22m\u001b[39m\u001b[36m\u001b[1mInfo: \u001b[22m\u001b[39mLeaving g=50 out\n"
     ]
    },
    {
     "data": {
      "text/plain": [
       "Results of univariate zero finding:\n",
       "\n",
       "* Converged to: 0.6770511718749997\n",
       "* Algorithm: Bisection()\n",
       "* iterations: 10\n",
       "* function evaluations ≈ 13\n",
       "\n",
       "Trace:\n",
       "(a₀, b₀) = ( 0.010306249999999999, 1 )\n",
       "(a₁, b₁) = ( 0.103725, 1 )\n",
       "(a₂, b₂) = ( 0.33244999999999997, 1 )\n",
       "(a₃, b₃) = ( 0.58244999999999991, 1 )\n",
       "(a₄, b₄) = ( 0.58244999999999991, 0.79122499999999996 )\n",
       "(a₅, b₅) = ( 0.58244999999999991, 0.68683749999999988 )\n",
       "(a₆, b₆) = ( 0.63464374999999984, 0.68683749999999988 )\n",
       "(a₇, b₇) = ( 0.66074062499999986, 0.68683749999999988 )\n",
       "(a₈, b₈) = ( 0.67378906249999981, 0.68683749999999988 )\n",
       "(a₉, b₉) = ( 0.67378906249999981, 0.68031328124999979 )\n",
       "(a₁₀, b₁₀) = ( 0.67705117187499975, 0.68031328124999979 )\n",
       "\n"
      ]
     },
     "metadata": {},
     "output_type": "display_data"
    },
    {
     "name": "stderr",
     "output_type": "stream",
     "text": [
      "\u001b[36m\u001b[1m[ \u001b[22m\u001b[39m\u001b[36m\u001b[1mInfo: \u001b[22m\u001b[39mTargeting ϕ=0.6770511718749997\n",
      "\u001b[32mProgress: 100%|█████████████████████████████████████████| Time: 0:03:06\u001b[39m\n",
      "\u001b[36m\u001b[1m[ \u001b[22m\u001b[39m\u001b[36m\u001b[1mInfo: \u001b[22m\u001b[39mϕ=1, PSIS\n",
      "\u001b[36m\u001b[1m[ \u001b[22m\u001b[39m\u001b[36m\u001b[1mInfo: \u001b[22m\u001b[39mLeaving g=51 out\n"
     ]
    },
    {
     "data": {
      "text/plain": [
       "Results of univariate zero finding:\n",
       "\n",
       "* Converged to: 0.9184472656249999\n",
       "* Algorithm: Bisection()\n",
       "* iterations: 10\n",
       "* function evaluations ≈ 13\n",
       "\n",
       "Trace:\n",
       "(a₀, b₀) = ( 0.010306249999999999, 1 )\n",
       "(a₁, b₁) = ( 0.103725, 1 )\n",
       "(a₂, b₂) = ( 0.33244999999999997, 1 )\n",
       "(a₃, b₃) = ( 0.58244999999999991, 1 )\n",
       "(a₄, b₄) = ( 0.79122499999999996, 1 )\n",
       "(a₅, b₅) = ( 0.89561249999999992, 1 )\n",
       "(a₆, b₆) = ( 0.89561249999999992, 0.94780624999999996 )\n",
       "(a₇, b₇) = ( 0.89561249999999992, 0.92170937499999994 )\n",
       "(a₈, b₈) = ( 0.90866093749999988, 0.92170937499999994 )\n",
       "(a₉, b₉) = ( 0.91518515624999985, 0.92170937499999994 )\n",
       "(a₁₀, b₁₀) = ( 0.91518515624999985, 0.9184472656249999 )\n",
       "\n"
      ]
     },
     "metadata": {},
     "output_type": "display_data"
    },
    {
     "name": "stderr",
     "output_type": "stream",
     "text": [
      "\u001b[36m\u001b[1m[ \u001b[22m\u001b[39m\u001b[36m\u001b[1mInfo: \u001b[22m\u001b[39mTargeting ϕ=0.9184472656249999\n",
      "\u001b[32mProgress: 100%|█████████████████████████████████████████| Time: 0:03:12\u001b[39m\n",
      "\u001b[36m\u001b[1m[ \u001b[22m\u001b[39m\u001b[36m\u001b[1mInfo: \u001b[22m\u001b[39mϕ=1, PSIS\n",
      "\u001b[36m\u001b[1m[ \u001b[22m\u001b[39m\u001b[36m\u001b[1mInfo: \u001b[22m\u001b[39mLeaving g=52 out\n"
     ]
    },
    {
     "data": {
      "text/plain": [
       "Results of univariate zero finding:\n",
       "\n",
       "* Converged to: 0.8890882812499998\n",
       "* Algorithm: Bisection()\n",
       "* iterations: 10\n",
       "* function evaluations ≈ 13\n",
       "\n",
       "Trace:\n",
       "(a₀, b₀) = ( 0.010306249999999999, 1 )\n",
       "(a₁, b₁) = ( 0.103725, 1 )\n",
       "(a₂, b₂) = ( 0.33244999999999997, 1 )\n",
       "(a₃, b₃) = ( 0.58244999999999991, 1 )\n",
       "(a₄, b₄) = ( 0.79122499999999996, 1 )\n",
       "(a₅, b₅) = ( 0.79122499999999996, 0.89561249999999992 )\n",
       "(a₆, b₆) = ( 0.84341874999999988, 0.89561249999999992 )\n",
       "(a₇, b₇) = ( 0.8695156249999999, 0.89561249999999992 )\n",
       "(a₈, b₈) = ( 0.88256406249999986, 0.89561249999999992 )\n",
       "(a₉, b₉) = ( 0.88256406249999986, 0.88908828124999983 )\n",
       "(a₁₀, b₁₀) = ( 0.88582617187499979, 0.88908828124999983 )\n",
       "\n"
      ]
     },
     "metadata": {},
     "output_type": "display_data"
    },
    {
     "name": "stderr",
     "output_type": "stream",
     "text": [
      "\u001b[36m\u001b[1m[ \u001b[22m\u001b[39m\u001b[36m\u001b[1mInfo: \u001b[22m\u001b[39mTargeting ϕ=0.8890882812499998\n",
      "\u001b[32mProgress: 100%|█████████████████████████████████████████| Time: 0:03:09\u001b[39m\n",
      "\u001b[36m\u001b[1m[ \u001b[22m\u001b[39m\u001b[36m\u001b[1mInfo: \u001b[22m\u001b[39mϕ=1, MCMC\n",
      "\u001b[32mProgress: 100%|█████████████████████████████████████████| Time: 0:01:06\u001b[39m\n",
      "\u001b[36m\u001b[1m[ \u001b[22m\u001b[39m\u001b[36m\u001b[1mInfo: \u001b[22m\u001b[39mLeaving g=53 out\n",
      "\u001b[36m\u001b[1m[ \u001b[22m\u001b[39m\u001b[36m\u001b[1mInfo: \u001b[22m\u001b[39mϕ=1, PSIS\n",
      "\u001b[36m\u001b[1m[ \u001b[22m\u001b[39m\u001b[36m\u001b[1mInfo: \u001b[22m\u001b[39mLeaving g=54 out\n",
      "\u001b[36m\u001b[1m[ \u001b[22m\u001b[39m\u001b[36m\u001b[1mInfo: \u001b[22m\u001b[39mϕ=1, PSIS\n",
      "\u001b[36m\u001b[1m[ \u001b[22m\u001b[39m\u001b[36m\u001b[1mInfo: \u001b[22m\u001b[39mLeaving g=55 out\n",
      "\u001b[36m\u001b[1m[ \u001b[22m\u001b[39m\u001b[36m\u001b[1mInfo: \u001b[22m\u001b[39mϕ=1, PSIS\n",
      "\u001b[36m\u001b[1m[ \u001b[22m\u001b[39m\u001b[36m\u001b[1mInfo: \u001b[22m\u001b[39mLeaving g=56 out\n",
      "\u001b[36m\u001b[1m[ \u001b[22m\u001b[39m\u001b[36m\u001b[1mInfo: \u001b[22m\u001b[39mϕ=1, PSIS\n",
      "\u001b[36m\u001b[1m[ \u001b[22m\u001b[39m\u001b[36m\u001b[1mInfo: \u001b[22m\u001b[39mLeaving g=57 out\n"
     ]
    },
    {
     "data": {
      "text/plain": [
       "Results of univariate zero finding:\n",
       "\n",
       "* Converged to: 0.5041593749999999\n",
       "* Algorithm: Bisection()\n",
       "* iterations: 10\n",
       "* function evaluations ≈ 13\n",
       "\n",
       "Trace:\n",
       "(a₀, b₀) = ( 0.010306249999999999, 1 )\n",
       "(a₁, b₁) = ( 0.103725, 1 )\n",
       "(a₂, b₂) = ( 0.33244999999999997, 1 )\n",
       "(a₃, b₃) = ( 0.33244999999999997, 0.58244999999999991 )\n",
       "(a₄, b₄) = ( 0.43683749999999993, 0.58244999999999991 )\n",
       "(a₅, b₅) = ( 0.48903124999999992, 0.58244999999999991 )\n",
       "(a₆, b₆) = ( 0.48903124999999992, 0.53025624999999987 )\n",
       "(a₇, b₇) = ( 0.50415937499999985, 0.53025624999999987 )\n",
       "(a₈, b₈) = ( 0.50415937499999985, 0.51720781249999981 )\n",
       "(a₉, b₉) = ( 0.50415937499999985, 0.51068359374999983 )\n",
       "(a₁₀, b₁₀) = ( 0.50415937499999985, 0.50742148437499979 )\n",
       "\n"
      ]
     },
     "metadata": {},
     "output_type": "display_data"
    },
    {
     "name": "stderr",
     "output_type": "stream",
     "text": [
      "\u001b[36m\u001b[1m[ \u001b[22m\u001b[39m\u001b[36m\u001b[1mInfo: \u001b[22m\u001b[39mTargeting ϕ=0.5041593749999999\n",
      "\u001b[32mProgress: 100%|█████████████████████████████████████████| Time: 0:03:14\u001b[39m\n"
     ]
    },
    {
     "data": {
      "text/plain": [
       "Results of univariate zero finding:\n",
       "\n",
       "* Converged to: 0.8750966003417967\n",
       "* Algorithm: Bisection()\n",
       "* iterations: 10\n",
       "* function evaluations ≈ 13\n",
       "\n",
       "Trace:\n",
       "(a₀, b₀) = ( 0.75212968749999987, 1 )\n",
       "(a₁, b₁) = ( 0.75212968749999987, 0.87606484374999993 )\n",
       "(a₂, b₂) = ( 0.81409726562499984, 0.87606484374999993 )\n",
       "(a₃, b₃) = ( 0.84508105468749983, 0.87606484374999993 )\n",
       "(a₄, b₄) = ( 0.86057294921874983, 0.87606484374999993 )\n",
       "(a₅, b₅) = ( 0.86831889648437488, 0.87606484374999993 )\n",
       "(a₆, b₆) = ( 0.87219187011718735, 0.87606484374999993 )\n",
       "(a₇, b₇) = ( 0.87412835693359359, 0.87606484374999993 )\n",
       "(a₈, b₈) = ( 0.87412835693359359, 0.8750966003417967 )\n",
       "(a₉, b₉) = ( 0.87461247863769509, 0.8750966003417967 )\n",
       "(a₁₀, b₁₀) = ( 0.8748545394897459, 0.8750966003417967 )\n",
       "\n"
      ]
     },
     "metadata": {},
     "output_type": "display_data"
    },
    {
     "name": "stderr",
     "output_type": "stream",
     "text": [
      "\u001b[36m\u001b[1m[ \u001b[22m\u001b[39m\u001b[36m\u001b[1mInfo: \u001b[22m\u001b[39mTargeting ϕ=0.8750966003417967\n",
      "\u001b[32mProgress: 100%|█████████████████████████████████████████| Time: 0:03:09\u001b[39m\n",
      "\u001b[36m\u001b[1m[ \u001b[22m\u001b[39m\u001b[36m\u001b[1mInfo: \u001b[22m\u001b[39mϕ=1, PSIS\n",
      "\u001b[36m\u001b[1m[ \u001b[22m\u001b[39m\u001b[36m\u001b[1mInfo: \u001b[22m\u001b[39mLeaving g=58 out\n"
     ]
    },
    {
     "data": {
      "text/plain": [
       "Results of univariate zero finding:\n",
       "\n",
       "* Converged to: 0.5824499999999999\n",
       "* Algorithm: Bisection()\n",
       "* iterations: 10\n",
       "* function evaluations ≈ 13\n",
       "\n",
       "Trace:\n",
       "(a₀, b₀) = ( 0.010306249999999999, 1 )\n",
       "(a₁, b₁) = ( 0.103725, 1 )\n",
       "(a₂, b₂) = ( 0.33244999999999997, 1 )\n",
       "(a₃, b₃) = ( 0.58244999999999991, 1 )\n",
       "(a₄, b₄) = ( 0.58244999999999991, 0.79122499999999996 )\n",
       "(a₅, b₅) = ( 0.58244999999999991, 0.68683749999999988 )\n",
       "(a₆, b₆) = ( 0.58244999999999991, 0.63464374999999984 )\n",
       "(a₇, b₇) = ( 0.58244999999999991, 0.60854687499999982 )\n",
       "(a₈, b₈) = ( 0.58244999999999991, 0.59549843749999987 )\n",
       "(a₉, b₉) = ( 0.58244999999999991, 0.58897421874999989 )\n",
       "(a₁₀, b₁₀) = ( 0.58244999999999991, 0.58571210937499985 )\n",
       "\n"
      ]
     },
     "metadata": {},
     "output_type": "display_data"
    },
    {
     "name": "stderr",
     "output_type": "stream",
     "text": [
      "\u001b[36m\u001b[1m[ \u001b[22m\u001b[39m\u001b[36m\u001b[1mInfo: \u001b[22m\u001b[39mTargeting ϕ=0.5824499999999999\n",
      "\u001b[32mProgress: 100%|█████████████████████████████████████████| Time: 0:03:12\u001b[39m\n",
      "\u001b[36m\u001b[1m[ \u001b[22m\u001b[39m\u001b[36m\u001b[1mInfo: \u001b[22m\u001b[39mϕ=1, PSIS\n",
      "\u001b[36m\u001b[1m[ \u001b[22m\u001b[39m\u001b[36m\u001b[1mInfo: \u001b[22m\u001b[39mLeaving g=59 out\n"
     ]
    },
    {
     "data": {
      "text/plain": [
       "Results of univariate zero finding:\n",
       "\n",
       "* Converged to: 0.4759828124999999\n",
       "* Algorithm: Bisection()\n",
       "* iterations: 10\n",
       "* function evaluations ≈ 13\n",
       "\n",
       "Trace:\n",
       "(a₀, b₀) = ( 0.010306249999999999, 1 )\n",
       "(a₁, b₁) = ( 0.103725, 1 )\n",
       "(a₂, b₂) = ( 0.33244999999999997, 1 )\n",
       "(a₃, b₃) = ( 0.33244999999999997, 0.58244999999999991 )\n",
       "(a₄, b₄) = ( 0.43683749999999993, 0.58244999999999991 )\n",
       "(a₅, b₅) = ( 0.43683749999999993, 0.48903124999999992 )\n",
       "(a₆, b₆) = ( 0.4629343749999999, 0.48903124999999992 )\n",
       "(a₇, b₇) = ( 0.4629343749999999, 0.47598281249999991 )\n",
       "(a₈, b₈) = ( 0.46945859374999988, 0.47598281249999991 )\n",
       "(a₉, b₉) = ( 0.47272070312499986, 0.47598281249999991 )\n",
       "(a₁₀, b₁₀) = ( 0.47435175781249989, 0.47598281249999991 )\n",
       "\n"
      ]
     },
     "metadata": {},
     "output_type": "display_data"
    },
    {
     "name": "stderr",
     "output_type": "stream",
     "text": [
      "\u001b[36m\u001b[1m[ \u001b[22m\u001b[39m\u001b[36m\u001b[1mInfo: \u001b[22m\u001b[39mTargeting ϕ=0.4759828124999999\n",
      "\u001b[32mProgress: 100%|█████████████████████████████████████████| Time: 0:03:13\u001b[39m\n"
     ]
    },
    {
     "data": {
      "text/plain": [
       "Results of univariate zero finding:\n",
       "\n",
       "* Converged to: 0.8606339309692381\n",
       "* Algorithm: Bisection()\n",
       "* iterations: 10\n",
       "* function evaluations ≈ 13\n",
       "\n",
       "Trace:\n",
       "(a₀, b₀) = ( 0.72608281249999984, 1 )\n",
       "(a₁, b₁) = ( 0.72608281249999984, 0.86304140624999992 )\n",
       "(a₂, b₂) = ( 0.79456210937499983, 0.86304140624999992 )\n",
       "(a₃, b₃) = ( 0.82880175781249987, 0.86304140624999992 )\n",
       "(a₄, b₄) = ( 0.8459215820312499, 0.86304140624999992 )\n",
       "(a₅, b₅) = ( 0.85448149414062491, 0.86304140624999992 )\n",
       "(a₆, b₆) = ( 0.85876145019531236, 0.86304140624999992 )\n",
       "(a₇, b₇) = ( 0.85876145019531236, 0.86090142822265614 )\n",
       "(a₈, b₈) = ( 0.85983143920898419, 0.86090142822265614 )\n",
       "(a₉, b₉) = ( 0.86036643371582011, 0.86090142822265614 )\n",
       "(a₁₀, b₁₀) = ( 0.86063393096923813, 0.86090142822265614 )\n",
       "\n"
      ]
     },
     "metadata": {},
     "output_type": "display_data"
    },
    {
     "name": "stderr",
     "output_type": "stream",
     "text": [
      "\u001b[36m\u001b[1m[ \u001b[22m\u001b[39m\u001b[36m\u001b[1mInfo: \u001b[22m\u001b[39mTargeting ϕ=0.8606339309692381\n",
      "\u001b[32mProgress: 100%|█████████████████████████████████████████| Time: 0:03:06\u001b[39m\n",
      "\u001b[36m\u001b[1m[ \u001b[22m\u001b[39m\u001b[36m\u001b[1mInfo: \u001b[22m\u001b[39mϕ=1, PSIS\n",
      "\u001b[36m\u001b[1m[ \u001b[22m\u001b[39m\u001b[36m\u001b[1mInfo: \u001b[22m\u001b[39mLeaving g=60 out\n"
     ]
    },
    {
     "data": {
      "text/plain": [
       "Results of univariate zero finding:\n",
       "\n",
       "* Converged to: 0.8988746093749999\n",
       "* Algorithm: Bisection()\n",
       "* iterations: 10\n",
       "* function evaluations ≈ 13\n",
       "\n",
       "Trace:\n",
       "(a₀, b₀) = ( 0.010306249999999999, 1 )\n",
       "(a₁, b₁) = ( 0.103725, 1 )\n",
       "(a₂, b₂) = ( 0.33244999999999997, 1 )\n",
       "(a₃, b₃) = ( 0.58244999999999991, 1 )\n",
       "(a₄, b₄) = ( 0.79122499999999996, 1 )\n",
       "(a₅, b₅) = ( 0.89561249999999992, 1 )\n",
       "(a₆, b₆) = ( 0.89561249999999992, 0.94780624999999996 )\n",
       "(a₇, b₇) = ( 0.89561249999999992, 0.92170937499999994 )\n",
       "(a₈, b₈) = ( 0.89561249999999992, 0.90866093749999988 )\n",
       "(a₉, b₉) = ( 0.89561249999999992, 0.9021367187499999 )\n",
       "(a₁₀, b₁₀) = ( 0.89561249999999992, 0.89887460937499986 )\n",
       "\n"
      ]
     },
     "metadata": {},
     "output_type": "display_data"
    },
    {
     "name": "stderr",
     "output_type": "stream",
     "text": [
      "\u001b[36m\u001b[1m[ \u001b[22m\u001b[39m\u001b[36m\u001b[1mInfo: \u001b[22m\u001b[39mTargeting ϕ=0.8988746093749999\n",
      "\u001b[32mProgress: 100%|█████████████████████████████████████████| Time: 0:03:15\u001b[39m\n",
      "\u001b[36m\u001b[1m[ \u001b[22m\u001b[39m\u001b[36m\u001b[1mInfo: \u001b[22m\u001b[39mϕ=1, PSIS\n",
      "\u001b[36m\u001b[1m[ \u001b[22m\u001b[39m\u001b[36m\u001b[1mInfo: \u001b[22m\u001b[39mLeaving g=61 out\n"
     ]
    },
    {
     "data": {
      "text/plain": [
       "Results of univariate zero finding:\n",
       "\n",
       "* Converged to: 0.6346437499999998\n",
       "* Algorithm: Bisection()\n",
       "* iterations: 10\n",
       "* function evaluations ≈ 13\n",
       "\n",
       "Trace:\n",
       "(a₀, b₀) = ( 0.010306249999999999, 1 )\n",
       "(a₁, b₁) = ( 0.103725, 1 )\n",
       "(a₂, b₂) = ( 0.33244999999999997, 1 )\n",
       "(a₃, b₃) = ( 0.58244999999999991, 1 )\n",
       "(a₄, b₄) = ( 0.58244999999999991, 0.79122499999999996 )\n",
       "(a₅, b₅) = ( 0.58244999999999991, 0.68683749999999988 )\n",
       "(a₆, b₆) = ( 0.63464374999999984, 0.68683749999999988 )\n",
       "(a₇, b₇) = ( 0.63464374999999984, 0.66074062499999986 )\n",
       "(a₈, b₈) = ( 0.63464374999999984, 0.64769218749999979 )\n",
       "(a₉, b₉) = ( 0.63464374999999984, 0.64116796874999982 )\n",
       "(a₁₀, b₁₀) = ( 0.63464374999999984, 0.63790585937499977 )\n",
       "\n"
      ]
     },
     "metadata": {},
     "output_type": "display_data"
    },
    {
     "name": "stderr",
     "output_type": "stream",
     "text": [
      "\u001b[36m\u001b[1m[ \u001b[22m\u001b[39m\u001b[36m\u001b[1mInfo: \u001b[22m\u001b[39mTargeting ϕ=0.6346437499999998\n",
      "\u001b[32mProgress: 100%|█████████████████████████████████████████| Time: 0:03:12\u001b[39m\n",
      "\u001b[36m\u001b[1m[ \u001b[22m\u001b[39m\u001b[36m\u001b[1mInfo: \u001b[22m\u001b[39mϕ=1, PSIS\n",
      "\u001b[36m\u001b[1m[ \u001b[22m\u001b[39m\u001b[36m\u001b[1mInfo: \u001b[22m\u001b[39mLeaving g=62 out\n"
     ]
    },
    {
     "data": {
      "text/plain": [
       "Results of univariate zero finding:\n",
       "\n",
       "* Converged to: 0.7553417968749998\n",
       "* Algorithm: Bisection()\n",
       "* iterations: 10\n",
       "* function evaluations ≈ 13\n",
       "\n",
       "Trace:\n",
       "(a₀, b₀) = ( 0.010306249999999999, 1 )\n",
       "(a₁, b₁) = ( 0.103725, 1 )\n",
       "(a₂, b₂) = ( 0.33244999999999997, 1 )\n",
       "(a₃, b₃) = ( 0.58244999999999991, 1 )\n",
       "(a₄, b₄) = ( 0.58244999999999991, 0.79122499999999996 )\n",
       "(a₅, b₅) = ( 0.68683749999999988, 0.79122499999999996 )\n",
       "(a₆, b₆) = ( 0.73903124999999992, 0.79122499999999996 )\n",
       "(a₇, b₇) = ( 0.73903124999999992, 0.76512812499999994 )\n",
       "(a₈, b₈) = ( 0.75207968749999987, 0.76512812499999994 )\n",
       "(a₉, b₉) = ( 0.75207968749999987, 0.75860390624999985 )\n",
       "(a₁₀, b₁₀) = ( 0.7553417968749998, 0.75860390624999985 )\n",
       "\n"
      ]
     },
     "metadata": {},
     "output_type": "display_data"
    },
    {
     "name": "stderr",
     "output_type": "stream",
     "text": [
      "\u001b[36m\u001b[1m[ \u001b[22m\u001b[39m\u001b[36m\u001b[1mInfo: \u001b[22m\u001b[39mTargeting ϕ=0.7553417968749998\n",
      "\u001b[32mProgress: 100%|█████████████████████████████████████████| Time: 0:03:16\u001b[39m\n",
      "\u001b[36m\u001b[1m[ \u001b[22m\u001b[39m\u001b[36m\u001b[1mInfo: \u001b[22m\u001b[39mϕ=1, PSIS\n",
      "\u001b[36m\u001b[1m[ \u001b[22m\u001b[39m\u001b[36m\u001b[1mInfo: \u001b[22m\u001b[39mLeaving g=63 out\n"
     ]
    },
    {
     "data": {
      "text/plain": [
       "Results of univariate zero finding:\n",
       "\n",
       "* Converged to: 0.4270511718749999\n",
       "* Algorithm: Bisection()\n",
       "* iterations: 10\n",
       "* function evaluations ≈ 13\n",
       "\n",
       "Trace:\n",
       "(a₀, b₀) = ( 0.010306249999999999, 1 )\n",
       "(a₁, b₁) = ( 0.103725, 1 )\n",
       "(a₂, b₂) = ( 0.33244999999999997, 1 )\n",
       "(a₃, b₃) = ( 0.33244999999999997, 0.58244999999999991 )\n",
       "(a₄, b₄) = ( 0.33244999999999997, 0.43683749999999993 )\n",
       "(a₅, b₅) = ( 0.38464374999999995, 0.43683749999999993 )\n",
       "(a₆, b₆) = ( 0.41074062499999991, 0.43683749999999993 )\n",
       "(a₇, b₇) = ( 0.42378906249999992, 0.43683749999999993 )\n",
       "(a₈, b₈) = ( 0.42378906249999992, 0.4303132812499999 )\n",
       "(a₉, b₉) = ( 0.42705117187499991, 0.4303132812499999 )\n",
       "(a₁₀, b₁₀) = ( 0.42705117187499991, 0.42868222656249988 )\n",
       "\n"
      ]
     },
     "metadata": {},
     "output_type": "display_data"
    },
    {
     "name": "stderr",
     "output_type": "stream",
     "text": [
      "\u001b[36m\u001b[1m[ \u001b[22m\u001b[39m\u001b[36m\u001b[1mInfo: \u001b[22m\u001b[39mTargeting ϕ=0.4270511718749999\n",
      "\u001b[32mProgress: 100%|█████████████████████████████████████████| Time: 0:03:09\u001b[39m\n"
     ]
    },
    {
     "data": {
      "text/plain": [
       "Results of univariate zero finding:\n",
       "\n",
       "* Converged to: 0.8779858432769774\n",
       "* Algorithm: Bisection()\n",
       "* iterations: 10\n",
       "* function evaluations ≈ 13\n",
       "\n",
       "Trace:\n",
       "(a₀, b₀) = ( 0.67715117187499985, 1 )\n",
       "(a₁, b₁) = ( 0.83857558593749992, 1 )\n",
       "(a₂, b₂) = ( 0.83857558593749992, 0.91928779296874996 )\n",
       "(a₃, b₃) = ( 0.83857558593749992, 0.87893168945312494 )\n",
       "(a₄, b₄) = ( 0.85875363769531243, 0.87893168945312494 )\n",
       "(a₅, b₅) = ( 0.86884266357421869, 0.87893168945312494 )\n",
       "(a₆, b₆) = ( 0.87388717651367176, 0.87893168945312494 )\n",
       "(a₇, b₇) = ( 0.87640943298339835, 0.87893168945312494 )\n",
       "(a₈, b₈) = ( 0.87767056121826159, 0.87893168945312494 )\n",
       "(a₉, b₉) = ( 0.87767056121826159, 0.87830112533569327 )\n",
       "(a₁₀, b₁₀) = ( 0.87767056121826159, 0.87798584327697737 )\n",
       "\n"
      ]
     },
     "metadata": {},
     "output_type": "display_data"
    },
    {
     "name": "stderr",
     "output_type": "stream",
     "text": [
      "\u001b[36m\u001b[1m[ \u001b[22m\u001b[39m\u001b[36m\u001b[1mInfo: \u001b[22m\u001b[39mTargeting ϕ=0.8779858432769774\n",
      "\u001b[32mProgress: 100%|█████████████████████████████████████████| Time: 0:03:10\u001b[39m\n",
      "\u001b[36m\u001b[1m[ \u001b[22m\u001b[39m\u001b[36m\u001b[1mInfo: \u001b[22m\u001b[39mϕ=1, PSIS\n",
      "\u001b[36m\u001b[1m[ \u001b[22m\u001b[39m\u001b[36m\u001b[1mInfo: \u001b[22m\u001b[39mLeaving g=64 out\n",
      "\u001b[36m\u001b[1m[ \u001b[22m\u001b[39m\u001b[36m\u001b[1mInfo: \u001b[22m\u001b[39mϕ=1, PSIS\n",
      "\u001b[36m\u001b[1m[ \u001b[22m\u001b[39m\u001b[36m\u001b[1mInfo: \u001b[22m\u001b[39mLeaving g=65 out\n"
     ]
    },
    {
     "data": {
      "text/plain": [
       "Results of univariate zero finding:\n",
       "\n",
       "* Converged to: 0.8042734374999999\n",
       "* Algorithm: Bisection()\n",
       "* iterations: 10\n",
       "* function evaluations ≈ 13\n",
       "\n",
       "Trace:\n",
       "(a₀, b₀) = ( 0.010306249999999999, 1 )\n",
       "(a₁, b₁) = ( 0.103725, 1 )\n",
       "(a₂, b₂) = ( 0.33244999999999997, 1 )\n",
       "(a₃, b₃) = ( 0.58244999999999991, 1 )\n",
       "(a₄, b₄) = ( 0.79122499999999996, 1 )\n",
       "(a₅, b₅) = ( 0.79122499999999996, 0.89561249999999992 )\n",
       "(a₆, b₆) = ( 0.79122499999999996, 0.84341874999999988 )\n",
       "(a₇, b₇) = ( 0.79122499999999996, 0.81732187499999986 )\n",
       "(a₈, b₈) = ( 0.80427343749999991, 0.81732187499999986 )\n",
       "(a₉, b₉) = ( 0.80427343749999991, 0.81079765624999989 )\n",
       "(a₁₀, b₁₀) = ( 0.80427343749999991, 0.80753554687499984 )\n",
       "\n"
      ]
     },
     "metadata": {},
     "output_type": "display_data"
    },
    {
     "name": "stderr",
     "output_type": "stream",
     "text": [
      "\u001b[36m\u001b[1m[ \u001b[22m\u001b[39m\u001b[36m\u001b[1mInfo: \u001b[22m\u001b[39mTargeting ϕ=0.8042734374999999\n",
      "\u001b[32mProgress: 100%|█████████████████████████████████████████| Time: 0:03:15\u001b[39m\n",
      "\u001b[36m\u001b[1m[ \u001b[22m\u001b[39m\u001b[36m\u001b[1mInfo: \u001b[22m\u001b[39mϕ=1, PSIS\n",
      "\u001b[36m\u001b[1m[ \u001b[22m\u001b[39m\u001b[36m\u001b[1mInfo: \u001b[22m\u001b[39mLeaving g=66 out\n",
      "\u001b[36m\u001b[1m[ \u001b[22m\u001b[39m\u001b[36m\u001b[1mInfo: \u001b[22m\u001b[39mϕ=1, PSIS\n",
      "\u001b[36m\u001b[1m[ \u001b[22m\u001b[39m\u001b[36m\u001b[1mInfo: \u001b[22m\u001b[39mLeaving g=67 out\n"
     ]
    },
    {
     "data": {
      "text/plain": [
       "Results of univariate zero finding:\n",
       "\n",
       "* Converged to: 0.8760398437499999\n",
       "* Algorithm: Bisection()\n",
       "* iterations: 10\n",
       "* function evaluations ≈ 13\n",
       "\n",
       "Trace:\n",
       "(a₀, b₀) = ( 0.010306249999999999, 1 )\n",
       "(a₁, b₁) = ( 0.103725, 1 )\n",
       "(a₂, b₂) = ( 0.33244999999999997, 1 )\n",
       "(a₃, b₃) = ( 0.58244999999999991, 1 )\n",
       "(a₄, b₄) = ( 0.79122499999999996, 1 )\n",
       "(a₅, b₅) = ( 0.79122499999999996, 0.89561249999999992 )\n",
       "(a₆, b₆) = ( 0.84341874999999988, 0.89561249999999992 )\n",
       "(a₇, b₇) = ( 0.8695156249999999, 0.89561249999999992 )\n",
       "(a₈, b₈) = ( 0.8695156249999999, 0.88256406249999986 )\n",
       "(a₉, b₉) = ( 0.8695156249999999, 0.87603984374999988 )\n",
       "(a₁₀, b₁₀) = ( 0.87277773437499984, 0.87603984374999988 )\n",
       "\n"
      ]
     },
     "metadata": {},
     "output_type": "display_data"
    },
    {
     "name": "stderr",
     "output_type": "stream",
     "text": [
      "\u001b[36m\u001b[1m[ \u001b[22m\u001b[39m\u001b[36m\u001b[1mInfo: \u001b[22m\u001b[39mTargeting ϕ=0.8760398437499999\n",
      "\u001b[32mProgress: 100%|█████████████████████████████████████████| Time: 0:03:12\u001b[39m\n",
      "\u001b[36m\u001b[1m[ \u001b[22m\u001b[39m\u001b[36m\u001b[1mInfo: \u001b[22m\u001b[39mϕ=1, PSIS\n",
      "\u001b[36m\u001b[1m[ \u001b[22m\u001b[39m\u001b[36m\u001b[1mInfo: \u001b[22m\u001b[39mLeaving g=68 out\n"
     ]
    },
    {
     "data": {
      "text/plain": [
       "Results of univariate zero finding:\n",
       "\n",
       "* Converged to: 0.9217093749999999\n",
       "* Algorithm: Bisection()\n",
       "* iterations: 10\n",
       "* function evaluations ≈ 13\n",
       "\n",
       "Trace:\n",
       "(a₀, b₀) = ( 0.010306249999999999, 1 )\n",
       "(a₁, b₁) = ( 0.103725, 1 )\n",
       "(a₂, b₂) = ( 0.33244999999999997, 1 )\n",
       "(a₃, b₃) = ( 0.58244999999999991, 1 )\n",
       "(a₄, b₄) = ( 0.79122499999999996, 1 )\n",
       "(a₅, b₅) = ( 0.89561249999999992, 1 )\n",
       "(a₆, b₆) = ( 0.89561249999999992, 0.94780624999999996 )\n",
       "(a₇, b₇) = ( 0.92170937499999994, 0.94780624999999996 )\n",
       "(a₈, b₈) = ( 0.92170937499999994, 0.9347578124999999 )\n",
       "(a₉, b₉) = ( 0.92170937499999994, 0.92823359374999992 )\n",
       "(a₁₀, b₁₀) = ( 0.92170937499999994, 0.92497148437499987 )\n",
       "\n"
      ]
     },
     "metadata": {},
     "output_type": "display_data"
    },
    {
     "name": "stderr",
     "output_type": "stream",
     "text": [
      "\u001b[36m\u001b[1m[ \u001b[22m\u001b[39m\u001b[36m\u001b[1mInfo: \u001b[22m\u001b[39mTargeting ϕ=0.9217093749999999\n",
      "\u001b[32mProgress: 100%|█████████████████████████████████████████| Time: 0:03:15\u001b[39m\n",
      "\u001b[36m\u001b[1m[ \u001b[22m\u001b[39m\u001b[36m\u001b[1mInfo: \u001b[22m\u001b[39mϕ=1, PSIS\n",
      "\u001b[36m\u001b[1m[ \u001b[22m\u001b[39m\u001b[36m\u001b[1mInfo: \u001b[22m\u001b[39mLeaving g=69 out\n",
      "\u001b[36m\u001b[1m[ \u001b[22m\u001b[39m\u001b[36m\u001b[1mInfo: \u001b[22m\u001b[39mϕ=1, PSIS\n",
      "\u001b[36m\u001b[1m[ \u001b[22m\u001b[39m\u001b[36m\u001b[1mInfo: \u001b[22m\u001b[39mLeaving g=70 out\n",
      "\u001b[36m\u001b[1m[ \u001b[22m\u001b[39m\u001b[36m\u001b[1mInfo: \u001b[22m\u001b[39mϕ=1, PSIS\n",
      "\u001b[36m\u001b[1m[ \u001b[22m\u001b[39m\u001b[36m\u001b[1mInfo: \u001b[22m\u001b[39mLeaving g=71 out\n",
      "\u001b[36m\u001b[1m[ \u001b[22m\u001b[39m\u001b[36m\u001b[1mInfo: \u001b[22m\u001b[39mϕ=1, PSIS\n",
      "\u001b[36m\u001b[1m[ \u001b[22m\u001b[39m\u001b[36m\u001b[1mInfo: \u001b[22m\u001b[39mLeaving g=72 out\n",
      "\u001b[36m\u001b[1m[ \u001b[22m\u001b[39m\u001b[36m\u001b[1mInfo: \u001b[22m\u001b[39mϕ=1, PSIS\n",
      "\u001b[36m\u001b[1m[ \u001b[22m\u001b[39m\u001b[36m\u001b[1mInfo: \u001b[22m\u001b[39mLeaving g=73 out\n",
      "\u001b[36m\u001b[1m[ \u001b[22m\u001b[39m\u001b[36m\u001b[1mInfo: \u001b[22m\u001b[39mϕ=1, PSIS\n",
      "\u001b[36m\u001b[1m[ \u001b[22m\u001b[39m\u001b[36m\u001b[1mInfo: \u001b[22m\u001b[39mLeaving g=74 out\n",
      "\u001b[36m\u001b[1m[ \u001b[22m\u001b[39m\u001b[36m\u001b[1mInfo: \u001b[22m\u001b[39mϕ=1, PSIS\n",
      "\u001b[36m\u001b[1m[ \u001b[22m\u001b[39m\u001b[36m\u001b[1mInfo: \u001b[22m\u001b[39mLeaving g=75 out\n"
     ]
    },
    {
     "data": {
      "text/plain": [
       "Results of univariate zero finding:\n",
       "\n",
       "* Converged to: 0.7259828124999999\n",
       "* Algorithm: Bisection()\n",
       "* iterations: 10\n",
       "* function evaluations ≈ 13\n",
       "\n",
       "Trace:\n",
       "(a₀, b₀) = ( 0.010306249999999999, 1 )\n",
       "(a₁, b₁) = ( 0.103725, 1 )\n",
       "(a₂, b₂) = ( 0.33244999999999997, 1 )\n",
       "(a₃, b₃) = ( 0.58244999999999991, 1 )\n",
       "(a₄, b₄) = ( 0.58244999999999991, 0.79122499999999996 )\n",
       "(a₅, b₅) = ( 0.68683749999999988, 0.79122499999999996 )\n",
       "(a₆, b₆) = ( 0.68683749999999988, 0.73903124999999992 )\n",
       "(a₇, b₇) = ( 0.7129343749999999, 0.73903124999999992 )\n",
       "(a₈, b₈) = ( 0.7129343749999999, 0.72598281249999985 )\n",
       "(a₉, b₉) = ( 0.71945859374999988, 0.72598281249999985 )\n",
       "(a₁₀, b₁₀) = ( 0.72272070312499981, 0.72598281249999985 )\n",
       "\n"
      ]
     },
     "metadata": {},
     "output_type": "display_data"
    },
    {
     "name": "stderr",
     "output_type": "stream",
     "text": [
      "\u001b[36m\u001b[1m[ \u001b[22m\u001b[39m\u001b[36m\u001b[1mInfo: \u001b[22m\u001b[39mTargeting ϕ=0.7259828124999999\n",
      "\u001b[32mProgress: 100%|█████████████████████████████████████████| Time: 0:03:04\u001b[39m\n",
      "\u001b[36m\u001b[1m[ \u001b[22m\u001b[39m\u001b[36m\u001b[1mInfo: \u001b[22m\u001b[39mϕ=1, PSIS\n",
      "\u001b[36m\u001b[1m[ \u001b[22m\u001b[39m\u001b[36m\u001b[1mInfo: \u001b[22m\u001b[39mLeaving g=76 out\n"
     ]
    },
    {
     "data": {
      "text/plain": [
       "Results of univariate zero finding:\n",
       "\n",
       "* Converged to: 0.6803132812499998\n",
       "* Algorithm: Bisection()\n",
       "* iterations: 10\n",
       "* function evaluations ≈ 13\n",
       "\n",
       "Trace:\n",
       "(a₀, b₀) = ( 0.010306249999999999, 1 )\n",
       "(a₁, b₁) = ( 0.103725, 1 )\n",
       "(a₂, b₂) = ( 0.33244999999999997, 1 )\n",
       "(a₃, b₃) = ( 0.58244999999999991, 1 )\n",
       "(a₄, b₄) = ( 0.58244999999999991, 0.79122499999999996 )\n",
       "(a₅, b₅) = ( 0.58244999999999991, 0.68683749999999988 )\n",
       "(a₆, b₆) = ( 0.63464374999999984, 0.68683749999999988 )\n",
       "(a₇, b₇) = ( 0.66074062499999986, 0.68683749999999988 )\n",
       "(a₈, b₈) = ( 0.67378906249999981, 0.68683749999999988 )\n",
       "(a₉, b₉) = ( 0.68031328124999979, 0.68683749999999988 )\n",
       "(a₁₀, b₁₀) = ( 0.68031328124999979, 0.68357539062499983 )\n",
       "\n"
      ]
     },
     "metadata": {},
     "output_type": "display_data"
    },
    {
     "name": "stderr",
     "output_type": "stream",
     "text": [
      "\u001b[36m\u001b[1m[ \u001b[22m\u001b[39m\u001b[36m\u001b[1mInfo: \u001b[22m\u001b[39mTargeting ϕ=0.6803132812499998\n",
      "\u001b[32mProgress: 100%|█████████████████████████████████████████| Time: 0:03:12\u001b[39m\n",
      "\u001b[36m\u001b[1m[ \u001b[22m\u001b[39m\u001b[36m\u001b[1mInfo: \u001b[22m\u001b[39mϕ=1, PSIS\n",
      "\u001b[36m\u001b[1m[ \u001b[22m\u001b[39m\u001b[36m\u001b[1mInfo: \u001b[22m\u001b[39mLeaving g=77 out\n"
     ]
    },
    {
     "data": {
      "text/plain": [
       "Results of univariate zero finding:\n",
       "\n",
       "* Converged to: 0.9249714843749999\n",
       "* Algorithm: Bisection()\n",
       "* iterations: 10\n",
       "* function evaluations ≈ 13\n",
       "\n",
       "Trace:\n",
       "(a₀, b₀) = ( 0.010306249999999999, 1 )\n",
       "(a₁, b₁) = ( 0.103725, 1 )\n",
       "(a₂, b₂) = ( 0.33244999999999997, 1 )\n",
       "(a₃, b₃) = ( 0.58244999999999991, 1 )\n",
       "(a₄, b₄) = ( 0.79122499999999996, 1 )\n",
       "(a₅, b₅) = ( 0.89561249999999992, 1 )\n",
       "(a₆, b₆) = ( 0.89561249999999992, 0.94780624999999996 )\n",
       "(a₇, b₇) = ( 0.92170937499999994, 0.94780624999999996 )\n",
       "(a₈, b₈) = ( 0.92170937499999994, 0.9347578124999999 )\n",
       "(a₉, b₉) = ( 0.92170937499999994, 0.92823359374999992 )\n",
       "(a₁₀, b₁₀) = ( 0.92497148437499987, 0.92823359374999992 )\n",
       "\n"
      ]
     },
     "metadata": {},
     "output_type": "display_data"
    },
    {
     "name": "stderr",
     "output_type": "stream",
     "text": [
      "\u001b[36m\u001b[1m[ \u001b[22m\u001b[39m\u001b[36m\u001b[1mInfo: \u001b[22m\u001b[39mTargeting ϕ=0.9249714843749999\n",
      "\u001b[32mProgress: 100%|█████████████████████████████████████████| Time: 0:03:14\u001b[39m\n",
      "\u001b[36m\u001b[1m[ \u001b[22m\u001b[39m\u001b[36m\u001b[1mInfo: \u001b[22m\u001b[39mϕ=1, PSIS\n",
      "\u001b[36m\u001b[1m[ \u001b[22m\u001b[39m\u001b[36m\u001b[1mInfo: \u001b[22m\u001b[39mLeaving g=78 out\n"
     ]
    },
    {
     "data": {
      "text/plain": [
       "Results of univariate zero finding:\n",
       "\n",
       "* Converged to: 0.9184472656249999\n",
       "* Algorithm: Bisection()\n",
       "* iterations: 10\n",
       "* function evaluations ≈ 13\n",
       "\n",
       "Trace:\n",
       "(a₀, b₀) = ( 0.010306249999999999, 1 )\n",
       "(a₁, b₁) = ( 0.103725, 1 )\n",
       "(a₂, b₂) = ( 0.33244999999999997, 1 )\n",
       "(a₃, b₃) = ( 0.58244999999999991, 1 )\n",
       "(a₄, b₄) = ( 0.79122499999999996, 1 )\n",
       "(a₅, b₅) = ( 0.89561249999999992, 1 )\n",
       "(a₆, b₆) = ( 0.89561249999999992, 0.94780624999999996 )\n",
       "(a₇, b₇) = ( 0.89561249999999992, 0.92170937499999994 )\n",
       "(a₈, b₈) = ( 0.90866093749999988, 0.92170937499999994 )\n",
       "(a₉, b₉) = ( 0.91518515624999985, 0.92170937499999994 )\n",
       "(a₁₀, b₁₀) = ( 0.9184472656249999, 0.92170937499999994 )\n",
       "\n"
      ]
     },
     "metadata": {},
     "output_type": "display_data"
    },
    {
     "name": "stderr",
     "output_type": "stream",
     "text": [
      "\u001b[36m\u001b[1m[ \u001b[22m\u001b[39m\u001b[36m\u001b[1mInfo: \u001b[22m\u001b[39mTargeting ϕ=0.9184472656249999\n",
      "\u001b[32mProgress: 100%|█████████████████████████████████████████| Time: 0:03:14\u001b[39m\n",
      "\u001b[36m\u001b[1m[ \u001b[22m\u001b[39m\u001b[36m\u001b[1mInfo: \u001b[22m\u001b[39mϕ=1, PSIS\n",
      "\u001b[36m\u001b[1m[ \u001b[22m\u001b[39m\u001b[36m\u001b[1mInfo: \u001b[22m\u001b[39mLeaving g=79 out\n",
      "\u001b[36m\u001b[1m[ \u001b[22m\u001b[39m\u001b[36m\u001b[1mInfo: \u001b[22m\u001b[39mϕ=1, PSIS\n",
      "\u001b[36m\u001b[1m[ \u001b[22m\u001b[39m\u001b[36m\u001b[1mInfo: \u001b[22m\u001b[39mLeaving g=80 out\n",
      "\u001b[36m\u001b[1m[ \u001b[22m\u001b[39m\u001b[36m\u001b[1mInfo: \u001b[22m\u001b[39mϕ=1, PSIS\n",
      "\u001b[36m\u001b[1m[ \u001b[22m\u001b[39m\u001b[36m\u001b[1mInfo: \u001b[22m\u001b[39mLeaving g=81 out\n",
      "\u001b[36m\u001b[1m[ \u001b[22m\u001b[39m\u001b[36m\u001b[1mInfo: \u001b[22m\u001b[39mϕ=1, PSIS\n",
      "\u001b[36m\u001b[1m[ \u001b[22m\u001b[39m\u001b[36m\u001b[1mInfo: \u001b[22m\u001b[39mLeaving g=82 out\n",
      "\u001b[36m\u001b[1m[ \u001b[22m\u001b[39m\u001b[36m\u001b[1mInfo: \u001b[22m\u001b[39mϕ=1, PSIS\n",
      "\u001b[36m\u001b[1m[ \u001b[22m\u001b[39m\u001b[36m\u001b[1mInfo: \u001b[22m\u001b[39mLeaving g=83 out\n",
      "\u001b[36m\u001b[1m[ \u001b[22m\u001b[39m\u001b[36m\u001b[1mInfo: \u001b[22m\u001b[39mϕ=1, PSIS\n",
      "\u001b[36m\u001b[1m[ \u001b[22m\u001b[39m\u001b[36m\u001b[1mInfo: \u001b[22m\u001b[39mLeaving g=84 out\n",
      "\u001b[36m\u001b[1m[ \u001b[22m\u001b[39m\u001b[36m\u001b[1mInfo: \u001b[22m\u001b[39mϕ=1, PSIS\n",
      "\u001b[36m\u001b[1m[ \u001b[22m\u001b[39m\u001b[36m\u001b[1mInfo: \u001b[22m\u001b[39mLeaving g=85 out\n",
      "\u001b[36m\u001b[1m[ \u001b[22m\u001b[39m\u001b[36m\u001b[1mInfo: \u001b[22m\u001b[39mϕ=1, MCMC\n",
      "\u001b[32mProgress: 100%|█████████████████████████████████████████| Time: 0:01:07\u001b[39m\n"
     ]
    }
   ],
   "source": [
    "Random.seed!(1)\n",
    "RUN_aSMC && run(chain, SMCS_Radon; k̂_threshold=0.5, save_bool=true)"
   ]
  },
  {
   "cell_type": "code",
   "execution_count": 82,
   "id": "47ad26f7-1bd3-462f-9f2d-cdd7e2280c56",
   "metadata": {
    "scrolled": true
   },
   "outputs": [
    {
     "name": "stderr",
     "output_type": "stream",
     "text": [
      "\u001b[36m\u001b[1m[ \u001b[22m\u001b[39m\u001b[36m\u001b[1mInfo: \u001b[22m\u001b[39mLeaving g=1 out\n"
     ]
    },
    {
     "data": {
      "text/plain": [
       "Results of univariate zero finding:\n",
       "\n",
       "* Converged to: 0.6313816406249998\n",
       "* Algorithm: Bisection()\n",
       "* iterations: 10\n",
       "* function evaluations ≈ 13\n",
       "\n",
       "Trace:\n",
       "(a₀, b₀) = ( 0.010306249999999999, 1 )\n",
       "(a₁, b₁) = ( 0.103725, 1 )\n",
       "(a₂, b₂) = ( 0.33244999999999997, 1 )\n",
       "(a₃, b₃) = ( 0.58244999999999991, 1 )\n",
       "(a₄, b₄) = ( 0.58244999999999991, 0.79122499999999996 )\n",
       "(a₅, b₅) = ( 0.58244999999999991, 0.68683749999999988 )\n",
       "(a₆, b₆) = ( 0.58244999999999991, 0.63464374999999984 )\n",
       "(a₇, b₇) = ( 0.60854687499999982, 0.63464374999999984 )\n",
       "(a₈, b₈) = ( 0.62159531249999977, 0.63464374999999984 )\n",
       "(a₉, b₉) = ( 0.62811953124999975, 0.63464374999999984 )\n",
       "(a₁₀, b₁₀) = ( 0.62811953124999975, 0.6313816406249998 )\n",
       "\n"
      ]
     },
     "metadata": {},
     "output_type": "display_data"
    },
    {
     "name": "stderr",
     "output_type": "stream",
     "text": [
      "\u001b[36m\u001b[1m[ \u001b[22m\u001b[39m\u001b[36m\u001b[1mInfo: \u001b[22m\u001b[39mTargeting ϕ=0.6313816406249998\n",
      "\u001b[32mProgress: 100%|█████████████████████████████████████████| Time: 0:03:14\u001b[39m\n",
      "\u001b[36m\u001b[1m[ \u001b[22m\u001b[39m\u001b[36m\u001b[1mInfo: \u001b[22m\u001b[39mϕ=1, MCMC\n",
      "\u001b[32mProgress: 100%|█████████████████████████████████████████| Time: 0:01:07\u001b[39m\n",
      "\u001b[36m\u001b[1m[ \u001b[22m\u001b[39m\u001b[36m\u001b[1mInfo: \u001b[22m\u001b[39mLeaving g=2 out\n"
     ]
    },
    {
     "data": {
      "text/plain": [
       "Results of univariate zero finding:\n",
       "\n",
       "* Converged to: 0.7325070312499998\n",
       "* Algorithm: Bisection()\n",
       "* iterations: 10\n",
       "* function evaluations ≈ 13\n",
       "\n",
       "Trace:\n",
       "(a₀, b₀) = ( 0.010306249999999999, 1 )\n",
       "(a₁, b₁) = ( 0.103725, 1 )\n",
       "(a₂, b₂) = ( 0.33244999999999997, 1 )\n",
       "(a₃, b₃) = ( 0.58244999999999991, 1 )\n",
       "(a₄, b₄) = ( 0.58244999999999991, 0.79122499999999996 )\n",
       "(a₅, b₅) = ( 0.68683749999999988, 0.79122499999999996 )\n",
       "(a₆, b₆) = ( 0.68683749999999988, 0.73903124999999992 )\n",
       "(a₇, b₇) = ( 0.7129343749999999, 0.73903124999999992 )\n",
       "(a₈, b₈) = ( 0.72598281249999985, 0.73903124999999992 )\n",
       "(a₉, b₉) = ( 0.73250703124999983, 0.73903124999999992 )\n",
       "(a₁₀, b₁₀) = ( 0.73250703124999983, 0.73576914062499987 )\n",
       "\n"
      ]
     },
     "metadata": {},
     "output_type": "display_data"
    },
    {
     "name": "stderr",
     "output_type": "stream",
     "text": [
      "\u001b[36m\u001b[1m[ \u001b[22m\u001b[39m\u001b[36m\u001b[1mInfo: \u001b[22m\u001b[39mTargeting ϕ=0.7325070312499998\n",
      "\u001b[32mProgress: 100%|█████████████████████████████████████████| Time: 0:03:13\u001b[39m\n",
      "\u001b[36m\u001b[1m[ \u001b[22m\u001b[39m\u001b[36m\u001b[1mInfo: \u001b[22m\u001b[39mϕ=1, MCMC\n",
      "\u001b[32mProgress: 100%|█████████████████████████████████████████| Time: 0:01:08\u001b[39m\n",
      "\u001b[36m\u001b[1m[ \u001b[22m\u001b[39m\u001b[36m\u001b[1mInfo: \u001b[22m\u001b[39mLeaving g=3 out\n"
     ]
    },
    {
     "data": {
      "text/plain": [
       "Results of univariate zero finding:\n",
       "\n",
       "* Converged to: 0.6379058593749998\n",
       "* Algorithm: Bisection()\n",
       "* iterations: 10\n",
       "* function evaluations ≈ 13\n",
       "\n",
       "Trace:\n",
       "(a₀, b₀) = ( 0.010306249999999999, 1 )\n",
       "(a₁, b₁) = ( 0.103725, 1 )\n",
       "(a₂, b₂) = ( 0.33244999999999997, 1 )\n",
       "(a₃, b₃) = ( 0.58244999999999991, 1 )\n",
       "(a₄, b₄) = ( 0.58244999999999991, 0.79122499999999996 )\n",
       "(a₅, b₅) = ( 0.58244999999999991, 0.68683749999999988 )\n",
       "(a₆, b₆) = ( 0.63464374999999984, 0.68683749999999988 )\n",
       "(a₇, b₇) = ( 0.63464374999999984, 0.66074062499999986 )\n",
       "(a₈, b₈) = ( 0.63464374999999984, 0.64769218749999979 )\n",
       "(a₉, b₉) = ( 0.63464374999999984, 0.64116796874999982 )\n",
       "(a₁₀, b₁₀) = ( 0.63790585937499977, 0.64116796874999982 )\n",
       "\n"
      ]
     },
     "metadata": {},
     "output_type": "display_data"
    },
    {
     "name": "stderr",
     "output_type": "stream",
     "text": [
      "\u001b[36m\u001b[1m[ \u001b[22m\u001b[39m\u001b[36m\u001b[1mInfo: \u001b[22m\u001b[39mTargeting ϕ=0.6379058593749998\n",
      "\u001b[32mProgress: 100%|█████████████████████████████████████████| Time: 0:03:13\u001b[39m\n",
      "\u001b[36m\u001b[1m[ \u001b[22m\u001b[39m\u001b[36m\u001b[1mInfo: \u001b[22m\u001b[39mϕ=1, MCMC\n",
      "\u001b[32mProgress: 100%|█████████████████████████████████████████| Time: 0:01:07\u001b[39m\n",
      "\u001b[36m\u001b[1m[ \u001b[22m\u001b[39m\u001b[36m\u001b[1mInfo: \u001b[22m\u001b[39mLeaving g=4 out\n",
      "\u001b[36m\u001b[1m[ \u001b[22m\u001b[39m\u001b[36m\u001b[1mInfo: \u001b[22m\u001b[39mϕ=1, MCMC\n",
      "\u001b[32mProgress: 100%|█████████████████████████████████████████| Time: 0:01:10\u001b[39m\n",
      "\u001b[36m\u001b[1m[ \u001b[22m\u001b[39m\u001b[36m\u001b[1mInfo: \u001b[22m\u001b[39mLeaving g=5 out\n"
     ]
    },
    {
     "data": {
      "text/plain": [
       "Results of univariate zero finding:\n",
       "\n",
       "* Converged to: 0.9086609374999999\n",
       "* Algorithm: Bisection()\n",
       "* iterations: 10\n",
       "* function evaluations ≈ 13\n",
       "\n",
       "Trace:\n",
       "(a₀, b₀) = ( 0.010306249999999999, 1 )\n",
       "(a₁, b₁) = ( 0.103725, 1 )\n",
       "(a₂, b₂) = ( 0.33244999999999997, 1 )\n",
       "(a₃, b₃) = ( 0.58244999999999991, 1 )\n",
       "(a₄, b₄) = ( 0.79122499999999996, 1 )\n",
       "(a₅, b₅) = ( 0.89561249999999992, 1 )\n",
       "(a₆, b₆) = ( 0.89561249999999992, 0.94780624999999996 )\n",
       "(a₇, b₇) = ( 0.89561249999999992, 0.92170937499999994 )\n",
       "(a₈, b₈) = ( 0.89561249999999992, 0.90866093749999988 )\n",
       "(a₉, b₉) = ( 0.9021367187499999, 0.90866093749999988 )\n",
       "(a₁₀, b₁₀) = ( 0.90539882812499983, 0.90866093749999988 )\n",
       "\n"
      ]
     },
     "metadata": {},
     "output_type": "display_data"
    },
    {
     "name": "stderr",
     "output_type": "stream",
     "text": [
      "\u001b[36m\u001b[1m[ \u001b[22m\u001b[39m\u001b[36m\u001b[1mInfo: \u001b[22m\u001b[39mTargeting ϕ=0.9086609374999999\n",
      "\u001b[32mProgress: 100%|█████████████████████████████████████████| Time: 0:03:16\u001b[39m\n",
      "\u001b[36m\u001b[1m[ \u001b[22m\u001b[39m\u001b[36m\u001b[1mInfo: \u001b[22m\u001b[39mϕ=1, MCMC\n",
      "\u001b[32mProgress: 100%|█████████████████████████████████████████| Time: 0:01:07\u001b[39m\n",
      "\u001b[36m\u001b[1m[ \u001b[22m\u001b[39m\u001b[36m\u001b[1mInfo: \u001b[22m\u001b[39mLeaving g=6 out\n"
     ]
    },
    {
     "data": {
      "text/plain": [
       "Results of univariate zero finding:\n",
       "\n",
       "* Converged to: 0.8858261718749998\n",
       "* Algorithm: Bisection()\n",
       "* iterations: 10\n",
       "* function evaluations ≈ 13\n",
       "\n",
       "Trace:\n",
       "(a₀, b₀) = ( 0.010306249999999999, 1 )\n",
       "(a₁, b₁) = ( 0.103725, 1 )\n",
       "(a₂, b₂) = ( 0.33244999999999997, 1 )\n",
       "(a₃, b₃) = ( 0.58244999999999991, 1 )\n",
       "(a₄, b₄) = ( 0.79122499999999996, 1 )\n",
       "(a₅, b₅) = ( 0.79122499999999996, 0.89561249999999992 )\n",
       "(a₆, b₆) = ( 0.84341874999999988, 0.89561249999999992 )\n",
       "(a₇, b₇) = ( 0.8695156249999999, 0.89561249999999992 )\n",
       "(a₈, b₈) = ( 0.88256406249999986, 0.89561249999999992 )\n",
       "(a₉, b₉) = ( 0.88256406249999986, 0.88908828124999983 )\n",
       "(a₁₀, b₁₀) = ( 0.88256406249999986, 0.88582617187499979 )\n",
       "\n"
      ]
     },
     "metadata": {},
     "output_type": "display_data"
    },
    {
     "name": "stderr",
     "output_type": "stream",
     "text": [
      "\u001b[36m\u001b[1m[ \u001b[22m\u001b[39m\u001b[36m\u001b[1mInfo: \u001b[22m\u001b[39mTargeting ϕ=0.8858261718749998\n",
      "\u001b[32mProgress: 100%|█████████████████████████████████████████| Time: 0:03:17\u001b[39m\n",
      "\u001b[36m\u001b[1m[ \u001b[22m\u001b[39m\u001b[36m\u001b[1mInfo: \u001b[22m\u001b[39mϕ=1, MCMC\n",
      "\u001b[32mProgress: 100%|█████████████████████████████████████████| Time: 0:01:08\u001b[39m\n",
      "\u001b[36m\u001b[1m[ \u001b[22m\u001b[39m\u001b[36m\u001b[1mInfo: \u001b[22m\u001b[39mLeaving g=7 out\n",
      "\u001b[36m\u001b[1m[ \u001b[22m\u001b[39m\u001b[36m\u001b[1mInfo: \u001b[22m\u001b[39mϕ=1, MCMC\n",
      "\u001b[32mProgress: 100%|█████████████████████████████████████████| Time: 0:01:10\u001b[39m\n",
      "\u001b[36m\u001b[1m[ \u001b[22m\u001b[39m\u001b[36m\u001b[1mInfo: \u001b[22m\u001b[39mLeaving g=8 out\n",
      "\u001b[36m\u001b[1m[ \u001b[22m\u001b[39m\u001b[36m\u001b[1mInfo: \u001b[22m\u001b[39mϕ=1, MCMC\n",
      "\u001b[32mProgress: 100%|█████████████████████████████████████████| Time: 0:01:08\u001b[39m\n",
      "\u001b[36m\u001b[1m[ \u001b[22m\u001b[39m\u001b[36m\u001b[1mInfo: \u001b[22m\u001b[39mLeaving g=9 out\n",
      "\u001b[36m\u001b[1m[ \u001b[22m\u001b[39m\u001b[36m\u001b[1mInfo: \u001b[22m\u001b[39mϕ=1, MCMC\n",
      "\u001b[32mProgress: 100%|█████████████████████████████████████████| Time: 0:01:08\u001b[39m\n",
      "\u001b[36m\u001b[1m[ \u001b[22m\u001b[39m\u001b[36m\u001b[1mInfo: \u001b[22m\u001b[39mLeaving g=10 out\n"
     ]
    },
    {
     "data": {
      "text/plain": [
       "Results of univariate zero finding:\n",
       "\n",
       "* Converged to: 0.9575925781249999\n",
       "* Algorithm: Bisection()\n",
       "* iterations: 10\n",
       "* function evaluations ≈ 13\n",
       "\n",
       "Trace:\n",
       "(a₀, b₀) = ( 0.010306249999999999, 1 )\n",
       "(a₁, b₁) = ( 0.103725, 1 )\n",
       "(a₂, b₂) = ( 0.33244999999999997, 1 )\n",
       "(a₃, b₃) = ( 0.58244999999999991, 1 )\n",
       "(a₄, b₄) = ( 0.79122499999999996, 1 )\n",
       "(a₅, b₅) = ( 0.89561249999999992, 1 )\n",
       "(a₆, b₆) = ( 0.94780624999999996, 1 )\n",
       "(a₇, b₇) = ( 0.94780624999999996, 0.97390312499999998 )\n",
       "(a₈, b₈) = ( 0.94780624999999996, 0.96085468749999992 )\n",
       "(a₉, b₉) = ( 0.95433046874999994, 0.96085468749999992 )\n",
       "(a₁₀, b₁₀) = ( 0.95433046874999994, 0.95759257812499987 )\n",
       "\n"
      ]
     },
     "metadata": {},
     "output_type": "display_data"
    },
    {
     "name": "stderr",
     "output_type": "stream",
     "text": [
      "\u001b[36m\u001b[1m[ \u001b[22m\u001b[39m\u001b[36m\u001b[1mInfo: \u001b[22m\u001b[39mTargeting ϕ=0.9575925781249999\n",
      "\u001b[32mProgress: 100%|█████████████████████████████████████████| Time: 0:03:13\u001b[39m\n",
      "\u001b[36m\u001b[1m[ \u001b[22m\u001b[39m\u001b[36m\u001b[1mInfo: \u001b[22m\u001b[39mϕ=1, MCMC\n",
      "\u001b[32mProgress: 100%|█████████████████████████████████████████| Time: 0:01:07\u001b[39m\n",
      "\u001b[36m\u001b[1m[ \u001b[22m\u001b[39m\u001b[36m\u001b[1mInfo: \u001b[22m\u001b[39mLeaving g=11 out\n",
      "\u001b[36m\u001b[1m[ \u001b[22m\u001b[39m\u001b[36m\u001b[1mInfo: \u001b[22m\u001b[39mϕ=1, MCMC\n",
      "\u001b[32mProgress: 100%|█████████████████████████████████████████| Time: 0:01:09\u001b[39m\n",
      "\u001b[36m\u001b[1m[ \u001b[22m\u001b[39m\u001b[36m\u001b[1mInfo: \u001b[22m\u001b[39mLeaving g=12 out\n",
      "\u001b[36m\u001b[1m[ \u001b[22m\u001b[39m\u001b[36m\u001b[1mInfo: \u001b[22m\u001b[39mϕ=1, MCMC\n",
      "\u001b[32mProgress: 100%|█████████████████████████████████████████| Time: 0:01:09\u001b[39m\n",
      "\u001b[36m\u001b[1m[ \u001b[22m\u001b[39m\u001b[36m\u001b[1mInfo: \u001b[22m\u001b[39mLeaving g=13 out\n"
     ]
    },
    {
     "data": {
      "text/plain": [
       "Results of univariate zero finding:\n",
       "\n",
       "* Converged to: 0.4874001953124999\n",
       "* Algorithm: Bisection()\n",
       "* iterations: 10\n",
       "* function evaluations ≈ 13\n",
       "\n",
       "Trace:\n",
       "(a₀, b₀) = ( 0.010306249999999999, 1 )\n",
       "(a₁, b₁) = ( 0.103725, 1 )\n",
       "(a₂, b₂) = ( 0.33244999999999997, 1 )\n",
       "(a₃, b₃) = ( 0.33244999999999997, 0.58244999999999991 )\n",
       "(a₄, b₄) = ( 0.43683749999999993, 0.58244999999999991 )\n",
       "(a₅, b₅) = ( 0.43683749999999993, 0.48903124999999992 )\n",
       "(a₆, b₆) = ( 0.4629343749999999, 0.48903124999999992 )\n",
       "(a₇, b₇) = ( 0.47598281249999991, 0.48903124999999992 )\n",
       "(a₈, b₈) = ( 0.48250703124999988, 0.48903124999999992 )\n",
       "(a₉, b₉) = ( 0.48576914062499987, 0.48903124999999992 )\n",
       "(a₁₀, b₁₀) = ( 0.4874001953124999, 0.48903124999999992 )\n",
       "\n"
      ]
     },
     "metadata": {},
     "output_type": "display_data"
    },
    {
     "name": "stderr",
     "output_type": "stream",
     "text": [
      "\u001b[36m\u001b[1m[ \u001b[22m\u001b[39m\u001b[36m\u001b[1mInfo: \u001b[22m\u001b[39mTargeting ϕ=0.4874001953124999\n",
      "\u001b[32mProgress: 100%|█████████████████████████████████████████| Time: 0:03:10\u001b[39m\n"
     ]
    },
    {
     "data": {
      "text/plain": [
       "Results of univariate zero finding:\n",
       "\n",
       "* Converged to: 0.7682618911743162\n",
       "* Algorithm: Bisection()\n",
       "* iterations: 10\n",
       "* function evaluations ≈ 13\n",
       "\n",
       "Trace:\n",
       "(a₀, b₀) = ( 0.73750019531249988, 1 )\n",
       "(a₁, b₁) = ( 0.73750019531249988, 0.86875009765624989 )\n",
       "(a₂, b₂) = ( 0.73750019531249988, 0.80312514648437483 )\n",
       "(a₃, b₃) = ( 0.73750019531249988, 0.77031267089843736 )\n",
       "(a₄, b₄) = ( 0.75390643310546857, 0.77031267089843736 )\n",
       "(a₅, b₅) = ( 0.76210955200195296, 0.77031267089843736 )\n",
       "(a₆, b₆) = ( 0.76621111145019516, 0.77031267089843736 )\n",
       "(a₇, b₇) = ( 0.7682618911743162, 0.77031267089843736 )\n",
       "(a₈, b₈) = ( 0.7682618911743162, 0.76928728103637678 )\n",
       "(a₉, b₉) = ( 0.7682618911743162, 0.76877458610534644 )\n",
       "(a₁₀, b₁₀) = ( 0.7682618911743162, 0.76851823863983126 )\n",
       "\n"
      ]
     },
     "metadata": {},
     "output_type": "display_data"
    },
    {
     "name": "stderr",
     "output_type": "stream",
     "text": [
      "\u001b[36m\u001b[1m[ \u001b[22m\u001b[39m\u001b[36m\u001b[1mInfo: \u001b[22m\u001b[39mTargeting ϕ=0.7682618911743162\n",
      "\u001b[32mProgress: 100%|█████████████████████████████████████████| Time: 0:03:11\u001b[39m\n"
     ]
    },
    {
     "data": {
      "text/plain": [
       "Results of univariate zero finding:\n",
       "\n",
       "* Converged to: 0.9089508410133419\n",
       "* Algorithm: Bisection()\n",
       "* iterations: 10\n",
       "* function evaluations ≈ 13\n",
       "\n",
       "Trace:\n",
       "(a₀, b₀) = ( 0.8841809455871581, 1 )\n",
       "(a₁, b₁) = ( 0.8841809455871581, 0.94209047279357905 )\n",
       "(a₂, b₂) = ( 0.8841809455871581, 0.91313570919036857 )\n",
       "(a₃, b₃) = ( 0.89865832738876328, 0.91313570919036857 )\n",
       "(a₄, b₄) = ( 0.90589701828956593, 0.91313570919036857 )\n",
       "(a₅, b₅) = ( 0.90589701828956593, 0.90951636373996725 )\n",
       "(a₆, b₆) = ( 0.90770669101476653, 0.90951636373996725 )\n",
       "(a₇, b₇) = ( 0.90861152737736683, 0.90951636373996725 )\n",
       "(a₈, b₈) = ( 0.90861152737736683, 0.90906394555866699 )\n",
       "(a₉, b₉) = ( 0.90883773646801691, 0.90906394555866699 )\n",
       "(a₁₀, b₁₀) = ( 0.90883773646801691, 0.90895084101334189 )\n",
       "\n"
      ]
     },
     "metadata": {},
     "output_type": "display_data"
    },
    {
     "name": "stderr",
     "output_type": "stream",
     "text": [
      "\u001b[36m\u001b[1m[ \u001b[22m\u001b[39m\u001b[36m\u001b[1mInfo: \u001b[22m\u001b[39mTargeting ϕ=0.9089508410133419\n",
      "\u001b[32mProgress: 100%|█████████████████████████████████████████| Time: 0:03:12\u001b[39m\n"
     ]
    },
    {
     "data": {
      "text/plain": [
       "Results of univariate zero finding:\n",
       "\n",
       "* Converged to: 0.9985789193908334\n",
       "* Algorithm: Bisection()\n",
       "* iterations: 10\n",
       "* function evaluations ≈ 13\n",
       "\n",
       "Trace:\n",
       "(a₀, b₀) = ( 0.95452542050667089, 1 )\n",
       "(a₁, b₁) = ( 0.97726271025333544, 1 )\n",
       "(a₂, b₂) = ( 0.98863135512666767, 1 )\n",
       "(a₃, b₃) = ( 0.99431567756333383, 1 )\n",
       "(a₄, b₄) = ( 0.99715783878166686, 1 )\n",
       "(a₅, b₅) = ( 0.99715783878166686, 0.99857891939083343 )\n",
       "(a₆, b₆) = ( 0.99786837908625015, 0.99857891939083343 )\n",
       "(a₇, b₇) = ( 0.99822364923854179, 0.99857891939083343 )\n",
       "(a₈, b₈) = ( 0.99840128431468755, 0.99857891939083343 )\n",
       "(a₉, b₉) = ( 0.99849010185276044, 0.99857891939083343 )\n",
       "(a₁₀, b₁₀) = ( 0.99853451062179688, 0.99857891939083343 )\n",
       "\n"
      ]
     },
     "metadata": {},
     "output_type": "display_data"
    },
    {
     "name": "stderr",
     "output_type": "stream",
     "text": [
      "\u001b[36m\u001b[1m[ \u001b[22m\u001b[39m\u001b[36m\u001b[1mInfo: \u001b[22m\u001b[39mTargeting ϕ=0.9985789193908334\n",
      "\u001b[32mProgress: 100%|█████████████████████████████████████████| Time: 0:03:10\u001b[39m\n",
      "\u001b[36m\u001b[1m[ \u001b[22m\u001b[39m\u001b[36m\u001b[1mInfo: \u001b[22m\u001b[39mϕ=1, MCMC\n",
      "\u001b[32mProgress: 100%|█████████████████████████████████████████| Time: 0:01:07\u001b[39m\n",
      "\u001b[36m\u001b[1m[ \u001b[22m\u001b[39m\u001b[36m\u001b[1mInfo: \u001b[22m\u001b[39mLeaving g=14 out\n"
     ]
    },
    {
     "data": {
      "text/plain": [
       "Results of univariate zero finding:\n",
       "\n",
       "* Converged to: 0.9902136718749999\n",
       "* Algorithm: Bisection()\n",
       "* iterations: 10\n",
       "* function evaluations ≈ 13\n",
       "\n",
       "Trace:\n",
       "(a₀, b₀) = ( 0.010306249999999999, 1 )\n",
       "(a₁, b₁) = ( 0.103725, 1 )\n",
       "(a₂, b₂) = ( 0.33244999999999997, 1 )\n",
       "(a₃, b₃) = ( 0.58244999999999991, 1 )\n",
       "(a₄, b₄) = ( 0.79122499999999996, 1 )\n",
       "(a₅, b₅) = ( 0.89561249999999992, 1 )\n",
       "(a₆, b₆) = ( 0.94780624999999996, 1 )\n",
       "(a₇, b₇) = ( 0.97390312499999998, 1 )\n",
       "(a₈, b₈) = ( 0.98695156249999993, 1 )\n",
       "(a₉, b₉) = ( 0.98695156249999993, 0.99347578124999991 )\n",
       "(a₁₀, b₁₀) = ( 0.99021367187499987, 0.99347578124999991 )\n",
       "\n"
      ]
     },
     "metadata": {},
     "output_type": "display_data"
    },
    {
     "name": "stderr",
     "output_type": "stream",
     "text": [
      "\u001b[36m\u001b[1m[ \u001b[22m\u001b[39m\u001b[36m\u001b[1mInfo: \u001b[22m\u001b[39mTargeting ϕ=0.9902136718749999\n",
      "\u001b[32mProgress: 100%|█████████████████████████████████████████| Time: 0:03:11\u001b[39m\n",
      "\u001b[36m\u001b[1m[ \u001b[22m\u001b[39m\u001b[36m\u001b[1mInfo: \u001b[22m\u001b[39mϕ=1, MCMC\n",
      "\u001b[32mProgress: 100%|█████████████████████████████████████████| Time: 0:01:07\u001b[39m\n",
      "\u001b[36m\u001b[1m[ \u001b[22m\u001b[39m\u001b[36m\u001b[1mInfo: \u001b[22m\u001b[39mLeaving g=15 out\n"
     ]
    },
    {
     "data": {
      "text/plain": [
       "Results of univariate zero finding:\n",
       "\n",
       "* Converged to: 0.6118089843749998\n",
       "* Algorithm: Bisection()\n",
       "* iterations: 10\n",
       "* function evaluations ≈ 13\n",
       "\n",
       "Trace:\n",
       "(a₀, b₀) = ( 0.010306249999999999, 1 )\n",
       "(a₁, b₁) = ( 0.103725, 1 )\n",
       "(a₂, b₂) = ( 0.33244999999999997, 1 )\n",
       "(a₃, b₃) = ( 0.58244999999999991, 1 )\n",
       "(a₄, b₄) = ( 0.58244999999999991, 0.79122499999999996 )\n",
       "(a₅, b₅) = ( 0.58244999999999991, 0.68683749999999988 )\n",
       "(a₆, b₆) = ( 0.58244999999999991, 0.63464374999999984 )\n",
       "(a₇, b₇) = ( 0.60854687499999982, 0.63464374999999984 )\n",
       "(a₈, b₈) = ( 0.60854687499999982, 0.62159531249999977 )\n",
       "(a₉, b₉) = ( 0.60854687499999982, 0.6150710937499998 )\n",
       "(a₁₀, b₁₀) = ( 0.61180898437499975, 0.6150710937499998 )\n",
       "\n"
      ]
     },
     "metadata": {},
     "output_type": "display_data"
    },
    {
     "name": "stderr",
     "output_type": "stream",
     "text": [
      "\u001b[36m\u001b[1m[ \u001b[22m\u001b[39m\u001b[36m\u001b[1mInfo: \u001b[22m\u001b[39mTargeting ϕ=0.6118089843749998\n",
      "\u001b[32mProgress: 100%|█████████████████████████████████████████| Time: 0:03:16\u001b[39m\n"
     ]
    },
    {
     "data": {
      "text/plain": [
       "Results of univariate zero finding:\n",
       "\n",
       "* Converged to: 0.9681644088745116\n",
       "* Algorithm: Bisection()\n",
       "* iterations: 10\n",
       "* function evaluations ≈ 13\n",
       "\n",
       "Trace:\n",
       "(a₀, b₀) = ( 0.80595449218749982, 1 )\n",
       "(a₁, b₁) = ( 0.90297724609374985, 1 )\n",
       "(a₂, b₂) = ( 0.95148862304687487, 1 )\n",
       "(a₃, b₃) = ( 0.95148862304687487, 0.97574431152343744 )\n",
       "(a₄, b₄) = ( 0.96361646728515615, 0.97574431152343744 )\n",
       "(a₅, b₅) = ( 0.96361646728515615, 0.96968038940429679 )\n",
       "(a₆, b₆) = ( 0.96664842834472642, 0.96968038940429679 )\n",
       "(a₇, b₇) = ( 0.96664842834472642, 0.96816440887451161 )\n",
       "(a₈, b₈) = ( 0.96740641860961896, 0.96816440887451161 )\n",
       "(a₉, b₉) = ( 0.96778541374206528, 0.96816440887451161 )\n",
       "(a₁₀, b₁₀) = ( 0.96797491130828839, 0.96816440887451161 )\n",
       "\n"
      ]
     },
     "metadata": {},
     "output_type": "display_data"
    },
    {
     "name": "stderr",
     "output_type": "stream",
     "text": [
      "\u001b[36m\u001b[1m[ \u001b[22m\u001b[39m\u001b[36m\u001b[1mInfo: \u001b[22m\u001b[39mTargeting ϕ=0.9681644088745116\n",
      "\u001b[32mProgress: 100%|█████████████████████████████████████████| Time: 0:03:13\u001b[39m\n",
      "\u001b[36m\u001b[1m[ \u001b[22m\u001b[39m\u001b[36m\u001b[1mInfo: \u001b[22m\u001b[39mϕ=1, MCMC\n",
      "\u001b[32mProgress: 100%|█████████████████████████████████████████| Time: 0:01:07\u001b[39m\n",
      "\u001b[36m\u001b[1m[ \u001b[22m\u001b[39m\u001b[36m\u001b[1mInfo: \u001b[22m\u001b[39mLeaving g=16 out\n",
      "\u001b[36m\u001b[1m[ \u001b[22m\u001b[39m\u001b[36m\u001b[1mInfo: \u001b[22m\u001b[39mϕ=1, MCMC\n",
      "\u001b[32mProgress: 100%|█████████████████████████████████████████| Time: 0:01:09\u001b[39m\n",
      "\u001b[36m\u001b[1m[ \u001b[22m\u001b[39m\u001b[36m\u001b[1mInfo: \u001b[22m\u001b[39mLeaving g=17 out\n"
     ]
    },
    {
     "data": {
      "text/plain": [
       "Results of univariate zero finding:\n",
       "\n",
       "* Converged to: 0.6574785156249998\n",
       "* Algorithm: Bisection()\n",
       "* iterations: 10\n",
       "* function evaluations ≈ 13\n",
       "\n",
       "Trace:\n",
       "(a₀, b₀) = ( 0.010306249999999999, 1 )\n",
       "(a₁, b₁) = ( 0.103725, 1 )\n",
       "(a₂, b₂) = ( 0.33244999999999997, 1 )\n",
       "(a₃, b₃) = ( 0.58244999999999991, 1 )\n",
       "(a₄, b₄) = ( 0.58244999999999991, 0.79122499999999996 )\n",
       "(a₅, b₅) = ( 0.58244999999999991, 0.68683749999999988 )\n",
       "(a₆, b₆) = ( 0.63464374999999984, 0.68683749999999988 )\n",
       "(a₇, b₇) = ( 0.63464374999999984, 0.66074062499999986 )\n",
       "(a₈, b₈) = ( 0.64769218749999979, 0.66074062499999986 )\n",
       "(a₉, b₉) = ( 0.65421640624999977, 0.66074062499999986 )\n",
       "(a₁₀, b₁₀) = ( 0.65747851562499982, 0.66074062499999986 )\n",
       "\n"
      ]
     },
     "metadata": {},
     "output_type": "display_data"
    },
    {
     "name": "stderr",
     "output_type": "stream",
     "text": [
      "\u001b[36m\u001b[1m[ \u001b[22m\u001b[39m\u001b[36m\u001b[1mInfo: \u001b[22m\u001b[39mTargeting ϕ=0.6574785156249998\n",
      "\u001b[32mProgress: 100%|█████████████████████████████████████████| Time: 0:03:12\u001b[39m\n"
     ]
    },
    {
     "data": {
      "text/plain": [
       "Results of univariate zero finding:\n",
       "\n",
       "* Converged to: 0.9889649326324461\n",
       "* Algorithm: Bisection()\n",
       "* iterations: 10\n",
       "* function evaluations ≈ 13\n",
       "\n",
       "Trace:\n",
       "(a₀, b₀) = ( 0.8287892578124999, 1 )\n",
       "(a₁, b₁) = ( 0.9143946289062499, 1 )\n",
       "(a₂, b₂) = ( 0.95719731445312495, 1 )\n",
       "(a₃, b₃) = ( 0.97859865722656247, 1 )\n",
       "(a₄, b₄) = ( 0.97859865722656247, 0.98929932861328118 )\n",
       "(a₅, b₅) = ( 0.98394899291992177, 0.98929932861328118 )\n",
       "(a₆, b₆) = ( 0.98662416076660142, 0.98929932861328118 )\n",
       "(a₇, b₇) = ( 0.98796174468994125, 0.98929932861328118 )\n",
       "(a₈, b₈) = ( 0.98863053665161116, 0.98929932861328118 )\n",
       "(a₉, b₉) = ( 0.98896493263244611, 0.98929932861328118 )\n",
       "(a₁₀, b₁₀) = ( 0.98896493263244611, 0.98913213062286365 )\n",
       "\n"
      ]
     },
     "metadata": {},
     "output_type": "display_data"
    },
    {
     "name": "stderr",
     "output_type": "stream",
     "text": [
      "\u001b[36m\u001b[1m[ \u001b[22m\u001b[39m\u001b[36m\u001b[1mInfo: \u001b[22m\u001b[39mTargeting ϕ=0.9889649326324461\n",
      "\u001b[32mProgress: 100%|█████████████████████████████████████████| Time: 0:03:12\u001b[39m\n",
      "\u001b[36m\u001b[1m[ \u001b[22m\u001b[39m\u001b[36m\u001b[1mInfo: \u001b[22m\u001b[39mϕ=1, MCMC\n",
      "\u001b[32mProgress: 100%|█████████████████████████████████████████| Time: 0:01:05\u001b[39m\n",
      "\u001b[36m\u001b[1m[ \u001b[22m\u001b[39m\u001b[36m\u001b[1mInfo: \u001b[22m\u001b[39mLeaving g=18 out\n"
     ]
    },
    {
     "data": {
      "text/plain": [
       "Results of univariate zero finding:\n",
       "\n",
       "* Converged to: 0.5824499999999999\n",
       "* Algorithm: Bisection()\n",
       "* iterations: 10\n",
       "* function evaluations ≈ 13\n",
       "\n",
       "Trace:\n",
       "(a₀, b₀) = ( 0.010306249999999999, 1 )\n",
       "(a₁, b₁) = ( 0.103725, 1 )\n",
       "(a₂, b₂) = ( 0.33244999999999997, 1 )\n",
       "(a₃, b₃) = ( 0.58244999999999991, 1 )\n",
       "(a₄, b₄) = ( 0.58244999999999991, 0.79122499999999996 )\n",
       "(a₅, b₅) = ( 0.58244999999999991, 0.68683749999999988 )\n",
       "(a₆, b₆) = ( 0.58244999999999991, 0.63464374999999984 )\n",
       "(a₇, b₇) = ( 0.58244999999999991, 0.60854687499999982 )\n",
       "(a₈, b₈) = ( 0.58244999999999991, 0.59549843749999987 )\n",
       "(a₉, b₉) = ( 0.58244999999999991, 0.58897421874999989 )\n",
       "(a₁₀, b₁₀) = ( 0.58244999999999991, 0.58571210937499985 )\n",
       "\n"
      ]
     },
     "metadata": {},
     "output_type": "display_data"
    },
    {
     "name": "stderr",
     "output_type": "stream",
     "text": [
      "\u001b[36m\u001b[1m[ \u001b[22m\u001b[39m\u001b[36m\u001b[1mInfo: \u001b[22m\u001b[39mTargeting ϕ=0.5824499999999999\n",
      "\u001b[32mProgress: 100%|█████████████████████████████████████████| Time: 0:03:11\u001b[39m\n"
     ]
    },
    {
     "data": {
      "text/plain": [
       "Results of univariate zero finding:\n",
       "\n",
       "* Converged to: 0.9543414062499999\n",
       "* Algorithm: Bisection()\n",
       "* iterations: 10\n",
       "* function evaluations ≈ 13\n",
       "\n",
       "Trace:\n",
       "(a₀, b₀) = ( 0.79127499999999995, 1 )\n",
       "(a₁, b₁) = ( 0.89563749999999998, 1 )\n",
       "(a₂, b₂) = ( 0.94781874999999993, 1 )\n",
       "(a₃, b₃) = ( 0.94781874999999993, 0.97390937499999997 )\n",
       "(a₄, b₄) = ( 0.94781874999999993, 0.96086406249999989 )\n",
       "(a₅, b₅) = ( 0.95434140624999986, 0.96086406249999989 )\n",
       "(a₆, b₆) = ( 0.95434140624999986, 0.95760273437499988 )\n",
       "(a₇, b₇) = ( 0.95434140624999986, 0.95597207031249987 )\n",
       "(a₈, b₈) = ( 0.95434140624999986, 0.95515673828124981 )\n",
       "(a₉, b₉) = ( 0.95434140624999986, 0.95474907226562478 )\n",
       "(a₁₀, b₁₀) = ( 0.95434140624999986, 0.95454523925781232 )\n",
       "\n"
      ]
     },
     "metadata": {},
     "output_type": "display_data"
    },
    {
     "name": "stderr",
     "output_type": "stream",
     "text": [
      "\u001b[36m\u001b[1m[ \u001b[22m\u001b[39m\u001b[36m\u001b[1mInfo: \u001b[22m\u001b[39mTargeting ϕ=0.9543414062499999\n",
      "\u001b[32mProgress: 100%|█████████████████████████████████████████| Time: 0:03:12\u001b[39m\n",
      "\u001b[36m\u001b[1m[ \u001b[22m\u001b[39m\u001b[36m\u001b[1mInfo: \u001b[22m\u001b[39mϕ=1, MCMC\n",
      "\u001b[32mProgress: 100%|█████████████████████████████████████████| Time: 0:01:07\u001b[39m\n",
      "\u001b[36m\u001b[1m[ \u001b[22m\u001b[39m\u001b[36m\u001b[1mInfo: \u001b[22m\u001b[39mLeaving g=19 out\n",
      "\u001b[36m\u001b[1m[ \u001b[22m\u001b[39m\u001b[36m\u001b[1mInfo: \u001b[22m\u001b[39mϕ=1, MCMC\n",
      "\u001b[32mProgress: 100%|█████████████████████████████████████████| Time: 0:01:09\u001b[39m\n",
      "\u001b[36m\u001b[1m[ \u001b[22m\u001b[39m\u001b[36m\u001b[1mInfo: \u001b[22m\u001b[39mLeaving g=20 out\n"
     ]
    },
    {
     "data": {
      "text/plain": [
       "Results of univariate zero finding:\n",
       "\n",
       "* Converged to: 0.7064101562499998\n",
       "* Algorithm: Bisection()\n",
       "* iterations: 10\n",
       "* function evaluations ≈ 13\n",
       "\n",
       "Trace:\n",
       "(a₀, b₀) = ( 0.010306249999999999, 1 )\n",
       "(a₁, b₁) = ( 0.103725, 1 )\n",
       "(a₂, b₂) = ( 0.33244999999999997, 1 )\n",
       "(a₃, b₃) = ( 0.58244999999999991, 1 )\n",
       "(a₄, b₄) = ( 0.58244999999999991, 0.79122499999999996 )\n",
       "(a₅, b₅) = ( 0.68683749999999988, 0.79122499999999996 )\n",
       "(a₆, b₆) = ( 0.68683749999999988, 0.73903124999999992 )\n",
       "(a₇, b₇) = ( 0.68683749999999988, 0.7129343749999999 )\n",
       "(a₈, b₈) = ( 0.69988593749999983, 0.7129343749999999 )\n",
       "(a₉, b₉) = ( 0.69988593749999983, 0.70641015624999981 )\n",
       "(a₁₀, b₁₀) = ( 0.70314804687499977, 0.70641015624999981 )\n",
       "\n"
      ]
     },
     "metadata": {},
     "output_type": "display_data"
    },
    {
     "name": "stderr",
     "output_type": "stream",
     "text": [
      "\u001b[36m\u001b[1m[ \u001b[22m\u001b[39m\u001b[36m\u001b[1mInfo: \u001b[22m\u001b[39mTargeting ϕ=0.7064101562499998\n",
      "\u001b[32mProgress: 100%|█████████████████████████████████████████| Time: 0:03:07\u001b[39m\n",
      "\u001b[36m\u001b[1m[ \u001b[22m\u001b[39m\u001b[36m\u001b[1mInfo: \u001b[22m\u001b[39mϕ=1, MCMC\n",
      "\u001b[32mProgress: 100%|█████████████████████████████████████████| Time: 0:01:06\u001b[39m\n",
      "\u001b[36m\u001b[1m[ \u001b[22m\u001b[39m\u001b[36m\u001b[1mInfo: \u001b[22m\u001b[39mLeaving g=21 out\n",
      "\u001b[36m\u001b[1m[ \u001b[22m\u001b[39m\u001b[36m\u001b[1mInfo: \u001b[22m\u001b[39mϕ=1, MCMC\n",
      "\u001b[32mProgress: 100%|█████████████████████████████████████████| Time: 0:01:08\u001b[39m\n",
      "\u001b[36m\u001b[1m[ \u001b[22m\u001b[39m\u001b[36m\u001b[1mInfo: \u001b[22m\u001b[39mLeaving g=22 out\n",
      "\u001b[36m\u001b[1m[ \u001b[22m\u001b[39m\u001b[36m\u001b[1mInfo: \u001b[22m\u001b[39mϕ=1, MCMC\n",
      "\u001b[32mProgress: 100%|█████████████████████████████████████████| Time: 0:01:08\u001b[39m\n",
      "\u001b[36m\u001b[1m[ \u001b[22m\u001b[39m\u001b[36m\u001b[1mInfo: \u001b[22m\u001b[39mLeaving g=23 out\n"
     ]
    },
    {
     "data": {
      "text/plain": [
       "Results of univariate zero finding:\n",
       "\n",
       "* Converged to: 0.9641167968749998\n",
       "* Algorithm: Bisection()\n",
       "* iterations: 10\n",
       "* function evaluations ≈ 13\n",
       "\n",
       "Trace:\n",
       "(a₀, b₀) = ( 0.010306249999999999, 1 )\n",
       "(a₁, b₁) = ( 0.103725, 1 )\n",
       "(a₂, b₂) = ( 0.33244999999999997, 1 )\n",
       "(a₃, b₃) = ( 0.58244999999999991, 1 )\n",
       "(a₄, b₄) = ( 0.79122499999999996, 1 )\n",
       "(a₅, b₅) = ( 0.89561249999999992, 1 )\n",
       "(a₆, b₆) = ( 0.94780624999999996, 1 )\n",
       "(a₇, b₇) = ( 0.94780624999999996, 0.97390312499999998 )\n",
       "(a₈, b₈) = ( 0.96085468749999992, 0.97390312499999998 )\n",
       "(a₉, b₉) = ( 0.96085468749999992, 0.96737890624999989 )\n",
       "(a₁₀, b₁₀) = ( 0.96085468749999992, 0.96411679687499985 )\n",
       "\n"
      ]
     },
     "metadata": {},
     "output_type": "display_data"
    },
    {
     "name": "stderr",
     "output_type": "stream",
     "text": [
      "\u001b[36m\u001b[1m[ \u001b[22m\u001b[39m\u001b[36m\u001b[1mInfo: \u001b[22m\u001b[39mTargeting ϕ=0.9641167968749998\n",
      "\u001b[32mProgress: 100%|█████████████████████████████████████████| Time: 0:03:14\u001b[39m\n",
      "\u001b[36m\u001b[1m[ \u001b[22m\u001b[39m\u001b[36m\u001b[1mInfo: \u001b[22m\u001b[39mϕ=1, MCMC\n",
      "\u001b[32mProgress: 100%|█████████████████████████████████████████| Time: 0:01:07\u001b[39m\n",
      "\u001b[36m\u001b[1m[ \u001b[22m\u001b[39m\u001b[36m\u001b[1mInfo: \u001b[22m\u001b[39mLeaving g=24 out\n"
     ]
    },
    {
     "data": {
      "text/plain": [
       "Results of univariate zero finding:\n",
       "\n",
       "* Converged to: 0.7390312499999999\n",
       "* Algorithm: Bisection()\n",
       "* iterations: 10\n",
       "* function evaluations ≈ 13\n",
       "\n",
       "Trace:\n",
       "(a₀, b₀) = ( 0.010306249999999999, 1 )\n",
       "(a₁, b₁) = ( 0.103725, 1 )\n",
       "(a₂, b₂) = ( 0.33244999999999997, 1 )\n",
       "(a₃, b₃) = ( 0.58244999999999991, 1 )\n",
       "(a₄, b₄) = ( 0.58244999999999991, 0.79122499999999996 )\n",
       "(a₅, b₅) = ( 0.68683749999999988, 0.79122499999999996 )\n",
       "(a₆, b₆) = ( 0.73903124999999992, 0.79122499999999996 )\n",
       "(a₇, b₇) = ( 0.73903124999999992, 0.76512812499999994 )\n",
       "(a₈, b₈) = ( 0.73903124999999992, 0.75207968749999987 )\n",
       "(a₉, b₉) = ( 0.73903124999999992, 0.74555546874999989 )\n",
       "(a₁₀, b₁₀) = ( 0.73903124999999992, 0.74229335937499985 )\n",
       "\n"
      ]
     },
     "metadata": {},
     "output_type": "display_data"
    },
    {
     "name": "stderr",
     "output_type": "stream",
     "text": [
      "\u001b[36m\u001b[1m[ \u001b[22m\u001b[39m\u001b[36m\u001b[1mInfo: \u001b[22m\u001b[39mTargeting ϕ=0.7390312499999999\n",
      "\u001b[32mProgress: 100%|█████████████████████████████████████████| Time: 0:03:13\u001b[39m\n",
      "\u001b[36m\u001b[1m[ \u001b[22m\u001b[39m\u001b[36m\u001b[1mInfo: \u001b[22m\u001b[39mϕ=1, MCMC\n",
      "\u001b[32mProgress: 100%|█████████████████████████████████████████| Time: 0:01:04\u001b[39m\n",
      "\u001b[36m\u001b[1m[ \u001b[22m\u001b[39m\u001b[36m\u001b[1mInfo: \u001b[22m\u001b[39mLeaving g=25 out\n"
     ]
    },
    {
     "data": {
      "text/plain": [
       "Results of univariate zero finding:\n",
       "\n",
       "* Converged to: 0.8238460937499998\n",
       "* Algorithm: Bisection()\n",
       "* iterations: 10\n",
       "* function evaluations ≈ 13\n",
       "\n",
       "Trace:\n",
       "(a₀, b₀) = ( 0.010306249999999999, 1 )\n",
       "(a₁, b₁) = ( 0.103725, 1 )\n",
       "(a₂, b₂) = ( 0.33244999999999997, 1 )\n",
       "(a₃, b₃) = ( 0.58244999999999991, 1 )\n",
       "(a₄, b₄) = ( 0.79122499999999996, 1 )\n",
       "(a₅, b₅) = ( 0.79122499999999996, 0.89561249999999992 )\n",
       "(a₆, b₆) = ( 0.79122499999999996, 0.84341874999999988 )\n",
       "(a₇, b₇) = ( 0.81732187499999986, 0.84341874999999988 )\n",
       "(a₈, b₈) = ( 0.81732187499999986, 0.83037031249999982 )\n",
       "(a₉, b₉) = ( 0.81732187499999986, 0.82384609374999984 )\n",
       "(a₁₀, b₁₀) = ( 0.8205839843749998, 0.82384609374999984 )\n",
       "\n"
      ]
     },
     "metadata": {},
     "output_type": "display_data"
    },
    {
     "name": "stderr",
     "output_type": "stream",
     "text": [
      "\u001b[36m\u001b[1m[ \u001b[22m\u001b[39m\u001b[36m\u001b[1mInfo: \u001b[22m\u001b[39mTargeting ϕ=0.8238460937499998\n",
      "\u001b[32mProgress: 100%|█████████████████████████████████████████| Time: 0:03:08\u001b[39m\n",
      "\u001b[36m\u001b[1m[ \u001b[22m\u001b[39m\u001b[36m\u001b[1mInfo: \u001b[22m\u001b[39mϕ=1, MCMC\n",
      "\u001b[32mProgress: 100%|█████████████████████████████████████████| Time: 0:01:07\u001b[39m\n",
      "\u001b[36m\u001b[1m[ \u001b[22m\u001b[39m\u001b[36m\u001b[1mInfo: \u001b[22m\u001b[39mLeaving g=26 out\n",
      "\u001b[36m\u001b[1m[ \u001b[22m\u001b[39m\u001b[36m\u001b[1mInfo: \u001b[22m\u001b[39mϕ=1, MCMC\n",
      "\u001b[32mProgress: 100%|█████████████████████████████████████████| Time: 0:01:05\u001b[39m\n",
      "\u001b[36m\u001b[1m[ \u001b[22m\u001b[39m\u001b[36m\u001b[1mInfo: \u001b[22m\u001b[39mLeaving g=27 out\n",
      "\u001b[36m\u001b[1m[ \u001b[22m\u001b[39m\u001b[36m\u001b[1mInfo: \u001b[22m\u001b[39mϕ=1, MCMC\n",
      "\u001b[32mProgress: 100%|█████████████████████████████████████████| Time: 0:01:09\u001b[39m\n",
      "\u001b[36m\u001b[1m[ \u001b[22m\u001b[39m\u001b[36m\u001b[1mInfo: \u001b[22m\u001b[39mLeaving g=28 out\n"
     ]
    },
    {
     "data": {
      "text/plain": [
       "Results of univariate zero finding:\n",
       "\n",
       "* Converged to: 0.8629914062499998\n",
       "* Algorithm: Bisection()\n",
       "* iterations: 10\n",
       "* function evaluations ≈ 13\n",
       "\n",
       "Trace:\n",
       "(a₀, b₀) = ( 0.010306249999999999, 1 )\n",
       "(a₁, b₁) = ( 0.103725, 1 )\n",
       "(a₂, b₂) = ( 0.33244999999999997, 1 )\n",
       "(a₃, b₃) = ( 0.58244999999999991, 1 )\n",
       "(a₄, b₄) = ( 0.79122499999999996, 1 )\n",
       "(a₅, b₅) = ( 0.79122499999999996, 0.89561249999999992 )\n",
       "(a₆, b₆) = ( 0.84341874999999988, 0.89561249999999992 )\n",
       "(a₇, b₇) = ( 0.84341874999999988, 0.8695156249999999 )\n",
       "(a₈, b₈) = ( 0.85646718749999984, 0.8695156249999999 )\n",
       "(a₉, b₉) = ( 0.86299140624999982, 0.8695156249999999 )\n",
       "(a₁₀, b₁₀) = ( 0.86299140624999982, 0.86625351562499986 )\n",
       "\n"
      ]
     },
     "metadata": {},
     "output_type": "display_data"
    },
    {
     "name": "stderr",
     "output_type": "stream",
     "text": [
      "\u001b[36m\u001b[1m[ \u001b[22m\u001b[39m\u001b[36m\u001b[1mInfo: \u001b[22m\u001b[39mTargeting ϕ=0.8629914062499998\n",
      "\u001b[32mProgress: 100%|█████████████████████████████████████████| Time: 0:03:13\u001b[39m\n",
      "\u001b[36m\u001b[1m[ \u001b[22m\u001b[39m\u001b[36m\u001b[1mInfo: \u001b[22m\u001b[39mϕ=1, MCMC\n",
      "\u001b[32mProgress: 100%|█████████████████████████████████████████| Time: 0:01:07\u001b[39m\n",
      "\u001b[36m\u001b[1m[ \u001b[22m\u001b[39m\u001b[36m\u001b[1mInfo: \u001b[22m\u001b[39mLeaving g=29 out\n",
      "\u001b[36m\u001b[1m[ \u001b[22m\u001b[39m\u001b[36m\u001b[1mInfo: \u001b[22m\u001b[39mϕ=1, MCMC\n",
      "\u001b[32mProgress: 100%|█████████████████████████████████████████| Time: 0:01:04\u001b[39m\n",
      "\u001b[36m\u001b[1m[ \u001b[22m\u001b[39m\u001b[36m\u001b[1mInfo: \u001b[22m\u001b[39mLeaving g=30 out\n",
      "\u001b[36m\u001b[1m[ \u001b[22m\u001b[39m\u001b[36m\u001b[1mInfo: \u001b[22m\u001b[39mϕ=1, MCMC\n",
      "\u001b[32mProgress: 100%|█████████████████████████████████████████| Time: 0:01:07\u001b[39m\n",
      "\u001b[36m\u001b[1m[ \u001b[22m\u001b[39m\u001b[36m\u001b[1mInfo: \u001b[22m\u001b[39mLeaving g=31 out\n"
     ]
    },
    {
     "data": {
      "text/plain": [
       "Results of univariate zero finding:\n",
       "\n",
       "* Converged to: 0.4955554687499999\n",
       "* Algorithm: Bisection()\n",
       "* iterations: 10\n",
       "* function evaluations ≈ 13\n",
       "\n",
       "Trace:\n",
       "(a₀, b₀) = ( 0.010306249999999999, 1 )\n",
       "(a₁, b₁) = ( 0.103725, 1 )\n",
       "(a₂, b₂) = ( 0.33244999999999997, 1 )\n",
       "(a₃, b₃) = ( 0.33244999999999997, 0.58244999999999991 )\n",
       "(a₄, b₄) = ( 0.43683749999999993, 0.58244999999999991 )\n",
       "(a₅, b₅) = ( 0.48903124999999992, 0.58244999999999991 )\n",
       "(a₆, b₆) = ( 0.48903124999999992, 0.53025624999999987 )\n",
       "(a₇, b₇) = ( 0.48903124999999992, 0.50415937499999985 )\n",
       "(a₈, b₈) = ( 0.48903124999999992, 0.49555546874999989 )\n",
       "(a₉, b₉) = ( 0.49229335937499991, 0.49555546874999989 )\n",
       "(a₁₀, b₁₀) = ( 0.49392441406249987, 0.49555546874999989 )\n",
       "\n"
      ]
     },
     "metadata": {},
     "output_type": "display_data"
    },
    {
     "name": "stderr",
     "output_type": "stream",
     "text": [
      "\u001b[36m\u001b[1m[ \u001b[22m\u001b[39m\u001b[36m\u001b[1mInfo: \u001b[22m\u001b[39mTargeting ϕ=0.4955554687499999\n",
      "\u001b[32mProgress: 100%|█████████████████████████████████████████| Time: 0:03:10\u001b[39m\n"
     ]
    },
    {
     "data": {
      "text/plain": [
       "Results of univariate zero finding:\n",
       "\n",
       "* Converged to: 0.7801807518005369\n",
       "* Algorithm: Bisection()\n",
       "* iterations: 10\n",
       "* function evaluations ≈ 13\n",
       "\n",
       "Trace:\n",
       "(a₀, b₀) = ( 0.74565546874999988, 1 )\n",
       "(a₁, b₁) = ( 0.74565546874999988, 0.87282773437499994 )\n",
       "(a₂, b₂) = ( 0.74565546874999988, 0.80924160156249991 )\n",
       "(a₃, b₃) = ( 0.7774485351562499, 0.80924160156249991 )\n",
       "(a₄, b₄) = ( 0.7774485351562499, 0.79334506835937491 )\n",
       "(a₅, b₅) = ( 0.7774485351562499, 0.78539680175781235 )\n",
       "(a₆, b₆) = ( 0.7774485351562499, 0.78142266845703112 )\n",
       "(a₇, b₇) = ( 0.77943560180664051, 0.78142266845703112 )\n",
       "(a₈, b₈) = ( 0.77943560180664051, 0.78042913513183576 )\n",
       "(a₉, b₉) = ( 0.77993236846923808, 0.78042913513183576 )\n",
       "(a₁₀, b₁₀) = ( 0.78018075180053692, 0.78042913513183576 )\n",
       "\n"
      ]
     },
     "metadata": {},
     "output_type": "display_data"
    },
    {
     "name": "stderr",
     "output_type": "stream",
     "text": [
      "\u001b[36m\u001b[1m[ \u001b[22m\u001b[39m\u001b[36m\u001b[1mInfo: \u001b[22m\u001b[39mTargeting ϕ=0.7801807518005369\n",
      "\u001b[32mProgress: 100%|█████████████████████████████████████████| Time: 0:03:10\u001b[39m\n"
     ]
    },
    {
     "data": {
      "text/plain": [
       "Results of univariate zero finding:\n",
       "\n",
       "* Converged to: 0.9737152266558259\n",
       "* Algorithm: Bisection()\n",
       "* iterations: 10\n",
       "* function evaluations ≈ 13\n",
       "\n",
       "Trace:\n",
       "(a₀, b₀) = ( 0.8901403759002684, 1 )\n",
       "(a₁, b₁) = ( 0.9450701879501342, 1 )\n",
       "(a₂, b₂) = ( 0.9725350939750671, 1 )\n",
       "(a₃, b₃) = ( 0.9725350939750671, 0.98626754698753349 )\n",
       "(a₄, b₄) = ( 0.9725350939750671, 0.97940132048130024 )\n",
       "(a₅, b₅) = ( 0.9725350939750671, 0.97596820722818367 )\n",
       "(a₆, b₆) = ( 0.9725350939750671, 0.97425165060162533 )\n",
       "(a₇, b₇) = ( 0.97339337228834621, 0.97425165060162533 )\n",
       "(a₈, b₈) = ( 0.97339337228834621, 0.97382251144498577 )\n",
       "(a₉, b₉) = ( 0.97360794186666599, 0.97382251144498577 )\n",
       "(a₁₀, b₁₀) = ( 0.97360794186666599, 0.97371522665582588 )\n",
       "\n"
      ]
     },
     "metadata": {},
     "output_type": "display_data"
    },
    {
     "name": "stderr",
     "output_type": "stream",
     "text": [
      "\u001b[36m\u001b[1m[ \u001b[22m\u001b[39m\u001b[36m\u001b[1mInfo: \u001b[22m\u001b[39mTargeting ϕ=0.9737152266558259\n",
      "\u001b[32mProgress: 100%|█████████████████████████████████████████| Time: 0:03:11\u001b[39m\n",
      "\u001b[36m\u001b[1m[ \u001b[22m\u001b[39m\u001b[36m\u001b[1mInfo: \u001b[22m\u001b[39mϕ=1, MCMC\n",
      "\u001b[32mProgress: 100%|█████████████████████████████████████████| Time: 0:01:06\u001b[39m\n",
      "\u001b[36m\u001b[1m[ \u001b[22m\u001b[39m\u001b[36m\u001b[1mInfo: \u001b[22m\u001b[39mLeaving g=32 out\n",
      "\u001b[36m\u001b[1m[ \u001b[22m\u001b[39m\u001b[36m\u001b[1mInfo: \u001b[22m\u001b[39mϕ=1, MCMC\n",
      "\u001b[32mProgress: 100%|█████████████████████████████████████████| Time: 0:01:09\u001b[39m\n",
      "\u001b[36m\u001b[1m[ \u001b[22m\u001b[39m\u001b[36m\u001b[1mInfo: \u001b[22m\u001b[39mLeaving g=33 out\n"
     ]
    },
    {
     "data": {
      "text/plain": [
       "Results of univariate zero finding:\n",
       "\n",
       "* Converged to: 0.8075355468749998\n",
       "* Algorithm: Bisection()\n",
       "* iterations: 10\n",
       "* function evaluations ≈ 13\n",
       "\n",
       "Trace:\n",
       "(a₀, b₀) = ( 0.010306249999999999, 1 )\n",
       "(a₁, b₁) = ( 0.103725, 1 )\n",
       "(a₂, b₂) = ( 0.33244999999999997, 1 )\n",
       "(a₃, b₃) = ( 0.58244999999999991, 1 )\n",
       "(a₄, b₄) = ( 0.79122499999999996, 1 )\n",
       "(a₅, b₅) = ( 0.79122499999999996, 0.89561249999999992 )\n",
       "(a₆, b₆) = ( 0.79122499999999996, 0.84341874999999988 )\n",
       "(a₇, b₇) = ( 0.79122499999999996, 0.81732187499999986 )\n",
       "(a₈, b₈) = ( 0.80427343749999991, 0.81732187499999986 )\n",
       "(a₉, b₉) = ( 0.80427343749999991, 0.81079765624999989 )\n",
       "(a₁₀, b₁₀) = ( 0.80753554687499984, 0.81079765624999989 )\n",
       "\n"
      ]
     },
     "metadata": {},
     "output_type": "display_data"
    },
    {
     "name": "stderr",
     "output_type": "stream",
     "text": [
      "\u001b[36m\u001b[1m[ \u001b[22m\u001b[39m\u001b[36m\u001b[1mInfo: \u001b[22m\u001b[39mTargeting ϕ=0.8075355468749998\n",
      "\u001b[32mProgress: 100%|█████████████████████████████████████████| Time: 0:03:12\u001b[39m\n",
      "\u001b[36m\u001b[1m[ \u001b[22m\u001b[39m\u001b[36m\u001b[1mInfo: \u001b[22m\u001b[39mϕ=1, MCMC\n",
      "\u001b[32mProgress: 100%|█████████████████████████████████████████| Time: 0:01:06\u001b[39m\n",
      "\u001b[36m\u001b[1m[ \u001b[22m\u001b[39m\u001b[36m\u001b[1mInfo: \u001b[22m\u001b[39mLeaving g=34 out\n",
      "\u001b[36m\u001b[1m[ \u001b[22m\u001b[39m\u001b[36m\u001b[1mInfo: \u001b[22m\u001b[39mϕ=1, MCMC\n",
      "\u001b[32mProgress: 100%|█████████████████████████████████████████| Time: 0:01:07\u001b[39m\n",
      "\u001b[36m\u001b[1m[ \u001b[22m\u001b[39m\u001b[36m\u001b[1mInfo: \u001b[22m\u001b[39mLeaving g=35 out\n",
      "\u001b[36m\u001b[1m[ \u001b[22m\u001b[39m\u001b[36m\u001b[1mInfo: \u001b[22m\u001b[39mϕ=1, MCMC\n",
      "\u001b[32mProgress: 100%|█████████████████████████████████████████| Time: 0:01:05\u001b[39m\n",
      "\u001b[36m\u001b[1m[ \u001b[22m\u001b[39m\u001b[36m\u001b[1mInfo: \u001b[22m\u001b[39mLeaving g=36 out\n"
     ]
    },
    {
     "data": {
      "text/plain": [
       "Results of univariate zero finding:\n",
       "\n",
       "* Converged to: 0.6248574218749997\n",
       "* Algorithm: Bisection()\n",
       "* iterations: 10\n",
       "* function evaluations ≈ 13\n",
       "\n",
       "Trace:\n",
       "(a₀, b₀) = ( 0.010306249999999999, 1 )\n",
       "(a₁, b₁) = ( 0.103725, 1 )\n",
       "(a₂, b₂) = ( 0.33244999999999997, 1 )\n",
       "(a₃, b₃) = ( 0.58244999999999991, 1 )\n",
       "(a₄, b₄) = ( 0.58244999999999991, 0.79122499999999996 )\n",
       "(a₅, b₅) = ( 0.58244999999999991, 0.68683749999999988 )\n",
       "(a₆, b₆) = ( 0.58244999999999991, 0.63464374999999984 )\n",
       "(a₇, b₇) = ( 0.60854687499999982, 0.63464374999999984 )\n",
       "(a₈, b₈) = ( 0.62159531249999977, 0.63464374999999984 )\n",
       "(a₉, b₉) = ( 0.62159531249999977, 0.62811953124999975 )\n",
       "(a₁₀, b₁₀) = ( 0.62159531249999977, 0.62485742187499971 )\n",
       "\n"
      ]
     },
     "metadata": {},
     "output_type": "display_data"
    },
    {
     "name": "stderr",
     "output_type": "stream",
     "text": [
      "\u001b[36m\u001b[1m[ \u001b[22m\u001b[39m\u001b[36m\u001b[1mInfo: \u001b[22m\u001b[39mTargeting ϕ=0.6248574218749997\n",
      "\u001b[32mProgress: 100%|█████████████████████████████████████████| Time: 0:03:10\u001b[39m\n",
      "\u001b[36m\u001b[1m[ \u001b[22m\u001b[39m\u001b[36m\u001b[1mInfo: \u001b[22m\u001b[39mϕ=1, MCMC\n",
      "\u001b[32mProgress: 100%|█████████████████████████████████████████| Time: 0:01:06\u001b[39m\n",
      "\u001b[36m\u001b[1m[ \u001b[22m\u001b[39m\u001b[36m\u001b[1mInfo: \u001b[22m\u001b[39mLeaving g=37 out\n",
      "\u001b[36m\u001b[1m[ \u001b[22m\u001b[39m\u001b[36m\u001b[1mInfo: \u001b[22m\u001b[39mϕ=1, MCMC\n",
      "\u001b[32mProgress: 100%|█████████████████████████████████████████| Time: 0:01:08\u001b[39m\n",
      "\u001b[36m\u001b[1m[ \u001b[22m\u001b[39m\u001b[36m\u001b[1mInfo: \u001b[22m\u001b[39mLeaving g=38 out\n",
      "\u001b[36m\u001b[1m[ \u001b[22m\u001b[39m\u001b[36m\u001b[1mInfo: \u001b[22m\u001b[39mϕ=1, MCMC\n",
      "\u001b[32mProgress: 100%|█████████████████████████████████████████| Time: 0:01:07\u001b[39m\n",
      "\u001b[36m\u001b[1m[ \u001b[22m\u001b[39m\u001b[36m\u001b[1mInfo: \u001b[22m\u001b[39mLeaving g=39 out\n"
     ]
    },
    {
     "data": {
      "text/plain": [
       "Results of univariate zero finding:\n",
       "\n",
       "* Converged to: 0.6607406249999999\n",
       "* Algorithm: Bisection()\n",
       "* iterations: 10\n",
       "* function evaluations ≈ 13\n",
       "\n",
       "Trace:\n",
       "(a₀, b₀) = ( 0.010306249999999999, 1 )\n",
       "(a₁, b₁) = ( 0.103725, 1 )\n",
       "(a₂, b₂) = ( 0.33244999999999997, 1 )\n",
       "(a₃, b₃) = ( 0.58244999999999991, 1 )\n",
       "(a₄, b₄) = ( 0.58244999999999991, 0.79122499999999996 )\n",
       "(a₅, b₅) = ( 0.58244999999999991, 0.68683749999999988 )\n",
       "(a₆, b₆) = ( 0.63464374999999984, 0.68683749999999988 )\n",
       "(a₇, b₇) = ( 0.63464374999999984, 0.66074062499999986 )\n",
       "(a₈, b₈) = ( 0.64769218749999979, 0.66074062499999986 )\n",
       "(a₉, b₉) = ( 0.65421640624999977, 0.66074062499999986 )\n",
       "(a₁₀, b₁₀) = ( 0.65747851562499982, 0.66074062499999986 )\n",
       "\n"
      ]
     },
     "metadata": {},
     "output_type": "display_data"
    },
    {
     "name": "stderr",
     "output_type": "stream",
     "text": [
      "\u001b[36m\u001b[1m[ \u001b[22m\u001b[39m\u001b[36m\u001b[1mInfo: \u001b[22m\u001b[39mTargeting ϕ=0.6607406249999999\n",
      "\u001b[32mProgress: 100%|█████████████████████████████████████████| Time: 0:03:10\u001b[39m\n",
      "\u001b[36m\u001b[1m[ \u001b[22m\u001b[39m\u001b[36m\u001b[1mInfo: \u001b[22m\u001b[39mϕ=1, MCMC\n",
      "\u001b[32mProgress: 100%|█████████████████████████████████████████| Time: 0:01:06\u001b[39m\n",
      "\u001b[36m\u001b[1m[ \u001b[22m\u001b[39m\u001b[36m\u001b[1mInfo: \u001b[22m\u001b[39mLeaving g=40 out\n"
     ]
    },
    {
     "data": {
      "text/plain": [
       "Results of univariate zero finding:\n",
       "\n",
       "* Converged to: 0.7814386718749998\n",
       "* Algorithm: Bisection()\n",
       "* iterations: 10\n",
       "* function evaluations ≈ 13\n",
       "\n",
       "Trace:\n",
       "(a₀, b₀) = ( 0.010306249999999999, 1 )\n",
       "(a₁, b₁) = ( 0.103725, 1 )\n",
       "(a₂, b₂) = ( 0.33244999999999997, 1 )\n",
       "(a₃, b₃) = ( 0.58244999999999991, 1 )\n",
       "(a₄, b₄) = ( 0.58244999999999991, 0.79122499999999996 )\n",
       "(a₅, b₅) = ( 0.68683749999999988, 0.79122499999999996 )\n",
       "(a₆, b₆) = ( 0.73903124999999992, 0.79122499999999996 )\n",
       "(a₇, b₇) = ( 0.76512812499999994, 0.79122499999999996 )\n",
       "(a₈, b₈) = ( 0.77817656249999989, 0.79122499999999996 )\n",
       "(a₉, b₉) = ( 0.77817656249999989, 0.78470078124999987 )\n",
       "(a₁₀, b₁₀) = ( 0.77817656249999989, 0.78143867187499982 )\n",
       "\n"
      ]
     },
     "metadata": {},
     "output_type": "display_data"
    },
    {
     "name": "stderr",
     "output_type": "stream",
     "text": [
      "\u001b[36m\u001b[1m[ \u001b[22m\u001b[39m\u001b[36m\u001b[1mInfo: \u001b[22m\u001b[39mTargeting ϕ=0.7814386718749998\n",
      "\u001b[32mProgress: 100%|█████████████████████████████████████████| Time: 0:03:08\u001b[39m\n",
      "\u001b[36m\u001b[1m[ \u001b[22m\u001b[39m\u001b[36m\u001b[1mInfo: \u001b[22m\u001b[39mϕ=1, MCMC\n",
      "\u001b[32mProgress: 100%|█████████████████████████████████████████| Time: 0:01:06\u001b[39m\n",
      "\u001b[36m\u001b[1m[ \u001b[22m\u001b[39m\u001b[36m\u001b[1mInfo: \u001b[22m\u001b[39mLeaving g=41 out\n"
     ]
    },
    {
     "data": {
      "text/plain": [
       "Results of univariate zero finding:\n",
       "\n",
       "* Converged to: 0.6150710937499998\n",
       "* Algorithm: Bisection()\n",
       "* iterations: 10\n",
       "* function evaluations ≈ 13\n",
       "\n",
       "Trace:\n",
       "(a₀, b₀) = ( 0.010306249999999999, 1 )\n",
       "(a₁, b₁) = ( 0.103725, 1 )\n",
       "(a₂, b₂) = ( 0.33244999999999997, 1 )\n",
       "(a₃, b₃) = ( 0.58244999999999991, 1 )\n",
       "(a₄, b₄) = ( 0.58244999999999991, 0.79122499999999996 )\n",
       "(a₅, b₅) = ( 0.58244999999999991, 0.68683749999999988 )\n",
       "(a₆, b₆) = ( 0.58244999999999991, 0.63464374999999984 )\n",
       "(a₇, b₇) = ( 0.60854687499999982, 0.63464374999999984 )\n",
       "(a₈, b₈) = ( 0.60854687499999982, 0.62159531249999977 )\n",
       "(a₉, b₉) = ( 0.6150710937499998, 0.62159531249999977 )\n",
       "(a₁₀, b₁₀) = ( 0.6150710937499998, 0.61833320312499973 )\n",
       "\n"
      ]
     },
     "metadata": {},
     "output_type": "display_data"
    },
    {
     "name": "stderr",
     "output_type": "stream",
     "text": [
      "\u001b[36m\u001b[1m[ \u001b[22m\u001b[39m\u001b[36m\u001b[1mInfo: \u001b[22m\u001b[39mTargeting ϕ=0.6150710937499998\n",
      "\u001b[32mProgress: 100%|█████████████████████████████████████████| Time: 0:03:09\u001b[39m\n",
      "\u001b[36m\u001b[1m[ \u001b[22m\u001b[39m\u001b[36m\u001b[1mInfo: \u001b[22m\u001b[39mϕ=1, MCMC\n",
      "\u001b[32mProgress: 100%|█████████████████████████████████████████| Time: 0:01:07\u001b[39m\n",
      "\u001b[36m\u001b[1m[ \u001b[22m\u001b[39m\u001b[36m\u001b[1mInfo: \u001b[22m\u001b[39mLeaving g=42 out\n",
      "\u001b[36m\u001b[1m[ \u001b[22m\u001b[39m\u001b[36m\u001b[1mInfo: \u001b[22m\u001b[39mϕ=1, MCMC\n",
      "\u001b[32mProgress: 100%|█████████████████████████████████████████| Time: 0:01:07\u001b[39m\n",
      "\u001b[36m\u001b[1m[ \u001b[22m\u001b[39m\u001b[36m\u001b[1mInfo: \u001b[22m\u001b[39mLeaving g=43 out\n",
      "\u001b[36m\u001b[1m[ \u001b[22m\u001b[39m\u001b[36m\u001b[1mInfo: \u001b[22m\u001b[39mϕ=1, MCMC\n",
      "\u001b[32mProgress: 100%|█████████████████████████████████████████| Time: 0:01:07\u001b[39m\n",
      "\u001b[36m\u001b[1m[ \u001b[22m\u001b[39m\u001b[36m\u001b[1mInfo: \u001b[22m\u001b[39mLeaving g=44 out\n",
      "\u001b[36m\u001b[1m[ \u001b[22m\u001b[39m\u001b[36m\u001b[1mInfo: \u001b[22m\u001b[39mϕ=1, MCMC\n",
      "\u001b[32mProgress: 100%|█████████████████████████████████████████| Time: 0:01:07\u001b[39m\n",
      "\u001b[36m\u001b[1m[ \u001b[22m\u001b[39m\u001b[36m\u001b[1mInfo: \u001b[22m\u001b[39mLeaving g=45 out\n",
      "\u001b[36m\u001b[1m[ \u001b[22m\u001b[39m\u001b[36m\u001b[1mInfo: \u001b[22m\u001b[39mϕ=1, MCMC\n",
      "\u001b[32mProgress: 100%|█████████████████████████████████████████| Time: 0:01:05\u001b[39m\n",
      "\u001b[36m\u001b[1m[ \u001b[22m\u001b[39m\u001b[36m\u001b[1mInfo: \u001b[22m\u001b[39mLeaving g=46 out\n",
      "\u001b[36m\u001b[1m[ \u001b[22m\u001b[39m\u001b[36m\u001b[1mInfo: \u001b[22m\u001b[39mϕ=1, MCMC\n",
      "\u001b[32mProgress: 100%|█████████████████████████████████████████| Time: 0:01:06\u001b[39m\n",
      "\u001b[36m\u001b[1m[ \u001b[22m\u001b[39m\u001b[36m\u001b[1mInfo: \u001b[22m\u001b[39mLeaving g=47 out\n"
     ]
    },
    {
     "data": {
      "text/plain": [
       "Results of univariate zero finding:\n",
       "\n",
       "* Converged to: 0.4661964843749999\n",
       "* Algorithm: Bisection()\n",
       "* iterations: 10\n",
       "* function evaluations ≈ 13\n",
       "\n",
       "Trace:\n",
       "(a₀, b₀) = ( 0.010306249999999999, 1 )\n",
       "(a₁, b₁) = ( 0.103725, 1 )\n",
       "(a₂, b₂) = ( 0.33244999999999997, 1 )\n",
       "(a₃, b₃) = ( 0.33244999999999997, 0.58244999999999991 )\n",
       "(a₄, b₄) = ( 0.43683749999999993, 0.58244999999999991 )\n",
       "(a₅, b₅) = ( 0.43683749999999993, 0.48903124999999992 )\n",
       "(a₆, b₆) = ( 0.4629343749999999, 0.48903124999999992 )\n",
       "(a₇, b₇) = ( 0.4629343749999999, 0.47598281249999991 )\n",
       "(a₈, b₈) = ( 0.4629343749999999, 0.46945859374999988 )\n",
       "(a₉, b₉) = ( 0.4629343749999999, 0.46619648437499989 )\n",
       "(a₁₀, b₁₀) = ( 0.46456542968749986, 0.46619648437499989 )\n",
       "\n"
      ]
     },
     "metadata": {},
     "output_type": "display_data"
    },
    {
     "name": "stderr",
     "output_type": "stream",
     "text": [
      "\u001b[36m\u001b[1m[ \u001b[22m\u001b[39m\u001b[36m\u001b[1mInfo: \u001b[22m\u001b[39mTargeting ϕ=0.4661964843749999\n",
      "\u001b[32mProgress: 100%|█████████████████████████████████████████| Time: 0:03:12\u001b[39m\n"
     ]
    },
    {
     "data": {
      "text/plain": [
       "Results of univariate zero finding:\n",
       "\n",
       "* Converged to: 0.9055245128631589\n",
       "* Algorithm: Bisection()\n",
       "* iterations: 10\n",
       "* function evaluations ≈ 13\n",
       "\n",
       "Trace:\n",
       "(a₀, b₀) = ( 0.71629648437499982, 1 )\n",
       "(a₁, b₁) = ( 0.85814824218749985, 1 )\n",
       "(a₂, b₂) = ( 0.85814824218749985, 0.92907412109374987 )\n",
       "(a₃, b₃) = ( 0.89361118164062481, 0.92907412109374987 )\n",
       "(a₄, b₄) = ( 0.89361118164062481, 0.91134265136718728 )\n",
       "(a₅, b₅) = ( 0.90247691650390605, 0.91134265136718728 )\n",
       "(a₆, b₆) = ( 0.90247691650390605, 0.90690978393554667 )\n",
       "(a₇, b₇) = ( 0.9046933502197263, 0.90690978393554667 )\n",
       "(a₈, b₈) = ( 0.9046933502197263, 0.90580156707763648 )\n",
       "(a₉, b₉) = ( 0.90524745864868139, 0.90580156707763648 )\n",
       "(a₁₀, b₁₀) = ( 0.90524745864868139, 0.90552451286315894 )\n",
       "\n"
      ]
     },
     "metadata": {},
     "output_type": "display_data"
    },
    {
     "name": "stderr",
     "output_type": "stream",
     "text": [
      "\u001b[36m\u001b[1m[ \u001b[22m\u001b[39m\u001b[36m\u001b[1mInfo: \u001b[22m\u001b[39mTargeting ϕ=0.9055245128631589\n",
      "\u001b[32mProgress: 100%|█████████████████████████████████████████| Time: 0:03:08\u001b[39m\n",
      "\u001b[36m\u001b[1m[ \u001b[22m\u001b[39m\u001b[36m\u001b[1mInfo: \u001b[22m\u001b[39mϕ=1, MCMC\n",
      "\u001b[32mProgress: 100%|█████████████████████████████████████████| Time: 0:01:06\u001b[39m\n",
      "\u001b[36m\u001b[1m[ \u001b[22m\u001b[39m\u001b[36m\u001b[1mInfo: \u001b[22m\u001b[39mLeaving g=48 out\n",
      "\u001b[36m\u001b[1m[ \u001b[22m\u001b[39m\u001b[36m\u001b[1mInfo: \u001b[22m\u001b[39mϕ=1, MCMC\n",
      "\u001b[32mProgress: 100%|█████████████████████████████████████████| Time: 0:01:08\u001b[39m\n",
      "\u001b[36m\u001b[1m[ \u001b[22m\u001b[39m\u001b[36m\u001b[1mInfo: \u001b[22m\u001b[39mLeaving g=49 out\n"
     ]
    },
    {
     "data": {
      "text/plain": [
       "Results of univariate zero finding:\n",
       "\n",
       "* Converged to: 0.9249714843749999\n",
       "* Algorithm: Bisection()\n",
       "* iterations: 10\n",
       "* function evaluations ≈ 13\n",
       "\n",
       "Trace:\n",
       "(a₀, b₀) = ( 0.010306249999999999, 1 )\n",
       "(a₁, b₁) = ( 0.103725, 1 )\n",
       "(a₂, b₂) = ( 0.33244999999999997, 1 )\n",
       "(a₃, b₃) = ( 0.58244999999999991, 1 )\n",
       "(a₄, b₄) = ( 0.79122499999999996, 1 )\n",
       "(a₅, b₅) = ( 0.89561249999999992, 1 )\n",
       "(a₆, b₆) = ( 0.89561249999999992, 0.94780624999999996 )\n",
       "(a₇, b₇) = ( 0.92170937499999994, 0.94780624999999996 )\n",
       "(a₈, b₈) = ( 0.92170937499999994, 0.9347578124999999 )\n",
       "(a₉, b₉) = ( 0.92170937499999994, 0.92823359374999992 )\n",
       "(a₁₀, b₁₀) = ( 0.92170937499999994, 0.92497148437499987 )\n",
       "\n"
      ]
     },
     "metadata": {},
     "output_type": "display_data"
    },
    {
     "name": "stderr",
     "output_type": "stream",
     "text": [
      "\u001b[36m\u001b[1m[ \u001b[22m\u001b[39m\u001b[36m\u001b[1mInfo: \u001b[22m\u001b[39mTargeting ϕ=0.9249714843749999\n",
      "\u001b[32mProgress: 100%|█████████████████████████████████████████| Time: 0:03:13\u001b[39m\n",
      "\u001b[36m\u001b[1m[ \u001b[22m\u001b[39m\u001b[36m\u001b[1mInfo: \u001b[22m\u001b[39mϕ=1, MCMC\n",
      "\u001b[32mProgress: 100%|█████████████████████████████████████████| Time: 0:01:06\u001b[39m\n",
      "\u001b[36m\u001b[1m[ \u001b[22m\u001b[39m\u001b[36m\u001b[1mInfo: \u001b[22m\u001b[39mLeaving g=50 out\n"
     ]
    },
    {
     "data": {
      "text/plain": [
       "Results of univariate zero finding:\n",
       "\n",
       "* Converged to: 0.6770511718749997\n",
       "* Algorithm: Bisection()\n",
       "* iterations: 10\n",
       "* function evaluations ≈ 13\n",
       "\n",
       "Trace:\n",
       "(a₀, b₀) = ( 0.010306249999999999, 1 )\n",
       "(a₁, b₁) = ( 0.103725, 1 )\n",
       "(a₂, b₂) = ( 0.33244999999999997, 1 )\n",
       "(a₃, b₃) = ( 0.58244999999999991, 1 )\n",
       "(a₄, b₄) = ( 0.58244999999999991, 0.79122499999999996 )\n",
       "(a₅, b₅) = ( 0.58244999999999991, 0.68683749999999988 )\n",
       "(a₆, b₆) = ( 0.63464374999999984, 0.68683749999999988 )\n",
       "(a₇, b₇) = ( 0.66074062499999986, 0.68683749999999988 )\n",
       "(a₈, b₈) = ( 0.67378906249999981, 0.68683749999999988 )\n",
       "(a₉, b₉) = ( 0.67378906249999981, 0.68031328124999979 )\n",
       "(a₁₀, b₁₀) = ( 0.67705117187499975, 0.68031328124999979 )\n",
       "\n"
      ]
     },
     "metadata": {},
     "output_type": "display_data"
    },
    {
     "name": "stderr",
     "output_type": "stream",
     "text": [
      "\u001b[36m\u001b[1m[ \u001b[22m\u001b[39m\u001b[36m\u001b[1mInfo: \u001b[22m\u001b[39mTargeting ϕ=0.6770511718749997\n",
      "\u001b[32mProgress: 100%|█████████████████████████████████████████| Time: 0:03:03\u001b[39m\n",
      "\u001b[36m\u001b[1m[ \u001b[22m\u001b[39m\u001b[36m\u001b[1mInfo: \u001b[22m\u001b[39mϕ=1, MCMC\n",
      "\u001b[32mProgress: 100%|█████████████████████████████████████████| Time: 0:01:07\u001b[39m\n",
      "\u001b[36m\u001b[1m[ \u001b[22m\u001b[39m\u001b[36m\u001b[1mInfo: \u001b[22m\u001b[39mLeaving g=51 out\n"
     ]
    },
    {
     "data": {
      "text/plain": [
       "Results of univariate zero finding:\n",
       "\n",
       "* Converged to: 0.9184472656249999\n",
       "* Algorithm: Bisection()\n",
       "* iterations: 10\n",
       "* function evaluations ≈ 13\n",
       "\n",
       "Trace:\n",
       "(a₀, b₀) = ( 0.010306249999999999, 1 )\n",
       "(a₁, b₁) = ( 0.103725, 1 )\n",
       "(a₂, b₂) = ( 0.33244999999999997, 1 )\n",
       "(a₃, b₃) = ( 0.58244999999999991, 1 )\n",
       "(a₄, b₄) = ( 0.79122499999999996, 1 )\n",
       "(a₅, b₅) = ( 0.89561249999999992, 1 )\n",
       "(a₆, b₆) = ( 0.89561249999999992, 0.94780624999999996 )\n",
       "(a₇, b₇) = ( 0.89561249999999992, 0.92170937499999994 )\n",
       "(a₈, b₈) = ( 0.90866093749999988, 0.92170937499999994 )\n",
       "(a₉, b₉) = ( 0.91518515624999985, 0.92170937499999994 )\n",
       "(a₁₀, b₁₀) = ( 0.91518515624999985, 0.9184472656249999 )\n",
       "\n"
      ]
     },
     "metadata": {},
     "output_type": "display_data"
    },
    {
     "name": "stderr",
     "output_type": "stream",
     "text": [
      "\u001b[36m\u001b[1m[ \u001b[22m\u001b[39m\u001b[36m\u001b[1mInfo: \u001b[22m\u001b[39mTargeting ϕ=0.9184472656249999\n",
      "\u001b[32mProgress: 100%|█████████████████████████████████████████| Time: 0:03:09\u001b[39m\n",
      "\u001b[36m\u001b[1m[ \u001b[22m\u001b[39m\u001b[36m\u001b[1mInfo: \u001b[22m\u001b[39mϕ=1, MCMC\n",
      "\u001b[32mProgress: 100%|█████████████████████████████████████████| Time: 0:01:06\u001b[39m\n",
      "\u001b[36m\u001b[1m[ \u001b[22m\u001b[39m\u001b[36m\u001b[1mInfo: \u001b[22m\u001b[39mLeaving g=52 out\n"
     ]
    },
    {
     "data": {
      "text/plain": [
       "Results of univariate zero finding:\n",
       "\n",
       "* Converged to: 0.8890882812499998\n",
       "* Algorithm: Bisection()\n",
       "* iterations: 10\n",
       "* function evaluations ≈ 13\n",
       "\n",
       "Trace:\n",
       "(a₀, b₀) = ( 0.010306249999999999, 1 )\n",
       "(a₁, b₁) = ( 0.103725, 1 )\n",
       "(a₂, b₂) = ( 0.33244999999999997, 1 )\n",
       "(a₃, b₃) = ( 0.58244999999999991, 1 )\n",
       "(a₄, b₄) = ( 0.79122499999999996, 1 )\n",
       "(a₅, b₅) = ( 0.79122499999999996, 0.89561249999999992 )\n",
       "(a₆, b₆) = ( 0.84341874999999988, 0.89561249999999992 )\n",
       "(a₇, b₇) = ( 0.8695156249999999, 0.89561249999999992 )\n",
       "(a₈, b₈) = ( 0.88256406249999986, 0.89561249999999992 )\n",
       "(a₉, b₉) = ( 0.88256406249999986, 0.88908828124999983 )\n",
       "(a₁₀, b₁₀) = ( 0.88582617187499979, 0.88908828124999983 )\n",
       "\n"
      ]
     },
     "metadata": {},
     "output_type": "display_data"
    },
    {
     "name": "stderr",
     "output_type": "stream",
     "text": [
      "\u001b[36m\u001b[1m[ \u001b[22m\u001b[39m\u001b[36m\u001b[1mInfo: \u001b[22m\u001b[39mTargeting ϕ=0.8890882812499998\n",
      "\u001b[32mProgress: 100%|█████████████████████████████████████████| Time: 0:03:10\u001b[39m\n",
      "\u001b[36m\u001b[1m[ \u001b[22m\u001b[39m\u001b[36m\u001b[1mInfo: \u001b[22m\u001b[39mϕ=1, MCMC\n",
      "\u001b[32mProgress: 100%|█████████████████████████████████████████| Time: 0:01:05\u001b[39m\n",
      "\u001b[36m\u001b[1m[ \u001b[22m\u001b[39m\u001b[36m\u001b[1mInfo: \u001b[22m\u001b[39mLeaving g=53 out\n",
      "\u001b[36m\u001b[1m[ \u001b[22m\u001b[39m\u001b[36m\u001b[1mInfo: \u001b[22m\u001b[39mϕ=1, MCMC\n",
      "\u001b[32mProgress: 100%|█████████████████████████████████████████| Time: 0:01:06\u001b[39m\n",
      "\u001b[36m\u001b[1m[ \u001b[22m\u001b[39m\u001b[36m\u001b[1mInfo: \u001b[22m\u001b[39mLeaving g=54 out\n",
      "\u001b[36m\u001b[1m[ \u001b[22m\u001b[39m\u001b[36m\u001b[1mInfo: \u001b[22m\u001b[39mϕ=1, MCMC\n",
      "\u001b[32mProgress: 100%|█████████████████████████████████████████| Time: 0:01:07\u001b[39m\n",
      "\u001b[36m\u001b[1m[ \u001b[22m\u001b[39m\u001b[36m\u001b[1mInfo: \u001b[22m\u001b[39mLeaving g=55 out\n",
      "\u001b[36m\u001b[1m[ \u001b[22m\u001b[39m\u001b[36m\u001b[1mInfo: \u001b[22m\u001b[39mϕ=1, MCMC\n",
      "\u001b[32mProgress: 100%|█████████████████████████████████████████| Time: 0:01:06\u001b[39m\n",
      "\u001b[36m\u001b[1m[ \u001b[22m\u001b[39m\u001b[36m\u001b[1mInfo: \u001b[22m\u001b[39mLeaving g=56 out\n",
      "\u001b[36m\u001b[1m[ \u001b[22m\u001b[39m\u001b[36m\u001b[1mInfo: \u001b[22m\u001b[39mϕ=1, MCMC\n",
      "\u001b[32mProgress: 100%|█████████████████████████████████████████| Time: 0:01:05\u001b[39m\n",
      "\u001b[36m\u001b[1m[ \u001b[22m\u001b[39m\u001b[36m\u001b[1mInfo: \u001b[22m\u001b[39mLeaving g=57 out\n"
     ]
    },
    {
     "data": {
      "text/plain": [
       "Results of univariate zero finding:\n",
       "\n",
       "* Converged to: 0.5041593749999999\n",
       "* Algorithm: Bisection()\n",
       "* iterations: 10\n",
       "* function evaluations ≈ 13\n",
       "\n",
       "Trace:\n",
       "(a₀, b₀) = ( 0.010306249999999999, 1 )\n",
       "(a₁, b₁) = ( 0.103725, 1 )\n",
       "(a₂, b₂) = ( 0.33244999999999997, 1 )\n",
       "(a₃, b₃) = ( 0.33244999999999997, 0.58244999999999991 )\n",
       "(a₄, b₄) = ( 0.43683749999999993, 0.58244999999999991 )\n",
       "(a₅, b₅) = ( 0.48903124999999992, 0.58244999999999991 )\n",
       "(a₆, b₆) = ( 0.48903124999999992, 0.53025624999999987 )\n",
       "(a₇, b₇) = ( 0.50415937499999985, 0.53025624999999987 )\n",
       "(a₈, b₈) = ( 0.50415937499999985, 0.51720781249999981 )\n",
       "(a₉, b₉) = ( 0.50415937499999985, 0.51068359374999983 )\n",
       "(a₁₀, b₁₀) = ( 0.50415937499999985, 0.50742148437499979 )\n",
       "\n"
      ]
     },
     "metadata": {},
     "output_type": "display_data"
    },
    {
     "name": "stderr",
     "output_type": "stream",
     "text": [
      "\u001b[36m\u001b[1m[ \u001b[22m\u001b[39m\u001b[36m\u001b[1mInfo: \u001b[22m\u001b[39mTargeting ϕ=0.5041593749999999\n",
      "\u001b[32mProgress: 100%|█████████████████████████████████████████| Time: 0:03:13\u001b[39m\n"
     ]
    },
    {
     "data": {
      "text/plain": [
       "Results of univariate zero finding:\n",
       "\n",
       "* Converged to: 0.9465045516967772\n",
       "* Algorithm: Bisection()\n",
       "* iterations: 10\n",
       "* function evaluations ≈ 13\n",
       "\n",
       "Trace:\n",
       "(a₀, b₀) = ( 0.75212968749999987, 1 )\n",
       "(a₁, b₁) = ( 0.87606484374999993, 1 )\n",
       "(a₂, b₂) = ( 0.93803242187499991, 1 )\n",
       "(a₃, b₃) = ( 0.93803242187499991, 0.9690162109374999 )\n",
       "(a₄, b₄) = ( 0.93803242187499991, 0.95352431640624991 )\n",
       "(a₅, b₅) = ( 0.94577836914062485, 0.95352431640624991 )\n",
       "(a₆, b₆) = ( 0.94577836914062485, 0.94965134277343732 )\n",
       "(a₇, b₇) = ( 0.94577836914062485, 0.94771485595703109 )\n",
       "(a₈, b₈) = ( 0.94577836914062485, 0.94674661254882797 )\n",
       "(a₉, b₉) = ( 0.94626249084472636, 0.94674661254882797 )\n",
       "(a₁₀, b₁₀) = ( 0.94650455169677716, 0.94674661254882797 )\n",
       "\n"
      ]
     },
     "metadata": {},
     "output_type": "display_data"
    },
    {
     "name": "stderr",
     "output_type": "stream",
     "text": [
      "\u001b[36m\u001b[1m[ \u001b[22m\u001b[39m\u001b[36m\u001b[1mInfo: \u001b[22m\u001b[39mTargeting ϕ=0.9465045516967772\n",
      "\u001b[32mProgress: 100%|█████████████████████████████████████████| Time: 0:03:10\u001b[39m\n",
      "\u001b[36m\u001b[1m[ \u001b[22m\u001b[39m\u001b[36m\u001b[1mInfo: \u001b[22m\u001b[39mϕ=1, MCMC\n",
      "\u001b[32mProgress: 100%|█████████████████████████████████████████| Time: 0:01:06\u001b[39m\n",
      "\u001b[36m\u001b[1m[ \u001b[22m\u001b[39m\u001b[36m\u001b[1mInfo: \u001b[22m\u001b[39mLeaving g=58 out\n"
     ]
    },
    {
     "data": {
      "text/plain": [
       "Results of univariate zero finding:\n",
       "\n",
       "* Converged to: 0.5824499999999999\n",
       "* Algorithm: Bisection()\n",
       "* iterations: 10\n",
       "* function evaluations ≈ 13\n",
       "\n",
       "Trace:\n",
       "(a₀, b₀) = ( 0.010306249999999999, 1 )\n",
       "(a₁, b₁) = ( 0.103725, 1 )\n",
       "(a₂, b₂) = ( 0.33244999999999997, 1 )\n",
       "(a₃, b₃) = ( 0.58244999999999991, 1 )\n",
       "(a₄, b₄) = ( 0.58244999999999991, 0.79122499999999996 )\n",
       "(a₅, b₅) = ( 0.58244999999999991, 0.68683749999999988 )\n",
       "(a₆, b₆) = ( 0.58244999999999991, 0.63464374999999984 )\n",
       "(a₇, b₇) = ( 0.58244999999999991, 0.60854687499999982 )\n",
       "(a₈, b₈) = ( 0.58244999999999991, 0.59549843749999987 )\n",
       "(a₉, b₉) = ( 0.58244999999999991, 0.58897421874999989 )\n",
       "(a₁₀, b₁₀) = ( 0.58244999999999991, 0.58571210937499985 )\n",
       "\n"
      ]
     },
     "metadata": {},
     "output_type": "display_data"
    },
    {
     "name": "stderr",
     "output_type": "stream",
     "text": [
      "\u001b[36m\u001b[1m[ \u001b[22m\u001b[39m\u001b[36m\u001b[1mInfo: \u001b[22m\u001b[39mTargeting ϕ=0.5824499999999999\n",
      "\u001b[32mProgress: 100%|█████████████████████████████████████████| Time: 0:03:08\u001b[39m\n"
     ]
    },
    {
     "data": {
      "text/plain": [
       "Results of univariate zero finding:\n",
       "\n",
       "* Converged to: 0.9629023925781248\n",
       "* Algorithm: Bisection()\n",
       "* iterations: 10\n",
       "* function evaluations ≈ 13\n",
       "\n",
       "Trace:\n",
       "(a₀, b₀) = ( 0.79127499999999995, 1 )\n",
       "(a₁, b₁) = ( 0.89563749999999998, 1 )\n",
       "(a₂, b₂) = ( 0.94781874999999993, 1 )\n",
       "(a₃, b₃) = ( 0.94781874999999993, 0.97390937499999997 )\n",
       "(a₄, b₄) = ( 0.96086406249999989, 0.97390937499999997 )\n",
       "(a₅, b₅) = ( 0.96086406249999989, 0.96738671874999993 )\n",
       "(a₆, b₆) = ( 0.96086406249999989, 0.96412539062499991 )\n",
       "(a₇, b₇) = ( 0.9624947265624999, 0.96412539062499991 )\n",
       "(a₈, b₈) = ( 0.9624947265624999, 0.96331005859374985 )\n",
       "(a₉, b₉) = ( 0.9624947265624999, 0.96290239257812482 )\n",
       "(a₁₀, b₁₀) = ( 0.96269855957031236, 0.96290239257812482 )\n",
       "\n"
      ]
     },
     "metadata": {},
     "output_type": "display_data"
    },
    {
     "name": "stderr",
     "output_type": "stream",
     "text": [
      "\u001b[36m\u001b[1m[ \u001b[22m\u001b[39m\u001b[36m\u001b[1mInfo: \u001b[22m\u001b[39mTargeting ϕ=0.9629023925781248\n",
      "\u001b[32mProgress: 100%|█████████████████████████████████████████| Time: 0:03:10\u001b[39m\n",
      "\u001b[36m\u001b[1m[ \u001b[22m\u001b[39m\u001b[36m\u001b[1mInfo: \u001b[22m\u001b[39mϕ=1, MCMC\n",
      "\u001b[32mProgress: 100%|█████████████████████████████████████████| Time: 0:01:07\u001b[39m\n",
      "\u001b[36m\u001b[1m[ \u001b[22m\u001b[39m\u001b[36m\u001b[1mInfo: \u001b[22m\u001b[39mLeaving g=59 out\n"
     ]
    },
    {
     "data": {
      "text/plain": [
       "Results of univariate zero finding:\n",
       "\n",
       "* Converged to: 0.4759828124999999\n",
       "* Algorithm: Bisection()\n",
       "* iterations: 10\n",
       "* function evaluations ≈ 13\n",
       "\n",
       "Trace:\n",
       "(a₀, b₀) = ( 0.010306249999999999, 1 )\n",
       "(a₁, b₁) = ( 0.103725, 1 )\n",
       "(a₂, b₂) = ( 0.33244999999999997, 1 )\n",
       "(a₃, b₃) = ( 0.33244999999999997, 0.58244999999999991 )\n",
       "(a₄, b₄) = ( 0.43683749999999993, 0.58244999999999991 )\n",
       "(a₅, b₅) = ( 0.43683749999999993, 0.48903124999999992 )\n",
       "(a₆, b₆) = ( 0.4629343749999999, 0.48903124999999992 )\n",
       "(a₇, b₇) = ( 0.4629343749999999, 0.47598281249999991 )\n",
       "(a₈, b₈) = ( 0.46945859374999988, 0.47598281249999991 )\n",
       "(a₉, b₉) = ( 0.47272070312499986, 0.47598281249999991 )\n",
       "(a₁₀, b₁₀) = ( 0.47435175781249989, 0.47598281249999991 )\n",
       "\n"
      ]
     },
     "metadata": {},
     "output_type": "display_data"
    },
    {
     "name": "stderr",
     "output_type": "stream",
     "text": [
      "\u001b[36m\u001b[1m[ \u001b[22m\u001b[39m\u001b[36m\u001b[1mInfo: \u001b[22m\u001b[39mTargeting ϕ=0.4759828124999999\n",
      "\u001b[32mProgress: 100%|█████████████████████████████████████████| Time: 0:03:09\u001b[39m\n"
     ]
    },
    {
     "data": {
      "text/plain": [
       "Results of univariate zero finding:\n",
       "\n",
       "* Converged to: 0.8919311096191403\n",
       "* Algorithm: Bisection()\n",
       "* iterations: 10\n",
       "* function evaluations ≈ 13\n",
       "\n",
       "Trace:\n",
       "(a₀, b₀) = ( 0.72608281249999984, 1 )\n",
       "(a₁, b₁) = ( 0.86304140624999992, 1 )\n",
       "(a₂, b₂) = ( 0.86304140624999992, 0.9315207031249999 )\n",
       "(a₃, b₃) = ( 0.86304140624999992, 0.89728105468749986 )\n",
       "(a₄, b₄) = ( 0.88016123046874983, 0.89728105468749986 )\n",
       "(a₅, b₅) = ( 0.88872114257812485, 0.89728105468749986 )\n",
       "(a₆, b₆) = ( 0.88872114257812485, 0.8930010986328123 )\n",
       "(a₇, b₇) = ( 0.89086112060546851, 0.8930010986328123 )\n",
       "(a₈, b₈) = ( 0.89193110961914035, 0.8930010986328123 )\n",
       "(a₉, b₉) = ( 0.89193110961914035, 0.89246610412597627 )\n",
       "(a₁₀, b₁₀) = ( 0.89193110961914035, 0.89219860687255825 )\n",
       "\n"
      ]
     },
     "metadata": {},
     "output_type": "display_data"
    },
    {
     "name": "stderr",
     "output_type": "stream",
     "text": [
      "\u001b[36m\u001b[1m[ \u001b[22m\u001b[39m\u001b[36m\u001b[1mInfo: \u001b[22m\u001b[39mTargeting ϕ=0.8919311096191403\n",
      "\u001b[32mProgress: 100%|█████████████████████████████████████████| Time: 0:03:08\u001b[39m\n",
      "\u001b[36m\u001b[1m[ \u001b[22m\u001b[39m\u001b[36m\u001b[1mInfo: \u001b[22m\u001b[39mϕ=1, MCMC\n",
      "\u001b[32mProgress: 100%|█████████████████████████████████████████| Time: 0:01:07\u001b[39m\n",
      "\u001b[36m\u001b[1m[ \u001b[22m\u001b[39m\u001b[36m\u001b[1mInfo: \u001b[22m\u001b[39mLeaving g=60 out\n"
     ]
    },
    {
     "data": {
      "text/plain": [
       "Results of univariate zero finding:\n",
       "\n",
       "* Converged to: 0.8988746093749999\n",
       "* Algorithm: Bisection()\n",
       "* iterations: 10\n",
       "* function evaluations ≈ 13\n",
       "\n",
       "Trace:\n",
       "(a₀, b₀) = ( 0.010306249999999999, 1 )\n",
       "(a₁, b₁) = ( 0.103725, 1 )\n",
       "(a₂, b₂) = ( 0.33244999999999997, 1 )\n",
       "(a₃, b₃) = ( 0.58244999999999991, 1 )\n",
       "(a₄, b₄) = ( 0.79122499999999996, 1 )\n",
       "(a₅, b₅) = ( 0.89561249999999992, 1 )\n",
       "(a₆, b₆) = ( 0.89561249999999992, 0.94780624999999996 )\n",
       "(a₇, b₇) = ( 0.89561249999999992, 0.92170937499999994 )\n",
       "(a₈, b₈) = ( 0.89561249999999992, 0.90866093749999988 )\n",
       "(a₉, b₉) = ( 0.89561249999999992, 0.9021367187499999 )\n",
       "(a₁₀, b₁₀) = ( 0.89561249999999992, 0.89887460937499986 )\n",
       "\n"
      ]
     },
     "metadata": {},
     "output_type": "display_data"
    },
    {
     "name": "stderr",
     "output_type": "stream",
     "text": [
      "\u001b[36m\u001b[1m[ \u001b[22m\u001b[39m\u001b[36m\u001b[1mInfo: \u001b[22m\u001b[39mTargeting ϕ=0.8988746093749999\n",
      "\u001b[32mProgress: 100%|█████████████████████████████████████████| Time: 0:03:11\u001b[39m\n",
      "\u001b[36m\u001b[1m[ \u001b[22m\u001b[39m\u001b[36m\u001b[1mInfo: \u001b[22m\u001b[39mϕ=1, MCMC\n",
      "\u001b[32mProgress: 100%|█████████████████████████████████████████| Time: 0:01:07\u001b[39m\n",
      "\u001b[36m\u001b[1m[ \u001b[22m\u001b[39m\u001b[36m\u001b[1mInfo: \u001b[22m\u001b[39mLeaving g=61 out\n"
     ]
    },
    {
     "data": {
      "text/plain": [
       "Results of univariate zero finding:\n",
       "\n",
       "* Converged to: 0.6346437499999998\n",
       "* Algorithm: Bisection()\n",
       "* iterations: 10\n",
       "* function evaluations ≈ 13\n",
       "\n",
       "Trace:\n",
       "(a₀, b₀) = ( 0.010306249999999999, 1 )\n",
       "(a₁, b₁) = ( 0.103725, 1 )\n",
       "(a₂, b₂) = ( 0.33244999999999997, 1 )\n",
       "(a₃, b₃) = ( 0.58244999999999991, 1 )\n",
       "(a₄, b₄) = ( 0.58244999999999991, 0.79122499999999996 )\n",
       "(a₅, b₅) = ( 0.58244999999999991, 0.68683749999999988 )\n",
       "(a₆, b₆) = ( 0.63464374999999984, 0.68683749999999988 )\n",
       "(a₇, b₇) = ( 0.63464374999999984, 0.66074062499999986 )\n",
       "(a₈, b₈) = ( 0.63464374999999984, 0.64769218749999979 )\n",
       "(a₉, b₉) = ( 0.63464374999999984, 0.64116796874999982 )\n",
       "(a₁₀, b₁₀) = ( 0.63464374999999984, 0.63790585937499977 )\n",
       "\n"
      ]
     },
     "metadata": {},
     "output_type": "display_data"
    },
    {
     "name": "stderr",
     "output_type": "stream",
     "text": [
      "\u001b[36m\u001b[1m[ \u001b[22m\u001b[39m\u001b[36m\u001b[1mInfo: \u001b[22m\u001b[39mTargeting ϕ=0.6346437499999998\n",
      "\u001b[32mProgress: 100%|█████████████████████████████████████████| Time: 0:03:12\u001b[39m\n"
     ]
    },
    {
     "data": {
      "text/plain": [
       "Results of univariate zero finding:\n",
       "\n",
       "* Converged to: 0.898520114135742\n",
       "* Algorithm: Bisection()\n",
       "* iterations: 10\n",
       "* function evaluations ≈ 13\n",
       "\n",
       "Trace:\n",
       "(a₀, b₀) = ( 0.81737187499999986, 1 )\n",
       "(a₁, b₁) = ( 0.81737187499999986, 0.90868593749999993 )\n",
       "(a₂, b₂) = ( 0.86302890624999984, 0.90868593749999993 )\n",
       "(a₃, b₃) = ( 0.88585742187499983, 0.90868593749999993 )\n",
       "(a₄, b₄) = ( 0.89727167968749988, 0.90868593749999993 )\n",
       "(a₅, b₅) = ( 0.89727167968749988, 0.9029788085937499 )\n",
       "(a₆, b₆) = ( 0.89727167968749988, 0.90012524414062489 )\n",
       "(a₇, b₇) = ( 0.89727167968749988, 0.89869846191406233 )\n",
       "(a₈, b₈) = ( 0.89798507080078105, 0.89869846191406233 )\n",
       "(a₉, b₉) = ( 0.89834176635742169, 0.89869846191406233 )\n",
       "(a₁₀, b₁₀) = ( 0.89852011413574195, 0.89869846191406233 )\n",
       "\n"
      ]
     },
     "metadata": {},
     "output_type": "display_data"
    },
    {
     "name": "stderr",
     "output_type": "stream",
     "text": [
      "\u001b[36m\u001b[1m[ \u001b[22m\u001b[39m\u001b[36m\u001b[1mInfo: \u001b[22m\u001b[39mTargeting ϕ=0.898520114135742\n",
      "\u001b[32mProgress: 100%|█████████████████████████████████████████| Time: 0:03:11\u001b[39m\n",
      "\u001b[36m\u001b[1m[ \u001b[22m\u001b[39m\u001b[36m\u001b[1mInfo: \u001b[22m\u001b[39mϕ=1, MCMC\n",
      "\u001b[32mProgress: 100%|█████████████████████████████████████████| Time: 0:01:07\u001b[39m\n",
      "\u001b[36m\u001b[1m[ \u001b[22m\u001b[39m\u001b[36m\u001b[1mInfo: \u001b[22m\u001b[39mLeaving g=62 out\n"
     ]
    },
    {
     "data": {
      "text/plain": [
       "Results of univariate zero finding:\n",
       "\n",
       "* Converged to: 0.7553417968749998\n",
       "* Algorithm: Bisection()\n",
       "* iterations: 10\n",
       "* function evaluations ≈ 13\n",
       "\n",
       "Trace:\n",
       "(a₀, b₀) = ( 0.010306249999999999, 1 )\n",
       "(a₁, b₁) = ( 0.103725, 1 )\n",
       "(a₂, b₂) = ( 0.33244999999999997, 1 )\n",
       "(a₃, b₃) = ( 0.58244999999999991, 1 )\n",
       "(a₄, b₄) = ( 0.58244999999999991, 0.79122499999999996 )\n",
       "(a₅, b₅) = ( 0.68683749999999988, 0.79122499999999996 )\n",
       "(a₆, b₆) = ( 0.73903124999999992, 0.79122499999999996 )\n",
       "(a₇, b₇) = ( 0.73903124999999992, 0.76512812499999994 )\n",
       "(a₈, b₈) = ( 0.75207968749999987, 0.76512812499999994 )\n",
       "(a₉, b₉) = ( 0.75207968749999987, 0.75860390624999985 )\n",
       "(a₁₀, b₁₀) = ( 0.7553417968749998, 0.75860390624999985 )\n",
       "\n"
      ]
     },
     "metadata": {},
     "output_type": "display_data"
    },
    {
     "name": "stderr",
     "output_type": "stream",
     "text": [
      "\u001b[36m\u001b[1m[ \u001b[22m\u001b[39m\u001b[36m\u001b[1mInfo: \u001b[22m\u001b[39mTargeting ϕ=0.7553417968749998\n",
      "\u001b[32mProgress: 100%|█████████████████████████████████████████| Time: 0:03:12\u001b[39m\n",
      "\u001b[36m\u001b[1m[ \u001b[22m\u001b[39m\u001b[36m\u001b[1mInfo: \u001b[22m\u001b[39mϕ=1, MCMC\n",
      "\u001b[32mProgress: 100%|█████████████████████████████████████████| Time: 0:01:07\u001b[39m\n",
      "\u001b[36m\u001b[1m[ \u001b[22m\u001b[39m\u001b[36m\u001b[1mInfo: \u001b[22m\u001b[39mLeaving g=63 out\n"
     ]
    },
    {
     "data": {
      "text/plain": [
       "Results of univariate zero finding:\n",
       "\n",
       "* Converged to: 0.4270511718749999\n",
       "* Algorithm: Bisection()\n",
       "* iterations: 10\n",
       "* function evaluations ≈ 13\n",
       "\n",
       "Trace:\n",
       "(a₀, b₀) = ( 0.010306249999999999, 1 )\n",
       "(a₁, b₁) = ( 0.103725, 1 )\n",
       "(a₂, b₂) = ( 0.33244999999999997, 1 )\n",
       "(a₃, b₃) = ( 0.33244999999999997, 0.58244999999999991 )\n",
       "(a₄, b₄) = ( 0.33244999999999997, 0.43683749999999993 )\n",
       "(a₅, b₅) = ( 0.38464374999999995, 0.43683749999999993 )\n",
       "(a₆, b₆) = ( 0.41074062499999991, 0.43683749999999993 )\n",
       "(a₇, b₇) = ( 0.42378906249999992, 0.43683749999999993 )\n",
       "(a₈, b₈) = ( 0.42378906249999992, 0.4303132812499999 )\n",
       "(a₉, b₉) = ( 0.42705117187499991, 0.4303132812499999 )\n",
       "(a₁₀, b₁₀) = ( 0.42705117187499991, 0.42868222656249988 )\n",
       "\n"
      ]
     },
     "metadata": {},
     "output_type": "display_data"
    },
    {
     "name": "stderr",
     "output_type": "stream",
     "text": [
      "\u001b[36m\u001b[1m[ \u001b[22m\u001b[39m\u001b[36m\u001b[1mInfo: \u001b[22m\u001b[39mTargeting ϕ=0.4270511718749999\n",
      "\u001b[32mProgress: 100%|█████████████████████████████████████████| Time: 0:03:14\u001b[39m\n"
     ]
    },
    {
     "data": {
      "text/plain": [
       "Results of univariate zero finding:\n",
       "\n",
       "* Converged to: 0.9643731273651122\n",
       "* Algorithm: Bisection()\n",
       "* iterations: 10\n",
       "* function evaluations ≈ 13\n",
       "\n",
       "Trace:\n",
       "(a₀, b₀) = ( 0.67715117187499985, 1 )\n",
       "(a₁, b₁) = ( 0.83857558593749992, 1 )\n",
       "(a₂, b₂) = ( 0.91928779296874996, 1 )\n",
       "(a₃, b₃) = ( 0.95964389648437498, 1 )\n",
       "(a₄, b₄) = ( 0.95964389648437498, 0.97982194824218749 )\n",
       "(a₅, b₅) = ( 0.95964389648437498, 0.96973292236328124 )\n",
       "(a₆, b₆) = ( 0.95964389648437498, 0.96468840942382805 )\n",
       "(a₇, b₇) = ( 0.96216615295410146, 0.96468840942382805 )\n",
       "(a₈, b₈) = ( 0.9634272811889647, 0.96468840942382805 )\n",
       "(a₉, b₉) = ( 0.96405784530639638, 0.96468840942382805 )\n",
       "(a₁₀, b₁₀) = ( 0.96405784530639638, 0.96437312736511216 )\n",
       "\n"
      ]
     },
     "metadata": {},
     "output_type": "display_data"
    },
    {
     "name": "stderr",
     "output_type": "stream",
     "text": [
      "\u001b[36m\u001b[1m[ \u001b[22m\u001b[39m\u001b[36m\u001b[1mInfo: \u001b[22m\u001b[39mTargeting ϕ=0.9643731273651122\n",
      "\u001b[32mProgress: 100%|█████████████████████████████████████████| Time: 0:03:12\u001b[39m\n",
      "\u001b[36m\u001b[1m[ \u001b[22m\u001b[39m\u001b[36m\u001b[1mInfo: \u001b[22m\u001b[39mϕ=1, MCMC\n",
      "\u001b[32mProgress: 100%|█████████████████████████████████████████| Time: 0:01:08\u001b[39m\n",
      "\u001b[36m\u001b[1m[ \u001b[22m\u001b[39m\u001b[36m\u001b[1mInfo: \u001b[22m\u001b[39mLeaving g=64 out\n",
      "\u001b[36m\u001b[1m[ \u001b[22m\u001b[39m\u001b[36m\u001b[1mInfo: \u001b[22m\u001b[39mϕ=1, MCMC\n",
      "\u001b[32mProgress: 100%|█████████████████████████████████████████| Time: 0:01:08\u001b[39m\n",
      "\u001b[36m\u001b[1m[ \u001b[22m\u001b[39m\u001b[36m\u001b[1mInfo: \u001b[22m\u001b[39mLeaving g=65 out\n"
     ]
    },
    {
     "data": {
      "text/plain": [
       "Results of univariate zero finding:\n",
       "\n",
       "* Converged to: 0.8042734374999999\n",
       "* Algorithm: Bisection()\n",
       "* iterations: 10\n",
       "* function evaluations ≈ 13\n",
       "\n",
       "Trace:\n",
       "(a₀, b₀) = ( 0.010306249999999999, 1 )\n",
       "(a₁, b₁) = ( 0.103725, 1 )\n",
       "(a₂, b₂) = ( 0.33244999999999997, 1 )\n",
       "(a₃, b₃) = ( 0.58244999999999991, 1 )\n",
       "(a₄, b₄) = ( 0.79122499999999996, 1 )\n",
       "(a₅, b₅) = ( 0.79122499999999996, 0.89561249999999992 )\n",
       "(a₆, b₆) = ( 0.79122499999999996, 0.84341874999999988 )\n",
       "(a₇, b₇) = ( 0.79122499999999996, 0.81732187499999986 )\n",
       "(a₈, b₈) = ( 0.80427343749999991, 0.81732187499999986 )\n",
       "(a₉, b₉) = ( 0.80427343749999991, 0.81079765624999989 )\n",
       "(a₁₀, b₁₀) = ( 0.80427343749999991, 0.80753554687499984 )\n",
       "\n"
      ]
     },
     "metadata": {},
     "output_type": "display_data"
    },
    {
     "name": "stderr",
     "output_type": "stream",
     "text": [
      "\u001b[36m\u001b[1m[ \u001b[22m\u001b[39m\u001b[36m\u001b[1mInfo: \u001b[22m\u001b[39mTargeting ϕ=0.8042734374999999\n",
      "\u001b[32mProgress: 100%|█████████████████████████████████████████| Time: 0:03:13\u001b[39m\n",
      "\u001b[36m\u001b[1m[ \u001b[22m\u001b[39m\u001b[36m\u001b[1mInfo: \u001b[22m\u001b[39mϕ=1, MCMC\n",
      "\u001b[32mProgress: 100%|█████████████████████████████████████████| Time: 0:01:09\u001b[39m\n",
      "\u001b[36m\u001b[1m[ \u001b[22m\u001b[39m\u001b[36m\u001b[1mInfo: \u001b[22m\u001b[39mLeaving g=66 out\n",
      "\u001b[36m\u001b[1m[ \u001b[22m\u001b[39m\u001b[36m\u001b[1mInfo: \u001b[22m\u001b[39mϕ=1, MCMC\n",
      "\u001b[32mProgress: 100%|█████████████████████████████████████████| Time: 0:01:09\u001b[39m\n",
      "\u001b[36m\u001b[1m[ \u001b[22m\u001b[39m\u001b[36m\u001b[1mInfo: \u001b[22m\u001b[39mLeaving g=67 out\n"
     ]
    },
    {
     "data": {
      "text/plain": [
       "Results of univariate zero finding:\n",
       "\n",
       "* Converged to: 0.8760398437499999\n",
       "* Algorithm: Bisection()\n",
       "* iterations: 10\n",
       "* function evaluations ≈ 13\n",
       "\n",
       "Trace:\n",
       "(a₀, b₀) = ( 0.010306249999999999, 1 )\n",
       "(a₁, b₁) = ( 0.103725, 1 )\n",
       "(a₂, b₂) = ( 0.33244999999999997, 1 )\n",
       "(a₃, b₃) = ( 0.58244999999999991, 1 )\n",
       "(a₄, b₄) = ( 0.79122499999999996, 1 )\n",
       "(a₅, b₅) = ( 0.79122499999999996, 0.89561249999999992 )\n",
       "(a₆, b₆) = ( 0.84341874999999988, 0.89561249999999992 )\n",
       "(a₇, b₇) = ( 0.8695156249999999, 0.89561249999999992 )\n",
       "(a₈, b₈) = ( 0.8695156249999999, 0.88256406249999986 )\n",
       "(a₉, b₉) = ( 0.8695156249999999, 0.87603984374999988 )\n",
       "(a₁₀, b₁₀) = ( 0.87277773437499984, 0.87603984374999988 )\n",
       "\n"
      ]
     },
     "metadata": {},
     "output_type": "display_data"
    },
    {
     "name": "stderr",
     "output_type": "stream",
     "text": [
      "\u001b[36m\u001b[1m[ \u001b[22m\u001b[39m\u001b[36m\u001b[1mInfo: \u001b[22m\u001b[39mTargeting ϕ=0.8760398437499999\n",
      "\u001b[32mProgress: 100%|█████████████████████████████████████████| Time: 0:03:11\u001b[39m\n",
      "\u001b[36m\u001b[1m[ \u001b[22m\u001b[39m\u001b[36m\u001b[1mInfo: \u001b[22m\u001b[39mϕ=1, MCMC\n",
      "\u001b[32mProgress: 100%|█████████████████████████████████████████| Time: 0:01:06\u001b[39m\n",
      "\u001b[36m\u001b[1m[ \u001b[22m\u001b[39m\u001b[36m\u001b[1mInfo: \u001b[22m\u001b[39mLeaving g=68 out\n"
     ]
    },
    {
     "data": {
      "text/plain": [
       "Results of univariate zero finding:\n",
       "\n",
       "* Converged to: 0.9217093749999999\n",
       "* Algorithm: Bisection()\n",
       "* iterations: 10\n",
       "* function evaluations ≈ 13\n",
       "\n",
       "Trace:\n",
       "(a₀, b₀) = ( 0.010306249999999999, 1 )\n",
       "(a₁, b₁) = ( 0.103725, 1 )\n",
       "(a₂, b₂) = ( 0.33244999999999997, 1 )\n",
       "(a₃, b₃) = ( 0.58244999999999991, 1 )\n",
       "(a₄, b₄) = ( 0.79122499999999996, 1 )\n",
       "(a₅, b₅) = ( 0.89561249999999992, 1 )\n",
       "(a₆, b₆) = ( 0.89561249999999992, 0.94780624999999996 )\n",
       "(a₇, b₇) = ( 0.92170937499999994, 0.94780624999999996 )\n",
       "(a₈, b₈) = ( 0.92170937499999994, 0.9347578124999999 )\n",
       "(a₉, b₉) = ( 0.92170937499999994, 0.92823359374999992 )\n",
       "(a₁₀, b₁₀) = ( 0.92170937499999994, 0.92497148437499987 )\n",
       "\n"
      ]
     },
     "metadata": {},
     "output_type": "display_data"
    },
    {
     "name": "stderr",
     "output_type": "stream",
     "text": [
      "\u001b[36m\u001b[1m[ \u001b[22m\u001b[39m\u001b[36m\u001b[1mInfo: \u001b[22m\u001b[39mTargeting ϕ=0.9217093749999999\n",
      "\u001b[32mProgress: 100%|█████████████████████████████████████████| Time: 0:03:08\u001b[39m\n",
      "\u001b[36m\u001b[1m[ \u001b[22m\u001b[39m\u001b[36m\u001b[1mInfo: \u001b[22m\u001b[39mϕ=1, MCMC\n",
      "\u001b[32mProgress: 100%|█████████████████████████████████████████| Time: 0:01:06\u001b[39m\n",
      "\u001b[36m\u001b[1m[ \u001b[22m\u001b[39m\u001b[36m\u001b[1mInfo: \u001b[22m\u001b[39mLeaving g=69 out\n",
      "\u001b[36m\u001b[1m[ \u001b[22m\u001b[39m\u001b[36m\u001b[1mInfo: \u001b[22m\u001b[39mϕ=1, MCMC\n",
      "\u001b[32mProgress: 100%|█████████████████████████████████████████| Time: 0:01:06\u001b[39m\n",
      "\u001b[36m\u001b[1m[ \u001b[22m\u001b[39m\u001b[36m\u001b[1mInfo: \u001b[22m\u001b[39mLeaving g=70 out\n",
      "\u001b[36m\u001b[1m[ \u001b[22m\u001b[39m\u001b[36m\u001b[1mInfo: \u001b[22m\u001b[39mϕ=1, MCMC\n",
      "\u001b[32mProgress: 100%|█████████████████████████████████████████| Time: 0:01:09\u001b[39m\n",
      "\u001b[36m\u001b[1m[ \u001b[22m\u001b[39m\u001b[36m\u001b[1mInfo: \u001b[22m\u001b[39mLeaving g=71 out\n",
      "\u001b[36m\u001b[1m[ \u001b[22m\u001b[39m\u001b[36m\u001b[1mInfo: \u001b[22m\u001b[39mϕ=1, MCMC\n",
      "\u001b[32mProgress: 100%|█████████████████████████████████████████| Time: 0:01:09\u001b[39m\n",
      "\u001b[36m\u001b[1m[ \u001b[22m\u001b[39m\u001b[36m\u001b[1mInfo: \u001b[22m\u001b[39mLeaving g=72 out\n",
      "\u001b[36m\u001b[1m[ \u001b[22m\u001b[39m\u001b[36m\u001b[1mInfo: \u001b[22m\u001b[39mϕ=1, MCMC\n",
      "\u001b[32mProgress: 100%|█████████████████████████████████████████| Time: 0:01:08\u001b[39m\n",
      "\u001b[36m\u001b[1m[ \u001b[22m\u001b[39m\u001b[36m\u001b[1mInfo: \u001b[22m\u001b[39mLeaving g=73 out\n",
      "\u001b[36m\u001b[1m[ \u001b[22m\u001b[39m\u001b[36m\u001b[1mInfo: \u001b[22m\u001b[39mϕ=1, MCMC\n",
      "\u001b[32mProgress: 100%|█████████████████████████████████████████| Time: 0:01:07\u001b[39m\n",
      "\u001b[36m\u001b[1m[ \u001b[22m\u001b[39m\u001b[36m\u001b[1mInfo: \u001b[22m\u001b[39mLeaving g=74 out\n",
      "\u001b[36m\u001b[1m[ \u001b[22m\u001b[39m\u001b[36m\u001b[1mInfo: \u001b[22m\u001b[39mϕ=1, MCMC\n",
      "\u001b[32mProgress: 100%|█████████████████████████████████████████| Time: 0:01:07\u001b[39m\n",
      "\u001b[36m\u001b[1m[ \u001b[22m\u001b[39m\u001b[36m\u001b[1mInfo: \u001b[22m\u001b[39mLeaving g=75 out\n"
     ]
    },
    {
     "data": {
      "text/plain": [
       "Results of univariate zero finding:\n",
       "\n",
       "* Converged to: 0.7259828124999999\n",
       "* Algorithm: Bisection()\n",
       "* iterations: 10\n",
       "* function evaluations ≈ 13\n",
       "\n",
       "Trace:\n",
       "(a₀, b₀) = ( 0.010306249999999999, 1 )\n",
       "(a₁, b₁) = ( 0.103725, 1 )\n",
       "(a₂, b₂) = ( 0.33244999999999997, 1 )\n",
       "(a₃, b₃) = ( 0.58244999999999991, 1 )\n",
       "(a₄, b₄) = ( 0.58244999999999991, 0.79122499999999996 )\n",
       "(a₅, b₅) = ( 0.68683749999999988, 0.79122499999999996 )\n",
       "(a₆, b₆) = ( 0.68683749999999988, 0.73903124999999992 )\n",
       "(a₇, b₇) = ( 0.7129343749999999, 0.73903124999999992 )\n",
       "(a₈, b₈) = ( 0.7129343749999999, 0.72598281249999985 )\n",
       "(a₉, b₉) = ( 0.71945859374999988, 0.72598281249999985 )\n",
       "(a₁₀, b₁₀) = ( 0.72272070312499981, 0.72598281249999985 )\n",
       "\n"
      ]
     },
     "metadata": {},
     "output_type": "display_data"
    },
    {
     "name": "stderr",
     "output_type": "stream",
     "text": [
      "\u001b[36m\u001b[1m[ \u001b[22m\u001b[39m\u001b[36m\u001b[1mInfo: \u001b[22m\u001b[39mTargeting ϕ=0.7259828124999999\n",
      "\u001b[32mProgress: 100%|█████████████████████████████████████████| Time: 0:03:16\u001b[39m\n",
      "\u001b[36m\u001b[1m[ \u001b[22m\u001b[39m\u001b[36m\u001b[1mInfo: \u001b[22m\u001b[39mϕ=1, MCMC\n",
      "\u001b[32mProgress: 100%|█████████████████████████████████████████| Time: 0:01:07\u001b[39m\n",
      "\u001b[36m\u001b[1m[ \u001b[22m\u001b[39m\u001b[36m\u001b[1mInfo: \u001b[22m\u001b[39mLeaving g=76 out\n"
     ]
    },
    {
     "data": {
      "text/plain": [
       "Results of univariate zero finding:\n",
       "\n",
       "* Converged to: 0.6803132812499998\n",
       "* Algorithm: Bisection()\n",
       "* iterations: 10\n",
       "* function evaluations ≈ 13\n",
       "\n",
       "Trace:\n",
       "(a₀, b₀) = ( 0.010306249999999999, 1 )\n",
       "(a₁, b₁) = ( 0.103725, 1 )\n",
       "(a₂, b₂) = ( 0.33244999999999997, 1 )\n",
       "(a₃, b₃) = ( 0.58244999999999991, 1 )\n",
       "(a₄, b₄) = ( 0.58244999999999991, 0.79122499999999996 )\n",
       "(a₅, b₅) = ( 0.58244999999999991, 0.68683749999999988 )\n",
       "(a₆, b₆) = ( 0.63464374999999984, 0.68683749999999988 )\n",
       "(a₇, b₇) = ( 0.66074062499999986, 0.68683749999999988 )\n",
       "(a₈, b₈) = ( 0.67378906249999981, 0.68683749999999988 )\n",
       "(a₉, b₉) = ( 0.68031328124999979, 0.68683749999999988 )\n",
       "(a₁₀, b₁₀) = ( 0.68031328124999979, 0.68357539062499983 )\n",
       "\n"
      ]
     },
     "metadata": {},
     "output_type": "display_data"
    },
    {
     "name": "stderr",
     "output_type": "stream",
     "text": [
      "\u001b[36m\u001b[1m[ \u001b[22m\u001b[39m\u001b[36m\u001b[1mInfo: \u001b[22m\u001b[39mTargeting ϕ=0.6803132812499998\n",
      "\u001b[32mProgress: 100%|█████████████████████████████████████████| Time: 0:03:17\u001b[39m\n",
      "\u001b[36m\u001b[1m[ \u001b[22m\u001b[39m\u001b[36m\u001b[1mInfo: \u001b[22m\u001b[39mϕ=1, MCMC\n",
      "\u001b[32mProgress: 100%|█████████████████████████████████████████| Time: 0:01:06\u001b[39m\n",
      "\u001b[36m\u001b[1m[ \u001b[22m\u001b[39m\u001b[36m\u001b[1mInfo: \u001b[22m\u001b[39mLeaving g=77 out\n"
     ]
    },
    {
     "data": {
      "text/plain": [
       "Results of univariate zero finding:\n",
       "\n",
       "* Converged to: 0.9249714843749999\n",
       "* Algorithm: Bisection()\n",
       "* iterations: 10\n",
       "* function evaluations ≈ 13\n",
       "\n",
       "Trace:\n",
       "(a₀, b₀) = ( 0.010306249999999999, 1 )\n",
       "(a₁, b₁) = ( 0.103725, 1 )\n",
       "(a₂, b₂) = ( 0.33244999999999997, 1 )\n",
       "(a₃, b₃) = ( 0.58244999999999991, 1 )\n",
       "(a₄, b₄) = ( 0.79122499999999996, 1 )\n",
       "(a₅, b₅) = ( 0.89561249999999992, 1 )\n",
       "(a₆, b₆) = ( 0.89561249999999992, 0.94780624999999996 )\n",
       "(a₇, b₇) = ( 0.92170937499999994, 0.94780624999999996 )\n",
       "(a₈, b₈) = ( 0.92170937499999994, 0.9347578124999999 )\n",
       "(a₉, b₉) = ( 0.92170937499999994, 0.92823359374999992 )\n",
       "(a₁₀, b₁₀) = ( 0.92497148437499987, 0.92823359374999992 )\n",
       "\n"
      ]
     },
     "metadata": {},
     "output_type": "display_data"
    },
    {
     "name": "stderr",
     "output_type": "stream",
     "text": [
      "\u001b[36m\u001b[1m[ \u001b[22m\u001b[39m\u001b[36m\u001b[1mInfo: \u001b[22m\u001b[39mTargeting ϕ=0.9249714843749999\n",
      "\u001b[32mProgress: 100%|█████████████████████████████████████████| Time: 0:03:13\u001b[39m\n",
      "\u001b[36m\u001b[1m[ \u001b[22m\u001b[39m\u001b[36m\u001b[1mInfo: \u001b[22m\u001b[39mϕ=1, MCMC\n",
      "\u001b[32mProgress: 100%|█████████████████████████████████████████| Time: 0:01:05\u001b[39m\n",
      "\u001b[36m\u001b[1m[ \u001b[22m\u001b[39m\u001b[36m\u001b[1mInfo: \u001b[22m\u001b[39mLeaving g=78 out\n"
     ]
    },
    {
     "data": {
      "text/plain": [
       "Results of univariate zero finding:\n",
       "\n",
       "* Converged to: 0.9184472656249999\n",
       "* Algorithm: Bisection()\n",
       "* iterations: 10\n",
       "* function evaluations ≈ 13\n",
       "\n",
       "Trace:\n",
       "(a₀, b₀) = ( 0.010306249999999999, 1 )\n",
       "(a₁, b₁) = ( 0.103725, 1 )\n",
       "(a₂, b₂) = ( 0.33244999999999997, 1 )\n",
       "(a₃, b₃) = ( 0.58244999999999991, 1 )\n",
       "(a₄, b₄) = ( 0.79122499999999996, 1 )\n",
       "(a₅, b₅) = ( 0.89561249999999992, 1 )\n",
       "(a₆, b₆) = ( 0.89561249999999992, 0.94780624999999996 )\n",
       "(a₇, b₇) = ( 0.89561249999999992, 0.92170937499999994 )\n",
       "(a₈, b₈) = ( 0.90866093749999988, 0.92170937499999994 )\n",
       "(a₉, b₉) = ( 0.91518515624999985, 0.92170937499999994 )\n",
       "(a₁₀, b₁₀) = ( 0.9184472656249999, 0.92170937499999994 )\n",
       "\n"
      ]
     },
     "metadata": {},
     "output_type": "display_data"
    },
    {
     "name": "stderr",
     "output_type": "stream",
     "text": [
      "\u001b[36m\u001b[1m[ \u001b[22m\u001b[39m\u001b[36m\u001b[1mInfo: \u001b[22m\u001b[39mTargeting ϕ=0.9184472656249999\n",
      "\u001b[32mProgress: 100%|█████████████████████████████████████████| Time: 0:03:12\u001b[39m\n",
      "\u001b[36m\u001b[1m[ \u001b[22m\u001b[39m\u001b[36m\u001b[1mInfo: \u001b[22m\u001b[39mϕ=1, MCMC\n",
      "\u001b[32mProgress: 100%|█████████████████████████████████████████| Time: 0:01:08\u001b[39m\n",
      "\u001b[36m\u001b[1m[ \u001b[22m\u001b[39m\u001b[36m\u001b[1mInfo: \u001b[22m\u001b[39mLeaving g=79 out\n",
      "\u001b[36m\u001b[1m[ \u001b[22m\u001b[39m\u001b[36m\u001b[1mInfo: \u001b[22m\u001b[39mϕ=1, MCMC\n",
      "\u001b[32mProgress: 100%|█████████████████████████████████████████| Time: 0:01:10\u001b[39m\n",
      "\u001b[36m\u001b[1m[ \u001b[22m\u001b[39m\u001b[36m\u001b[1mInfo: \u001b[22m\u001b[39mLeaving g=80 out\n",
      "\u001b[36m\u001b[1m[ \u001b[22m\u001b[39m\u001b[36m\u001b[1mInfo: \u001b[22m\u001b[39mϕ=1, MCMC\n",
      "\u001b[32mProgress: 100%|█████████████████████████████████████████| Time: 0:01:07\u001b[39m\n",
      "\u001b[36m\u001b[1m[ \u001b[22m\u001b[39m\u001b[36m\u001b[1mInfo: \u001b[22m\u001b[39mLeaving g=81 out\n",
      "\u001b[36m\u001b[1m[ \u001b[22m\u001b[39m\u001b[36m\u001b[1mInfo: \u001b[22m\u001b[39mϕ=1, MCMC\n",
      "\u001b[32mProgress: 100%|█████████████████████████████████████████| Time: 0:01:08\u001b[39m\n",
      "\u001b[36m\u001b[1m[ \u001b[22m\u001b[39m\u001b[36m\u001b[1mInfo: \u001b[22m\u001b[39mLeaving g=82 out\n",
      "\u001b[36m\u001b[1m[ \u001b[22m\u001b[39m\u001b[36m\u001b[1mInfo: \u001b[22m\u001b[39mϕ=1, MCMC\n",
      "\u001b[32mProgress: 100%|█████████████████████████████████████████| Time: 0:01:05\u001b[39m\n",
      "\u001b[36m\u001b[1m[ \u001b[22m\u001b[39m\u001b[36m\u001b[1mInfo: \u001b[22m\u001b[39mLeaving g=83 out\n",
      "\u001b[36m\u001b[1m[ \u001b[22m\u001b[39m\u001b[36m\u001b[1mInfo: \u001b[22m\u001b[39mϕ=1, MCMC\n",
      "\u001b[32mProgress: 100%|█████████████████████████████████████████| Time: 0:01:10\u001b[39m\n",
      "\u001b[36m\u001b[1m[ \u001b[22m\u001b[39m\u001b[36m\u001b[1mInfo: \u001b[22m\u001b[39mLeaving g=84 out\n",
      "\u001b[36m\u001b[1m[ \u001b[22m\u001b[39m\u001b[36m\u001b[1mInfo: \u001b[22m\u001b[39mϕ=1, MCMC\n",
      "\u001b[32mProgress: 100%|█████████████████████████████████████████| Time: 0:01:10\u001b[39m\n",
      "\u001b[36m\u001b[1m[ \u001b[22m\u001b[39m\u001b[36m\u001b[1mInfo: \u001b[22m\u001b[39mLeaving g=85 out\n",
      "\u001b[36m\u001b[1m[ \u001b[22m\u001b[39m\u001b[36m\u001b[1mInfo: \u001b[22m\u001b[39mϕ=1, MCMC\n",
      "\u001b[32mProgress: 100%|█████████████████████████████████████████| Time: 0:01:08\u001b[39m\n"
     ]
    }
   ],
   "source": [
    "Random.seed!(1)\n",
    "RUN_aSMC && run(chain, SMCS_Radon; k̂_threshold=-Inf, save_bool=true)"
   ]
  },
  {
   "cell_type": "code",
   "execution_count": 88,
   "id": "4c3e2e48-cab3-426e-b700-f847ae534728",
   "metadata": {
    "scrolled": true
   },
   "outputs": [
    {
     "name": "stderr",
     "output_type": "stream",
     "text": [
      "\u001b[36m\u001b[1m[ \u001b[22m\u001b[39m\u001b[36m\u001b[1mInfo: \u001b[22m\u001b[39mLeaving g=1 out\n"
     ]
    },
    {
     "data": {
      "text/plain": [
       "Results of univariate zero finding:\n",
       "\n",
       "* Converged to: 0.6313816406249998\n",
       "* Algorithm: Bisection()\n",
       "* iterations: 10\n",
       "* function evaluations ≈ 13\n",
       "\n",
       "Trace:\n",
       "(a₀, b₀) = ( 0.010306249999999999, 1 )\n",
       "(a₁, b₁) = ( 0.103725, 1 )\n",
       "(a₂, b₂) = ( 0.33244999999999997, 1 )\n",
       "(a₃, b₃) = ( 0.58244999999999991, 1 )\n",
       "(a₄, b₄) = ( 0.58244999999999991, 0.79122499999999996 )\n",
       "(a₅, b₅) = ( 0.58244999999999991, 0.68683749999999988 )\n",
       "(a₆, b₆) = ( 0.58244999999999991, 0.63464374999999984 )\n",
       "(a₇, b₇) = ( 0.60854687499999982, 0.63464374999999984 )\n",
       "(a₈, b₈) = ( 0.62159531249999977, 0.63464374999999984 )\n",
       "(a₉, b₉) = ( 0.62811953124999975, 0.63464374999999984 )\n",
       "(a₁₀, b₁₀) = ( 0.62811953124999975, 0.6313816406249998 )\n",
       "\n"
      ]
     },
     "metadata": {},
     "output_type": "display_data"
    },
    {
     "name": "stderr",
     "output_type": "stream",
     "text": [
      "\u001b[36m\u001b[1m[ \u001b[22m\u001b[39m\u001b[36m\u001b[1mInfo: \u001b[22m\u001b[39mTargeting ϕ=0.6313816406249998\n",
      "\u001b[32mProgress: 100%|█████████████████████████████████████████| Time: 0:03:18\u001b[39m\n",
      "\u001b[36m\u001b[1m[ \u001b[22m\u001b[39m\u001b[36m\u001b[1mInfo: \u001b[22m\u001b[39mϕ=1, PSIS\n",
      "\u001b[36m\u001b[1m[ \u001b[22m\u001b[39m\u001b[36m\u001b[1mInfo: \u001b[22m\u001b[39mLeaving g=2 out\n"
     ]
    },
    {
     "data": {
      "text/plain": [
       "Results of univariate zero finding:\n",
       "\n",
       "* Converged to: 0.7325070312499998\n",
       "* Algorithm: Bisection()\n",
       "* iterations: 10\n",
       "* function evaluations ≈ 13\n",
       "\n",
       "Trace:\n",
       "(a₀, b₀) = ( 0.010306249999999999, 1 )\n",
       "(a₁, b₁) = ( 0.103725, 1 )\n",
       "(a₂, b₂) = ( 0.33244999999999997, 1 )\n",
       "(a₃, b₃) = ( 0.58244999999999991, 1 )\n",
       "(a₄, b₄) = ( 0.58244999999999991, 0.79122499999999996 )\n",
       "(a₅, b₅) = ( 0.68683749999999988, 0.79122499999999996 )\n",
       "(a₆, b₆) = ( 0.68683749999999988, 0.73903124999999992 )\n",
       "(a₇, b₇) = ( 0.7129343749999999, 0.73903124999999992 )\n",
       "(a₈, b₈) = ( 0.72598281249999985, 0.73903124999999992 )\n",
       "(a₉, b₉) = ( 0.73250703124999983, 0.73903124999999992 )\n",
       "(a₁₀, b₁₀) = ( 0.73250703124999983, 0.73576914062499987 )\n",
       "\n"
      ]
     },
     "metadata": {},
     "output_type": "display_data"
    },
    {
     "name": "stderr",
     "output_type": "stream",
     "text": [
      "\u001b[36m\u001b[1m[ \u001b[22m\u001b[39m\u001b[36m\u001b[1mInfo: \u001b[22m\u001b[39mTargeting ϕ=0.7325070312499998\n",
      "\u001b[32mProgress: 100%|█████████████████████████████████████████| Time: 0:03:14\u001b[39m\n",
      "\u001b[36m\u001b[1m[ \u001b[22m\u001b[39m\u001b[36m\u001b[1mInfo: \u001b[22m\u001b[39mϕ=1, PSIS\n",
      "\u001b[36m\u001b[1m[ \u001b[22m\u001b[39m\u001b[36m\u001b[1mInfo: \u001b[22m\u001b[39mLeaving g=3 out\n"
     ]
    },
    {
     "data": {
      "text/plain": [
       "Results of univariate zero finding:\n",
       "\n",
       "* Converged to: 0.6379058593749998\n",
       "* Algorithm: Bisection()\n",
       "* iterations: 10\n",
       "* function evaluations ≈ 13\n",
       "\n",
       "Trace:\n",
       "(a₀, b₀) = ( 0.010306249999999999, 1 )\n",
       "(a₁, b₁) = ( 0.103725, 1 )\n",
       "(a₂, b₂) = ( 0.33244999999999997, 1 )\n",
       "(a₃, b₃) = ( 0.58244999999999991, 1 )\n",
       "(a₄, b₄) = ( 0.58244999999999991, 0.79122499999999996 )\n",
       "(a₅, b₅) = ( 0.58244999999999991, 0.68683749999999988 )\n",
       "(a₆, b₆) = ( 0.63464374999999984, 0.68683749999999988 )\n",
       "(a₇, b₇) = ( 0.63464374999999984, 0.66074062499999986 )\n",
       "(a₈, b₈) = ( 0.63464374999999984, 0.64769218749999979 )\n",
       "(a₉, b₉) = ( 0.63464374999999984, 0.64116796874999982 )\n",
       "(a₁₀, b₁₀) = ( 0.63790585937499977, 0.64116796874999982 )\n",
       "\n"
      ]
     },
     "metadata": {},
     "output_type": "display_data"
    },
    {
     "name": "stderr",
     "output_type": "stream",
     "text": [
      "\u001b[36m\u001b[1m[ \u001b[22m\u001b[39m\u001b[36m\u001b[1mInfo: \u001b[22m\u001b[39mTargeting ϕ=0.6379058593749998\n",
      "\u001b[32mProgress: 100%|█████████████████████████████████████████| Time: 0:03:18\u001b[39m\n",
      "\u001b[36m\u001b[1m[ \u001b[22m\u001b[39m\u001b[36m\u001b[1mInfo: \u001b[22m\u001b[39mϕ=1, PSIS\n",
      "\u001b[36m\u001b[1m[ \u001b[22m\u001b[39m\u001b[36m\u001b[1mInfo: \u001b[22m\u001b[39mLeaving g=4 out\n",
      "\u001b[36m\u001b[1m[ \u001b[22m\u001b[39m\u001b[36m\u001b[1mInfo: \u001b[22m\u001b[39mϕ=1, PSIS\n",
      "\u001b[36m\u001b[1m[ \u001b[22m\u001b[39m\u001b[36m\u001b[1mInfo: \u001b[22m\u001b[39mLeaving g=5 out\n"
     ]
    },
    {
     "data": {
      "text/plain": [
       "Results of univariate zero finding:\n",
       "\n",
       "* Converged to: 0.9086609374999999\n",
       "* Algorithm: Bisection()\n",
       "* iterations: 10\n",
       "* function evaluations ≈ 13\n",
       "\n",
       "Trace:\n",
       "(a₀, b₀) = ( 0.010306249999999999, 1 )\n",
       "(a₁, b₁) = ( 0.103725, 1 )\n",
       "(a₂, b₂) = ( 0.33244999999999997, 1 )\n",
       "(a₃, b₃) = ( 0.58244999999999991, 1 )\n",
       "(a₄, b₄) = ( 0.79122499999999996, 1 )\n",
       "(a₅, b₅) = ( 0.89561249999999992, 1 )\n",
       "(a₆, b₆) = ( 0.89561249999999992, 0.94780624999999996 )\n",
       "(a₇, b₇) = ( 0.89561249999999992, 0.92170937499999994 )\n",
       "(a₈, b₈) = ( 0.89561249999999992, 0.90866093749999988 )\n",
       "(a₉, b₉) = ( 0.9021367187499999, 0.90866093749999988 )\n",
       "(a₁₀, b₁₀) = ( 0.90539882812499983, 0.90866093749999988 )\n",
       "\n"
      ]
     },
     "metadata": {},
     "output_type": "display_data"
    },
    {
     "name": "stderr",
     "output_type": "stream",
     "text": [
      "\u001b[36m\u001b[1m[ \u001b[22m\u001b[39m\u001b[36m\u001b[1mInfo: \u001b[22m\u001b[39mTargeting ϕ=0.9086609374999999\n",
      "\u001b[32mProgress: 100%|█████████████████████████████████████████| Time: 0:03:14\u001b[39m\n",
      "\u001b[36m\u001b[1m[ \u001b[22m\u001b[39m\u001b[36m\u001b[1mInfo: \u001b[22m\u001b[39mϕ=1, PSIS\n",
      "\u001b[36m\u001b[1m[ \u001b[22m\u001b[39m\u001b[36m\u001b[1mInfo: \u001b[22m\u001b[39mLeaving g=6 out\n"
     ]
    },
    {
     "data": {
      "text/plain": [
       "Results of univariate zero finding:\n",
       "\n",
       "* Converged to: 0.8858261718749998\n",
       "* Algorithm: Bisection()\n",
       "* iterations: 10\n",
       "* function evaluations ≈ 13\n",
       "\n",
       "Trace:\n",
       "(a₀, b₀) = ( 0.010306249999999999, 1 )\n",
       "(a₁, b₁) = ( 0.103725, 1 )\n",
       "(a₂, b₂) = ( 0.33244999999999997, 1 )\n",
       "(a₃, b₃) = ( 0.58244999999999991, 1 )\n",
       "(a₄, b₄) = ( 0.79122499999999996, 1 )\n",
       "(a₅, b₅) = ( 0.79122499999999996, 0.89561249999999992 )\n",
       "(a₆, b₆) = ( 0.84341874999999988, 0.89561249999999992 )\n",
       "(a₇, b₇) = ( 0.8695156249999999, 0.89561249999999992 )\n",
       "(a₈, b₈) = ( 0.88256406249999986, 0.89561249999999992 )\n",
       "(a₉, b₉) = ( 0.88256406249999986, 0.88908828124999983 )\n",
       "(a₁₀, b₁₀) = ( 0.88256406249999986, 0.88582617187499979 )\n",
       "\n"
      ]
     },
     "metadata": {},
     "output_type": "display_data"
    },
    {
     "name": "stderr",
     "output_type": "stream",
     "text": [
      "\u001b[36m\u001b[1m[ \u001b[22m\u001b[39m\u001b[36m\u001b[1mInfo: \u001b[22m\u001b[39mTargeting ϕ=0.8858261718749998\n",
      "\u001b[32mProgress: 100%|█████████████████████████████████████████| Time: 0:03:14\u001b[39m\n",
      "\u001b[36m\u001b[1m[ \u001b[22m\u001b[39m\u001b[36m\u001b[1mInfo: \u001b[22m\u001b[39mϕ=1, PSIS\n",
      "\u001b[36m\u001b[1m[ \u001b[22m\u001b[39m\u001b[36m\u001b[1mInfo: \u001b[22m\u001b[39mLeaving g=7 out\n",
      "\u001b[36m\u001b[1m[ \u001b[22m\u001b[39m\u001b[36m\u001b[1mInfo: \u001b[22m\u001b[39mϕ=1, PSIS\n",
      "\u001b[36m\u001b[1m[ \u001b[22m\u001b[39m\u001b[36m\u001b[1mInfo: \u001b[22m\u001b[39mLeaving g=8 out\n",
      "\u001b[36m\u001b[1m[ \u001b[22m\u001b[39m\u001b[36m\u001b[1mInfo: \u001b[22m\u001b[39mϕ=1, PSIS\n",
      "\u001b[36m\u001b[1m[ \u001b[22m\u001b[39m\u001b[36m\u001b[1mInfo: \u001b[22m\u001b[39mLeaving g=9 out\n",
      "\u001b[36m\u001b[1m[ \u001b[22m\u001b[39m\u001b[36m\u001b[1mInfo: \u001b[22m\u001b[39mϕ=1, PSIS\n",
      "\u001b[36m\u001b[1m[ \u001b[22m\u001b[39m\u001b[36m\u001b[1mInfo: \u001b[22m\u001b[39mLeaving g=10 out\n"
     ]
    },
    {
     "data": {
      "text/plain": [
       "Results of univariate zero finding:\n",
       "\n",
       "* Converged to: 0.9575925781249999\n",
       "* Algorithm: Bisection()\n",
       "* iterations: 10\n",
       "* function evaluations ≈ 13\n",
       "\n",
       "Trace:\n",
       "(a₀, b₀) = ( 0.010306249999999999, 1 )\n",
       "(a₁, b₁) = ( 0.103725, 1 )\n",
       "(a₂, b₂) = ( 0.33244999999999997, 1 )\n",
       "(a₃, b₃) = ( 0.58244999999999991, 1 )\n",
       "(a₄, b₄) = ( 0.79122499999999996, 1 )\n",
       "(a₅, b₅) = ( 0.89561249999999992, 1 )\n",
       "(a₆, b₆) = ( 0.94780624999999996, 1 )\n",
       "(a₇, b₇) = ( 0.94780624999999996, 0.97390312499999998 )\n",
       "(a₈, b₈) = ( 0.94780624999999996, 0.96085468749999992 )\n",
       "(a₉, b₉) = ( 0.95433046874999994, 0.96085468749999992 )\n",
       "(a₁₀, b₁₀) = ( 0.95433046874999994, 0.95759257812499987 )\n",
       "\n"
      ]
     },
     "metadata": {},
     "output_type": "display_data"
    },
    {
     "name": "stderr",
     "output_type": "stream",
     "text": [
      "\u001b[36m\u001b[1m[ \u001b[22m\u001b[39m\u001b[36m\u001b[1mInfo: \u001b[22m\u001b[39mTargeting ϕ=0.9575925781249999\n",
      "\u001b[32mProgress: 100%|█████████████████████████████████████████| Time: 0:03:14\u001b[39m\n",
      "\u001b[36m\u001b[1m[ \u001b[22m\u001b[39m\u001b[36m\u001b[1mInfo: \u001b[22m\u001b[39mϕ=1, PSIS\n",
      "\u001b[36m\u001b[1m[ \u001b[22m\u001b[39m\u001b[36m\u001b[1mInfo: \u001b[22m\u001b[39mLeaving g=11 out\n",
      "\u001b[36m\u001b[1m[ \u001b[22m\u001b[39m\u001b[36m\u001b[1mInfo: \u001b[22m\u001b[39mϕ=1, PSIS\n",
      "\u001b[36m\u001b[1m[ \u001b[22m\u001b[39m\u001b[36m\u001b[1mInfo: \u001b[22m\u001b[39mLeaving g=12 out\n",
      "\u001b[36m\u001b[1m[ \u001b[22m\u001b[39m\u001b[36m\u001b[1mInfo: \u001b[22m\u001b[39mϕ=1, PSIS\n",
      "\u001b[36m\u001b[1m[ \u001b[22m\u001b[39m\u001b[36m\u001b[1mInfo: \u001b[22m\u001b[39mLeaving g=13 out\n"
     ]
    },
    {
     "data": {
      "text/plain": [
       "Results of univariate zero finding:\n",
       "\n",
       "* Converged to: 0.4874001953124999\n",
       "* Algorithm: Bisection()\n",
       "* iterations: 10\n",
       "* function evaluations ≈ 13\n",
       "\n",
       "Trace:\n",
       "(a₀, b₀) = ( 0.010306249999999999, 1 )\n",
       "(a₁, b₁) = ( 0.103725, 1 )\n",
       "(a₂, b₂) = ( 0.33244999999999997, 1 )\n",
       "(a₃, b₃) = ( 0.33244999999999997, 0.58244999999999991 )\n",
       "(a₄, b₄) = ( 0.43683749999999993, 0.58244999999999991 )\n",
       "(a₅, b₅) = ( 0.43683749999999993, 0.48903124999999992 )\n",
       "(a₆, b₆) = ( 0.4629343749999999, 0.48903124999999992 )\n",
       "(a₇, b₇) = ( 0.47598281249999991, 0.48903124999999992 )\n",
       "(a₈, b₈) = ( 0.48250703124999988, 0.48903124999999992 )\n",
       "(a₉, b₉) = ( 0.48576914062499987, 0.48903124999999992 )\n",
       "(a₁₀, b₁₀) = ( 0.4874001953124999, 0.48903124999999992 )\n",
       "\n"
      ]
     },
     "metadata": {},
     "output_type": "display_data"
    },
    {
     "name": "stderr",
     "output_type": "stream",
     "text": [
      "\u001b[36m\u001b[1m[ \u001b[22m\u001b[39m\u001b[36m\u001b[1mInfo: \u001b[22m\u001b[39mTargeting ϕ=0.4874001953124999\n",
      "\u001b[32mProgress: 100%|█████████████████████████████████████████| Time: 0:03:13\u001b[39m\n"
     ]
    },
    {
     "data": {
      "text/plain": [
       "Results of univariate zero finding:\n",
       "\n",
       "* Converged to: 0.7395509750366209\n",
       "* Algorithm: Bisection()\n",
       "* iterations: 10\n",
       "* function evaluations ≈ 13\n",
       "\n",
       "Trace:\n",
       "(a₀, b₀) = ( 0.73750019531249988, 1 )\n",
       "(a₁, b₁) = ( 0.73750019531249988, 0.86875009765624989 )\n",
       "(a₂, b₂) = ( 0.73750019531249988, 0.80312514648437483 )\n",
       "(a₃, b₃) = ( 0.73750019531249988, 0.77031267089843736 )\n",
       "(a₄, b₄) = ( 0.73750019531249988, 0.75390643310546857 )\n",
       "(a₅, b₅) = ( 0.73750019531249988, 0.74570331420898417 )\n",
       "(a₆, b₆) = ( 0.73750019531249988, 0.74160175476074197 )\n",
       "(a₇, b₇) = ( 0.73750019531249988, 0.73955097503662093 )\n",
       "(a₈, b₈) = ( 0.73852558517456035, 0.73955097503662093 )\n",
       "(a₉, b₉) = ( 0.73903828010559058, 0.73955097503662093 )\n",
       "(a₁₀, b₁₀) = ( 0.73929462757110576, 0.73955097503662093 )\n",
       "\n"
      ]
     },
     "metadata": {},
     "output_type": "display_data"
    },
    {
     "name": "stderr",
     "output_type": "stream",
     "text": [
      "\u001b[36m\u001b[1m[ \u001b[22m\u001b[39m\u001b[36m\u001b[1mInfo: \u001b[22m\u001b[39mTargeting ϕ=0.7395509750366209\n",
      "\u001b[32mProgress: 100%|█████████████████████████████████████████| Time: 0:03:10\u001b[39m\n"
     ]
    },
    {
     "data": {
      "text/plain": [
       "Results of univariate zero finding:\n",
       "\n",
       "* Converged to: 0.8941060850612818\n",
       "* Algorithm: Bisection()\n",
       "* iterations: 10\n",
       "* function evaluations ≈ 13\n",
       "\n",
       "Trace:\n",
       "(a₀, b₀) = ( 0.86982548751831046, 1 )\n",
       "(a₁, b₁) = ( 0.86982548751831046, 0.93491274375915523 )\n",
       "(a₂, b₂) = ( 0.86982548751831046, 0.90236911563873279 )\n",
       "(a₃, b₃) = ( 0.88609730157852162, 0.90236911563873279 )\n",
       "(a₄, b₄) = ( 0.88609730157852162, 0.89423320860862721 )\n",
       "(a₅, b₅) = ( 0.89016525509357436, 0.89423320860862721 )\n",
       "(a₆, b₆) = ( 0.89219923185110073, 0.89423320860862721 )\n",
       "(a₇, b₇) = ( 0.89321622022986391, 0.89423320860862721 )\n",
       "(a₈, b₈) = ( 0.8937247144192455, 0.89423320860862721 )\n",
       "(a₉, b₉) = ( 0.8939789615139363, 0.89423320860862721 )\n",
       "(a₁₀, b₁₀) = ( 0.8939789615139363, 0.89410608506128175 )\n",
       "\n"
      ]
     },
     "metadata": {},
     "output_type": "display_data"
    },
    {
     "name": "stderr",
     "output_type": "stream",
     "text": [
      "\u001b[36m\u001b[1m[ \u001b[22m\u001b[39m\u001b[36m\u001b[1mInfo: \u001b[22m\u001b[39mTargeting ϕ=0.8941060850612818\n",
      "\u001b[32mProgress: 100%|█████████████████████████████████████████| Time: 0:03:12\u001b[39m\n"
     ]
    },
    {
     "data": {
      "text/plain": [
       "Results of univariate zero finding:\n",
       "\n",
       "* Converged to: 0.9531469331789951\n",
       "* Algorithm: Bisection()\n",
       "* iterations: 10\n",
       "* function evaluations ≈ 13\n",
       "\n",
       "Trace:\n",
       "(a₀, b₀) = ( 0.94710304253064082, 1 )\n",
       "(a₁, b₁) = ( 0.94710304253064082, 0.97355152126532041 )\n",
       "(a₂, b₂) = ( 0.94710304253064082, 0.96032728189798056 )\n",
       "(a₃, b₃) = ( 0.94710304253064082, 0.95371516221431063 )\n",
       "(a₄, b₄) = ( 0.95040910237247567, 0.95371516221431063 )\n",
       "(a₅, b₅) = ( 0.95206213229339309, 0.95371516221431063 )\n",
       "(a₆, b₆) = ( 0.95288864725385181, 0.95371516221431063 )\n",
       "(a₇, b₇) = ( 0.95288864725385181, 0.95330190473408116 )\n",
       "(a₈, b₈) = ( 0.95309527599396648, 0.95330190473408116 )\n",
       "(a₉, b₉) = ( 0.95309527599396648, 0.95319859036402377 )\n",
       "(a₁₀, b₁₀) = ( 0.95309527599396648, 0.95314693317899513 )\n",
       "\n"
      ]
     },
     "metadata": {},
     "output_type": "display_data"
    },
    {
     "name": "stderr",
     "output_type": "stream",
     "text": [
      "\u001b[36m\u001b[1m[ \u001b[22m\u001b[39m\u001b[36m\u001b[1mInfo: \u001b[22m\u001b[39mTargeting ϕ=0.9531469331789951\n",
      "\u001b[32mProgress: 100%|█████████████████████████████████████████| Time: 0:03:11\u001b[39m\n"
     ]
    },
    {
     "data": {
      "text/plain": [
       "Results of univariate zero finding:\n",
       "\n",
       "* Converged to: 0.9919871452860484\n",
       "* Algorithm: Bisection()\n",
       "* iterations: 10\n",
       "* function evaluations ≈ 13\n",
       "\n",
       "Trace:\n",
       "(a₀, b₀) = ( 0.9766234665894975, 1 )\n",
       "(a₁, b₁) = ( 0.98831173329474875, 1 )\n",
       "(a₂, b₂) = ( 0.98831173329474875, 0.99415586664737432 )\n",
       "(a₃, b₃) = ( 0.99123379997106154, 0.99415586664737432 )\n",
       "(a₄, b₄) = ( 0.99123379997106154, 0.99269483330921793 )\n",
       "(a₅, b₅) = ( 0.99196431664013973, 0.99269483330921793 )\n",
       "(a₆, b₆) = ( 0.99196431664013973, 0.99232957497467877 )\n",
       "(a₇, b₇) = ( 0.99196431664013973, 0.99214694580740925 )\n",
       "(a₈, b₈) = ( 0.99196431664013973, 0.99205563122377449 )\n",
       "(a₉, b₉) = ( 0.99196431664013973, 0.99200997393195711 )\n",
       "(a₁₀, b₁₀) = ( 0.99196431664013973, 0.99198714528604837 )\n",
       "\n"
      ]
     },
     "metadata": {},
     "output_type": "display_data"
    },
    {
     "name": "stderr",
     "output_type": "stream",
     "text": [
      "\u001b[36m\u001b[1m[ \u001b[22m\u001b[39m\u001b[36m\u001b[1mInfo: \u001b[22m\u001b[39mTargeting ϕ=0.9919871452860484\n",
      "\u001b[32mProgress: 100%|█████████████████████████████████████████| Time: 0:03:12\u001b[39m\n",
      "\u001b[36m\u001b[1m[ \u001b[22m\u001b[39m\u001b[36m\u001b[1mInfo: \u001b[22m\u001b[39mϕ=1, PSIS\n",
      "\u001b[36m\u001b[1m[ \u001b[22m\u001b[39m\u001b[36m\u001b[1mInfo: \u001b[22m\u001b[39mLeaving g=14 out\n"
     ]
    },
    {
     "data": {
      "text/plain": [
       "Results of univariate zero finding:\n",
       "\n",
       "* Converged to: 0.9902136718749999\n",
       "* Algorithm: Bisection()\n",
       "* iterations: 10\n",
       "* function evaluations ≈ 13\n",
       "\n",
       "Trace:\n",
       "(a₀, b₀) = ( 0.010306249999999999, 1 )\n",
       "(a₁, b₁) = ( 0.103725, 1 )\n",
       "(a₂, b₂) = ( 0.33244999999999997, 1 )\n",
       "(a₃, b₃) = ( 0.58244999999999991, 1 )\n",
       "(a₄, b₄) = ( 0.79122499999999996, 1 )\n",
       "(a₅, b₅) = ( 0.89561249999999992, 1 )\n",
       "(a₆, b₆) = ( 0.94780624999999996, 1 )\n",
       "(a₇, b₇) = ( 0.97390312499999998, 1 )\n",
       "(a₈, b₈) = ( 0.98695156249999993, 1 )\n",
       "(a₉, b₉) = ( 0.98695156249999993, 0.99347578124999991 )\n",
       "(a₁₀, b₁₀) = ( 0.99021367187499987, 0.99347578124999991 )\n",
       "\n"
      ]
     },
     "metadata": {},
     "output_type": "display_data"
    },
    {
     "name": "stderr",
     "output_type": "stream",
     "text": [
      "\u001b[36m\u001b[1m[ \u001b[22m\u001b[39m\u001b[36m\u001b[1mInfo: \u001b[22m\u001b[39mTargeting ϕ=0.9902136718749999\n",
      "\u001b[32mProgress: 100%|█████████████████████████████████████████| Time: 0:03:06\u001b[39m\n",
      "\u001b[36m\u001b[1m[ \u001b[22m\u001b[39m\u001b[36m\u001b[1mInfo: \u001b[22m\u001b[39mϕ=1, PSIS\n",
      "\u001b[36m\u001b[1m[ \u001b[22m\u001b[39m\u001b[36m\u001b[1mInfo: \u001b[22m\u001b[39mLeaving g=15 out\n"
     ]
    },
    {
     "data": {
      "text/plain": [
       "Results of univariate zero finding:\n",
       "\n",
       "* Converged to: 0.6118089843749998\n",
       "* Algorithm: Bisection()\n",
       "* iterations: 10\n",
       "* function evaluations ≈ 13\n",
       "\n",
       "Trace:\n",
       "(a₀, b₀) = ( 0.010306249999999999, 1 )\n",
       "(a₁, b₁) = ( 0.103725, 1 )\n",
       "(a₂, b₂) = ( 0.33244999999999997, 1 )\n",
       "(a₃, b₃) = ( 0.58244999999999991, 1 )\n",
       "(a₄, b₄) = ( 0.58244999999999991, 0.79122499999999996 )\n",
       "(a₅, b₅) = ( 0.58244999999999991, 0.68683749999999988 )\n",
       "(a₆, b₆) = ( 0.58244999999999991, 0.63464374999999984 )\n",
       "(a₇, b₇) = ( 0.60854687499999982, 0.63464374999999984 )\n",
       "(a₈, b₈) = ( 0.60854687499999982, 0.62159531249999977 )\n",
       "(a₉, b₉) = ( 0.60854687499999982, 0.6150710937499998 )\n",
       "(a₁₀, b₁₀) = ( 0.61180898437499975, 0.6150710937499998 )\n",
       "\n"
      ]
     },
     "metadata": {},
     "output_type": "display_data"
    },
    {
     "name": "stderr",
     "output_type": "stream",
     "text": [
      "\u001b[36m\u001b[1m[ \u001b[22m\u001b[39m\u001b[36m\u001b[1mInfo: \u001b[22m\u001b[39mTargeting ϕ=0.6118089843749998\n",
      "\u001b[32mProgress: 100%|█████████████████████████████████████████| Time: 0:03:12\u001b[39m\n"
     ]
    },
    {
     "data": {
      "text/plain": [
       "Results of univariate zero finding:\n",
       "\n",
       "* Converged to: 0.9850296922683714\n",
       "* Algorithm: Bisection()\n",
       "* iterations: 10\n",
       "* function evaluations ≈ 13\n",
       "\n",
       "Trace:\n",
       "(a₀, b₀) = ( 0.80595449218749982, 1 )\n",
       "(a₁, b₁) = ( 0.90297724609374985, 1 )\n",
       "(a₂, b₂) = ( 0.95148862304687487, 1 )\n",
       "(a₃, b₃) = ( 0.97574431152343744, 1 )\n",
       "(a₄, b₄) = ( 0.97574431152343744, 0.98787215576171872 )\n",
       "(a₅, b₅) = ( 0.98180823364257808, 0.98787215576171872 )\n",
       "(a₆, b₆) = ( 0.98484019470214834, 0.98787215576171872 )\n",
       "(a₇, b₇) = ( 0.98484019470214834, 0.98635617523193353 )\n",
       "(a₈, b₈) = ( 0.98484019470214834, 0.98559818496704088 )\n",
       "(a₉, b₉) = ( 0.98484019470214834, 0.98521918983459456 )\n",
       "(a₁₀, b₁₀) = ( 0.98502969226837145, 0.98521918983459456 )\n",
       "\n"
      ]
     },
     "metadata": {},
     "output_type": "display_data"
    },
    {
     "name": "stderr",
     "output_type": "stream",
     "text": [
      "\u001b[36m\u001b[1m[ \u001b[22m\u001b[39m\u001b[36m\u001b[1mInfo: \u001b[22m\u001b[39mTargeting ϕ=0.9850296922683714\n",
      "\u001b[32mProgress: 100%|█████████████████████████████████████████| Time: 0:03:11\u001b[39m\n",
      "\u001b[36m\u001b[1m[ \u001b[22m\u001b[39m\u001b[36m\u001b[1mInfo: \u001b[22m\u001b[39mϕ=1, PSIS\n",
      "\u001b[36m\u001b[1m[ \u001b[22m\u001b[39m\u001b[36m\u001b[1mInfo: \u001b[22m\u001b[39mLeaving g=16 out\n",
      "\u001b[36m\u001b[1m[ \u001b[22m\u001b[39m\u001b[36m\u001b[1mInfo: \u001b[22m\u001b[39mϕ=1, PSIS\n",
      "\u001b[36m\u001b[1m[ \u001b[22m\u001b[39m\u001b[36m\u001b[1mInfo: \u001b[22m\u001b[39mLeaving g=17 out\n"
     ]
    },
    {
     "data": {
      "text/plain": [
       "Results of univariate zero finding:\n",
       "\n",
       "* Converged to: 0.6574785156249998\n",
       "* Algorithm: Bisection()\n",
       "* iterations: 10\n",
       "* function evaluations ≈ 13\n",
       "\n",
       "Trace:\n",
       "(a₀, b₀) = ( 0.010306249999999999, 1 )\n",
       "(a₁, b₁) = ( 0.103725, 1 )\n",
       "(a₂, b₂) = ( 0.33244999999999997, 1 )\n",
       "(a₃, b₃) = ( 0.58244999999999991, 1 )\n",
       "(a₄, b₄) = ( 0.58244999999999991, 0.79122499999999996 )\n",
       "(a₅, b₅) = ( 0.58244999999999991, 0.68683749999999988 )\n",
       "(a₆, b₆) = ( 0.63464374999999984, 0.68683749999999988 )\n",
       "(a₇, b₇) = ( 0.63464374999999984, 0.66074062499999986 )\n",
       "(a₈, b₈) = ( 0.64769218749999979, 0.66074062499999986 )\n",
       "(a₉, b₉) = ( 0.65421640624999977, 0.66074062499999986 )\n",
       "(a₁₀, b₁₀) = ( 0.65747851562499982, 0.66074062499999986 )\n",
       "\n"
      ]
     },
     "metadata": {},
     "output_type": "display_data"
    },
    {
     "name": "stderr",
     "output_type": "stream",
     "text": [
      "\u001b[36m\u001b[1m[ \u001b[22m\u001b[39m\u001b[36m\u001b[1mInfo: \u001b[22m\u001b[39mTargeting ϕ=0.6574785156249998\n",
      "\u001b[32mProgress: 100%|█████████████████████████████████████████| Time: 0:03:12\u001b[39m\n",
      "\u001b[36m\u001b[1m[ \u001b[22m\u001b[39m\u001b[36m\u001b[1mInfo: \u001b[22m\u001b[39mϕ=1, PSIS\n",
      "\u001b[36m\u001b[1m[ \u001b[22m\u001b[39m\u001b[36m\u001b[1mInfo: \u001b[22m\u001b[39mLeaving g=18 out\n"
     ]
    },
    {
     "data": {
      "text/plain": [
       "Results of univariate zero finding:\n",
       "\n",
       "* Converged to: 0.5824499999999999\n",
       "* Algorithm: Bisection()\n",
       "* iterations: 10\n",
       "* function evaluations ≈ 13\n",
       "\n",
       "Trace:\n",
       "(a₀, b₀) = ( 0.010306249999999999, 1 )\n",
       "(a₁, b₁) = ( 0.103725, 1 )\n",
       "(a₂, b₂) = ( 0.33244999999999997, 1 )\n",
       "(a₃, b₃) = ( 0.58244999999999991, 1 )\n",
       "(a₄, b₄) = ( 0.58244999999999991, 0.79122499999999996 )\n",
       "(a₅, b₅) = ( 0.58244999999999991, 0.68683749999999988 )\n",
       "(a₆, b₆) = ( 0.58244999999999991, 0.63464374999999984 )\n",
       "(a₇, b₇) = ( 0.58244999999999991, 0.60854687499999982 )\n",
       "(a₈, b₈) = ( 0.58244999999999991, 0.59549843749999987 )\n",
       "(a₉, b₉) = ( 0.58244999999999991, 0.58897421874999989 )\n",
       "(a₁₀, b₁₀) = ( 0.58244999999999991, 0.58571210937499985 )\n",
       "\n"
      ]
     },
     "metadata": {},
     "output_type": "display_data"
    },
    {
     "name": "stderr",
     "output_type": "stream",
     "text": [
      "\u001b[36m\u001b[1m[ \u001b[22m\u001b[39m\u001b[36m\u001b[1mInfo: \u001b[22m\u001b[39mTargeting ϕ=0.5824499999999999\n",
      "\u001b[32mProgress: 100%|█████████████████████████████████████████| Time: 0:03:12\u001b[39m\n"
     ]
    },
    {
     "data": {
      "text/plain": [
       "Results of univariate zero finding:\n",
       "\n",
       "* Converged to: 0.9914390136718749\n",
       "* Algorithm: Bisection()\n",
       "* iterations: 10\n",
       "* function evaluations ≈ 13\n",
       "\n",
       "Trace:\n",
       "(a₀, b₀) = ( 0.79127499999999995, 1 )\n",
       "(a₁, b₁) = ( 0.89563749999999998, 1 )\n",
       "(a₂, b₂) = ( 0.94781874999999993, 1 )\n",
       "(a₃, b₃) = ( 0.97390937499999997, 1 )\n",
       "(a₄, b₄) = ( 0.98695468749999993, 1 )\n",
       "(a₅, b₅) = ( 0.98695468749999993, 0.99347734374999996 )\n",
       "(a₆, b₆) = ( 0.99021601562499995, 0.99347734374999996 )\n",
       "(a₇, b₇) = ( 0.99021601562499995, 0.99184667968749995 )\n",
       "(a₈, b₈) = ( 0.99103134765624989, 0.99184667968749995 )\n",
       "(a₉, b₉) = ( 0.99143901367187492, 0.99184667968749995 )\n",
       "(a₁₀, b₁₀) = ( 0.99143901367187492, 0.99164284667968738 )\n",
       "\n"
      ]
     },
     "metadata": {},
     "output_type": "display_data"
    },
    {
     "name": "stderr",
     "output_type": "stream",
     "text": [
      "\u001b[36m\u001b[1m[ \u001b[22m\u001b[39m\u001b[36m\u001b[1mInfo: \u001b[22m\u001b[39mTargeting ϕ=0.9914390136718749\n",
      "\u001b[32mProgress: 100%|█████████████████████████████████████████| Time: 0:03:11\u001b[39m\n",
      "\u001b[36m\u001b[1m[ \u001b[22m\u001b[39m\u001b[36m\u001b[1mInfo: \u001b[22m\u001b[39mϕ=1, PSIS\n",
      "\u001b[36m\u001b[1m[ \u001b[22m\u001b[39m\u001b[36m\u001b[1mInfo: \u001b[22m\u001b[39mLeaving g=19 out\n",
      "\u001b[36m\u001b[1m[ \u001b[22m\u001b[39m\u001b[36m\u001b[1mInfo: \u001b[22m\u001b[39mϕ=1, PSIS\n",
      "\u001b[36m\u001b[1m[ \u001b[22m\u001b[39m\u001b[36m\u001b[1mInfo: \u001b[22m\u001b[39mLeaving g=20 out\n"
     ]
    },
    {
     "data": {
      "text/plain": [
       "Results of univariate zero finding:\n",
       "\n",
       "* Converged to: 0.7064101562499998\n",
       "* Algorithm: Bisection()\n",
       "* iterations: 10\n",
       "* function evaluations ≈ 13\n",
       "\n",
       "Trace:\n",
       "(a₀, b₀) = ( 0.010306249999999999, 1 )\n",
       "(a₁, b₁) = ( 0.103725, 1 )\n",
       "(a₂, b₂) = ( 0.33244999999999997, 1 )\n",
       "(a₃, b₃) = ( 0.58244999999999991, 1 )\n",
       "(a₄, b₄) = ( 0.58244999999999991, 0.79122499999999996 )\n",
       "(a₅, b₅) = ( 0.68683749999999988, 0.79122499999999996 )\n",
       "(a₆, b₆) = ( 0.68683749999999988, 0.73903124999999992 )\n",
       "(a₇, b₇) = ( 0.68683749999999988, 0.7129343749999999 )\n",
       "(a₈, b₈) = ( 0.69988593749999983, 0.7129343749999999 )\n",
       "(a₉, b₉) = ( 0.69988593749999983, 0.70641015624999981 )\n",
       "(a₁₀, b₁₀) = ( 0.70314804687499977, 0.70641015624999981 )\n",
       "\n"
      ]
     },
     "metadata": {},
     "output_type": "display_data"
    },
    {
     "name": "stderr",
     "output_type": "stream",
     "text": [
      "\u001b[36m\u001b[1m[ \u001b[22m\u001b[39m\u001b[36m\u001b[1mInfo: \u001b[22m\u001b[39mTargeting ϕ=0.7064101562499998\n",
      "\u001b[32mProgress: 100%|█████████████████████████████████████████| Time: 0:03:12\u001b[39m\n",
      "\u001b[36m\u001b[1m[ \u001b[22m\u001b[39m\u001b[36m\u001b[1mInfo: \u001b[22m\u001b[39mϕ=1, PSIS\n",
      "\u001b[36m\u001b[1m[ \u001b[22m\u001b[39m\u001b[36m\u001b[1mInfo: \u001b[22m\u001b[39mLeaving g=21 out\n",
      "\u001b[36m\u001b[1m[ \u001b[22m\u001b[39m\u001b[36m\u001b[1mInfo: \u001b[22m\u001b[39mϕ=1, PSIS\n",
      "\u001b[36m\u001b[1m[ \u001b[22m\u001b[39m\u001b[36m\u001b[1mInfo: \u001b[22m\u001b[39mLeaving g=22 out\n",
      "\u001b[36m\u001b[1m[ \u001b[22m\u001b[39m\u001b[36m\u001b[1mInfo: \u001b[22m\u001b[39mϕ=1, PSIS\n",
      "\u001b[36m\u001b[1m[ \u001b[22m\u001b[39m\u001b[36m\u001b[1mInfo: \u001b[22m\u001b[39mLeaving g=23 out\n"
     ]
    },
    {
     "data": {
      "text/plain": [
       "Results of univariate zero finding:\n",
       "\n",
       "* Converged to: 0.9641167968749998\n",
       "* Algorithm: Bisection()\n",
       "* iterations: 10\n",
       "* function evaluations ≈ 13\n",
       "\n",
       "Trace:\n",
       "(a₀, b₀) = ( 0.010306249999999999, 1 )\n",
       "(a₁, b₁) = ( 0.103725, 1 )\n",
       "(a₂, b₂) = ( 0.33244999999999997, 1 )\n",
       "(a₃, b₃) = ( 0.58244999999999991, 1 )\n",
       "(a₄, b₄) = ( 0.79122499999999996, 1 )\n",
       "(a₅, b₅) = ( 0.89561249999999992, 1 )\n",
       "(a₆, b₆) = ( 0.94780624999999996, 1 )\n",
       "(a₇, b₇) = ( 0.94780624999999996, 0.97390312499999998 )\n",
       "(a₈, b₈) = ( 0.96085468749999992, 0.97390312499999998 )\n",
       "(a₉, b₉) = ( 0.96085468749999992, 0.96737890624999989 )\n",
       "(a₁₀, b₁₀) = ( 0.96085468749999992, 0.96411679687499985 )\n",
       "\n"
      ]
     },
     "metadata": {},
     "output_type": "display_data"
    },
    {
     "name": "stderr",
     "output_type": "stream",
     "text": [
      "\u001b[36m\u001b[1m[ \u001b[22m\u001b[39m\u001b[36m\u001b[1mInfo: \u001b[22m\u001b[39mTargeting ϕ=0.9641167968749998\n",
      "\u001b[32mProgress: 100%|█████████████████████████████████████████| Time: 0:03:13\u001b[39m\n",
      "\u001b[36m\u001b[1m[ \u001b[22m\u001b[39m\u001b[36m\u001b[1mInfo: \u001b[22m\u001b[39mϕ=1, PSIS\n",
      "\u001b[36m\u001b[1m[ \u001b[22m\u001b[39m\u001b[36m\u001b[1mInfo: \u001b[22m\u001b[39mLeaving g=24 out\n"
     ]
    },
    {
     "data": {
      "text/plain": [
       "Results of univariate zero finding:\n",
       "\n",
       "* Converged to: 0.7390312499999999\n",
       "* Algorithm: Bisection()\n",
       "* iterations: 10\n",
       "* function evaluations ≈ 13\n",
       "\n",
       "Trace:\n",
       "(a₀, b₀) = ( 0.010306249999999999, 1 )\n",
       "(a₁, b₁) = ( 0.103725, 1 )\n",
       "(a₂, b₂) = ( 0.33244999999999997, 1 )\n",
       "(a₃, b₃) = ( 0.58244999999999991, 1 )\n",
       "(a₄, b₄) = ( 0.58244999999999991, 0.79122499999999996 )\n",
       "(a₅, b₅) = ( 0.68683749999999988, 0.79122499999999996 )\n",
       "(a₆, b₆) = ( 0.73903124999999992, 0.79122499999999996 )\n",
       "(a₇, b₇) = ( 0.73903124999999992, 0.76512812499999994 )\n",
       "(a₈, b₈) = ( 0.73903124999999992, 0.75207968749999987 )\n",
       "(a₉, b₉) = ( 0.73903124999999992, 0.74555546874999989 )\n",
       "(a₁₀, b₁₀) = ( 0.73903124999999992, 0.74229335937499985 )\n",
       "\n"
      ]
     },
     "metadata": {},
     "output_type": "display_data"
    },
    {
     "name": "stderr",
     "output_type": "stream",
     "text": [
      "\u001b[36m\u001b[1m[ \u001b[22m\u001b[39m\u001b[36m\u001b[1mInfo: \u001b[22m\u001b[39mTargeting ϕ=0.7390312499999999\n",
      "\u001b[32mProgress: 100%|█████████████████████████████████████████| Time: 0:03:12\u001b[39m\n",
      "\u001b[36m\u001b[1m[ \u001b[22m\u001b[39m\u001b[36m\u001b[1mInfo: \u001b[22m\u001b[39mϕ=1, PSIS\n",
      "\u001b[36m\u001b[1m[ \u001b[22m\u001b[39m\u001b[36m\u001b[1mInfo: \u001b[22m\u001b[39mLeaving g=25 out\n"
     ]
    },
    {
     "data": {
      "text/plain": [
       "Results of univariate zero finding:\n",
       "\n",
       "* Converged to: 0.8238460937499998\n",
       "* Algorithm: Bisection()\n",
       "* iterations: 10\n",
       "* function evaluations ≈ 13\n",
       "\n",
       "Trace:\n",
       "(a₀, b₀) = ( 0.010306249999999999, 1 )\n",
       "(a₁, b₁) = ( 0.103725, 1 )\n",
       "(a₂, b₂) = ( 0.33244999999999997, 1 )\n",
       "(a₃, b₃) = ( 0.58244999999999991, 1 )\n",
       "(a₄, b₄) = ( 0.79122499999999996, 1 )\n",
       "(a₅, b₅) = ( 0.79122499999999996, 0.89561249999999992 )\n",
       "(a₆, b₆) = ( 0.79122499999999996, 0.84341874999999988 )\n",
       "(a₇, b₇) = ( 0.81732187499999986, 0.84341874999999988 )\n",
       "(a₈, b₈) = ( 0.81732187499999986, 0.83037031249999982 )\n",
       "(a₉, b₉) = ( 0.81732187499999986, 0.82384609374999984 )\n",
       "(a₁₀, b₁₀) = ( 0.8205839843749998, 0.82384609374999984 )\n",
       "\n"
      ]
     },
     "metadata": {},
     "output_type": "display_data"
    },
    {
     "name": "stderr",
     "output_type": "stream",
     "text": [
      "\u001b[36m\u001b[1m[ \u001b[22m\u001b[39m\u001b[36m\u001b[1mInfo: \u001b[22m\u001b[39mTargeting ϕ=0.8238460937499998\n",
      "\u001b[32mProgress: 100%|█████████████████████████████████████████| Time: 0:03:15\u001b[39m\n",
      "\u001b[36m\u001b[1m[ \u001b[22m\u001b[39m\u001b[36m\u001b[1mInfo: \u001b[22m\u001b[39mϕ=1, PSIS\n",
      "\u001b[36m\u001b[1m[ \u001b[22m\u001b[39m\u001b[36m\u001b[1mInfo: \u001b[22m\u001b[39mLeaving g=26 out\n",
      "\u001b[36m\u001b[1m[ \u001b[22m\u001b[39m\u001b[36m\u001b[1mInfo: \u001b[22m\u001b[39mϕ=1, PSIS\n",
      "\u001b[36m\u001b[1m[ \u001b[22m\u001b[39m\u001b[36m\u001b[1mInfo: \u001b[22m\u001b[39mLeaving g=27 out\n",
      "\u001b[36m\u001b[1m[ \u001b[22m\u001b[39m\u001b[36m\u001b[1mInfo: \u001b[22m\u001b[39mϕ=1, PSIS\n",
      "\u001b[36m\u001b[1m[ \u001b[22m\u001b[39m\u001b[36m\u001b[1mInfo: \u001b[22m\u001b[39mLeaving g=28 out\n"
     ]
    },
    {
     "data": {
      "text/plain": [
       "Results of univariate zero finding:\n",
       "\n",
       "* Converged to: 0.8629914062499998\n",
       "* Algorithm: Bisection()\n",
       "* iterations: 10\n",
       "* function evaluations ≈ 13\n",
       "\n",
       "Trace:\n",
       "(a₀, b₀) = ( 0.010306249999999999, 1 )\n",
       "(a₁, b₁) = ( 0.103725, 1 )\n",
       "(a₂, b₂) = ( 0.33244999999999997, 1 )\n",
       "(a₃, b₃) = ( 0.58244999999999991, 1 )\n",
       "(a₄, b₄) = ( 0.79122499999999996, 1 )\n",
       "(a₅, b₅) = ( 0.79122499999999996, 0.89561249999999992 )\n",
       "(a₆, b₆) = ( 0.84341874999999988, 0.89561249999999992 )\n",
       "(a₇, b₇) = ( 0.84341874999999988, 0.8695156249999999 )\n",
       "(a₈, b₈) = ( 0.85646718749999984, 0.8695156249999999 )\n",
       "(a₉, b₉) = ( 0.86299140624999982, 0.8695156249999999 )\n",
       "(a₁₀, b₁₀) = ( 0.86299140624999982, 0.86625351562499986 )\n",
       "\n"
      ]
     },
     "metadata": {},
     "output_type": "display_data"
    },
    {
     "name": "stderr",
     "output_type": "stream",
     "text": [
      "\u001b[36m\u001b[1m[ \u001b[22m\u001b[39m\u001b[36m\u001b[1mInfo: \u001b[22m\u001b[39mTargeting ϕ=0.8629914062499998\n",
      "\u001b[32mProgress: 100%|█████████████████████████████████████████| Time: 0:03:09\u001b[39m\n",
      "\u001b[36m\u001b[1m[ \u001b[22m\u001b[39m\u001b[36m\u001b[1mInfo: \u001b[22m\u001b[39mϕ=1, PSIS\n",
      "\u001b[36m\u001b[1m[ \u001b[22m\u001b[39m\u001b[36m\u001b[1mInfo: \u001b[22m\u001b[39mLeaving g=29 out\n",
      "\u001b[36m\u001b[1m[ \u001b[22m\u001b[39m\u001b[36m\u001b[1mInfo: \u001b[22m\u001b[39mϕ=1, PSIS\n",
      "\u001b[36m\u001b[1m[ \u001b[22m\u001b[39m\u001b[36m\u001b[1mInfo: \u001b[22m\u001b[39mLeaving g=30 out\n",
      "\u001b[36m\u001b[1m[ \u001b[22m\u001b[39m\u001b[36m\u001b[1mInfo: \u001b[22m\u001b[39mϕ=1, PSIS\n",
      "\u001b[36m\u001b[1m[ \u001b[22m\u001b[39m\u001b[36m\u001b[1mInfo: \u001b[22m\u001b[39mLeaving g=31 out\n"
     ]
    },
    {
     "data": {
      "text/plain": [
       "Results of univariate zero finding:\n",
       "\n",
       "* Converged to: 0.4955554687499999\n",
       "* Algorithm: Bisection()\n",
       "* iterations: 10\n",
       "* function evaluations ≈ 13\n",
       "\n",
       "Trace:\n",
       "(a₀, b₀) = ( 0.010306249999999999, 1 )\n",
       "(a₁, b₁) = ( 0.103725, 1 )\n",
       "(a₂, b₂) = ( 0.33244999999999997, 1 )\n",
       "(a₃, b₃) = ( 0.33244999999999997, 0.58244999999999991 )\n",
       "(a₄, b₄) = ( 0.43683749999999993, 0.58244999999999991 )\n",
       "(a₅, b₅) = ( 0.48903124999999992, 0.58244999999999991 )\n",
       "(a₆, b₆) = ( 0.48903124999999992, 0.53025624999999987 )\n",
       "(a₇, b₇) = ( 0.48903124999999992, 0.50415937499999985 )\n",
       "(a₈, b₈) = ( 0.48903124999999992, 0.49555546874999989 )\n",
       "(a₉, b₉) = ( 0.49229335937499991, 0.49555546874999989 )\n",
       "(a₁₀, b₁₀) = ( 0.49392441406249987, 0.49555546874999989 )\n",
       "\n"
      ]
     },
     "metadata": {},
     "output_type": "display_data"
    },
    {
     "name": "stderr",
     "output_type": "stream",
     "text": [
      "\u001b[36m\u001b[1m[ \u001b[22m\u001b[39m\u001b[36m\u001b[1mInfo: \u001b[22m\u001b[39mTargeting ϕ=0.4955554687499999\n",
      "\u001b[32mProgress: 100%|█████████████████████████████████████████| Time: 0:03:12\u001b[39m\n"
     ]
    },
    {
     "data": {
      "text/plain": [
       "Results of univariate zero finding:\n",
       "\n",
       "* Converged to: 0.8902145675659179\n",
       "* Algorithm: Bisection()\n",
       "* iterations: 10\n",
       "* function evaluations ≈ 13\n",
       "\n",
       "Trace:\n",
       "(a₀, b₀) = ( 0.74565546874999988, 1 )\n",
       "(a₁, b₁) = ( 0.87282773437499994, 1 )\n",
       "(a₂, b₂) = ( 0.87282773437499994, 0.93641386718749997 )\n",
       "(a₃, b₃) = ( 0.87282773437499994, 0.90462080078124996 )\n",
       "(a₄, b₄) = ( 0.88872426757812495, 0.90462080078124996 )\n",
       "(a₅, b₅) = ( 0.88872426757812495, 0.8966725341796874 )\n",
       "(a₆, b₆) = ( 0.88872426757812495, 0.89269840087890617 )\n",
       "(a₇, b₇) = ( 0.88872426757812495, 0.89071133422851556 )\n",
       "(a₈, b₈) = ( 0.8897178009033202, 0.89071133422851556 )\n",
       "(a₉, b₉) = ( 0.89021456756591788, 0.89071133422851556 )\n",
       "(a₁₀, b₁₀) = ( 0.89021456756591788, 0.89046295089721672 )\n",
       "\n"
      ]
     },
     "metadata": {},
     "output_type": "display_data"
    },
    {
     "name": "stderr",
     "output_type": "stream",
     "text": [
      "\u001b[36m\u001b[1m[ \u001b[22m\u001b[39m\u001b[36m\u001b[1mInfo: \u001b[22m\u001b[39mTargeting ϕ=0.8902145675659179\n",
      "\u001b[32mProgress: 100%|█████████████████████████████████████████| Time: 0:03:11\u001b[39m\n",
      "\u001b[36m\u001b[1m[ \u001b[22m\u001b[39m\u001b[36m\u001b[1mInfo: \u001b[22m\u001b[39mϕ=1, PSIS\n",
      "\u001b[36m\u001b[1m[ \u001b[22m\u001b[39m\u001b[36m\u001b[1mInfo: \u001b[22m\u001b[39mLeaving g=32 out\n",
      "\u001b[36m\u001b[1m[ \u001b[22m\u001b[39m\u001b[36m\u001b[1mInfo: \u001b[22m\u001b[39mϕ=1, PSIS\n",
      "\u001b[36m\u001b[1m[ \u001b[22m\u001b[39m\u001b[36m\u001b[1mInfo: \u001b[22m\u001b[39mLeaving g=33 out\n"
     ]
    },
    {
     "data": {
      "text/plain": [
       "Results of univariate zero finding:\n",
       "\n",
       "* Converged to: 0.8075355468749998\n",
       "* Algorithm: Bisection()\n",
       "* iterations: 10\n",
       "* function evaluations ≈ 13\n",
       "\n",
       "Trace:\n",
       "(a₀, b₀) = ( 0.010306249999999999, 1 )\n",
       "(a₁, b₁) = ( 0.103725, 1 )\n",
       "(a₂, b₂) = ( 0.33244999999999997, 1 )\n",
       "(a₃, b₃) = ( 0.58244999999999991, 1 )\n",
       "(a₄, b₄) = ( 0.79122499999999996, 1 )\n",
       "(a₅, b₅) = ( 0.79122499999999996, 0.89561249999999992 )\n",
       "(a₆, b₆) = ( 0.79122499999999996, 0.84341874999999988 )\n",
       "(a₇, b₇) = ( 0.79122499999999996, 0.81732187499999986 )\n",
       "(a₈, b₈) = ( 0.80427343749999991, 0.81732187499999986 )\n",
       "(a₉, b₉) = ( 0.80427343749999991, 0.81079765624999989 )\n",
       "(a₁₀, b₁₀) = ( 0.80753554687499984, 0.81079765624999989 )\n",
       "\n"
      ]
     },
     "metadata": {},
     "output_type": "display_data"
    },
    {
     "name": "stderr",
     "output_type": "stream",
     "text": [
      "\u001b[36m\u001b[1m[ \u001b[22m\u001b[39m\u001b[36m\u001b[1mInfo: \u001b[22m\u001b[39mTargeting ϕ=0.8075355468749998\n",
      "\u001b[32mProgress: 100%|█████████████████████████████████████████| Time: 0:03:11\u001b[39m\n",
      "\u001b[36m\u001b[1m[ \u001b[22m\u001b[39m\u001b[36m\u001b[1mInfo: \u001b[22m\u001b[39mϕ=1, PSIS\n",
      "\u001b[36m\u001b[1m[ \u001b[22m\u001b[39m\u001b[36m\u001b[1mInfo: \u001b[22m\u001b[39mLeaving g=34 out\n",
      "\u001b[36m\u001b[1m[ \u001b[22m\u001b[39m\u001b[36m\u001b[1mInfo: \u001b[22m\u001b[39mϕ=1, PSIS\n",
      "\u001b[36m\u001b[1m[ \u001b[22m\u001b[39m\u001b[36m\u001b[1mInfo: \u001b[22m\u001b[39mLeaving g=35 out\n",
      "\u001b[36m\u001b[1m[ \u001b[22m\u001b[39m\u001b[36m\u001b[1mInfo: \u001b[22m\u001b[39mϕ=1, PSIS\n",
      "\u001b[36m\u001b[1m[ \u001b[22m\u001b[39m\u001b[36m\u001b[1mInfo: \u001b[22m\u001b[39mLeaving g=36 out\n"
     ]
    },
    {
     "data": {
      "text/plain": [
       "Results of univariate zero finding:\n",
       "\n",
       "* Converged to: 0.6248574218749997\n",
       "* Algorithm: Bisection()\n",
       "* iterations: 10\n",
       "* function evaluations ≈ 13\n",
       "\n",
       "Trace:\n",
       "(a₀, b₀) = ( 0.010306249999999999, 1 )\n",
       "(a₁, b₁) = ( 0.103725, 1 )\n",
       "(a₂, b₂) = ( 0.33244999999999997, 1 )\n",
       "(a₃, b₃) = ( 0.58244999999999991, 1 )\n",
       "(a₄, b₄) = ( 0.58244999999999991, 0.79122499999999996 )\n",
       "(a₅, b₅) = ( 0.58244999999999991, 0.68683749999999988 )\n",
       "(a₆, b₆) = ( 0.58244999999999991, 0.63464374999999984 )\n",
       "(a₇, b₇) = ( 0.60854687499999982, 0.63464374999999984 )\n",
       "(a₈, b₈) = ( 0.62159531249999977, 0.63464374999999984 )\n",
       "(a₉, b₉) = ( 0.62159531249999977, 0.62811953124999975 )\n",
       "(a₁₀, b₁₀) = ( 0.62159531249999977, 0.62485742187499971 )\n",
       "\n"
      ]
     },
     "metadata": {},
     "output_type": "display_data"
    },
    {
     "name": "stderr",
     "output_type": "stream",
     "text": [
      "\u001b[36m\u001b[1m[ \u001b[22m\u001b[39m\u001b[36m\u001b[1mInfo: \u001b[22m\u001b[39mTargeting ϕ=0.6248574218749997\n",
      "\u001b[32mProgress: 100%|█████████████████████████████████████████| Time: 0:03:16\u001b[39m\n",
      "\u001b[36m\u001b[1m[ \u001b[22m\u001b[39m\u001b[36m\u001b[1mInfo: \u001b[22m\u001b[39mϕ=1, PSIS\n",
      "\u001b[36m\u001b[1m[ \u001b[22m\u001b[39m\u001b[36m\u001b[1mInfo: \u001b[22m\u001b[39mLeaving g=37 out\n",
      "\u001b[36m\u001b[1m[ \u001b[22m\u001b[39m\u001b[36m\u001b[1mInfo: \u001b[22m\u001b[39mϕ=1, PSIS\n",
      "\u001b[36m\u001b[1m[ \u001b[22m\u001b[39m\u001b[36m\u001b[1mInfo: \u001b[22m\u001b[39mLeaving g=38 out\n",
      "\u001b[36m\u001b[1m[ \u001b[22m\u001b[39m\u001b[36m\u001b[1mInfo: \u001b[22m\u001b[39mϕ=1, PSIS\n",
      "\u001b[36m\u001b[1m[ \u001b[22m\u001b[39m\u001b[36m\u001b[1mInfo: \u001b[22m\u001b[39mLeaving g=39 out\n"
     ]
    },
    {
     "data": {
      "text/plain": [
       "Results of univariate zero finding:\n",
       "\n",
       "* Converged to: 0.6607406249999999\n",
       "* Algorithm: Bisection()\n",
       "* iterations: 10\n",
       "* function evaluations ≈ 13\n",
       "\n",
       "Trace:\n",
       "(a₀, b₀) = ( 0.010306249999999999, 1 )\n",
       "(a₁, b₁) = ( 0.103725, 1 )\n",
       "(a₂, b₂) = ( 0.33244999999999997, 1 )\n",
       "(a₃, b₃) = ( 0.58244999999999991, 1 )\n",
       "(a₄, b₄) = ( 0.58244999999999991, 0.79122499999999996 )\n",
       "(a₅, b₅) = ( 0.58244999999999991, 0.68683749999999988 )\n",
       "(a₆, b₆) = ( 0.63464374999999984, 0.68683749999999988 )\n",
       "(a₇, b₇) = ( 0.63464374999999984, 0.66074062499999986 )\n",
       "(a₈, b₈) = ( 0.64769218749999979, 0.66074062499999986 )\n",
       "(a₉, b₉) = ( 0.65421640624999977, 0.66074062499999986 )\n",
       "(a₁₀, b₁₀) = ( 0.65747851562499982, 0.66074062499999986 )\n",
       "\n"
      ]
     },
     "metadata": {},
     "output_type": "display_data"
    },
    {
     "name": "stderr",
     "output_type": "stream",
     "text": [
      "\u001b[36m\u001b[1m[ \u001b[22m\u001b[39m\u001b[36m\u001b[1mInfo: \u001b[22m\u001b[39mTargeting ϕ=0.6607406249999999\n",
      "\u001b[32mProgress: 100%|█████████████████████████████████████████| Time: 0:03:14\u001b[39m\n",
      "\u001b[36m\u001b[1m[ \u001b[22m\u001b[39m\u001b[36m\u001b[1mInfo: \u001b[22m\u001b[39mϕ=1, PSIS\n",
      "\u001b[36m\u001b[1m[ \u001b[22m\u001b[39m\u001b[36m\u001b[1mInfo: \u001b[22m\u001b[39mLeaving g=40 out\n"
     ]
    },
    {
     "data": {
      "text/plain": [
       "Results of univariate zero finding:\n",
       "\n",
       "* Converged to: 0.7814386718749998\n",
       "* Algorithm: Bisection()\n",
       "* iterations: 10\n",
       "* function evaluations ≈ 13\n",
       "\n",
       "Trace:\n",
       "(a₀, b₀) = ( 0.010306249999999999, 1 )\n",
       "(a₁, b₁) = ( 0.103725, 1 )\n",
       "(a₂, b₂) = ( 0.33244999999999997, 1 )\n",
       "(a₃, b₃) = ( 0.58244999999999991, 1 )\n",
       "(a₄, b₄) = ( 0.58244999999999991, 0.79122499999999996 )\n",
       "(a₅, b₅) = ( 0.68683749999999988, 0.79122499999999996 )\n",
       "(a₆, b₆) = ( 0.73903124999999992, 0.79122499999999996 )\n",
       "(a₇, b₇) = ( 0.76512812499999994, 0.79122499999999996 )\n",
       "(a₈, b₈) = ( 0.77817656249999989, 0.79122499999999996 )\n",
       "(a₉, b₉) = ( 0.77817656249999989, 0.78470078124999987 )\n",
       "(a₁₀, b₁₀) = ( 0.77817656249999989, 0.78143867187499982 )\n",
       "\n"
      ]
     },
     "metadata": {},
     "output_type": "display_data"
    },
    {
     "name": "stderr",
     "output_type": "stream",
     "text": [
      "\u001b[36m\u001b[1m[ \u001b[22m\u001b[39m\u001b[36m\u001b[1mInfo: \u001b[22m\u001b[39mTargeting ϕ=0.7814386718749998\n",
      "\u001b[32mProgress: 100%|█████████████████████████████████████████| Time: 0:03:12\u001b[39m\n",
      "\u001b[36m\u001b[1m[ \u001b[22m\u001b[39m\u001b[36m\u001b[1mInfo: \u001b[22m\u001b[39mϕ=1, PSIS\n",
      "\u001b[36m\u001b[1m[ \u001b[22m\u001b[39m\u001b[36m\u001b[1mInfo: \u001b[22m\u001b[39mLeaving g=41 out\n"
     ]
    },
    {
     "data": {
      "text/plain": [
       "Results of univariate zero finding:\n",
       "\n",
       "* Converged to: 0.6150710937499998\n",
       "* Algorithm: Bisection()\n",
       "* iterations: 10\n",
       "* function evaluations ≈ 13\n",
       "\n",
       "Trace:\n",
       "(a₀, b₀) = ( 0.010306249999999999, 1 )\n",
       "(a₁, b₁) = ( 0.103725, 1 )\n",
       "(a₂, b₂) = ( 0.33244999999999997, 1 )\n",
       "(a₃, b₃) = ( 0.58244999999999991, 1 )\n",
       "(a₄, b₄) = ( 0.58244999999999991, 0.79122499999999996 )\n",
       "(a₅, b₅) = ( 0.58244999999999991, 0.68683749999999988 )\n",
       "(a₆, b₆) = ( 0.58244999999999991, 0.63464374999999984 )\n",
       "(a₇, b₇) = ( 0.60854687499999982, 0.63464374999999984 )\n",
       "(a₈, b₈) = ( 0.60854687499999982, 0.62159531249999977 )\n",
       "(a₉, b₉) = ( 0.6150710937499998, 0.62159531249999977 )\n",
       "(a₁₀, b₁₀) = ( 0.6150710937499998, 0.61833320312499973 )\n",
       "\n"
      ]
     },
     "metadata": {},
     "output_type": "display_data"
    },
    {
     "name": "stderr",
     "output_type": "stream",
     "text": [
      "\u001b[36m\u001b[1m[ \u001b[22m\u001b[39m\u001b[36m\u001b[1mInfo: \u001b[22m\u001b[39mTargeting ϕ=0.6150710937499998\n",
      "\u001b[32mProgress: 100%|█████████████████████████████████████████| Time: 0:03:11\u001b[39m\n",
      "\u001b[36m\u001b[1m[ \u001b[22m\u001b[39m\u001b[36m\u001b[1mInfo: \u001b[22m\u001b[39mϕ=1, PSIS\n",
      "\u001b[36m\u001b[1m[ \u001b[22m\u001b[39m\u001b[36m\u001b[1mInfo: \u001b[22m\u001b[39mLeaving g=42 out\n",
      "\u001b[36m\u001b[1m[ \u001b[22m\u001b[39m\u001b[36m\u001b[1mInfo: \u001b[22m\u001b[39mϕ=1, PSIS\n",
      "\u001b[36m\u001b[1m[ \u001b[22m\u001b[39m\u001b[36m\u001b[1mInfo: \u001b[22m\u001b[39mLeaving g=43 out\n",
      "\u001b[36m\u001b[1m[ \u001b[22m\u001b[39m\u001b[36m\u001b[1mInfo: \u001b[22m\u001b[39mϕ=1, PSIS\n",
      "\u001b[36m\u001b[1m[ \u001b[22m\u001b[39m\u001b[36m\u001b[1mInfo: \u001b[22m\u001b[39mLeaving g=44 out\n",
      "\u001b[36m\u001b[1m[ \u001b[22m\u001b[39m\u001b[36m\u001b[1mInfo: \u001b[22m\u001b[39mϕ=1, PSIS\n",
      "\u001b[36m\u001b[1m[ \u001b[22m\u001b[39m\u001b[36m\u001b[1mInfo: \u001b[22m\u001b[39mLeaving g=45 out\n",
      "\u001b[36m\u001b[1m[ \u001b[22m\u001b[39m\u001b[36m\u001b[1mInfo: \u001b[22m\u001b[39mϕ=1, PSIS\n",
      "\u001b[36m\u001b[1m[ \u001b[22m\u001b[39m\u001b[36m\u001b[1mInfo: \u001b[22m\u001b[39mLeaving g=46 out\n",
      "\u001b[36m\u001b[1m[ \u001b[22m\u001b[39m\u001b[36m\u001b[1mInfo: \u001b[22m\u001b[39mϕ=1, PSIS\n",
      "\u001b[36m\u001b[1m[ \u001b[22m\u001b[39m\u001b[36m\u001b[1mInfo: \u001b[22m\u001b[39mLeaving g=47 out\n"
     ]
    },
    {
     "data": {
      "text/plain": [
       "Results of univariate zero finding:\n",
       "\n",
       "* Converged to: 0.4661964843749999\n",
       "* Algorithm: Bisection()\n",
       "* iterations: 10\n",
       "* function evaluations ≈ 13\n",
       "\n",
       "Trace:\n",
       "(a₀, b₀) = ( 0.010306249999999999, 1 )\n",
       "(a₁, b₁) = ( 0.103725, 1 )\n",
       "(a₂, b₂) = ( 0.33244999999999997, 1 )\n",
       "(a₃, b₃) = ( 0.33244999999999997, 0.58244999999999991 )\n",
       "(a₄, b₄) = ( 0.43683749999999993, 0.58244999999999991 )\n",
       "(a₅, b₅) = ( 0.43683749999999993, 0.48903124999999992 )\n",
       "(a₆, b₆) = ( 0.4629343749999999, 0.48903124999999992 )\n",
       "(a₇, b₇) = ( 0.4629343749999999, 0.47598281249999991 )\n",
       "(a₈, b₈) = ( 0.4629343749999999, 0.46945859374999988 )\n",
       "(a₉, b₉) = ( 0.4629343749999999, 0.46619648437499989 )\n",
       "(a₁₀, b₁₀) = ( 0.46456542968749986, 0.46619648437499989 )\n",
       "\n"
      ]
     },
     "metadata": {},
     "output_type": "display_data"
    },
    {
     "name": "stderr",
     "output_type": "stream",
     "text": [
      "\u001b[36m\u001b[1m[ \u001b[22m\u001b[39m\u001b[36m\u001b[1mInfo: \u001b[22m\u001b[39mTargeting ϕ=0.4661964843749999\n",
      "\u001b[32mProgress: 100%|█████████████████████████████████████████| Time: 0:03:12\u001b[39m\n"
     ]
    },
    {
     "data": {
      "text/plain": [
       "Results of univariate zero finding:\n",
       "\n",
       "* Converged to: 0.8611958385467527\n",
       "* Algorithm: Bisection()\n",
       "* iterations: 10\n",
       "* function evaluations ≈ 13\n",
       "\n",
       "Trace:\n",
       "(a₀, b₀) = ( 0.71629648437499982, 1 )\n",
       "(a₁, b₁) = ( 0.85814824218749985, 1 )\n",
       "(a₂, b₂) = ( 0.85814824218749985, 0.92907412109374987 )\n",
       "(a₃, b₃) = ( 0.85814824218749985, 0.89361118164062481 )\n",
       "(a₄, b₄) = ( 0.85814824218749985, 0.87587971191406233 )\n",
       "(a₅, b₅) = ( 0.85814824218749985, 0.86701397705078109 )\n",
       "(a₆, b₆) = ( 0.85814824218749985, 0.86258110961914047 )\n",
       "(a₇, b₇) = ( 0.86036467590332011, 0.86258110961914047 )\n",
       "(a₈, b₈) = ( 0.86036467590332011, 0.86147289276123029 )\n",
       "(a₉, b₉) = ( 0.8609187843322752, 0.86147289276123029 )\n",
       "(a₁₀, b₁₀) = ( 0.86119583854675275, 0.86147289276123029 )\n",
       "\n"
      ]
     },
     "metadata": {},
     "output_type": "display_data"
    },
    {
     "name": "stderr",
     "output_type": "stream",
     "text": [
      "\u001b[36m\u001b[1m[ \u001b[22m\u001b[39m\u001b[36m\u001b[1mInfo: \u001b[22m\u001b[39mTargeting ϕ=0.8611958385467527\n",
      "\u001b[32mProgress: 100%|█████████████████████████████████████████| Time: 0:03:08\u001b[39m\n",
      "\u001b[36m\u001b[1m[ \u001b[22m\u001b[39m\u001b[36m\u001b[1mInfo: \u001b[22m\u001b[39mϕ=1, PSIS\n",
      "\u001b[36m\u001b[1m[ \u001b[22m\u001b[39m\u001b[36m\u001b[1mInfo: \u001b[22m\u001b[39mLeaving g=48 out\n",
      "\u001b[36m\u001b[1m[ \u001b[22m\u001b[39m\u001b[36m\u001b[1mInfo: \u001b[22m\u001b[39mϕ=1, PSIS\n",
      "\u001b[36m\u001b[1m[ \u001b[22m\u001b[39m\u001b[36m\u001b[1mInfo: \u001b[22m\u001b[39mLeaving g=49 out\n"
     ]
    },
    {
     "data": {
      "text/plain": [
       "Results of univariate zero finding:\n",
       "\n",
       "* Converged to: 0.9249714843749999\n",
       "* Algorithm: Bisection()\n",
       "* iterations: 10\n",
       "* function evaluations ≈ 13\n",
       "\n",
       "Trace:\n",
       "(a₀, b₀) = ( 0.010306249999999999, 1 )\n",
       "(a₁, b₁) = ( 0.103725, 1 )\n",
       "(a₂, b₂) = ( 0.33244999999999997, 1 )\n",
       "(a₃, b₃) = ( 0.58244999999999991, 1 )\n",
       "(a₄, b₄) = ( 0.79122499999999996, 1 )\n",
       "(a₅, b₅) = ( 0.89561249999999992, 1 )\n",
       "(a₆, b₆) = ( 0.89561249999999992, 0.94780624999999996 )\n",
       "(a₇, b₇) = ( 0.92170937499999994, 0.94780624999999996 )\n",
       "(a₈, b₈) = ( 0.92170937499999994, 0.9347578124999999 )\n",
       "(a₉, b₉) = ( 0.92170937499999994, 0.92823359374999992 )\n",
       "(a₁₀, b₁₀) = ( 0.92170937499999994, 0.92497148437499987 )\n",
       "\n"
      ]
     },
     "metadata": {},
     "output_type": "display_data"
    },
    {
     "name": "stderr",
     "output_type": "stream",
     "text": [
      "\u001b[36m\u001b[1m[ \u001b[22m\u001b[39m\u001b[36m\u001b[1mInfo: \u001b[22m\u001b[39mTargeting ϕ=0.9249714843749999\n",
      "\u001b[32mProgress: 100%|█████████████████████████████████████████| Time: 0:03:11\u001b[39m\n",
      "\u001b[36m\u001b[1m[ \u001b[22m\u001b[39m\u001b[36m\u001b[1mInfo: \u001b[22m\u001b[39mϕ=1, PSIS\n",
      "\u001b[36m\u001b[1m[ \u001b[22m\u001b[39m\u001b[36m\u001b[1mInfo: \u001b[22m\u001b[39mLeaving g=50 out\n"
     ]
    },
    {
     "data": {
      "text/plain": [
       "Results of univariate zero finding:\n",
       "\n",
       "* Converged to: 0.6770511718749997\n",
       "* Algorithm: Bisection()\n",
       "* iterations: 10\n",
       "* function evaluations ≈ 13\n",
       "\n",
       "Trace:\n",
       "(a₀, b₀) = ( 0.010306249999999999, 1 )\n",
       "(a₁, b₁) = ( 0.103725, 1 )\n",
       "(a₂, b₂) = ( 0.33244999999999997, 1 )\n",
       "(a₃, b₃) = ( 0.58244999999999991, 1 )\n",
       "(a₄, b₄) = ( 0.58244999999999991, 0.79122499999999996 )\n",
       "(a₅, b₅) = ( 0.58244999999999991, 0.68683749999999988 )\n",
       "(a₆, b₆) = ( 0.63464374999999984, 0.68683749999999988 )\n",
       "(a₇, b₇) = ( 0.66074062499999986, 0.68683749999999988 )\n",
       "(a₈, b₈) = ( 0.67378906249999981, 0.68683749999999988 )\n",
       "(a₉, b₉) = ( 0.67378906249999981, 0.68031328124999979 )\n",
       "(a₁₀, b₁₀) = ( 0.67705117187499975, 0.68031328124999979 )\n",
       "\n"
      ]
     },
     "metadata": {},
     "output_type": "display_data"
    },
    {
     "name": "stderr",
     "output_type": "stream",
     "text": [
      "\u001b[36m\u001b[1m[ \u001b[22m\u001b[39m\u001b[36m\u001b[1mInfo: \u001b[22m\u001b[39mTargeting ϕ=0.6770511718749997\n",
      "\u001b[32mProgress: 100%|█████████████████████████████████████████| Time: 0:03:14\u001b[39m\n",
      "\u001b[36m\u001b[1m[ \u001b[22m\u001b[39m\u001b[36m\u001b[1mInfo: \u001b[22m\u001b[39mϕ=1, PSIS\n",
      "\u001b[36m\u001b[1m[ \u001b[22m\u001b[39m\u001b[36m\u001b[1mInfo: \u001b[22m\u001b[39mLeaving g=51 out\n"
     ]
    },
    {
     "data": {
      "text/plain": [
       "Results of univariate zero finding:\n",
       "\n",
       "* Converged to: 0.9184472656249999\n",
       "* Algorithm: Bisection()\n",
       "* iterations: 10\n",
       "* function evaluations ≈ 13\n",
       "\n",
       "Trace:\n",
       "(a₀, b₀) = ( 0.010306249999999999, 1 )\n",
       "(a₁, b₁) = ( 0.103725, 1 )\n",
       "(a₂, b₂) = ( 0.33244999999999997, 1 )\n",
       "(a₃, b₃) = ( 0.58244999999999991, 1 )\n",
       "(a₄, b₄) = ( 0.79122499999999996, 1 )\n",
       "(a₅, b₅) = ( 0.89561249999999992, 1 )\n",
       "(a₆, b₆) = ( 0.89561249999999992, 0.94780624999999996 )\n",
       "(a₇, b₇) = ( 0.89561249999999992, 0.92170937499999994 )\n",
       "(a₈, b₈) = ( 0.90866093749999988, 0.92170937499999994 )\n",
       "(a₉, b₉) = ( 0.91518515624999985, 0.92170937499999994 )\n",
       "(a₁₀, b₁₀) = ( 0.91518515624999985, 0.9184472656249999 )\n",
       "\n"
      ]
     },
     "metadata": {},
     "output_type": "display_data"
    },
    {
     "name": "stderr",
     "output_type": "stream",
     "text": [
      "\u001b[36m\u001b[1m[ \u001b[22m\u001b[39m\u001b[36m\u001b[1mInfo: \u001b[22m\u001b[39mTargeting ϕ=0.9184472656249999\n",
      "\u001b[32mProgress: 100%|█████████████████████████████████████████| Time: 0:03:16\u001b[39m\n",
      "\u001b[36m\u001b[1m[ \u001b[22m\u001b[39m\u001b[36m\u001b[1mInfo: \u001b[22m\u001b[39mϕ=1, PSIS\n",
      "\u001b[36m\u001b[1m[ \u001b[22m\u001b[39m\u001b[36m\u001b[1mInfo: \u001b[22m\u001b[39mLeaving g=52 out\n"
     ]
    },
    {
     "data": {
      "text/plain": [
       "Results of univariate zero finding:\n",
       "\n",
       "* Converged to: 0.8890882812499998\n",
       "* Algorithm: Bisection()\n",
       "* iterations: 10\n",
       "* function evaluations ≈ 13\n",
       "\n",
       "Trace:\n",
       "(a₀, b₀) = ( 0.010306249999999999, 1 )\n",
       "(a₁, b₁) = ( 0.103725, 1 )\n",
       "(a₂, b₂) = ( 0.33244999999999997, 1 )\n",
       "(a₃, b₃) = ( 0.58244999999999991, 1 )\n",
       "(a₄, b₄) = ( 0.79122499999999996, 1 )\n",
       "(a₅, b₅) = ( 0.79122499999999996, 0.89561249999999992 )\n",
       "(a₆, b₆) = ( 0.84341874999999988, 0.89561249999999992 )\n",
       "(a₇, b₇) = ( 0.8695156249999999, 0.89561249999999992 )\n",
       "(a₈, b₈) = ( 0.88256406249999986, 0.89561249999999992 )\n",
       "(a₉, b₉) = ( 0.88256406249999986, 0.88908828124999983 )\n",
       "(a₁₀, b₁₀) = ( 0.88582617187499979, 0.88908828124999983 )\n",
       "\n"
      ]
     },
     "metadata": {},
     "output_type": "display_data"
    },
    {
     "name": "stderr",
     "output_type": "stream",
     "text": [
      "\u001b[36m\u001b[1m[ \u001b[22m\u001b[39m\u001b[36m\u001b[1mInfo: \u001b[22m\u001b[39mTargeting ϕ=0.8890882812499998\n",
      "\u001b[32mProgress: 100%|█████████████████████████████████████████| Time: 0:03:12\u001b[39m\n",
      "\u001b[36m\u001b[1m[ \u001b[22m\u001b[39m\u001b[36m\u001b[1mInfo: \u001b[22m\u001b[39mϕ=1, PSIS\n",
      "\u001b[36m\u001b[1m[ \u001b[22m\u001b[39m\u001b[36m\u001b[1mInfo: \u001b[22m\u001b[39mLeaving g=53 out\n",
      "\u001b[36m\u001b[1m[ \u001b[22m\u001b[39m\u001b[36m\u001b[1mInfo: \u001b[22m\u001b[39mϕ=1, PSIS\n",
      "\u001b[36m\u001b[1m[ \u001b[22m\u001b[39m\u001b[36m\u001b[1mInfo: \u001b[22m\u001b[39mLeaving g=54 out\n",
      "\u001b[36m\u001b[1m[ \u001b[22m\u001b[39m\u001b[36m\u001b[1mInfo: \u001b[22m\u001b[39mϕ=1, PSIS\n",
      "\u001b[36m\u001b[1m[ \u001b[22m\u001b[39m\u001b[36m\u001b[1mInfo: \u001b[22m\u001b[39mLeaving g=55 out\n",
      "\u001b[36m\u001b[1m[ \u001b[22m\u001b[39m\u001b[36m\u001b[1mInfo: \u001b[22m\u001b[39mϕ=1, PSIS\n",
      "\u001b[36m\u001b[1m[ \u001b[22m\u001b[39m\u001b[36m\u001b[1mInfo: \u001b[22m\u001b[39mLeaving g=56 out\n",
      "\u001b[36m\u001b[1m[ \u001b[22m\u001b[39m\u001b[36m\u001b[1mInfo: \u001b[22m\u001b[39mϕ=1, PSIS\n",
      "\u001b[36m\u001b[1m[ \u001b[22m\u001b[39m\u001b[36m\u001b[1mInfo: \u001b[22m\u001b[39mLeaving g=57 out\n"
     ]
    },
    {
     "data": {
      "text/plain": [
       "Results of univariate zero finding:\n",
       "\n",
       "* Converged to: 0.5041593749999999\n",
       "* Algorithm: Bisection()\n",
       "* iterations: 10\n",
       "* function evaluations ≈ 13\n",
       "\n",
       "Trace:\n",
       "(a₀, b₀) = ( 0.010306249999999999, 1 )\n",
       "(a₁, b₁) = ( 0.103725, 1 )\n",
       "(a₂, b₂) = ( 0.33244999999999997, 1 )\n",
       "(a₃, b₃) = ( 0.33244999999999997, 0.58244999999999991 )\n",
       "(a₄, b₄) = ( 0.43683749999999993, 0.58244999999999991 )\n",
       "(a₅, b₅) = ( 0.48903124999999992, 0.58244999999999991 )\n",
       "(a₆, b₆) = ( 0.48903124999999992, 0.53025624999999987 )\n",
       "(a₇, b₇) = ( 0.50415937499999985, 0.53025624999999987 )\n",
       "(a₈, b₈) = ( 0.50415937499999985, 0.51720781249999981 )\n",
       "(a₉, b₉) = ( 0.50415937499999985, 0.51068359374999983 )\n",
       "(a₁₀, b₁₀) = ( 0.50415937499999985, 0.50742148437499979 )\n",
       "\n"
      ]
     },
     "metadata": {},
     "output_type": "display_data"
    },
    {
     "name": "stderr",
     "output_type": "stream",
     "text": [
      "\u001b[36m\u001b[1m[ \u001b[22m\u001b[39m\u001b[36m\u001b[1mInfo: \u001b[22m\u001b[39mTargeting ϕ=0.5041593749999999\n",
      "\u001b[32mProgress: 100%|█████████████████████████████████████████| Time: 0:03:15\u001b[39m\n"
     ]
    },
    {
     "data": {
      "text/plain": [
       "Results of univariate zero finding:\n",
       "\n",
       "* Converged to: 0.951103707885742\n",
       "* Algorithm: Bisection()\n",
       "* iterations: 10\n",
       "* function evaluations ≈ 13\n",
       "\n",
       "Trace:\n",
       "(a₀, b₀) = ( 0.75212968749999987, 1 )\n",
       "(a₁, b₁) = ( 0.87606484374999993, 1 )\n",
       "(a₂, b₂) = ( 0.93803242187499991, 1 )\n",
       "(a₃, b₃) = ( 0.93803242187499991, 0.9690162109374999 )\n",
       "(a₄, b₄) = ( 0.93803242187499991, 0.95352431640624991 )\n",
       "(a₅, b₅) = ( 0.94577836914062485, 0.95352431640624991 )\n",
       "(a₆, b₆) = ( 0.94965134277343732, 0.95352431640624991 )\n",
       "(a₇, b₇) = ( 0.94965134277343732, 0.95158782958984356 )\n",
       "(a₈, b₈) = ( 0.95061958618164044, 0.95158782958984356 )\n",
       "(a₉, b₉) = ( 0.95061958618164044, 0.95110370788574194 )\n",
       "(a₁₀, b₁₀) = ( 0.95086164703369114, 0.95110370788574194 )\n",
       "\n"
      ]
     },
     "metadata": {},
     "output_type": "display_data"
    },
    {
     "name": "stderr",
     "output_type": "stream",
     "text": [
      "\u001b[36m\u001b[1m[ \u001b[22m\u001b[39m\u001b[36m\u001b[1mInfo: \u001b[22m\u001b[39mTargeting ϕ=0.951103707885742\n",
      "\u001b[32mProgress: 100%|█████████████████████████████████████████| Time: 0:03:13\u001b[39m\n",
      "\u001b[36m\u001b[1m[ \u001b[22m\u001b[39m\u001b[36m\u001b[1mInfo: \u001b[22m\u001b[39mϕ=1, PSIS\n",
      "\u001b[36m\u001b[1m[ \u001b[22m\u001b[39m\u001b[36m\u001b[1mInfo: \u001b[22m\u001b[39mLeaving g=58 out\n"
     ]
    },
    {
     "data": {
      "text/plain": [
       "Results of univariate zero finding:\n",
       "\n",
       "* Converged to: 0.5824499999999999\n",
       "* Algorithm: Bisection()\n",
       "* iterations: 10\n",
       "* function evaluations ≈ 13\n",
       "\n",
       "Trace:\n",
       "(a₀, b₀) = ( 0.010306249999999999, 1 )\n",
       "(a₁, b₁) = ( 0.103725, 1 )\n",
       "(a₂, b₂) = ( 0.33244999999999997, 1 )\n",
       "(a₃, b₃) = ( 0.58244999999999991, 1 )\n",
       "(a₄, b₄) = ( 0.58244999999999991, 0.79122499999999996 )\n",
       "(a₅, b₅) = ( 0.58244999999999991, 0.68683749999999988 )\n",
       "(a₆, b₆) = ( 0.58244999999999991, 0.63464374999999984 )\n",
       "(a₇, b₇) = ( 0.58244999999999991, 0.60854687499999982 )\n",
       "(a₈, b₈) = ( 0.58244999999999991, 0.59549843749999987 )\n",
       "(a₉, b₉) = ( 0.58244999999999991, 0.58897421874999989 )\n",
       "(a₁₀, b₁₀) = ( 0.58244999999999991, 0.58571210937499985 )\n",
       "\n"
      ]
     },
     "metadata": {},
     "output_type": "display_data"
    },
    {
     "name": "stderr",
     "output_type": "stream",
     "text": [
      "\u001b[36m\u001b[1m[ \u001b[22m\u001b[39m\u001b[36m\u001b[1mInfo: \u001b[22m\u001b[39mTargeting ϕ=0.5824499999999999\n",
      "\u001b[32mProgress: 100%|█████████████████████████████████████████| Time: 0:03:10\u001b[39m\n"
     ]
    },
    {
     "data": {
      "text/plain": [
       "Results of univariate zero finding:\n",
       "\n",
       "* Converged to: 0.9792090332031248\n",
       "* Algorithm: Bisection()\n",
       "* iterations: 10\n",
       "* function evaluations ≈ 13\n",
       "\n",
       "Trace:\n",
       "(a₀, b₀) = ( 0.79127499999999995, 1 )\n",
       "(a₁, b₁) = ( 0.89563749999999998, 1 )\n",
       "(a₂, b₂) = ( 0.94781874999999993, 1 )\n",
       "(a₃, b₃) = ( 0.97390937499999997, 1 )\n",
       "(a₄, b₄) = ( 0.97390937499999997, 0.98695468749999993 )\n",
       "(a₅, b₅) = ( 0.97390937499999997, 0.98043203124999989 )\n",
       "(a₆, b₆) = ( 0.97717070312499987, 0.98043203124999989 )\n",
       "(a₇, b₇) = ( 0.97880136718749988, 0.98043203124999989 )\n",
       "(a₈, b₈) = ( 0.97880136718749988, 0.97961669921874983 )\n",
       "(a₉, b₉) = ( 0.9792090332031248, 0.97961669921874983 )\n",
       "(a₁₀, b₁₀) = ( 0.9792090332031248, 0.97941286621093726 )\n",
       "\n"
      ]
     },
     "metadata": {},
     "output_type": "display_data"
    },
    {
     "name": "stderr",
     "output_type": "stream",
     "text": [
      "\u001b[36m\u001b[1m[ \u001b[22m\u001b[39m\u001b[36m\u001b[1mInfo: \u001b[22m\u001b[39mTargeting ϕ=0.9792090332031248\n",
      "\u001b[32mProgress: 100%|█████████████████████████████████████████| Time: 0:03:09\u001b[39m\n",
      "\u001b[36m\u001b[1m[ \u001b[22m\u001b[39m\u001b[36m\u001b[1mInfo: \u001b[22m\u001b[39mϕ=1, PSIS\n",
      "\u001b[36m\u001b[1m[ \u001b[22m\u001b[39m\u001b[36m\u001b[1mInfo: \u001b[22m\u001b[39mLeaving g=59 out\n"
     ]
    },
    {
     "data": {
      "text/plain": [
       "Results of univariate zero finding:\n",
       "\n",
       "* Converged to: 0.4759828124999999\n",
       "* Algorithm: Bisection()\n",
       "* iterations: 10\n",
       "* function evaluations ≈ 13\n",
       "\n",
       "Trace:\n",
       "(a₀, b₀) = ( 0.010306249999999999, 1 )\n",
       "(a₁, b₁) = ( 0.103725, 1 )\n",
       "(a₂, b₂) = ( 0.33244999999999997, 1 )\n",
       "(a₃, b₃) = ( 0.33244999999999997, 0.58244999999999991 )\n",
       "(a₄, b₄) = ( 0.43683749999999993, 0.58244999999999991 )\n",
       "(a₅, b₅) = ( 0.43683749999999993, 0.48903124999999992 )\n",
       "(a₆, b₆) = ( 0.4629343749999999, 0.48903124999999992 )\n",
       "(a₇, b₇) = ( 0.4629343749999999, 0.47598281249999991 )\n",
       "(a₈, b₈) = ( 0.46945859374999988, 0.47598281249999991 )\n",
       "(a₉, b₉) = ( 0.47272070312499986, 0.47598281249999991 )\n",
       "(a₁₀, b₁₀) = ( 0.47435175781249989, 0.47598281249999991 )\n",
       "\n"
      ]
     },
     "metadata": {},
     "output_type": "display_data"
    },
    {
     "name": "stderr",
     "output_type": "stream",
     "text": [
      "\u001b[36m\u001b[1m[ \u001b[22m\u001b[39m\u001b[36m\u001b[1mInfo: \u001b[22m\u001b[39mTargeting ϕ=0.4759828124999999\n",
      "\u001b[32mProgress: 100%|█████████████████████████████████████████| Time: 0:03:12\u001b[39m\n"
     ]
    },
    {
     "data": {
      "text/plain": [
       "Results of univariate zero finding:\n",
       "\n",
       "* Converged to: 0.8041920104980467\n",
       "* Algorithm: Bisection()\n",
       "* iterations: 10\n",
       "* function evaluations ≈ 13\n",
       "\n",
       "Trace:\n",
       "(a₀, b₀) = ( 0.72608281249999984, 1 )\n",
       "(a₁, b₁) = ( 0.72608281249999984, 0.86304140624999992 )\n",
       "(a₂, b₂) = ( 0.79456210937499983, 0.86304140624999992 )\n",
       "(a₃, b₃) = ( 0.79456210937499983, 0.82880175781249987 )\n",
       "(a₄, b₄) = ( 0.79456210937499983, 0.81168193359374985 )\n",
       "(a₅, b₅) = ( 0.80312202148437484, 0.81168193359374985 )\n",
       "(a₆, b₆) = ( 0.80312202148437484, 0.80740197753906229 )\n",
       "(a₇, b₇) = ( 0.80312202148437484, 0.80526199951171851 )\n",
       "(a₈, b₈) = ( 0.80419201049804667, 0.80526199951171851 )\n",
       "(a₉, b₉) = ( 0.80419201049804667, 0.80472700500488259 )\n",
       "(a₁₀, b₁₀) = ( 0.80419201049804667, 0.80445950775146458 )\n",
       "\n"
      ]
     },
     "metadata": {},
     "output_type": "display_data"
    },
    {
     "name": "stderr",
     "output_type": "stream",
     "text": [
      "\u001b[36m\u001b[1m[ \u001b[22m\u001b[39m\u001b[36m\u001b[1mInfo: \u001b[22m\u001b[39mTargeting ϕ=0.8041920104980467\n",
      "\u001b[32mProgress: 100%|█████████████████████████████████████████| Time: 0:03:11\u001b[39m\n",
      "\u001b[36m\u001b[1m[ \u001b[22m\u001b[39m\u001b[36m\u001b[1mInfo: \u001b[22m\u001b[39mϕ=1, PSIS\n",
      "\u001b[36m\u001b[1m[ \u001b[22m\u001b[39m\u001b[36m\u001b[1mInfo: \u001b[22m\u001b[39mLeaving g=60 out\n"
     ]
    },
    {
     "data": {
      "text/plain": [
       "Results of univariate zero finding:\n",
       "\n",
       "* Converged to: 0.8988746093749999\n",
       "* Algorithm: Bisection()\n",
       "* iterations: 10\n",
       "* function evaluations ≈ 13\n",
       "\n",
       "Trace:\n",
       "(a₀, b₀) = ( 0.010306249999999999, 1 )\n",
       "(a₁, b₁) = ( 0.103725, 1 )\n",
       "(a₂, b₂) = ( 0.33244999999999997, 1 )\n",
       "(a₃, b₃) = ( 0.58244999999999991, 1 )\n",
       "(a₄, b₄) = ( 0.79122499999999996, 1 )\n",
       "(a₅, b₅) = ( 0.89561249999999992, 1 )\n",
       "(a₆, b₆) = ( 0.89561249999999992, 0.94780624999999996 )\n",
       "(a₇, b₇) = ( 0.89561249999999992, 0.92170937499999994 )\n",
       "(a₈, b₈) = ( 0.89561249999999992, 0.90866093749999988 )\n",
       "(a₉, b₉) = ( 0.89561249999999992, 0.9021367187499999 )\n",
       "(a₁₀, b₁₀) = ( 0.89561249999999992, 0.89887460937499986 )\n",
       "\n"
      ]
     },
     "metadata": {},
     "output_type": "display_data"
    },
    {
     "name": "stderr",
     "output_type": "stream",
     "text": [
      "\u001b[36m\u001b[1m[ \u001b[22m\u001b[39m\u001b[36m\u001b[1mInfo: \u001b[22m\u001b[39mTargeting ϕ=0.8988746093749999\n",
      "\u001b[32mProgress: 100%|█████████████████████████████████████████| Time: 0:03:15\u001b[39m\n",
      "\u001b[36m\u001b[1m[ \u001b[22m\u001b[39m\u001b[36m\u001b[1mInfo: \u001b[22m\u001b[39mϕ=1, PSIS\n",
      "\u001b[36m\u001b[1m[ \u001b[22m\u001b[39m\u001b[36m\u001b[1mInfo: \u001b[22m\u001b[39mLeaving g=61 out\n"
     ]
    },
    {
     "data": {
      "text/plain": [
       "Results of univariate zero finding:\n",
       "\n",
       "* Converged to: 0.6346437499999998\n",
       "* Algorithm: Bisection()\n",
       "* iterations: 10\n",
       "* function evaluations ≈ 13\n",
       "\n",
       "Trace:\n",
       "(a₀, b₀) = ( 0.010306249999999999, 1 )\n",
       "(a₁, b₁) = ( 0.103725, 1 )\n",
       "(a₂, b₂) = ( 0.33244999999999997, 1 )\n",
       "(a₃, b₃) = ( 0.58244999999999991, 1 )\n",
       "(a₄, b₄) = ( 0.58244999999999991, 0.79122499999999996 )\n",
       "(a₅, b₅) = ( 0.58244999999999991, 0.68683749999999988 )\n",
       "(a₆, b₆) = ( 0.63464374999999984, 0.68683749999999988 )\n",
       "(a₇, b₇) = ( 0.63464374999999984, 0.66074062499999986 )\n",
       "(a₈, b₈) = ( 0.63464374999999984, 0.64769218749999979 )\n",
       "(a₉, b₉) = ( 0.63464374999999984, 0.64116796874999982 )\n",
       "(a₁₀, b₁₀) = ( 0.63464374999999984, 0.63790585937499977 )\n",
       "\n"
      ]
     },
     "metadata": {},
     "output_type": "display_data"
    },
    {
     "name": "stderr",
     "output_type": "stream",
     "text": [
      "\u001b[36m\u001b[1m[ \u001b[22m\u001b[39m\u001b[36m\u001b[1mInfo: \u001b[22m\u001b[39mTargeting ϕ=0.6346437499999998\n",
      "\u001b[32mProgress: 100%|█████████████████████████████████████████| Time: 0:03:12\u001b[39m\n"
     ]
    },
    {
     "data": {
      "text/plain": [
       "Results of univariate zero finding:\n",
       "\n",
       "* Converged to: 0.8978067230224607\n",
       "* Algorithm: Bisection()\n",
       "* iterations: 10\n",
       "* function evaluations ≈ 13\n",
       "\n",
       "Trace:\n",
       "(a₀, b₀) = ( 0.81737187499999986, 1 )\n",
       "(a₁, b₁) = ( 0.81737187499999986, 0.90868593749999993 )\n",
       "(a₂, b₂) = ( 0.86302890624999984, 0.90868593749999993 )\n",
       "(a₃, b₃) = ( 0.88585742187499983, 0.90868593749999993 )\n",
       "(a₄, b₄) = ( 0.89727167968749988, 0.90868593749999993 )\n",
       "(a₅, b₅) = ( 0.89727167968749988, 0.9029788085937499 )\n",
       "(a₆, b₆) = ( 0.89727167968749988, 0.90012524414062489 )\n",
       "(a₇, b₇) = ( 0.89727167968749988, 0.89869846191406233 )\n",
       "(a₈, b₈) = ( 0.89727167968749988, 0.89798507080078105 )\n",
       "(a₉, b₉) = ( 0.89762837524414041, 0.89798507080078105 )\n",
       "(a₁₀, b₁₀) = ( 0.89780672302246067, 0.89798507080078105 )\n",
       "\n"
      ]
     },
     "metadata": {},
     "output_type": "display_data"
    },
    {
     "name": "stderr",
     "output_type": "stream",
     "text": [
      "\u001b[36m\u001b[1m[ \u001b[22m\u001b[39m\u001b[36m\u001b[1mInfo: \u001b[22m\u001b[39mTargeting ϕ=0.8978067230224607\n",
      "\u001b[32mProgress: 100%|█████████████████████████████████████████| Time: 0:03:11\u001b[39m\n",
      "\u001b[36m\u001b[1m[ \u001b[22m\u001b[39m\u001b[36m\u001b[1mInfo: \u001b[22m\u001b[39mϕ=1, PSIS\n",
      "\u001b[36m\u001b[1m[ \u001b[22m\u001b[39m\u001b[36m\u001b[1mInfo: \u001b[22m\u001b[39mLeaving g=62 out\n"
     ]
    },
    {
     "data": {
      "text/plain": [
       "Results of univariate zero finding:\n",
       "\n",
       "* Converged to: 0.7553417968749998\n",
       "* Algorithm: Bisection()\n",
       "* iterations: 10\n",
       "* function evaluations ≈ 13\n",
       "\n",
       "Trace:\n",
       "(a₀, b₀) = ( 0.010306249999999999, 1 )\n",
       "(a₁, b₁) = ( 0.103725, 1 )\n",
       "(a₂, b₂) = ( 0.33244999999999997, 1 )\n",
       "(a₃, b₃) = ( 0.58244999999999991, 1 )\n",
       "(a₄, b₄) = ( 0.58244999999999991, 0.79122499999999996 )\n",
       "(a₅, b₅) = ( 0.68683749999999988, 0.79122499999999996 )\n",
       "(a₆, b₆) = ( 0.73903124999999992, 0.79122499999999996 )\n",
       "(a₇, b₇) = ( 0.73903124999999992, 0.76512812499999994 )\n",
       "(a₈, b₈) = ( 0.75207968749999987, 0.76512812499999994 )\n",
       "(a₉, b₉) = ( 0.75207968749999987, 0.75860390624999985 )\n",
       "(a₁₀, b₁₀) = ( 0.7553417968749998, 0.75860390624999985 )\n",
       "\n"
      ]
     },
     "metadata": {},
     "output_type": "display_data"
    },
    {
     "name": "stderr",
     "output_type": "stream",
     "text": [
      "\u001b[36m\u001b[1m[ \u001b[22m\u001b[39m\u001b[36m\u001b[1mInfo: \u001b[22m\u001b[39mTargeting ϕ=0.7553417968749998\n",
      "\u001b[32mProgress: 100%|█████████████████████████████████████████| Time: 0:03:15\u001b[39m\n",
      "\u001b[36m\u001b[1m[ \u001b[22m\u001b[39m\u001b[36m\u001b[1mInfo: \u001b[22m\u001b[39mϕ=1, PSIS\n",
      "\u001b[36m\u001b[1m[ \u001b[22m\u001b[39m\u001b[36m\u001b[1mInfo: \u001b[22m\u001b[39mLeaving g=63 out\n"
     ]
    },
    {
     "data": {
      "text/plain": [
       "Results of univariate zero finding:\n",
       "\n",
       "* Converged to: 0.4270511718749999\n",
       "* Algorithm: Bisection()\n",
       "* iterations: 10\n",
       "* function evaluations ≈ 13\n",
       "\n",
       "Trace:\n",
       "(a₀, b₀) = ( 0.010306249999999999, 1 )\n",
       "(a₁, b₁) = ( 0.103725, 1 )\n",
       "(a₂, b₂) = ( 0.33244999999999997, 1 )\n",
       "(a₃, b₃) = ( 0.33244999999999997, 0.58244999999999991 )\n",
       "(a₄, b₄) = ( 0.33244999999999997, 0.43683749999999993 )\n",
       "(a₅, b₅) = ( 0.38464374999999995, 0.43683749999999993 )\n",
       "(a₆, b₆) = ( 0.41074062499999991, 0.43683749999999993 )\n",
       "(a₇, b₇) = ( 0.42378906249999992, 0.43683749999999993 )\n",
       "(a₈, b₈) = ( 0.42378906249999992, 0.4303132812499999 )\n",
       "(a₉, b₉) = ( 0.42705117187499991, 0.4303132812499999 )\n",
       "(a₁₀, b₁₀) = ( 0.42705117187499991, 0.42868222656249988 )\n",
       "\n"
      ]
     },
     "metadata": {},
     "output_type": "display_data"
    },
    {
     "name": "stderr",
     "output_type": "stream",
     "text": [
      "\u001b[36m\u001b[1m[ \u001b[22m\u001b[39m\u001b[36m\u001b[1mInfo: \u001b[22m\u001b[39mTargeting ϕ=0.4270511718749999\n",
      "\u001b[32mProgress: 100%|█████████████████████████████████████████| Time: 0:03:12\u001b[39m\n"
     ]
    },
    {
     "data": {
      "text/plain": [
       "Results of univariate zero finding:\n",
       "\n",
       "* Converged to: 0.9492395885467528\n",
       "* Algorithm: Bisection()\n",
       "* iterations: 10\n",
       "* function evaluations ≈ 13\n",
       "\n",
       "Trace:\n",
       "(a₀, b₀) = ( 0.67715117187499985, 1 )\n",
       "(a₁, b₁) = ( 0.83857558593749992, 1 )\n",
       "(a₂, b₂) = ( 0.91928779296874996, 1 )\n",
       "(a₃, b₃) = ( 0.91928779296874996, 0.95964389648437498 )\n",
       "(a₄, b₄) = ( 0.93946584472656247, 0.95964389648437498 )\n",
       "(a₅, b₅) = ( 0.93946584472656247, 0.94955487060546873 )\n",
       "(a₆, b₆) = ( 0.94451035766601554, 0.94955487060546873 )\n",
       "(a₇, b₇) = ( 0.94703261413574213, 0.94955487060546873 )\n",
       "(a₈, b₈) = ( 0.94829374237060537, 0.94955487060546873 )\n",
       "(a₉, b₉) = ( 0.94892430648803705, 0.94955487060546873 )\n",
       "(a₁₀, b₁₀) = ( 0.94892430648803705, 0.94923958854675283 )\n",
       "\n"
      ]
     },
     "metadata": {},
     "output_type": "display_data"
    },
    {
     "name": "stderr",
     "output_type": "stream",
     "text": [
      "\u001b[36m\u001b[1m[ \u001b[22m\u001b[39m\u001b[36m\u001b[1mInfo: \u001b[22m\u001b[39mTargeting ϕ=0.9492395885467528\n",
      "\u001b[32mProgress: 100%|█████████████████████████████████████████| Time: 0:03:08\u001b[39m\n",
      "\u001b[36m\u001b[1m[ \u001b[22m\u001b[39m\u001b[36m\u001b[1mInfo: \u001b[22m\u001b[39mϕ=1, PSIS\n",
      "\u001b[36m\u001b[1m[ \u001b[22m\u001b[39m\u001b[36m\u001b[1mInfo: \u001b[22m\u001b[39mLeaving g=64 out\n",
      "\u001b[36m\u001b[1m[ \u001b[22m\u001b[39m\u001b[36m\u001b[1mInfo: \u001b[22m\u001b[39mϕ=1, PSIS\n",
      "\u001b[36m\u001b[1m[ \u001b[22m\u001b[39m\u001b[36m\u001b[1mInfo: \u001b[22m\u001b[39mLeaving g=65 out\n"
     ]
    },
    {
     "data": {
      "text/plain": [
       "Results of univariate zero finding:\n",
       "\n",
       "* Converged to: 0.8042734374999999\n",
       "* Algorithm: Bisection()\n",
       "* iterations: 10\n",
       "* function evaluations ≈ 13\n",
       "\n",
       "Trace:\n",
       "(a₀, b₀) = ( 0.010306249999999999, 1 )\n",
       "(a₁, b₁) = ( 0.103725, 1 )\n",
       "(a₂, b₂) = ( 0.33244999999999997, 1 )\n",
       "(a₃, b₃) = ( 0.58244999999999991, 1 )\n",
       "(a₄, b₄) = ( 0.79122499999999996, 1 )\n",
       "(a₅, b₅) = ( 0.79122499999999996, 0.89561249999999992 )\n",
       "(a₆, b₆) = ( 0.79122499999999996, 0.84341874999999988 )\n",
       "(a₇, b₇) = ( 0.79122499999999996, 0.81732187499999986 )\n",
       "(a₈, b₈) = ( 0.80427343749999991, 0.81732187499999986 )\n",
       "(a₉, b₉) = ( 0.80427343749999991, 0.81079765624999989 )\n",
       "(a₁₀, b₁₀) = ( 0.80427343749999991, 0.80753554687499984 )\n",
       "\n"
      ]
     },
     "metadata": {},
     "output_type": "display_data"
    },
    {
     "name": "stderr",
     "output_type": "stream",
     "text": [
      "\u001b[36m\u001b[1m[ \u001b[22m\u001b[39m\u001b[36m\u001b[1mInfo: \u001b[22m\u001b[39mTargeting ϕ=0.8042734374999999\n",
      "\u001b[32mProgress: 100%|█████████████████████████████████████████| Time: 0:03:17\u001b[39m\n",
      "\u001b[36m\u001b[1m[ \u001b[22m\u001b[39m\u001b[36m\u001b[1mInfo: \u001b[22m\u001b[39mϕ=1, PSIS\n",
      "\u001b[36m\u001b[1m[ \u001b[22m\u001b[39m\u001b[36m\u001b[1mInfo: \u001b[22m\u001b[39mLeaving g=66 out\n",
      "\u001b[36m\u001b[1m[ \u001b[22m\u001b[39m\u001b[36m\u001b[1mInfo: \u001b[22m\u001b[39mϕ=1, PSIS\n",
      "\u001b[36m\u001b[1m[ \u001b[22m\u001b[39m\u001b[36m\u001b[1mInfo: \u001b[22m\u001b[39mLeaving g=67 out\n"
     ]
    },
    {
     "data": {
      "text/plain": [
       "Results of univariate zero finding:\n",
       "\n",
       "* Converged to: 0.8760398437499999\n",
       "* Algorithm: Bisection()\n",
       "* iterations: 10\n",
       "* function evaluations ≈ 13\n",
       "\n",
       "Trace:\n",
       "(a₀, b₀) = ( 0.010306249999999999, 1 )\n",
       "(a₁, b₁) = ( 0.103725, 1 )\n",
       "(a₂, b₂) = ( 0.33244999999999997, 1 )\n",
       "(a₃, b₃) = ( 0.58244999999999991, 1 )\n",
       "(a₄, b₄) = ( 0.79122499999999996, 1 )\n",
       "(a₅, b₅) = ( 0.79122499999999996, 0.89561249999999992 )\n",
       "(a₆, b₆) = ( 0.84341874999999988, 0.89561249999999992 )\n",
       "(a₇, b₇) = ( 0.8695156249999999, 0.89561249999999992 )\n",
       "(a₈, b₈) = ( 0.8695156249999999, 0.88256406249999986 )\n",
       "(a₉, b₉) = ( 0.8695156249999999, 0.87603984374999988 )\n",
       "(a₁₀, b₁₀) = ( 0.87277773437499984, 0.87603984374999988 )\n",
       "\n"
      ]
     },
     "metadata": {},
     "output_type": "display_data"
    },
    {
     "name": "stderr",
     "output_type": "stream",
     "text": [
      "\u001b[36m\u001b[1m[ \u001b[22m\u001b[39m\u001b[36m\u001b[1mInfo: \u001b[22m\u001b[39mTargeting ϕ=0.8760398437499999\n",
      "\u001b[32mProgress: 100%|█████████████████████████████████████████| Time: 0:03:11\u001b[39m\n",
      "\u001b[36m\u001b[1m[ \u001b[22m\u001b[39m\u001b[36m\u001b[1mInfo: \u001b[22m\u001b[39mϕ=1, PSIS\n",
      "\u001b[36m\u001b[1m[ \u001b[22m\u001b[39m\u001b[36m\u001b[1mInfo: \u001b[22m\u001b[39mLeaving g=68 out\n"
     ]
    },
    {
     "data": {
      "text/plain": [
       "Results of univariate zero finding:\n",
       "\n",
       "* Converged to: 0.9217093749999999\n",
       "* Algorithm: Bisection()\n",
       "* iterations: 10\n",
       "* function evaluations ≈ 13\n",
       "\n",
       "Trace:\n",
       "(a₀, b₀) = ( 0.010306249999999999, 1 )\n",
       "(a₁, b₁) = ( 0.103725, 1 )\n",
       "(a₂, b₂) = ( 0.33244999999999997, 1 )\n",
       "(a₃, b₃) = ( 0.58244999999999991, 1 )\n",
       "(a₄, b₄) = ( 0.79122499999999996, 1 )\n",
       "(a₅, b₅) = ( 0.89561249999999992, 1 )\n",
       "(a₆, b₆) = ( 0.89561249999999992, 0.94780624999999996 )\n",
       "(a₇, b₇) = ( 0.92170937499999994, 0.94780624999999996 )\n",
       "(a₈, b₈) = ( 0.92170937499999994, 0.9347578124999999 )\n",
       "(a₉, b₉) = ( 0.92170937499999994, 0.92823359374999992 )\n",
       "(a₁₀, b₁₀) = ( 0.92170937499999994, 0.92497148437499987 )\n",
       "\n"
      ]
     },
     "metadata": {},
     "output_type": "display_data"
    },
    {
     "name": "stderr",
     "output_type": "stream",
     "text": [
      "\u001b[36m\u001b[1m[ \u001b[22m\u001b[39m\u001b[36m\u001b[1mInfo: \u001b[22m\u001b[39mTargeting ϕ=0.9217093749999999\n",
      "\u001b[32mProgress: 100%|█████████████████████████████████████████| Time: 0:03:04\u001b[39m\n",
      "\u001b[36m\u001b[1m[ \u001b[22m\u001b[39m\u001b[36m\u001b[1mInfo: \u001b[22m\u001b[39mϕ=1, PSIS\n",
      "\u001b[36m\u001b[1m[ \u001b[22m\u001b[39m\u001b[36m\u001b[1mInfo: \u001b[22m\u001b[39mLeaving g=69 out\n",
      "\u001b[36m\u001b[1m[ \u001b[22m\u001b[39m\u001b[36m\u001b[1mInfo: \u001b[22m\u001b[39mϕ=1, PSIS\n",
      "\u001b[36m\u001b[1m[ \u001b[22m\u001b[39m\u001b[36m\u001b[1mInfo: \u001b[22m\u001b[39mLeaving g=70 out\n",
      "\u001b[36m\u001b[1m[ \u001b[22m\u001b[39m\u001b[36m\u001b[1mInfo: \u001b[22m\u001b[39mϕ=1, PSIS\n",
      "\u001b[36m\u001b[1m[ \u001b[22m\u001b[39m\u001b[36m\u001b[1mInfo: \u001b[22m\u001b[39mLeaving g=71 out\n",
      "\u001b[36m\u001b[1m[ \u001b[22m\u001b[39m\u001b[36m\u001b[1mInfo: \u001b[22m\u001b[39mϕ=1, PSIS\n",
      "\u001b[36m\u001b[1m[ \u001b[22m\u001b[39m\u001b[36m\u001b[1mInfo: \u001b[22m\u001b[39mLeaving g=72 out\n",
      "\u001b[36m\u001b[1m[ \u001b[22m\u001b[39m\u001b[36m\u001b[1mInfo: \u001b[22m\u001b[39mϕ=1, PSIS\n",
      "\u001b[36m\u001b[1m[ \u001b[22m\u001b[39m\u001b[36m\u001b[1mInfo: \u001b[22m\u001b[39mLeaving g=73 out\n",
      "\u001b[36m\u001b[1m[ \u001b[22m\u001b[39m\u001b[36m\u001b[1mInfo: \u001b[22m\u001b[39mϕ=1, PSIS\n",
      "\u001b[36m\u001b[1m[ \u001b[22m\u001b[39m\u001b[36m\u001b[1mInfo: \u001b[22m\u001b[39mLeaving g=74 out\n",
      "\u001b[36m\u001b[1m[ \u001b[22m\u001b[39m\u001b[36m\u001b[1mInfo: \u001b[22m\u001b[39mϕ=1, PSIS\n",
      "\u001b[36m\u001b[1m[ \u001b[22m\u001b[39m\u001b[36m\u001b[1mInfo: \u001b[22m\u001b[39mLeaving g=75 out\n"
     ]
    },
    {
     "data": {
      "text/plain": [
       "Results of univariate zero finding:\n",
       "\n",
       "* Converged to: 0.7259828124999999\n",
       "* Algorithm: Bisection()\n",
       "* iterations: 10\n",
       "* function evaluations ≈ 13\n",
       "\n",
       "Trace:\n",
       "(a₀, b₀) = ( 0.010306249999999999, 1 )\n",
       "(a₁, b₁) = ( 0.103725, 1 )\n",
       "(a₂, b₂) = ( 0.33244999999999997, 1 )\n",
       "(a₃, b₃) = ( 0.58244999999999991, 1 )\n",
       "(a₄, b₄) = ( 0.58244999999999991, 0.79122499999999996 )\n",
       "(a₅, b₅) = ( 0.68683749999999988, 0.79122499999999996 )\n",
       "(a₆, b₆) = ( 0.68683749999999988, 0.73903124999999992 )\n",
       "(a₇, b₇) = ( 0.7129343749999999, 0.73903124999999992 )\n",
       "(a₈, b₈) = ( 0.7129343749999999, 0.72598281249999985 )\n",
       "(a₉, b₉) = ( 0.71945859374999988, 0.72598281249999985 )\n",
       "(a₁₀, b₁₀) = ( 0.72272070312499981, 0.72598281249999985 )\n",
       "\n"
      ]
     },
     "metadata": {},
     "output_type": "display_data"
    },
    {
     "name": "stderr",
     "output_type": "stream",
     "text": [
      "\u001b[36m\u001b[1m[ \u001b[22m\u001b[39m\u001b[36m\u001b[1mInfo: \u001b[22m\u001b[39mTargeting ϕ=0.7259828124999999\n",
      "\u001b[32mProgress: 100%|█████████████████████████████████████████| Time: 0:03:09\u001b[39m\n",
      "\u001b[36m\u001b[1m[ \u001b[22m\u001b[39m\u001b[36m\u001b[1mInfo: \u001b[22m\u001b[39mϕ=1, PSIS\n",
      "\u001b[36m\u001b[1m[ \u001b[22m\u001b[39m\u001b[36m\u001b[1mInfo: \u001b[22m\u001b[39mLeaving g=76 out\n"
     ]
    },
    {
     "data": {
      "text/plain": [
       "Results of univariate zero finding:\n",
       "\n",
       "* Converged to: 0.6803132812499998\n",
       "* Algorithm: Bisection()\n",
       "* iterations: 10\n",
       "* function evaluations ≈ 13\n",
       "\n",
       "Trace:\n",
       "(a₀, b₀) = ( 0.010306249999999999, 1 )\n",
       "(a₁, b₁) = ( 0.103725, 1 )\n",
       "(a₂, b₂) = ( 0.33244999999999997, 1 )\n",
       "(a₃, b₃) = ( 0.58244999999999991, 1 )\n",
       "(a₄, b₄) = ( 0.58244999999999991, 0.79122499999999996 )\n",
       "(a₅, b₅) = ( 0.58244999999999991, 0.68683749999999988 )\n",
       "(a₆, b₆) = ( 0.63464374999999984, 0.68683749999999988 )\n",
       "(a₇, b₇) = ( 0.66074062499999986, 0.68683749999999988 )\n",
       "(a₈, b₈) = ( 0.67378906249999981, 0.68683749999999988 )\n",
       "(a₉, b₉) = ( 0.68031328124999979, 0.68683749999999988 )\n",
       "(a₁₀, b₁₀) = ( 0.68031328124999979, 0.68357539062499983 )\n",
       "\n"
      ]
     },
     "metadata": {},
     "output_type": "display_data"
    },
    {
     "name": "stderr",
     "output_type": "stream",
     "text": [
      "\u001b[36m\u001b[1m[ \u001b[22m\u001b[39m\u001b[36m\u001b[1mInfo: \u001b[22m\u001b[39mTargeting ϕ=0.6803132812499998\n",
      "\u001b[32mProgress: 100%|█████████████████████████████████████████| Time: 0:03:05\u001b[39m\n",
      "\u001b[36m\u001b[1m[ \u001b[22m\u001b[39m\u001b[36m\u001b[1mInfo: \u001b[22m\u001b[39mϕ=1, PSIS\n",
      "\u001b[36m\u001b[1m[ \u001b[22m\u001b[39m\u001b[36m\u001b[1mInfo: \u001b[22m\u001b[39mLeaving g=77 out\n"
     ]
    },
    {
     "data": {
      "text/plain": [
       "Results of univariate zero finding:\n",
       "\n",
       "* Converged to: 0.9249714843749999\n",
       "* Algorithm: Bisection()\n",
       "* iterations: 10\n",
       "* function evaluations ≈ 13\n",
       "\n",
       "Trace:\n",
       "(a₀, b₀) = ( 0.010306249999999999, 1 )\n",
       "(a₁, b₁) = ( 0.103725, 1 )\n",
       "(a₂, b₂) = ( 0.33244999999999997, 1 )\n",
       "(a₃, b₃) = ( 0.58244999999999991, 1 )\n",
       "(a₄, b₄) = ( 0.79122499999999996, 1 )\n",
       "(a₅, b₅) = ( 0.89561249999999992, 1 )\n",
       "(a₆, b₆) = ( 0.89561249999999992, 0.94780624999999996 )\n",
       "(a₇, b₇) = ( 0.92170937499999994, 0.94780624999999996 )\n",
       "(a₈, b₈) = ( 0.92170937499999994, 0.9347578124999999 )\n",
       "(a₉, b₉) = ( 0.92170937499999994, 0.92823359374999992 )\n",
       "(a₁₀, b₁₀) = ( 0.92497148437499987, 0.92823359374999992 )\n",
       "\n"
      ]
     },
     "metadata": {},
     "output_type": "display_data"
    },
    {
     "name": "stderr",
     "output_type": "stream",
     "text": [
      "\u001b[36m\u001b[1m[ \u001b[22m\u001b[39m\u001b[36m\u001b[1mInfo: \u001b[22m\u001b[39mTargeting ϕ=0.9249714843749999\n",
      "\u001b[32mProgress: 100%|█████████████████████████████████████████| Time: 0:03:04\u001b[39m\n",
      "\u001b[36m\u001b[1m[ \u001b[22m\u001b[39m\u001b[36m\u001b[1mInfo: \u001b[22m\u001b[39mϕ=1, PSIS\n",
      "\u001b[36m\u001b[1m[ \u001b[22m\u001b[39m\u001b[36m\u001b[1mInfo: \u001b[22m\u001b[39mLeaving g=78 out\n"
     ]
    },
    {
     "data": {
      "text/plain": [
       "Results of univariate zero finding:\n",
       "\n",
       "* Converged to: 0.9184472656249999\n",
       "* Algorithm: Bisection()\n",
       "* iterations: 10\n",
       "* function evaluations ≈ 13\n",
       "\n",
       "Trace:\n",
       "(a₀, b₀) = ( 0.010306249999999999, 1 )\n",
       "(a₁, b₁) = ( 0.103725, 1 )\n",
       "(a₂, b₂) = ( 0.33244999999999997, 1 )\n",
       "(a₃, b₃) = ( 0.58244999999999991, 1 )\n",
       "(a₄, b₄) = ( 0.79122499999999996, 1 )\n",
       "(a₅, b₅) = ( 0.89561249999999992, 1 )\n",
       "(a₆, b₆) = ( 0.89561249999999992, 0.94780624999999996 )\n",
       "(a₇, b₇) = ( 0.89561249999999992, 0.92170937499999994 )\n",
       "(a₈, b₈) = ( 0.90866093749999988, 0.92170937499999994 )\n",
       "(a₉, b₉) = ( 0.91518515624999985, 0.92170937499999994 )\n",
       "(a₁₀, b₁₀) = ( 0.9184472656249999, 0.92170937499999994 )\n",
       "\n"
      ]
     },
     "metadata": {},
     "output_type": "display_data"
    },
    {
     "name": "stderr",
     "output_type": "stream",
     "text": [
      "\u001b[36m\u001b[1m[ \u001b[22m\u001b[39m\u001b[36m\u001b[1mInfo: \u001b[22m\u001b[39mTargeting ϕ=0.9184472656249999\n",
      "\u001b[32mProgress: 100%|█████████████████████████████████████████| Time: 0:03:17\u001b[39m\n",
      "\u001b[36m\u001b[1m[ \u001b[22m\u001b[39m\u001b[36m\u001b[1mInfo: \u001b[22m\u001b[39mϕ=1, PSIS\n",
      "\u001b[36m\u001b[1m[ \u001b[22m\u001b[39m\u001b[36m\u001b[1mInfo: \u001b[22m\u001b[39mLeaving g=79 out\n",
      "\u001b[36m\u001b[1m[ \u001b[22m\u001b[39m\u001b[36m\u001b[1mInfo: \u001b[22m\u001b[39mϕ=1, PSIS\n",
      "\u001b[36m\u001b[1m[ \u001b[22m\u001b[39m\u001b[36m\u001b[1mInfo: \u001b[22m\u001b[39mLeaving g=80 out\n",
      "\u001b[36m\u001b[1m[ \u001b[22m\u001b[39m\u001b[36m\u001b[1mInfo: \u001b[22m\u001b[39mϕ=1, PSIS\n",
      "\u001b[36m\u001b[1m[ \u001b[22m\u001b[39m\u001b[36m\u001b[1mInfo: \u001b[22m\u001b[39mLeaving g=81 out\n",
      "\u001b[36m\u001b[1m[ \u001b[22m\u001b[39m\u001b[36m\u001b[1mInfo: \u001b[22m\u001b[39mϕ=1, PSIS\n",
      "\u001b[36m\u001b[1m[ \u001b[22m\u001b[39m\u001b[36m\u001b[1mInfo: \u001b[22m\u001b[39mLeaving g=82 out\n",
      "\u001b[36m\u001b[1m[ \u001b[22m\u001b[39m\u001b[36m\u001b[1mInfo: \u001b[22m\u001b[39mϕ=1, PSIS\n",
      "\u001b[36m\u001b[1m[ \u001b[22m\u001b[39m\u001b[36m\u001b[1mInfo: \u001b[22m\u001b[39mLeaving g=83 out\n",
      "\u001b[36m\u001b[1m[ \u001b[22m\u001b[39m\u001b[36m\u001b[1mInfo: \u001b[22m\u001b[39mϕ=1, PSIS\n",
      "\u001b[36m\u001b[1m[ \u001b[22m\u001b[39m\u001b[36m\u001b[1mInfo: \u001b[22m\u001b[39mLeaving g=84 out\n",
      "\u001b[36m\u001b[1m[ \u001b[22m\u001b[39m\u001b[36m\u001b[1mInfo: \u001b[22m\u001b[39mϕ=1, PSIS\n",
      "\u001b[36m\u001b[1m[ \u001b[22m\u001b[39m\u001b[36m\u001b[1mInfo: \u001b[22m\u001b[39mLeaving g=85 out\n",
      "\u001b[36m\u001b[1m[ \u001b[22m\u001b[39m\u001b[36m\u001b[1mInfo: \u001b[22m\u001b[39mϕ=1, PSIS\n"
     ]
    }
   ],
   "source": [
    "Random.seed!(1)\n",
    "RUN_aSMC && run(chain, SMCS_Radon; k̂_threshold=+Inf, save_bool=true)"
   ]
  },
  {
   "cell_type": "markdown",
   "id": "01be7ee0-236d-4297-a16f-e872fb868d2a",
   "metadata": {},
   "source": [
    "# Figures"
   ]
  },
  {
   "cell_type": "markdown",
   "id": "35543c7b-7fd8-4a2e-9338-9b328e5c10bb",
   "metadata": {},
   "source": [
    "## LPD"
   ]
  },
  {
   "cell_type": "code",
   "execution_count": 94,
   "id": "4cc858d5-3b3a-4d20-a69e-f9f4127f4738",
   "metadata": {},
   "outputs": [
    {
     "data": {
      "text/plain": [
       "Compute_LPDs (generic function with 1 method)"
      ]
     },
     "execution_count": 94,
     "metadata": {},
     "output_type": "execute_result"
    }
   ],
   "source": [
    "function Compute_LPDs(results, leave_g::Int64, _model, _names; constrain=true)::Vector{Float64}\n",
    "\n",
    "    # compute log predictive density (LPD) for a single particle\n",
    "    function LPD(particle)::Float64\n",
    "        # Transform particle to named space for convenience\n",
    "        particle = NamedArray(\n",
    "            constrain ? particle |> Turing.inverse(Turing.bijector(_model)) : particle,\n",
    "            _names, # Label parameters\n",
    "            :d      # Use :d as axis name\n",
    "        )\n",
    "        β = particle[:d => [\"β[$(leave_g)][$(k)]\" for k in 1:2]]\n",
    "        v_y = particle[:d => \"v_y\"]\n",
    "        logpdf(MvNormal(X_g * β, v_y * I), y_g)\n",
    "    end\n",
    "\n",
    "    # Subset y and X for observations in group leave_g\n",
    "    leave_g_idx = data.county .== leave_g\n",
    "    y_g, X_g = data.y[leave_g_idx], data.X[leave_g_idx,:]\n",
    "    @assert data.N_g[leave_g] == sum(leave_g_idx) # Assert size matches known count\n",
    "\n",
    "    # Compute LPDs for each posterior particle\n",
    "    LPDs = Float64[]\n",
    "    for n in 1:results.R\n",
    "        push!(LPDs, results[:particles][:n => n] |> LPD)\n",
    "    end\n",
    "    \n",
    "    LPDs\n",
    "end"
   ]
  },
  {
   "cell_type": "code",
   "execution_count": 95,
   "id": "f1a5d079-6bb8-42ce-8098-3805929edca5",
   "metadata": {
    "scrolled": true
   },
   "outputs": [
    {
     "data": {
      "text/plain": [
       "0.7"
      ]
     },
     "execution_count": 95,
     "metadata": {},
     "output_type": "execute_result"
    }
   ],
   "source": [
    "k̂_threshold = .7"
   ]
  },
  {
   "cell_type": "code",
   "execution_count": 96,
   "id": "df04b054-5f75-40fc-9fee-42fdb3d79a48",
   "metadata": {
    "scrolled": true
   },
   "outputs": [
    {
     "name": "stderr",
     "output_type": "stream",
     "text": [
      "\u001b[36m\u001b[1m[ \u001b[22m\u001b[39m\u001b[36m\u001b[1mInfo: \u001b[22m\u001b[39mComputing LPDs.\n",
      "\u001b[32mProgress: 100%|█████████████████████████████████████████| Time: 0:08:28\u001b[39m\n"
     ]
    }
   ],
   "source": [
    "let\n",
    "    # Prepare dimensions and containers\n",
    "    R                   = length(load(joinpath(\"output\", \"radon\", \"mcmc\", \"chain.jld\"))[\"data\"])\n",
    "    LPD_template        = NamedArray(zeros(R, data.G), (1:R, 1:data.G), (:n, :g))\n",
    "    global LPD_mcmc     = similar(LPD_template)\n",
    "    global LPD_smc      = similar(LPD_template)\n",
    "    global LPD_psis     = similar(LPD_template)\n",
    "    global weights_smc  = load(joinpath(\"output\", \"radon\", \"smc\",\n",
    "            \"weights_threshold-$(k̂_threshold).jld\"))[\"data\"]\n",
    "    global weights_psis = load(joinpath(\"output\", \"radon\", \"psis\",\n",
    "            \"weights_threshold-$(0.7).jld\"))[\"data\"]\n",
    "    \n",
    "    # Helper to wrap chain into NamedArray for Compute_LPDs\n",
    "    function _wrap_particles(_particles::Vector)\n",
    "        R = length(_particles)\n",
    "        results = (; particles=NamedArray(_particles, 1:R, :n), R=R)\n",
    "    end\n",
    "\n",
    "    # Pre-load/instantiate particles / baseline posterior\n",
    "    chain_smc = load(joinpath(\"output\", \"radon\", \"smc\",\n",
    "            \"particles_threshold-$(k̂_threshold).jld\"))[\"data\"]\n",
    "    chain_psis = load(joinpath(\"output\", \"radon\", \"psis\",\n",
    "            \"particles_threshold-$(0.7).jld\"))[\"data\"]\n",
    "    _model = Model(data, -1, 0) # leave_g = -1 to disable leave-group-out logic\n",
    "    _names = sample(_model, Prior(), 1).name_map.parameters .|> String # Parameter names\n",
    "    \n",
    "    # Loop over all groups\n",
    "    @info \"Computing LPDs.\"; sleep(0.01)\n",
    "    @showprogress for leave_g in 1:data.G\n",
    "        # @info \"Leaving g=$(leave_g) out\"\n",
    "        \n",
    "        # MCMC as ground truth\n",
    "        chain = load(joinpath(\"output\", \"radon\", \"mcmc\", \"chain_lgo-$(leave_g).jld\"))[\"data\"]\n",
    "        LPD_mcmc[:, leave_g] = Compute_LPDs(\n",
    "            chain |> _wrap_particles,\n",
    "            leave_g, _model, _names;\n",
    "            constrain=false) # LGO draws are already constrained to original space\n",
    "    \n",
    "        # SMC estimate\n",
    "        LPD_smc[:, leave_g] = Compute_LPDs(\n",
    "            chain_smc[leave_g] |> mat2vecvec |> _wrap_particles,\n",
    "            leave_g, _model, _names;\n",
    "            constrain=true)\n",
    "    \n",
    "        # PSIS estimate\n",
    "        LPD_psis[:, leave_g] = Compute_LPDs(\n",
    "            chain_psis[leave_g] |> mat2vecvec |> _wrap_particles,\n",
    "            leave_g, _model, _names;\n",
    "            constrain=true)\n",
    "    end\n",
    "end"
   ]
  },
  {
   "cell_type": "code",
   "execution_count": null,
   "id": "8497b6c5-1f41-41c6-bbf2-f620b887f4d3",
   "metadata": {},
   "outputs": [],
   "source": [
    "let\n",
    "    R, G = size(LPD_mcmc)\n",
    "    equal_weights_cumsum = cumsum(fill(1/R, R))\n",
    "    COUNTIES = unique(df.county)\n",
    "    COUNTMAP = countmap(df.county)\n",
    "    re_idx = sortperm([sum(df.county .== g) for g in COUNTIES], rev=true)\n",
    "    \n",
    "    # Plot\n",
    "    n_rows = 2\n",
    "    plts = []; for (g_i, g) in enumerate([1,2,3, data.G-2, data.G-1, data.G]) # 3 highest-/lowest-N groups \n",
    "        \n",
    "        # Plot where PSIS distribution approximation \"ends\"\n",
    "        vline([minimum(LPD_psis[:, re_idx[g]])], label=\"\", ylim=(0,1),\n",
    "            color=:green, alpha=0.75, linewidth=1, linestyle=:dash)\n",
    "\n",
    "        # MCMC empirical cdf\n",
    "        plot!(sort(LPD_mcmc[:, re_idx[g]]),\n",
    "            equal_weights_cumsum,\n",
    "            color=:blue, label=\"\", linewidth=4, alpha=0.8)\n",
    "\n",
    "        # SMC empirical cdf\n",
    "        cdf_sort_idx = LPD_smc[:, re_idx[g]] |> sortperm\n",
    "        plot!(LPD_smc[cdf_sort_idx, re_idx[g]],\n",
    "            weights_smc[re_idx[g]][cdf_sort_idx] |> cumsum,\n",
    "            color=:red, label=\"\", linewidth=3, linestyle=:dot, alpha=.75)\n",
    "\n",
    "        # PSIS empirical cdf\n",
    "        cdf_sort_idx = LPD_psis[:, re_idx[g]] |> sortperm\n",
    "        plot!(LPD_psis[cdf_sort_idx, re_idx[g]],\n",
    "            weights_psis[re_idx[g]][cdf_sort_idx] |> cumsum,\n",
    "            color=:green, label=\"\", linewidth=2, linestyle=:dash, alpha=1)\n",
    "        \n",
    "        if g_i == 1\n",
    "            annotate!(-157, 0.35, text(\"MCMC\", :blue, 7))\n",
    "            annotate!(-166, 0.20, text(\"SMC\", :red, 7))\n",
    "            annotate!(-144, 0.10, text(\"PSIS\", :green, 7))\n",
    "        end\n",
    "        \n",
    "        push!(plts, plot!(\n",
    "                title=\"$(COUNTIES[re_idx[g]]) (\" * L\"N_g\" * \"=$(COUNTMAP[COUNTIES[re_idx[g]]]))\",\n",
    "                legend=g == 1 ? true : false,\n",
    "                xlim=(LPD_smc[:, re_idx[g]] |> minimum, LPD_mcmc[:, re_idx[g]] |> maximum)))\n",
    "    end\n",
    "    \n",
    "    plot(plts..., layout=(n_rows, 3), size=(600,150n_rows),\n",
    "        tick_direction=:out,\n",
    "        titlefontsize=11,\n",
    "        ytickfontsize=7, yticks=0:0.25:1,\n",
    "        xtickfontsize=6, xrot=30,\n",
    "        topmargin=2Plots.mm, bottommargin=3Plots.mm,\n",
    "        xlabel=[\"\" \"\" \"\" \"\" \"Log predictive density\" \"\"],\n",
    "    )# |> display\n",
    "\n",
    "    _dir = \"img_$(SESSION)\" * (k̂_threshold == 0.7 ? \"\" : \"_threshold-$(k̂_threshold)\")\n",
    "    isdir(_dir) || mkpath(_dir) # Ensure path is present\n",
    "    savefig(joinpath(_dir, \"radon-lpd-compare.pdf\"))\n",
    "end"
   ]
  },
  {
   "cell_type": "markdown",
   "id": "fa287ffd-24c0-4e80-bccc-1fdfa0d3403e",
   "metadata": {},
   "source": [
    "## Distributions"
   ]
  },
  {
   "cell_type": "code",
   "execution_count": null,
   "id": "f386c856-eac5-4d39-b8fd-595b24bb78ba",
   "metadata": {},
   "outputs": [],
   "source": [
    "let\n",
    "    R, G = size(LPD_mcmc)\n",
    "    equal_weights_cumsum = cumsum(fill(1/R, R))\n",
    "    COUNTIES = unique(df.county)\n",
    "    COUNTMAP = countmap(df.county)\n",
    "    re_idx = sortperm([sum(df.county .== g) for g in COUNTIES], rev=true)\n",
    "    \n",
    "    est_mcmc = _mean(LPD_mcmc; dims=1)[re_idx]\n",
    "    est_smc  = _sum(vecvec2mat(weights_smc)' .* LPD_smc; dims=1)[re_idx]\n",
    "    est_psis = _sum(vecvec2mat(weights_psis)' .* LPD_psis; dims=1)[re_idx]\n",
    "    \n",
    "    loss_smc = abs.(est_mcmc - est_smc)\n",
    "    loss_psis = abs.(est_mcmc - est_psis)\n",
    "    \n",
    "    plot(data.N_g[re_idx], loss_smc, color=:red,\n",
    "        ms=4, mswidth=0, label=\"\", alpha=1, markershape=:o, linestyle=:solid)\n",
    "    plot!(data.N_g[re_idx], loss_psis, color=:green,\n",
    "        ms=4, mswidth=0, label=\"\", alpha=0.5, markershape=:square, linestyle=:solid)\n",
    "\n",
    "    for i in 1:6\n",
    "        _x = data.N_g[re_idx[i]]\n",
    "        annotate!(_x, loss_psis[i], text(\"$(COUNTIES[re_idx[i]])\\n\\n\", 1 ≤ i ≤ 3 ? 7 : 6))\n",
    "\n",
    "        if i == 1\n",
    "            annotate!(_x + 3, loss_smc[i] + 0.4, text(\"SMC-LGO   \", 10, :right, :red))\n",
    "            annotate!(_x + 3, loss_psis[i], text(\"\\n\\n\\nPSIS-LGO   \", 10, :right, :green))\n",
    "        end\n",
    "    end\n",
    "    plt_loss = plot!(xlim=(0, 1.1maximum(data.N_g)), ylim=(0, 1.1maximum([loss_psis; loss_smc])))\n",
    "\n",
    "    # k̂_threshold = 0.7\n",
    "    histories = load(joinpath(\"output\", \"radon\", \"smc\", \"histories_threshold-$(k̂_threshold).jld\"))[\"data\"]\n",
    "    \n",
    "    plot()\n",
    "    select_idx = [1:6; -1; Int.(round.(LinRange(6, data.G, 4+1)[2:end]))]\n",
    "    #for (g, (i, history)) in enumerate(zip(select_idx, histories[re_idx][select_idx]))\n",
    "    for (i, g) in enumerate(select_idx)\n",
    "        g == -1 && continue\n",
    "        history = histories[re_idx[g]]\n",
    "        for ℓ in history\n",
    "            if 0 < ℓ < 1\n",
    "                if g <= 2\n",
    "                    annotate!(ℓ, i + 0.50, text(\"$(round(ℓ; digits=2))\"[2:end], :right, :black, :bottom, 7, rotation=30))\n",
    "                else\n",
    "                    annotate!(ℓ, i + 0.5, text(\"$(round(ℓ; digits=2)) \"[2:end], :right, :black, :center, 7))\n",
    "                end\n",
    "            end\n",
    "        end\n",
    "        scatter!(history, repeat([i], length(history)), ms=4, mswidth=0.1, color=:red, label=\"\")\n",
    "    end\n",
    "\n",
    "    _offset = 0.000\n",
    "    plot!(\n",
    "        xlim=(0-_offset, 1+_offset),\n",
    "        xticks=(\n",
    "            [0, 0.5, 1],\n",
    "            [L\"\\varphi = 0\" * \"\\n(Baseline)\", L\"\\rightarrow\", L\"\\varphi = 1\" * \"\\n(Leave-group-out)\"]\n",
    "        ),\n",
    "        yticks=Tuple(eachcol(vcat([permutedims([i, prod([COUNTIES[re_idx[g]], \" (\", L\"N_g\", \"=\", \"$(COUNTMAP[COUNTIES[re_idx[g]]]))\"])]) for (i, g) in enumerate(select_idx) if g != -1]...))),\n",
    "        ymirror=true, ytickfontsize=8,\n",
    "        framestyle=:box,\n",
    "        yflip=true\n",
    "    )\n",
    "    plt_dist = annotate!(1.3, 6+1, text(L\"\\vdots\", 9))\n",
    "\n",
    "    plot(plt_loss, plt_dist, layout=grid(1,2,widths=[0.6,0.4]), size=(650,250),\n",
    "        title=[\"Absolute error\" repeat(\" \", 10) * \"SMC-LGO adaptive paths\"], #titlefontsize=14,\n",
    "        xlabel=[\"Within-group observations \" * L\"N_g\" \"\"], xlabelfontsize=10,\n",
    "        rightmargin=[3Plots.mm 0Plots.mm], bottommargin=2Plots.mm,\n",
    "        tick_direction=:out\n",
    "    )# |> display\n",
    "\n",
    "    _dir = \"img_$(SESSION)\" * (k̂_threshold == 0.7 ? \"\" : \"_threshold-$(k̂_threshold)\")\n",
    "    isdir(_dir) || mkpath(_dir) # Ensure path is present\n",
    "    savefig(joinpath(_dir, \"radon-lpd-error.pdf\"))\n",
    "end"
   ]
  },
  {
   "cell_type": "markdown",
   "id": "6d44bc34-a2f1-42bc-aa4b-367ee1f468b6",
   "metadata": {},
   "source": [
    "## Runtime"
   ]
  },
  {
   "cell_type": "code",
   "execution_count": null,
   "id": "6216e5cd-b240-4f87-9572-60ebd94d618c",
   "metadata": {},
   "outputs": [],
   "source": [
    "let\n",
    "    # k̂_threshold = 0.7\n",
    "    time_mcmc = load(joinpath(\"output\", \"radon\", \"mcmc\",\n",
    "            \"times_naive-lgo.jld\"))[\"data\"] / 60\n",
    "    time_smc  = load(joinpath(\"output\", \"radon\", \"smc\",\n",
    "            \"times_threshold-$(k̂_threshold).jld\"))[\"data\"] / 60\n",
    "    time_psis = load(joinpath(\"output\", \"radon\", \"psis\",\n",
    "            \"times_threshold-$(0.7).jld\"))[\"data\"] / 60\n",
    "    \n",
    "    re_idx = time_mcmc |> sortperm\n",
    "    time_mcmc = time_mcmc[re_idx]\n",
    "    time_smc  = time_smc[re_idx]\n",
    "    time_psis = time_psis[re_idx]\n",
    "\n",
    "    COUNTIES = unique(df.county)[re_idx]\n",
    "    COUNTMAP = df.county |> countmap\n",
    "\n",
    "    plot(time_mcmc, markershape=:o, ms=2, mswidth=0, color=:blue)\n",
    "    plot!(time_psis, markershape=:o, ms=2, mswidth=0, color=:green)\n",
    "    plot!(time_smc, markershape=:o, ms=2, mswidth=0, color=:red)\n",
    "    \n",
    "    annotate!(data.G + 1, time_mcmc[end], text(\"MCMC-LGO\", :blue, :left, 9))\n",
    "    annotate!(data.G + 1, time_smc[end] + 2, text(\"SMC-LGO\", :red, :left, 9))\n",
    "    annotate!(data.G + 1, time_psis[end] + 1.3, text(\"PSIS-LGO\", :green, :left, 9))\n",
    "\n",
    "    \n",
    "    histories = load(joinpath(\"output\", \"radon\", \"smc\",\n",
    "            \"histories_threshold-$(k̂_threshold).jld\"))[\"data\"]\n",
    "    for (g, history) in enumerate(histories[re_idx])\n",
    "        L_g = length(history) - 1\n",
    "        if L_g == 1\n",
    "            # annotate!(g, time_smc[g] - 0.1, text(L_g-1, :red, :top, 5))\n",
    "        else\n",
    "            annotate!(g, time_smc[g], text(L_g-1, :black, 7))\n",
    "        end\n",
    "    end\n",
    "    plot!(tick_direction=:out,\n",
    "        ylim=(0, maximum([time_mcmc; time_smc; time_psis])),\n",
    "        xticks=sort(unique([0:5:data.G; 1; data.G][2:end])),\n",
    "        xlabel=\"County (reordered)\", title=\"Runtime [min.]\",\n",
    "        legend=false, size=(600, 250),\n",
    "        rightmargin=15Plots.mm, bottommargin=3Plots.mm\n",
    "    )\n",
    "    \n",
    "    _dir = \"img_$(SESSION)\" * (k̂_threshold == 0.7 ? \"\" : \"_threshold-$(k̂_threshold)\")\n",
    "    isdir(_dir) || mkpath(_dir) # Ensure path is present\n",
    "    savefig(joinpath(_dir, \"radon-runtime.pdf\"))\n",
    "end"
   ]
  }
 ],
 "metadata": {
  "kernelspec": {
   "display_name": "Julia (8 threads) 1.10.4",
   "language": "julia",
   "name": "julia-_8-threads_-1.10"
  },
  "language_info": {
   "file_extension": ".jl",
   "mimetype": "application/julia",
   "name": "julia",
   "version": "1.10.4"
  }
 },
 "nbformat": 4,
 "nbformat_minor": 5
}
