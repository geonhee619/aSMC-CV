{
 "cells": [
  {
   "cell_type": "code",
   "execution_count": 1,
   "id": "4bccae1c-df4c-4572-b9a2-3d6144c727a6",
   "metadata": {},
   "outputs": [
    {
     "name": "stdout",
     "output_type": "stream",
     "text": [
      "Julia Version 1.10.4\n",
      "Commit 48d4fd4843 (2024-06-04 10:41 UTC)\n",
      "Build Info:\n",
      "  Official https://julialang.org/ release\n",
      "Platform Info:\n",
      "  OS: Windows (x86_64-w64-mingw32)\n",
      "  CPU: 24 × 12th Gen Intel(R) Core(TM) i9-12900K\n",
      "  WORD_SIZE: 64\n",
      "  LIBM: libopenlibm\n",
      "  LLVM: libLLVM-15.0.7 (ORCJIT, alderlake)\n",
      "Threads: 8 default, 0 interactive, 4 GC (on 24 virtual cores)\n",
      "Environment:\n",
      "  JULIA_NUM_THREADS = 8\n"
     ]
    }
   ],
   "source": [
    "versioninfo()"
   ]
  },
  {
   "cell_type": "code",
   "execution_count": 2,
   "id": "fb62982b-4699-4b45-9587-98ed53b8a211",
   "metadata": {},
   "outputs": [
    {
     "name": "stdout",
     "output_type": "stream",
     "text": [
      "\u001b[32m\u001b[1mStatus\u001b[22m\u001b[39m `C:\\Users\\o6m1g\\.julia\\environments\\v1.10\\Project.toml`\n",
      "  \u001b[90m[99985d1d] \u001b[39mAbstractGPs v0.5.21\n",
      "\u001b[32m⌃\u001b[39m \u001b[90m[c75e803d] \u001b[39mAdaptiveRejectionSampling v0.1.2\n",
      "\u001b[33m⌅\u001b[39m \u001b[90m[0bf59076] \u001b[39mAdvancedHMC v0.5.5\n",
      "\u001b[33m⌅\u001b[39m \u001b[90m[5b7e9947] \u001b[39mAdvancedMH v0.7.5\n",
      "  \u001b[90m[488c2830] \u001b[39mBSplines v0.3.3\n",
      "  \u001b[90m[0a1fb500] \u001b[39mBlockDiagonals v0.1.42\n",
      "\u001b[32m⌃\u001b[39m \u001b[90m[c88b6f0a] \u001b[39mBridgeStan v2.5.0\n",
      "\u001b[32m⌃\u001b[39m \u001b[90m[336ed68f] \u001b[39mCSV v0.10.14\n",
      "  \u001b[90m[aaaa29a8] \u001b[39mClustering v0.15.7\n",
      "  \u001b[90m[8f4d0f93] \u001b[39mConda v1.10.2\n",
      "\u001b[32m⌃\u001b[39m \u001b[90m[a93c6f00] \u001b[39mDataFrames v1.6.1\n",
      "  \u001b[90m[055956cb] \u001b[39mDiffEqPhysics v3.15.0\n",
      "\u001b[32m⌃\u001b[39m \u001b[90m[0c46a032] \u001b[39mDifferentialEquations v7.10.0\n",
      "\u001b[32m⌃\u001b[39m \u001b[90m[31c24e10] \u001b[39mDistributions v0.25.109\n",
      "  \u001b[90m[251d5f9e] \u001b[39mEvalMetrics v0.3.0\n",
      "  \u001b[90m[cc61a311] \u001b[39mFLoops v0.2.2\n",
      "\u001b[32m⌃\u001b[39m \u001b[90m[587475ba] \u001b[39mFlux v0.14.16\n",
      "  \u001b[90m[38e38edf] \u001b[39mGLM v1.9.0\n",
      "  \u001b[90m[bd48cda9] \u001b[39mGraphRecipes v0.5.13\n",
      "\u001b[32m⌃\u001b[39m \u001b[90m[34004b35] \u001b[39mHypergeometricFunctions v0.3.23\n",
      "\u001b[32m⌃\u001b[39m \u001b[90m[09f84164] \u001b[39mHypothesisTests v0.11.0\n",
      "\u001b[32m⌃\u001b[39m \u001b[90m[7073ff75] \u001b[39mIJulia v1.25.0\n",
      "  \u001b[90m[4138dd39] \u001b[39mJLD v0.13.5\n",
      "  \u001b[90m[682c06a0] \u001b[39mJSON v0.21.4\n",
      "\u001b[32m⌃\u001b[39m \u001b[90m[b964fa9f] \u001b[39mLaTeXStrings v1.3.1\n",
      "\u001b[32m⌃\u001b[39m \u001b[90m[6fdf6af0] \u001b[39mLogDensityProblems v2.1.1\n",
      "  \u001b[90m[10e44e05] \u001b[39mMATLAB v0.8.4\n",
      "\u001b[32m⌃\u001b[39m \u001b[90m[c7f686f2] \u001b[39mMCMCChains v5.7.1\n",
      "\u001b[32m⌃\u001b[39m \u001b[90m[86f7a689] \u001b[39mNamedArrays v0.10.2\n",
      "\u001b[32m⌃\u001b[39m \u001b[90m[bac558e1] \u001b[39mOrderedCollections v1.6.3\n",
      "\u001b[32m⌃\u001b[39m \u001b[90m[ce719bf2] \u001b[39mPSIS v0.9.5\n",
      "  \u001b[90m[d96e819e] \u001b[39mParameters v0.12.3\n",
      "\u001b[32m⌃\u001b[39m \u001b[90m[91a5bcdd] \u001b[39mPlots v1.40.5\n",
      "  \u001b[90m[5d96170c] \u001b[39mPolyaGammaDistribution v0.1.0\n",
      "  \u001b[90m[92933f4c] \u001b[39mProgressMeter v1.10.2\n",
      "  \u001b[90m[438e738f] \u001b[39mPyCall v1.96.4\n",
      "\u001b[32m⌃\u001b[39m \u001b[90m[6f49c342] \u001b[39mRCall v0.14.4\n",
      "  \u001b[90m[df47a6cb] \u001b[39mRData v1.0.0\n",
      "  \u001b[90m[37e2e3b7] \u001b[39mReverseDiff v1.15.3\n",
      "\u001b[32m⌃\u001b[39m \u001b[90m[f2b01f46] \u001b[39mRoots v2.1.6\n",
      "\u001b[32m⌃\u001b[39m \u001b[90m[276daf66] \u001b[39mSpecialFunctions v2.4.0\n",
      "\u001b[33m⌅\u001b[39m \u001b[90m[2913bbd2] \u001b[39mStatsBase v0.33.21\n",
      "\u001b[33m⌅\u001b[39m \u001b[90m[4c63d2b9] \u001b[39mStatsFuns v0.9.18\n",
      "  \u001b[90m[f3b207a7] \u001b[39mStatsPlots v0.15.7\n",
      "\u001b[32m⌃\u001b[39m \u001b[90m[fce5fe82] \u001b[39mTuring v0.28.3\n",
      "  \u001b[90m[ade2ca70] \u001b[39mDates\n",
      "  \u001b[90m[37e2e46d] \u001b[39mLinearAlgebra\n",
      "  \u001b[90m[9a3f8284] \u001b[39mRandom\n",
      "  \u001b[90m[9e88b42a] \u001b[39mSerialization\n",
      "  \u001b[90m[2f01184e] \u001b[39mSparseArrays v1.10.0\n",
      "\u001b[36m\u001b[1mInfo\u001b[22m\u001b[39m Packages marked with \u001b[32m⌃\u001b[39m and \u001b[33m⌅\u001b[39m have new versions available. Those with \u001b[32m⌃\u001b[39m may be upgradable, but those with \u001b[33m⌅\u001b[39m are restricted by compatibility constraints from upgrading. To see why use `status --outdated`\n"
     ]
    }
   ],
   "source": [
    "using Pkg; Pkg.status()"
   ]
  },
  {
   "cell_type": "markdown",
   "id": "5c88242f-5bf1-4038-bd52-9e887fd2cd63",
   "metadata": {},
   "source": [
    "# Packages"
   ]
  },
  {
   "cell_type": "code",
   "execution_count": 3,
   "id": "092e6558-7e58-465e-b4af-6b888ac0e4af",
   "metadata": {},
   "outputs": [],
   "source": [
    "include(\"Init.jl\")"
   ]
  },
  {
   "cell_type": "code",
   "execution_count": 4,
   "id": "9870d2ef-ab0e-4f74-a1fb-7e2417d236e2",
   "metadata": {},
   "outputs": [],
   "source": [
    "using Turing"
   ]
  },
  {
   "cell_type": "markdown",
   "id": "5e6f922e-4f98-44b9-9fbe-2eadb2b7fbfe",
   "metadata": {},
   "source": [
    "# Examples"
   ]
  },
  {
   "cell_type": "markdown",
   "id": "28bf4394-b6e5-4e9b-a93f-5556e4ceffe4",
   "metadata": {},
   "source": [
    "## Radon"
   ]
  },
  {
   "cell_type": "code",
   "execution_count": 5,
   "id": "4531d2e0-5f86-47c3-8ea9-ee709d974f17",
   "metadata": {
    "scrolled": true
   },
   "outputs": [],
   "source": [
    "df = CSV.read(\"data/radon/radon.csv\", DataFrame);"
   ]
  },
  {
   "cell_type": "code",
   "execution_count": 6,
   "id": "42861085-42b5-4111-96f4-2ba7c87e5c98",
   "metadata": {},
   "outputs": [
    {
     "data": {
      "text/html": [
       "<div><div style = \"float: left;\"><span>4×4 DataFrame</span></div><div style = \"clear: both;\"></div></div><div class = \"data-frame\" style = \"overflow-x: scroll;\"><table class = \"data-frame\" style = \"margin-bottom: 6px;\"><thead><tr class = \"header\"><th class = \"rowNumber\" style = \"font-weight: bold; text-align: right;\">Row</th><th style = \"text-align: left;\">log_radon</th><th style = \"text-align: left;\">floor</th><th style = \"text-align: left;\">log_u</th><th style = \"text-align: left;\">county</th></tr><tr class = \"subheader headerLastRow\"><th class = \"rowNumber\" style = \"font-weight: bold; text-align: right;\"></th><th title = \"Float64\" style = \"text-align: left;\">Float64</th><th title = \"Int64\" style = \"text-align: left;\">Int64</th><th title = \"Float64\" style = \"text-align: left;\">Float64</th><th title = \"String31\" style = \"text-align: left;\">String31</th></tr></thead><tbody><tr><td class = \"rowNumber\" style = \"font-weight: bold; text-align: right;\">1</td><td style = \"text-align: right;\">1.43508</td><td style = \"text-align: right;\">0</td><td style = \"text-align: right;\">0.165862</td><td style = \"text-align: left;\">MARTIN</td></tr><tr><td class = \"rowNumber\" style = \"font-weight: bold; text-align: right;\">2</td><td style = \"text-align: right;\">1.02962</td><td style = \"text-align: right;\">0</td><td style = \"text-align: right;\">-0.418054</td><td style = \"text-align: left;\">RAMSEY</td></tr><tr><td class = \"rowNumber\" style = \"font-weight: bold; text-align: right;\">3</td><td style = \"text-align: right;\">0.262364</td><td style = \"text-align: right;\">0</td><td style = \"text-align: right;\">-0.418054</td><td style = \"text-align: left;\">RAMSEY</td></tr><tr><td class = \"rowNumber\" style = \"font-weight: bold; text-align: right;\">4</td><td style = \"text-align: right;\">1.28093</td><td style = \"text-align: right;\">0</td><td style = \"text-align: right;\">-0.418054</td><td style = \"text-align: left;\">RAMSEY</td></tr></tbody></table></div>"
      ],
      "text/latex": [
       "\\begin{tabular}{r|cccc}\n",
       "\t& log\\_radon & floor & log\\_u & county\\\\\n",
       "\t\\hline\n",
       "\t& Float64 & Int64 & Float64 & String31\\\\\n",
       "\t\\hline\n",
       "\t1 & 1.43508 & 0 & 0.165862 & MARTIN \\\\\n",
       "\t2 & 1.02962 & 0 & -0.418054 & RAMSEY \\\\\n",
       "\t3 & 0.262364 & 0 & -0.418054 & RAMSEY \\\\\n",
       "\t4 & 1.28093 & 0 & -0.418054 & RAMSEY \\\\\n",
       "\\end{tabular}\n"
      ],
      "text/plain": [
       "\u001b[1m4×4 DataFrame\u001b[0m\n",
       "\u001b[1m Row \u001b[0m│\u001b[1m log_radon \u001b[0m\u001b[1m floor \u001b[0m\u001b[1m log_u     \u001b[0m\u001b[1m county   \u001b[0m\n",
       "     │\u001b[90m Float64   \u001b[0m\u001b[90m Int64 \u001b[0m\u001b[90m Float64   \u001b[0m\u001b[90m String31 \u001b[0m\n",
       "─────┼───────────────────────────────────────\n",
       "   1 │  1.43508       0   0.165862  MARTIN\n",
       "   2 │  1.02962       0  -0.418054  RAMSEY\n",
       "   3 │  0.262364      0  -0.418054  RAMSEY\n",
       "   4 │  1.28093       0  -0.418054  RAMSEY"
      ]
     },
     "execution_count": 6,
     "metadata": {},
     "output_type": "execute_result"
    }
   ],
   "source": [
    "first(df, 4)"
   ]
  },
  {
   "cell_type": "code",
   "execution_count": 7,
   "id": "41f98ccf-9900-4e9a-973a-cf063fb75bd3",
   "metadata": {},
   "outputs": [],
   "source": [
    "struct Data_Radon\n",
    "    y::Vector{Float64}\n",
    "    X::Matrix{Float64}\n",
    "    U::Matrix{Float64}\n",
    "    county::Vector{Int64}\n",
    "    N::Int64\n",
    "    G::Int64\n",
    "    N_g::Vector{Int64}\n",
    "end"
   ]
  },
  {
   "cell_type": "code",
   "execution_count": 8,
   "id": "0b6254f3-7486-488a-8585-679233254391",
   "metadata": {
    "scrolled": true
   },
   "outputs": [
    {
     "data": {
      "text/plain": [
       "Data_Radon([1.4350845252893225, 1.0296194171811583, 0.26236426446749106, 1.2809338454620642, 1.7227665977411035, 1.7227665977411035, 0.26236426446749106, 1.6094379124341003, 1.410986973710262, 1.2809338454620642  …  1.3350010667323402, -0.5108256237659907, 0.09531017980432493, 0.4054651081081644, -0.6931471805599453, -0.5108256237659907, 0.5306282510621705, 0.0, 2.2192034840549946, 0.8329091229351041], [1.0 0.0; 1.0 0.0; … ; 1.0 1.0; 1.0 1.0], [1.0 0.16586183575526953; 1.0 -0.418053510614464; … ; 1.0 -0.7518722327017873; 1.0 -0.6633476306014291], [1, 2, 2, 2, 2, 2, 2, 2, 2, 2  …  56, 13, 51, 52, 13, 13, 13, 13, 15, 82], 919, 85, [7, 32, 5, 3, 3, 6, 4, 4, 2, 11  …  12, 6, 5, 4, 4, 3, 4, 5, 3, 11])"
      ]
     },
     "execution_count": 8,
     "metadata": {},
     "output_type": "execute_result"
    }
   ],
   "source": [
    "let\n",
    "    X = [ones(size(df, 1)) df.floor]\n",
    "    y = df.log_radon\n",
    "\n",
    "    N = length(y)\n",
    "    G = df.county |> unique |> length\n",
    "\n",
    "    @assert length(unique(df.log_u)) == length(unique(df.county)) == 85\n",
    "    \n",
    "    u = unique(df.log_u)\n",
    "    U = [ones(85) u]\n",
    "\n",
    "    county_dict = Dict(g => g_i for (g_i, (g, u_g)) in zip(unique(df.county), unique(df.log_u)) |> enumerate)\n",
    "    county = [county_dict[g] for g in df.county]\n",
    "    \n",
    "    N_g = sum(df.county .== permutedims(unique(df.county)); dims=1) |> vec\n",
    "    \n",
    "    global data = Data_Radon(y, X, U, county, N, G, N_g)\n",
    "end"
   ]
  },
  {
   "cell_type": "markdown",
   "id": "9d4a488f-5220-455d-921e-bc9a43f613f6",
   "metadata": {},
   "source": [
    "### Initial draw"
   ]
  },
  {
   "cell_type": "code",
   "execution_count": 9,
   "id": "7e4a5200-e247-4b84-bcfe-c6e7a63b40ac",
   "metadata": {},
   "outputs": [
    {
     "data": {
      "text/plain": [
       "Model (generic function with 2 methods)"
      ]
     },
     "execution_count": 9,
     "metadata": {},
     "output_type": "execute_result"
    }
   ],
   "source": [
    "@model function Model(\n",
    "        data::Data_Radon,\n",
    "        leave_g::Int64,\n",
    "        ϕ::Union{Float64, Int64},\n",
    "    )\n",
    "    Γ ~ filldist(Normal(), 2, 2)\n",
    "    v_β ~ filldist(Exponential(), 2)\n",
    "    v_y ~ Exponential()\n",
    "    \n",
    "    β = Vector(undef, data.G)\n",
    "    for g in 1:data.G\n",
    "        β[g] ~ MvNormal(Γ * data.U[g,:], v_β |> Diagonal)\n",
    "    end\n",
    "    \n",
    "    for i in 1:data.N\n",
    "        _power = data.county[i] == leave_g ? (1 - ϕ) : 1\n",
    "        Turing.@addlogprob! _power * logpdf(Normal(data.X[i,:]' * β[data.county[i]], v_y), data.y[i])\n",
    "    end\n",
    "    \n",
    "    (; Γ, v_β, v_y, β)\n",
    "end"
   ]
  },
  {
   "cell_type": "code",
   "execution_count": 10,
   "id": "486eefda-6b46-4ab0-97f0-1f7e6f63ac2a",
   "metadata": {},
   "outputs": [
    {
     "name": "stderr",
     "output_type": "stream",
     "text": [
      "\u001b[33m\u001b[1m┌ \u001b[22m\u001b[39m\u001b[33m\u001b[1mWarning: \u001b[22m\u001b[39mProgressMeter by default refresh meters with additional information in IJulia via `IJulia.clear_output`, which clears all outputs in the cell. \n",
      "\u001b[33m\u001b[1m│ \u001b[22m\u001b[39m - To prevent this behaviour, do `ProgressMeter.ijulia_behavior(:append)`. \n",
      "\u001b[33m\u001b[1m│ \u001b[22m\u001b[39m - To disable this warning message, do `ProgressMeter.ijulia_behavior(:clear)`.\n",
      "\u001b[33m\u001b[1m└ \u001b[22m\u001b[39m\u001b[90m@ ProgressMeter C:\\Users\\o6m1g\\.julia\\packages\\ProgressMeter\\kVZZH\\src\\ProgressMeter.jl:594\u001b[39m\n",
      "\u001b[32mSampling 100%|███████████████████████████████| Time: 0:06:56\u001b[39m\n",
      "\u001b[34m  iterations:                                   2000\u001b[39m\n",
      "\u001b[34m  ratio_divergent_transitions:                  0.0\u001b[39m\n",
      "\u001b[34m  ratio_divergent_transitions_during_adaption:  0.02\u001b[39m\n",
      "\u001b[34m  n_steps:                                      15\u001b[39m\n",
      "\u001b[34m  is_accept:                                    true\u001b[39m\n",
      "\u001b[34m  acceptance_rate:                              0.9682197285021872\u001b[39m\n",
      "\u001b[34m  log_density:                                  -969.119280532602\u001b[39m\n",
      "\u001b[34m  hamiltonian_energy:                           1061.4270246000137\u001b[39m\n",
      "\u001b[34m  hamiltonian_energy_error:                     -0.5500917671806747\u001b[39m\n",
      "\u001b[34m  max_hamiltonian_energy_error:                 -0.5500917671806747\u001b[39m\n",
      "\u001b[34m  tree_depth:                                   4\u001b[39m\n",
      "\u001b[34m  numerical_error:                              false\u001b[39m\n",
      "\u001b[34m  step_size:                                    0.22891942809867077\u001b[39m\n",
      "\u001b[34m  nom_step_size:                                0.22891942809867077\u001b[39m\n",
      "\u001b[34m  is_adapt:                                     false\u001b[39m\n",
      "\u001b[34m  mass_matrix:                                  DiagEuclideanMetric([0.001349699204909727, 0.00 ...])\u001b[39m\n",
      "\u001b[36m\u001b[1m┌ \u001b[22m\u001b[39m\u001b[36m\u001b[1mInfo: \u001b[22m\u001b[39mFinished 2000 sampling steps for 1 chains in 416.3276889 (s)\n",
      "\u001b[36m\u001b[1m│ \u001b[22m\u001b[39m  h = Hamiltonian(metric=DiagEuclideanMetric([0.001349699204909727, 0.00 ...]), kinetic=GaussianKinetic())\n",
      "\u001b[36m\u001b[1m│ \u001b[22m\u001b[39m  κ = HMCKernel{AdvancedHMC.FullMomentumRefreshment, Trajectory{MultinomialTS, Leapfrog{Float64}, GeneralisedNoUTurn{Float64}}}(AdvancedHMC.FullMomentumRefreshment(), Trajectory{MultinomialTS}(integrator=Leapfrog(ϵ=0.229), tc=GeneralisedNoUTurn{Float64}(10, 1000.0)))\n",
      "\u001b[36m\u001b[1m│ \u001b[22m\u001b[39m  EBFMI_est = 0.12718835720679\n",
      "\u001b[36m\u001b[1m└ \u001b[22m\u001b[39m  average_acceptance_rate = 0.820774621039484\n"
     ]
    }
   ],
   "source": [
    "let\n",
    "    _model = Model(data, -1, 0)\n",
    "    \n",
    "    ℓπ = LogDensityFunction(_model)\n",
    "    DynamicPPL.link!!(ℓπ.varinfo, _model)\n",
    "    \n",
    "    D = LogDensityProblems.dimension(ℓπ)\n",
    "    metric = DiagEuclideanMetric(D)\n",
    "    hamiltonian = Hamiltonian(metric, ℓπ)\n",
    "    \n",
    "    n_samples, n_burn, n_adapts = 1_000, 1_000, 1_000\n",
    "    initial_θ = ones(D)\n",
    "    initial_ϵ = find_good_stepsize(hamiltonian, initial_θ)\n",
    "    integrator = Leapfrog(initial_ϵ)\n",
    "    \n",
    "    # kernel = HMCKernel(Trajectory{EndPointTS}(integrator, FixedNSteps(125)))\n",
    "    # adaptor = NoAdaptation()\n",
    "    kernel = HMCKernel(Trajectory{MultinomialTS}(integrator, GeneralisedNoUTurn()))\n",
    "    adaptor = StanHMCAdaptor(MassMatrixAdaptor(metric), StepSizeAdaptor(0.8, integrator))\n",
    "    \n",
    "    samples, stats = sample(hamiltonian, kernel, initial_θ, n_samples + n_burn, adaptor, n_adapts; progress=true)\n",
    "\n",
    "    global chain = samples[n_burn+1:1:end] .|> inverse(bijector(_model))\n",
    "end;"
   ]
  },
  {
   "cell_type": "markdown",
   "id": "f7986ddc-c508-4c43-80c3-d4ae3ab892bf",
   "metadata": {},
   "source": [
    "### Naive LGO"
   ]
  },
  {
   "cell_type": "code",
   "execution_count": 92,
   "id": "58d48575-a939-4cd0-a09d-c6d615ddb5c4",
   "metadata": {},
   "outputs": [
    {
     "name": "stderr",
     "output_type": "stream",
     "text": [
      "\u001b[33m\u001b[1m┌ \u001b[22m\u001b[39m\u001b[33m\u001b[1mWarning: \u001b[22m\u001b[39mProgressMeter by default refresh meters with additional information in IJulia via `IJulia.clear_output`, which clears all outputs in the cell. \n",
      "\u001b[33m\u001b[1m│ \u001b[22m\u001b[39m - To prevent this behaviour, do `ProgressMeter.ijulia_behavior(:append)`. \n",
      "\u001b[33m\u001b[1m│ \u001b[22m\u001b[39m - To disable this warning message, do `ProgressMeter.ijulia_behavior(:clear)`.\n",
      "\u001b[33m\u001b[1m└ \u001b[22m\u001b[39m\u001b[90m@ ProgressMeter C:\\Users\\o6m1g\\.julia\\packages\\ProgressMeter\\kVZZH\\src\\ProgressMeter.jl:594\u001b[39m\n",
      "\u001b[32mSampling 100%|███████████████████████████████| Time: 0:08:06\u001b[39m\n",
      "\u001b[34m  iterations:                                   2000\u001b[39m\n",
      "\u001b[34m  ratio_divergent_transitions:                  0.0\u001b[39m\n",
      "\u001b[34m  ratio_divergent_transitions_during_adaption:  0.01\u001b[39m\n",
      "\u001b[34m  n_steps:                                      15\u001b[39m\n",
      "\u001b[34m  is_accept:                                    true\u001b[39m\n",
      "\u001b[34m  acceptance_rate:                              0.8388234945849857\u001b[39m\n",
      "\u001b[34m  log_density:                                  -949.0833117966156\u001b[39m\n",
      "\u001b[34m  hamiltonian_energy:                           1024.5242371990307\u001b[39m\n",
      "\u001b[34m  hamiltonian_energy_error:                     0.2192100383840625\u001b[39m\n",
      "\u001b[34m  max_hamiltonian_energy_error:                 0.4368336279928826\u001b[39m\n",
      "\u001b[34m  tree_depth:                                   4\u001b[39m\n",
      "\u001b[34m  numerical_error:                              false\u001b[39m\n",
      "\u001b[34m  step_size:                                    0.16855632932389142\u001b[39m\n",
      "\u001b[34m  nom_step_size:                                0.16855632932389142\u001b[39m\n",
      "\u001b[34m  is_adapt:                                     false\u001b[39m\n",
      "\u001b[34m  mass_matrix:                                  DiagEuclideanMetric([0.001443300670252811, 0.00 ...])\u001b[39m\n",
      "\u001b[36m\u001b[1m┌ \u001b[22m\u001b[39m\u001b[36m\u001b[1mInfo: \u001b[22m\u001b[39mFinished 2000 sampling steps for 1 chains in 486.5427767 (s)\n",
      "\u001b[36m\u001b[1m│ \u001b[22m\u001b[39m  h = Hamiltonian(metric=DiagEuclideanMetric([0.001443300670252811, 0.00 ...]), kinetic=GaussianKinetic())\n",
      "\u001b[36m\u001b[1m│ \u001b[22m\u001b[39m  κ = HMCKernel{AdvancedHMC.FullMomentumRefreshment, Trajectory{MultinomialTS, Leapfrog{Float64}, GeneralisedNoUTurn{Float64}}}(AdvancedHMC.FullMomentumRefreshment(), Trajectory{MultinomialTS}(integrator=Leapfrog(ϵ=0.169), tc=GeneralisedNoUTurn{Float64}(10, 1000.0)))\n",
      "\u001b[36m\u001b[1m│ \u001b[22m\u001b[39m  EBFMI_est = 0.1605196066598292\n",
      "\u001b[36m\u001b[1m└ \u001b[22m\u001b[39m  average_acceptance_rate = 0.840890063746786\n"
     ]
    }
   ],
   "source": [
    "times_radon = Float64[]\n",
    "\n",
    "for leave_g in 1:data.G\n",
    "    @info \"Leaving g=$(leave_g) out\"\n",
    "    _model = Model(data, leave_g, 1)\n",
    "\n",
    "    ℓπ = LogDensityFunction(_model)\n",
    "    DynamicPPL.link!!(ℓπ.varinfo, _model)\n",
    "    \n",
    "    D = LogDensityProblems.dimension(ℓπ)\n",
    "    metric = DiagEuclideanMetric(D)\n",
    "    hamiltonian = Hamiltonian(metric, ℓπ)\n",
    "    \n",
    "    n_samples, n_burn, n_adapts = 1_000, 1_000, 1_000\n",
    "    initial_θ = ones(D)\n",
    "    initial_ϵ = find_good_stepsize(hamiltonian, initial_θ)\n",
    "    integrator = Leapfrog(initial_ϵ)\n",
    "    \n",
    "    # kernel = HMCKernel(Trajectory{EndPointTS}(integrator, FixedNSteps(125)))\n",
    "    # adaptor = NoAdaptation()\n",
    "    kernel = HMCKernel(Trajectory{MultinomialTS}(integrator, GeneralisedNoUTurn()))\n",
    "    adaptor = StanHMCAdaptor(MassMatrixAdaptor(metric), StepSizeAdaptor(0.8, integrator))\n",
    "    \n",
    "    time = @elapsed samples, stats = sample(hamiltonian, kernel, initial_θ, n_samples + n_burn, adaptor, n_adapts; progress=true)\n",
    "    push!(times_radon, time)\n",
    "    save(\"output/radon/times_radon_mcmc.jld\", \"data\", times_radon)\n",
    "    \n",
    "    chain = samples[n_burn+1:1:end] .|> inverse(bijector(_model))\n",
    "    save(\"output/radon/chain_radon_lgo-$(leave_g).jld\", \"data\", chain)\n",
    "end"
   ]
  },
  {
   "cell_type": "markdown",
   "id": "16d2176b-0d4b-4e81-b888-124f4f9b1c66",
   "metadata": {},
   "source": [
    "### SMC-LGO"
   ]
  },
  {
   "cell_type": "code",
   "execution_count": 10,
   "id": "dbeac892-c560-48c3-b444-867dcd848bda",
   "metadata": {},
   "outputs": [],
   "source": [
    "# save(\"output/radon/chain_radon.jld\", \"data\", chain)\n",
    "chain = load(\"output/radon/chain_radon.jld\")[\"data\"];"
   ]
  },
  {
   "cell_type": "code",
   "execution_count": 11,
   "id": "fdbc8b0d-bf33-4e91-ae4c-7889960bbb0b",
   "metadata": {},
   "outputs": [
    {
     "data": {
      "text/plain": [
       "SMCS_Radon (generic function with 1 method)"
      ]
     },
     "execution_count": 11,
     "metadata": {},
     "output_type": "execute_result"
    }
   ],
   "source": [
    "function SMCS_Radon(chain::Vector{Vector{Float64}}, leave_g::Int64)\n",
    "    model = Model(data, leave_g, 0)\n",
    "    draws_0 = chain .|> bijector(model) |> vecvec2mat # unconstrain\n",
    "    \n",
    "    # Define problem dimensions\n",
    "    R = size(draws_0, 1)\n",
    "    D = size(draws_0, 2)\n",
    "    L = data.N_g[leave_g] # maximum\n",
    "    _names = sample(model, Prior(), 1).name_map.parameters .|> String\n",
    "    \n",
    "    # Obtain unconstrained prior draw\n",
    "    Θ_0 = NamedArray(\n",
    "        draws_0,\n",
    "        (1:R, _names),\n",
    "        (:n, :d),\n",
    "    )\n",
    "    \n",
    "    # Initialize containers\n",
    "    particles   = NamedArray(zeros(L+1, R, D), (0:L, 1:R, _names), (:l, :n, :d))\n",
    "    # log_weights = NamedArray(zeros(L+1, R), (0:L, 1:R), (:l, :n))\n",
    "    weights     = NamedArray(zeros(L+1, R), (0:L, 1:R), (:l, :n))\n",
    "    k̂           = nothing # NamedArray(zeros(L+1), 0:L, :l)\n",
    "    # mean_est  = NamedArray(zeros(L+1, D), (0:L, _names), (:l, :d))\n",
    "    # ESS         = NamedArray(zeros(L+1), 0:L, :l)\n",
    "    mcmc_flag   = NamedArray(zeros(L+1), 0:L, :l)\n",
    "    ϕ_history   = NamedArray(zeros(L+1), 0:L, :l)\n",
    "    \n",
    "    # Log weights normalizer\n",
    "    function _normalize(_log_w::Vector{Float64})::Vector{Float64}\n",
    "        # normalize log weights\n",
    "        _w = exp.(_log_w .- maximum(_log_w))\n",
    "        _w = _w / sum(_w)\n",
    "        _w\n",
    "    end\n",
    "\n",
    "    # ESS computer\n",
    "    function _ess(_w::Vector{Float64})::Float64\n",
    "        1 / sum(@. exp(2 * log(_w)))\n",
    "    end\n",
    "\n",
    "    # Log ratio\n",
    "    function log_G(ℓπ_0, ℓπ_1, l::Int, n::Int)::Float64\n",
    "        _particle = particles[:l => l-1, :n => n]\n",
    "        log_γ_0 = LogDensityProblems.logdensity(ℓπ_0, _particle)\n",
    "        log_γ_1 = LogDensityProblems.logdensity(ℓπ_1, _particle)\n",
    "        log_γ_1 - log_γ_0\n",
    "    end\n",
    "\n",
    "    # MCMC \n",
    "    function _move(initial_θ::Vector{Float64},\n",
    "            n_samples::Int, n_adapts::Int,\n",
    "            metric, hamiltonian, initial_ϵ)::Vector{Float64}\n",
    "        #initial_ϵ = find_good_stepsize(hamiltonian, initial_θ)\n",
    "        integrator = Leapfrog(initial_ϵ)\n",
    "        #kernel = HMCKernel(Trajectory{MultinomialTS}(integrator, GeneralisedNoUTurn()))\n",
    "        adaptor = StanHMCAdaptor(MassMatrixAdaptor(metric), StepSizeAdaptor(0.8, integrator))\n",
    "        kernel = HMCKernel(Trajectory{EndPointTS}(integrator, FixedNSteps(15)))\n",
    "        #adaptor = NoAdaptation()\n",
    "        samples, stats = sample(hamiltonian, kernel, initial_θ, n_samples, adaptor, n_adapts;\n",
    "            verbose=false, progress=false)\n",
    "        samples[end]#, stats[end]\n",
    "    end\n",
    "    \n",
    "    # Set initial values, starting index\n",
    "    particles[:l => 0] = Θ_0 # sample from prior\n",
    "    weights[:l => 0] = repeat([1/R], R)\n",
    "    ϕ_history[:l => 0] = 0.\n",
    "    \n",
    "    time = @elapsed for l in 1:L\n",
    "        # Inherit case-deleted model from previous iteration\n",
    "        model_0 = Model(data, leave_g, ϕ_history[:l => l-1])\n",
    "        ℓπ_0 = LogDensityFunction(model_0)\n",
    "        DynamicPPL.link!!(ℓπ_0.varinfo, model_0)\n",
    "\n",
    "        # Define (until ↦ ESS) map\n",
    "        function _ϕ2reff(ϕ::Union{Float64, Int64})::Float64\n",
    "            @assert 0 <= ϕ <= 1 # data.N_g[leave_g]\n",
    "            model_1 = Model(data, leave_g, ϕ)\n",
    "            ℓπ_1 = LogDensityFunction(model_1)\n",
    "            DynamicPPL.link!!(ℓπ_1.varinfo, model_1)\n",
    "            \n",
    "            _log_weights = [log_G(ℓπ_0, ℓπ_1, l, n) for n in 1:R]\n",
    "            _log_weights = _log_weights .- maximum(_log_weights)\n",
    "            \n",
    "            _ESS = _log_weights |> _normalize |> _ess\n",
    "            _ESS - 0.5R\n",
    "        end\n",
    "        \n",
    "        # Initialize next distribution parameter\n",
    "        ϕ_1 = nothing\n",
    "        \n",
    "        # Case 1: ESS is above threshold\n",
    "        if _ϕ2reff(1) > 0\n",
    "            # Define next as final distribution\n",
    "            ϕ_1 = 1\n",
    "            \n",
    "            # Compute log weights\n",
    "            model_1 = Model(data, leave_g, ϕ_1)\n",
    "            ℓπ_1 = LogDensityFunction(model_1)\n",
    "            DynamicPPL.link!!(ℓπ_1.varinfo, model_1)\n",
    "            _log_weights = [log_G(ℓπ_0, ℓπ_1, l, n) for n in 1:R]\n",
    "            _log_weights = _log_weights .- maximum(_log_weights)\n",
    "\n",
    "            # Adaptive\n",
    "            _psis = psis(_log_weights; warn=false)\n",
    "\n",
    "            # Case 1-1: PSIS\n",
    "            if _psis.pareto_shape < 0.7\n",
    "                mcmc_flag[:l => l] = false\n",
    "                @info \"ϕ=$(ϕ_1), PSIS\"\n",
    "                \n",
    "                # (a) Without resampling\n",
    "                particles[:l => l] = particles[:l => l-1]\n",
    "                weights[:l => l] = _psis.log_weights |> _normalize\n",
    "\n",
    "                # # (b) With resampling\n",
    "                # A_0 = wsample(1:R, _log_weights |> _normalize, R)\n",
    "                # particles[:l => l] = particles[:l => l-1, :n => A_0]\n",
    "                # weights[:l => l] = repeat([1/R], R)\n",
    "                \n",
    "                k̂ = _psis.pareto_shape\n",
    "                ϕ_history[:l => l] = ϕ_1\n",
    "            \n",
    "            # Case 1-2: MCMC kernel\n",
    "            else\n",
    "                mcmc_flag[:l => l] = true\n",
    "                 @info \"ϕ=$(ϕ_1), MCMC\"\n",
    "                \n",
    "                # MCMC kernel\n",
    "                A_0 = wsample(1:R, _log_weights |> _normalize, R)\n",
    "                _begin = particles[:l => l-1, :n => A_0]\n",
    "                _end = particles[:l => l, :n => 1:R] |> similar\n",
    "                metric = DiagEuclideanMetric(D)\n",
    "                hamiltonian = Hamiltonian(metric, ℓπ_1)\n",
    "                initial_ϵ = find_good_stepsize(hamiltonian, _begin[1,:])\n",
    "                \n",
    "                # @showprogress for n in 1:R\n",
    "                p = ProgressMeter.Progress(R); @Threads.threads for n in 1:R\n",
    "                    _end[n,:] = _move(_begin[n,:], 1, 1, metric, hamiltonian, initial_ϵ)\n",
    "                    ProgressMeter.next!(p)\n",
    "                end\n",
    "                \n",
    "                particles[Name(l), :, :,] = _end\n",
    "                weights[:l => l] = repeat([1/R], R)\n",
    "                ϕ_history[:l => l] = ϕ_1\n",
    "            end\n",
    "            \n",
    "            # Break loop\n",
    "            L = l\n",
    "            break\n",
    "\n",
    "        # Case 2: ESS is below threshold\n",
    "        else\n",
    "            mcmc_flag[:l => l] = true\n",
    "            \n",
    "            # Find next distribution\n",
    "            ϕ_1 = find_zero(_ϕ2reff, (ϕ_history[:l => l-1] + 1e-4, 1), xtol=0.1, maxiters=10, verbose=true)\n",
    "            @info \"Targeting ϕ=$(ϕ_1)\"\n",
    "            \n",
    "            # Compute log weights\n",
    "            model_1 = Model(data, leave_g, ϕ_1)\n",
    "            ℓπ_1 = LogDensityFunction(model_1)\n",
    "            DynamicPPL.link!!(ℓπ_1.varinfo, model_1)\n",
    "            _log_weights = [log_G(ℓπ_0, ℓπ_1, l, n) for n in 1:R]\n",
    "            _log_weights = _log_weights .- maximum(_log_weights)\n",
    "\n",
    "            # MCMC kernel\n",
    "            A_0 = wsample(1:R, _log_weights |> _normalize, R)\n",
    "            _begin = particles[:l => l-1, :n => A_0]\n",
    "            _end = particles[:l => l, :n => 1:R] |> similar\n",
    "            metric = DiagEuclideanMetric(D)\n",
    "            hamiltonian = Hamiltonian(metric, ℓπ_1)\n",
    "            initial_ϵ = find_good_stepsize(hamiltonian, _begin[1,:])\n",
    "            \n",
    "            # @showprogress for n in 1:R\n",
    "            p = ProgressMeter.Progress(R); @Threads.threads for n in 1:R\n",
    "                _end[n,:] = _move(_begin[n,:], 3, 1, metric, hamiltonian, initial_ϵ)\n",
    "                ProgressMeter.next!(p)\n",
    "            end\n",
    "            \n",
    "            particles[Name(l), :, :,] = _end\n",
    "            weights[:l => l] = repeat([1/R], R)\n",
    "            ϕ_history[:l => l] = ϕ_1\n",
    "        end\n",
    "    end\n",
    "\n",
    "    particles = particles[Name(L),:,:]\n",
    "    weights   = weights[Name(L), :]\n",
    "    mcmc_flag = mcmc_flag[Name(L)]\n",
    "    ϕ_history = ϕ_history[Name.(0:L)]\n",
    "\n",
    "    (; R, D, L, particles, weights, ϕ_history, k̂, mcmc_flag, time)\n",
    "end"
   ]
  },
  {
   "cell_type": "code",
   "execution_count": 12,
   "id": "70d89fed-a106-41bc-a35f-e330ecddf200",
   "metadata": {},
   "outputs": [
    {
     "data": {
      "text/plain": [
       "Compute_LPDs (generic function with 1 method)"
      ]
     },
     "execution_count": 12,
     "metadata": {},
     "output_type": "execute_result"
    }
   ],
   "source": [
    "function Compute_LPDs(results, leave_g::Int64; constrain=true)::Vector{Float64}\n",
    "    \n",
    "    _model = Model(data, -1, 0)\n",
    "    _names = sample(_model, Prior(), 1).name_map.parameters .|> String\n",
    "    \n",
    "    function LPD(particle)::Float64\n",
    "        particle = NamedArray(\n",
    "            constrain ? particle |> inverse(bijector(_model)) : particle,\n",
    "            _names,\n",
    "            :d\n",
    "        )\n",
    "        β = particle[:d => [\"β[$(leave_g)][$(k)]\" for k in 1:2]]\n",
    "        v_y = particle[:d => \"v_y\"]\n",
    "        logpdf(MvNormal(X_g * β, v_y * I), y_g)\n",
    "    end\n",
    "    \n",
    "    leave_g_idx = data.county .== leave_g\n",
    "    y_g, X_g = data.y[leave_g_idx], data.X[leave_g_idx,:]\n",
    "    @assert data.N_g[leave_g] == sum(leave_g_idx)\n",
    "\n",
    "    LPDs = Float64[]\n",
    "    @showprogress for n in 1:results.R\n",
    "        push!(LPDs, results[:particles][:n => n] |> LPD)\n",
    "    end\n",
    "    \n",
    "    LPDs\n",
    "end"
   ]
  },
  {
   "cell_type": "code",
   "execution_count": null,
   "id": "89a86c4d-fd3a-47cd-a8c8-940ba1c9e578",
   "metadata": {
    "scrolled": true
   },
   "outputs": [
    {
     "name": "stderr",
     "output_type": "stream",
     "text": [
      "\u001b[36m\u001b[1m[ \u001b[22m\u001b[39m\u001b[36m\u001b[1mInfo: \u001b[22m\u001b[39mLeaving g=1 out\n"
     ]
    },
    {
     "data": {
      "text/plain": [
       "Results of univariate zero finding:\n",
       "\n",
       "* Converged to: 0.5204699218749997\n",
       "* Algorithm: Bisection()\n",
       "* iterations: 10\n",
       "* function evaluations ≈ 13\n",
       "\n",
       "Trace:\n",
       "(a₀, b₀) = ( 0.010306249999999999, 1 )\n",
       "(a₁, b₁) = ( 0.103725, 1 )\n",
       "(a₂, b₂) = ( 0.33244999999999997, 1 )\n",
       "(a₃, b₃) = ( 0.33244999999999997, 0.58244999999999991 )\n",
       "(a₄, b₄) = ( 0.43683749999999993, 0.58244999999999991 )\n",
       "(a₅, b₅) = ( 0.48903124999999992, 0.58244999999999991 )\n",
       "(a₆, b₆) = ( 0.48903124999999992, 0.53025624999999987 )\n",
       "(a₇, b₇) = ( 0.50415937499999985, 0.53025624999999987 )\n",
       "(a₈, b₈) = ( 0.51720781249999981, 0.53025624999999987 )\n",
       "(a₉, b₉) = ( 0.51720781249999981, 0.52373203124999979 )\n",
       "(a₁₀, b₁₀) = ( 0.52046992187499974, 0.52373203124999979 )\n",
       "\n"
      ]
     },
     "metadata": {},
     "output_type": "display_data"
    },
    {
     "name": "stderr",
     "output_type": "stream",
     "text": [
      "\u001b[36m\u001b[1m[ \u001b[22m\u001b[39m\u001b[36m\u001b[1mInfo: \u001b[22m\u001b[39mTargeting ϕ=0.5204699218749997\n",
      "\u001b[32mProgress: 100%|█████████████████████████████████████████| Time: 0:01:33\u001b[39m\n"
     ]
    },
    {
     "data": {
      "text/plain": [
       "Results of univariate zero finding:\n",
       "\n",
       "* Converged to: 0.8724172887802122\n",
       "* Algorithm: Bisection()\n",
       "* iterations: 10\n",
       "* function evaluations ≈ 13\n",
       "\n",
       "Trace:\n",
       "(a₀, b₀) = ( 0.76028496093749987, 1 )\n",
       "(a₁, b₁) = ( 0.76028496093749987, 0.88014248046874988 )\n",
       "(a₂, b₂) = ( 0.82021372070312482, 0.88014248046874988 )\n",
       "(a₃, b₃) = ( 0.85017810058593735, 0.88014248046874988 )\n",
       "(a₄, b₄) = ( 0.86516029052734356, 0.88014248046874988 )\n",
       "(a₅, b₅) = ( 0.86516029052734356, 0.87265138549804666 )\n",
       "(a₆, b₆) = ( 0.86890583801269505, 0.87265138549804666 )\n",
       "(a₇, b₇) = ( 0.87077861175537086, 0.87265138549804666 )\n",
       "(a₈, b₈) = ( 0.87171499862670876, 0.87265138549804666 )\n",
       "(a₉, b₉) = ( 0.87218319206237771, 0.87265138549804666 )\n",
       "(a₁₀, b₁₀) = ( 0.87241728878021219, 0.87265138549804666 )\n",
       "\n"
      ]
     },
     "metadata": {},
     "output_type": "display_data"
    },
    {
     "name": "stderr",
     "output_type": "stream",
     "text": [
      "\u001b[36m\u001b[1m[ \u001b[22m\u001b[39m\u001b[36m\u001b[1mInfo: \u001b[22m\u001b[39mTargeting ϕ=0.8724172887802122\n",
      "\u001b[32mProgress: 100%|█████████████████████████████████████████| Time: 0:01:34\u001b[39m\n",
      "\u001b[36m\u001b[1m[ \u001b[22m\u001b[39m\u001b[36m\u001b[1mInfo: \u001b[22m\u001b[39mϕ=1, PSIS\n",
      "\u001b[36m\u001b[1m[ \u001b[22m\u001b[39m\u001b[36m\u001b[1mInfo: \u001b[22m\u001b[39mLeaving g=2 out\n"
     ]
    },
    {
     "data": {
      "text/plain": [
       "Results of univariate zero finding:\n",
       "\n",
       "* Converged to: 0.7586039062499998\n",
       "* Algorithm: Bisection()\n",
       "* iterations: 10\n",
       "* function evaluations ≈ 13\n",
       "\n",
       "Trace:\n",
       "(a₀, b₀) = ( 0.010306249999999999, 1 )\n",
       "(a₁, b₁) = ( 0.103725, 1 )\n",
       "(a₂, b₂) = ( 0.33244999999999997, 1 )\n",
       "(a₃, b₃) = ( 0.58244999999999991, 1 )\n",
       "(a₄, b₄) = ( 0.58244999999999991, 0.79122499999999996 )\n",
       "(a₅, b₅) = ( 0.68683749999999988, 0.79122499999999996 )\n",
       "(a₆, b₆) = ( 0.73903124999999992, 0.79122499999999996 )\n",
       "(a₇, b₇) = ( 0.73903124999999992, 0.76512812499999994 )\n",
       "(a₈, b₈) = ( 0.75207968749999987, 0.76512812499999994 )\n",
       "(a₉, b₉) = ( 0.75860390624999985, 0.76512812499999994 )\n",
       "(a₁₀, b₁₀) = ( 0.75860390624999985, 0.76186601562499989 )\n",
       "\n"
      ]
     },
     "metadata": {},
     "output_type": "display_data"
    },
    {
     "name": "stderr",
     "output_type": "stream",
     "text": [
      "\u001b[36m\u001b[1m[ \u001b[22m\u001b[39m\u001b[36m\u001b[1mInfo: \u001b[22m\u001b[39mTargeting ϕ=0.7586039062499998\n",
      "\u001b[32mProgress: 100%|█████████████████████████████████████████| Time: 0:01:58\u001b[39m\n",
      "\u001b[36m\u001b[1m[ \u001b[22m\u001b[39m\u001b[36m\u001b[1mInfo: \u001b[22m\u001b[39mϕ=1, PSIS\n",
      "\u001b[36m\u001b[1m[ \u001b[22m\u001b[39m\u001b[36m\u001b[1mInfo: \u001b[22m\u001b[39mLeaving g=3 out\n"
     ]
    },
    {
     "data": {
      "text/plain": [
       "Results of univariate zero finding:\n",
       "\n",
       "* Converged to: 0.6444300781249998\n",
       "* Algorithm: Bisection()\n",
       "* iterations: 10\n",
       "* function evaluations ≈ 13\n",
       "\n",
       "Trace:\n",
       "(a₀, b₀) = ( 0.010306249999999999, 1 )\n",
       "(a₁, b₁) = ( 0.103725, 1 )\n",
       "(a₂, b₂) = ( 0.33244999999999997, 1 )\n",
       "(a₃, b₃) = ( 0.58244999999999991, 1 )\n",
       "(a₄, b₄) = ( 0.58244999999999991, 0.79122499999999996 )\n",
       "(a₅, b₅) = ( 0.58244999999999991, 0.68683749999999988 )\n",
       "(a₆, b₆) = ( 0.63464374999999984, 0.68683749999999988 )\n",
       "(a₇, b₇) = ( 0.63464374999999984, 0.66074062499999986 )\n",
       "(a₈, b₈) = ( 0.63464374999999984, 0.64769218749999979 )\n",
       "(a₉, b₉) = ( 0.64116796874999982, 0.64769218749999979 )\n",
       "(a₁₀, b₁₀) = ( 0.64443007812499975, 0.64769218749999979 )\n",
       "\n"
      ]
     },
     "metadata": {},
     "output_type": "display_data"
    },
    {
     "name": "stderr",
     "output_type": "stream",
     "text": [
      "\u001b[36m\u001b[1m[ \u001b[22m\u001b[39m\u001b[36m\u001b[1mInfo: \u001b[22m\u001b[39mTargeting ϕ=0.6444300781249998\n",
      "\u001b[32mProgress: 100%|█████████████████████████████████████████| Time: 0:01:36\u001b[39m\n",
      "\u001b[36m\u001b[1m[ \u001b[22m\u001b[39m\u001b[36m\u001b[1mInfo: \u001b[22m\u001b[39mϕ=1, PSIS\n",
      "\u001b[36m\u001b[1m[ \u001b[22m\u001b[39m\u001b[36m\u001b[1mInfo: \u001b[22m\u001b[39mLeaving g=4 out\n",
      "\u001b[36m\u001b[1m[ \u001b[22m\u001b[39m\u001b[36m\u001b[1mInfo: \u001b[22m\u001b[39mϕ=1, PSIS\n",
      "\u001b[36m\u001b[1m[ \u001b[22m\u001b[39m\u001b[36m\u001b[1mInfo: \u001b[22m\u001b[39mLeaving g=5 out\n"
     ]
    },
    {
     "data": {
      "text/plain": [
       "Results of univariate zero finding:\n",
       "\n",
       "* Converged to: 0.7488175781249998\n",
       "* Algorithm: Bisection()\n",
       "* iterations: 10\n",
       "* function evaluations ≈ 13\n",
       "\n",
       "Trace:\n",
       "(a₀, b₀) = ( 0.010306249999999999, 1 )\n",
       "(a₁, b₁) = ( 0.103725, 1 )\n",
       "(a₂, b₂) = ( 0.33244999999999997, 1 )\n",
       "(a₃, b₃) = ( 0.58244999999999991, 1 )\n",
       "(a₄, b₄) = ( 0.58244999999999991, 0.79122499999999996 )\n",
       "(a₅, b₅) = ( 0.68683749999999988, 0.79122499999999996 )\n",
       "(a₆, b₆) = ( 0.73903124999999992, 0.79122499999999996 )\n",
       "(a₇, b₇) = ( 0.73903124999999992, 0.76512812499999994 )\n",
       "(a₈, b₈) = ( 0.73903124999999992, 0.75207968749999987 )\n",
       "(a₉, b₉) = ( 0.74555546874999989, 0.75207968749999987 )\n",
       "(a₁₀, b₁₀) = ( 0.74881757812499983, 0.75207968749999987 )\n",
       "\n"
      ]
     },
     "metadata": {},
     "output_type": "display_data"
    },
    {
     "name": "stderr",
     "output_type": "stream",
     "text": [
      "\u001b[36m\u001b[1m[ \u001b[22m\u001b[39m\u001b[36m\u001b[1mInfo: \u001b[22m\u001b[39mTargeting ϕ=0.7488175781249998\n",
      "\u001b[32mProgress: 100%|█████████████████████████████████████████| Time: 0:01:35\u001b[39m\n",
      "\u001b[36m\u001b[1m[ \u001b[22m\u001b[39m\u001b[36m\u001b[1mInfo: \u001b[22m\u001b[39mϕ=1, PSIS\n",
      "\u001b[36m\u001b[1m[ \u001b[22m\u001b[39m\u001b[36m\u001b[1mInfo: \u001b[22m\u001b[39mLeaving g=6 out\n"
     ]
    },
    {
     "data": {
      "text/plain": [
       "Results of univariate zero finding:\n",
       "\n",
       "* Converged to: 0.9053988281249998\n",
       "* Algorithm: Bisection()\n",
       "* iterations: 10\n",
       "* function evaluations ≈ 13\n",
       "\n",
       "Trace:\n",
       "(a₀, b₀) = ( 0.010306249999999999, 1 )\n",
       "(a₁, b₁) = ( 0.103725, 1 )\n",
       "(a₂, b₂) = ( 0.33244999999999997, 1 )\n",
       "(a₃, b₃) = ( 0.58244999999999991, 1 )\n",
       "(a₄, b₄) = ( 0.79122499999999996, 1 )\n",
       "(a₅, b₅) = ( 0.89561249999999992, 1 )\n",
       "(a₆, b₆) = ( 0.89561249999999992, 0.94780624999999996 )\n",
       "(a₇, b₇) = ( 0.89561249999999992, 0.92170937499999994 )\n",
       "(a₈, b₈) = ( 0.89561249999999992, 0.90866093749999988 )\n",
       "(a₉, b₉) = ( 0.9021367187499999, 0.90866093749999988 )\n",
       "(a₁₀, b₁₀) = ( 0.90539882812499983, 0.90866093749999988 )\n",
       "\n"
      ]
     },
     "metadata": {},
     "output_type": "display_data"
    },
    {
     "name": "stderr",
     "output_type": "stream",
     "text": [
      "\u001b[36m\u001b[1m[ \u001b[22m\u001b[39m\u001b[36m\u001b[1mInfo: \u001b[22m\u001b[39mTargeting ϕ=0.9053988281249998\n",
      "\u001b[32mProgress: 100%|█████████████████████████████████████████| Time: 0:02:28\u001b[39m\n",
      "\u001b[36m\u001b[1m[ \u001b[22m\u001b[39m\u001b[36m\u001b[1mInfo: \u001b[22m\u001b[39mϕ=1, PSIS\n",
      "\u001b[36m\u001b[1m[ \u001b[22m\u001b[39m\u001b[36m\u001b[1mInfo: \u001b[22m\u001b[39mLeaving g=7 out\n",
      "\u001b[36m\u001b[1m[ \u001b[22m\u001b[39m\u001b[36m\u001b[1mInfo: \u001b[22m\u001b[39mϕ=1, PSIS\n",
      "\u001b[36m\u001b[1m[ \u001b[22m\u001b[39m\u001b[36m\u001b[1mInfo: \u001b[22m\u001b[39mLeaving g=8 out\n",
      "\u001b[36m\u001b[1m[ \u001b[22m\u001b[39m\u001b[36m\u001b[1mInfo: \u001b[22m\u001b[39mϕ=1, PSIS\n",
      "\u001b[36m\u001b[1m[ \u001b[22m\u001b[39m\u001b[36m\u001b[1mInfo: \u001b[22m\u001b[39mLeaving g=9 out\n",
      "\u001b[36m\u001b[1m[ \u001b[22m\u001b[39m\u001b[36m\u001b[1mInfo: \u001b[22m\u001b[39mϕ=1, PSIS\n",
      "\u001b[36m\u001b[1m[ \u001b[22m\u001b[39m\u001b[36m\u001b[1mInfo: \u001b[22m\u001b[39mLeaving g=10 out\n",
      "\u001b[36m\u001b[1m[ \u001b[22m\u001b[39m\u001b[36m\u001b[1mInfo: \u001b[22m\u001b[39mϕ=1, PSIS\n",
      "\u001b[36m\u001b[1m[ \u001b[22m\u001b[39m\u001b[36m\u001b[1mInfo: \u001b[22m\u001b[39mLeaving g=11 out\n",
      "\u001b[36m\u001b[1m[ \u001b[22m\u001b[39m\u001b[36m\u001b[1mInfo: \u001b[22m\u001b[39mϕ=1, PSIS\n",
      "\u001b[36m\u001b[1m[ \u001b[22m\u001b[39m\u001b[36m\u001b[1mInfo: \u001b[22m\u001b[39mLeaving g=12 out\n",
      "\u001b[36m\u001b[1m[ \u001b[22m\u001b[39m\u001b[36m\u001b[1mInfo: \u001b[22m\u001b[39mϕ=1, PSIS\n",
      "\u001b[36m\u001b[1m[ \u001b[22m\u001b[39m\u001b[36m\u001b[1mInfo: \u001b[22m\u001b[39mLeaving g=13 out\n"
     ]
    },
    {
     "data": {
      "text/plain": [
       "Results of univariate zero finding:\n",
       "\n",
       "* Converged to: 0.31940156249999996\n",
       "* Algorithm: Bisection()\n",
       "* iterations: 10\n",
       "* function evaluations ≈ 13\n",
       "\n",
       "Trace:\n",
       "(a₀, b₀) = ( 0.010306249999999999, 1 )\n",
       "(a₁, b₁) = ( 0.103725, 1 )\n",
       "(a₂, b₂) = ( 0.103725, 0.33244999999999997 )\n",
       "(a₃, b₃) = ( 0.18683749999999999, 0.33244999999999997 )\n",
       "(a₄, b₄) = ( 0.23903124999999997, 0.33244999999999997 )\n",
       "(a₅, b₅) = ( 0.28025624999999993, 0.33244999999999997 )\n",
       "(a₆, b₆) = ( 0.30635312499999995, 0.33244999999999997 )\n",
       "(a₇, b₇) = ( 0.31940156249999996, 0.33244999999999997 )\n",
       "(a₈, b₈) = ( 0.31940156249999996, 0.32592578124999994 )\n",
       "(a₉, b₉) = ( 0.31940156249999996, 0.32266367187499995 )\n",
       "(a₁₀, b₁₀) = ( 0.31940156249999996, 0.32103261718749992 )\n",
       "\n"
      ]
     },
     "metadata": {},
     "output_type": "display_data"
    },
    {
     "name": "stderr",
     "output_type": "stream",
     "text": [
      "\u001b[36m\u001b[1m[ \u001b[22m\u001b[39m\u001b[36m\u001b[1mInfo: \u001b[22m\u001b[39mTargeting ϕ=0.31940156249999996\n",
      "\u001b[32mProgress: 100%|█████████████████████████████████████████| Time: 0:02:43\u001b[39m\n"
     ]
    },
    {
     "data": {
      "text/plain": [
       "Results of univariate zero finding:\n",
       "\n",
       "* Converged to: 0.5459586791992186\n",
       "* Algorithm: Bisection()\n",
       "* iterations: 10\n",
       "* function evaluations ≈ 13\n",
       "\n",
       "Trace:\n",
       "(a₀, b₀) = ( 0.31950156249999995, 0.56950156249999995 )\n",
       "(a₁, b₁) = ( 0.42712617187499996, 0.56950156249999995 )\n",
       "(a₂, b₂) = ( 0.48093847656249994, 0.56950156249999995 )\n",
       "(a₃, b₃) = ( 0.51568925781249986, 0.56950156249999995 )\n",
       "(a₄, b₄) = ( 0.5425954101562499, 0.56950156249999995 )\n",
       "(a₅, b₅) = ( 0.5425954101562499, 0.55604848632812487 )\n",
       "(a₆, b₆) = ( 0.5425954101562499, 0.54932194824218739 )\n",
       "(a₇, b₇) = ( 0.5425954101562499, 0.54595867919921859 )\n",
       "(a₈, b₈) = ( 0.54427704467773419, 0.54595867919921859 )\n",
       "(a₉, b₉) = ( 0.54511786193847633, 0.54595867919921859 )\n",
       "(a₁₀, b₁₀) = ( 0.54553827056884741, 0.54595867919921859 )\n",
       "\n"
      ]
     },
     "metadata": {},
     "output_type": "display_data"
    },
    {
     "name": "stderr",
     "output_type": "stream",
     "text": [
      "\u001b[36m\u001b[1m[ \u001b[22m\u001b[39m\u001b[36m\u001b[1mInfo: \u001b[22m\u001b[39mTargeting ϕ=0.5459586791992186\n",
      "\u001b[32mProgress: 100%|█████████████████████████████████████████| Time: 0:02:25\u001b[39m\n"
     ]
    },
    {
     "data": {
      "text/plain": [
       "Results of univariate zero finding:\n",
       "\n",
       "* Converged to: 0.7526374443292616\n",
       "* Algorithm: Bisection()\n",
       "* iterations: 10\n",
       "* function evaluations ≈ 13\n",
       "\n",
       "Trace:\n",
       "(a₀, b₀) = ( 0.54605867919921858, 0.77302933959960929 )\n",
       "(a₁, b₁) = ( 0.65954400939941393, 0.77302933959960929 )\n",
       "(a₂, b₂) = ( 0.71628667449951156, 0.77302933959960929 )\n",
       "(a₃, b₃) = ( 0.74465800704956042, 0.77302933959960929 )\n",
       "(a₄, b₄) = ( 0.74465800704956042, 0.7588436733245848 )\n",
       "(a₅, b₅) = ( 0.75175084018707261, 0.7588436733245848 )\n",
       "(a₆, b₆) = ( 0.75175084018707261, 0.75529725675582871 )\n",
       "(a₇, b₇) = ( 0.75175084018707261, 0.7535240484714506 )\n",
       "(a₈, b₈) = ( 0.75175084018707261, 0.75263744432926161 )\n",
       "(a₉, b₉) = ( 0.75219414225816705, 0.75263744432926161 )\n",
       "(a₁₀, b₁₀) = ( 0.75241579329371433, 0.75263744432926161 )\n",
       "\n"
      ]
     },
     "metadata": {},
     "output_type": "display_data"
    },
    {
     "name": "stderr",
     "output_type": "stream",
     "text": [
      "\u001b[36m\u001b[1m[ \u001b[22m\u001b[39m\u001b[36m\u001b[1mInfo: \u001b[22m\u001b[39mTargeting ϕ=0.7526374443292616\n",
      "\u001b[32mProgress: 100%|█████████████████████████████████████████| Time: 0:02:10\u001b[39m\n"
     ]
    },
    {
     "data": {
      "text/plain": [
       "Results of univariate zero finding:\n",
       "\n",
       "* Converged to: 0.9313025419059323\n",
       "* Algorithm: Bisection()\n",
       "* iterations: 10\n",
       "* function evaluations ≈ 13\n",
       "\n",
       "Trace:\n",
       "(a₀, b₀) = ( 0.8763687221646308, 1 )\n",
       "(a₁, b₁) = ( 0.8763687221646308, 0.9381843610823154 )\n",
       "(a₂, b₂) = ( 0.90727654162347304, 0.9381843610823154 )\n",
       "(a₃, b₃) = ( 0.92273045135289422, 0.9381843610823154 )\n",
       "(a₄, b₄) = ( 0.93045740621760475, 0.9381843610823154 )\n",
       "(a₅, b₅) = ( 0.93045740621760475, 0.93432088364996002 )\n",
       "(a₆, b₆) = ( 0.93045740621760475, 0.93238914493378233 )\n",
       "(a₇, b₇) = ( 0.93045740621760475, 0.93142327557569349 )\n",
       "(a₈, b₈) = ( 0.93094034089664912, 0.93142327557569349 )\n",
       "(a₉, b₉) = ( 0.93118180823617125, 0.93142327557569349 )\n",
       "(a₁₀, b₁₀) = ( 0.93118180823617125, 0.93130254190593231 )\n",
       "\n"
      ]
     },
     "metadata": {},
     "output_type": "display_data"
    },
    {
     "name": "stderr",
     "output_type": "stream",
     "text": [
      "\u001b[36m\u001b[1m[ \u001b[22m\u001b[39m\u001b[36m\u001b[1mInfo: \u001b[22m\u001b[39mTargeting ϕ=0.9313025419059323\n",
      "\u001b[32mProgress: 100%|█████████████████████████████████████████| Time: 0:03:13\u001b[39m\n",
      "\u001b[36m\u001b[1m[ \u001b[22m\u001b[39m\u001b[36m\u001b[1mInfo: \u001b[22m\u001b[39mϕ=1, PSIS\n",
      "\u001b[36m\u001b[1m[ \u001b[22m\u001b[39m\u001b[36m\u001b[1mInfo: \u001b[22m\u001b[39mLeaving g=14 out\n"
     ]
    },
    {
     "data": {
      "text/plain": [
       "Results of univariate zero finding:\n",
       "\n",
       "* Converged to: 0.996737890625\n",
       "* Algorithm: Bisection()\n",
       "* iterations: 10\n",
       "* function evaluations ≈ 13\n",
       "\n",
       "Trace:\n",
       "(a₀, b₀) = ( 0.010306249999999999, 1 )\n",
       "(a₁, b₁) = ( 0.103725, 1 )\n",
       "(a₂, b₂) = ( 0.33244999999999997, 1 )\n",
       "(a₃, b₃) = ( 0.58244999999999991, 1 )\n",
       "(a₄, b₄) = ( 0.79122499999999996, 1 )\n",
       "(a₅, b₅) = ( 0.89561249999999992, 1 )\n",
       "(a₆, b₆) = ( 0.94780624999999996, 1 )\n",
       "(a₇, b₇) = ( 0.97390312499999998, 1 )\n",
       "(a₈, b₈) = ( 0.98695156249999993, 1 )\n",
       "(a₉, b₉) = ( 0.99347578124999991, 1 )\n",
       "(a₁₀, b₁₀) = ( 0.99673789062499996, 1 )\n",
       "\n"
      ]
     },
     "metadata": {},
     "output_type": "display_data"
    },
    {
     "name": "stderr",
     "output_type": "stream",
     "text": [
      "\u001b[36m\u001b[1m[ \u001b[22m\u001b[39m\u001b[36m\u001b[1mInfo: \u001b[22m\u001b[39mTargeting ϕ=0.996737890625\n",
      "\u001b[32mProgress: 100%|█████████████████████████████████████████| Time: 0:02:05\u001b[39m\n",
      "\u001b[36m\u001b[1m[ \u001b[22m\u001b[39m\u001b[36m\u001b[1mInfo: \u001b[22m\u001b[39mϕ=1, PSIS\n",
      "\u001b[36m\u001b[1m[ \u001b[22m\u001b[39m\u001b[36m\u001b[1mInfo: \u001b[22m\u001b[39mLeaving g=15 out\n"
     ]
    },
    {
     "data": {
      "text/plain": [
       "Results of univariate zero finding:\n",
       "\n",
       "* Converged to: 0.6640027343749998\n",
       "* Algorithm: Bisection()\n",
       "* iterations: 10\n",
       "* function evaluations ≈ 13\n",
       "\n",
       "Trace:\n",
       "(a₀, b₀) = ( 0.010306249999999999, 1 )\n",
       "(a₁, b₁) = ( 0.103725, 1 )\n",
       "(a₂, b₂) = ( 0.33244999999999997, 1 )\n",
       "(a₃, b₃) = ( 0.58244999999999991, 1 )\n",
       "(a₄, b₄) = ( 0.58244999999999991, 0.79122499999999996 )\n",
       "(a₅, b₅) = ( 0.58244999999999991, 0.68683749999999988 )\n",
       "(a₆, b₆) = ( 0.63464374999999984, 0.68683749999999988 )\n",
       "(a₇, b₇) = ( 0.66074062499999986, 0.68683749999999988 )\n",
       "(a₈, b₈) = ( 0.66074062499999986, 0.67378906249999981 )\n",
       "(a₉, b₉) = ( 0.66074062499999986, 0.66726484374999984 )\n",
       "(a₁₀, b₁₀) = ( 0.66074062499999986, 0.66400273437499979 )\n",
       "\n"
      ]
     },
     "metadata": {},
     "output_type": "display_data"
    },
    {
     "name": "stderr",
     "output_type": "stream",
     "text": [
      "\u001b[36m\u001b[1m[ \u001b[22m\u001b[39m\u001b[36m\u001b[1mInfo: \u001b[22m\u001b[39mTargeting ϕ=0.6640027343749998\n",
      "\u001b[32mProgress: 100%|█████████████████████████████████████████| Time: 0:03:19\u001b[39m\n",
      "\u001b[36m\u001b[1m[ \u001b[22m\u001b[39m\u001b[36m\u001b[1mInfo: \u001b[22m\u001b[39mϕ=1, PSIS\n",
      "\u001b[36m\u001b[1m[ \u001b[22m\u001b[39m\u001b[36m\u001b[1mInfo: \u001b[22m\u001b[39mLeaving g=16 out\n",
      "\u001b[36m\u001b[1m[ \u001b[22m\u001b[39m\u001b[36m\u001b[1mInfo: \u001b[22m\u001b[39mϕ=1, PSIS\n",
      "\u001b[36m\u001b[1m[ \u001b[22m\u001b[39m\u001b[36m\u001b[1mInfo: \u001b[22m\u001b[39mLeaving g=17 out\n"
     ]
    },
    {
     "data": {
      "text/plain": [
       "Results of univariate zero finding:\n",
       "\n",
       "* Converged to: 0.7227207031249998\n",
       "* Algorithm: Bisection()\n",
       "* iterations: 10\n",
       "* function evaluations ≈ 13\n",
       "\n",
       "Trace:\n",
       "(a₀, b₀) = ( 0.010306249999999999, 1 )\n",
       "(a₁, b₁) = ( 0.103725, 1 )\n",
       "(a₂, b₂) = ( 0.33244999999999997, 1 )\n",
       "(a₃, b₃) = ( 0.58244999999999991, 1 )\n",
       "(a₄, b₄) = ( 0.58244999999999991, 0.79122499999999996 )\n",
       "(a₅, b₅) = ( 0.68683749999999988, 0.79122499999999996 )\n",
       "(a₆, b₆) = ( 0.68683749999999988, 0.73903124999999992 )\n",
       "(a₇, b₇) = ( 0.7129343749999999, 0.73903124999999992 )\n",
       "(a₈, b₈) = ( 0.7129343749999999, 0.72598281249999985 )\n",
       "(a₉, b₉) = ( 0.71945859374999988, 0.72598281249999985 )\n",
       "(a₁₀, b₁₀) = ( 0.72272070312499981, 0.72598281249999985 )\n",
       "\n"
      ]
     },
     "metadata": {},
     "output_type": "display_data"
    },
    {
     "name": "stderr",
     "output_type": "stream",
     "text": [
      "\u001b[36m\u001b[1m[ \u001b[22m\u001b[39m\u001b[36m\u001b[1mInfo: \u001b[22m\u001b[39mTargeting ϕ=0.7227207031249998\n",
      "\u001b[32mProgress: 100%|█████████████████████████████████████████| Time: 0:02:46\u001b[39m\n",
      "\u001b[36m\u001b[1m[ \u001b[22m\u001b[39m\u001b[36m\u001b[1mInfo: \u001b[22m\u001b[39mϕ=1, PSIS\n",
      "\u001b[36m\u001b[1m[ \u001b[22m\u001b[39m\u001b[36m\u001b[1mInfo: \u001b[22m\u001b[39mLeaving g=18 out\n"
     ]
    },
    {
     "data": {
      "text/plain": [
       "Results of univariate zero finding:\n",
       "\n",
       "* Converged to: 0.6052847656249998\n",
       "* Algorithm: Bisection()\n",
       "* iterations: 10\n",
       "* function evaluations ≈ 13\n",
       "\n",
       "Trace:\n",
       "(a₀, b₀) = ( 0.010306249999999999, 1 )\n",
       "(a₁, b₁) = ( 0.103725, 1 )\n",
       "(a₂, b₂) = ( 0.33244999999999997, 1 )\n",
       "(a₃, b₃) = ( 0.58244999999999991, 1 )\n",
       "(a₄, b₄) = ( 0.58244999999999991, 0.79122499999999996 )\n",
       "(a₅, b₅) = ( 0.58244999999999991, 0.68683749999999988 )\n",
       "(a₆, b₆) = ( 0.58244999999999991, 0.63464374999999984 )\n",
       "(a₇, b₇) = ( 0.58244999999999991, 0.60854687499999982 )\n",
       "(a₈, b₈) = ( 0.59549843749999987, 0.60854687499999982 )\n",
       "(a₉, b₉) = ( 0.60202265624999984, 0.60854687499999982 )\n",
       "(a₁₀, b₁₀) = ( 0.60202265624999984, 0.60528476562499978 )\n",
       "\n"
      ]
     },
     "metadata": {},
     "output_type": "display_data"
    },
    {
     "name": "stderr",
     "output_type": "stream",
     "text": [
      "\u001b[36m\u001b[1m[ \u001b[22m\u001b[39m\u001b[36m\u001b[1mInfo: \u001b[22m\u001b[39mTargeting ϕ=0.6052847656249998\n",
      "\u001b[32mProgress: 100%|█████████████████████████████████████████| Time: 0:03:23\u001b[39m\n",
      "\u001b[36m\u001b[1m[ \u001b[22m\u001b[39m\u001b[36m\u001b[1mInfo: \u001b[22m\u001b[39mϕ=1, PSIS\n",
      "\u001b[36m\u001b[1m[ \u001b[22m\u001b[39m\u001b[36m\u001b[1mInfo: \u001b[22m\u001b[39mLeaving g=19 out\n",
      "\u001b[36m\u001b[1m[ \u001b[22m\u001b[39m\u001b[36m\u001b[1mInfo: \u001b[22m\u001b[39mϕ=1, PSIS\n",
      "\u001b[36m\u001b[1m[ \u001b[22m\u001b[39m\u001b[36m\u001b[1mInfo: \u001b[22m\u001b[39mLeaving g=20 out\n"
     ]
    },
    {
     "data": {
      "text/plain": [
       "Results of univariate zero finding:\n",
       "\n",
       "* Converged to: 0.5954984374999999\n",
       "* Algorithm: Bisection()\n",
       "* iterations: 10\n",
       "* function evaluations ≈ 13\n",
       "\n",
       "Trace:\n",
       "(a₀, b₀) = ( 0.010306249999999999, 1 )\n",
       "(a₁, b₁) = ( 0.103725, 1 )\n",
       "(a₂, b₂) = ( 0.33244999999999997, 1 )\n",
       "(a₃, b₃) = ( 0.58244999999999991, 1 )\n",
       "(a₄, b₄) = ( 0.58244999999999991, 0.79122499999999996 )\n",
       "(a₅, b₅) = ( 0.58244999999999991, 0.68683749999999988 )\n",
       "(a₆, b₆) = ( 0.58244999999999991, 0.63464374999999984 )\n",
       "(a₇, b₇) = ( 0.58244999999999991, 0.60854687499999982 )\n",
       "(a₈, b₈) = ( 0.58244999999999991, 0.59549843749999987 )\n",
       "(a₉, b₉) = ( 0.58897421874999989, 0.59549843749999987 )\n",
       "(a₁₀, b₁₀) = ( 0.59223632812499982, 0.59549843749999987 )\n",
       "\n"
      ]
     },
     "metadata": {},
     "output_type": "display_data"
    },
    {
     "name": "stderr",
     "output_type": "stream",
     "text": [
      "\u001b[36m\u001b[1m[ \u001b[22m\u001b[39m\u001b[36m\u001b[1mInfo: \u001b[22m\u001b[39mTargeting ϕ=0.5954984374999999\n",
      "\u001b[32mProgress: 100%|█████████████████████████████████████████| Time: 0:03:08\u001b[39m\n"
     ]
    },
    {
     "data": {
      "text/plain": [
       "Results of univariate zero finding:\n",
       "\n",
       "* Converged to: 0.9377995643615721\n",
       "* Algorithm: Bisection()\n",
       "* iterations: 10\n",
       "* function evaluations ≈ 13\n",
       "\n",
       "Trace:\n",
       "(a₀, b₀) = ( 0.79779921874999993, 1 )\n",
       "(a₁, b₁) = ( 0.89889960937499991, 1 )\n",
       "(a₂, b₂) = ( 0.89889960937499991, 0.94944980468749995 )\n",
       "(a₃, b₃) = ( 0.92417470703124993, 0.94944980468749995 )\n",
       "(a₄, b₄) = ( 0.93681225585937489, 0.94944980468749995 )\n",
       "(a₅, b₅) = ( 0.93681225585937489, 0.94313103027343737 )\n",
       "(a₆, b₆) = ( 0.93681225585937489, 0.93997164306640613 )\n",
       "(a₇, b₇) = ( 0.93681225585937489, 0.93839194946289051 )\n",
       "(a₈, b₈) = ( 0.93760210266113264, 0.93839194946289051 )\n",
       "(a₉, b₉) = ( 0.93760210266113264, 0.93799702606201152 )\n",
       "(a₁₀, b₁₀) = ( 0.93760210266113264, 0.93779956436157208 )\n",
       "\n"
      ]
     },
     "metadata": {},
     "output_type": "display_data"
    },
    {
     "name": "stderr",
     "output_type": "stream",
     "text": [
      "\u001b[36m\u001b[1m[ \u001b[22m\u001b[39m\u001b[36m\u001b[1mInfo: \u001b[22m\u001b[39mTargeting ϕ=0.9377995643615721\n",
      "\u001b[32mProgress: 100%|█████████████████████████████████████████| Time: 0:03:02\u001b[39m\n",
      "\u001b[36m\u001b[1m[ \u001b[22m\u001b[39m\u001b[36m\u001b[1mInfo: \u001b[22m\u001b[39mϕ=1, PSIS\n",
      "\u001b[36m\u001b[1m[ \u001b[22m\u001b[39m\u001b[36m\u001b[1mInfo: \u001b[22m\u001b[39mLeaving g=21 out\n",
      "\u001b[36m\u001b[1m[ \u001b[22m\u001b[39m\u001b[36m\u001b[1mInfo: \u001b[22m\u001b[39mϕ=1, PSIS\n",
      "\u001b[36m\u001b[1m[ \u001b[22m\u001b[39m\u001b[36m\u001b[1mInfo: \u001b[22m\u001b[39mLeaving g=22 out\n",
      "\u001b[36m\u001b[1m[ \u001b[22m\u001b[39m\u001b[36m\u001b[1mInfo: \u001b[22m\u001b[39mϕ=1, PSIS\n",
      "\u001b[36m\u001b[1m[ \u001b[22m\u001b[39m\u001b[36m\u001b[1mInfo: \u001b[22m\u001b[39mLeaving g=23 out\n",
      "\u001b[36m\u001b[1m[ \u001b[22m\u001b[39m\u001b[36m\u001b[1mInfo: \u001b[22m\u001b[39mϕ=1, PSIS\n",
      "\u001b[36m\u001b[1m[ \u001b[22m\u001b[39m\u001b[36m\u001b[1mInfo: \u001b[22m\u001b[39mLeaving g=24 out\n"
     ]
    },
    {
     "data": {
      "text/plain": [
       "Results of univariate zero finding:\n",
       "\n",
       "* Converged to: 0.6118089843749998\n",
       "* Algorithm: Bisection()\n",
       "* iterations: 10\n",
       "* function evaluations ≈ 13\n",
       "\n",
       "Trace:\n",
       "(a₀, b₀) = ( 0.010306249999999999, 1 )\n",
       "(a₁, b₁) = ( 0.103725, 1 )\n",
       "(a₂, b₂) = ( 0.33244999999999997, 1 )\n",
       "(a₃, b₃) = ( 0.58244999999999991, 1 )\n",
       "(a₄, b₄) = ( 0.58244999999999991, 0.79122499999999996 )\n",
       "(a₅, b₅) = ( 0.58244999999999991, 0.68683749999999988 )\n",
       "(a₆, b₆) = ( 0.58244999999999991, 0.63464374999999984 )\n",
       "(a₇, b₇) = ( 0.60854687499999982, 0.63464374999999984 )\n",
       "(a₈, b₈) = ( 0.60854687499999982, 0.62159531249999977 )\n",
       "(a₉, b₉) = ( 0.60854687499999982, 0.6150710937499998 )\n",
       "(a₁₀, b₁₀) = ( 0.61180898437499975, 0.6150710937499998 )\n",
       "\n"
      ]
     },
     "metadata": {},
     "output_type": "display_data"
    },
    {
     "name": "stderr",
     "output_type": "stream",
     "text": [
      "\u001b[36m\u001b[1m[ \u001b[22m\u001b[39m\u001b[36m\u001b[1mInfo: \u001b[22m\u001b[39mTargeting ϕ=0.6118089843749998\n",
      "\u001b[32mProgress: 100%|█████████████████████████████████████████| Time: 0:03:19\u001b[39m\n",
      "\u001b[36m\u001b[1m[ \u001b[22m\u001b[39m\u001b[36m\u001b[1mInfo: \u001b[22m\u001b[39mϕ=1, PSIS\n",
      "\u001b[36m\u001b[1m[ \u001b[22m\u001b[39m\u001b[36m\u001b[1mInfo: \u001b[22m\u001b[39mLeaving g=25 out\n"
     ]
    },
    {
     "data": {
      "text/plain": [
       "Results of univariate zero finding:\n",
       "\n",
       "* Converged to: 0.5563531249999999\n",
       "* Algorithm: Bisection()\n",
       "* iterations: 10\n",
       "* function evaluations ≈ 13\n",
       "\n",
       "Trace:\n",
       "(a₀, b₀) = ( 0.010306249999999999, 1 )\n",
       "(a₁, b₁) = ( 0.103725, 1 )\n",
       "(a₂, b₂) = ( 0.33244999999999997, 1 )\n",
       "(a₃, b₃) = ( 0.33244999999999997, 0.58244999999999991 )\n",
       "(a₄, b₄) = ( 0.43683749999999993, 0.58244999999999991 )\n",
       "(a₅, b₅) = ( 0.48903124999999992, 0.58244999999999991 )\n",
       "(a₆, b₆) = ( 0.53025624999999987, 0.58244999999999991 )\n",
       "(a₇, b₇) = ( 0.53025624999999987, 0.55635312499999989 )\n",
       "(a₈, b₈) = ( 0.54330468749999983, 0.55635312499999989 )\n",
       "(a₉, b₉) = ( 0.5498289062499998, 0.55635312499999989 )\n",
       "(a₁₀, b₁₀) = ( 0.55309101562499985, 0.55635312499999989 )\n",
       "\n"
      ]
     },
     "metadata": {},
     "output_type": "display_data"
    },
    {
     "name": "stderr",
     "output_type": "stream",
     "text": [
      "\u001b[36m\u001b[1m[ \u001b[22m\u001b[39m\u001b[36m\u001b[1mInfo: \u001b[22m\u001b[39mTargeting ϕ=0.5563531249999999\n",
      "\u001b[32mProgress: 100%|█████████████████████████████████████████| Time: 0:02:27\u001b[39m\n"
     ]
    },
    {
     "data": {
      "text/plain": [
       "Results of univariate zero finding:\n",
       "\n",
       "* Converged to: 0.9631821441650389\n",
       "* Algorithm: Bisection()\n",
       "* iterations: 10\n",
       "* function evaluations ≈ 13\n",
       "\n",
       "Trace:\n",
       "(a₀, b₀) = ( 0.77822656249999989, 1 )\n",
       "(a₁, b₁) = ( 0.88911328124999989, 1 )\n",
       "(a₂, b₂) = ( 0.94455664062499989, 1 )\n",
       "(a₃, b₃) = ( 0.94455664062499989, 0.97227832031249994 )\n",
       "(a₄, b₄) = ( 0.95841748046874986, 0.97227832031249994 )\n",
       "(a₅, b₅) = ( 0.95841748046874986, 0.9653479003906249 )\n",
       "(a₆, b₆) = ( 0.96188269042968733, 0.9653479003906249 )\n",
       "(a₇, b₇) = ( 0.96188269042968733, 0.96361529541015611 )\n",
       "(a₈, b₈) = ( 0.96274899291992166, 0.96361529541015611 )\n",
       "(a₉, b₉) = ( 0.96274899291992166, 0.96318214416503889 )\n",
       "(a₁₀, b₁₀) = ( 0.96296556854248028, 0.96318214416503889 )\n",
       "\n"
      ]
     },
     "metadata": {},
     "output_type": "display_data"
    },
    {
     "name": "stderr",
     "output_type": "stream",
     "text": [
      "\u001b[36m\u001b[1m[ \u001b[22m\u001b[39m\u001b[36m\u001b[1mInfo: \u001b[22m\u001b[39mTargeting ϕ=0.9631821441650389\n",
      "\u001b[32mProgress: 100%|█████████████████████████████████████████| Time: 0:03:03\u001b[39m\n",
      "\u001b[36m\u001b[1m[ \u001b[22m\u001b[39m\u001b[36m\u001b[1mInfo: \u001b[22m\u001b[39mϕ=1, PSIS\n",
      "\u001b[36m\u001b[1m[ \u001b[22m\u001b[39m\u001b[36m\u001b[1mInfo: \u001b[22m\u001b[39mLeaving g=26 out\n",
      "\u001b[36m\u001b[1m[ \u001b[22m\u001b[39m\u001b[36m\u001b[1mInfo: \u001b[22m\u001b[39mϕ=1, PSIS\n",
      "\u001b[36m\u001b[1m[ \u001b[22m\u001b[39m\u001b[36m\u001b[1mInfo: \u001b[22m\u001b[39mLeaving g=27 out\n",
      "\u001b[36m\u001b[1m[ \u001b[22m\u001b[39m\u001b[36m\u001b[1mInfo: \u001b[22m\u001b[39mϕ=1, PSIS\n",
      "\u001b[36m\u001b[1m[ \u001b[22m\u001b[39m\u001b[36m\u001b[1mInfo: \u001b[22m\u001b[39mLeaving g=28 out\n"
     ]
    },
    {
     "data": {
      "text/plain": [
       "Results of univariate zero finding:\n",
       "\n",
       "* Converged to: 0.9836894531249999\n",
       "* Algorithm: Bisection()\n",
       "* iterations: 10\n",
       "* function evaluations ≈ 13\n",
       "\n",
       "Trace:\n",
       "(a₀, b₀) = ( 0.010306249999999999, 1 )\n",
       "(a₁, b₁) = ( 0.103725, 1 )\n",
       "(a₂, b₂) = ( 0.33244999999999997, 1 )\n",
       "(a₃, b₃) = ( 0.58244999999999991, 1 )\n",
       "(a₄, b₄) = ( 0.79122499999999996, 1 )\n",
       "(a₅, b₅) = ( 0.89561249999999992, 1 )\n",
       "(a₆, b₆) = ( 0.94780624999999996, 1 )\n",
       "(a₇, b₇) = ( 0.97390312499999998, 1 )\n",
       "(a₈, b₈) = ( 0.97390312499999998, 0.98695156249999993 )\n",
       "(a₉, b₉) = ( 0.98042734374999996, 0.98695156249999993 )\n",
       "(a₁₀, b₁₀) = ( 0.98368945312499989, 0.98695156249999993 )\n",
       "\n"
      ]
     },
     "metadata": {},
     "output_type": "display_data"
    },
    {
     "name": "stderr",
     "output_type": "stream",
     "text": [
      "\u001b[36m\u001b[1m[ \u001b[22m\u001b[39m\u001b[36m\u001b[1mInfo: \u001b[22m\u001b[39mTargeting ϕ=0.9836894531249999\n",
      "\u001b[32mProgress: 100%|█████████████████████████████████████████| Time: 0:02:45\u001b[39m\n",
      "\u001b[36m\u001b[1m[ \u001b[22m\u001b[39m\u001b[36m\u001b[1mInfo: \u001b[22m\u001b[39mϕ=1, PSIS\n",
      "\u001b[36m\u001b[1m[ \u001b[22m\u001b[39m\u001b[36m\u001b[1mInfo: \u001b[22m\u001b[39mLeaving g=29 out\n",
      "\u001b[36m\u001b[1m[ \u001b[22m\u001b[39m\u001b[36m\u001b[1mInfo: \u001b[22m\u001b[39mϕ=1, PSIS\n",
      "\u001b[36m\u001b[1m[ \u001b[22m\u001b[39m\u001b[36m\u001b[1mInfo: \u001b[22m\u001b[39mLeaving g=30 out\n",
      "\u001b[36m\u001b[1m[ \u001b[22m\u001b[39m\u001b[36m\u001b[1mInfo: \u001b[22m\u001b[39mϕ=1, PSIS\n",
      "\u001b[36m\u001b[1m[ \u001b[22m\u001b[39m\u001b[36m\u001b[1mInfo: \u001b[22m\u001b[39mLeaving g=31 out\n"
     ]
    },
    {
     "data": {
      "text/plain": [
       "Results of univariate zero finding:\n",
       "\n",
       "* Converged to: 0.4988175781249999\n",
       "* Algorithm: Bisection()\n",
       "* iterations: 10\n",
       "* function evaluations ≈ 13\n",
       "\n",
       "Trace:\n",
       "(a₀, b₀) = ( 0.010306249999999999, 1 )\n",
       "(a₁, b₁) = ( 0.103725, 1 )\n",
       "(a₂, b₂) = ( 0.33244999999999997, 1 )\n",
       "(a₃, b₃) = ( 0.33244999999999997, 0.58244999999999991 )\n",
       "(a₄, b₄) = ( 0.43683749999999993, 0.58244999999999991 )\n",
       "(a₅, b₅) = ( 0.48903124999999992, 0.58244999999999991 )\n",
       "(a₆, b₆) = ( 0.48903124999999992, 0.53025624999999987 )\n",
       "(a₇, b₇) = ( 0.48903124999999992, 0.50415937499999985 )\n",
       "(a₈, b₈) = ( 0.49555546874999989, 0.50415937499999985 )\n",
       "(a₉, b₉) = ( 0.49881757812499988, 0.50415937499999985 )\n",
       "(a₁₀, b₁₀) = ( 0.49881757812499988, 0.50089726562499981 )\n",
       "\n"
      ]
     },
     "metadata": {},
     "output_type": "display_data"
    },
    {
     "name": "stderr",
     "output_type": "stream",
     "text": [
      "\u001b[36m\u001b[1m[ \u001b[22m\u001b[39m\u001b[36m\u001b[1mInfo: \u001b[22m\u001b[39mTargeting ϕ=0.4988175781249999\n",
      "\u001b[32mProgress: 100%|█████████████████████████████████████████| Time: 0:02:57\u001b[39m\n"
     ]
    },
    {
     "data": {
      "text/plain": [
       "Results of univariate zero finding:\n",
       "\n",
       "* Converged to: 0.8366983467102048\n",
       "* Algorithm: Bisection()\n",
       "* iterations: 10\n",
       "* function evaluations ≈ 13\n",
       "\n",
       "Trace:\n",
       "(a₀, b₀) = ( 0.74891757812499982, 1 )\n",
       "(a₁, b₁) = ( 0.74891757812499982, 0.87445878906249985 )\n",
       "(a₂, b₂) = ( 0.81168818359374983, 0.87445878906249985 )\n",
       "(a₃, b₃) = ( 0.81168818359374983, 0.84307348632812484 )\n",
       "(a₄, b₄) = ( 0.82738083496093728, 0.84307348632812484 )\n",
       "(a₅, b₅) = ( 0.83522716064453106, 0.84307348632812484 )\n",
       "(a₆, b₆) = ( 0.83522716064453106, 0.8391503234863279 )\n",
       "(a₇, b₇) = ( 0.83522716064453106, 0.83718874206542948 )\n",
       "(a₈, b₈) = ( 0.83620795135498027, 0.83718874206542948 )\n",
       "(a₉, b₉) = ( 0.83669834671020482, 0.83718874206542948 )\n",
       "(a₁₀, b₁₀) = ( 0.83669834671020482, 0.83694354438781715 )\n",
       "\n"
      ]
     },
     "metadata": {},
     "output_type": "display_data"
    },
    {
     "name": "stderr",
     "output_type": "stream",
     "text": [
      "\u001b[36m\u001b[1m[ \u001b[22m\u001b[39m\u001b[36m\u001b[1mInfo: \u001b[22m\u001b[39mTargeting ϕ=0.8366983467102048\n",
      "\u001b[32mProgress: 100%|█████████████████████████████████████████| Time: 0:03:10\u001b[39m\n",
      "\u001b[36m\u001b[1m[ \u001b[22m\u001b[39m\u001b[36m\u001b[1mInfo: \u001b[22m\u001b[39mϕ=1, PSIS\n",
      "\u001b[36m\u001b[1m[ \u001b[22m\u001b[39m\u001b[36m\u001b[1mInfo: \u001b[22m\u001b[39mLeaving g=32 out\n",
      "\u001b[36m\u001b[1m[ \u001b[22m\u001b[39m\u001b[36m\u001b[1mInfo: \u001b[22m\u001b[39mϕ=1, PSIS\n",
      "\u001b[36m\u001b[1m[ \u001b[22m\u001b[39m\u001b[36m\u001b[1mInfo: \u001b[22m\u001b[39mLeaving g=33 out\n"
     ]
    },
    {
     "data": {
      "text/plain": [
       "Results of univariate zero finding:\n",
       "\n",
       "* Converged to: 0.6509542968749997\n",
       "* Algorithm: Bisection()\n",
       "* iterations: 10\n",
       "* function evaluations ≈ 13\n",
       "\n",
       "Trace:\n",
       "(a₀, b₀) = ( 0.010306249999999999, 1 )\n",
       "(a₁, b₁) = ( 0.103725, 1 )\n",
       "(a₂, b₂) = ( 0.33244999999999997, 1 )\n",
       "(a₃, b₃) = ( 0.58244999999999991, 1 )\n",
       "(a₄, b₄) = ( 0.58244999999999991, 0.79122499999999996 )\n",
       "(a₅, b₅) = ( 0.58244999999999991, 0.68683749999999988 )\n",
       "(a₆, b₆) = ( 0.63464374999999984, 0.68683749999999988 )\n",
       "(a₇, b₇) = ( 0.63464374999999984, 0.66074062499999986 )\n",
       "(a₈, b₈) = ( 0.64769218749999979, 0.66074062499999986 )\n",
       "(a₉, b₉) = ( 0.64769218749999979, 0.65421640624999977 )\n",
       "(a₁₀, b₁₀) = ( 0.65095429687499973, 0.65421640624999977 )\n",
       "\n"
      ]
     },
     "metadata": {},
     "output_type": "display_data"
    },
    {
     "name": "stderr",
     "output_type": "stream",
     "text": [
      "\u001b[36m\u001b[1m[ \u001b[22m\u001b[39m\u001b[36m\u001b[1mInfo: \u001b[22m\u001b[39mTargeting ϕ=0.6509542968749997\n",
      "\u001b[32mProgress: 100%|█████████████████████████████████████████| Time: 0:02:22\u001b[39m\n",
      "\u001b[36m\u001b[1m[ \u001b[22m\u001b[39m\u001b[36m\u001b[1mInfo: \u001b[22m\u001b[39mϕ=1, PSIS\n",
      "\u001b[36m\u001b[1m[ \u001b[22m\u001b[39m\u001b[36m\u001b[1mInfo: \u001b[22m\u001b[39mLeaving g=34 out\n",
      "\u001b[36m\u001b[1m[ \u001b[22m\u001b[39m\u001b[36m\u001b[1mInfo: \u001b[22m\u001b[39mϕ=1, PSIS\n",
      "\u001b[36m\u001b[1m[ \u001b[22m\u001b[39m\u001b[36m\u001b[1mInfo: \u001b[22m\u001b[39mLeaving g=35 out\n",
      "\u001b[36m\u001b[1m[ \u001b[22m\u001b[39m\u001b[36m\u001b[1mInfo: \u001b[22m\u001b[39mϕ=1, PSIS\n",
      "\u001b[36m\u001b[1m[ \u001b[22m\u001b[39m\u001b[36m\u001b[1mInfo: \u001b[22m\u001b[39mLeaving g=36 out\n"
     ]
    },
    {
     "data": {
      "text/plain": [
       "Results of univariate zero finding:\n",
       "\n",
       "* Converged to: 0.5628773437499999\n",
       "* Algorithm: Bisection()\n",
       "* iterations: 10\n",
       "* function evaluations ≈ 13\n",
       "\n",
       "Trace:\n",
       "(a₀, b₀) = ( 0.010306249999999999, 1 )\n",
       "(a₁, b₁) = ( 0.103725, 1 )\n",
       "(a₂, b₂) = ( 0.33244999999999997, 1 )\n",
       "(a₃, b₃) = ( 0.33244999999999997, 0.58244999999999991 )\n",
       "(a₄, b₄) = ( 0.43683749999999993, 0.58244999999999991 )\n",
       "(a₅, b₅) = ( 0.48903124999999992, 0.58244999999999991 )\n",
       "(a₆, b₆) = ( 0.53025624999999987, 0.58244999999999991 )\n",
       "(a₇, b₇) = ( 0.55635312499999989, 0.58244999999999991 )\n",
       "(a₈, b₈) = ( 0.55635312499999989, 0.56940156249999985 )\n",
       "(a₉, b₉) = ( 0.55635312499999989, 0.56287734374999987 )\n",
       "(a₁₀, b₁₀) = ( 0.55961523437499983, 0.56287734374999987 )\n",
       "\n"
      ]
     },
     "metadata": {},
     "output_type": "display_data"
    },
    {
     "name": "stderr",
     "output_type": "stream",
     "text": [
      "\u001b[36m\u001b[1m[ \u001b[22m\u001b[39m\u001b[36m\u001b[1mInfo: \u001b[22m\u001b[39mTargeting ϕ=0.5628773437499999\n",
      "\u001b[32mProgress: 100%|█████████████████████████████████████████| Time: 0:02:46\u001b[39m\n"
     ]
    },
    {
     "data": {
      "text/plain": [
       "Results of univariate zero finding:\n",
       "\n",
       "* Converged to: 0.9603094657897947\n",
       "* Algorithm: Bisection()\n",
       "* iterations: 10\n",
       "* function evaluations ≈ 13\n",
       "\n",
       "Trace:\n",
       "(a₀, b₀) = ( 0.78148867187499993, 1 )\n",
       "(a₁, b₁) = ( 0.89074433593749991, 1 )\n",
       "(a₂, b₂) = ( 0.9453721679687499, 1 )\n",
       "(a₃, b₃) = ( 0.9453721679687499, 0.97268608398437495 )\n",
       "(a₄, b₄) = ( 0.95902912597656242, 0.97268608398437495 )\n",
       "(a₅, b₅) = ( 0.95902912597656242, 0.96585760498046869 )\n",
       "(a₆, b₆) = ( 0.95902912597656242, 0.9624433654785155 )\n",
       "(a₇, b₇) = ( 0.95902912597656242, 0.96073624572753891 )\n",
       "(a₈, b₈) = ( 0.95988268585205061, 0.96073624572753891 )\n",
       "(a₉, b₉) = ( 0.95988268585205061, 0.9603094657897947 )\n",
       "(a₁₀, b₁₀) = ( 0.9600960758209226, 0.9603094657897947 )\n",
       "\n"
      ]
     },
     "metadata": {},
     "output_type": "display_data"
    },
    {
     "name": "stderr",
     "output_type": "stream",
     "text": [
      "\u001b[36m\u001b[1m[ \u001b[22m\u001b[39m\u001b[36m\u001b[1mInfo: \u001b[22m\u001b[39mTargeting ϕ=0.9603094657897947\n",
      "\u001b[32mProgress: 100%|█████████████████████████████████████████| Time: 0:02:48\u001b[39m\n",
      "\u001b[36m\u001b[1m[ \u001b[22m\u001b[39m\u001b[36m\u001b[1mInfo: \u001b[22m\u001b[39mLeaving g=37 out\n",
      "\u001b[36m\u001b[1m[ \u001b[22m\u001b[39m\u001b[36m\u001b[1mInfo: \u001b[22m\u001b[39mϕ=1, PSIS\n",
      "\u001b[36m\u001b[1m[ \u001b[22m\u001b[39m\u001b[36m\u001b[1mInfo: \u001b[22m\u001b[39mLeaving g=38 out\n"
     ]
    },
    {
     "data": {
      "text/plain": [
       "Results of univariate zero finding:\n",
       "\n",
       "* Converged to: 0.9445441406249999\n",
       "* Algorithm: Bisection()\n",
       "* iterations: 10\n",
       "* function evaluations ≈ 13\n",
       "\n",
       "Trace:\n",
       "(a₀, b₀) = ( 0.010306249999999999, 1 )\n",
       "(a₁, b₁) = ( 0.103725, 1 )\n",
       "(a₂, b₂) = ( 0.33244999999999997, 1 )\n",
       "(a₃, b₃) = ( 0.58244999999999991, 1 )\n",
       "(a₄, b₄) = ( 0.79122499999999996, 1 )\n",
       "(a₅, b₅) = ( 0.89561249999999992, 1 )\n",
       "(a₆, b₆) = ( 0.89561249999999992, 0.94780624999999996 )\n",
       "(a₇, b₇) = ( 0.92170937499999994, 0.94780624999999996 )\n",
       "(a₈, b₈) = ( 0.9347578124999999, 0.94780624999999996 )\n",
       "(a₉, b₉) = ( 0.94128203124999987, 0.94780624999999996 )\n",
       "(a₁₀, b₁₀) = ( 0.94454414062499992, 0.94780624999999996 )\n",
       "\n"
      ]
     },
     "metadata": {},
     "output_type": "display_data"
    },
    {
     "name": "stderr",
     "output_type": "stream",
     "text": [
      "\u001b[36m\u001b[1m[ \u001b[22m\u001b[39m\u001b[36m\u001b[1mInfo: \u001b[22m\u001b[39mTargeting ϕ=0.9445441406249999\n",
      "\u001b[32mProgress: 100%|█████████████████████████████████████████| Time: 0:02:17\u001b[39m\n",
      "\u001b[36m\u001b[1m[ \u001b[22m\u001b[39m\u001b[36m\u001b[1mInfo: \u001b[22m\u001b[39mϕ=1, PSIS\n",
      "\u001b[36m\u001b[1m[ \u001b[22m\u001b[39m\u001b[36m\u001b[1mInfo: \u001b[22m\u001b[39mLeaving g=39 out\n"
     ]
    },
    {
     "data": {
      "text/plain": [
       "Results of univariate zero finding:\n",
       "\n",
       "* Converged to: 0.7749144531249998\n",
       "* Algorithm: Bisection()\n",
       "* iterations: 10\n",
       "* function evaluations ≈ 13\n",
       "\n",
       "Trace:\n",
       "(a₀, b₀) = ( 0.010306249999999999, 1 )\n",
       "(a₁, b₁) = ( 0.103725, 1 )\n",
       "(a₂, b₂) = ( 0.33244999999999997, 1 )\n",
       "(a₃, b₃) = ( 0.58244999999999991, 1 )\n",
       "(a₄, b₄) = ( 0.58244999999999991, 0.79122499999999996 )\n",
       "(a₅, b₅) = ( 0.68683749999999988, 0.79122499999999996 )\n",
       "(a₆, b₆) = ( 0.73903124999999992, 0.79122499999999996 )\n",
       "(a₇, b₇) = ( 0.76512812499999994, 0.79122499999999996 )\n",
       "(a₈, b₈) = ( 0.76512812499999994, 0.77817656249999989 )\n",
       "(a₉, b₉) = ( 0.77165234374999991, 0.77817656249999989 )\n",
       "(a₁₀, b₁₀) = ( 0.77491445312499985, 0.77817656249999989 )\n",
       "\n"
      ]
     },
     "metadata": {},
     "output_type": "display_data"
    },
    {
     "name": "stderr",
     "output_type": "stream",
     "text": [
      "\u001b[36m\u001b[1m[ \u001b[22m\u001b[39m\u001b[36m\u001b[1mInfo: \u001b[22m\u001b[39mTargeting ϕ=0.7749144531249998\n",
      "\u001b[32mProgress: 100%|█████████████████████████████████████████| Time: 0:03:07\u001b[39m\n",
      "\u001b[36m\u001b[1m[ \u001b[22m\u001b[39m\u001b[36m\u001b[1mInfo: \u001b[22m\u001b[39mϕ=1, PSIS\n",
      "\u001b[36m\u001b[1m[ \u001b[22m\u001b[39m\u001b[36m\u001b[1mInfo: \u001b[22m\u001b[39mLeaving g=40 out\n"
     ]
    },
    {
     "data": {
      "text/plain": [
       "Results of univariate zero finding:\n",
       "\n",
       "* Converged to: 0.6052847656249998\n",
       "* Algorithm: Bisection()\n",
       "* iterations: 10\n",
       "* function evaluations ≈ 13\n",
       "\n",
       "Trace:\n",
       "(a₀, b₀) = ( 0.010306249999999999, 1 )\n",
       "(a₁, b₁) = ( 0.103725, 1 )\n",
       "(a₂, b₂) = ( 0.33244999999999997, 1 )\n",
       "(a₃, b₃) = ( 0.58244999999999991, 1 )\n",
       "(a₄, b₄) = ( 0.58244999999999991, 0.79122499999999996 )\n",
       "(a₅, b₅) = ( 0.58244999999999991, 0.68683749999999988 )\n",
       "(a₆, b₆) = ( 0.58244999999999991, 0.63464374999999984 )\n",
       "(a₇, b₇) = ( 0.58244999999999991, 0.60854687499999982 )\n",
       "(a₈, b₈) = ( 0.59549843749999987, 0.60854687499999982 )\n",
       "(a₉, b₉) = ( 0.60202265624999984, 0.60854687499999982 )\n",
       "(a₁₀, b₁₀) = ( 0.60202265624999984, 0.60528476562499978 )\n",
       "\n"
      ]
     },
     "metadata": {},
     "output_type": "display_data"
    },
    {
     "name": "stderr",
     "output_type": "stream",
     "text": [
      "\u001b[36m\u001b[1m[ \u001b[22m\u001b[39m\u001b[36m\u001b[1mInfo: \u001b[22m\u001b[39mTargeting ϕ=0.6052847656249998\n",
      "\u001b[32mProgress: 100%|█████████████████████████████████████████| Time: 0:02:41\u001b[39m\n"
     ]
    },
    {
     "data": {
      "text/plain": [
       "Results of univariate zero finding:\n",
       "\n",
       "* Converged to: 0.9603072566986083\n",
       "* Algorithm: Bisection()\n",
       "* iterations: 10\n",
       "* function evaluations ≈ 13\n",
       "\n",
       "Trace:\n",
       "(a₀, b₀) = ( 0.80269238281249988, 1 )\n",
       "(a₁, b₁) = ( 0.90134619140624994, 1 )\n",
       "(a₂, b₂) = ( 0.95067309570312497, 1 )\n",
       "(a₃, b₃) = ( 0.95067309570312497, 0.97533654785156243 )\n",
       "(a₄, b₄) = ( 0.95067309570312497, 0.9630048217773437 )\n",
       "(a₅, b₅) = ( 0.95683895874023428, 0.9630048217773437 )\n",
       "(a₆, b₆) = ( 0.95992189025878893, 0.9630048217773437 )\n",
       "(a₇, b₇) = ( 0.95992189025878893, 0.96146335601806632 )\n",
       "(a₈, b₈) = ( 0.95992189025878893, 0.96069262313842763 )\n",
       "(a₉, b₉) = ( 0.95992189025878893, 0.96030725669860828 )\n",
       "(a₁₀, b₁₀) = ( 0.96011457347869855, 0.96030725669860828 )\n",
       "\n"
      ]
     },
     "metadata": {},
     "output_type": "display_data"
    },
    {
     "name": "stderr",
     "output_type": "stream",
     "text": [
      "\u001b[36m\u001b[1m[ \u001b[22m\u001b[39m\u001b[36m\u001b[1mInfo: \u001b[22m\u001b[39mTargeting ϕ=0.9603072566986083\n",
      "\u001b[32mProgress: 100%|█████████████████████████████████████████| Time: 0:02:57\u001b[39m\n",
      "\u001b[36m\u001b[1m[ \u001b[22m\u001b[39m\u001b[36m\u001b[1mInfo: \u001b[22m\u001b[39mϕ=1, PSIS\n",
      "\u001b[36m\u001b[1m[ \u001b[22m\u001b[39m\u001b[36m\u001b[1mInfo: \u001b[22m\u001b[39mLeaving g=41 out\n"
     ]
    },
    {
     "data": {
      "text/plain": [
       "Results of univariate zero finding:\n",
       "\n",
       "* Converged to: 0.5400425781249998\n",
       "* Algorithm: Bisection()\n",
       "* iterations: 10\n",
       "* function evaluations ≈ 13\n",
       "\n",
       "Trace:\n",
       "(a₀, b₀) = ( 0.010306249999999999, 1 )\n",
       "(a₁, b₁) = ( 0.103725, 1 )\n",
       "(a₂, b₂) = ( 0.33244999999999997, 1 )\n",
       "(a₃, b₃) = ( 0.33244999999999997, 0.58244999999999991 )\n",
       "(a₄, b₄) = ( 0.43683749999999993, 0.58244999999999991 )\n",
       "(a₅, b₅) = ( 0.48903124999999992, 0.58244999999999991 )\n",
       "(a₆, b₆) = ( 0.53025624999999987, 0.58244999999999991 )\n",
       "(a₇, b₇) = ( 0.53025624999999987, 0.55635312499999989 )\n",
       "(a₈, b₈) = ( 0.53025624999999987, 0.54330468749999983 )\n",
       "(a₉, b₉) = ( 0.53678046874999985, 0.54330468749999983 )\n",
       "(a₁₀, b₁₀) = ( 0.54004257812499978, 0.54330468749999983 )\n",
       "\n"
      ]
     },
     "metadata": {},
     "output_type": "display_data"
    },
    {
     "name": "stderr",
     "output_type": "stream",
     "text": [
      "\u001b[36m\u001b[1m[ \u001b[22m\u001b[39m\u001b[36m\u001b[1mInfo: \u001b[22m\u001b[39mTargeting ϕ=0.5400425781249998\n",
      "\u001b[32mProgress: 100%|█████████████████████████████████████████| Time: 0:02:36\u001b[39m\n"
     ]
    },
    {
     "data": {
      "text/plain": [
       "Results of univariate zero finding:\n",
       "\n",
       "* Converged to: 0.859213572502136\n",
       "* Algorithm: Bisection()\n",
       "* iterations: 10\n",
       "* function evaluations ≈ 13\n",
       "\n",
       "Trace:\n",
       "(a₀, b₀) = ( 0.77007128906249989, 1 )\n",
       "(a₁, b₁) = ( 0.77007128906249989, 0.88503564453124994 )\n",
       "(a₂, b₂) = ( 0.82755346679687491, 0.88503564453124994 )\n",
       "(a₃, b₃) = ( 0.85629455566406243, 0.88503564453124994 )\n",
       "(a₄, b₄) = ( 0.85629455566406243, 0.87066510009765619 )\n",
       "(a₅, b₅) = ( 0.85629455566406243, 0.86347982788085931 )\n",
       "(a₆, b₆) = ( 0.85629455566406243, 0.85988719177246087 )\n",
       "(a₇, b₇) = ( 0.85809087371826165, 0.85988719177246087 )\n",
       "(a₈, b₈) = ( 0.8589890327453612, 0.85988719177246087 )\n",
       "(a₉, b₉) = ( 0.8589890327453612, 0.85943811225891098 )\n",
       "(a₁₀, b₁₀) = ( 0.85921357250213604, 0.85943811225891098 )\n",
       "\n"
      ]
     },
     "metadata": {},
     "output_type": "display_data"
    },
    {
     "name": "stderr",
     "output_type": "stream",
     "text": [
      "\u001b[36m\u001b[1m[ \u001b[22m\u001b[39m\u001b[36m\u001b[1mInfo: \u001b[22m\u001b[39mTargeting ϕ=0.859213572502136\n",
      "\u001b[32mProgress: 100%|█████████████████████████████████████████| Time: 0:02:27\u001b[39m\n",
      "\u001b[36m\u001b[1m[ \u001b[22m\u001b[39m\u001b[36m\u001b[1mInfo: \u001b[22m\u001b[39mϕ=1, PSIS\n",
      "\u001b[36m\u001b[1m[ \u001b[22m\u001b[39m\u001b[36m\u001b[1mInfo: \u001b[22m\u001b[39mLeaving g=42 out\n",
      "\u001b[36m\u001b[1m[ \u001b[22m\u001b[39m\u001b[36m\u001b[1mInfo: \u001b[22m\u001b[39mϕ=1, PSIS\n",
      "\u001b[36m\u001b[1m[ \u001b[22m\u001b[39m\u001b[36m\u001b[1mInfo: \u001b[22m\u001b[39mLeaving g=43 out\n",
      "\u001b[36m\u001b[1m[ \u001b[22m\u001b[39m\u001b[36m\u001b[1mInfo: \u001b[22m\u001b[39mϕ=1, PSIS\n",
      "\u001b[36m\u001b[1m[ \u001b[22m\u001b[39m\u001b[36m\u001b[1mInfo: \u001b[22m\u001b[39mLeaving g=44 out\n",
      "\u001b[36m\u001b[1m[ \u001b[22m\u001b[39m\u001b[36m\u001b[1mInfo: \u001b[22m\u001b[39mϕ=1, PSIS\n",
      "\u001b[36m\u001b[1m[ \u001b[22m\u001b[39m\u001b[36m\u001b[1mInfo: \u001b[22m\u001b[39mLeaving g=45 out\n"
     ]
    },
    {
     "data": {
      "text/plain": [
       "Results of univariate zero finding:\n",
       "\n",
       "* Converged to: 0.6574785156249998\n",
       "* Algorithm: Bisection()\n",
       "* iterations: 10\n",
       "* function evaluations ≈ 13\n",
       "\n",
       "Trace:\n",
       "(a₀, b₀) = ( 0.010306249999999999, 1 )\n",
       "(a₁, b₁) = ( 0.103725, 1 )\n",
       "(a₂, b₂) = ( 0.33244999999999997, 1 )\n",
       "(a₃, b₃) = ( 0.58244999999999991, 1 )\n",
       "(a₄, b₄) = ( 0.58244999999999991, 0.79122499999999996 )\n",
       "(a₅, b₅) = ( 0.58244999999999991, 0.68683749999999988 )\n",
       "(a₆, b₆) = ( 0.63464374999999984, 0.68683749999999988 )\n",
       "(a₇, b₇) = ( 0.63464374999999984, 0.66074062499999986 )\n",
       "(a₈, b₈) = ( 0.64769218749999979, 0.66074062499999986 )\n",
       "(a₉, b₉) = ( 0.65421640624999977, 0.66074062499999986 )\n",
       "(a₁₀, b₁₀) = ( 0.65747851562499982, 0.66074062499999986 )\n",
       "\n"
      ]
     },
     "metadata": {},
     "output_type": "display_data"
    },
    {
     "name": "stderr",
     "output_type": "stream",
     "text": [
      "\u001b[36m\u001b[1m[ \u001b[22m\u001b[39m\u001b[36m\u001b[1mInfo: \u001b[22m\u001b[39mTargeting ϕ=0.6574785156249998\n",
      "\u001b[32mProgress: 100%|█████████████████████████████████████████| Time: 0:02:11\u001b[39m\n",
      "\u001b[36m\u001b[1m[ \u001b[22m\u001b[39m\u001b[36m\u001b[1mInfo: \u001b[22m\u001b[39mϕ=1, MCMC\n",
      "\u001b[32mProgress: 100%|█████████████████████████████████████████| Time: 0:02:10\u001b[39m\n",
      "\u001b[36m\u001b[1m[ \u001b[22m\u001b[39m\u001b[36m\u001b[1mInfo: \u001b[22m\u001b[39mLeaving g=46 out\n",
      "\u001b[36m\u001b[1m[ \u001b[22m\u001b[39m\u001b[36m\u001b[1mInfo: \u001b[22m\u001b[39mϕ=1, PSIS\n",
      "\u001b[36m\u001b[1m[ \u001b[22m\u001b[39m\u001b[36m\u001b[1mInfo: \u001b[22m\u001b[39mLeaving g=47 out\n"
     ]
    },
    {
     "data": {
      "text/plain": [
       "Results of univariate zero finding:\n",
       "\n",
       "* Converged to: 0.5628773437499999\n",
       "* Algorithm: Bisection()\n",
       "* iterations: 10\n",
       "* function evaluations ≈ 13\n",
       "\n",
       "Trace:\n",
       "(a₀, b₀) = ( 0.010306249999999999, 1 )\n",
       "(a₁, b₁) = ( 0.103725, 1 )\n",
       "(a₂, b₂) = ( 0.33244999999999997, 1 )\n",
       "(a₃, b₃) = ( 0.33244999999999997, 0.58244999999999991 )\n",
       "(a₄, b₄) = ( 0.43683749999999993, 0.58244999999999991 )\n",
       "(a₅, b₅) = ( 0.48903124999999992, 0.58244999999999991 )\n",
       "(a₆, b₆) = ( 0.53025624999999987, 0.58244999999999991 )\n",
       "(a₇, b₇) = ( 0.55635312499999989, 0.58244999999999991 )\n",
       "(a₈, b₈) = ( 0.55635312499999989, 0.56940156249999985 )\n",
       "(a₉, b₉) = ( 0.56287734374999987, 0.56940156249999985 )\n",
       "(a₁₀, b₁₀) = ( 0.56287734374999987, 0.5661394531249998 )\n",
       "\n"
      ]
     },
     "metadata": {},
     "output_type": "display_data"
    },
    {
     "name": "stderr",
     "output_type": "stream",
     "text": [
      "\u001b[36m\u001b[1m[ \u001b[22m\u001b[39m\u001b[36m\u001b[1mInfo: \u001b[22m\u001b[39mTargeting ϕ=0.5628773437499999\n",
      "\u001b[32mProgress:  19%|████████                                 |  ETA: 0:02:36\u001b[39m"
     ]
    }
   ],
   "source": [
    "let\n",
    "    Random.seed!(1)\n",
    "    use_chain = chain\n",
    "\n",
    "    R = length(use_chain)\n",
    "    particles = []\n",
    "    weights = []\n",
    "    ϕ_histories = []\n",
    "    k̂s = []\n",
    "    times = Float64[]\n",
    "    for leave_g in 1:data.G\n",
    "        @info \"Leaving g=$(leave_g) out\"\n",
    "        results = SMCS_Radon(use_chain, leave_g)\n",
    "        #break\n",
    "        push!(particles, results[:particles])\n",
    "        push!(weights, results[:weights])\n",
    "        push!(ϕ_histories, results[:ϕ_history])\n",
    "        push!(k̂s, results[:k̂])\n",
    "        push!(times, results[:time])\n",
    "    end\n",
    "    \n",
    "    global particles_radon = particles\n",
    "    global weights_radon = weights\n",
    "    global histories_radon = ϕ_histories\n",
    "    global k̂s_radon = k̂s\n",
    "    global times_radon = times\n",
    "end;"
   ]
  },
  {
   "cell_type": "code",
   "execution_count": 44,
   "id": "132decf6-57f4-48a1-bfe5-0f33a3a98c22",
   "metadata": {},
   "outputs": [],
   "source": [
    "save(\"output/radon/particles_radon.jld\", \"data\", particles_radon .|> Matrix) # [g][n,d]\n",
    "save(\"output/radon/weights_radon.jld\", \"data\", weights_radon .|> Vector) # [g][n]\n",
    "save(\"output/radon/histories_radon.jld\", \"data\", histories_radon .|> Vector) # [g][L_g]\n",
    "save(\"output/radon/khats_radon.jld\", \"data\", k̂s_radon) # g\n",
    "save(\"output/radon/times_radon.jld\", \"data\", times_radon) # g"
   ]
  },
  {
   "cell_type": "markdown",
   "id": "b942f83a-1629-4f50-9102-5e9a960b32ea",
   "metadata": {},
   "source": [
    "### PSIS-LGO"
   ]
  },
  {
   "cell_type": "code",
   "execution_count": 12,
   "id": "b7ff5158-a923-4344-8949-901c2a93df2a",
   "metadata": {},
   "outputs": [
    {
     "data": {
      "text/plain": [
       "PSIS_Radon (generic function with 1 method)"
      ]
     },
     "execution_count": 12,
     "metadata": {},
     "output_type": "execute_result"
    }
   ],
   "source": [
    "function PSIS_Radon(chain::Vector{Vector{Float64}}, leave_g::Int64)\n",
    "    model = Model(data, leave_g, 0)\n",
    "    draws_0 = chain .|> bijector(model) |> vecvec2mat # unconstrain\n",
    "    \n",
    "    # Define problem dimensions\n",
    "    R = size(draws_0, 1)\n",
    "    D = size(draws_0, 2)\n",
    "    L = 1 # maximum\n",
    "    _names = sample(model, Prior(), 1).name_map.parameters .|> String\n",
    "    \n",
    "    # Obtain unconstrained prior draw\n",
    "    Θ_0 = NamedArray(\n",
    "        draws_0,\n",
    "        (1:R, _names),\n",
    "        (:n, :d),\n",
    "    )\n",
    "    \n",
    "    # Initialize containers\n",
    "    particles   = NamedArray(zeros(L+1, R, D), (0:L, 1:R, _names), (:l, :n, :d))\n",
    "    weights     = NamedArray(zeros(L+1, R), (0:L, 1:R), (:l, :n))\n",
    "    k̂           = nothing\n",
    "    mcmc_flag   = NamedArray(zeros(L+1), 0:L, :l)\n",
    "    \n",
    "    # Log weights normalizer\n",
    "    function _normalize(_log_w::Vector{Float64})::Vector{Float64}\n",
    "        # normalize log weights\n",
    "        _w = exp.(_log_w .- maximum(_log_w))\n",
    "        _w = _w / sum(_w)\n",
    "        _w\n",
    "    end\n",
    "\n",
    "    # Log ratio\n",
    "    function log_G(ℓπ_0, ℓπ_1, l::Int, n::Int)::Float64\n",
    "        _particle = particles[:l => l-1, :n => n]\n",
    "        log_γ_0 = LogDensityProblems.logdensity(ℓπ_0, _particle)\n",
    "        log_γ_1 = LogDensityProblems.logdensity(ℓπ_1, _particle)\n",
    "        log_γ_1 - log_γ_0\n",
    "    end\n",
    "    \n",
    "    # Set initial values, starting index\n",
    "    particles[:l => 0] = Θ_0 # sample from prior\n",
    "    weights[:l => 0] = repeat([1/R], R)\n",
    "    \n",
    "    time = @elapsed (l = 1;\n",
    "        ϕ_0 = 0;\n",
    "        model_0 = Model(data, leave_g, ϕ_0);\n",
    "        ℓπ_0 = LogDensityFunction(model_0);\n",
    "        DynamicPPL.link!!(ℓπ_0.varinfo, model_0);\n",
    "        \n",
    "        # Compute log weights\n",
    "        ϕ_1 = 1;\n",
    "        model_1 = Model(data, leave_g, ϕ_1);\n",
    "        ℓπ_1 = LogDensityFunction(model_1);\n",
    "        DynamicPPL.link!!(ℓπ_1.varinfo, model_1);\n",
    "        \n",
    "        _log_weights = [log_G(ℓπ_0, ℓπ_1, l, n) for n in 1:R];\n",
    "        _log_weights = _log_weights .- maximum(_log_weights);\n",
    "\n",
    "        # PSIS\n",
    "        _psis = psis(_log_weights; warn=false);\n",
    "        particles[:l => l] = particles[:l => l-1];\n",
    "        weights[:l => l] = _psis.log_weights |> _normalize;\n",
    "    )\n",
    "    \n",
    "    k̂ = _psis.pareto_shape;\n",
    "    particles = particles[Name(L),:,:]\n",
    "    weights   = weights[Name(L), :]\n",
    "\n",
    "    (; R, D, L, particles, weights, k̂, time)\n",
    "end"
   ]
  },
  {
   "cell_type": "code",
   "execution_count": 14,
   "id": "76842bd8-affc-4c54-825e-8844cd356bd0",
   "metadata": {
    "scrolled": true
   },
   "outputs": [
    {
     "name": "stderr",
     "output_type": "stream",
     "text": [
      "\u001b[36m\u001b[1m[ \u001b[22m\u001b[39m\u001b[36m\u001b[1mInfo: \u001b[22m\u001b[39mLeaving g=1 out\n",
      "\u001b[32mProgress: 100%|█████████████████████████████████████████| Time: 0:00:01\u001b[39m\n",
      "\u001b[36m\u001b[1m[ \u001b[22m\u001b[39m\u001b[36m\u001b[1mInfo: \u001b[22m\u001b[39mLeaving g=2 out\n",
      "\u001b[32mProgress: 100%|█████████████████████████████████████████| Time: 0:00:01\u001b[39m\n",
      "\u001b[36m\u001b[1m[ \u001b[22m\u001b[39m\u001b[36m\u001b[1mInfo: \u001b[22m\u001b[39mLeaving g=3 out\n",
      "\u001b[32mProgress: 100%|█████████████████████████████████████████| Time: 0:00:01\u001b[39m\n",
      "\u001b[36m\u001b[1m[ \u001b[22m\u001b[39m\u001b[36m\u001b[1mInfo: \u001b[22m\u001b[39mLeaving g=4 out\n",
      "\u001b[32mProgress: 100%|█████████████████████████████████████████| Time: 0:00:01\u001b[39m\n",
      "\u001b[36m\u001b[1m[ \u001b[22m\u001b[39m\u001b[36m\u001b[1mInfo: \u001b[22m\u001b[39mLeaving g=5 out\n",
      "\u001b[32mProgress: 100%|█████████████████████████████████████████| Time: 0:00:01\u001b[39m\n",
      "\u001b[36m\u001b[1m[ \u001b[22m\u001b[39m\u001b[36m\u001b[1mInfo: \u001b[22m\u001b[39mLeaving g=6 out\n",
      "\u001b[32mProgress: 100%|█████████████████████████████████████████| Time: 0:00:01\u001b[39m\n",
      "\u001b[36m\u001b[1m[ \u001b[22m\u001b[39m\u001b[36m\u001b[1mInfo: \u001b[22m\u001b[39mLeaving g=7 out\n",
      "\u001b[32mProgress: 100%|█████████████████████████████████████████| Time: 0:00:01\u001b[39m\n",
      "\u001b[36m\u001b[1m[ \u001b[22m\u001b[39m\u001b[36m\u001b[1mInfo: \u001b[22m\u001b[39mLeaving g=8 out\n",
      "\u001b[32mProgress: 100%|█████████████████████████████████████████| Time: 0:00:01\u001b[39m\n",
      "\u001b[36m\u001b[1m[ \u001b[22m\u001b[39m\u001b[36m\u001b[1mInfo: \u001b[22m\u001b[39mLeaving g=9 out\n",
      "\u001b[32mProgress: 100%|█████████████████████████████████████████| Time: 0:00:01\u001b[39m\n",
      "\u001b[36m\u001b[1m[ \u001b[22m\u001b[39m\u001b[36m\u001b[1mInfo: \u001b[22m\u001b[39mLeaving g=10 out\n",
      "\u001b[32mProgress: 100%|█████████████████████████████████████████| Time: 0:00:01\u001b[39m\n",
      "\u001b[36m\u001b[1m[ \u001b[22m\u001b[39m\u001b[36m\u001b[1mInfo: \u001b[22m\u001b[39mLeaving g=11 out\n",
      "\u001b[32mProgress: 100%|█████████████████████████████████████████| Time: 0:00:01\u001b[39m\n",
      "\u001b[36m\u001b[1m[ \u001b[22m\u001b[39m\u001b[36m\u001b[1mInfo: \u001b[22m\u001b[39mLeaving g=12 out\n",
      "\u001b[32mProgress: 100%|█████████████████████████████████████████| Time: 0:00:01\u001b[39m\n",
      "\u001b[36m\u001b[1m[ \u001b[22m\u001b[39m\u001b[36m\u001b[1mInfo: \u001b[22m\u001b[39mLeaving g=13 out\n",
      "\u001b[32mProgress: 100%|█████████████████████████████████████████| Time: 0:00:01\u001b[39m\n",
      "\u001b[36m\u001b[1m[ \u001b[22m\u001b[39m\u001b[36m\u001b[1mInfo: \u001b[22m\u001b[39mLeaving g=14 out\n",
      "\u001b[32mProgress: 100%|█████████████████████████████████████████| Time: 0:00:01\u001b[39m\n",
      "\u001b[36m\u001b[1m[ \u001b[22m\u001b[39m\u001b[36m\u001b[1mInfo: \u001b[22m\u001b[39mLeaving g=15 out\n",
      "\u001b[32mProgress: 100%|█████████████████████████████████████████| Time: 0:00:01\u001b[39m\n",
      "\u001b[36m\u001b[1m[ \u001b[22m\u001b[39m\u001b[36m\u001b[1mInfo: \u001b[22m\u001b[39mLeaving g=16 out\n",
      "\u001b[32mProgress: 100%|█████████████████████████████████████████| Time: 0:00:01\u001b[39m\n",
      "\u001b[36m\u001b[1m[ \u001b[22m\u001b[39m\u001b[36m\u001b[1mInfo: \u001b[22m\u001b[39mLeaving g=17 out\n",
      "\u001b[32mProgress: 100%|█████████████████████████████████████████| Time: 0:00:01\u001b[39m\n",
      "\u001b[36m\u001b[1m[ \u001b[22m\u001b[39m\u001b[36m\u001b[1mInfo: \u001b[22m\u001b[39mLeaving g=18 out\n",
      "\u001b[32mProgress: 100%|█████████████████████████████████████████| Time: 0:00:01\u001b[39m\n",
      "\u001b[36m\u001b[1m[ \u001b[22m\u001b[39m\u001b[36m\u001b[1mInfo: \u001b[22m\u001b[39mLeaving g=19 out\n",
      "\u001b[32mProgress: 100%|█████████████████████████████████████████| Time: 0:00:01\u001b[39m\n",
      "\u001b[36m\u001b[1m[ \u001b[22m\u001b[39m\u001b[36m\u001b[1mInfo: \u001b[22m\u001b[39mLeaving g=20 out\n",
      "\u001b[32mProgress: 100%|█████████████████████████████████████████| Time: 0:00:01\u001b[39m\n",
      "\u001b[36m\u001b[1m[ \u001b[22m\u001b[39m\u001b[36m\u001b[1mInfo: \u001b[22m\u001b[39mLeaving g=21 out\n",
      "\u001b[32mProgress: 100%|█████████████████████████████████████████| Time: 0:00:01\u001b[39m\n",
      "\u001b[36m\u001b[1m[ \u001b[22m\u001b[39m\u001b[36m\u001b[1mInfo: \u001b[22m\u001b[39mLeaving g=22 out\n",
      "\u001b[32mProgress: 100%|█████████████████████████████████████████| Time: 0:00:01\u001b[39m\n",
      "\u001b[36m\u001b[1m[ \u001b[22m\u001b[39m\u001b[36m\u001b[1mInfo: \u001b[22m\u001b[39mLeaving g=23 out\n",
      "\u001b[32mProgress: 100%|█████████████████████████████████████████| Time: 0:00:01\u001b[39m\n",
      "\u001b[36m\u001b[1m[ \u001b[22m\u001b[39m\u001b[36m\u001b[1mInfo: \u001b[22m\u001b[39mLeaving g=24 out\n",
      "\u001b[32mProgress: 100%|█████████████████████████████████████████| Time: 0:00:01\u001b[39m\n",
      "\u001b[36m\u001b[1m[ \u001b[22m\u001b[39m\u001b[36m\u001b[1mInfo: \u001b[22m\u001b[39mLeaving g=25 out\n",
      "\u001b[32mProgress: 100%|█████████████████████████████████████████| Time: 0:00:01\u001b[39m\n",
      "\u001b[36m\u001b[1m[ \u001b[22m\u001b[39m\u001b[36m\u001b[1mInfo: \u001b[22m\u001b[39mLeaving g=26 out\n",
      "\u001b[32mProgress: 100%|█████████████████████████████████████████| Time: 0:00:01\u001b[39m\n",
      "\u001b[36m\u001b[1m[ \u001b[22m\u001b[39m\u001b[36m\u001b[1mInfo: \u001b[22m\u001b[39mLeaving g=27 out\n",
      "\u001b[32mProgress: 100%|█████████████████████████████████████████| Time: 0:00:01\u001b[39m\n",
      "\u001b[36m\u001b[1m[ \u001b[22m\u001b[39m\u001b[36m\u001b[1mInfo: \u001b[22m\u001b[39mLeaving g=28 out\n",
      "\u001b[32mProgress: 100%|█████████████████████████████████████████| Time: 0:00:01\u001b[39m\n",
      "\u001b[36m\u001b[1m[ \u001b[22m\u001b[39m\u001b[36m\u001b[1mInfo: \u001b[22m\u001b[39mLeaving g=29 out\n",
      "\u001b[32mProgress: 100%|█████████████████████████████████████████| Time: 0:00:01\u001b[39m\n",
      "\u001b[36m\u001b[1m[ \u001b[22m\u001b[39m\u001b[36m\u001b[1mInfo: \u001b[22m\u001b[39mLeaving g=30 out\n",
      "\u001b[32mProgress: 100%|█████████████████████████████████████████| Time: 0:00:01\u001b[39m\n",
      "\u001b[36m\u001b[1m[ \u001b[22m\u001b[39m\u001b[36m\u001b[1mInfo: \u001b[22m\u001b[39mLeaving g=31 out\n",
      "\u001b[32mProgress: 100%|█████████████████████████████████████████| Time: 0:00:01\u001b[39m\n",
      "\u001b[36m\u001b[1m[ \u001b[22m\u001b[39m\u001b[36m\u001b[1mInfo: \u001b[22m\u001b[39mLeaving g=32 out\n",
      "\u001b[32mProgress: 100%|█████████████████████████████████████████| Time: 0:00:01\u001b[39m\n",
      "\u001b[36m\u001b[1m[ \u001b[22m\u001b[39m\u001b[36m\u001b[1mInfo: \u001b[22m\u001b[39mLeaving g=33 out\n",
      "\u001b[32mProgress: 100%|█████████████████████████████████████████| Time: 0:00:01\u001b[39m\n",
      "\u001b[36m\u001b[1m[ \u001b[22m\u001b[39m\u001b[36m\u001b[1mInfo: \u001b[22m\u001b[39mLeaving g=34 out\n",
      "\u001b[32mProgress: 100%|█████████████████████████████████████████| Time: 0:00:01\u001b[39m\n",
      "\u001b[36m\u001b[1m[ \u001b[22m\u001b[39m\u001b[36m\u001b[1mInfo: \u001b[22m\u001b[39mLeaving g=35 out\n",
      "\u001b[32mProgress: 100%|█████████████████████████████████████████| Time: 0:00:01\u001b[39m\n",
      "\u001b[36m\u001b[1m[ \u001b[22m\u001b[39m\u001b[36m\u001b[1mInfo: \u001b[22m\u001b[39mLeaving g=36 out\n",
      "\u001b[32mProgress: 100%|█████████████████████████████████████████| Time: 0:00:01\u001b[39m\n",
      "\u001b[36m\u001b[1m[ \u001b[22m\u001b[39m\u001b[36m\u001b[1mInfo: \u001b[22m\u001b[39mLeaving g=37 out\n",
      "\u001b[32mProgress: 100%|█████████████████████████████████████████| Time: 0:00:01\u001b[39m\n",
      "\u001b[36m\u001b[1m[ \u001b[22m\u001b[39m\u001b[36m\u001b[1mInfo: \u001b[22m\u001b[39mLeaving g=38 out\n",
      "\u001b[32mProgress: 100%|█████████████████████████████████████████| Time: 0:00:01\u001b[39m\n",
      "\u001b[36m\u001b[1m[ \u001b[22m\u001b[39m\u001b[36m\u001b[1mInfo: \u001b[22m\u001b[39mLeaving g=39 out\n",
      "\u001b[32mProgress: 100%|█████████████████████████████████████████| Time: 0:00:01\u001b[39m\n",
      "\u001b[36m\u001b[1m[ \u001b[22m\u001b[39m\u001b[36m\u001b[1mInfo: \u001b[22m\u001b[39mLeaving g=40 out\n",
      "\u001b[32mProgress: 100%|█████████████████████████████████████████| Time: 0:00:01\u001b[39m\n",
      "\u001b[36m\u001b[1m[ \u001b[22m\u001b[39m\u001b[36m\u001b[1mInfo: \u001b[22m\u001b[39mLeaving g=41 out\n",
      "\u001b[32mProgress: 100%|█████████████████████████████████████████| Time: 0:00:01\u001b[39m\n",
      "\u001b[36m\u001b[1m[ \u001b[22m\u001b[39m\u001b[36m\u001b[1mInfo: \u001b[22m\u001b[39mLeaving g=42 out\n",
      "\u001b[32mProgress: 100%|█████████████████████████████████████████| Time: 0:00:01\u001b[39m\n",
      "\u001b[36m\u001b[1m[ \u001b[22m\u001b[39m\u001b[36m\u001b[1mInfo: \u001b[22m\u001b[39mLeaving g=43 out\n",
      "\u001b[32mProgress: 100%|█████████████████████████████████████████| Time: 0:00:01\u001b[39m\n",
      "\u001b[36m\u001b[1m[ \u001b[22m\u001b[39m\u001b[36m\u001b[1mInfo: \u001b[22m\u001b[39mLeaving g=44 out\n",
      "\u001b[32mProgress: 100%|█████████████████████████████████████████| Time: 0:00:01\u001b[39m\n",
      "\u001b[36m\u001b[1m[ \u001b[22m\u001b[39m\u001b[36m\u001b[1mInfo: \u001b[22m\u001b[39mLeaving g=45 out\n",
      "\u001b[32mProgress: 100%|█████████████████████████████████████████| Time: 0:00:01\u001b[39m\n",
      "\u001b[36m\u001b[1m[ \u001b[22m\u001b[39m\u001b[36m\u001b[1mInfo: \u001b[22m\u001b[39mLeaving g=46 out\n",
      "\u001b[32mProgress: 100%|█████████████████████████████████████████| Time: 0:00:01\u001b[39m\n",
      "\u001b[36m\u001b[1m[ \u001b[22m\u001b[39m\u001b[36m\u001b[1mInfo: \u001b[22m\u001b[39mLeaving g=47 out\n",
      "\u001b[32mProgress: 100%|█████████████████████████████████████████| Time: 0:00:01\u001b[39m\n",
      "\u001b[36m\u001b[1m[ \u001b[22m\u001b[39m\u001b[36m\u001b[1mInfo: \u001b[22m\u001b[39mLeaving g=48 out\n",
      "\u001b[32mProgress: 100%|█████████████████████████████████████████| Time: 0:00:01\u001b[39m\n",
      "\u001b[36m\u001b[1m[ \u001b[22m\u001b[39m\u001b[36m\u001b[1mInfo: \u001b[22m\u001b[39mLeaving g=49 out\n",
      "\u001b[32mProgress: 100%|█████████████████████████████████████████| Time: 0:00:01\u001b[39m\n",
      "\u001b[36m\u001b[1m[ \u001b[22m\u001b[39m\u001b[36m\u001b[1mInfo: \u001b[22m\u001b[39mLeaving g=50 out\n",
      "\u001b[32mProgress: 100%|█████████████████████████████████████████| Time: 0:00:01\u001b[39m\n",
      "\u001b[36m\u001b[1m[ \u001b[22m\u001b[39m\u001b[36m\u001b[1mInfo: \u001b[22m\u001b[39mLeaving g=51 out\n",
      "\u001b[32mProgress: 100%|█████████████████████████████████████████| Time: 0:00:01\u001b[39m\n",
      "\u001b[36m\u001b[1m[ \u001b[22m\u001b[39m\u001b[36m\u001b[1mInfo: \u001b[22m\u001b[39mLeaving g=52 out\n",
      "\u001b[32mProgress: 100%|█████████████████████████████████████████| Time: 0:00:01\u001b[39m\n",
      "\u001b[36m\u001b[1m[ \u001b[22m\u001b[39m\u001b[36m\u001b[1mInfo: \u001b[22m\u001b[39mLeaving g=53 out\n",
      "\u001b[32mProgress: 100%|█████████████████████████████████████████| Time: 0:00:01\u001b[39m\n",
      "\u001b[36m\u001b[1m[ \u001b[22m\u001b[39m\u001b[36m\u001b[1mInfo: \u001b[22m\u001b[39mLeaving g=54 out\n",
      "\u001b[32mProgress: 100%|█████████████████████████████████████████| Time: 0:00:01\u001b[39m\n",
      "\u001b[36m\u001b[1m[ \u001b[22m\u001b[39m\u001b[36m\u001b[1mInfo: \u001b[22m\u001b[39mLeaving g=55 out\n",
      "\u001b[32mProgress: 100%|█████████████████████████████████████████| Time: 0:00:01\u001b[39m\n",
      "\u001b[36m\u001b[1m[ \u001b[22m\u001b[39m\u001b[36m\u001b[1mInfo: \u001b[22m\u001b[39mLeaving g=56 out\n",
      "\u001b[32mProgress: 100%|█████████████████████████████████████████| Time: 0:00:01\u001b[39m\n",
      "\u001b[36m\u001b[1m[ \u001b[22m\u001b[39m\u001b[36m\u001b[1mInfo: \u001b[22m\u001b[39mLeaving g=57 out\n",
      "\u001b[32mProgress: 100%|█████████████████████████████████████████| Time: 0:00:01\u001b[39m\n",
      "\u001b[36m\u001b[1m[ \u001b[22m\u001b[39m\u001b[36m\u001b[1mInfo: \u001b[22m\u001b[39mLeaving g=58 out\n",
      "\u001b[32mProgress: 100%|█████████████████████████████████████████| Time: 0:00:01\u001b[39m\n",
      "\u001b[36m\u001b[1m[ \u001b[22m\u001b[39m\u001b[36m\u001b[1mInfo: \u001b[22m\u001b[39mLeaving g=59 out\n",
      "\u001b[32mProgress: 100%|█████████████████████████████████████████| Time: 0:00:01\u001b[39m\n",
      "\u001b[36m\u001b[1m[ \u001b[22m\u001b[39m\u001b[36m\u001b[1mInfo: \u001b[22m\u001b[39mLeaving g=60 out\n",
      "\u001b[32mProgress: 100%|█████████████████████████████████████████| Time: 0:00:01\u001b[39m\n",
      "\u001b[36m\u001b[1m[ \u001b[22m\u001b[39m\u001b[36m\u001b[1mInfo: \u001b[22m\u001b[39mLeaving g=61 out\n",
      "\u001b[32mProgress: 100%|█████████████████████████████████████████| Time: 0:00:01\u001b[39m\n",
      "\u001b[36m\u001b[1m[ \u001b[22m\u001b[39m\u001b[36m\u001b[1mInfo: \u001b[22m\u001b[39mLeaving g=62 out\n",
      "\u001b[32mProgress: 100%|█████████████████████████████████████████| Time: 0:00:01\u001b[39m\n",
      "\u001b[36m\u001b[1m[ \u001b[22m\u001b[39m\u001b[36m\u001b[1mInfo: \u001b[22m\u001b[39mLeaving g=63 out\n",
      "\u001b[32mProgress: 100%|█████████████████████████████████████████| Time: 0:00:01\u001b[39m\n",
      "\u001b[36m\u001b[1m[ \u001b[22m\u001b[39m\u001b[36m\u001b[1mInfo: \u001b[22m\u001b[39mLeaving g=64 out\n",
      "\u001b[32mProgress: 100%|█████████████████████████████████████████| Time: 0:00:01\u001b[39m\n",
      "\u001b[36m\u001b[1m[ \u001b[22m\u001b[39m\u001b[36m\u001b[1mInfo: \u001b[22m\u001b[39mLeaving g=65 out\n",
      "\u001b[32mProgress: 100%|█████████████████████████████████████████| Time: 0:00:01\u001b[39m\n",
      "\u001b[36m\u001b[1m[ \u001b[22m\u001b[39m\u001b[36m\u001b[1mInfo: \u001b[22m\u001b[39mLeaving g=66 out\n",
      "\u001b[32mProgress: 100%|█████████████████████████████████████████| Time: 0:00:01\u001b[39m\n",
      "\u001b[36m\u001b[1m[ \u001b[22m\u001b[39m\u001b[36m\u001b[1mInfo: \u001b[22m\u001b[39mLeaving g=67 out\n",
      "\u001b[32mProgress: 100%|█████████████████████████████████████████| Time: 0:00:01\u001b[39m\n",
      "\u001b[36m\u001b[1m[ \u001b[22m\u001b[39m\u001b[36m\u001b[1mInfo: \u001b[22m\u001b[39mLeaving g=68 out\n",
      "\u001b[32mProgress: 100%|█████████████████████████████████████████| Time: 0:00:01\u001b[39m\n",
      "\u001b[36m\u001b[1m[ \u001b[22m\u001b[39m\u001b[36m\u001b[1mInfo: \u001b[22m\u001b[39mLeaving g=69 out\n",
      "\u001b[32mProgress: 100%|█████████████████████████████████████████| Time: 0:00:01\u001b[39m\n",
      "\u001b[36m\u001b[1m[ \u001b[22m\u001b[39m\u001b[36m\u001b[1mInfo: \u001b[22m\u001b[39mLeaving g=70 out\n",
      "\u001b[32mProgress: 100%|█████████████████████████████████████████| Time: 0:00:01\u001b[39m\n",
      "\u001b[36m\u001b[1m[ \u001b[22m\u001b[39m\u001b[36m\u001b[1mInfo: \u001b[22m\u001b[39mLeaving g=71 out\n",
      "\u001b[32mProgress: 100%|█████████████████████████████████████████| Time: 0:00:01\u001b[39m\n",
      "\u001b[36m\u001b[1m[ \u001b[22m\u001b[39m\u001b[36m\u001b[1mInfo: \u001b[22m\u001b[39mLeaving g=72 out\n",
      "\u001b[32mProgress: 100%|█████████████████████████████████████████| Time: 0:00:01\u001b[39m\n",
      "\u001b[36m\u001b[1m[ \u001b[22m\u001b[39m\u001b[36m\u001b[1mInfo: \u001b[22m\u001b[39mLeaving g=73 out\n",
      "\u001b[32mProgress: 100%|█████████████████████████████████████████| Time: 0:00:01\u001b[39m\n",
      "\u001b[36m\u001b[1m[ \u001b[22m\u001b[39m\u001b[36m\u001b[1mInfo: \u001b[22m\u001b[39mLeaving g=74 out\n",
      "\u001b[32mProgress: 100%|█████████████████████████████████████████| Time: 0:00:01\u001b[39m\n",
      "\u001b[36m\u001b[1m[ \u001b[22m\u001b[39m\u001b[36m\u001b[1mInfo: \u001b[22m\u001b[39mLeaving g=75 out\n",
      "\u001b[32mProgress: 100%|█████████████████████████████████████████| Time: 0:00:01\u001b[39m\n",
      "\u001b[36m\u001b[1m[ \u001b[22m\u001b[39m\u001b[36m\u001b[1mInfo: \u001b[22m\u001b[39mLeaving g=76 out\n",
      "\u001b[32mProgress: 100%|█████████████████████████████████████████| Time: 0:00:01\u001b[39m\n",
      "\u001b[36m\u001b[1m[ \u001b[22m\u001b[39m\u001b[36m\u001b[1mInfo: \u001b[22m\u001b[39mLeaving g=77 out\n",
      "\u001b[32mProgress: 100%|█████████████████████████████████████████| Time: 0:00:01\u001b[39m\n",
      "\u001b[36m\u001b[1m[ \u001b[22m\u001b[39m\u001b[36m\u001b[1mInfo: \u001b[22m\u001b[39mLeaving g=78 out\n",
      "\u001b[32mProgress: 100%|█████████████████████████████████████████| Time: 0:00:01\u001b[39m\n",
      "\u001b[36m\u001b[1m[ \u001b[22m\u001b[39m\u001b[36m\u001b[1mInfo: \u001b[22m\u001b[39mLeaving g=79 out\n",
      "\u001b[32mProgress: 100%|█████████████████████████████████████████| Time: 0:00:01\u001b[39m\n",
      "\u001b[36m\u001b[1m[ \u001b[22m\u001b[39m\u001b[36m\u001b[1mInfo: \u001b[22m\u001b[39mLeaving g=80 out\n",
      "\u001b[32mProgress: 100%|█████████████████████████████████████████| Time: 0:00:01\u001b[39m\n",
      "\u001b[36m\u001b[1m[ \u001b[22m\u001b[39m\u001b[36m\u001b[1mInfo: \u001b[22m\u001b[39mLeaving g=81 out\n",
      "\u001b[32mProgress: 100%|█████████████████████████████████████████| Time: 0:00:01\u001b[39m\n",
      "\u001b[36m\u001b[1m[ \u001b[22m\u001b[39m\u001b[36m\u001b[1mInfo: \u001b[22m\u001b[39mLeaving g=82 out\n",
      "\u001b[32mProgress: 100%|█████████████████████████████████████████| Time: 0:00:01\u001b[39m\n",
      "\u001b[36m\u001b[1m[ \u001b[22m\u001b[39m\u001b[36m\u001b[1mInfo: \u001b[22m\u001b[39mLeaving g=83 out\n",
      "\u001b[32mProgress: 100%|█████████████████████████████████████████| Time: 0:00:01\u001b[39m\n",
      "\u001b[36m\u001b[1m[ \u001b[22m\u001b[39m\u001b[36m\u001b[1mInfo: \u001b[22m\u001b[39mLeaving g=84 out\n",
      "\u001b[32mProgress: 100%|█████████████████████████████████████████| Time: 0:00:01\u001b[39m\n",
      "\u001b[36m\u001b[1m[ \u001b[22m\u001b[39m\u001b[36m\u001b[1mInfo: \u001b[22m\u001b[39mLeaving g=85 out\n",
      "\u001b[32mProgress: 100%|█████████████████████████████████████████| Time: 0:00:01\u001b[39m\n"
     ]
    }
   ],
   "source": [
    "let\n",
    "    Random.seed!(1)\n",
    "    use_chain = chain\n",
    "\n",
    "    R = length(use_chain)\n",
    "    particles = []\n",
    "    weights = []\n",
    "    k̂s = []\n",
    "    times = Float64[]\n",
    "    for leave_g in 1:data.G\n",
    "        @info \"Leaving g=$(leave_g) out\"\n",
    "        results = PSIS_Radon(use_chain, leave_g)\n",
    "        \n",
    "        push!(particles, results[:particles])\n",
    "        push!(weights, results[:weights])\n",
    "        push!(k̂s, results[:k̂])\n",
    "        push!(times, results[:time])\n",
    "    end\n",
    "    \n",
    "    global particles_radon = particles\n",
    "    global weights_radon = weights\n",
    "    global k̂s_radon = k̂s\n",
    "    global times_radon = times\n",
    "end;"
   ]
  },
  {
   "cell_type": "code",
   "execution_count": 15,
   "id": "27805f2a-1ffe-4ff5-81a1-2b7797d46edc",
   "metadata": {},
   "outputs": [],
   "source": [
    "save(\"output/radon/psis/particles_radon.jld\", \"data\", particles_radon .|> Matrix) # [g][n,d]\n",
    "save(\"output/radon/psis/weights_radon.jld\", \"data\", weights_radon .|> Vector) # [g][n]\n",
    "save(\"output/radon/psis/khats_radon.jld\", \"data\", k̂s_radon) # g\n",
    "save(\"output/radon/psis/times_radon.jld\", \"data\", times_radon) # g"
   ]
  },
  {
   "cell_type": "markdown",
   "id": "01be7ee0-236d-4297-a16f-e872fb868d2a",
   "metadata": {},
   "source": [
    "### Figures"
   ]
  },
  {
   "cell_type": "markdown",
   "id": "35543c7b-7fd8-4a2e-9338-9b328e5c10bb",
   "metadata": {},
   "source": [
    "#### LPD"
   ]
  },
  {
   "cell_type": "code",
   "execution_count": 11,
   "id": "5696c0f1-14dd-48b1-88af-96fd5f01c983",
   "metadata": {
    "scrolled": true
   },
   "outputs": [
    {
     "name": "stderr",
     "output_type": "stream",
     "text": [
      "\u001b[36m\u001b[1m[ \u001b[22m\u001b[39m\u001b[36m\u001b[1mInfo: \u001b[22m\u001b[39m1\n",
      "\u001b[32mProgress: 100%|█████████████████████████████████████████| Time: 0:00:01\u001b[39m\n",
      "\u001b[32mProgress: 100%|█████████████████████████████████████████| Time: 0:00:03\u001b[39m\n",
      "\u001b[32mProgress: 100%|█████████████████████████████████████████| Time: 0:00:01\u001b[39m\n",
      "\u001b[36m\u001b[1m[ \u001b[22m\u001b[39m\u001b[36m\u001b[1mInfo: \u001b[22m\u001b[39m2\n",
      "\u001b[32mProgress: 100%|█████████████████████████████████████████| Time: 0:00:02\u001b[39m\n",
      "\u001b[32mProgress: 100%|█████████████████████████████████████████| Time: 0:00:02\u001b[39m\n",
      "\u001b[36m\u001b[1m[ \u001b[22m\u001b[39m\u001b[36m\u001b[1mInfo: \u001b[22m\u001b[39m3\n",
      "\u001b[32mProgress: 100%|█████████████████████████████████████████| Time: 0:00:02\u001b[39m\n",
      "\u001b[32mProgress: 100%|█████████████████████████████████████████| Time: 0:00:02\u001b[39m\n",
      "\u001b[36m\u001b[1m[ \u001b[22m\u001b[39m\u001b[36m\u001b[1mInfo: \u001b[22m\u001b[39m4\n",
      "\u001b[32mProgress: 100%|█████████████████████████████████████████| Time: 0:00:02\u001b[39m\n",
      "\u001b[32mProgress: 100%|█████████████████████████████████████████| Time: 0:00:01\u001b[39m\n",
      "\u001b[36m\u001b[1m[ \u001b[22m\u001b[39m\u001b[36m\u001b[1mInfo: \u001b[22m\u001b[39m5\n",
      "\u001b[32mProgress: 100%|█████████████████████████████████████████| Time: 0:00:02\u001b[39m\n",
      "\u001b[32mProgress: 100%|█████████████████████████████████████████| Time: 0:00:02\u001b[39m\n",
      "\u001b[36m\u001b[1m[ \u001b[22m\u001b[39m\u001b[36m\u001b[1mInfo: \u001b[22m\u001b[39m6\n",
      "\u001b[32mProgress: 100%|█████████████████████████████████████████| Time: 0:00:02\u001b[39m\n",
      "\u001b[32mProgress: 100%|█████████████████████████████████████████| Time: 0:00:02\u001b[39m\n",
      "\u001b[36m\u001b[1m[ \u001b[22m\u001b[39m\u001b[36m\u001b[1mInfo: \u001b[22m\u001b[39m7\n",
      "\u001b[32mProgress: 100%|█████████████████████████████████████████| Time: 0:00:01\u001b[39m\n",
      "\u001b[32mProgress: 100%|█████████████████████████████████████████| Time: 0:00:01\u001b[39m\n",
      "\u001b[36m\u001b[1m[ \u001b[22m\u001b[39m\u001b[36m\u001b[1mInfo: \u001b[22m\u001b[39m8\n",
      "\u001b[32mProgress: 100%|█████████████████████████████████████████| Time: 0:00:02\u001b[39m\n",
      "\u001b[32mProgress: 100%|█████████████████████████████████████████| Time: 0:00:02\u001b[39m\n",
      "\u001b[36m\u001b[1m[ \u001b[22m\u001b[39m\u001b[36m\u001b[1mInfo: \u001b[22m\u001b[39m9\n",
      "\u001b[32mProgress: 100%|█████████████████████████████████████████| Time: 0:00:02\u001b[39m\n",
      "\u001b[32mProgress: 100%|█████████████████████████████████████████| Time: 0:00:02\u001b[39m\n",
      "\u001b[36m\u001b[1m[ \u001b[22m\u001b[39m\u001b[36m\u001b[1mInfo: \u001b[22m\u001b[39m10\n",
      "\u001b[32mProgress: 100%|█████████████████████████████████████████| Time: 0:00:02\u001b[39m\n",
      "\u001b[32mProgress: 100%|█████████████████████████████████████████| Time: 0:00:01\u001b[39m\n",
      "\u001b[36m\u001b[1m[ \u001b[22m\u001b[39m\u001b[36m\u001b[1mInfo: \u001b[22m\u001b[39m11\n",
      "\u001b[32mProgress: 100%|█████████████████████████████████████████| Time: 0:00:02\u001b[39m\n",
      "\u001b[32mProgress: 100%|█████████████████████████████████████████| Time: 0:00:02\u001b[39m\n",
      "\u001b[36m\u001b[1m[ \u001b[22m\u001b[39m\u001b[36m\u001b[1mInfo: \u001b[22m\u001b[39m12\n",
      "\u001b[32mProgress: 100%|█████████████████████████████████████████| Time: 0:00:02\u001b[39m\n",
      "\u001b[32mProgress: 100%|█████████████████████████████████████████| Time: 0:00:02\u001b[39m\n",
      "\u001b[36m\u001b[1m[ \u001b[22m\u001b[39m\u001b[36m\u001b[1mInfo: \u001b[22m\u001b[39m13\n",
      "\u001b[32mProgress: 100%|█████████████████████████████████████████| Time: 0:00:02\u001b[39m\n",
      "\u001b[32mProgress: 100%|█████████████████████████████████████████| Time: 0:00:02\u001b[39m\n",
      "\u001b[36m\u001b[1m[ \u001b[22m\u001b[39m\u001b[36m\u001b[1mInfo: \u001b[22m\u001b[39m14\n",
      "\u001b[32mProgress: 100%|█████████████████████████████████████████| Time: 0:00:02\u001b[39m\n",
      "\u001b[32mProgress: 100%|█████████████████████████████████████████| Time: 0:00:01\u001b[39m\n",
      "\u001b[36m\u001b[1m[ \u001b[22m\u001b[39m\u001b[36m\u001b[1mInfo: \u001b[22m\u001b[39m15\n",
      "\u001b[32mProgress: 100%|█████████████████████████████████████████| Time: 0:00:02\u001b[39m\n",
      "\u001b[32mProgress: 100%|█████████████████████████████████████████| Time: 0:00:02\u001b[39m\n",
      "\u001b[36m\u001b[1m[ \u001b[22m\u001b[39m\u001b[36m\u001b[1mInfo: \u001b[22m\u001b[39m16\n",
      "\u001b[32mProgress: 100%|█████████████████████████████████████████| Time: 0:00:02\u001b[39m\n",
      "\u001b[32mProgress: 100%|█████████████████████████████████████████| Time: 0:00:02\u001b[39m\n",
      "\u001b[36m\u001b[1m[ \u001b[22m\u001b[39m\u001b[36m\u001b[1mInfo: \u001b[22m\u001b[39m17\n",
      "\u001b[32mProgress: 100%|█████████████████████████████████████████| Time: 0:00:02\u001b[39m\n",
      "\u001b[32mProgress: 100%|█████████████████████████████████████████| Time: 0:00:02\u001b[39m\n",
      "\u001b[36m\u001b[1m[ \u001b[22m\u001b[39m\u001b[36m\u001b[1mInfo: \u001b[22m\u001b[39m18\n",
      "\u001b[32mProgress: 100%|█████████████████████████████████████████| Time: 0:00:02\u001b[39m\n",
      "\u001b[32mProgress: 100%|█████████████████████████████████████████| Time: 0:00:02\u001b[39m\n",
      "\u001b[36m\u001b[1m[ \u001b[22m\u001b[39m\u001b[36m\u001b[1mInfo: \u001b[22m\u001b[39m19\n",
      "\u001b[32mProgress: 100%|█████████████████████████████████████████| Time: 0:00:02\u001b[39m\n",
      "\u001b[32mProgress: 100%|█████████████████████████████████████████| Time: 0:00:02\u001b[39m\n",
      "\u001b[36m\u001b[1m[ \u001b[22m\u001b[39m\u001b[36m\u001b[1mInfo: \u001b[22m\u001b[39m20\n",
      "\u001b[32mProgress: 100%|█████████████████████████████████████████| Time: 0:00:02\u001b[39m\n",
      "\u001b[32mProgress: 100%|█████████████████████████████████████████| Time: 0:00:02\u001b[39m\n",
      "\u001b[36m\u001b[1m[ \u001b[22m\u001b[39m\u001b[36m\u001b[1mInfo: \u001b[22m\u001b[39m21\n",
      "\u001b[32mProgress: 100%|█████████████████████████████████████████| Time: 0:00:02\u001b[39m\n",
      "\u001b[32mProgress: 100%|█████████████████████████████████████████| Time: 0:00:02\u001b[39m\n",
      "\u001b[36m\u001b[1m[ \u001b[22m\u001b[39m\u001b[36m\u001b[1mInfo: \u001b[22m\u001b[39m22\n",
      "\u001b[32mProgress: 100%|█████████████████████████████████████████| Time: 0:00:02\u001b[39m\n",
      "\u001b[32mProgress: 100%|█████████████████████████████████████████| Time: 0:00:02\u001b[39m\n",
      "\u001b[36m\u001b[1m[ \u001b[22m\u001b[39m\u001b[36m\u001b[1mInfo: \u001b[22m\u001b[39m23\n",
      "\u001b[32mProgress: 100%|█████████████████████████████████████████| Time: 0:00:02\u001b[39m\n",
      "\u001b[32mProgress: 100%|█████████████████████████████████████████| Time: 0:00:02\u001b[39m\n",
      "\u001b[36m\u001b[1m[ \u001b[22m\u001b[39m\u001b[36m\u001b[1mInfo: \u001b[22m\u001b[39m24\n",
      "\u001b[32mProgress: 100%|█████████████████████████████████████████| Time: 0:00:02\u001b[39m\n",
      "\u001b[32mProgress: 100%|█████████████████████████████████████████| Time: 0:00:02\u001b[39m\n",
      "\u001b[36m\u001b[1m[ \u001b[22m\u001b[39m\u001b[36m\u001b[1mInfo: \u001b[22m\u001b[39m25\n",
      "\u001b[32mProgress: 100%|█████████████████████████████████████████| Time: 0:00:02\u001b[39m\n",
      "\u001b[32mProgress: 100%|█████████████████████████████████████████| Time: 0:00:02\u001b[39m\n",
      "\u001b[36m\u001b[1m[ \u001b[22m\u001b[39m\u001b[36m\u001b[1mInfo: \u001b[22m\u001b[39m26\n",
      "\u001b[32mProgress: 100%|█████████████████████████████████████████| Time: 0:00:02\u001b[39m\n",
      "\u001b[32mProgress: 100%|█████████████████████████████████████████| Time: 0:00:02\u001b[39m\n",
      "\u001b[36m\u001b[1m[ \u001b[22m\u001b[39m\u001b[36m\u001b[1mInfo: \u001b[22m\u001b[39m27\n",
      "\u001b[32mProgress: 100%|█████████████████████████████████████████| Time: 0:00:02\u001b[39m\n",
      "\u001b[32mProgress: 100%|█████████████████████████████████████████| Time: 0:00:02\u001b[39m\n",
      "\u001b[36m\u001b[1m[ \u001b[22m\u001b[39m\u001b[36m\u001b[1mInfo: \u001b[22m\u001b[39m28\n",
      "\u001b[32mProgress: 100%|█████████████████████████████████████████| Time: 0:00:02\u001b[39m\n",
      "\u001b[32mProgress: 100%|█████████████████████████████████████████| Time: 0:00:02\u001b[39m\n",
      "\u001b[36m\u001b[1m[ \u001b[22m\u001b[39m\u001b[36m\u001b[1mInfo: \u001b[22m\u001b[39m29\n",
      "\u001b[32mProgress: 100%|█████████████████████████████████████████| Time: 0:00:02\u001b[39m\n",
      "\u001b[32mProgress: 100%|█████████████████████████████████████████| Time: 0:00:02\u001b[39m\n",
      "\u001b[36m\u001b[1m[ \u001b[22m\u001b[39m\u001b[36m\u001b[1mInfo: \u001b[22m\u001b[39m30\n",
      "\u001b[32mProgress: 100%|█████████████████████████████████████████| Time: 0:00:02\u001b[39m\n",
      "\u001b[32mProgress: 100%|█████████████████████████████████████████| Time: 0:00:02\u001b[39m\n",
      "\u001b[36m\u001b[1m[ \u001b[22m\u001b[39m\u001b[36m\u001b[1mInfo: \u001b[22m\u001b[39m31\n",
      "\u001b[32mProgress: 100%|█████████████████████████████████████████| Time: 0:00:02\u001b[39m\n",
      "\u001b[32mProgress: 100%|█████████████████████████████████████████| Time: 0:00:02\u001b[39m\n",
      "\u001b[36m\u001b[1m[ \u001b[22m\u001b[39m\u001b[36m\u001b[1mInfo: \u001b[22m\u001b[39m32\n",
      "\u001b[32mProgress: 100%|█████████████████████████████████████████| Time: 0:00:02\u001b[39m\n",
      "\u001b[32mProgress: 100%|█████████████████████████████████████████| Time: 0:00:02\u001b[39m\n",
      "\u001b[36m\u001b[1m[ \u001b[22m\u001b[39m\u001b[36m\u001b[1mInfo: \u001b[22m\u001b[39m33\n",
      "\u001b[32mProgress: 100%|█████████████████████████████████████████| Time: 0:00:02\u001b[39m\n",
      "\u001b[32mProgress: 100%|█████████████████████████████████████████| Time: 0:00:02\u001b[39m\n",
      "\u001b[36m\u001b[1m[ \u001b[22m\u001b[39m\u001b[36m\u001b[1mInfo: \u001b[22m\u001b[39m34\n",
      "\u001b[32mProgress: 100%|█████████████████████████████████████████| Time: 0:00:02\u001b[39m\n",
      "\u001b[32mProgress: 100%|█████████████████████████████████████████| Time: 0:00:02\u001b[39m\n",
      "\u001b[36m\u001b[1m[ \u001b[22m\u001b[39m\u001b[36m\u001b[1mInfo: \u001b[22m\u001b[39m35\n",
      "\u001b[32mProgress: 100%|█████████████████████████████████████████| Time: 0:00:02\u001b[39m\n",
      "\u001b[32mProgress: 100%|█████████████████████████████████████████| Time: 0:00:02\u001b[39m\n",
      "\u001b[36m\u001b[1m[ \u001b[22m\u001b[39m\u001b[36m\u001b[1mInfo: \u001b[22m\u001b[39m36\n",
      "\u001b[32mProgress: 100%|█████████████████████████████████████████| Time: 0:00:02\u001b[39m\n",
      "\u001b[32mProgress: 100%|█████████████████████████████████████████| Time: 0:00:02\u001b[39m\n",
      "\u001b[36m\u001b[1m[ \u001b[22m\u001b[39m\u001b[36m\u001b[1mInfo: \u001b[22m\u001b[39m37\n",
      "\u001b[32mProgress: 100%|█████████████████████████████████████████| Time: 0:00:02\u001b[39m\n",
      "\u001b[32mProgress: 100%|█████████████████████████████████████████| Time: 0:00:02\u001b[39m\n",
      "\u001b[36m\u001b[1m[ \u001b[22m\u001b[39m\u001b[36m\u001b[1mInfo: \u001b[22m\u001b[39m38\n",
      "\u001b[32mProgress: 100%|█████████████████████████████████████████| Time: 0:00:02\u001b[39m\n",
      "\u001b[32mProgress: 100%|█████████████████████████████████████████| Time: 0:00:02\u001b[39m\n",
      "\u001b[36m\u001b[1m[ \u001b[22m\u001b[39m\u001b[36m\u001b[1mInfo: \u001b[22m\u001b[39m39\n",
      "\u001b[32mProgress: 100%|█████████████████████████████████████████| Time: 0:00:02\u001b[39m\n",
      "\u001b[32mProgress: 100%|█████████████████████████████████████████| Time: 0:00:02\u001b[39m\n",
      "\u001b[36m\u001b[1m[ \u001b[22m\u001b[39m\u001b[36m\u001b[1mInfo: \u001b[22m\u001b[39m40\n",
      "\u001b[32mProgress: 100%|█████████████████████████████████████████| Time: 0:00:02\u001b[39m\n",
      "\u001b[32mProgress: 100%|█████████████████████████████████████████| Time: 0:00:02\u001b[39m\n",
      "\u001b[36m\u001b[1m[ \u001b[22m\u001b[39m\u001b[36m\u001b[1mInfo: \u001b[22m\u001b[39m41\n",
      "\u001b[32mProgress: 100%|█████████████████████████████████████████| Time: 0:00:02\u001b[39m\n",
      "\u001b[32mProgress: 100%|█████████████████████████████████████████| Time: 0:00:02\u001b[39m\n",
      "\u001b[36m\u001b[1m[ \u001b[22m\u001b[39m\u001b[36m\u001b[1mInfo: \u001b[22m\u001b[39m42\n",
      "\u001b[32mProgress: 100%|█████████████████████████████████████████| Time: 0:00:02\u001b[39m\n",
      "\u001b[32mProgress: 100%|█████████████████████████████████████████| Time: 0:00:02\u001b[39m\n",
      "\u001b[36m\u001b[1m[ \u001b[22m\u001b[39m\u001b[36m\u001b[1mInfo: \u001b[22m\u001b[39m43\n",
      "\u001b[32mProgress: 100%|█████████████████████████████████████████| Time: 0:00:02\u001b[39m\n",
      "\u001b[32mProgress: 100%|█████████████████████████████████████████| Time: 0:00:02\u001b[39m\n",
      "\u001b[36m\u001b[1m[ \u001b[22m\u001b[39m\u001b[36m\u001b[1mInfo: \u001b[22m\u001b[39m44\n",
      "\u001b[32mProgress: 100%|█████████████████████████████████████████| Time: 0:00:02\u001b[39m\n",
      "\u001b[32mProgress: 100%|█████████████████████████████████████████| Time: 0:00:02\u001b[39m\n",
      "\u001b[36m\u001b[1m[ \u001b[22m\u001b[39m\u001b[36m\u001b[1mInfo: \u001b[22m\u001b[39m45\n",
      "\u001b[32mProgress: 100%|█████████████████████████████████████████| Time: 0:00:02\u001b[39m\n",
      "\u001b[32mProgress: 100%|█████████████████████████████████████████| Time: 0:00:02\u001b[39m\n",
      "\u001b[36m\u001b[1m[ \u001b[22m\u001b[39m\u001b[36m\u001b[1mInfo: \u001b[22m\u001b[39m46\n",
      "\u001b[32mProgress: 100%|█████████████████████████████████████████| Time: 0:00:02\u001b[39m\n",
      "\u001b[32mProgress: 100%|█████████████████████████████████████████| Time: 0:00:02\u001b[39m\n",
      "\u001b[36m\u001b[1m[ \u001b[22m\u001b[39m\u001b[36m\u001b[1mInfo: \u001b[22m\u001b[39m47\n",
      "\u001b[32mProgress: 100%|█████████████████████████████████████████| Time: 0:00:02\u001b[39m\n",
      "\u001b[32mProgress: 100%|█████████████████████████████████████████| Time: 0:00:02\u001b[39m\n",
      "\u001b[36m\u001b[1m[ \u001b[22m\u001b[39m\u001b[36m\u001b[1mInfo: \u001b[22m\u001b[39m48\n",
      "\u001b[32mProgress: 100%|█████████████████████████████████████████| Time: 0:00:02\u001b[39m\n",
      "\u001b[32mProgress: 100%|█████████████████████████████████████████| Time: 0:00:02\u001b[39m\n",
      "\u001b[36m\u001b[1m[ \u001b[22m\u001b[39m\u001b[36m\u001b[1mInfo: \u001b[22m\u001b[39m49\n",
      "\u001b[32mProgress: 100%|█████████████████████████████████████████| Time: 0:00:02\u001b[39m\n",
      "\u001b[32mProgress: 100%|█████████████████████████████████████████| Time: 0:00:02\u001b[39m\n",
      "\u001b[36m\u001b[1m[ \u001b[22m\u001b[39m\u001b[36m\u001b[1mInfo: \u001b[22m\u001b[39m50\n",
      "\u001b[32mProgress: 100%|█████████████████████████████████████████| Time: 0:00:02\u001b[39m\n",
      "\u001b[32mProgress: 100%|█████████████████████████████████████████| Time: 0:00:02\u001b[39m\n",
      "\u001b[36m\u001b[1m[ \u001b[22m\u001b[39m\u001b[36m\u001b[1mInfo: \u001b[22m\u001b[39m51\n",
      "\u001b[32mProgress: 100%|█████████████████████████████████████████| Time: 0:00:02\u001b[39m\n",
      "\u001b[32mProgress: 100%|█████████████████████████████████████████| Time: 0:00:02\u001b[39m\n",
      "\u001b[36m\u001b[1m[ \u001b[22m\u001b[39m\u001b[36m\u001b[1mInfo: \u001b[22m\u001b[39m52\n",
      "\u001b[32mProgress: 100%|█████████████████████████████████████████| Time: 0:00:02\u001b[39m\n",
      "\u001b[32mProgress: 100%|█████████████████████████████████████████| Time: 0:00:02\u001b[39m\n",
      "\u001b[36m\u001b[1m[ \u001b[22m\u001b[39m\u001b[36m\u001b[1mInfo: \u001b[22m\u001b[39m53\n",
      "\u001b[32mProgress: 100%|█████████████████████████████████████████| Time: 0:00:02\u001b[39m\n",
      "\u001b[32mProgress: 100%|█████████████████████████████████████████| Time: 0:00:02\u001b[39m\n",
      "\u001b[36m\u001b[1m[ \u001b[22m\u001b[39m\u001b[36m\u001b[1mInfo: \u001b[22m\u001b[39m54\n",
      "\u001b[32mProgress: 100%|█████████████████████████████████████████| Time: 0:00:02\u001b[39m\n",
      "\u001b[32mProgress: 100%|█████████████████████████████████████████| Time: 0:00:02\u001b[39m\n",
      "\u001b[36m\u001b[1m[ \u001b[22m\u001b[39m\u001b[36m\u001b[1mInfo: \u001b[22m\u001b[39m55\n",
      "\u001b[32mProgress: 100%|█████████████████████████████████████████| Time: 0:00:02\u001b[39m\n",
      "\u001b[32mProgress: 100%|█████████████████████████████████████████| Time: 0:00:02\u001b[39m\n",
      "\u001b[36m\u001b[1m[ \u001b[22m\u001b[39m\u001b[36m\u001b[1mInfo: \u001b[22m\u001b[39m56\n",
      "\u001b[32mProgress: 100%|█████████████████████████████████████████| Time: 0:00:02\u001b[39m\n",
      "\u001b[32mProgress: 100%|█████████████████████████████████████████| Time: 0:00:02\u001b[39m\n",
      "\u001b[36m\u001b[1m[ \u001b[22m\u001b[39m\u001b[36m\u001b[1mInfo: \u001b[22m\u001b[39m57\n",
      "\u001b[32mProgress: 100%|█████████████████████████████████████████| Time: 0:00:02\u001b[39m\n",
      "\u001b[32mProgress: 100%|█████████████████████████████████████████| Time: 0:00:02\u001b[39m\n",
      "\u001b[36m\u001b[1m[ \u001b[22m\u001b[39m\u001b[36m\u001b[1mInfo: \u001b[22m\u001b[39m58\n",
      "\u001b[32mProgress: 100%|█████████████████████████████████████████| Time: 0:00:02\u001b[39m\n",
      "\u001b[32mProgress: 100%|█████████████████████████████████████████| Time: 0:00:02\u001b[39m\n",
      "\u001b[36m\u001b[1m[ \u001b[22m\u001b[39m\u001b[36m\u001b[1mInfo: \u001b[22m\u001b[39m59\n",
      "\u001b[32mProgress: 100%|█████████████████████████████████████████| Time: 0:00:02\u001b[39m\n",
      "\u001b[32mProgress: 100%|█████████████████████████████████████████| Time: 0:00:02\u001b[39m\n",
      "\u001b[36m\u001b[1m[ \u001b[22m\u001b[39m\u001b[36m\u001b[1mInfo: \u001b[22m\u001b[39m60\n",
      "\u001b[32mProgress: 100%|█████████████████████████████████████████| Time: 0:00:02\u001b[39m\n",
      "\u001b[32mProgress: 100%|█████████████████████████████████████████| Time: 0:00:02\u001b[39m\n",
      "\u001b[36m\u001b[1m[ \u001b[22m\u001b[39m\u001b[36m\u001b[1mInfo: \u001b[22m\u001b[39m61\n",
      "\u001b[32mProgress: 100%|█████████████████████████████████████████| Time: 0:00:02\u001b[39m\n",
      "\u001b[32mProgress: 100%|█████████████████████████████████████████| Time: 0:00:02\u001b[39m\n",
      "\u001b[36m\u001b[1m[ \u001b[22m\u001b[39m\u001b[36m\u001b[1mInfo: \u001b[22m\u001b[39m62\n",
      "\u001b[32mProgress: 100%|█████████████████████████████████████████| Time: 0:00:02\u001b[39m\n",
      "\u001b[32mProgress: 100%|█████████████████████████████████████████| Time: 0:00:02\u001b[39m\n",
      "\u001b[36m\u001b[1m[ \u001b[22m\u001b[39m\u001b[36m\u001b[1mInfo: \u001b[22m\u001b[39m63\n",
      "\u001b[32mProgress: 100%|█████████████████████████████████████████| Time: 0:00:02\u001b[39m\n",
      "\u001b[32mProgress: 100%|█████████████████████████████████████████| Time: 0:00:02\u001b[39m\n",
      "\u001b[36m\u001b[1m[ \u001b[22m\u001b[39m\u001b[36m\u001b[1mInfo: \u001b[22m\u001b[39m64\n",
      "\u001b[32mProgress: 100%|█████████████████████████████████████████| Time: 0:00:02\u001b[39m\n",
      "\u001b[32mProgress: 100%|█████████████████████████████████████████| Time: 0:00:02\u001b[39m\n",
      "\u001b[36m\u001b[1m[ \u001b[22m\u001b[39m\u001b[36m\u001b[1mInfo: \u001b[22m\u001b[39m65\n",
      "\u001b[32mProgress: 100%|█████████████████████████████████████████| Time: 0:00:02\u001b[39m\n",
      "\u001b[32mProgress: 100%|█████████████████████████████████████████| Time: 0:00:02\u001b[39m\n",
      "\u001b[36m\u001b[1m[ \u001b[22m\u001b[39m\u001b[36m\u001b[1mInfo: \u001b[22m\u001b[39m66\n",
      "\u001b[32mProgress: 100%|█████████████████████████████████████████| Time: 0:00:02\u001b[39m\n",
      "\u001b[32mProgress: 100%|█████████████████████████████████████████| Time: 0:00:02\u001b[39m\n",
      "\u001b[36m\u001b[1m[ \u001b[22m\u001b[39m\u001b[36m\u001b[1mInfo: \u001b[22m\u001b[39m67\n",
      "\u001b[32mProgress: 100%|█████████████████████████████████████████| Time: 0:00:02\u001b[39m\n",
      "\u001b[32mProgress: 100%|█████████████████████████████████████████| Time: 0:00:02\u001b[39m\n",
      "\u001b[36m\u001b[1m[ \u001b[22m\u001b[39m\u001b[36m\u001b[1mInfo: \u001b[22m\u001b[39m68\n",
      "\u001b[32mProgress: 100%|█████████████████████████████████████████| Time: 0:00:02\u001b[39m\n",
      "\u001b[32mProgress: 100%|█████████████████████████████████████████| Time: 0:00:02\u001b[39m\n",
      "\u001b[36m\u001b[1m[ \u001b[22m\u001b[39m\u001b[36m\u001b[1mInfo: \u001b[22m\u001b[39m69\n",
      "\u001b[32mProgress: 100%|█████████████████████████████████████████| Time: 0:00:02\u001b[39m\n",
      "\u001b[32mProgress: 100%|█████████████████████████████████████████| Time: 0:00:02\u001b[39m\n",
      "\u001b[36m\u001b[1m[ \u001b[22m\u001b[39m\u001b[36m\u001b[1mInfo: \u001b[22m\u001b[39m70\n",
      "\u001b[32mProgress: 100%|█████████████████████████████████████████| Time: 0:00:02\u001b[39m\n",
      "\u001b[32mProgress: 100%|█████████████████████████████████████████| Time: 0:00:02\u001b[39m\n",
      "\u001b[36m\u001b[1m[ \u001b[22m\u001b[39m\u001b[36m\u001b[1mInfo: \u001b[22m\u001b[39m71\n",
      "\u001b[32mProgress: 100%|█████████████████████████████████████████| Time: 0:00:02\u001b[39m\n",
      "\u001b[32mProgress: 100%|█████████████████████████████████████████| Time: 0:00:02\u001b[39m\n",
      "\u001b[36m\u001b[1m[ \u001b[22m\u001b[39m\u001b[36m\u001b[1mInfo: \u001b[22m\u001b[39m72\n",
      "\u001b[32mProgress: 100%|█████████████████████████████████████████| Time: 0:00:02\u001b[39m\n",
      "\u001b[32mProgress: 100%|█████████████████████████████████████████| Time: 0:00:02\u001b[39m\n",
      "\u001b[36m\u001b[1m[ \u001b[22m\u001b[39m\u001b[36m\u001b[1mInfo: \u001b[22m\u001b[39m73\n",
      "\u001b[32mProgress: 100%|█████████████████████████████████████████| Time: 0:00:02\u001b[39m\n",
      "\u001b[32mProgress: 100%|█████████████████████████████████████████| Time: 0:00:02\u001b[39m\n",
      "\u001b[36m\u001b[1m[ \u001b[22m\u001b[39m\u001b[36m\u001b[1mInfo: \u001b[22m\u001b[39m74\n",
      "\u001b[32mProgress: 100%|█████████████████████████████████████████| Time: 0:00:02\u001b[39m\n",
      "\u001b[32mProgress: 100%|█████████████████████████████████████████| Time: 0:00:02\u001b[39m\n",
      "\u001b[36m\u001b[1m[ \u001b[22m\u001b[39m\u001b[36m\u001b[1mInfo: \u001b[22m\u001b[39m75\n",
      "\u001b[32mProgress: 100%|█████████████████████████████████████████| Time: 0:00:02\u001b[39m\n",
      "\u001b[32mProgress: 100%|█████████████████████████████████████████| Time: 0:00:02\u001b[39m\n",
      "\u001b[36m\u001b[1m[ \u001b[22m\u001b[39m\u001b[36m\u001b[1mInfo: \u001b[22m\u001b[39m76\n",
      "\u001b[32mProgress: 100%|█████████████████████████████████████████| Time: 0:00:02\u001b[39m\n",
      "\u001b[32mProgress: 100%|█████████████████████████████████████████| Time: 0:00:02\u001b[39m\n",
      "\u001b[36m\u001b[1m[ \u001b[22m\u001b[39m\u001b[36m\u001b[1mInfo: \u001b[22m\u001b[39m77\n",
      "\u001b[32mProgress: 100%|█████████████████████████████████████████| Time: 0:00:02\u001b[39m\n",
      "\u001b[32mProgress: 100%|█████████████████████████████████████████| Time: 0:00:02\u001b[39m\n",
      "\u001b[36m\u001b[1m[ \u001b[22m\u001b[39m\u001b[36m\u001b[1mInfo: \u001b[22m\u001b[39m78\n",
      "\u001b[32mProgress: 100%|█████████████████████████████████████████| Time: 0:00:02\u001b[39m\n",
      "\u001b[32mProgress: 100%|█████████████████████████████████████████| Time: 0:00:02\u001b[39m\n",
      "\u001b[36m\u001b[1m[ \u001b[22m\u001b[39m\u001b[36m\u001b[1mInfo: \u001b[22m\u001b[39m79\n",
      "\u001b[32mProgress: 100%|█████████████████████████████████████████| Time: 0:00:02\u001b[39m\n",
      "\u001b[32mProgress: 100%|█████████████████████████████████████████| Time: 0:00:02\u001b[39m\n",
      "\u001b[36m\u001b[1m[ \u001b[22m\u001b[39m\u001b[36m\u001b[1mInfo: \u001b[22m\u001b[39m80\n",
      "\u001b[32mProgress: 100%|█████████████████████████████████████████| Time: 0:00:02\u001b[39m\n",
      "\u001b[32mProgress: 100%|█████████████████████████████████████████| Time: 0:00:02\u001b[39m\n",
      "\u001b[36m\u001b[1m[ \u001b[22m\u001b[39m\u001b[36m\u001b[1mInfo: \u001b[22m\u001b[39m81\n",
      "\u001b[32mProgress: 100%|█████████████████████████████████████████| Time: 0:00:02\u001b[39m\n",
      "\u001b[32mProgress: 100%|█████████████████████████████████████████| Time: 0:00:02\u001b[39m\n",
      "\u001b[36m\u001b[1m[ \u001b[22m\u001b[39m\u001b[36m\u001b[1mInfo: \u001b[22m\u001b[39m82\n",
      "\u001b[32mProgress: 100%|█████████████████████████████████████████| Time: 0:00:02\u001b[39m\n",
      "\u001b[32mProgress: 100%|█████████████████████████████████████████| Time: 0:00:02\u001b[39m\n",
      "\u001b[36m\u001b[1m[ \u001b[22m\u001b[39m\u001b[36m\u001b[1mInfo: \u001b[22m\u001b[39m83\n",
      "\u001b[32mProgress: 100%|█████████████████████████████████████████| Time: 0:00:02\u001b[39m\n",
      "\u001b[32mProgress: 100%|█████████████████████████████████████████| Time: 0:00:02\u001b[39m\n",
      "\u001b[36m\u001b[1m[ \u001b[22m\u001b[39m\u001b[36m\u001b[1mInfo: \u001b[22m\u001b[39m84\n",
      "\u001b[32mProgress: 100%|█████████████████████████████████████████| Time: 0:00:02\u001b[39m\n",
      "\u001b[32mProgress: 100%|█████████████████████████████████████████| Time: 0:00:02\u001b[39m\n",
      "\u001b[36m\u001b[1m[ \u001b[22m\u001b[39m\u001b[36m\u001b[1mInfo: \u001b[22m\u001b[39m85\n",
      "\u001b[32mProgress: 100%|█████████████████████████████████████████| Time: 0:00:02\u001b[39m\n",
      "\u001b[32mProgress: 100%|█████████████████████████████████████████| Time: 0:00:02\u001b[39m\n"
     ]
    }
   ],
   "source": [
    "let\n",
    "    R = load(\"output/radon/chain_radon_lgo-1.jld\")[\"data\"] |> length\n",
    "    LPD = NamedArray(\n",
    "        zeros(R, data.G),\n",
    "        (1:R, 1:data.G),\n",
    "        (:n, :g)\n",
    "    )\n",
    "    \n",
    "    global LPD_true = LPD |> similar\n",
    "    global LPD_estimate = LPD |> similar\n",
    "    global LPD_estimate_psis = LPD |> similar\n",
    "    global weights_smc = load(\"output/radon/weights_radon.jld\")[\"data\"]\n",
    "    global weights_psis = load(\"output/radon/psis/weights_radon.jld\")[\"data\"]\n",
    "    \n",
    "    for (g, leave_g) in enumerate(1:data.G)\n",
    "        @info leave_g\n",
    "        chain = load(\"output/radon/chain_radon_lgo-$(leave_g).jld\")[\"data\"]\n",
    "        R = length(chain)\n",
    "        LPD_true[:,g] = Compute_LPDs(\n",
    "            (; particles=NamedArray(chain, 1:R, :n), R=R),\n",
    "            leave_g;\n",
    "            constrain=false\n",
    "        )\n",
    "    \n",
    "        chain = load(\"output/radon/particles_radon.jld\")[\"data\"][g] |> mat2vecvec\n",
    "        R = length(chain)\n",
    "        LPD_estimate[:,g] = Compute_LPDs(\n",
    "            (; particles=NamedArray(chain, 1:R, :n), R=R),\n",
    "            leave_g;\n",
    "            constrain=true\n",
    "        )\n",
    "    \n",
    "        chain = load(\"output/radon/psis/particles_radon.jld\")[\"data\"][g] |> mat2vecvec\n",
    "        R = length(chain)\n",
    "        LPD_estimate_psis[:,g] = Compute_LPDs(\n",
    "            (; particles=NamedArray(chain, 1:R, :n), R=R),\n",
    "            leave_g;\n",
    "            constrain=true\n",
    "        )\n",
    "    end\n",
    "end"
   ]
  },
  {
   "cell_type": "code",
   "execution_count": 23,
   "id": "a8bbfe16-8b10-4120-9c7c-fa5e7e44c0ca",
   "metadata": {},
   "outputs": [
    {
     "data": {
      "text/plain": [
       "\"C:\\\\Users\\\\o6m1g\\\\Documents\\\\GitHub\\\\SMC-LGO-CV-private\\\\img\\\\radon-lpd-compare-approx.pdf\""
      ]
     },
     "execution_count": 23,
     "metadata": {},
     "output_type": "execute_result"
    }
   ],
   "source": [
    "let\n",
    "    _reorder_idx = _mean(LPD_true; dims=1) |> sortperm\n",
    "    _reorder_idx = sortperm([sum(df.county .== g) for g in unique(df.county)], rev=true)\n",
    "    _names = unique(df.county)[_reorder_idx]\n",
    "    _countmap = df.county |> countmap\n",
    "    \n",
    "    _LPD_true = LPD_true[:, _reorder_idx]\n",
    "    _LPD_estimate = LPD_estimate[:, _reorder_idx]\n",
    "    _weights = weights_smc[_reorder_idx]\n",
    "    _LPD_estimate_psis = LPD_estimate_psis[:, _reorder_idx]\n",
    "    _weights_psis = weights_psis[_reorder_idx]\n",
    "    \n",
    "    R, G = size(_LPD_true, 1), size(_LPD_true, 2)\n",
    "    _equal_weights_cumsum = repeat([1/R], R) |> cumsum\n",
    "\n",
    "    n_rows = 2\n",
    "    plts = []\n",
    "    for (g_i, g) in LinRange(1, 0.7G, 3n_rows) .|> round .|> Int |> enumerate\n",
    "        _idx = _LPD_estimate[:,g] |> sortperm\n",
    "        vline([minimum(_LPD_estimate_psis[_idx, g])], color=:green, alpha=0.75, label=\"\", linewidth=1, linestyle=:dash, ylim=(0,1))\n",
    "        plot!(_LPD_true[:,g] |> sort, _equal_weights_cumsum,\n",
    "            color=:blue, label=\"\", linewidth=2)\n",
    "        plot!(_LPD_estimate[_idx, g], _weights[g][_idx] |> cumsum,\n",
    "            color=:red, label=\"\", linewidth=3, linestyle=:dot, alpha=0.7)\n",
    "        _idx = _LPD_estimate_psis[:,g] |> sortperm\n",
    "        plot!(_LPD_estimate_psis[_idx, g], _weights_psis[g][_idx] |> cumsum,\n",
    "            color=:green, label=\"\", linewidth=3, linestyle=:dot, alpha=0.7)\n",
    "        if g_i == 2\n",
    "            annotate!(-22, 0.26, text(\"MCMC\", :blue, 7))\n",
    "            annotate!(-20, 0.6, text(\"SMC\", :red, 7))\n",
    "            annotate!(-19, 0.19, text(\"PSIS\", :green, 7))\n",
    "        end\n",
    "        push!(plts, plot!(title=\"$(_names[g]) (\" * L\"N_g\" * \"=$(_countmap[_names[g]]))\", legend=g == 1 ? true : false, xlim=(_LPD_estimate[:,g] |> minimum, _LPD_true[:,g] |> maximum)))\n",
    "    end\n",
    "    plot(plts..., layout=(n_rows, 3), size=(550,130n_rows), titlefontsize=9, tickfontsize=6, xrot=-90, bottommargin=1Plots.mm)\n",
    "    savefig(\"img/radon-lpd-compare-approx.pdf\")\n",
    "end"
   ]
  },
  {
   "cell_type": "code",
   "execution_count": 84,
   "id": "98f133d6-b64a-4a61-9862-3fea8d0af3fc",
   "metadata": {},
   "outputs": [
    {
     "data": {
      "text/plain": [
       "\"C:\\\\Users\\\\o6m1g\\\\Documents\\\\GitHub\\\\SMC-LGO-CV-private\\\\img\\\\radon-lpd-compare-rmse.pdf\""
      ]
     },
     "execution_count": 84,
     "metadata": {},
     "output_type": "execute_result"
    }
   ],
   "source": [
    "let\n",
    "    _counts = [sum(df.county .== g) for g in unique(df.county)]\n",
    "    _reorder_idx = sortperm(_counts, rev=true)\n",
    "    # _reorder_idx = sortperm(_mean(LPD_true; dims=1))#[1:10]\n",
    "    _names = unique(df.county)[_reorder_idx]\n",
    "    _counts = _counts[_reorder_idx]\n",
    "    \n",
    "    _true = _mean(LPD_true; dims=1)[_reorder_idx]\n",
    "    _est_smc = _sum(vecvec2mat(weights_smc)' .* LPD_estimate; dims=1)[_reorder_idx]\n",
    "    _est_psis = _sum(vecvec2mat(weights_psis)' .* LPD_estimate_psis; dims=1)[_reorder_idx]\n",
    "\n",
    "    _loss_smc = abs2.(_true - _est_smc) .|> sqrt\n",
    "    _loss_psis = abs2.(_true - _est_psis) .|> sqrt\n",
    "    plot(_counts, _loss_smc, color=:red, ms=3, mswidth=0, label=\"\", alpha=1, markershape=:o, linestyle=:solid)\n",
    "    plot!(_counts, _loss_psis, color=:green, ms=3, mswidth=0, label=\"\", alpha=0.7, markershape=:square, linestyle=:solid)\n",
    "\n",
    "    for i in 1:6\n",
    "        if i >= 5\n",
    "            annotate!(_counts[i], _loss_smc[i] - 0.13, text(_names[i], 6, :top))\n",
    "        else\n",
    "            annotate!(_counts[i], _loss_psis[i] + 0.29, text(_names[i], 6))\n",
    "        end\n",
    "\n",
    "        if i == 1\n",
    "            annotate!(_counts[i] + 8, _loss_smc[i], text(\"SMC-LGO\", 9, :left, :red))\n",
    "            annotate!(_counts[i] + 8, _loss_psis[i], text(\"PSIS-LGO\", 9, :left, :green))\n",
    "        end\n",
    "    end\n",
    "    plot!(xlabel=\"Within-group observations \" * L\"N_g\", ylabel=\"RMSE\", ylim=(-0.6, 1.2maximum(_loss_psis)), bottommargin=2Plots.mm, rightmargin=18Plots.mm)\n",
    "    savefig(\"img/radon-lpd-compare-rmse.pdf\")\n",
    "end"
   ]
  },
  {
   "cell_type": "markdown",
   "id": "82c7325d-061f-4f9b-a3b9-8600f2a623ea",
   "metadata": {},
   "source": [
    "#### Runtime"
   ]
  },
  {
   "cell_type": "code",
   "execution_count": 12,
   "id": "6216e5cd-b240-4f87-9572-60ebd94d618c",
   "metadata": {},
   "outputs": [],
   "source": [
    "let\n",
    "    # _reorder_idx = sortperm(_mean(LPD_true; dims=1))\n",
    "    _reorder_idx = sortperm([sum(df.county .== g) for g in unique(df.county)], rev=false)\n",
    "    _names = unique(df.county)[_reorder_idx]\n",
    "    _countmap = df.county |> countmap\n",
    "    \n",
    "    time_mcmc = load(\"output/radon/times_radon_mcmc.jld\")[\"data\"][_reorder_idx]/60\n",
    "    time_smc = load(\"output/radon/times_radon.jld\")[\"data\"][_reorder_idx]/60\n",
    "    time_psis = load(\"output/radon/psis/times_radon.jld\")[\"data\"][_reorder_idx]/60\n",
    "    \n",
    "    plot([time_mcmc time_smc time_psis],\n",
    "        xticks=(1:data.G, _names), xrot=-90, xtickfontsize=5,\n",
    "        xlabel=\"County\", ylabel=\"Runtime [min.]\",\n",
    "        bottommargin=13Plots.mm, leftmargin=3Plots.mm, rightmargin=15Plots.mm,\n",
    "        label=[\"MCMC-LGO \" \"SMC-LGO\" \"PSIS-LGO\"], legendcolumns=-1, legend=false, size=(750, 300)\n",
    "    )\n",
    "    hspan!([mean(time_mcmc) - 2std(time_mcmc), mean(time_mcmc) + 2std(time_mcmc)], alpha=0.2, color=:blue)\n",
    "    annotate!(data.G + 1, time_mcmc[end], text(\"MCMC-LGO\", :blue, :left, 9))\n",
    "    annotate!(data.G + 1, time_smc[end] + 0.5, text(\"SMC-LGO\", :red, :left, 9))\n",
    "    annotate!(data.G + 1, time_psis[end], text(\"PSIS-LGO\", :green, :left, 9))\n",
    "\n",
    "    histories = load(\"output/radon/histories_radon.jld\")[\"data\"]\n",
    "    for (g, history) in enumerate(histories[_reorder_idx])\n",
    "        L_g = length(history) - 1\n",
    "        if L_g == 1\n",
    "            annotate!(g, time_smc[g] - 0.1, text(L_g, :red, :top, 5))\n",
    "        else\n",
    "            annotate!(g, time_smc[g] + 0.1, text(L_g, :red, :bottom, 5))\n",
    "        end\n",
    "    end\n",
    "    plot!(ylim=(-1.5, maximum([time_mcmc; time_smc; time_psis])))\n",
    "    savefig(\"img/radon-runtime.pdf\")\n",
    "end;"
   ]
  },
  {
   "cell_type": "markdown",
   "id": "fa287ffd-24c0-4e80-bccc-1fdfa0d3403e",
   "metadata": {},
   "source": [
    "#### Distributions"
   ]
  },
  {
   "cell_type": "code",
   "execution_count": 177,
   "id": "5b319da4-2403-4813-ae23-7401bb415d72",
   "metadata": {},
   "outputs": [
    {
     "data": {
      "text/plain": [
       "\"C:\\\\Users\\\\o6m1g\\\\Documents\\\\GitHub\\\\SMC-LGO-CV-private\\\\img\\\\radon-paths.pdf\""
      ]
     },
     "execution_count": 177,
     "metadata": {},
     "output_type": "execute_result"
    }
   ],
   "source": [
    "let\n",
    "    _reorder_idx = sortperm(data.N_g, rev=true)\n",
    "    _idx = 1:5:data.G\n",
    "    _names = unique(df.county)[_reorder_idx][_idx]\n",
    "    _counts = data.N_g[_reorder_idx][_idx]\n",
    "    histories = load(\"output/radon/histories_radon.jld\")[\"data\"][_reorder_idx][_idx]\n",
    "\n",
    "    plot()\n",
    "    for (g, history) in enumerate(histories)\n",
    "        for ℓ in history\n",
    "            if 0 < ℓ < 1\n",
    "                annotate!(ℓ, g + 0.2, text(round(ℓ; digits=2), :black, :bottom, 6))\n",
    "            end\n",
    "        end\n",
    "        scatter!(history, repeat([g], length(history)), ms=3, mswidth=0.1, color=:red, label=\"\")\n",
    "    end\n",
    "\n",
    "    _offset = 0.005\n",
    "    plot!(\n",
    "        xlim=(0-_offset, 1+_offset),\n",
    "        xticks=(\n",
    "            [0, 0.5, 1],\n",
    "            [L\"\\varphi = 0\" * \"\\n(Baseline)\", L\"\\varphi = \\frac{1}{2}\", L\"\\varphi = 1\" * \"\\n(Leave-group-out)\"]\n",
    "        ),\n",
    "        yticks=(1:length(_idx), [\"$(_names[i]) ($(_counts[i]))\" for i in 1:length(_idx)]),\n",
    "        ytickfontsize=7, size=(500,250),\n",
    "        bottommargin=3Plots.mm, ymirror=true, rightmargin=5Plots.mm, topmargin=-1Plots.mm, leftmargin=6Plots.mm,\n",
    "        xlabel=\"Adaptively determined paths\"\n",
    "    )\n",
    "    savefig(\"img/radon-paths.pdf\")\n",
    "end"
   ]
  },
  {
   "cell_type": "markdown",
   "id": "9e76510d-c37b-4491-b8a3-f290cb19a178",
   "metadata": {},
   "source": [
    "## M5"
   ]
  },
  {
   "cell_type": "markdown",
   "id": "4219d67c-bea0-41a5-bce8-288293939d0c",
   "metadata": {},
   "source": [
    "### Data"
   ]
  },
  {
   "cell_type": "code",
   "execution_count": 3,
   "id": "5c6e4ad4-2cc2-460f-83c5-f50f8e57a923",
   "metadata": {},
   "outputs": [],
   "source": [
    "sales_train = CSV.read(\"data/m5-forecasting-accuracy/sales_train_validation.csv\", DataFrame)\n",
    "# sales_valid = CSV.read(\"data/m5-forecasting-accuracy/sales_train_evaluation.csv\", DataFrame)\n",
    "price = CSV.read(\"data/m5-forecasting-accuracy/sell_prices.csv\", DataFrame)\n",
    "calendar = CSV.read(\"data/m5-forecasting-accuracy/calendar.csv\", DataFrame)\n",
    ";"
   ]
  },
  {
   "cell_type": "code",
   "execution_count": 4,
   "id": "81f45820-3146-4c6b-90d9-a951564ac380",
   "metadata": {},
   "outputs": [],
   "source": [
    "filter!(\n",
    "    row -> (\n",
    "        mask = true;\n",
    "    ),\n",
    "    sales_train\n",
    ");"
   ]
  },
  {
   "cell_type": "code",
   "execution_count": 5,
   "id": "8739e0b9-6bb5-4e89-93a2-11d4bf0602c8",
   "metadata": {},
   "outputs": [],
   "source": [
    "struct Data_M5\n",
    "    y::Any\n",
    "    K_axis::Vector{String} # item_id\n",
    "    S_axis::Vector{String} # space\n",
    "    G_axis::Matrix{Float64} # cat_id, one-hot indicator matrix\n",
    "    K::Int64\n",
    "    S::Int64\n",
    "    G::Int64 # # of unique cat_id\n",
    "    valid_idx::Vector{Vector{String}} # vector of item_ids\n",
    "end"
   ]
  },
  {
   "cell_type": "code",
   "execution_count": 6,
   "id": "b6c0824c-877e-4881-a973-7bfe79e9b2f4",
   "metadata": {},
   "outputs": [
    {
     "name": "stderr",
     "output_type": "stream",
     "text": [
      "\u001b[36m\u001b[1m[ \u001b[22m\u001b[39m\u001b[36m\u001b[1mInfo: \u001b[22m\u001b[39m(209, 10)\n"
     ]
    }
   ],
   "source": [
    "let\n",
    "    Random.seed!(1)\n",
    "    \n",
    "    # Define axis\n",
    "    K_axis = [item_id for item_id in unique(sales_train.item_id) if 1 <= parse(Int64, split(item_id, \"_\")[end]) <= 30]\n",
    "    S_axis = sales_train.store_id |> unique\n",
    "    axes = (K_axis, S_axis)\n",
    "\n",
    "    # Initialize missing complete panel\n",
    "    y = NamedArray(\n",
    "        Array{Union{Missing, Float64}, 2}(missing, length.(axes)...),\n",
    "        axes,\n",
    "        (:k, :s),\n",
    "    )\n",
    "\n",
    "    # Fill panel\n",
    "    for k=K_axis, s=S_axis\n",
    "        mask = (sales_train.item_id .=== k) .& (sales_train.store_id .=== s)\n",
    "        @assert sum(mask) == 1\n",
    "        _data = sales_train[mask, [\"d_$(t)\" for t in 1:1913]] |> Matrix |> vec\n",
    "        y[Name(k), Name(s)] = _data |> diff |> mean\n",
    "    end\n",
    "    \n",
    "    y = NamedArray(\n",
    "        (Matrix(y) .- mean(y)) / std(y),\n",
    "        axes,\n",
    "        (:k, :s),\n",
    "    )\n",
    "\n",
    "    # Generate validation index\n",
    "    G_axis = K_axis .|> (k -> k[1:end-4])\n",
    "    K = 10\n",
    "    valid_idx = repeat([String[]], K)\n",
    "    \n",
    "    for g in unique(G_axis)\n",
    "        partition_g = Iterators.partition(K_axis[G_axis .== g] |> shuffle, 3) |> collect\n",
    "        @assert length(partition_g) == K\n",
    "        for fold_i in 1:K\n",
    "            valid_idx[fold_i] = [valid_idx[fold_i]; partition_g[fold_i]]\n",
    "        end\n",
    "    end\n",
    "    \n",
    "    K = K_axis |> unique |> length\n",
    "    S = S_axis |> unique |> length\n",
    "    G = G_axis |> unique |> length\n",
    "\n",
    "    _map = Dict(g => i for (i, g) in enumerate(unique(G_axis)))\n",
    "    G_axis = [_map[g] for g in G_axis]\n",
    "    G_axis = indicatormat(G_axis)'\n",
    "    \n",
    "    global data = Data_M5(y, K_axis, S_axis, G_axis, K, S, G, valid_idx)\n",
    "    @info data.y |> size\n",
    "end"
   ]
  },
  {
   "cell_type": "markdown",
   "id": "cd5814c0-93cc-43d8-94b6-c0cc7b41b470",
   "metadata": {},
   "source": [
    "### Initial draw"
   ]
  },
  {
   "cell_type": "code",
   "execution_count": 7,
   "id": "c326b77e-4af7-420a-b0c1-1784c2258e84",
   "metadata": {},
   "outputs": [
    {
     "data": {
      "text/plain": [
       "Model (generic function with 2 methods)"
      ]
     },
     "execution_count": 7,
     "metadata": {},
     "output_type": "execute_result"
    }
   ],
   "source": [
    "@model function Model(\n",
    "        data::Data_M5,\n",
    "        leave_g::Vector{String},\n",
    "        ϕ::Union{Float64, Int64},\n",
    "    )\n",
    "    \n",
    "    L ~ filldist(Normal(), data.S, data.S)\n",
    "    L = L .* [i >= j for i=1:data.S, j=1:data.S]\n",
    "    α_s ~ MvNormal(I(data.S))\n",
    "    α_g ~ MvNormal(I(data.G))\n",
    "    X_g = data.G_axis * α_g\n",
    "    \n",
    "    for (k_i, k) in enumerate(data.K_axis)\n",
    "        _power = k ∈ leave_g ? (1 - ϕ) : 1\n",
    "        μ = α_s .+ X_g[k_i]\n",
    "        log_ℓ = _power * logpdf(MvNormal(I(data.S)), L \\ (data.y[:k => k] - μ))\n",
    "        Turing.@addlogprob! log_ℓ\n",
    "    end\n",
    "end"
   ]
  },
  {
   "cell_type": "code",
   "execution_count": 111,
   "id": "3c2f93ef-b408-42d2-86c2-cc9e62bdcf5d",
   "metadata": {},
   "outputs": [
    {
     "name": "stderr",
     "output_type": "stream",
     "text": [
      "\u001b[33m\u001b[1m┌ \u001b[22m\u001b[39m\u001b[33m\u001b[1mWarning: \u001b[22m\u001b[39mProgressMeter by default refresh meters with additional information in IJulia via `IJulia.clear_output`, which clears all outputs in the cell. \n",
      "\u001b[33m\u001b[1m│ \u001b[22m\u001b[39m - To prevent this behaviour, do `ProgressMeter.ijulia_behavior(:append)`. \n",
      "\u001b[33m\u001b[1m│ \u001b[22m\u001b[39m - To disable this warning message, do `ProgressMeter.ijulia_behavior(:clear)`.\n",
      "\u001b[33m\u001b[1m└ \u001b[22m\u001b[39m\u001b[90m@ ProgressMeter C:\\Users\\o6m1g\\.julia\\packages\\ProgressMeter\\kVZZH\\src\\ProgressMeter.jl:594\u001b[39m\n",
      "\u001b[32mSampling 100%|███████████████████████████████| Time: 0:10:25\u001b[39m\n",
      "\u001b[34m  iterations:                                   2000\u001b[39m\n",
      "\u001b[34m  ratio_divergent_transitions:                  0.0\u001b[39m\n",
      "\u001b[34m  ratio_divergent_transitions_during_adaption:  0.01\u001b[39m\n",
      "\u001b[34m  n_steps:                                      15\u001b[39m\n",
      "\u001b[34m  is_accept:                                    true\u001b[39m\n",
      "\u001b[34m  acceptance_rate:                              0.9838965463548828\u001b[39m\n",
      "\u001b[34m  log_density:                                  -2222.1859915621462\u001b[39m\n",
      "\u001b[34m  hamiltonian_energy:                           2277.9372891586877\u001b[39m\n",
      "\u001b[34m  hamiltonian_energy_error:                     -0.31841900439712845\u001b[39m\n",
      "\u001b[34m  max_hamiltonian_energy_error:                 -0.7684500539030523\u001b[39m\n",
      "\u001b[34m  tree_depth:                                   4\u001b[39m\n",
      "\u001b[34m  numerical_error:                              false\u001b[39m\n",
      "\u001b[34m  step_size:                                    0.32236469434807097\u001b[39m\n",
      "\u001b[34m  nom_step_size:                                0.32236469434807097\u001b[39m\n",
      "\u001b[34m  is_adapt:                                     false\u001b[39m\n",
      "\u001b[34m  mass_matrix:                                  DiagEuclideanMetric([0.20952218831612618, 0.514 ...])\u001b[39m\n",
      "\u001b[36m\u001b[1m┌ \u001b[22m\u001b[39m\u001b[36m\u001b[1mInfo: \u001b[22m\u001b[39mFinished 2000 sampling steps for 1 chains in 625.6553448 (s)\n",
      "\u001b[36m\u001b[1m│ \u001b[22m\u001b[39m  h = Hamiltonian(metric=DiagEuclideanMetric([0.20952218831612618, 0.514 ...]), kinetic=GaussianKinetic())\n",
      "\u001b[36m\u001b[1m│ \u001b[22m\u001b[39m  κ = HMCKernel{AdvancedHMC.FullMomentumRefreshment, Trajectory{MultinomialTS, Leapfrog{Float64}, GeneralisedNoUTurn{Float64}}}(AdvancedHMC.FullMomentumRefreshment(), Trajectory{MultinomialTS}(integrator=Leapfrog(ϵ=0.322), tc=GeneralisedNoUTurn{Float64}(10, 1000.0)))\n",
      "\u001b[36m\u001b[1m│ \u001b[22m\u001b[39m  EBFMI_est = 0.1805992528543711\n",
      "\u001b[36m\u001b[1m└ \u001b[22m\u001b[39m  average_acceptance_rate = 0.827117877437771\n"
     ]
    }
   ],
   "source": [
    "let\n",
    "    _model = Model(data, [\"none\"], 0)\n",
    "    \n",
    "    ℓπ = LogDensityFunction(_model)\n",
    "    DynamicPPL.link!!(ℓπ.varinfo, _model)\n",
    "    \n",
    "    D = LogDensityProblems.dimension(ℓπ)\n",
    "    metric = DiagEuclideanMetric(D)\n",
    "    hamiltonian = Hamiltonian(metric, ℓπ)\n",
    "    \n",
    "    n_samples, n_burn, n_adapts = 1_000, 1_000, 1_000\n",
    "    initial_θ = ones(D)\n",
    "    initial_ϵ = find_good_stepsize(hamiltonian, initial_θ)\n",
    "    integrator = Leapfrog(initial_ϵ)\n",
    "    \n",
    "    # kernel = HMCKernel(Trajectory{EndPointTS}(integrator, FixedNSteps(100)))\n",
    "    # adaptor = NoAdaptation()\n",
    "    kernel = HMCKernel(Trajectory{MultinomialTS}(integrator, GeneralisedNoUTurn()))\n",
    "    adaptor = StanHMCAdaptor(MassMatrixAdaptor(metric), StepSizeAdaptor(0.8, integrator))\n",
    "    \n",
    "    samples, stats = sample(hamiltonian, kernel, initial_θ, n_samples + n_burn, adaptor, n_adapts; progress=true)\n",
    "\n",
    "    global chain = samples[n_burn+1:1:end] .|> inverse(bijector(_model))\n",
    "end;"
   ]
  },
  {
   "cell_type": "code",
   "execution_count": 112,
   "id": "a93987b4-37d5-49fa-b7e4-4d56caac94d7",
   "metadata": {},
   "outputs": [],
   "source": [
    "save(\"output/M5/chain.jld\", \"data\", chain)"
   ]
  },
  {
   "cell_type": "markdown",
   "id": "a39ccb34-334b-46c5-b6db-1c9c6de160b3",
   "metadata": {},
   "source": [
    "### Naive LGO"
   ]
  },
  {
   "cell_type": "code",
   "execution_count": 113,
   "id": "ef635552-6d44-4e25-b4b2-efb9e0edd026",
   "metadata": {},
   "outputs": [
    {
     "name": "stderr",
     "output_type": "stream",
     "text": [
      "\u001b[33m\u001b[1m┌ \u001b[22m\u001b[39m\u001b[33m\u001b[1mWarning: \u001b[22m\u001b[39mProgressMeter by default refresh meters with additional information in IJulia via `IJulia.clear_output`, which clears all outputs in the cell. \n",
      "\u001b[33m\u001b[1m│ \u001b[22m\u001b[39m - To prevent this behaviour, do `ProgressMeter.ijulia_behavior(:append)`. \n",
      "\u001b[33m\u001b[1m│ \u001b[22m\u001b[39m - To disable this warning message, do `ProgressMeter.ijulia_behavior(:clear)`.\n",
      "\u001b[33m\u001b[1m└ \u001b[22m\u001b[39m\u001b[90m@ ProgressMeter C:\\Users\\o6m1g\\.julia\\packages\\ProgressMeter\\kVZZH\\src\\ProgressMeter.jl:594\u001b[39m\n",
      "\u001b[32mSampling 100%|███████████████████████████████| Time: 0:10:37\u001b[39m\n",
      "\u001b[34m  iterations:                                   2000\u001b[39m\n",
      "\u001b[34m  ratio_divergent_transitions:                  0.0\u001b[39m\n",
      "\u001b[34m  ratio_divergent_transitions_during_adaption:  0.0\u001b[39m\n",
      "\u001b[34m  n_steps:                                      15\u001b[39m\n",
      "\u001b[34m  is_accept:                                    true\u001b[39m\n",
      "\u001b[34m  acceptance_rate:                              0.706696136254084\u001b[39m\n",
      "\u001b[34m  log_density:                                  -2028.7134970948885\u001b[39m\n",
      "\u001b[34m  hamiltonian_energy:                           2077.310093961844\u001b[39m\n",
      "\u001b[34m  hamiltonian_energy_error:                     0.38568482701339235\u001b[39m\n",
      "\u001b[34m  max_hamiltonian_energy_error:                 0.8590181867139108\u001b[39m\n",
      "\u001b[34m  tree_depth:                                   4\u001b[39m\n",
      "\u001b[34m  numerical_error:                              false\u001b[39m\n",
      "\u001b[34m  step_size:                                    0.30652206585325725\u001b[39m\n",
      "\u001b[34m  nom_step_size:                                0.30652206585325725\u001b[39m\n",
      "\u001b[34m  is_adapt:                                     false\u001b[39m\n",
      "\u001b[34m  mass_matrix:                                  DiagEuclideanMetric([0.24585075400650888, 0.490 ...])\u001b[39m\n",
      "\u001b[36m\u001b[1m┌ \u001b[22m\u001b[39m\u001b[36m\u001b[1mInfo: \u001b[22m\u001b[39mFinished 2000 sampling steps for 1 chains in 637.3224568 (s)\n",
      "\u001b[36m\u001b[1m│ \u001b[22m\u001b[39m  h = Hamiltonian(metric=DiagEuclideanMetric([0.24585075400650888, 0.490 ...]), kinetic=GaussianKinetic())\n",
      "\u001b[36m\u001b[1m│ \u001b[22m\u001b[39m  κ = HMCKernel{AdvancedHMC.FullMomentumRefreshment, Trajectory{MultinomialTS, Leapfrog{Float64}, GeneralisedNoUTurn{Float64}}}(AdvancedHMC.FullMomentumRefreshment(), Trajectory{MultinomialTS}(integrator=Leapfrog(ϵ=0.307), tc=GeneralisedNoUTurn{Float64}(10, 1000.0)))\n",
      "\u001b[36m\u001b[1m│ \u001b[22m\u001b[39m  EBFMI_est = 0.17871528737489562\n",
      "\u001b[36m\u001b[1m└ \u001b[22m\u001b[39m  average_acceptance_rate = 0.8287392338288155\n"
     ]
    }
   ],
   "source": [
    "times_M5 = Float64[]\n",
    "\n",
    "for (fold_i, leave_g) in data.valid_idx |> enumerate\n",
    "    @info \"Fold $(fold_i)\"\n",
    "    \n",
    "    _model = Model(data, leave_g, 1)\n",
    "    \n",
    "    ℓπ = LogDensityFunction(_model)\n",
    "    DynamicPPL.link!!(ℓπ.varinfo, _model)\n",
    "    \n",
    "    D = LogDensityProblems.dimension(ℓπ)\n",
    "    metric = DiagEuclideanMetric(D)\n",
    "    hamiltonian = Hamiltonian(metric, ℓπ)\n",
    "    \n",
    "    n_samples, n_burn, n_adapts = 1_000, 1_000, 1_000\n",
    "    initial_θ = ones(D)\n",
    "    initial_ϵ = find_good_stepsize(hamiltonian, initial_θ)\n",
    "    integrator = Leapfrog(initial_ϵ)\n",
    "    \n",
    "    # kernel = HMCKernel(Trajectory{EndPointTS}(integrator, FixedNSteps(100)))\n",
    "    # adaptor = NoAdaptation()\n",
    "    kernel = HMCKernel(Trajectory{MultinomialTS}(integrator, GeneralisedNoUTurn()))\n",
    "    adaptor = StanHMCAdaptor(MassMatrixAdaptor(metric), StepSizeAdaptor(0.8, integrator))\n",
    "    \n",
    "    time = @elapsed samples, stats = sample(hamiltonian, kernel, initial_θ, n_samples + n_burn, adaptor, n_adapts; progress=true)\n",
    "    push!(times_M5, time)\n",
    "    save(\"output/M5/times-mcmc.jld\", \"data\", times_M5)\n",
    "    \n",
    "    chain = samples[n_burn+1:1:end] .|> inverse(bijector(_model))\n",
    "    save(\"output/M5/chain_lgo-$(fold_i).jld\", \"data\", chain)\n",
    "end"
   ]
  },
  {
   "cell_type": "markdown",
   "id": "4941e09d-27ef-4d3b-9bad-31bcb3666092",
   "metadata": {},
   "source": [
    "### SMC-LGO"
   ]
  },
  {
   "cell_type": "code",
   "execution_count": 16,
   "id": "970f907e-31f3-4d2e-922c-646c41dafdb0",
   "metadata": {},
   "outputs": [],
   "source": [
    "chain = load(\"output/M5/chain.jld\")[\"data\"];"
   ]
  },
  {
   "cell_type": "code",
   "execution_count": 23,
   "id": "fa35052c-37db-4887-8f2a-bb53f792258c",
   "metadata": {},
   "outputs": [
    {
     "data": {
      "text/plain": [
       "SMCS_M5 (generic function with 1 method)"
      ]
     },
     "execution_count": 23,
     "metadata": {},
     "output_type": "execute_result"
    }
   ],
   "source": [
    "function SMCS_M5(chain::Vector{Vector{Float64}}, leave_g::Vector{String})\n",
    "    model = Model(data, leave_g, 0)\n",
    "    draws_0 = chain .|> bijector(model) |> vecvec2mat # unconstrain\n",
    "    \n",
    "    # Define problem dimensions\n",
    "    R = size(draws_0, 1)\n",
    "    D = size(draws_0, 2)\n",
    "    L = length(data.K_axis) # maximum\n",
    "    _names = sample(model, Prior(), 1).name_map.parameters .|> String\n",
    "    \n",
    "    # Obtain unconstrained prior draw\n",
    "    Θ_0 = NamedArray(\n",
    "        draws_0,\n",
    "        (1:R, _names),\n",
    "        (:n, :d),\n",
    "    )\n",
    "    \n",
    "    # Initialize containers\n",
    "    particles   = NamedArray(zeros(L+1, R, D), (0:L, 1:R, _names), (:l, :n, :d))\n",
    "    # log_weights = NamedArray(zeros(L+1, R), (0:L, 1:R), (:l, :n))\n",
    "    weights     = NamedArray(zeros(L+1, R), (0:L, 1:R), (:l, :n))\n",
    "    k̂           = nothing # NamedArray(zeros(L+1), 0:L, :l)\n",
    "    # mean_est  = NamedArray(zeros(L+1, D), (0:L, _names), (:l, :d))\n",
    "    # ESS         = NamedArray(zeros(L+1), 0:L, :l)\n",
    "    mcmc_flag   = NamedArray(zeros(L+1), 0:L, :l)\n",
    "    ϕ_history   = NamedArray(zeros(L+1), 0:L, :l)\n",
    "    \n",
    "    # Log weights normalizer\n",
    "    function _normalize(_log_w::Vector{Float64})::Vector{Float64}\n",
    "        # normalize log weights\n",
    "        _w = exp.(_log_w .- maximum(_log_w))\n",
    "        _w = _w / sum(_w)\n",
    "        _w\n",
    "    end\n",
    "\n",
    "    # ESS computer\n",
    "    function _ess(_w::Vector{Float64})::Float64\n",
    "        1 / sum(@. exp(2 * log(_w)))\n",
    "    end\n",
    "\n",
    "    # Log ratio\n",
    "    function log_G(ℓπ_0, ℓπ_1, l::Int, n::Int)::Float64\n",
    "        _particle = particles[:l => l-1, :n => n]\n",
    "        log_γ_0 = LogDensityProblems.logdensity(ℓπ_0, _particle)\n",
    "        log_γ_1 = LogDensityProblems.logdensity(ℓπ_1, _particle)\n",
    "        log_γ_1 - log_γ_0\n",
    "    end\n",
    "\n",
    "    # MCMC \n",
    "    function _move(initial_θ::Vector{Float64},\n",
    "            n_samples::Int, n_adapts::Int,\n",
    "            metric, hamiltonian, initial_ϵ)::Vector{Float64}\n",
    "        #initial_ϵ = find_good_stepsize(hamiltonian, initial_θ)\n",
    "        integrator = Leapfrog(initial_ϵ)\n",
    "        #kernel = HMCKernel(Trajectory{MultinomialTS}(integrator, GeneralisedNoUTurn()))\n",
    "        adaptor = StanHMCAdaptor(MassMatrixAdaptor(metric), StepSizeAdaptor(0.8, integrator))\n",
    "        kernel = HMCKernel(Trajectory{EndPointTS}(integrator, FixedNSteps(15)))\n",
    "        #adaptor = NoAdaptation()\n",
    "        samples, stats = sample(hamiltonian, kernel, initial_θ, n_samples, adaptor, n_adapts;\n",
    "            verbose=false, progress=false)\n",
    "        samples[end]#, stats[end]\n",
    "    end\n",
    "    \n",
    "    # Set initial values, starting index\n",
    "    particles[:l => 0] = Θ_0 # sample from prior\n",
    "    weights[:l => 0] = repeat([1/R], R)\n",
    "    ϕ_history[:l => 0] = 0.\n",
    "    \n",
    "    time = @elapsed for l in 1:L\n",
    "        # Inherit case-deleted model from previous iteration\n",
    "        model_0 = Model(data, leave_g, ϕ_history[:l => l-1])\n",
    "        ℓπ_0 = LogDensityFunction(model_0)\n",
    "        DynamicPPL.link!!(ℓπ_0.varinfo, model_0)\n",
    "\n",
    "        # Define (until ↦ ESS) map\n",
    "        function _ϕ2reff(ϕ::Union{Float64, Int64})::Float64\n",
    "            @assert 0 <= ϕ <= 1 # data.N_g[leave_g]\n",
    "            model_1 = Model(data, leave_g, ϕ)\n",
    "            ℓπ_1 = LogDensityFunction(model_1)\n",
    "            DynamicPPL.link!!(ℓπ_1.varinfo, model_1)\n",
    "            \n",
    "            _log_weights = [log_G(ℓπ_0, ℓπ_1, l, n) for n in 1:R]\n",
    "            _log_weights = _log_weights .- maximum(_log_weights)\n",
    "            \n",
    "            _ESS = _log_weights |> _normalize |> _ess\n",
    "            _ESS - 0.25R\n",
    "        end\n",
    "        \n",
    "        # Initialize next distribution parameter\n",
    "        ϕ_1 = nothing\n",
    "        \n",
    "        # Case 1: ESS is above threshold\n",
    "        if _ϕ2reff(1) > 0\n",
    "            # Define next as final distribution\n",
    "            ϕ_1 = 1\n",
    "            \n",
    "            # Compute log weights\n",
    "            model_1 = Model(data, leave_g, ϕ_1)\n",
    "            ℓπ_1 = LogDensityFunction(model_1)\n",
    "            DynamicPPL.link!!(ℓπ_1.varinfo, model_1)\n",
    "            _log_weights = [log_G(ℓπ_0, ℓπ_1, l, n) for n in 1:R]\n",
    "            _log_weights = _log_weights .- maximum(_log_weights)\n",
    "\n",
    "            # Adaptive\n",
    "            _psis = psis(_log_weights; warn=false)\n",
    "\n",
    "            # Case 1-1: PSIS\n",
    "            if false#_psis.pareto_shape < 0.7\n",
    "                mcmc_flag[:l => l] = false\n",
    "                @info \"ϕ=$(ϕ_1), PSIS\"\n",
    "                \n",
    "                # (a) Without resampling\n",
    "                particles[:l => l] = particles[:l => l-1]\n",
    "                weights[:l => l] = _psis.log_weights |> _normalize\n",
    "\n",
    "                # (b) With resampling\n",
    "                # A_0 = wsample(1:R, _log_weights |> _normalize, R)\n",
    "                # particles[:l => l] = particles[:l => l-1, :n => A_0]\n",
    "                # weights[:l => l] = repeat([1/R], R)\n",
    "                \n",
    "                k̂ = _psis.pareto_shape\n",
    "                ϕ_history[:l => l] = ϕ_1\n",
    "            \n",
    "            # Case 1-2: MCMC kernel\n",
    "            else\n",
    "                mcmc_flag[:l => l] = true\n",
    "                @info \"ϕ=$(ϕ_1), MCMC\"\n",
    "                \n",
    "                # MCMC kernel\n",
    "                A_0 = wsample(1:R, _log_weights |> _normalize, R)\n",
    "                _begin = particles[:l => l-1, :n => A_0]\n",
    "                _end = particles[:l => l, :n => 1:R] |> similar\n",
    "                metric = DiagEuclideanMetric(D)\n",
    "                hamiltonian = Hamiltonian(metric, ℓπ_1)\n",
    "                initial_ϵ = find_good_stepsize(hamiltonian, _begin[1,:])\n",
    "                \n",
    "                # @showprogress for n in 1:R\n",
    "                p = ProgressMeter.Progress(R); @Threads.threads for n in 1:R\n",
    "                    _end[n,:] = _move(_begin[n,:], 1, 1, metric, hamiltonian, initial_ϵ)\n",
    "                    ProgressMeter.next!(p)\n",
    "                end\n",
    "                \n",
    "                particles[Name(l), :, :,] = _end\n",
    "                weights[:l => l] = repeat([1/R], R)\n",
    "                ϕ_history[:l => l] = ϕ_1\n",
    "            end\n",
    "            \n",
    "            # Break loop\n",
    "            L = l\n",
    "            break\n",
    "\n",
    "        # Case 2: ESS is below threshold\n",
    "        else\n",
    "            mcmc_flag[:l => l] = true\n",
    "            \n",
    "            # Find next distribution\n",
    "            ϕ_1 = find_zero(_ϕ2reff, (ϕ_history[:l => l-1] + 1e-4, 1), xtol=0.1, maxiters=10, verbose=true)\n",
    "            @info \"Targeting ϕ=$(ϕ_1)\"\n",
    "            \n",
    "            # Compute log weights\n",
    "            model_1 = Model(data, leave_g, ϕ_1)\n",
    "            ℓπ_1 = LogDensityFunction(model_1)\n",
    "            DynamicPPL.link!!(ℓπ_1.varinfo, model_1)\n",
    "            _log_weights = [log_G(ℓπ_0, ℓπ_1, l, n) for n in 1:R]\n",
    "            _log_weights = _log_weights .- maximum(_log_weights)\n",
    "\n",
    "            # MCMC kernel\n",
    "            A_0 = wsample(1:R, _log_weights |> _normalize, R)\n",
    "            _begin = particles[:l => l-1, :n => A_0]\n",
    "            _end = particles[:l => l, :n => 1:R] |> similar\n",
    "            metric = DiagEuclideanMetric(D)\n",
    "            hamiltonian = Hamiltonian(metric, ℓπ_1)\n",
    "            initial_ϵ = find_good_stepsize(hamiltonian, _begin[1,:])\n",
    "            \n",
    "            # @showprogress for n in 1:R\n",
    "            p = ProgressMeter.Progress(R); @Threads.threads for n in 1:R\n",
    "                _end[n,:] = _move(_begin[n,:], 1, 1, metric, hamiltonian, initial_ϵ)\n",
    "                ProgressMeter.next!(p)\n",
    "            end\n",
    "            \n",
    "            particles[Name(l), :, :,] = _end\n",
    "            weights[:l => l] = repeat([1/R], R)\n",
    "            ϕ_history[:l => l] = ϕ_1\n",
    "        end\n",
    "    end\n",
    "\n",
    "    particles = particles[Name(L),:,:]\n",
    "    weights   = weights[Name(L), :]\n",
    "    mcmc_flag = mcmc_flag[Name(L)]\n",
    "    ϕ_history = ϕ_history[Name.(0:L)]\n",
    "\n",
    "    (; R, D, L, particles, weights, ϕ_history, k̂, mcmc_flag, time)\n",
    "end"
   ]
  },
  {
   "cell_type": "code",
   "execution_count": 25,
   "id": "f3c08530-2fe7-408b-b0fe-f870d2b30895",
   "metadata": {
    "scrolled": true
   },
   "outputs": [
    {
     "name": "stderr",
     "output_type": "stream",
     "text": [
      "\u001b[36m\u001b[1m[ \u001b[22m\u001b[39m\u001b[36m\u001b[1mInfo: \u001b[22m\u001b[39mFold: 1\n"
     ]
    },
    {
     "data": {
      "text/plain": [
       "Results of univariate zero finding:\n",
       "\n",
       "* Converged to: 0.4417306640624999\n",
       "* Algorithm: Bisection()\n",
       "* iterations: 10\n",
       "* function evaluations ≈ 13\n",
       "\n",
       "Trace:\n",
       "(a₀, b₀) = ( 0.010306249999999999, 1 )\n",
       "(a₁, b₁) = ( 0.103725, 1 )\n",
       "(a₂, b₂) = ( 0.33244999999999997, 1 )\n",
       "(a₃, b₃) = ( 0.33244999999999997, 0.58244999999999991 )\n",
       "(a₄, b₄) = ( 0.43683749999999993, 0.58244999999999991 )\n",
       "(a₅, b₅) = ( 0.43683749999999993, 0.48903124999999992 )\n",
       "(a₆, b₆) = ( 0.43683749999999993, 0.4629343749999999 )\n",
       "(a₇, b₇) = ( 0.43683749999999993, 0.44988593749999989 )\n",
       "(a₈, b₈) = ( 0.43683749999999993, 0.44336171874999991 )\n",
       "(a₉, b₉) = ( 0.44009960937499992, 0.44336171874999991 )\n",
       "(a₁₀, b₁₀) = ( 0.44009960937499992, 0.44173066406249989 )\n",
       "\n"
      ]
     },
     "metadata": {},
     "output_type": "display_data"
    },
    {
     "name": "stderr",
     "output_type": "stream",
     "text": [
      "\u001b[36m\u001b[1m[ \u001b[22m\u001b[39m\u001b[36m\u001b[1mInfo: \u001b[22m\u001b[39mTargeting ϕ=0.4417306640624999\n",
      "\u001b[32mProgress: 100%|█████████████████████████████████████████| Time: 0:01:56\u001b[39m\n"
     ]
    },
    {
     "data": {
      "text/plain": [
       "Results of univariate zero finding:\n",
       "\n",
       "* Converged to: 0.9596731533050535\n",
       "* Algorithm: Bisection()\n",
       "* iterations: 10\n",
       "* function evaluations ≈ 13\n",
       "\n",
       "Trace:\n",
       "(a₀, b₀) = ( 0.69183066406249982, 1 )\n",
       "(a₁, b₁) = ( 0.84591533203124991, 1 )\n",
       "(a₂, b₂) = ( 0.9229576660156249, 1 )\n",
       "(a₃, b₃) = ( 0.9229576660156249, 0.96147883300781245 )\n",
       "(a₄, b₄) = ( 0.94221824951171862, 0.96147883300781245 )\n",
       "(a₅, b₅) = ( 0.95184854125976548, 0.96147883300781245 )\n",
       "(a₆, b₆) = ( 0.95666368713378891, 0.96147883300781245 )\n",
       "(a₇, b₇) = ( 0.95907126007080068, 0.96147883300781245 )\n",
       "(a₈, b₈) = ( 0.95907126007080068, 0.96027504653930651 )\n",
       "(a₉, b₉) = ( 0.95907126007080068, 0.95967315330505354 )\n",
       "(a₁₀, b₁₀) = ( 0.95937220668792711, 0.95967315330505354 )\n",
       "\n"
      ]
     },
     "metadata": {},
     "output_type": "display_data"
    },
    {
     "name": "stderr",
     "output_type": "stream",
     "text": [
      "\u001b[36m\u001b[1m[ \u001b[22m\u001b[39m\u001b[36m\u001b[1mInfo: \u001b[22m\u001b[39mTargeting ϕ=0.9596731533050535\n",
      "\u001b[32mProgress: 100%|█████████████████████████████████████████| Time: 0:02:08\u001b[39m\n",
      "\u001b[36m\u001b[1m[ \u001b[22m\u001b[39m\u001b[36m\u001b[1mInfo: \u001b[22m\u001b[39mϕ=1, MCMC\n",
      "\u001b[32mProgress: 100%|█████████████████████████████████████████| Time: 0:02:08\u001b[39m\n",
      "\u001b[36m\u001b[1m[ \u001b[22m\u001b[39m\u001b[36m\u001b[1mInfo: \u001b[22m\u001b[39mFold: 2\n",
      "\u001b[36m\u001b[1m[ \u001b[22m\u001b[39m\u001b[36m\u001b[1mInfo: \u001b[22m\u001b[39mϕ=1, MCMC\n",
      "\u001b[32mProgress: 100%|█████████████████████████████████████████| Time: 0:02:06\u001b[39m\n",
      "\u001b[36m\u001b[1m[ \u001b[22m\u001b[39m\u001b[36m\u001b[1mInfo: \u001b[22m\u001b[39mFold: 3\n",
      "\u001b[36m\u001b[1m[ \u001b[22m\u001b[39m\u001b[36m\u001b[1mInfo: \u001b[22m\u001b[39mϕ=1, MCMC\n",
      "\u001b[32mProgress: 100%|█████████████████████████████████████████| Time: 0:01:55\u001b[39m\n",
      "\u001b[36m\u001b[1m[ \u001b[22m\u001b[39m\u001b[36m\u001b[1mInfo: \u001b[22m\u001b[39mFold: 4\n"
     ]
    },
    {
     "data": {
      "text/plain": [
       "Results of univariate zero finding:\n",
       "\n",
       "* Converged to: 0.6509542968749997\n",
       "* Algorithm: Bisection()\n",
       "* iterations: 10\n",
       "* function evaluations ≈ 13\n",
       "\n",
       "Trace:\n",
       "(a₀, b₀) = ( 0.010306249999999999, 1 )\n",
       "(a₁, b₁) = ( 0.103725, 1 )\n",
       "(a₂, b₂) = ( 0.33244999999999997, 1 )\n",
       "(a₃, b₃) = ( 0.58244999999999991, 1 )\n",
       "(a₄, b₄) = ( 0.58244999999999991, 0.79122499999999996 )\n",
       "(a₅, b₅) = ( 0.58244999999999991, 0.68683749999999988 )\n",
       "(a₆, b₆) = ( 0.63464374999999984, 0.68683749999999988 )\n",
       "(a₇, b₇) = ( 0.63464374999999984, 0.66074062499999986 )\n",
       "(a₈, b₈) = ( 0.64769218749999979, 0.66074062499999986 )\n",
       "(a₉, b₉) = ( 0.64769218749999979, 0.65421640624999977 )\n",
       "(a₁₀, b₁₀) = ( 0.64769218749999979, 0.65095429687499973 )\n",
       "\n"
      ]
     },
     "metadata": {},
     "output_type": "display_data"
    },
    {
     "name": "stderr",
     "output_type": "stream",
     "text": [
      "\u001b[36m\u001b[1m[ \u001b[22m\u001b[39m\u001b[36m\u001b[1mInfo: \u001b[22m\u001b[39mTargeting ϕ=0.6509542968749997\n",
      "\u001b[32mProgress: 100%|█████████████████████████████████████████| Time: 0:02:11\u001b[39m\n",
      "\u001b[36m\u001b[1m[ \u001b[22m\u001b[39m\u001b[36m\u001b[1mInfo: \u001b[22m\u001b[39mϕ=1, MCMC\n",
      "\u001b[32mProgress: 100%|█████████████████████████████████████████| Time: 0:02:13\u001b[39m\n",
      "\u001b[36m\u001b[1m[ \u001b[22m\u001b[39m\u001b[36m\u001b[1mInfo: \u001b[22m\u001b[39mFold: 5\n",
      "\u001b[36m\u001b[1m[ \u001b[22m\u001b[39m\u001b[36m\u001b[1mInfo: \u001b[22m\u001b[39mϕ=1, MCMC\n",
      "\u001b[32mProgress: 100%|█████████████████████████████████████████| Time: 0:02:05\u001b[39m\n",
      "\u001b[36m\u001b[1m[ \u001b[22m\u001b[39m\u001b[36m\u001b[1mInfo: \u001b[22m\u001b[39mFold: 6\n",
      "\u001b[36m\u001b[1m[ \u001b[22m\u001b[39m\u001b[36m\u001b[1mInfo: \u001b[22m\u001b[39mϕ=1, MCMC\n",
      "\u001b[32mProgress: 100%|█████████████████████████████████████████| Time: 0:01:48\u001b[39m\n",
      "\u001b[36m\u001b[1m[ \u001b[22m\u001b[39m\u001b[36m\u001b[1mInfo: \u001b[22m\u001b[39mFold: 7\n",
      "\u001b[36m\u001b[1m[ \u001b[22m\u001b[39m\u001b[36m\u001b[1mInfo: \u001b[22m\u001b[39mϕ=1, MCMC\n",
      "\u001b[32mProgress: 100%|█████████████████████████████████████████| Time: 0:02:07\u001b[39m\n",
      "\u001b[36m\u001b[1m[ \u001b[22m\u001b[39m\u001b[36m\u001b[1mInfo: \u001b[22m\u001b[39mFold: 8\n",
      "\u001b[36m\u001b[1m[ \u001b[22m\u001b[39m\u001b[36m\u001b[1mInfo: \u001b[22m\u001b[39mϕ=1, MCMC\n",
      "\u001b[32mProgress: 100%|█████████████████████████████████████████| Time: 0:02:02\u001b[39m\n",
      "\u001b[36m\u001b[1m[ \u001b[22m\u001b[39m\u001b[36m\u001b[1mInfo: \u001b[22m\u001b[39mFold: 9\n"
     ]
    },
    {
     "data": {
      "text/plain": [
       "Results of univariate zero finding:\n",
       "\n",
       "* Converged to: 0.8466808593749998\n",
       "* Algorithm: Bisection()\n",
       "* iterations: 10\n",
       "* function evaluations ≈ 13\n",
       "\n",
       "Trace:\n",
       "(a₀, b₀) = ( 0.010306249999999999, 1 )\n",
       "(a₁, b₁) = ( 0.103725, 1 )\n",
       "(a₂, b₂) = ( 0.33244999999999997, 1 )\n",
       "(a₃, b₃) = ( 0.58244999999999991, 1 )\n",
       "(a₄, b₄) = ( 0.79122499999999996, 1 )\n",
       "(a₅, b₅) = ( 0.79122499999999996, 0.89561249999999992 )\n",
       "(a₆, b₆) = ( 0.84341874999999988, 0.89561249999999992 )\n",
       "(a₇, b₇) = ( 0.84341874999999988, 0.8695156249999999 )\n",
       "(a₈, b₈) = ( 0.84341874999999988, 0.85646718749999984 )\n",
       "(a₉, b₉) = ( 0.84341874999999988, 0.84994296874999986 )\n",
       "(a₁₀, b₁₀) = ( 0.84341874999999988, 0.84668085937499982 )\n",
       "\n"
      ]
     },
     "metadata": {},
     "output_type": "display_data"
    },
    {
     "name": "stderr",
     "output_type": "stream",
     "text": [
      "\u001b[36m\u001b[1m[ \u001b[22m\u001b[39m\u001b[36m\u001b[1mInfo: \u001b[22m\u001b[39mTargeting ϕ=0.8466808593749998\n",
      "\u001b[32mProgress: 100%|█████████████████████████████████████████| Time: 0:02:00\u001b[39m\n",
      "\u001b[36m\u001b[1m[ \u001b[22m\u001b[39m\u001b[36m\u001b[1mInfo: \u001b[22m\u001b[39mϕ=1, MCMC\n",
      "\u001b[32mProgress: 100%|█████████████████████████████████████████| Time: 0:02:00\u001b[39m\n",
      "\u001b[36m\u001b[1m[ \u001b[22m\u001b[39m\u001b[36m\u001b[1mInfo: \u001b[22m\u001b[39mFold: 10\n"
     ]
    },
    {
     "data": {
      "text/plain": [
       "Results of univariate zero finding:\n",
       "\n",
       "* Converged to: 0.6640027343749998\n",
       "* Algorithm: Bisection()\n",
       "* iterations: 10\n",
       "* function evaluations ≈ 13\n",
       "\n",
       "Trace:\n",
       "(a₀, b₀) = ( 0.010306249999999999, 1 )\n",
       "(a₁, b₁) = ( 0.103725, 1 )\n",
       "(a₂, b₂) = ( 0.33244999999999997, 1 )\n",
       "(a₃, b₃) = ( 0.58244999999999991, 1 )\n",
       "(a₄, b₄) = ( 0.58244999999999991, 0.79122499999999996 )\n",
       "(a₅, b₅) = ( 0.58244999999999991, 0.68683749999999988 )\n",
       "(a₆, b₆) = ( 0.63464374999999984, 0.68683749999999988 )\n",
       "(a₇, b₇) = ( 0.66074062499999986, 0.68683749999999988 )\n",
       "(a₈, b₈) = ( 0.66074062499999986, 0.67378906249999981 )\n",
       "(a₉, b₉) = ( 0.66074062499999986, 0.66726484374999984 )\n",
       "(a₁₀, b₁₀) = ( 0.66074062499999986, 0.66400273437499979 )\n",
       "\n"
      ]
     },
     "metadata": {},
     "output_type": "display_data"
    },
    {
     "name": "stderr",
     "output_type": "stream",
     "text": [
      "\u001b[36m\u001b[1m[ \u001b[22m\u001b[39m\u001b[36m\u001b[1mInfo: \u001b[22m\u001b[39mTargeting ϕ=0.6640027343749998\n",
      "\u001b[32mProgress: 100%|█████████████████████████████████████████| Time: 0:02:02\u001b[39m\n",
      "\u001b[36m\u001b[1m[ \u001b[22m\u001b[39m\u001b[36m\u001b[1mInfo: \u001b[22m\u001b[39mϕ=1, MCMC\n",
      "\u001b[32mProgress: 100%|█████████████████████████████████████████| Time: 0:02:09\u001b[39m\n"
     ]
    }
   ],
   "source": [
    "let\n",
    "    Random.seed!(1)\n",
    "    use_chain = chain\n",
    "    \n",
    "    R = length(use_chain)\n",
    "    particles = []\n",
    "    weights = []\n",
    "    ϕ_histories = []\n",
    "    k̂s = []\n",
    "    times = Float64[]\n",
    "    for (fold_i, leave_g) in data.valid_idx |> enumerate\n",
    "        @info \"Fold: $(fold_i)\"\n",
    "        results = SMCS_M5(use_chain, leave_g)\n",
    "        push!(times, results[:time])\n",
    "        push!(particles, results[:particles])\n",
    "        push!(weights, results[:weights])\n",
    "        push!(ϕ_histories, results[:ϕ_history])\n",
    "        push!(k̂s, results[:k̂])\n",
    "    end\n",
    "    \n",
    "    global particles_M5 = particles\n",
    "    global weights_M5 = weights\n",
    "    global histories_M5 = ϕ_histories\n",
    "    global k̂s_M5 = k̂s\n",
    "    global times_M5 = times\n",
    "end;"
   ]
  },
  {
   "cell_type": "code",
   "execution_count": 26,
   "id": "e316584f-d6c2-4925-be18-61f213217d9a",
   "metadata": {},
   "outputs": [],
   "source": [
    "save(\"output/M5/particles.jld\", \"data\", particles_M5 .|> Matrix)\n",
    "save(\"output/M5/weights.jld\", \"data\", weights_M5 .|> Vector)\n",
    "save(\"output/M5/histories.jld\", \"data\", histories_M5 .|> Vector)\n",
    "save(\"output/M5/khats.jld\", \"data\", k̂s_M5)\n",
    "save(\"output/M5/times.jld\", \"data\", times_M5)"
   ]
  },
  {
   "cell_type": "markdown",
   "id": "8380191a-9199-4e72-9318-42b9d6934c5e",
   "metadata": {},
   "source": [
    "### PSIS-LGO"
   ]
  },
  {
   "cell_type": "code",
   "execution_count": 8,
   "id": "12ba092a-c74a-4f0f-9bf2-50bb8180f74c",
   "metadata": {},
   "outputs": [
    {
     "data": {
      "text/plain": [
       "PSIS_M5 (generic function with 1 method)"
      ]
     },
     "execution_count": 8,
     "metadata": {},
     "output_type": "execute_result"
    }
   ],
   "source": [
    "function PSIS_M5(chain::Vector{Vector{Float64}}, leave_g::Vector{String})\n",
    "    model = Model(data, leave_g, 0)\n",
    "    draws_0 = chain .|> bijector(model) |> vecvec2mat # unconstrain\n",
    "    \n",
    "    # Define problem dimensions\n",
    "    R = size(draws_0, 1)\n",
    "    D = size(draws_0, 2)\n",
    "    L = 1 # maximum\n",
    "    _names = sample(model, Prior(), 1).name_map.parameters .|> String\n",
    "    \n",
    "    # Obtain unconstrained prior draw\n",
    "    Θ_0 = NamedArray(\n",
    "        draws_0,\n",
    "        (1:R, _names),\n",
    "        (:n, :d),\n",
    "    )\n",
    "    \n",
    "    # Initialize containers\n",
    "    particles   = NamedArray(zeros(L+1, R, D), (0:L, 1:R, _names), (:l, :n, :d))\n",
    "    # log_weights = NamedArray(zeros(L+1, R), (0:L, 1:R), (:l, :n))\n",
    "    weights     = NamedArray(zeros(L+1, R), (0:L, 1:R), (:l, :n))\n",
    "    k̂           = nothing # NamedArray(zeros(L+1), 0:L, :l)\n",
    "    \n",
    "    # Log weights normalizer\n",
    "    function _normalize(_log_w::Vector{Float64})::Vector{Float64}\n",
    "        # normalize log weights\n",
    "        _w = exp.(_log_w .- maximum(_log_w))\n",
    "        _w = _w / sum(_w)\n",
    "        _w\n",
    "    end\n",
    "\n",
    "    # Log ratio\n",
    "    function log_G(ℓπ_0, ℓπ_1, l::Int, n::Int)::Float64\n",
    "        _particle = particles[:l => l-1, :n => n]\n",
    "        log_γ_0 = LogDensityProblems.logdensity(ℓπ_0, _particle)\n",
    "        log_γ_1 = LogDensityProblems.logdensity(ℓπ_1, _particle)\n",
    "        log_γ_1 - log_γ_0\n",
    "    end\n",
    "    \n",
    "    # Set initial values, starting index\n",
    "    particles[:l => 0] = Θ_0 # sample from prior\n",
    "    weights[:l => 0] = repeat([1/R], R)\n",
    "\n",
    "    ϕ_0 = 0\n",
    "    model_0 = Model(data, leave_g, ϕ_0)\n",
    "    ℓπ_0 = LogDensityFunction(model_0)\n",
    "    DynamicPPL.link!!(ℓπ_0.varinfo, model_0)\n",
    "    \n",
    "    # Compute log weights\n",
    "    ϕ_1 = 1\n",
    "    model_1 = Model(data, leave_g, ϕ_1)\n",
    "    ℓπ_1 = LogDensityFunction(model_1)\n",
    "    DynamicPPL.link!!(ℓπ_1.varinfo, model_1)\n",
    "    \n",
    "    time = @elapsed (l = 1;\n",
    "        _log_weights = [log_G(ℓπ_0, ℓπ_1, l, n) for n in 1:R];\n",
    "        _log_weights = _log_weights .- maximum(_log_weights);\n",
    "        \n",
    "        # PSIS\n",
    "        _psis = psis(_log_weights; warn=false);\n",
    "        particles[:l => l] = particles[:l => l-1];\n",
    "        # weights[:l => l] = _log_weights |> _normalize;\n",
    "        weights[:l => l] = _psis.log_weights |> _normalize;\n",
    "    )\n",
    "    \n",
    "    k̂ = _psis.pareto_shape\n",
    "    particles = particles[Name(L),:,:]\n",
    "    weights   = weights[Name(L), :]\n",
    "\n",
    "    (; R, D, L, particles, weights, k̂, time)\n",
    "end"
   ]
  },
  {
   "cell_type": "code",
   "execution_count": 214,
   "id": "90d29055-8e5c-463c-a5cd-12025e65ad1e",
   "metadata": {
    "scrolled": true
   },
   "outputs": [
    {
     "name": "stderr",
     "output_type": "stream",
     "text": [
      "\u001b[36m\u001b[1m[ \u001b[22m\u001b[39m\u001b[36m\u001b[1mInfo: \u001b[22m\u001b[39mFold: 1\n",
      "\u001b[36m\u001b[1m[ \u001b[22m\u001b[39m\u001b[36m\u001b[1mInfo: \u001b[22m\u001b[39mFold: 2\n",
      "\u001b[36m\u001b[1m[ \u001b[22m\u001b[39m\u001b[36m\u001b[1mInfo: \u001b[22m\u001b[39mFold: 3\n",
      "\u001b[36m\u001b[1m[ \u001b[22m\u001b[39m\u001b[36m\u001b[1mInfo: \u001b[22m\u001b[39mFold: 4\n",
      "\u001b[36m\u001b[1m[ \u001b[22m\u001b[39m\u001b[36m\u001b[1mInfo: \u001b[22m\u001b[39mFold: 5\n",
      "\u001b[36m\u001b[1m[ \u001b[22m\u001b[39m\u001b[36m\u001b[1mInfo: \u001b[22m\u001b[39mFold: 6\n",
      "\u001b[36m\u001b[1m[ \u001b[22m\u001b[39m\u001b[36m\u001b[1mInfo: \u001b[22m\u001b[39mFold: 7\n",
      "\u001b[36m\u001b[1m[ \u001b[22m\u001b[39m\u001b[36m\u001b[1mInfo: \u001b[22m\u001b[39mFold: 8\n",
      "\u001b[36m\u001b[1m[ \u001b[22m\u001b[39m\u001b[36m\u001b[1mInfo: \u001b[22m\u001b[39mFold: 9\n",
      "\u001b[36m\u001b[1m[ \u001b[22m\u001b[39m\u001b[36m\u001b[1mInfo: \u001b[22m\u001b[39mFold: 10\n"
     ]
    }
   ],
   "source": [
    "let\n",
    "    Random.seed!(1)\n",
    "    use_chain = chain\n",
    "    \n",
    "    R = length(use_chain)\n",
    "    particles = []\n",
    "    weights = []\n",
    "    k̂s = []\n",
    "    times = Float64[]\n",
    "    for (fold_i, leave_g) in data.valid_idx |> enumerate\n",
    "        @info \"Fold: $fold_i\"\n",
    "        results = PSIS_M5(use_chain, leave_g)\n",
    "        push!(particles, results[:particles])\n",
    "        push!(weights, results[:weights])\n",
    "        push!(k̂s, results[:k̂])\n",
    "        push!(times, results[:time])\n",
    "    end\n",
    "    \n",
    "    global particles_M5 = particles\n",
    "    global weights_M5 = weights\n",
    "    global k̂s_M5 = k̂s\n",
    "    global times_M5 = times\n",
    "end;"
   ]
  },
  {
   "cell_type": "code",
   "execution_count": 215,
   "id": "4bab9d45-9670-418c-b835-9e8324181c71",
   "metadata": {},
   "outputs": [],
   "source": [
    "save(\"output/M5/particles-psis.jld\", \"data\", particles_M5 .|> Matrix)\n",
    "save(\"output/M5/weights-psis.jld\", \"data\", weights_M5 .|> Vector)\n",
    "save(\"output/M5/khats-psis.jld\", \"data\", k̂s_M5)\n",
    "save(\"output/M5/times-psis.jld\", \"data\", times_M5)"
   ]
  },
  {
   "cell_type": "markdown",
   "id": "8ea23613-6bd2-4884-a4fe-04ed8ed06f51",
   "metadata": {},
   "source": [
    "### Figures"
   ]
  },
  {
   "cell_type": "code",
   "execution_count": 27,
   "id": "0812b3a5-c48b-4be1-b2b2-2b965eae1c36",
   "metadata": {},
   "outputs": [
    {
     "data": {
      "text/plain": [
       "Compute_LPDs (generic function with 1 method)"
      ]
     },
     "execution_count": 27,
     "metadata": {},
     "output_type": "execute_result"
    }
   ],
   "source": [
    "function Compute_LPDs(results, leave_g::Vector{String}; constrain=true)::Vector{Float64}\n",
    "    \n",
    "    _model = Model(data, [\"none\"], 0)\n",
    "    _names = sample(_model, Prior(), 1).name_map.parameters .|> String\n",
    "    \n",
    "    function LPD(particle)::Float64\n",
    "        particle = NamedArray(\n",
    "            constrain ? particle |> inverse(bijector(_model)) : particle,\n",
    "            _names,\n",
    "            :d\n",
    "        )\n",
    "        L = [particle[:d => \"L[$(s_i),$(s_j)]\"] for s_i=1:data.S, s_j=1:data.S]\n",
    "        L = L .* [i >= j for i=1:data.S, j=1:data.S]\n",
    "        α_s = particle[:d => [\"α_s[$(s_i)]\" for s_i in 1:data.S]]\n",
    "        α_g = particle[:d => [\"α_g[$(g_i)]\" for g_i in 1:data.G]]\n",
    "        log_ℓ = 0.\n",
    "        X_g = data.G_axis * α_g\n",
    "        for (k_i, k) in enumerate(data.K_axis)\n",
    "            if k in leave_g\n",
    "                µ = α_s .+ X_g[k_i]\n",
    "                log_ℓ += logpdf(\n",
    "                    MvNormal(I(data.S)),\n",
    "                    L \\ (data.y[:k => k] - µ)\n",
    "                )\n",
    "            end\n",
    "        end\n",
    "        log_ℓ\n",
    "    end\n",
    "    \n",
    "    LPDs = Float64[]\n",
    "    for n in 1:results.R\n",
    "        push!(LPDs, results[:particles][:n => n] |> LPD)\n",
    "    end\n",
    "    \n",
    "    LPDs\n",
    "end"
   ]
  },
  {
   "cell_type": "code",
   "execution_count": 28,
   "id": "c80ffbb0-e70c-41b1-b473-8e720224ea99",
   "metadata": {},
   "outputs": [
    {
     "name": "stderr",
     "output_type": "stream",
     "text": [
      "\u001b[36m\u001b[1m[ \u001b[22m\u001b[39m\u001b[36m\u001b[1mInfo: \u001b[22m\u001b[39m1\n",
      "\u001b[36m\u001b[1m[ \u001b[22m\u001b[39m\u001b[36m\u001b[1mInfo: \u001b[22m\u001b[39m2\n",
      "\u001b[36m\u001b[1m[ \u001b[22m\u001b[39m\u001b[36m\u001b[1mInfo: \u001b[22m\u001b[39m3\n",
      "\u001b[36m\u001b[1m[ \u001b[22m\u001b[39m\u001b[36m\u001b[1mInfo: \u001b[22m\u001b[39m4\n",
      "\u001b[36m\u001b[1m[ \u001b[22m\u001b[39m\u001b[36m\u001b[1mInfo: \u001b[22m\u001b[39m5\n",
      "\u001b[36m\u001b[1m[ \u001b[22m\u001b[39m\u001b[36m\u001b[1mInfo: \u001b[22m\u001b[39m6\n",
      "\u001b[36m\u001b[1m[ \u001b[22m\u001b[39m\u001b[36m\u001b[1mInfo: \u001b[22m\u001b[39m7\n",
      "\u001b[36m\u001b[1m[ \u001b[22m\u001b[39m\u001b[36m\u001b[1mInfo: \u001b[22m\u001b[39m8\n",
      "\u001b[36m\u001b[1m[ \u001b[22m\u001b[39m\u001b[36m\u001b[1mInfo: \u001b[22m\u001b[39m9\n",
      "\u001b[36m\u001b[1m[ \u001b[22m\u001b[39m\u001b[36m\u001b[1mInfo: \u001b[22m\u001b[39m10\n"
     ]
    }
   ],
   "source": [
    "let\n",
    "    R = length(chain)\n",
    "    LPD = NamedArray(\n",
    "        zeros(R, data.valid_idx |> length),\n",
    "        (1:R, 1:length(data.valid_idx)),\n",
    "        (:n, :g)\n",
    "    )\n",
    "    LPD_true = LPD |> similar\n",
    "    LPD_estimate_smc = LPD |> similar\n",
    "    LPD_estimate_psis = LPD |> similar\n",
    "\n",
    "    weights_smc = load(\"output/M5/weights.jld\")[\"data\"]\n",
    "    weights_psis = load(\"output/M5/weights-psis.jld\")[\"data\"]\n",
    "    \n",
    "    chain_smc = load(\"output/M5/particles.jld\")[\"data\"]\n",
    "    chain_psis = load(\"output/M5/particles-psis.jld\")[\"data\"]\n",
    "\n",
    "    for (fold_i, leave_g) in enumerate(data.valid_idx)\n",
    "        @info fold_i\n",
    "        chain = load(\"output/M5/chain_lgo-$(fold_i).jld\")[\"data\"]\n",
    "        LPD_true[:,fold_i] = Compute_LPDs(\n",
    "            (; particles=NamedArray(chain, 1:R, :n), R=R),\n",
    "            leave_g;\n",
    "            constrain=false\n",
    "        )\n",
    "        \n",
    "        chain = chain_smc[fold_i] |> mat2vecvec\n",
    "        LPD_estimate_smc[:,fold_i] = Compute_LPDs(\n",
    "            (; particles=NamedArray(chain, 1:R, :n), R=R),\n",
    "            leave_g;\n",
    "            constrain=true\n",
    "        )\n",
    "        \n",
    "        chain = chain_psis[fold_i] |> mat2vecvec\n",
    "        R = length(chain)\n",
    "        LPD_estimate_psis[:,fold_i] = Compute_LPDs(\n",
    "            (; particles=NamedArray(chain, 1:R, :n), R=R),\n",
    "            leave_g;\n",
    "            constrain=true\n",
    "        )\n",
    "        #break\n",
    "    end\n",
    "    global LPD_true = LPD_true\n",
    "    global LPD_estimate_smc = LPD_estimate_smc\n",
    "    global LPD_estimate_psis = LPD_estimate_psis\n",
    "    global weights_smc = weights_smc\n",
    "    global weights_psis = weights_psis\n",
    "end;"
   ]
  },
  {
   "cell_type": "code",
   "execution_count": 30,
   "id": "c98fa4ef-ab4f-4d77-bcf4-eba6a77b927a",
   "metadata": {},
   "outputs": [
    {
     "data": {
      "text/plain": [
       "\"C:\\\\Users\\\\o6m1g\\\\Documents\\\\GitHub\\\\SMC-LGO-CV-private\\\\img\\\\M5.pdf\""
      ]
     },
     "execution_count": 30,
     "metadata": {},
     "output_type": "execute_result"
    }
   ],
   "source": [
    "let\n",
    "    _true = _mean(LPD_true; dims=1)\n",
    "    _smc = [sum(LPD_estimate_smc[:,fold_i] .* weights_smc[fold_i]) for (fold_i, g) in enumerate(data.valid_idx)]\n",
    "    _psis = [sum(LPD_estimate_psis[:,fold_i] .* weights_psis[fold_i]) for (fold_i, g) in enumerate(data.valid_idx)]\n",
    "    \n",
    "    _rmse_smc = abs.(_true - _smc) ./ abs.(_true)\n",
    "    _rmse_psis = abs.(_true - _psis) ./ abs.(_true)\n",
    "    _idx = _rmse_psis |> sortperm\n",
    "    plot(_rmse_smc[_idx], color=:red, label=\"\", linewidth=2, alpha=0.7, markershape=:o, ms=3, mswidth=0)\n",
    "    plot!(_rmse_psis[_idx], color=:green, label=\"\", linewidth=2, alpha=0.7, markershape=:square, ms=3, mswidth=0)\n",
    "    plt_1 = plot!(ylim=(0, 1.1maximum([_rmse_smc; _rmse_psis])))\n",
    "    annotate!(10-0.3, _rmse_psis[_idx][end], text(\"PSIS\", 7, :green, :right))\n",
    "    annotate!(10+0.3, 1.06_rmse_smc[_idx][end], text(\"SMC\", 7, :red, :bottom))\n",
    "\n",
    "    _data = (_rmse_psis[_idx] - _rmse_smc[_idx])\n",
    "    _max = _data .|> abs |> maximum; _max = 1.2_max\n",
    "    plt_2 = plot(_data, label=\"\", color=:black, markershape=:o)\n",
    "    plt_1 = plot(plt_1\n",
    "        layout=grid(2,1,heights=[0.55, 0.45]),\n",
    "        xticks=1:length(data.valid_idx),\n",
    "        xlabel=[\"\" \" \"],\n",
    "            title=[\"Relative error\" \"Difference\"])\n",
    "\n",
    "    time_mcmc = load(\"output/M5/times-mcmc.jld\")[\"data\"]/60\n",
    "    time_smc = load(\"output/M5/times.jld\")[\"data\"]/60\n",
    "    time_psis = load(\"output/M5/times-psis.jld\")[\"data\"]/60\n",
    "    \n",
    "    _data = [time_mcmc time_smc time_psis][_idx,:]\n",
    "    plot(_data)\n",
    "    annotate!(7, time_mcmc[_idx][7], text(\"MCMC\", :blue, 7, :bottom))\n",
    "    annotate!(7, time_smc[_idx][7], text(\"SMC\", :red, 7, :bottom))\n",
    "    annotate!(7, time_psis[_idx][7], text(\"PSIS\", :green, 7, :bottom))\n",
    "    plt_2 = plot(plot!(), plot(cumsum(_data; dims=1));\n",
    "        layout=grid(2,1,heights=[0.55, 0.45]),\n",
    "        color=[:blue :red :green],\n",
    "        title=[\"Runtime [min.]\" \"Cumulative\"],\n",
    "        label=\"\",\n",
    "        ylim=[(0, 1.2maximum(_data)) (0, 1.2maximum(cumsum(_data; dims=1)))],\n",
    "        linewidth=2,\n",
    "        xticks=1:length(data.valid_idx),\n",
    "        xlabel=[\"\" \"Group \"* L\"K\" * \"-fold index\"],\n",
    "    )\n",
    "    \n",
    "    \n",
    "    histories = load(\"output/M5/histories.jld\")[\"data\"][_idx]\n",
    "    plot(ymirror=false)\n",
    "    for (g, history) in enumerate(histories)\n",
    "        for ℓ in history\n",
    "            if 0 < ℓ < 1\n",
    "                annotate!(g - 0.6, ℓ - 0.06, text(round(ℓ; digits=2), :black, :bottom, 6))\n",
    "            end\n",
    "        end\n",
    "        scatter!(repeat([g], length(history)), history, ms=3, mswidth=0.1, color=:red, label=\"\")\n",
    "    end\n",
    "    _offset = 0.00\n",
    "    plt_3 = plot!(\n",
    "        ylim=(0-_offset, 1+_offset),\n",
    "        yticks=([0, .5, 1], [L\"\\varphi = 0\", L\"\\uparrow~~\", L\"\\varphi = 1\"]),\n",
    "        xticks=1:length(data.valid_idx),\n",
    "        xlabel=\" \",\n",
    "        xtickfontsize=7,\n",
    "        title=\"Paths\",\n",
    "    )\n",
    "\n",
    "    plot(plt_1, plt_2, plt_3, layout=grid(1,3), size=(650,230),\n",
    "        bottommargin=2Plots.mm,\n",
    "        rightmargin=[0Plots.mm 0Plots.mm 0Plots.mm 0Plots.mm],\n",
    "        titlefontsize=11, xlabelfontsize=8\n",
    "    )\n",
    "    savefig(\"img/M5.pdf\")\n",
    "end"
   ]
  },
  {
   "cell_type": "code",
   "execution_count": null,
   "id": "b389cd52-83fb-40ad-8250-a9e237f7fd81",
   "metadata": {},
   "outputs": [],
   "source": []
  }
 ],
 "metadata": {
  "kernelspec": {
   "display_name": "Julia (8 threads) 1.10.4",
   "language": "julia",
   "name": "julia-_8-threads_-1.10"
  },
  "language_info": {
   "file_extension": ".jl",
   "mimetype": "application/julia",
   "name": "julia",
   "version": "1.10.4"
  }
 },
 "nbformat": 4,
 "nbformat_minor": 5
}
